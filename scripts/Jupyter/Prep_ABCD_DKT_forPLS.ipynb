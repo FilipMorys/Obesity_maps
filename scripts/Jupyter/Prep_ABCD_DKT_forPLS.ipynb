{
 "cells": [
  {
   "cell_type": "markdown",
   "metadata": {},
   "source": [
    "# Read in data"
   ]
  },
  {
   "cell_type": "code",
   "execution_count": 30,
   "metadata": {},
   "outputs": [
    {
     "name": "stderr",
     "output_type": "stream",
     "text": [
      "Loading required package: officer\n",
      "\n"
     ]
    }
   ],
   "source": [
    "if (!require(\"tidyverse\")) install.packages(\"tidyverse\")\n",
    "#if (!require(\"VIM\")) install.packages(\"VIM\")\n",
    "#if (!require(\"Amelia\")) install.packages(\"Amelia\")\n",
    "#if (!require(\"naniar\")) install.packages(\"naniar\")\n",
    "#if (!require(\"visdat\")) install.packages(\"visdat\")\n",
    "#if (!require(\"SparseM\")) install.packages(\"SparseM\")\n",
    "#if (!require(\"DataExplorer\")) install.packages(\"DataExplorer\")\n",
    "if (!require(\"janitor\")) install.packages(\"janitor\")\n",
    "#if (!require(\"tidySEM\")) install.packages(\"tidySEM\")\n",
    "#if (!require(\"semPlot\")) install.packages(\"semPlot\")\n",
    "#if (!require(\"lavaan\")) install.packages(\"lavaan\")\n",
    "#if (!require(\"lavaanPlot\")) install.packages(\"lavaanPlot\")\n",
    "#if (!require(\"pracma\")) install.packages(\"pracma\")  \n",
    "library(R.matlab)\n",
    "library(psych)\n",
    "if (!require(\"officer\")) install.packages(\"officer\")\n"
   ]
  },
  {
   "cell_type": "code",
   "execution_count": 4,
   "metadata": {},
   "outputs": [],
   "source": [
    "library(purrr)\n",
    "library(dplyr)\n",
    "library(childsds)\n",
    "library(R.matlab)\n"
   ]
  },
  {
   "cell_type": "code",
   "execution_count": 5,
   "metadata": {},
   "outputs": [],
   "source": [
    "data_list=list()\n",
    "\n",
    "files=c('abcd_ant01.txt', 'abcd_ssphy01.txt', 'abcd_lt01.txt', 'abcd_bkfs01.txt', 'abcd_rhds01.txt',\n",
    "       'abcd_nsc01.txt', 'pdem02.txt', 'abcd_yrb01.txt', 'abcd_mhy02.txt', 'cct01.txt', 'abcd_yddss01.txt',\n",
    "       'abcd_ps01.txt', 'abcd_yest01.txt', 'abcd_tbss01.txt', 'lmtp201.txt', 'abcd_ybd01.txt',\n",
    "       'abcd_bp01.txt', 'abcd_dmriqc01.txt', 'abcd_fsurfqc01.txt','abcd_smrip10201.txt','abcd_dti_p101.txt',\n",
    "       'abcd_lpds01.txt','acspsw03.txt')\n",
    "\n",
    "for (i in 1:length(files)){\n",
    "    data = readLines(paste(\"/dagher/dagher9/filip/ABCD/Package_1219524/\",files[i],sep=''))\n",
    "    skip_second = data[-2]\n",
    "    data = read.csv(textConnection(skip_second), header = TRUE, stringsAsFactors = FALSE, sep='\\t')\n",
    "    drops <- c(\"dataset_id\", \"interview_date\",'collection_id','src_subject_id')\n",
    "    data = data[ , !(names(data) %in% drops)]    \n",
    "    data_list[[i]]=data\n",
    "}\n",
    "\n",
    "pcs=read.table('/dagher/dagher11/filip/Downloads/ABCD_pre-impute.eigenvec', header=T)\n",
    "prs=read.table('/dagher/dagher11/filip/Downloads/BMI_PRS_new.csv',header=T, sep=',')\n",
    "\n",
    "\n",
    "colnames(pcs)=c('FID','subjectkey',colnames(pcs)[3:ncol(pcs)])\n",
    "colnames(prs)=c('X','FID2','subjectkey','PRS','Z')\n",
    "data_list[[i+1]]=pcs\n",
    "data_list[[i+2]]=prs"
   ]
  },
  {
   "cell_type": "code",
   "execution_count": 6,
   "metadata": {},
   "outputs": [
    {
     "name": "stderr",
     "output_type": "stream",
     "text": [
      "\u001b[1m\u001b[22mJoining with `by = join_by(subjectkey, interview_age, sex, eventname, collection_title)`\n",
      "\u001b[1m\u001b[22mJoining with `by = join_by(subjectkey, interview_age, sex, eventname, collection_title, study_cohort_name)`\n",
      "\u001b[1m\u001b[22mJoining with `by = join_by(subjectkey, interview_age, sex, eventname, collection_title, study_cohort_name)`\n",
      "\u001b[1m\u001b[22mJoining with `by = join_by(subjectkey, interview_age, sex, eventname, collection_title, study_cohort_name)`\n",
      "\u001b[1m\u001b[22mJoining with `by = join_by(subjectkey, interview_age, sex, eventname, collection_title, study_cohort_name)`\n",
      "\u001b[1m\u001b[22mJoining with `by = join_by(subjectkey, interview_age, sex, eventname, collection_title, study_cohort_name)`\n",
      "\u001b[1m\u001b[22mJoining with `by = join_by(subjectkey, interview_age, sex, eventname, collection_title, study_cohort_name)`\n",
      "\u001b[1m\u001b[22mJoining with `by = join_by(subjectkey, interview_age, sex, eventname, collection_title, study_cohort_name)`\n",
      "\u001b[1m\u001b[22mJoining with `by = join_by(subjectkey, interview_age, sex, eventname, collection_title, study_cohort_name)`\n",
      "\u001b[1m\u001b[22mJoining with `by = join_by(subjectkey, interview_age, sex, eventname, collection_title, study_cohort_name)`\n",
      "\u001b[1m\u001b[22mJoining with `by = join_by(subjectkey, interview_age, sex, eventname, collection_title, study_cohort_name)`\n",
      "\u001b[1m\u001b[22mJoining with `by = join_by(subjectkey, interview_age, sex, eventname, collection_title, study_cohort_name)`\n",
      "\u001b[1m\u001b[22mJoining with `by = join_by(subjectkey, interview_age, sex, eventname, collection_title, study_cohort_name)`\n",
      "\u001b[1m\u001b[22mJoining with `by = join_by(subjectkey, interview_age, sex, eventname, collection_title, study_cohort_name)`\n",
      "\u001b[1m\u001b[22mJoining with `by = join_by(subjectkey, interview_age, sex, eventname, collection_title, study_cohort_name)`\n",
      "\u001b[1m\u001b[22mJoining with `by = join_by(subjectkey, interview_age, sex, eventname, collection_title, study_cohort_name)`\n",
      "\u001b[1m\u001b[22mJoining with `by = join_by(subjectkey, interview_age, sex, eventname, collection_title, study_cohort_name)`\n",
      "\u001b[1m\u001b[22mJoining with `by = join_by(subjectkey, interview_age, sex, eventname, collection_title, study_cohort_name)`\n",
      "\u001b[1m\u001b[22mJoining with `by = join_by(subjectkey, interview_age, sex, eventname, collection_title, study_cohort_name)`\n",
      "\u001b[1m\u001b[22mJoining with `by = join_by(subjectkey, interview_age, sex, eventname, collection_title, study_cohort_name)`\n",
      "\u001b[1m\u001b[22mJoining with `by = join_by(subjectkey, interview_age, sex, eventname, collection_title, study_cohort_name)`\n",
      "\u001b[1m\u001b[22mJoining with `by = join_by(subjectkey, interview_age, sex, eventname, collection_title, study_cohort_name)`\n",
      "\u001b[1m\u001b[22mJoining with `by = join_by(subjectkey)`\n",
      "\u001b[1m\u001b[22mJoining with `by = join_by(subjectkey)`\n"
     ]
    }
   ],
   "source": [
    "dataset = data_list %>% reduce(full_join)"
   ]
  },
  {
   "cell_type": "code",
   "execution_count": 7,
   "metadata": {},
   "outputs": [],
   "source": [
    "dataset$BMI=(dataset$anthroweight1lb/dataset$anthroheightcalc^2)*703\n",
    "dataset$age_yrs=dataset$interview_age/12\n",
    "dataset$BMI_SD=sds(value = dataset$BMI, age = dataset$age_yrs, sex = dataset$sex, \n",
    "                   male = \"M\", female = \"F\",ref = cdc.ref, item = \"bmi\",type = \"SDS\")\n"
   ]
  },
  {
   "cell_type": "code",
   "execution_count": 8,
   "metadata": {},
   "outputs": [],
   "source": [
    "dataset=(dataset[dataset$eventname=='baseline_year_1_arm_1',])#Remove some follow-up periods that we will not be using\n"
   ]
  },
  {
   "cell_type": "code",
   "execution_count": 9,
   "metadata": {},
   "outputs": [],
   "source": [
    "dataset=dataset[!(dataset$BMI>50 | dataset$BMI<10),]"
   ]
  },
  {
   "cell_type": "code",
   "execution_count": 10,
   "metadata": {
    "scrolled": true
   },
   "outputs": [],
   "source": [
    "dataset$BMI_SD[is.infinite(dataset$BMI_SD)] <- NA"
   ]
  },
  {
   "cell_type": "code",
   "execution_count": 11,
   "metadata": {},
   "outputs": [
    {
     "data": {
      "text/html": [
       "11849"
      ],
      "text/latex": [
       "11849"
      ],
      "text/markdown": [
       "11849"
      ],
      "text/plain": [
       "[1] 11849"
      ]
     },
     "metadata": {},
     "output_type": "display_data"
    },
    {
     "data": {
      "text/html": [
       "9837"
      ],
      "text/latex": [
       "9837"
      ],
      "text/markdown": [
       "9837"
      ],
      "text/plain": [
       "[1] 9837"
      ]
     },
     "metadata": {},
     "output_type": "display_data"
    }
   ],
   "source": [
    "siblings=dataset[duplicated(dataset$rel_family_id, incomparables=NA),]$subjectkey\n",
    "nrow(dataset)\n",
    "dataset=dataset[!dataset$subjectkey %in% siblings,]\n",
    "nrow(dataset)"
   ]
  },
  {
   "cell_type": "code",
   "execution_count": 12,
   "metadata": {},
   "outputs": [],
   "source": [
    "dataset=dataset[(dataset$fsqc_qc==1 | is.na(dataset$fsqc_qc)),] # important because there are NA values for QC for 1 year f-up"
   ]
  },
  {
   "cell_type": "code",
   "execution_count": 21,
   "metadata": {},
   "outputs": [],
   "source": [
    "dataset[dataset == 999] <- NA\n",
    "dataset[dataset == 777] <- NA"
   ]
  },
  {
   "cell_type": "code",
   "execution_count": 53,
   "metadata": {},
   "outputs": [],
   "source": [
    "write.table(dataset,'/dagher/dagher11/filip/Obesity_maps/data/dataset_ABCD.csv',sep=',',row.names=F)"
   ]
  },
  {
   "cell_type": "code",
   "execution_count": 33,
   "metadata": {},
   "outputs": [],
   "source": [
    "results=matrix(ncol=6,nrow=length(c(grep('thick_cdk',colnames(dataset))))) \n",
    "\n",
    "for (i in 1:length(c(grep('thick_cdk',colnames(dataset))))) \n",
    "{ \n",
    "    \n",
    "    m1=summary(lm(dataset[c(grep('thick_cdk',colnames(dataset)))][[i]] ~ \n",
    "          dataset$BMI_SD +\n",
    "          dataset$age_yrs +\n",
    "          dataset$sex + \n",
    "          dataset$site_id_l \n",
    "          #dataset$demo_prnt_ed_v2 +\n",
    "          #dataset$demo_comb_income_v2\n",
    "                 ))\n",
    "    \n",
    "    results[i,1]=colnames(dataset)[c(grep('thick_cdk',colnames(dataset)))][i] \n",
    "    results[i,2]=m1$coefficients[2,4] # p-value \n",
    "    results[i,3]=m1$coefficients[2,3] # t-value \n",
    "    results[i,4]=m1$coefficients[2,1] # sd for \n",
    "    results[i,5]=m1$coefficients[2,2] # estimate for \n",
    "    results[i,6]=ifelse(grepl(\"left\",results[i,1]),\"left\",\"right\") #save hemisphere \n",
    "\n",
    "}\n",
    "\n",
    "colnames(results)=c('Parcel','p-value', 't-value', 'SD', 'estimate', 'hemisphere')"
   ]
  },
  {
   "cell_type": "code",
   "execution_count": 24,
   "metadata": {},
   "outputs": [],
   "source": [
    "write.table(results,'/dagher/dagher11/filip/Obesity_maps/tables/ABCD_BMI_noSES.csv',sep=',',row.names=F,col.names=T)"
   ]
  },
  {
   "cell_type": "code",
   "execution_count": 27,
   "metadata": {},
   "outputs": [],
   "source": [
    "writeMat('/dagher/dagher11/filip/Obesity_maps/data/ABCD_CT_DKT_RH_noSES.mat','ABCD_CT_DKT_RH'=t(as.numeric(results[,3][c(36:64,67:68)])))\n",
    "writeMat('/dagher/dagher11/filip/Obesity_maps/data/ABCD_CT_DKT_LH_noSES.mat','ABCD_CT_DKT_LH'=t(as.numeric(results[,3][c(2:30,33:34)])))"
   ]
  },
  {
   "cell_type": "code",
   "execution_count": 26,
   "metadata": {},
   "outputs": [],
   "source": [
    "writeMat('/dagher/dagher11/filip/Obesity_maps/data/ABCD_CT_DKT_LHRH.mat_noSES','ABCD_CT_DKT_LHRH'=(as.numeric(results[,3][c(2:30, 33:34, 36:64,67:68)])))\n"
   ]
  },
  {
   "cell_type": "code",
   "execution_count": 35,
   "metadata": {},
   "outputs": [],
   "source": [
    "results=as.data.frame(results)\n",
    "\n",
    "rows_to_remove <- c(1, 31, 32, 35, 65, 67, 69, 70, 71)\n",
    "results <- results[-rows_to_remove, ]\n",
    "\n",
    "colnames(results)=c('Parcel','p-value', 't-value', 'SD', 'estimate', 'hemisphere')\n",
    "\n",
    "results$'p-value'=as.numeric(results$'p-value')\n",
    "results$'t-value'=as.numeric(results$'t-value')\n",
    "results$SD=as.numeric(results$SD)\n",
    "results$estimate=as.numeric(results$estimate)\n",
    "results$Parcel=c(\"Caudal Anterior Cingulate\", \"Caudal Middle Frontal\",\n",
    "\"Cuneus\", \"Entorhinal\",\n",
    "\"Fusiform\", \"Inferior Parietal\",\n",
    "\"Inferior Temporal\", \"Isthmus Cingulate\",\n",
    "\"Lateral Occipital\", \"Lateral Orbitofrontal\",\n",
    "\"Lingual\", \"Medial Orbitofrontal\",\n",
    "\"Middle Temporal\", \"Parahippocampal\",\n",
    "\"Paracentral\", \"Pars Opercularis\",\n",
    "\"Pars Orbitalis\", \"Pars Triangularis\",\n",
    "\"Pericalcarine\", \"Postcentral\",\n",
    "\"Posterior Cingulate\", \"Precentral\",\n",
    "\"Precuneus\", \"Rostral Anterior Cingulate\",\n",
    "\"Rostral Middle Frontal\", \"Superior Frontal\",\n",
    "\"Superior Parietal\", \"Superior Temporal\",\n",
    "\"Supramarginal\", \"Transverse Temporal\",\n",
    "\"Insula\", \"Caudal Anterior Cingulate\",\n",
    "\"Caudal Middle Frontal\", \"Cuneus\",\n",
    "\"Entorhinal\", \"Fusiform\",\n",
    "\"Inferior Parietal\", \"Inferior Temporal\",\n",
    "\"Isthmus Cingulate\", \"Lateral Occipital\",\n",
    "\"Lateral Orbitofrontal\", \"Lingual\",\n",
    "\"Medial Orbitofrontal\", \"Middle Temporal\",\n",
    "\"Parahippocampal\", \"Paracentral\",\n",
    "\"Pars Opercularis\", \"Pars Orbitalis\",\n",
    "\"Pars Triangularis\", \"Pericalcarine\",\n",
    "\"Postcentral\", \"Posterior Cingulate\",\n",
    "\"Precentral\", \"Precuneus\",\n",
    "\"Rostral Anterior Cingulate\", \"Rostral Middle Frontal\",\n",
    "\"Superior Frontal\", \"Superior Parietal\",\n",
    "\"Superior Temporal\", \"Supramarginal\",\n",
    "\"Transverse Temporal\", \"Insula\")\n",
    "results$hemisphere=NULL\n",
    "\n",
    "\n",
    "doc <- read_docx()\n",
    "results[, sapply(results, is.numeric)] <- round(results[, sapply(results, is.numeric)], 4)\n",
    "doc <- doc %>%\n",
    "  body_add_table(as.data.frame(results))\n",
    "\n",
    "print(doc, target = \"/dagher/dagher11/filip/Obesity_maps/tables/ABCD_BMInoSES.docx\")"
   ]
  },
  {
   "cell_type": "code",
   "execution_count": 41,
   "metadata": {},
   "outputs": [],
   "source": [
    "library(psych)"
   ]
  },
  {
   "cell_type": "code",
   "execution_count": 19,
   "metadata": {},
   "outputs": [
    {
     "data": {
      "text/html": [
       "<table class=\"dataframe\">\n",
       "<caption>A psych: 1 × 13</caption>\n",
       "<thead>\n",
       "\t<tr><th></th><th scope=col>vars</th><th scope=col>n</th><th scope=col>mean</th><th scope=col>sd</th><th scope=col>median</th><th scope=col>trimmed</th><th scope=col>mad</th><th scope=col>min</th><th scope=col>max</th><th scope=col>range</th><th scope=col>skew</th><th scope=col>kurtosis</th><th scope=col>se</th></tr>\n",
       "\t<tr><th></th><th scope=col>&lt;dbl&gt;</th><th scope=col>&lt;dbl&gt;</th><th scope=col>&lt;dbl&gt;</th><th scope=col>&lt;dbl&gt;</th><th scope=col>&lt;dbl&gt;</th><th scope=col>&lt;dbl&gt;</th><th scope=col>&lt;dbl&gt;</th><th scope=col>&lt;dbl&gt;</th><th scope=col>&lt;dbl&gt;</th><th scope=col>&lt;dbl&gt;</th><th scope=col>&lt;dbl&gt;</th><th scope=col>&lt;dbl&gt;</th><th scope=col>&lt;dbl&gt;</th></tr>\n",
       "</thead>\n",
       "<tbody>\n",
       "\t<tr><th scope=row>X1</th><td>1</td><td>9521</td><td>9.90724</td><td>0.6184078</td><td>9.916667</td><td>9.897608</td><td>0.86485</td><td>8.916667</td><td>11</td><td>2.083333</td><td>0.07181769</td><td>-1.249936</td><td>0.006337729</td></tr>\n",
       "</tbody>\n",
       "</table>\n"
      ],
      "text/latex": [
       "A psych: 1 × 13\n",
       "\\begin{tabular}{r|lllllllllllll}\n",
       "  & vars & n & mean & sd & median & trimmed & mad & min & max & range & skew & kurtosis & se\\\\\n",
       "  & <dbl> & <dbl> & <dbl> & <dbl> & <dbl> & <dbl> & <dbl> & <dbl> & <dbl> & <dbl> & <dbl> & <dbl> & <dbl>\\\\\n",
       "\\hline\n",
       "\tX1 & 1 & 9521 & 9.90724 & 0.6184078 & 9.916667 & 9.897608 & 0.86485 & 8.916667 & 11 & 2.083333 & 0.07181769 & -1.249936 & 0.006337729\\\\\n",
       "\\end{tabular}\n"
      ],
      "text/markdown": [
       "\n",
       "A psych: 1 × 13\n",
       "\n",
       "| <!--/--> | vars &lt;dbl&gt; | n &lt;dbl&gt; | mean &lt;dbl&gt; | sd &lt;dbl&gt; | median &lt;dbl&gt; | trimmed &lt;dbl&gt; | mad &lt;dbl&gt; | min &lt;dbl&gt; | max &lt;dbl&gt; | range &lt;dbl&gt; | skew &lt;dbl&gt; | kurtosis &lt;dbl&gt; | se &lt;dbl&gt; |\n",
       "|---|---|---|---|---|---|---|---|---|---|---|---|---|---|\n",
       "| X1 | 1 | 9521 | 9.90724 | 0.6184078 | 9.916667 | 9.897608 | 0.86485 | 8.916667 | 11 | 2.083333 | 0.07181769 | -1.249936 | 0.006337729 |\n",
       "\n"
      ],
      "text/plain": [
       "   vars n    mean    sd        median   trimmed  mad     min      max range   \n",
       "X1 1    9521 9.90724 0.6184078 9.916667 9.897608 0.86485 8.916667 11  2.083333\n",
       "   skew       kurtosis  se         \n",
       "X1 0.07181769 -1.249936 0.006337729"
      ]
     },
     "metadata": {},
     "output_type": "display_data"
    },
    {
     "data": {
      "text/html": [
       "<table class=\"dataframe\">\n",
       "<caption>A psych: 1 × 13</caption>\n",
       "<thead>\n",
       "\t<tr><th></th><th scope=col>vars</th><th scope=col>n</th><th scope=col>mean</th><th scope=col>sd</th><th scope=col>median</th><th scope=col>trimmed</th><th scope=col>mad</th><th scope=col>min</th><th scope=col>max</th><th scope=col>range</th><th scope=col>skew</th><th scope=col>kurtosis</th><th scope=col>se</th></tr>\n",
       "\t<tr><th></th><th scope=col>&lt;dbl&gt;</th><th scope=col>&lt;dbl&gt;</th><th scope=col>&lt;dbl&gt;</th><th scope=col>&lt;dbl&gt;</th><th scope=col>&lt;dbl&gt;</th><th scope=col>&lt;dbl&gt;</th><th scope=col>&lt;dbl&gt;</th><th scope=col>&lt;dbl&gt;</th><th scope=col>&lt;dbl&gt;</th><th scope=col>&lt;dbl&gt;</th><th scope=col>&lt;dbl&gt;</th><th scope=col>&lt;dbl&gt;</th><th scope=col>&lt;dbl&gt;</th></tr>\n",
       "</thead>\n",
       "<tbody>\n",
       "\t<tr><th scope=row>X1</th><td>1</td><td>9521</td><td>18.91856</td><td>4.218981</td><td>17.74372</td><td>18.3291</td><td>3.131453</td><td>10.49254</td><td>45.61689</td><td>35.12435</td><td>1.513433</td><td>2.998619</td><td>0.04323807</td></tr>\n",
       "</tbody>\n",
       "</table>\n"
      ],
      "text/latex": [
       "A psych: 1 × 13\n",
       "\\begin{tabular}{r|lllllllllllll}\n",
       "  & vars & n & mean & sd & median & trimmed & mad & min & max & range & skew & kurtosis & se\\\\\n",
       "  & <dbl> & <dbl> & <dbl> & <dbl> & <dbl> & <dbl> & <dbl> & <dbl> & <dbl> & <dbl> & <dbl> & <dbl> & <dbl>\\\\\n",
       "\\hline\n",
       "\tX1 & 1 & 9521 & 18.91856 & 4.218981 & 17.74372 & 18.3291 & 3.131453 & 10.49254 & 45.61689 & 35.12435 & 1.513433 & 2.998619 & 0.04323807\\\\\n",
       "\\end{tabular}\n"
      ],
      "text/markdown": [
       "\n",
       "A psych: 1 × 13\n",
       "\n",
       "| <!--/--> | vars &lt;dbl&gt; | n &lt;dbl&gt; | mean &lt;dbl&gt; | sd &lt;dbl&gt; | median &lt;dbl&gt; | trimmed &lt;dbl&gt; | mad &lt;dbl&gt; | min &lt;dbl&gt; | max &lt;dbl&gt; | range &lt;dbl&gt; | skew &lt;dbl&gt; | kurtosis &lt;dbl&gt; | se &lt;dbl&gt; |\n",
       "|---|---|---|---|---|---|---|---|---|---|---|---|---|---|\n",
       "| X1 | 1 | 9521 | 18.91856 | 4.218981 | 17.74372 | 18.3291 | 3.131453 | 10.49254 | 45.61689 | 35.12435 | 1.513433 | 2.998619 | 0.04323807 |\n",
       "\n"
      ],
      "text/plain": [
       "   vars n    mean     sd       median   trimmed mad      min      max     \n",
       "X1 1    9521 18.91856 4.218981 17.74372 18.3291 3.131453 10.49254 45.61689\n",
       "   range    skew     kurtosis se        \n",
       "X1 35.12435 1.513433 2.998619 0.04323807"
      ]
     },
     "metadata": {},
     "output_type": "display_data"
    },
    {
     "data": {
      "text/plain": [
       "\n",
       "   F    M \n",
       "4543 4978 "
      ]
     },
     "metadata": {},
     "output_type": "display_data"
    },
    {
     "data": {
      "text/html": [
       "<table class=\"dataframe\">\n",
       "<caption>A psych: 1 × 13</caption>\n",
       "<thead>\n",
       "\t<tr><th></th><th scope=col>vars</th><th scope=col>n</th><th scope=col>mean</th><th scope=col>sd</th><th scope=col>median</th><th scope=col>trimmed</th><th scope=col>mad</th><th scope=col>min</th><th scope=col>max</th><th scope=col>range</th><th scope=col>skew</th><th scope=col>kurtosis</th><th scope=col>se</th></tr>\n",
       "\t<tr><th></th><th scope=col>&lt;dbl&gt;</th><th scope=col>&lt;dbl&gt;</th><th scope=col>&lt;dbl&gt;</th><th scope=col>&lt;dbl&gt;</th><th scope=col>&lt;dbl&gt;</th><th scope=col>&lt;dbl&gt;</th><th scope=col>&lt;dbl&gt;</th><th scope=col>&lt;dbl&gt;</th><th scope=col>&lt;dbl&gt;</th><th scope=col>&lt;dbl&gt;</th><th scope=col>&lt;dbl&gt;</th><th scope=col>&lt;dbl&gt;</th><th scope=col>&lt;dbl&gt;</th></tr>\n",
       "</thead>\n",
       "<tbody>\n",
       "\t<tr><th scope=row>X1</th><td>1</td><td>9521</td><td>0.4490158</td><td>1.175252</td><td>0.4624532</td><td>0.4819788</td><td>1.225747</td><td>-6.968164</td><td>3.084819</td><td>10.05298</td><td>-0.4207062</td><td>0.6568662</td><td>0.01204452</td></tr>\n",
       "</tbody>\n",
       "</table>\n"
      ],
      "text/latex": [
       "A psych: 1 × 13\n",
       "\\begin{tabular}{r|lllllllllllll}\n",
       "  & vars & n & mean & sd & median & trimmed & mad & min & max & range & skew & kurtosis & se\\\\\n",
       "  & <dbl> & <dbl> & <dbl> & <dbl> & <dbl> & <dbl> & <dbl> & <dbl> & <dbl> & <dbl> & <dbl> & <dbl> & <dbl>\\\\\n",
       "\\hline\n",
       "\tX1 & 1 & 9521 & 0.4490158 & 1.175252 & 0.4624532 & 0.4819788 & 1.225747 & -6.968164 & 3.084819 & 10.05298 & -0.4207062 & 0.6568662 & 0.01204452\\\\\n",
       "\\end{tabular}\n"
      ],
      "text/markdown": [
       "\n",
       "A psych: 1 × 13\n",
       "\n",
       "| <!--/--> | vars &lt;dbl&gt; | n &lt;dbl&gt; | mean &lt;dbl&gt; | sd &lt;dbl&gt; | median &lt;dbl&gt; | trimmed &lt;dbl&gt; | mad &lt;dbl&gt; | min &lt;dbl&gt; | max &lt;dbl&gt; | range &lt;dbl&gt; | skew &lt;dbl&gt; | kurtosis &lt;dbl&gt; | se &lt;dbl&gt; |\n",
       "|---|---|---|---|---|---|---|---|---|---|---|---|---|---|\n",
       "| X1 | 1 | 9521 | 0.4490158 | 1.175252 | 0.4624532 | 0.4819788 | 1.225747 | -6.968164 | 3.084819 | 10.05298 | -0.4207062 | 0.6568662 | 0.01204452 |\n",
       "\n"
      ],
      "text/plain": [
       "   vars n    mean      sd       median    trimmed   mad      min       max     \n",
       "X1 1    9521 0.4490158 1.175252 0.4624532 0.4819788 1.225747 -6.968164 3.084819\n",
       "   range    skew       kurtosis  se        \n",
       "X1 10.05298 -0.4207062 0.6568662 0.01204452"
      ]
     },
     "metadata": {},
     "output_type": "display_data"
    }
   ],
   "source": [
    "describe(dataset$age_yrs)\n",
    "describe(dataset$BMI)\n",
    "table(dataset$sex)\n",
    "describe(dataset$BMI_SD)\n"
   ]
  },
  {
   "cell_type": "code",
   "execution_count": 43,
   "metadata": {},
   "outputs": [
    {
     "data": {
      "text/html": [
       "9533"
      ],
      "text/latex": [
       "9533"
      ],
      "text/markdown": [
       "9533"
      ],
      "text/plain": [
       "[1] 9533"
      ]
     },
     "metadata": {},
     "output_type": "display_data"
    }
   ],
   "source": [
    "nrow(dataset)"
   ]
  }
 ],
 "metadata": {
  "kernelspec": {
   "display_name": "mambaR",
   "language": "R",
   "name": "r4"
  },
  "language_info": {
   "codemirror_mode": "r",
   "file_extension": ".r",
   "mimetype": "text/x-r-source",
   "name": "R",
   "pygments_lexer": "r",
   "version": "4.3.1"
  }
 },
 "nbformat": 4,
 "nbformat_minor": 4
}
