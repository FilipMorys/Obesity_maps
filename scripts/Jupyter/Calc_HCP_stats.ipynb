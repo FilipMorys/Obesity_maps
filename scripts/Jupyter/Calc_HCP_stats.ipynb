{
 "cells": [
  {
   "cell_type": "code",
   "execution_count": 1,
   "id": "6d8e0202",
   "metadata": {},
   "outputs": [
    {
     "name": "stderr",
     "output_type": "stream",
     "text": [
      "R.matlab v3.7.0 (2022-08-25 21:52:34 UTC) successfully loaded. See ?R.matlab for help.\n",
      "\n",
      "\n",
      "Attaching package: ‘R.matlab’\n",
      "\n",
      "\n",
      "The following objects are masked from ‘package:base’:\n",
      "\n",
      "    getOption, isOpen\n",
      "\n",
      "\n",
      "\n",
      "Attaching package: ‘dplyr’\n",
      "\n",
      "\n",
      "The following objects are masked from ‘package:stats’:\n",
      "\n",
      "    filter, lag\n",
      "\n",
      "\n",
      "The following objects are masked from ‘package:base’:\n",
      "\n",
      "    intersect, setdiff, setequal, union\n",
      "\n",
      "\n"
     ]
    }
   ],
   "source": [
    "library(R.matlab)\n",
    "library(psych)\n",
    "library(officer)\n",
    "library(dplyr)"
   ]
  },
  {
   "cell_type": "markdown",
   "id": "7aa5f0e6",
   "metadata": {},
   "source": [
    "# HCP"
   ]
  },
  {
   "cell_type": "code",
   "execution_count": 2,
   "id": "7e002cf2",
   "metadata": {},
   "outputs": [],
   "source": [
    "data_beh=read.table('/dagher/dagher11/filip/Obesity_maps/data_old/analysis_noethn.fsgd',sep='\\t',header=T)\n",
    "data_thick_lh=read.table('/dagher/dagher11/filip/Obesity_maps/data_old/CT_BMI_LH.txt',sep='\\t',header=T)[1:32]\n",
    "data_thick_rh=read.table('/dagher/dagher11/filip/Obesity_maps/data_old/CT_BMI_RH.txt',sep='\\t',header=T)[2:32]\n",
    "data_thick=cbind(data_thick_lh,data_thick_rh)\n",
    "colnames(data_thick)=c('Subject',colnames(data_thick)[2:(ncol(data_thick))])"
   ]
  },
  {
   "cell_type": "code",
   "execution_count": 3,
   "id": "f700618a",
   "metadata": {},
   "outputs": [],
   "source": [
    "dataset=merge(data_beh, data_thick, by='Subject')"
   ]
  },
  {
   "cell_type": "code",
   "execution_count": 4,
   "id": "e89d2f9a",
   "metadata": {},
   "outputs": [],
   "source": [
    "write.table(dataset,'/dagher/dagher11/filip/Obesity_maps/data/dataset_HCP.csv',,sep=',',row.names=F)"
   ]
  },
  {
   "cell_type": "code",
   "execution_count": 5,
   "id": "b0a6687a",
   "metadata": {},
   "outputs": [],
   "source": [
    "results=matrix(ncol=6,nrow=length(c(grep('thickness',colnames(dataset))))) \n",
    "\n",
    "for (i in 1:length(c(grep('thickness',colnames(dataset))))) \n",
    "{ \n",
    "    \n",
    "    m1=summary(lm(dataset[c(grep('thickness',colnames(dataset)))][[i]] ~ \n",
    "          dataset$BMI +\n",
    "          dataset$Age +\n",
    "          dataset$Sex  \n",
    "          #dataset$Edu +\n",
    "          #dataset$Income\n",
    "                 ))\n",
    "    \n",
    "    results[i,1]=colnames(dataset)[c(grep('thickness',colnames(dataset)))][i] \n",
    "    results[i,2]=m1$coefficients[2,4] # p-value \n",
    "    results[i,3]=m1$coefficients[2,3] # t-value \n",
    "    results[i,4]=m1$coefficients[2,1] # sd for \n",
    "    results[i,5]=m1$coefficients[2,2] # estimate for \n",
    "    results[i,6]=ifelse(grepl(\"left\",results[i,1]),\"left\",\"right\") #save hemisphere\n",
    "\n",
    "}\n",
    "\n",
    "colnames(results)=c('Parcel','p-value', 't-value', 'SD', 'estimate', 'hemisphere')"
   ]
  },
  {
   "cell_type": "code",
   "execution_count": 6,
   "id": "e2939d4a-0194-4f89-9f20-96920bc6e260",
   "metadata": {},
   "outputs": [
    {
     "data": {
      "text/html": [
       "<table class=\"dataframe\">\n",
       "<caption>A matrix: 62 × 6 of type chr</caption>\n",
       "<thead>\n",
       "\t<tr><th scope=col>Parcel</th><th scope=col>p-value</th><th scope=col>t-value</th><th scope=col>SD</th><th scope=col>estimate</th><th scope=col>hemisphere</th></tr>\n",
       "</thead>\n",
       "<tbody>\n",
       "\t<tr><td>lh_caudalanteriorcingulate_thickness </td><td>0.00943917709710025 </td><td>2.60193736785197   </td><td>0.00252898184504868  </td><td>0.000971961076502192</td><td>right</td></tr>\n",
       "\t<tr><td>lh_caudalmiddlefrontal_thickness     </td><td>2.40105828530783e-05</td><td>4.24859406808997   </td><td>0.00334018725666856  </td><td>0.000786186489727459</td><td>right</td></tr>\n",
       "\t<tr><td>lh_cuneus_thickness                  </td><td>0.289111938890776   </td><td>1.06076710791379   </td><td>0.0008608205999805   </td><td>0.000811507628355362</td><td>right</td></tr>\n",
       "\t<tr><td>lh_entorhinal_thickness              </td><td>0.375207346840913   </td><td>-0.887250620576564 </td><td>-0.00143597637216306 </td><td>0.00161845631759595 </td><td>right</td></tr>\n",
       "\t<tr><td>lh_fusiform_thickness                </td><td>0.256610591982683   </td><td>1.13523997250413   </td><td>0.000799076169294364 </td><td>0.000703883045565908</td><td>right</td></tr>\n",
       "\t<tr><td>lh_inferiorparietal_thickness        </td><td>0.005955253839292   </td><td>2.75752221375376   </td><td>0.00172576079335664  </td><td>0.000625837494526433</td><td>right</td></tr>\n",
       "\t<tr><td>lh_inferiortemporal_thickness        </td><td>0.131716229900273   </td><td>1.5088923849351    </td><td>0.00118651935514036  </td><td>0.000786351211648134</td><td>right</td></tr>\n",
       "\t<tr><td>lh_isthmuscingulate_thickness        </td><td>0.635133523791537   </td><td>0.474693332903643  </td><td>0.000514742422317462 </td><td>0.00108436834191212 </td><td>right</td></tr>\n",
       "\t<tr><td>lh_lateraloccipital_thickness        </td><td>0.65038627326907    </td><td>0.453394302803905  </td><td>0.000331004628501348 </td><td>0.000730059082027127</td><td>right</td></tr>\n",
       "\t<tr><td>lh_lateralorbitofrontal_thickness    </td><td>0.00314417096929462 </td><td>2.96216564726117   </td><td>0.00233337945757154  </td><td>0.000787727539723849</td><td>right</td></tr>\n",
       "\t<tr><td>lh_lingual_thickness                 </td><td>0.866024693641269   </td><td>-0.168763637415123 </td><td>-0.000125351643803863</td><td>0.000742764529870401</td><td>right</td></tr>\n",
       "\t<tr><td>lh_medialorbitofrontal_thickness     </td><td>0.000251758531349592</td><td>3.6767969990592    </td><td>0.00355816892101689  </td><td>0.000967736027288787</td><td>right</td></tr>\n",
       "\t<tr><td>lh_middletemporal_thickness          </td><td>0.955473318298817   </td><td>-0.0558522067716684</td><td>-4.01934832470298e-05</td><td>0.000719640020874132</td><td>right</td></tr>\n",
       "\t<tr><td>lh_parahippocampal_thickness         </td><td>0.706275498053463   </td><td>-0.376995761610022 </td><td>-0.000666992548790653</td><td>0.00176923089517546 </td><td>right</td></tr>\n",
       "\t<tr><td>lh_paracentral_thickness             </td><td>0.0489511633528248  </td><td>1.97198504780005   </td><td>0.00164473046630829  </td><td>0.00083404814257753 </td><td>right</td></tr>\n",
       "\t<tr><td>lh_parsopercularis_thickness         </td><td>0.0334108218024303  </td><td>2.13074447855578   </td><td>0.00170263059620325  </td><td>0.000799077793390458</td><td>right</td></tr>\n",
       "\t<tr><td>lh_parsorbitalis_thickness           </td><td>0.0534360784896009  </td><td>1.93420375743742   </td><td>0.00193978629366756  </td><td>0.0010028862193079  </td><td>right</td></tr>\n",
       "\t<tr><td>lh_parstriangularis_thickness        </td><td>0.00282751660257792 </td><td>2.99505658912701   </td><td>0.00232296087223293  </td><td>0.000775598324474404</td><td>right</td></tr>\n",
       "\t<tr><td>lh_pericalcarine_thickness           </td><td>0.352042182323439   </td><td>-0.931171732273805 </td><td>-0.000936861271832463</td><td>0.00100611008620801 </td><td>right</td></tr>\n",
       "\t<tr><td>lh_postcentral_thickness             </td><td>0.0211720671436058  </td><td>2.30940101288094   </td><td>0.0017032036874356   </td><td>0.000737508850968627</td><td>right</td></tr>\n",
       "\t<tr><td>lh_posteriorcingulate_thickness      </td><td>0.319836067693573   </td><td>0.995406074512073  </td><td>0.000799222782504571 </td><td>0.000802911297177218</td><td>right</td></tr>\n",
       "\t<tr><td>lh_precentral_thickness              </td><td>0.141797231409138   </td><td>1.47056463502421   </td><td>0.00121594773868735  </td><td>0.000826857731872039</td><td>right</td></tr>\n",
       "\t<tr><td>lh_precuneus_thickness               </td><td>0.000544630803563741</td><td>3.47166472852141   </td><td>0.00219281316999563  </td><td>0.000631631606583609</td><td>right</td></tr>\n",
       "\t<tr><td>lh_rostralanteriorcingulate_thickness</td><td>0.000331565524399761</td><td>3.60474042310616   </td><td>0.00398643940061289  </td><td>0.00110588806202523 </td><td>right</td></tr>\n",
       "\t<tr><td>lh_rostralmiddlefrontal_thickness    </td><td>2.8325032930953e-07 </td><td>5.17794059798385   </td><td>0.00362874569957844  </td><td>0.000700808676907451</td><td>right</td></tr>\n",
       "\t<tr><td>lh_superiorfrontal_thickness         </td><td>3.50285335068625e-05</td><td>4.16130160659753   </td><td>0.00299530130037557  </td><td>0.000719799135834489</td><td>right</td></tr>\n",
       "\t<tr><td>lh_superiorparietal_thickness        </td><td>3.9281656485302e-05 </td><td>4.13449923203384   </td><td>0.00269605886283349  </td><td>0.000652088369480055</td><td>right</td></tr>\n",
       "\t<tr><td>lh_superiortemporal_thickness        </td><td>0.88598072856427    </td><td>-0.143437012453856 </td><td>-0.000118321925340318</td><td>0.000824905115605233</td><td>right</td></tr>\n",
       "\t<tr><td>lh_supramarginal_thickness           </td><td>0.151884027812572   </td><td>1.43425996282016   </td><td>0.000977990723066825 </td><td>0.000681878284564131</td><td>right</td></tr>\n",
       "\t<tr><td>lh_transversetemporal_thickness      </td><td>0.512959467472383   </td><td>-0.654524937479612 </td><td>-0.000890438969381423</td><td>0.00136043551344315 </td><td>right</td></tr>\n",
       "\t<tr><td>⋮</td><td>⋮</td><td>⋮</td><td>⋮</td><td>⋮</td><td>⋮</td></tr>\n",
       "\t<tr><td>rh_caudalmiddlefrontal_thickness     </td><td>0.0216609167366436  </td><td>2.30071575636534 </td><td>0.00169907402101945  </td><td>0.000738498015810367</td><td>right</td></tr>\n",
       "\t<tr><td>rh_cuneus_thickness                  </td><td>0.279005895868879   </td><td>1.08328139297426 </td><td>0.000876214503716848 </td><td>0.000808852168420532</td><td>right</td></tr>\n",
       "\t<tr><td>rh_entorhinal_thickness              </td><td>0.00023990005226177 </td><td>-3.68929873824885</td><td>-0.00702810057582049 </td><td>0.00190499633519958 </td><td>right</td></tr>\n",
       "\t<tr><td>rh_fusiform_thickness                </td><td>0.822610867186307   </td><td>-0.22426088215691</td><td>-0.000159513125029784</td><td>0.000711283766904014</td><td>right</td></tr>\n",
       "\t<tr><td>rh_inferiorparietal_thickness        </td><td>4.64169778622213e-07</td><td>5.0819358620367  </td><td>0.00310992631051118  </td><td>0.000611957016959441</td><td>right</td></tr>\n",
       "\t<tr><td>rh_inferiortemporal_thickness        </td><td>0.666643964307712   </td><td>0.430916179812728</td><td>0.000334858527666228 </td><td>0.000777085065155257</td><td>right</td></tr>\n",
       "\t<tr><td>rh_isthmuscingulate_thickness        </td><td>0.932447174644182   </td><td>0.084792668627132</td><td>9.57247619591437e-05 </td><td>0.00112892734134934 </td><td>right</td></tr>\n",
       "\t<tr><td>rh_lateraloccipital_thickness        </td><td>0.0842248408749838  </td><td>1.72880613742083 </td><td>0.00134491820172302  </td><td>0.000777946221159003</td><td>right</td></tr>\n",
       "\t<tr><td>rh_lateralorbitofrontal_thickness    </td><td>0.413695536101217   </td><td>-0.81782865554901</td><td>-0.000643909044238957</td><td>0.000787339792840469</td><td>right</td></tr>\n",
       "\t<tr><td>rh_lingual_thickness                 </td><td>0.285787955373363   </td><td>1.06811257025222 </td><td>0.000833171371757242 </td><td>0.000780040788734938</td><td>right</td></tr>\n",
       "\t<tr><td>rh_medialorbitofrontal_thickness     </td><td>0.593731296516464   </td><td>0.533648289191184</td><td>0.00054879304424973  </td><td>0.00102837965634913 </td><td>right</td></tr>\n",
       "\t<tr><td>rh_middletemporal_thickness          </td><td>0.148262591720863   </td><td>1.44707574593133 </td><td>0.00104899778080584  </td><td>0.000724908688266845</td><td>right</td></tr>\n",
       "\t<tr><td>rh_parahippocampal_thickness         </td><td>0.0651524147824301  </td><td>-1.84671936627299</td><td>-0.00282103275277768 </td><td>0.0015275914707447  </td><td>right</td></tr>\n",
       "\t<tr><td>rh_paracentral_thickness             </td><td>0.221716987230181   </td><td>1.22291631316509 </td><td>0.0010354199652762   </td><td>0.000846680965925114</td><td>right</td></tr>\n",
       "\t<tr><td>rh_parsopercularis_thickness         </td><td>0.789380017155394   </td><td>0.267204124548366</td><td>0.000206949286022528 </td><td>0.000774498845675822</td><td>right</td></tr>\n",
       "\t<tr><td>rh_parsorbitalis_thickness           </td><td>0.00813601715214987 </td><td>-2.65292459378887</td><td>-0.00284323280005622 </td><td>0.00107173524898254 </td><td>right</td></tr>\n",
       "\t<tr><td>rh_parstriangularis_thickness        </td><td>0.00536510869311971 </td><td>-2.79179339748551</td><td>-0.00221852736914836 </td><td>0.000794660296548638</td><td>right</td></tr>\n",
       "\t<tr><td>rh_pericalcarine_thickness           </td><td>0.843710017443725   </td><td>0.197213403371583</td><td>0.000210777871487532 </td><td>0.00106878066036106 </td><td>right</td></tr>\n",
       "\t<tr><td>rh_postcentral_thickness             </td><td>0.017268410618601   </td><td>2.38585274709984 </td><td>0.00173677472333548  </td><td>0.000727947156607482</td><td>right</td></tr>\n",
       "\t<tr><td>rh_posteriorcingulate_thickness      </td><td>0.790191478096476   </td><td>0.266149925095138</td><td>0.000211180921750689 </td><td>0.000793466019857794</td><td>right</td></tr>\n",
       "\t<tr><td>rh_precentral_thickness              </td><td>0.266272331326106   </td><td>1.11245566370899 </td><td>0.000880934992158406 </td><td>0.000791883237145219</td><td>right</td></tr>\n",
       "\t<tr><td>rh_precuneus_thickness               </td><td>0.00222695670022512 </td><td>3.06796678339325 </td><td>0.00195488214425366  </td><td>0.000637191430766244</td><td>right</td></tr>\n",
       "\t<tr><td>rh_rostralanteriorcingulate_thickness</td><td>0.428720814511902   </td><td>0.791779922439666</td><td>0.000975361209926299 </td><td>0.00123185898288627 </td><td>right</td></tr>\n",
       "\t<tr><td>rh_rostralmiddlefrontal_thickness    </td><td>0.268999551014358   </td><td>-1.10612795270128</td><td>-0.000722049148685781</td><td>0.000652771812630233</td><td>right</td></tr>\n",
       "\t<tr><td>rh_superiorfrontal_thickness         </td><td>0.287637072788851   </td><td>1.0640192379657  </td><td>0.000735462491243568 </td><td>0.000691211648249612</td><td>right</td></tr>\n",
       "\t<tr><td>rh_superiorparietal_thickness        </td><td>1.90051200545345e-08</td><td>5.67785988435713 </td><td>0.0037225201446747   </td><td>0.000655620290125595</td><td>right</td></tr>\n",
       "\t<tr><td>rh_superiortemporal_thickness        </td><td>0.182580579249792   </td><td>-1.33399456039994</td><td>-0.00107003295477653 </td><td>0.00080212692505712 </td><td>right</td></tr>\n",
       "\t<tr><td>rh_supramarginal_thickness           </td><td>0.0131437880801961  </td><td>2.48533310580243 </td><td>0.00166647703013379  </td><td>0.000670524617502226</td><td>right</td></tr>\n",
       "\t<tr><td>rh_transversetemporal_thickness      </td><td>0.648072394543217   </td><td>-0.45661196166283</td><td>-0.00056946782963269 </td><td>0.00124715924558541 </td><td>right</td></tr>\n",
       "\t<tr><td>rh_insula_thickness                  </td><td>0.320673794842308   </td><td>0.993683353131741</td><td>0.000815008148504858 </td><td>0.000820188992737211</td><td>right</td></tr>\n",
       "</tbody>\n",
       "</table>\n"
      ],
      "text/latex": [
       "A matrix: 62 × 6 of type chr\n",
       "\\begin{tabular}{llllll}\n",
       " Parcel & p-value & t-value & SD & estimate & hemisphere\\\\\n",
       "\\hline\n",
       "\t lh\\_caudalanteriorcingulate\\_thickness  & 0.00943917709710025  & 2.60193736785197    & 0.00252898184504868   & 0.000971961076502192 & right\\\\\n",
       "\t lh\\_caudalmiddlefrontal\\_thickness      & 2.40105828530783e-05 & 4.24859406808997    & 0.00334018725666856   & 0.000786186489727459 & right\\\\\n",
       "\t lh\\_cuneus\\_thickness                   & 0.289111938890776    & 1.06076710791379    & 0.0008608205999805    & 0.000811507628355362 & right\\\\\n",
       "\t lh\\_entorhinal\\_thickness               & 0.375207346840913    & -0.887250620576564  & -0.00143597637216306  & 0.00161845631759595  & right\\\\\n",
       "\t lh\\_fusiform\\_thickness                 & 0.256610591982683    & 1.13523997250413    & 0.000799076169294364  & 0.000703883045565908 & right\\\\\n",
       "\t lh\\_inferiorparietal\\_thickness         & 0.005955253839292    & 2.75752221375376    & 0.00172576079335664   & 0.000625837494526433 & right\\\\\n",
       "\t lh\\_inferiortemporal\\_thickness         & 0.131716229900273    & 1.5088923849351     & 0.00118651935514036   & 0.000786351211648134 & right\\\\\n",
       "\t lh\\_isthmuscingulate\\_thickness         & 0.635133523791537    & 0.474693332903643   & 0.000514742422317462  & 0.00108436834191212  & right\\\\\n",
       "\t lh\\_lateraloccipital\\_thickness         & 0.65038627326907     & 0.453394302803905   & 0.000331004628501348  & 0.000730059082027127 & right\\\\\n",
       "\t lh\\_lateralorbitofrontal\\_thickness     & 0.00314417096929462  & 2.96216564726117    & 0.00233337945757154   & 0.000787727539723849 & right\\\\\n",
       "\t lh\\_lingual\\_thickness                  & 0.866024693641269    & -0.168763637415123  & -0.000125351643803863 & 0.000742764529870401 & right\\\\\n",
       "\t lh\\_medialorbitofrontal\\_thickness      & 0.000251758531349592 & 3.6767969990592     & 0.00355816892101689   & 0.000967736027288787 & right\\\\\n",
       "\t lh\\_middletemporal\\_thickness           & 0.955473318298817    & -0.0558522067716684 & -4.01934832470298e-05 & 0.000719640020874132 & right\\\\\n",
       "\t lh\\_parahippocampal\\_thickness          & 0.706275498053463    & -0.376995761610022  & -0.000666992548790653 & 0.00176923089517546  & right\\\\\n",
       "\t lh\\_paracentral\\_thickness              & 0.0489511633528248   & 1.97198504780005    & 0.00164473046630829   & 0.00083404814257753  & right\\\\\n",
       "\t lh\\_parsopercularis\\_thickness          & 0.0334108218024303   & 2.13074447855578    & 0.00170263059620325   & 0.000799077793390458 & right\\\\\n",
       "\t lh\\_parsorbitalis\\_thickness            & 0.0534360784896009   & 1.93420375743742    & 0.00193978629366756   & 0.0010028862193079   & right\\\\\n",
       "\t lh\\_parstriangularis\\_thickness         & 0.00282751660257792  & 2.99505658912701    & 0.00232296087223293   & 0.000775598324474404 & right\\\\\n",
       "\t lh\\_pericalcarine\\_thickness            & 0.352042182323439    & -0.931171732273805  & -0.000936861271832463 & 0.00100611008620801  & right\\\\\n",
       "\t lh\\_postcentral\\_thickness              & 0.0211720671436058   & 2.30940101288094    & 0.0017032036874356    & 0.000737508850968627 & right\\\\\n",
       "\t lh\\_posteriorcingulate\\_thickness       & 0.319836067693573    & 0.995406074512073   & 0.000799222782504571  & 0.000802911297177218 & right\\\\\n",
       "\t lh\\_precentral\\_thickness               & 0.141797231409138    & 1.47056463502421    & 0.00121594773868735   & 0.000826857731872039 & right\\\\\n",
       "\t lh\\_precuneus\\_thickness                & 0.000544630803563741 & 3.47166472852141    & 0.00219281316999563   & 0.000631631606583609 & right\\\\\n",
       "\t lh\\_rostralanteriorcingulate\\_thickness & 0.000331565524399761 & 3.60474042310616    & 0.00398643940061289   & 0.00110588806202523  & right\\\\\n",
       "\t lh\\_rostralmiddlefrontal\\_thickness     & 2.8325032930953e-07  & 5.17794059798385    & 0.00362874569957844   & 0.000700808676907451 & right\\\\\n",
       "\t lh\\_superiorfrontal\\_thickness          & 3.50285335068625e-05 & 4.16130160659753    & 0.00299530130037557   & 0.000719799135834489 & right\\\\\n",
       "\t lh\\_superiorparietal\\_thickness         & 3.9281656485302e-05  & 4.13449923203384    & 0.00269605886283349   & 0.000652088369480055 & right\\\\\n",
       "\t lh\\_superiortemporal\\_thickness         & 0.88598072856427     & -0.143437012453856  & -0.000118321925340318 & 0.000824905115605233 & right\\\\\n",
       "\t lh\\_supramarginal\\_thickness            & 0.151884027812572    & 1.43425996282016    & 0.000977990723066825  & 0.000681878284564131 & right\\\\\n",
       "\t lh\\_transversetemporal\\_thickness       & 0.512959467472383    & -0.654524937479612  & -0.000890438969381423 & 0.00136043551344315  & right\\\\\n",
       "\t ⋮ & ⋮ & ⋮ & ⋮ & ⋮ & ⋮\\\\\n",
       "\t rh\\_caudalmiddlefrontal\\_thickness      & 0.0216609167366436   & 2.30071575636534  & 0.00169907402101945   & 0.000738498015810367 & right\\\\\n",
       "\t rh\\_cuneus\\_thickness                   & 0.279005895868879    & 1.08328139297426  & 0.000876214503716848  & 0.000808852168420532 & right\\\\\n",
       "\t rh\\_entorhinal\\_thickness               & 0.00023990005226177  & -3.68929873824885 & -0.00702810057582049  & 0.00190499633519958  & right\\\\\n",
       "\t rh\\_fusiform\\_thickness                 & 0.822610867186307    & -0.22426088215691 & -0.000159513125029784 & 0.000711283766904014 & right\\\\\n",
       "\t rh\\_inferiorparietal\\_thickness         & 4.64169778622213e-07 & 5.0819358620367   & 0.00310992631051118   & 0.000611957016959441 & right\\\\\n",
       "\t rh\\_inferiortemporal\\_thickness         & 0.666643964307712    & 0.430916179812728 & 0.000334858527666228  & 0.000777085065155257 & right\\\\\n",
       "\t rh\\_isthmuscingulate\\_thickness         & 0.932447174644182    & 0.084792668627132 & 9.57247619591437e-05  & 0.00112892734134934  & right\\\\\n",
       "\t rh\\_lateraloccipital\\_thickness         & 0.0842248408749838   & 1.72880613742083  & 0.00134491820172302   & 0.000777946221159003 & right\\\\\n",
       "\t rh\\_lateralorbitofrontal\\_thickness     & 0.413695536101217    & -0.81782865554901 & -0.000643909044238957 & 0.000787339792840469 & right\\\\\n",
       "\t rh\\_lingual\\_thickness                  & 0.285787955373363    & 1.06811257025222  & 0.000833171371757242  & 0.000780040788734938 & right\\\\\n",
       "\t rh\\_medialorbitofrontal\\_thickness      & 0.593731296516464    & 0.533648289191184 & 0.00054879304424973   & 0.00102837965634913  & right\\\\\n",
       "\t rh\\_middletemporal\\_thickness           & 0.148262591720863    & 1.44707574593133  & 0.00104899778080584   & 0.000724908688266845 & right\\\\\n",
       "\t rh\\_parahippocampal\\_thickness          & 0.0651524147824301   & -1.84671936627299 & -0.00282103275277768  & 0.0015275914707447   & right\\\\\n",
       "\t rh\\_paracentral\\_thickness              & 0.221716987230181    & 1.22291631316509  & 0.0010354199652762    & 0.000846680965925114 & right\\\\\n",
       "\t rh\\_parsopercularis\\_thickness          & 0.789380017155394    & 0.267204124548366 & 0.000206949286022528  & 0.000774498845675822 & right\\\\\n",
       "\t rh\\_parsorbitalis\\_thickness            & 0.00813601715214987  & -2.65292459378887 & -0.00284323280005622  & 0.00107173524898254  & right\\\\\n",
       "\t rh\\_parstriangularis\\_thickness         & 0.00536510869311971  & -2.79179339748551 & -0.00221852736914836  & 0.000794660296548638 & right\\\\\n",
       "\t rh\\_pericalcarine\\_thickness            & 0.843710017443725    & 0.197213403371583 & 0.000210777871487532  & 0.00106878066036106  & right\\\\\n",
       "\t rh\\_postcentral\\_thickness              & 0.017268410618601    & 2.38585274709984  & 0.00173677472333548   & 0.000727947156607482 & right\\\\\n",
       "\t rh\\_posteriorcingulate\\_thickness       & 0.790191478096476    & 0.266149925095138 & 0.000211180921750689  & 0.000793466019857794 & right\\\\\n",
       "\t rh\\_precentral\\_thickness               & 0.266272331326106    & 1.11245566370899  & 0.000880934992158406  & 0.000791883237145219 & right\\\\\n",
       "\t rh\\_precuneus\\_thickness                & 0.00222695670022512  & 3.06796678339325  & 0.00195488214425366   & 0.000637191430766244 & right\\\\\n",
       "\t rh\\_rostralanteriorcingulate\\_thickness & 0.428720814511902    & 0.791779922439666 & 0.000975361209926299  & 0.00123185898288627  & right\\\\\n",
       "\t rh\\_rostralmiddlefrontal\\_thickness     & 0.268999551014358    & -1.10612795270128 & -0.000722049148685781 & 0.000652771812630233 & right\\\\\n",
       "\t rh\\_superiorfrontal\\_thickness          & 0.287637072788851    & 1.0640192379657   & 0.000735462491243568  & 0.000691211648249612 & right\\\\\n",
       "\t rh\\_superiorparietal\\_thickness         & 1.90051200545345e-08 & 5.67785988435713  & 0.0037225201446747    & 0.000655620290125595 & right\\\\\n",
       "\t rh\\_superiortemporal\\_thickness         & 0.182580579249792    & -1.33399456039994 & -0.00107003295477653  & 0.00080212692505712  & right\\\\\n",
       "\t rh\\_supramarginal\\_thickness            & 0.0131437880801961   & 2.48533310580243  & 0.00166647703013379   & 0.000670524617502226 & right\\\\\n",
       "\t rh\\_transversetemporal\\_thickness       & 0.648072394543217    & -0.45661196166283 & -0.00056946782963269  & 0.00124715924558541  & right\\\\\n",
       "\t rh\\_insula\\_thickness                   & 0.320673794842308    & 0.993683353131741 & 0.000815008148504858  & 0.000820188992737211 & right\\\\\n",
       "\\end{tabular}\n"
      ],
      "text/markdown": [
       "\n",
       "A matrix: 62 × 6 of type chr\n",
       "\n",
       "| Parcel | p-value | t-value | SD | estimate | hemisphere |\n",
       "|---|---|---|---|---|---|\n",
       "| lh_caudalanteriorcingulate_thickness  | 0.00943917709710025  | 2.60193736785197    | 0.00252898184504868   | 0.000971961076502192 | right |\n",
       "| lh_caudalmiddlefrontal_thickness      | 2.40105828530783e-05 | 4.24859406808997    | 0.00334018725666856   | 0.000786186489727459 | right |\n",
       "| lh_cuneus_thickness                   | 0.289111938890776    | 1.06076710791379    | 0.0008608205999805    | 0.000811507628355362 | right |\n",
       "| lh_entorhinal_thickness               | 0.375207346840913    | -0.887250620576564  | -0.00143597637216306  | 0.00161845631759595  | right |\n",
       "| lh_fusiform_thickness                 | 0.256610591982683    | 1.13523997250413    | 0.000799076169294364  | 0.000703883045565908 | right |\n",
       "| lh_inferiorparietal_thickness         | 0.005955253839292    | 2.75752221375376    | 0.00172576079335664   | 0.000625837494526433 | right |\n",
       "| lh_inferiortemporal_thickness         | 0.131716229900273    | 1.5088923849351     | 0.00118651935514036   | 0.000786351211648134 | right |\n",
       "| lh_isthmuscingulate_thickness         | 0.635133523791537    | 0.474693332903643   | 0.000514742422317462  | 0.00108436834191212  | right |\n",
       "| lh_lateraloccipital_thickness         | 0.65038627326907     | 0.453394302803905   | 0.000331004628501348  | 0.000730059082027127 | right |\n",
       "| lh_lateralorbitofrontal_thickness     | 0.00314417096929462  | 2.96216564726117    | 0.00233337945757154   | 0.000787727539723849 | right |\n",
       "| lh_lingual_thickness                  | 0.866024693641269    | -0.168763637415123  | -0.000125351643803863 | 0.000742764529870401 | right |\n",
       "| lh_medialorbitofrontal_thickness      | 0.000251758531349592 | 3.6767969990592     | 0.00355816892101689   | 0.000967736027288787 | right |\n",
       "| lh_middletemporal_thickness           | 0.955473318298817    | -0.0558522067716684 | -4.01934832470298e-05 | 0.000719640020874132 | right |\n",
       "| lh_parahippocampal_thickness          | 0.706275498053463    | -0.376995761610022  | -0.000666992548790653 | 0.00176923089517546  | right |\n",
       "| lh_paracentral_thickness              | 0.0489511633528248   | 1.97198504780005    | 0.00164473046630829   | 0.00083404814257753  | right |\n",
       "| lh_parsopercularis_thickness          | 0.0334108218024303   | 2.13074447855578    | 0.00170263059620325   | 0.000799077793390458 | right |\n",
       "| lh_parsorbitalis_thickness            | 0.0534360784896009   | 1.93420375743742    | 0.00193978629366756   | 0.0010028862193079   | right |\n",
       "| lh_parstriangularis_thickness         | 0.00282751660257792  | 2.99505658912701    | 0.00232296087223293   | 0.000775598324474404 | right |\n",
       "| lh_pericalcarine_thickness            | 0.352042182323439    | -0.931171732273805  | -0.000936861271832463 | 0.00100611008620801  | right |\n",
       "| lh_postcentral_thickness              | 0.0211720671436058   | 2.30940101288094    | 0.0017032036874356    | 0.000737508850968627 | right |\n",
       "| lh_posteriorcingulate_thickness       | 0.319836067693573    | 0.995406074512073   | 0.000799222782504571  | 0.000802911297177218 | right |\n",
       "| lh_precentral_thickness               | 0.141797231409138    | 1.47056463502421    | 0.00121594773868735   | 0.000826857731872039 | right |\n",
       "| lh_precuneus_thickness                | 0.000544630803563741 | 3.47166472852141    | 0.00219281316999563   | 0.000631631606583609 | right |\n",
       "| lh_rostralanteriorcingulate_thickness | 0.000331565524399761 | 3.60474042310616    | 0.00398643940061289   | 0.00110588806202523  | right |\n",
       "| lh_rostralmiddlefrontal_thickness     | 2.8325032930953e-07  | 5.17794059798385    | 0.00362874569957844   | 0.000700808676907451 | right |\n",
       "| lh_superiorfrontal_thickness          | 3.50285335068625e-05 | 4.16130160659753    | 0.00299530130037557   | 0.000719799135834489 | right |\n",
       "| lh_superiorparietal_thickness         | 3.9281656485302e-05  | 4.13449923203384    | 0.00269605886283349   | 0.000652088369480055 | right |\n",
       "| lh_superiortemporal_thickness         | 0.88598072856427     | -0.143437012453856  | -0.000118321925340318 | 0.000824905115605233 | right |\n",
       "| lh_supramarginal_thickness            | 0.151884027812572    | 1.43425996282016    | 0.000977990723066825  | 0.000681878284564131 | right |\n",
       "| lh_transversetemporal_thickness       | 0.512959467472383    | -0.654524937479612  | -0.000890438969381423 | 0.00136043551344315  | right |\n",
       "| ⋮ | ⋮ | ⋮ | ⋮ | ⋮ | ⋮ |\n",
       "| rh_caudalmiddlefrontal_thickness      | 0.0216609167366436   | 2.30071575636534  | 0.00169907402101945   | 0.000738498015810367 | right |\n",
       "| rh_cuneus_thickness                   | 0.279005895868879    | 1.08328139297426  | 0.000876214503716848  | 0.000808852168420532 | right |\n",
       "| rh_entorhinal_thickness               | 0.00023990005226177  | -3.68929873824885 | -0.00702810057582049  | 0.00190499633519958  | right |\n",
       "| rh_fusiform_thickness                 | 0.822610867186307    | -0.22426088215691 | -0.000159513125029784 | 0.000711283766904014 | right |\n",
       "| rh_inferiorparietal_thickness         | 4.64169778622213e-07 | 5.0819358620367   | 0.00310992631051118   | 0.000611957016959441 | right |\n",
       "| rh_inferiortemporal_thickness         | 0.666643964307712    | 0.430916179812728 | 0.000334858527666228  | 0.000777085065155257 | right |\n",
       "| rh_isthmuscingulate_thickness         | 0.932447174644182    | 0.084792668627132 | 9.57247619591437e-05  | 0.00112892734134934  | right |\n",
       "| rh_lateraloccipital_thickness         | 0.0842248408749838   | 1.72880613742083  | 0.00134491820172302   | 0.000777946221159003 | right |\n",
       "| rh_lateralorbitofrontal_thickness     | 0.413695536101217    | -0.81782865554901 | -0.000643909044238957 | 0.000787339792840469 | right |\n",
       "| rh_lingual_thickness                  | 0.285787955373363    | 1.06811257025222  | 0.000833171371757242  | 0.000780040788734938 | right |\n",
       "| rh_medialorbitofrontal_thickness      | 0.593731296516464    | 0.533648289191184 | 0.00054879304424973   | 0.00102837965634913  | right |\n",
       "| rh_middletemporal_thickness           | 0.148262591720863    | 1.44707574593133  | 0.00104899778080584   | 0.000724908688266845 | right |\n",
       "| rh_parahippocampal_thickness          | 0.0651524147824301   | -1.84671936627299 | -0.00282103275277768  | 0.0015275914707447   | right |\n",
       "| rh_paracentral_thickness              | 0.221716987230181    | 1.22291631316509  | 0.0010354199652762    | 0.000846680965925114 | right |\n",
       "| rh_parsopercularis_thickness          | 0.789380017155394    | 0.267204124548366 | 0.000206949286022528  | 0.000774498845675822 | right |\n",
       "| rh_parsorbitalis_thickness            | 0.00813601715214987  | -2.65292459378887 | -0.00284323280005622  | 0.00107173524898254  | right |\n",
       "| rh_parstriangularis_thickness         | 0.00536510869311971  | -2.79179339748551 | -0.00221852736914836  | 0.000794660296548638 | right |\n",
       "| rh_pericalcarine_thickness            | 0.843710017443725    | 0.197213403371583 | 0.000210777871487532  | 0.00106878066036106  | right |\n",
       "| rh_postcentral_thickness              | 0.017268410618601    | 2.38585274709984  | 0.00173677472333548   | 0.000727947156607482 | right |\n",
       "| rh_posteriorcingulate_thickness       | 0.790191478096476    | 0.266149925095138 | 0.000211180921750689  | 0.000793466019857794 | right |\n",
       "| rh_precentral_thickness               | 0.266272331326106    | 1.11245566370899  | 0.000880934992158406  | 0.000791883237145219 | right |\n",
       "| rh_precuneus_thickness                | 0.00222695670022512  | 3.06796678339325  | 0.00195488214425366   | 0.000637191430766244 | right |\n",
       "| rh_rostralanteriorcingulate_thickness | 0.428720814511902    | 0.791779922439666 | 0.000975361209926299  | 0.00123185898288627  | right |\n",
       "| rh_rostralmiddlefrontal_thickness     | 0.268999551014358    | -1.10612795270128 | -0.000722049148685781 | 0.000652771812630233 | right |\n",
       "| rh_superiorfrontal_thickness          | 0.287637072788851    | 1.0640192379657   | 0.000735462491243568  | 0.000691211648249612 | right |\n",
       "| rh_superiorparietal_thickness         | 1.90051200545345e-08 | 5.67785988435713  | 0.0037225201446747    | 0.000655620290125595 | right |\n",
       "| rh_superiortemporal_thickness         | 0.182580579249792    | -1.33399456039994 | -0.00107003295477653  | 0.00080212692505712  | right |\n",
       "| rh_supramarginal_thickness            | 0.0131437880801961   | 2.48533310580243  | 0.00166647703013379   | 0.000670524617502226 | right |\n",
       "| rh_transversetemporal_thickness       | 0.648072394543217    | -0.45661196166283 | -0.00056946782963269  | 0.00124715924558541  | right |\n",
       "| rh_insula_thickness                   | 0.320673794842308    | 0.993683353131741 | 0.000815008148504858  | 0.000820188992737211 | right |\n",
       "\n"
      ],
      "text/plain": [
       "      Parcel                                p-value             \n",
       " [1,] lh_caudalanteriorcingulate_thickness  0.00943917709710025 \n",
       " [2,] lh_caudalmiddlefrontal_thickness      2.40105828530783e-05\n",
       " [3,] lh_cuneus_thickness                   0.289111938890776   \n",
       " [4,] lh_entorhinal_thickness               0.375207346840913   \n",
       " [5,] lh_fusiform_thickness                 0.256610591982683   \n",
       " [6,] lh_inferiorparietal_thickness         0.005955253839292   \n",
       " [7,] lh_inferiortemporal_thickness         0.131716229900273   \n",
       " [8,] lh_isthmuscingulate_thickness         0.635133523791537   \n",
       " [9,] lh_lateraloccipital_thickness         0.65038627326907    \n",
       "[10,] lh_lateralorbitofrontal_thickness     0.00314417096929462 \n",
       "[11,] lh_lingual_thickness                  0.866024693641269   \n",
       "[12,] lh_medialorbitofrontal_thickness      0.000251758531349592\n",
       "[13,] lh_middletemporal_thickness           0.955473318298817   \n",
       "[14,] lh_parahippocampal_thickness          0.706275498053463   \n",
       "[15,] lh_paracentral_thickness              0.0489511633528248  \n",
       "[16,] lh_parsopercularis_thickness          0.0334108218024303  \n",
       "[17,] lh_parsorbitalis_thickness            0.0534360784896009  \n",
       "[18,] lh_parstriangularis_thickness         0.00282751660257792 \n",
       "[19,] lh_pericalcarine_thickness            0.352042182323439   \n",
       "[20,] lh_postcentral_thickness              0.0211720671436058  \n",
       "[21,] lh_posteriorcingulate_thickness       0.319836067693573   \n",
       "[22,] lh_precentral_thickness               0.141797231409138   \n",
       "[23,] lh_precuneus_thickness                0.000544630803563741\n",
       "[24,] lh_rostralanteriorcingulate_thickness 0.000331565524399761\n",
       "[25,] lh_rostralmiddlefrontal_thickness     2.8325032930953e-07 \n",
       "[26,] lh_superiorfrontal_thickness          3.50285335068625e-05\n",
       "[27,] lh_superiorparietal_thickness         3.9281656485302e-05 \n",
       "[28,] lh_superiortemporal_thickness         0.88598072856427    \n",
       "[29,] lh_supramarginal_thickness            0.151884027812572   \n",
       "[30,] lh_transversetemporal_thickness       0.512959467472383   \n",
       "[31,] ⋮                                     ⋮                   \n",
       "[32,] rh_caudalmiddlefrontal_thickness      0.0216609167366436  \n",
       "[33,] rh_cuneus_thickness                   0.279005895868879   \n",
       "[34,] rh_entorhinal_thickness               0.00023990005226177 \n",
       "[35,] rh_fusiform_thickness                 0.822610867186307   \n",
       "[36,] rh_inferiorparietal_thickness         4.64169778622213e-07\n",
       "[37,] rh_inferiortemporal_thickness         0.666643964307712   \n",
       "[38,] rh_isthmuscingulate_thickness         0.932447174644182   \n",
       "[39,] rh_lateraloccipital_thickness         0.0842248408749838  \n",
       "[40,] rh_lateralorbitofrontal_thickness     0.413695536101217   \n",
       "[41,] rh_lingual_thickness                  0.285787955373363   \n",
       "[42,] rh_medialorbitofrontal_thickness      0.593731296516464   \n",
       "[43,] rh_middletemporal_thickness           0.148262591720863   \n",
       "[44,] rh_parahippocampal_thickness          0.0651524147824301  \n",
       "[45,] rh_paracentral_thickness              0.221716987230181   \n",
       "[46,] rh_parsopercularis_thickness          0.789380017155394   \n",
       "[47,] rh_parsorbitalis_thickness            0.00813601715214987 \n",
       "[48,] rh_parstriangularis_thickness         0.00536510869311971 \n",
       "[49,] rh_pericalcarine_thickness            0.843710017443725   \n",
       "[50,] rh_postcentral_thickness              0.017268410618601   \n",
       "[51,] rh_posteriorcingulate_thickness       0.790191478096476   \n",
       "[52,] rh_precentral_thickness               0.266272331326106   \n",
       "[53,] rh_precuneus_thickness                0.00222695670022512 \n",
       "[54,] rh_rostralanteriorcingulate_thickness 0.428720814511902   \n",
       "[55,] rh_rostralmiddlefrontal_thickness     0.268999551014358   \n",
       "[56,] rh_superiorfrontal_thickness          0.287637072788851   \n",
       "[57,] rh_superiorparietal_thickness         1.90051200545345e-08\n",
       "[58,] rh_superiortemporal_thickness         0.182580579249792   \n",
       "[59,] rh_supramarginal_thickness            0.0131437880801961  \n",
       "[60,] rh_transversetemporal_thickness       0.648072394543217   \n",
       "[61,] rh_insula_thickness                   0.320673794842308   \n",
       "      t-value             SD                    estimate             hemisphere\n",
       " [1,] 2.60193736785197    0.00252898184504868   0.000971961076502192 right     \n",
       " [2,] 4.24859406808997    0.00334018725666856   0.000786186489727459 right     \n",
       " [3,] 1.06076710791379    0.0008608205999805    0.000811507628355362 right     \n",
       " [4,] -0.887250620576564  -0.00143597637216306  0.00161845631759595  right     \n",
       " [5,] 1.13523997250413    0.000799076169294364  0.000703883045565908 right     \n",
       " [6,] 2.75752221375376    0.00172576079335664   0.000625837494526433 right     \n",
       " [7,] 1.5088923849351     0.00118651935514036   0.000786351211648134 right     \n",
       " [8,] 0.474693332903643   0.000514742422317462  0.00108436834191212  right     \n",
       " [9,] 0.453394302803905   0.000331004628501348  0.000730059082027127 right     \n",
       "[10,] 2.96216564726117    0.00233337945757154   0.000787727539723849 right     \n",
       "[11,] -0.168763637415123  -0.000125351643803863 0.000742764529870401 right     \n",
       "[12,] 3.6767969990592     0.00355816892101689   0.000967736027288787 right     \n",
       "[13,] -0.0558522067716684 -4.01934832470298e-05 0.000719640020874132 right     \n",
       "[14,] -0.376995761610022  -0.000666992548790653 0.00176923089517546  right     \n",
       "[15,] 1.97198504780005    0.00164473046630829   0.00083404814257753  right     \n",
       "[16,] 2.13074447855578    0.00170263059620325   0.000799077793390458 right     \n",
       "[17,] 1.93420375743742    0.00193978629366756   0.0010028862193079   right     \n",
       "[18,] 2.99505658912701    0.00232296087223293   0.000775598324474404 right     \n",
       "[19,] -0.931171732273805  -0.000936861271832463 0.00100611008620801  right     \n",
       "[20,] 2.30940101288094    0.0017032036874356    0.000737508850968627 right     \n",
       "[21,] 0.995406074512073   0.000799222782504571  0.000802911297177218 right     \n",
       "[22,] 1.47056463502421    0.00121594773868735   0.000826857731872039 right     \n",
       "[23,] 3.47166472852141    0.00219281316999563   0.000631631606583609 right     \n",
       "[24,] 3.60474042310616    0.00398643940061289   0.00110588806202523  right     \n",
       "[25,] 5.17794059798385    0.00362874569957844   0.000700808676907451 right     \n",
       "[26,] 4.16130160659753    0.00299530130037557   0.000719799135834489 right     \n",
       "[27,] 4.13449923203384    0.00269605886283349   0.000652088369480055 right     \n",
       "[28,] -0.143437012453856  -0.000118321925340318 0.000824905115605233 right     \n",
       "[29,] 1.43425996282016    0.000977990723066825  0.000681878284564131 right     \n",
       "[30,] -0.654524937479612  -0.000890438969381423 0.00136043551344315  right     \n",
       "[31,] ⋮                   ⋮                     ⋮                    ⋮         \n",
       "[32,] 2.30071575636534    0.00169907402101945   0.000738498015810367 right     \n",
       "[33,] 1.08328139297426    0.000876214503716848  0.000808852168420532 right     \n",
       "[34,] -3.68929873824885   -0.00702810057582049  0.00190499633519958  right     \n",
       "[35,] -0.22426088215691   -0.000159513125029784 0.000711283766904014 right     \n",
       "[36,] 5.0819358620367     0.00310992631051118   0.000611957016959441 right     \n",
       "[37,] 0.430916179812728   0.000334858527666228  0.000777085065155257 right     \n",
       "[38,] 0.084792668627132   9.57247619591437e-05  0.00112892734134934  right     \n",
       "[39,] 1.72880613742083    0.00134491820172302   0.000777946221159003 right     \n",
       "[40,] -0.81782865554901   -0.000643909044238957 0.000787339792840469 right     \n",
       "[41,] 1.06811257025222    0.000833171371757242  0.000780040788734938 right     \n",
       "[42,] 0.533648289191184   0.00054879304424973   0.00102837965634913  right     \n",
       "[43,] 1.44707574593133    0.00104899778080584   0.000724908688266845 right     \n",
       "[44,] -1.84671936627299   -0.00282103275277768  0.0015275914707447   right     \n",
       "[45,] 1.22291631316509    0.0010354199652762    0.000846680965925114 right     \n",
       "[46,] 0.267204124548366   0.000206949286022528  0.000774498845675822 right     \n",
       "[47,] -2.65292459378887   -0.00284323280005622  0.00107173524898254  right     \n",
       "[48,] -2.79179339748551   -0.00221852736914836  0.000794660296548638 right     \n",
       "[49,] 0.197213403371583   0.000210777871487532  0.00106878066036106  right     \n",
       "[50,] 2.38585274709984    0.00173677472333548   0.000727947156607482 right     \n",
       "[51,] 0.266149925095138   0.000211180921750689  0.000793466019857794 right     \n",
       "[52,] 1.11245566370899    0.000880934992158406  0.000791883237145219 right     \n",
       "[53,] 3.06796678339325    0.00195488214425366   0.000637191430766244 right     \n",
       "[54,] 0.791779922439666   0.000975361209926299  0.00123185898288627  right     \n",
       "[55,] -1.10612795270128   -0.000722049148685781 0.000652771812630233 right     \n",
       "[56,] 1.0640192379657     0.000735462491243568  0.000691211648249612 right     \n",
       "[57,] 5.67785988435713    0.0037225201446747    0.000655620290125595 right     \n",
       "[58,] -1.33399456039994   -0.00107003295477653  0.00080212692505712  right     \n",
       "[59,] 2.48533310580243    0.00166647703013379   0.000670524617502226 right     \n",
       "[60,] -0.45661196166283   -0.00056946782963269  0.00124715924558541  right     \n",
       "[61,] 0.993683353131741   0.000815008148504858  0.000820188992737211 right     "
      ]
     },
     "metadata": {},
     "output_type": "display_data"
    }
   ],
   "source": [
    "results"
   ]
  },
  {
   "cell_type": "code",
   "execution_count": 179,
   "id": "9c2409c2",
   "metadata": {},
   "outputs": [],
   "source": [
    "write.table(results,'/dagher/dagher11/filip/Obesity_maps/tables/HCP_BMI.csv',sep=',',row.names=F,col.names=T)"
   ]
  },
  {
   "cell_type": "code",
   "execution_count": 8,
   "id": "105b7ced-adca-496a-b074-5ddba7c45f08",
   "metadata": {},
   "outputs": [
    {
     "data": {
      "text/html": [
       "<table class=\"dataframe\">\n",
       "<caption>A matrix: 1 × 31 of type dbl</caption>\n",
       "<tbody>\n",
       "\t<tr><td>2.601937</td><td>4.248594</td><td>1.060767</td><td>-0.8872506</td><td>1.13524</td><td>2.757522</td><td>1.508892</td><td>0.4746933</td><td>0.4533943</td><td>2.962166</td><td>⋯</td><td>1.470565</td><td>3.471665</td><td>3.60474</td><td>5.177941</td><td>4.161302</td><td>4.134499</td><td>-0.143437</td><td>1.43426</td><td>-0.6545249</td><td>0.507952</td></tr>\n",
       "</tbody>\n",
       "</table>\n"
      ],
      "text/latex": [
       "A matrix: 1 × 31 of type dbl\n",
       "\\begin{tabular}{lllllllllllllllllllll}\n",
       "\t 2.601937 & 4.248594 & 1.060767 & -0.8872506 & 1.13524 & 2.757522 & 1.508892 & 0.4746933 & 0.4533943 & 2.962166 & ⋯ & 1.470565 & 3.471665 & 3.60474 & 5.177941 & 4.161302 & 4.134499 & -0.143437 & 1.43426 & -0.6545249 & 0.507952\\\\\n",
       "\\end{tabular}\n"
      ],
      "text/markdown": [
       "\n",
       "A matrix: 1 × 31 of type dbl\n",
       "\n",
       "| 2.601937 | 4.248594 | 1.060767 | -0.8872506 | 1.13524 | 2.757522 | 1.508892 | 0.4746933 | 0.4533943 | 2.962166 | ⋯ | 1.470565 | 3.471665 | 3.60474 | 5.177941 | 4.161302 | 4.134499 | -0.143437 | 1.43426 | -0.6545249 | 0.507952 |\n",
       "\n"
      ],
      "text/plain": [
       "     [,1]     [,2]     [,3]     [,4]       [,5]    [,6]     [,7]     [,8]     \n",
       "[1,] 2.601937 4.248594 1.060767 -0.8872506 1.13524 2.757522 1.508892 0.4746933\n",
       "     [,9]      [,10]    [,11] [,12]    [,13]    [,14]   [,15]    [,16]   \n",
       "[1,] 0.4533943 2.962166 ⋯     1.470565 3.471665 3.60474 5.177941 4.161302\n",
       "     [,17]    [,18]     [,19]   [,20]      [,21]   \n",
       "[1,] 4.134499 -0.143437 1.43426 -0.6545249 0.507952"
      ]
     },
     "metadata": {},
     "output_type": "display_data"
    }
   ],
   "source": [
    "t(as.numeric(results[,3][c(1:31)]))"
   ]
  },
  {
   "cell_type": "code",
   "execution_count": 9,
   "id": "2b66b8a8",
   "metadata": {},
   "outputs": [],
   "source": [
    "results=as.data.frame(results)\n",
    "\n",
    "colnames(results)=c('Parcel','p-value', 't-value', 'SD', 'estimate', 'hemisphere')\n",
    "\n",
    "results$'p-value'=as.numeric(results$'p-value')\n",
    "results$'t-value'=as.numeric(results$'t-value')\n",
    "results$SD=as.numeric(results$SD)\n",
    "results$estimate=as.numeric(results$estimate)\n",
    "results$Parcel=c(\"Caudal Anterior Cingulate\", \"Caudal Middle Frontal\",\n",
    "\"Cuneus\", \"Entorhinal\",\n",
    "\"Fusiform\", \"Inferior Parietal\",\n",
    "\"Inferior Temporal\", \"Isthmus Cingulate\",\n",
    "\"Lateral Occipital\", \"Lateral Orbitofrontal\",\n",
    "\"Lingual\", \"Medial Orbitofrontal\",\n",
    "\"Middle Temporal\", \"Parahippocampal\",\n",
    "\"Paracentral\", \"Pars Opercularis\",\n",
    "\"Pars Orbitalis\", \"Pars Triangularis\",\n",
    "\"Pericalcarine\", \"Postcentral\",\n",
    "\"Posterior Cingulate\", \"Precentral\",\n",
    "\"Precuneus\", \"Rostral Anterior Cingulate\",\n",
    "\"Rostral Middle Frontal\", \"Superior Frontal\",\n",
    "\"Superior Parietal\", \"Superior Temporal\",\n",
    "\"Supramarginal\", \"Transverse Temporal\",\n",
    "\"Insula\", \"Caudal Anterior Cingulate\",\n",
    "\"Caudal Middle Frontal\", \"Cuneus\",\n",
    "\"Entorhinal\", \"Fusiform\",\n",
    "\"Inferior Parietal\", \"Inferior Temporal\",\n",
    "\"Isthmus Cingulate\", \"Lateral Occipital\",\n",
    "\"Lateral Orbitofrontal\", \"Lingual\",\n",
    "\"Medial Orbitofrontal\", \"Middle Temporal\",\n",
    "\"Parahippocampal\", \"Paracentral\",\n",
    "\"Pars Opercularis\", \"Pars Orbitalis\",\n",
    "\"Pars Triangularis\", \"Pericalcarine\",\n",
    "\"Postcentral\", \"Posterior Cingulate\",\n",
    "\"Precentral\", \"Precuneus\",\n",
    "\"Rostral Anterior Cingulate\", \"Rostral Middle Frontal\",\n",
    "\"Superior Frontal\", \"Superior Parietal\",\n",
    "\"Superior Temporal\", \"Supramarginal\",\n",
    "\"Transverse Temporal\", \"Insula\")\n",
    "results$hemisphere=NULL\n",
    "\n",
    "\n",
    "doc <- read_docx()\n",
    "results[, sapply(results, is.numeric)] <- round(results[, sapply(results, is.numeric)], 4)\n",
    "doc <- doc %>%\n",
    "  body_add_table(as.data.frame(results))\n",
    "\n",
    "print(doc, target = \"/dagher/dagher11/filip/Obesity_maps/tables/HCP_BMInoSES.docx\")"
   ]
  },
  {
   "cell_type": "code",
   "execution_count": 10,
   "id": "ceea9578",
   "metadata": {},
   "outputs": [],
   "source": [
    "writeMat('/dagher/dagher11/filip/Obesity_maps/data/HCP_CT_DKT_RH_noSES.mat','HCP_CT_DKT_LH'=(as.numeric(results[,3][c(1:31)])))\n",
    "writeMat('/dagher/dagher11/filip/Obesity_maps/data/HCP_CT_DKT_LH_noSES.mat','HCP_CT_DKT_RH'=(as.numeric(results[,3][c(32:62)])))"
   ]
  },
  {
   "cell_type": "code",
   "execution_count": 11,
   "id": "6569dc72",
   "metadata": {},
   "outputs": [],
   "source": [
    "writeMat('/dagher/dagher11/filip/Obesity_maps/data/HCP_CT_DKT_LHRH_noSES.mat','HCP_CT_DKT_LHRH'=(as.numeric(results[,3][c(1:62)])))"
   ]
  },
  {
   "cell_type": "code",
   "execution_count": 47,
   "id": "a95f0673",
   "metadata": {},
   "outputs": [],
   "source": [
    "write.table(results[,3][c(1:31)],'/dagher/dagher11/filip/Obesity_maps/data/HCP_CT_DKT_LH.csv',\n",
    "            sep=',',row.names=F, col.names=F)\n",
    "write.table(results[,3][c(32:62)],'/dagher/dagher11/filip/Obesity_maps/data/HCP_CT_DKT_RH.csv',\n",
    "            sep=',', row.names=F, col.names=F)"
   ]
  },
  {
   "cell_type": "code",
   "execution_count": 14,
   "id": "5560bf24",
   "metadata": {},
   "outputs": [
    {
     "data": {
      "text/html": [
       "814"
      ],
      "text/latex": [
       "814"
      ],
      "text/markdown": [
       "814"
      ],
      "text/plain": [
       "[1] 814"
      ]
     },
     "metadata": {},
     "output_type": "display_data"
    },
    {
     "data": {
      "text/html": [
       "<table class=\"dataframe\">\n",
       "<caption>A psych: 1 × 13</caption>\n",
       "<thead>\n",
       "\t<tr><th></th><th scope=col>vars</th><th scope=col>n</th><th scope=col>mean</th><th scope=col>sd</th><th scope=col>median</th><th scope=col>trimmed</th><th scope=col>mad</th><th scope=col>min</th><th scope=col>max</th><th scope=col>range</th><th scope=col>skew</th><th scope=col>kurtosis</th><th scope=col>se</th></tr>\n",
       "\t<tr><th></th><th scope=col>&lt;dbl&gt;</th><th scope=col>&lt;dbl&gt;</th><th scope=col>&lt;dbl&gt;</th><th scope=col>&lt;dbl&gt;</th><th scope=col>&lt;dbl&gt;</th><th scope=col>&lt;dbl&gt;</th><th scope=col>&lt;dbl&gt;</th><th scope=col>&lt;dbl&gt;</th><th scope=col>&lt;dbl&gt;</th><th scope=col>&lt;dbl&gt;</th><th scope=col>&lt;dbl&gt;</th><th scope=col>&lt;dbl&gt;</th><th scope=col>&lt;dbl&gt;</th></tr>\n",
       "</thead>\n",
       "<tbody>\n",
       "\t<tr><th scope=row>X1</th><td>1</td><td>814</td><td>28.7457</td><td>3.741717</td><td>29</td><td>28.77607</td><td>4.4478</td><td>22</td><td>37</td><td>15</td><td>-0.04502654</td><td>-0.9682246</td><td>0.1311471</td></tr>\n",
       "</tbody>\n",
       "</table>\n"
      ],
      "text/latex": [
       "A psych: 1 × 13\n",
       "\\begin{tabular}{r|lllllllllllll}\n",
       "  & vars & n & mean & sd & median & trimmed & mad & min & max & range & skew & kurtosis & se\\\\\n",
       "  & <dbl> & <dbl> & <dbl> & <dbl> & <dbl> & <dbl> & <dbl> & <dbl> & <dbl> & <dbl> & <dbl> & <dbl> & <dbl>\\\\\n",
       "\\hline\n",
       "\tX1 & 1 & 814 & 28.7457 & 3.741717 & 29 & 28.77607 & 4.4478 & 22 & 37 & 15 & -0.04502654 & -0.9682246 & 0.1311471\\\\\n",
       "\\end{tabular}\n"
      ],
      "text/markdown": [
       "\n",
       "A psych: 1 × 13\n",
       "\n",
       "| <!--/--> | vars &lt;dbl&gt; | n &lt;dbl&gt; | mean &lt;dbl&gt; | sd &lt;dbl&gt; | median &lt;dbl&gt; | trimmed &lt;dbl&gt; | mad &lt;dbl&gt; | min &lt;dbl&gt; | max &lt;dbl&gt; | range &lt;dbl&gt; | skew &lt;dbl&gt; | kurtosis &lt;dbl&gt; | se &lt;dbl&gt; |\n",
       "|---|---|---|---|---|---|---|---|---|---|---|---|---|---|\n",
       "| X1 | 1 | 814 | 28.7457 | 3.741717 | 29 | 28.77607 | 4.4478 | 22 | 37 | 15 | -0.04502654 | -0.9682246 | 0.1311471 |\n",
       "\n"
      ],
      "text/plain": [
       "   vars n   mean    sd       median trimmed  mad    min max range skew       \n",
       "X1 1    814 28.7457 3.741717 29     28.77607 4.4478 22  37  15    -0.04502654\n",
       "   kurtosis   se       \n",
       "X1 -0.9682246 0.1311471"
      ]
     },
     "metadata": {},
     "output_type": "display_data"
    },
    {
     "data": {
      "text/html": [
       "<table class=\"dataframe\">\n",
       "<caption>A psych: 1 × 13</caption>\n",
       "<thead>\n",
       "\t<tr><th></th><th scope=col>vars</th><th scope=col>n</th><th scope=col>mean</th><th scope=col>sd</th><th scope=col>median</th><th scope=col>trimmed</th><th scope=col>mad</th><th scope=col>min</th><th scope=col>max</th><th scope=col>range</th><th scope=col>skew</th><th scope=col>kurtosis</th><th scope=col>se</th></tr>\n",
       "\t<tr><th></th><th scope=col>&lt;dbl&gt;</th><th scope=col>&lt;dbl&gt;</th><th scope=col>&lt;dbl&gt;</th><th scope=col>&lt;dbl&gt;</th><th scope=col>&lt;dbl&gt;</th><th scope=col>&lt;dbl&gt;</th><th scope=col>&lt;dbl&gt;</th><th scope=col>&lt;dbl&gt;</th><th scope=col>&lt;dbl&gt;</th><th scope=col>&lt;dbl&gt;</th><th scope=col>&lt;dbl&gt;</th><th scope=col>&lt;dbl&gt;</th><th scope=col>&lt;dbl&gt;</th></tr>\n",
       "</thead>\n",
       "<tbody>\n",
       "\t<tr><th scope=row>X1</th><td>1</td><td>814</td><td>26.59362</td><td>5.279214</td><td>25.525</td><td>26.05305</td><td>4.751733</td><td>16.65</td><td>47.76</td><td>31.11</td><td>0.9445723</td><td>0.7396266</td><td>0.1850364</td></tr>\n",
       "</tbody>\n",
       "</table>\n"
      ],
      "text/latex": [
       "A psych: 1 × 13\n",
       "\\begin{tabular}{r|lllllllllllll}\n",
       "  & vars & n & mean & sd & median & trimmed & mad & min & max & range & skew & kurtosis & se\\\\\n",
       "  & <dbl> & <dbl> & <dbl> & <dbl> & <dbl> & <dbl> & <dbl> & <dbl> & <dbl> & <dbl> & <dbl> & <dbl> & <dbl>\\\\\n",
       "\\hline\n",
       "\tX1 & 1 & 814 & 26.59362 & 5.279214 & 25.525 & 26.05305 & 4.751733 & 16.65 & 47.76 & 31.11 & 0.9445723 & 0.7396266 & 0.1850364\\\\\n",
       "\\end{tabular}\n"
      ],
      "text/markdown": [
       "\n",
       "A psych: 1 × 13\n",
       "\n",
       "| <!--/--> | vars &lt;dbl&gt; | n &lt;dbl&gt; | mean &lt;dbl&gt; | sd &lt;dbl&gt; | median &lt;dbl&gt; | trimmed &lt;dbl&gt; | mad &lt;dbl&gt; | min &lt;dbl&gt; | max &lt;dbl&gt; | range &lt;dbl&gt; | skew &lt;dbl&gt; | kurtosis &lt;dbl&gt; | se &lt;dbl&gt; |\n",
       "|---|---|---|---|---|---|---|---|---|---|---|---|---|---|\n",
       "| X1 | 1 | 814 | 26.59362 | 5.279214 | 25.525 | 26.05305 | 4.751733 | 16.65 | 47.76 | 31.11 | 0.9445723 | 0.7396266 | 0.1850364 |\n",
       "\n"
      ],
      "text/plain": [
       "   vars n   mean     sd       median trimmed  mad      min   max   range\n",
       "X1 1    814 26.59362 5.279214 25.525 26.05305 4.751733 16.65 47.76 31.11\n",
       "   skew      kurtosis  se       \n",
       "X1 0.9445723 0.7396266 0.1850364"
      ]
     },
     "metadata": {},
     "output_type": "display_data"
    },
    {
     "data": {
      "text/plain": [
       "\n",
       "  1   2 \n",
       "421 393 "
      ]
     },
     "metadata": {},
     "output_type": "display_data"
    }
   ],
   "source": [
    "nrow(dataset)\n",
    "describe(dataset$Age)\n",
    "describe(dataset$BMI)\n",
    "table(dataset$Sex)"
   ]
  },
  {
   "cell_type": "markdown",
   "id": "3b9f7f41",
   "metadata": {},
   "source": [
    "## HCPA"
   ]
  },
  {
   "cell_type": "code",
   "execution_count": 12,
   "id": "daca681c",
   "metadata": {},
   "outputs": [],
   "source": [
    "data_beh=read.table('/dagher/dagher11/filip/Obesity_maps/data_old/analysis_HCPA.fsgd',sep='\\t',header=T)\n",
    "data_thick_lh=read.table('/dagher/dagher11/filip/Obesity_maps/data_old/CT_HCPA_BMI_LH.txt',sep='\\t',header=T)[1:32]\n",
    "data_thick_rh=read.table('/dagher/dagher11/filip/Obesity_maps/data_old/CT_HCPA_BMI_RH.txt',sep='\\t',header=T)[2:32]\n",
    "data_thick=cbind(data_thick_lh,data_thick_rh)\n",
    "colnames(data_thick)=c('Subject',colnames(data_thick)[2:(ncol(data_thick))])"
   ]
  },
  {
   "cell_type": "code",
   "execution_count": 13,
   "id": "93db0eab",
   "metadata": {},
   "outputs": [],
   "source": [
    "dataset=merge(data_beh, data_thick, by='Subject')"
   ]
  },
  {
   "cell_type": "code",
   "execution_count": 14,
   "id": "7e556325",
   "metadata": {},
   "outputs": [],
   "source": [
    "write.table(dataset,'/dagher/dagher11/filip/Obesity_maps/data/dataset_HCPA.csv',,sep=',',row.names=F)"
   ]
  },
  {
   "cell_type": "code",
   "execution_count": 15,
   "id": "45180a55",
   "metadata": {},
   "outputs": [],
   "source": [
    "results=matrix(ncol=6,nrow=length(c(grep('thickness',colnames(dataset))))) \n",
    "\n",
    "for (i in 1:length(c(grep('thickness',colnames(dataset))))) \n",
    "{ \n",
    "    \n",
    "    m1=summary(lm(dataset[c(grep('thickness',colnames(dataset)))][[i]] ~ \n",
    "          dataset$BMI +\n",
    "          dataset$Age +\n",
    "          dataset$Sex + \n",
    "          dataset$Edu \n",
    "          #dataset$Income +\n",
    "          #dataset$Site\n",
    "                 ))\n",
    "    \n",
    "    results[i,1]=colnames(dataset)[c(grep('thickness',colnames(dataset)))][i] \n",
    "    results[i,2]=as.numeric(m1$coefficients[2,4]) # p-value \n",
    "    results[i,3]=as.numeric(m1$coefficients[2,3]) # t-value \n",
    "    results[i,4]=as.numeric(m1$coefficients[2,1]) # sd for \n",
    "    results[i,5]=as.numeric(m1$coefficients[2,2]) # estimate for \n",
    "    results[i,6]=ifelse(grepl(\"left\",results[i,1]),\"left\",\"right\") #save hemisphere\n",
    "\n",
    "}"
   ]
  },
  {
   "cell_type": "code",
   "execution_count": 16,
   "id": "8ffeb724",
   "metadata": {},
   "outputs": [],
   "source": [
    "write.table(results,'/dagher/dagher11/filip/Obesity_maps/tables/HCPA_BMI.csv',sep=',',row.names=F,col.names=T)"
   ]
  },
  {
   "cell_type": "code",
   "execution_count": 17,
   "id": "c63a2414",
   "metadata": {},
   "outputs": [],
   "source": [
    "results=as.data.frame(results)\n",
    "\n",
    "colnames(results)=c('Parcel','p-value', 't-value', 'SD', 'estimate', 'hemisphere')\n",
    "\n",
    "results$'p-value'=as.numeric(results$'p-value')\n",
    "results$'t-value'=as.numeric(results$'t-value')\n",
    "results$SD=as.numeric(results$SD)\n",
    "results$estimate=as.numeric(results$estimate)\n",
    "results$Parcel=c(\"Caudal Anterior Cingulate\", \"Caudal Middle Frontal\",\n",
    "\"Cuneus\", \"Entorhinal\",\n",
    "\"Fusiform\", \"Inferior Parietal\",\n",
    "\"Inferior Temporal\", \"Isthmus Cingulate\",\n",
    "\"Lateral Occipital\", \"Lateral Orbitofrontal\",\n",
    "\"Lingual\", \"Medial Orbitofrontal\",\n",
    "\"Middle Temporal\", \"Parahippocampal\",\n",
    "\"Paracentral\", \"Pars Opercularis\",\n",
    "\"Pars Orbitalis\", \"Pars Triangularis\",\n",
    "\"Pericalcarine\", \"Postcentral\",\n",
    "\"Posterior Cingulate\", \"Precentral\",\n",
    "\"Precuneus\", \"Rostral Anterior Cingulate\",\n",
    "\"Rostral Middle Frontal\", \"Superior Frontal\",\n",
    "\"Superior Parietal\", \"Superior Temporal\",\n",
    "\"Supramarginal\", \"Transverse Temporal\",\n",
    "\"Insula\", \"Caudal Anterior Cingulate\",\n",
    "\"Caudal Middle Frontal\", \"Cuneus\",\n",
    "\"Entorhinal\", \"Fusiform\",\n",
    "\"Inferior Parietal\", \"Inferior Temporal\",\n",
    "\"Isthmus Cingulate\", \"Lateral Occipital\",\n",
    "\"Lateral Orbitofrontal\", \"Lingual\",\n",
    "\"Medial Orbitofrontal\", \"Middle Temporal\",\n",
    "\"Parahippocampal\", \"Paracentral\",\n",
    "\"Pars Opercularis\", \"Pars Orbitalis\",\n",
    "\"Pars Triangularis\", \"Pericalcarine\",\n",
    "\"Postcentral\", \"Posterior Cingulate\",\n",
    "\"Precentral\", \"Precuneus\",\n",
    "\"Rostral Anterior Cingulate\", \"Rostral Middle Frontal\",\n",
    "\"Superior Frontal\", \"Superior Parietal\",\n",
    "\"Superior Temporal\", \"Supramarginal\",\n",
    "\"Transverse Temporal\", \"Insula\")\n",
    "results$hemisphere=NULL\n",
    "\n",
    "\n",
    "doc <- read_docx()\n",
    "results[, sapply(results, is.numeric)] <- round(results[, sapply(results, is.numeric)], 4)\n",
    "doc <- doc %>%\n",
    "  body_add_table(as.data.frame(results))\n",
    "\n",
    "print(doc, target = \"/dagher/dagher11/filip/Obesity_maps/tables/HCPA_BMInoSES.docx\")"
   ]
  },
  {
   "cell_type": "code",
   "execution_count": 18,
   "id": "234dc97f",
   "metadata": {},
   "outputs": [],
   "source": [
    "writeMat('/dagher/dagher11/filip/Obesity_maps/data/HCPA_CT_DKT_RH_noSES.mat','HCPA_CT_DKT_LH'=(as.numeric(results[,3][c(1:31)])))\n",
    "writeMat('/dagher/dagher11/filip/Obesity_maps/data/HCPA_CT_DKT_LH_noSES.mat','HCPA_CT_DKT_RH'=(as.numeric(results[,3][c(32:62)])))"
   ]
  },
  {
   "cell_type": "code",
   "execution_count": 19,
   "id": "6144bade",
   "metadata": {},
   "outputs": [],
   "source": [
    "writeMat('/dagher/dagher11/filip/Obesity_maps/data/HCPA_CT_DKT_LHRH_noSES.mat','HCPA_CT_DKT_LHRH'=(as.numeric(results[,3][c(1:62)])))"
   ]
  },
  {
   "cell_type": "code",
   "execution_count": 93,
   "id": "dbbf8b3e",
   "metadata": {},
   "outputs": [],
   "source": [
    "write.table(results[,3][c(1:31)],'/dagher/dagher11/filip/Obesity_maps/data/HCPA_CT_DKT_LH.csv',\n",
    "            sep=',',row.names=F, col.names=F)\n",
    "write.table(results[,3][c(32:62)],'/dagher/dagher11/filip/Obesity_maps/data/HCPA_CT_DKT_RH.csv',\n",
    "            sep=',', row.names=F, col.names=F)"
   ]
  },
  {
   "cell_type": "code",
   "execution_count": 94,
   "id": "2a6a6efe",
   "metadata": {},
   "outputs": [
    {
     "data": {
      "text/html": [
       "228"
      ],
      "text/latex": [
       "228"
      ],
      "text/markdown": [
       "228"
      ],
      "text/plain": [
       "[1] 228"
      ]
     },
     "metadata": {},
     "output_type": "display_data"
    },
    {
     "data": {
      "text/html": [
       "<table class=\"dataframe\">\n",
       "<caption>A psych: 1 × 13</caption>\n",
       "<thead>\n",
       "\t<tr><th></th><th scope=col>vars</th><th scope=col>n</th><th scope=col>mean</th><th scope=col>sd</th><th scope=col>median</th><th scope=col>trimmed</th><th scope=col>mad</th><th scope=col>min</th><th scope=col>max</th><th scope=col>range</th><th scope=col>skew</th><th scope=col>kurtosis</th><th scope=col>se</th></tr>\n",
       "\t<tr><th></th><th scope=col>&lt;dbl&gt;</th><th scope=col>&lt;dbl&gt;</th><th scope=col>&lt;dbl&gt;</th><th scope=col>&lt;dbl&gt;</th><th scope=col>&lt;dbl&gt;</th><th scope=col>&lt;dbl&gt;</th><th scope=col>&lt;dbl&gt;</th><th scope=col>&lt;dbl&gt;</th><th scope=col>&lt;dbl&gt;</th><th scope=col>&lt;dbl&gt;</th><th scope=col>&lt;dbl&gt;</th><th scope=col>&lt;dbl&gt;</th><th scope=col>&lt;dbl&gt;</th></tr>\n",
       "</thead>\n",
       "<tbody>\n",
       "\t<tr><th scope=row>X1</th><td>1</td><td>228</td><td>42.82529</td><td>4.164367</td><td>42.45833</td><td>42.79348</td><td>5.868625</td><td>36</td><td>49.91667</td><td>13.91667</td><td>0.07716315</td><td>-1.277424</td><td>0.275792</td></tr>\n",
       "</tbody>\n",
       "</table>\n"
      ],
      "text/latex": [
       "A psych: 1 × 13\n",
       "\\begin{tabular}{r|lllllllllllll}\n",
       "  & vars & n & mean & sd & median & trimmed & mad & min & max & range & skew & kurtosis & se\\\\\n",
       "  & <dbl> & <dbl> & <dbl> & <dbl> & <dbl> & <dbl> & <dbl> & <dbl> & <dbl> & <dbl> & <dbl> & <dbl> & <dbl>\\\\\n",
       "\\hline\n",
       "\tX1 & 1 & 228 & 42.82529 & 4.164367 & 42.45833 & 42.79348 & 5.868625 & 36 & 49.91667 & 13.91667 & 0.07716315 & -1.277424 & 0.275792\\\\\n",
       "\\end{tabular}\n"
      ],
      "text/markdown": [
       "\n",
       "A psych: 1 × 13\n",
       "\n",
       "| <!--/--> | vars &lt;dbl&gt; | n &lt;dbl&gt; | mean &lt;dbl&gt; | sd &lt;dbl&gt; | median &lt;dbl&gt; | trimmed &lt;dbl&gt; | mad &lt;dbl&gt; | min &lt;dbl&gt; | max &lt;dbl&gt; | range &lt;dbl&gt; | skew &lt;dbl&gt; | kurtosis &lt;dbl&gt; | se &lt;dbl&gt; |\n",
       "|---|---|---|---|---|---|---|---|---|---|---|---|---|---|\n",
       "| X1 | 1 | 228 | 42.82529 | 4.164367 | 42.45833 | 42.79348 | 5.868625 | 36 | 49.91667 | 13.91667 | 0.07716315 | -1.277424 | 0.275792 |\n",
       "\n"
      ],
      "text/plain": [
       "   vars n   mean     sd       median   trimmed  mad      min max      range   \n",
       "X1 1    228 42.82529 4.164367 42.45833 42.79348 5.868625 36  49.91667 13.91667\n",
       "   skew       kurtosis  se      \n",
       "X1 0.07716315 -1.277424 0.275792"
      ]
     },
     "metadata": {},
     "output_type": "display_data"
    },
    {
     "data": {
      "text/html": [
       "<table class=\"dataframe\">\n",
       "<caption>A psych: 1 × 13</caption>\n",
       "<thead>\n",
       "\t<tr><th></th><th scope=col>vars</th><th scope=col>n</th><th scope=col>mean</th><th scope=col>sd</th><th scope=col>median</th><th scope=col>trimmed</th><th scope=col>mad</th><th scope=col>min</th><th scope=col>max</th><th scope=col>range</th><th scope=col>skew</th><th scope=col>kurtosis</th><th scope=col>se</th></tr>\n",
       "\t<tr><th></th><th scope=col>&lt;dbl&gt;</th><th scope=col>&lt;dbl&gt;</th><th scope=col>&lt;dbl&gt;</th><th scope=col>&lt;dbl&gt;</th><th scope=col>&lt;dbl&gt;</th><th scope=col>&lt;dbl&gt;</th><th scope=col>&lt;dbl&gt;</th><th scope=col>&lt;dbl&gt;</th><th scope=col>&lt;dbl&gt;</th><th scope=col>&lt;dbl&gt;</th><th scope=col>&lt;dbl&gt;</th><th scope=col>&lt;dbl&gt;</th><th scope=col>&lt;dbl&gt;</th></tr>\n",
       "</thead>\n",
       "<tbody>\n",
       "\t<tr><th scope=row>X1</th><td>1</td><td>227</td><td>27.71077</td><td>5.146711</td><td>26.82773</td><td>27.39543</td><td>5.392765</td><td>18.58902</td><td>41.80904</td><td>23.22002</td><td>0.5066034</td><td>-0.4299561</td><td>0.3415992</td></tr>\n",
       "</tbody>\n",
       "</table>\n"
      ],
      "text/latex": [
       "A psych: 1 × 13\n",
       "\\begin{tabular}{r|lllllllllllll}\n",
       "  & vars & n & mean & sd & median & trimmed & mad & min & max & range & skew & kurtosis & se\\\\\n",
       "  & <dbl> & <dbl> & <dbl> & <dbl> & <dbl> & <dbl> & <dbl> & <dbl> & <dbl> & <dbl> & <dbl> & <dbl> & <dbl>\\\\\n",
       "\\hline\n",
       "\tX1 & 1 & 227 & 27.71077 & 5.146711 & 26.82773 & 27.39543 & 5.392765 & 18.58902 & 41.80904 & 23.22002 & 0.5066034 & -0.4299561 & 0.3415992\\\\\n",
       "\\end{tabular}\n"
      ],
      "text/markdown": [
       "\n",
       "A psych: 1 × 13\n",
       "\n",
       "| <!--/--> | vars &lt;dbl&gt; | n &lt;dbl&gt; | mean &lt;dbl&gt; | sd &lt;dbl&gt; | median &lt;dbl&gt; | trimmed &lt;dbl&gt; | mad &lt;dbl&gt; | min &lt;dbl&gt; | max &lt;dbl&gt; | range &lt;dbl&gt; | skew &lt;dbl&gt; | kurtosis &lt;dbl&gt; | se &lt;dbl&gt; |\n",
       "|---|---|---|---|---|---|---|---|---|---|---|---|---|---|\n",
       "| X1 | 1 | 227 | 27.71077 | 5.146711 | 26.82773 | 27.39543 | 5.392765 | 18.58902 | 41.80904 | 23.22002 | 0.5066034 | -0.4299561 | 0.3415992 |\n",
       "\n"
      ],
      "text/plain": [
       "   vars n   mean     sd       median   trimmed  mad      min      max     \n",
       "X1 1    227 27.71077 5.146711 26.82773 27.39543 5.392765 18.58902 41.80904\n",
       "   range    skew      kurtosis   se       \n",
       "X1 23.22002 0.5066034 -0.4299561 0.3415992"
      ]
     },
     "metadata": {},
     "output_type": "display_data"
    },
    {
     "data": {
      "text/plain": [
       "\n",
       "  1   2 \n",
       "130  98 "
      ]
     },
     "metadata": {},
     "output_type": "display_data"
    }
   ],
   "source": [
    "nrow(dataset)\n",
    "describe(dataset$Age)\n",
    "describe(dataset$BMI)\n",
    "table(dataset$Sex)"
   ]
  }
 ],
 "metadata": {
  "kernelspec": {
   "display_name": "mambaR",
   "language": "R",
   "name": "r4"
  },
  "language_info": {
   "codemirror_mode": "r",
   "file_extension": ".r",
   "mimetype": "text/x-r-source",
   "name": "R",
   "pygments_lexer": "r",
   "version": "4.3.1"
  }
 },
 "nbformat": 4,
 "nbformat_minor": 5
}
