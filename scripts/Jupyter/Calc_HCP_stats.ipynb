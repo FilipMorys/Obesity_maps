{
 "cells": [
  {
   "cell_type": "code",
   "execution_count": 191,
   "id": "6d8e0202",
   "metadata": {},
   "outputs": [],
   "source": [
    "library(R.matlab)\n",
    "library(psych)"
   ]
  },
  {
   "cell_type": "markdown",
   "id": "7aa5f0e6",
   "metadata": {},
   "source": [
    "# HCP"
   ]
  },
  {
   "cell_type": "code",
   "execution_count": 192,
   "id": "7e002cf2",
   "metadata": {},
   "outputs": [],
   "source": [
    "data_beh=read.table('/dagher/dagher11/filip/Obesity_maps/data_old/analysis_noethn.fsgd',sep='\\t',header=T)\n",
    "data_thick_lh=read.table('/dagher/dagher11/filip/Obesity_maps/data_old/CT_BMI_LH.txt',sep='\\t',header=T)[1:32]\n",
    "data_thick_rh=read.table('/dagher/dagher11/filip/Obesity_maps/data_old/CT_BMI_RH.txt',sep='\\t',header=T)[2:32]\n",
    "data_thick=cbind(data_thick_lh,data_thick_rh)\n",
    "colnames(data_thick)=c('Subject',colnames(data_thick)[2:(ncol(data_thick))])"
   ]
  },
  {
   "cell_type": "code",
   "execution_count": 193,
   "id": "f700618a",
   "metadata": {},
   "outputs": [],
   "source": [
    "dataset=merge(data_beh, data_thick, by='Subject')"
   ]
  },
  {
   "cell_type": "code",
   "execution_count": 194,
   "id": "e89d2f9a",
   "metadata": {},
   "outputs": [],
   "source": [
    "write.table(dataset,'/dagher/dagher11/filip/Obesity_maps/data/dataset_HCP.csv',,sep=',',row.names=F)"
   ]
  },
  {
   "cell_type": "code",
   "execution_count": 178,
   "id": "b0a6687a",
   "metadata": {},
   "outputs": [],
   "source": [
    "results=matrix(ncol=6,nrow=length(c(grep('thickness',colnames(dataset))))) \n",
    "\n",
    "for (i in 1:length(c(grep('thickness',colnames(dataset))))) \n",
    "{ \n",
    "    \n",
    "    m1=summary(lm(dataset[c(grep('thickness',colnames(dataset)))][[i]] ~ \n",
    "          dataset$BMI +\n",
    "          dataset$Age +\n",
    "          dataset$Sex + \n",
    "          dataset$Edu +\n",
    "          dataset$Income))\n",
    "    \n",
    "    results[i,1]=colnames(dataset)[c(grep('thickness',colnames(dataset)))][i] \n",
    "    results[i,2]=m1$coefficients[2,4] # p-value \n",
    "    results[i,3]=m1$coefficients[2,3] # t-value \n",
    "    results[i,4]=m1$coefficients[2,1] # sd for \n",
    "    results[i,5]=m1$coefficients[2,2] # estimate for \n",
    "    results[i,6]=ifelse(grepl(\"left\",results[i,1]),\"left\",\"right\") #save hemisphere\n",
    "\n",
    "}\n",
    "\n",
    "colnames(results)=c('Parcel','p-value', 't-value', 'SD', 'estimate', 'hemisphere')"
   ]
  },
  {
   "cell_type": "code",
   "execution_count": 179,
   "id": "9c2409c2",
   "metadata": {},
   "outputs": [],
   "source": [
    "write.table(results,'/dagher/dagher11/filip/Obesity_maps/tables/HCP_BMI.csv',sep=',',row.names=F,col.names=T)"
   ]
  },
  {
   "cell_type": "code",
   "execution_count": 180,
   "id": "2b66b8a8",
   "metadata": {},
   "outputs": [],
   "source": [
    "results=as.data.frame(results)\n",
    "\n",
    "colnames(results)=c('Parcel','p-value', 't-value', 'SD', 'estimate', 'hemisphere')\n",
    "\n",
    "results$'p-value'=as.numeric(results$'p-value')\n",
    "results$'t-value'=as.numeric(results$'t-value')\n",
    "results$SD=as.numeric(results$SD)\n",
    "results$estimate=as.numeric(results$estimate)\n",
    "results$Parcel=c(\"Caudal Anterior Cingulate\", \"Caudal Middle Frontal\",\n",
    "\"Cuneus\", \"Entorhinal\",\n",
    "\"Fusiform\", \"Inferior Parietal\",\n",
    "\"Inferior Temporal\", \"Isthmus Cingulate\",\n",
    "\"Lateral Occipital\", \"Lateral Orbitofrontal\",\n",
    "\"Lingual\", \"Medial Orbitofrontal\",\n",
    "\"Middle Temporal\", \"Parahippocampal\",\n",
    "\"Paracentral\", \"Pars Opercularis\",\n",
    "\"Pars Orbitalis\", \"Pars Triangularis\",\n",
    "\"Pericalcarine\", \"Postcentral\",\n",
    "\"Posterior Cingulate\", \"Precentral\",\n",
    "\"Precuneus\", \"Rostral Anterior Cingulate\",\n",
    "\"Rostral Middle Frontal\", \"Superior Frontal\",\n",
    "\"Superior Parietal\", \"Superior Temporal\",\n",
    "\"Supramarginal\", \"Transverse Temporal\",\n",
    "\"Insula\", \"Caudal Anterior Cingulate\",\n",
    "\"Caudal Middle Frontal\", \"Cuneus\",\n",
    "\"Entorhinal\", \"Fusiform\",\n",
    "\"Inferior Parietal\", \"Inferior Temporal\",\n",
    "\"Isthmus Cingulate\", \"Lateral Occipital\",\n",
    "\"Lateral Orbitofrontal\", \"Lingual\",\n",
    "\"Medial Orbitofrontal\", \"Middle Temporal\",\n",
    "\"Parahippocampal\", \"Paracentral\",\n",
    "\"Pars Opercularis\", \"Pars Orbitalis\",\n",
    "\"Pars Triangularis\", \"Pericalcarine\",\n",
    "\"Postcentral\", \"Posterior Cingulate\",\n",
    "\"Precentral\", \"Precuneus\",\n",
    "\"Rostral Anterior Cingulate\", \"Rostral Middle Frontal\",\n",
    "\"Superior Frontal\", \"Superior Parietal\",\n",
    "\"Superior Temporal\", \"Supramarginal\",\n",
    "\"Transverse Temporal\", \"Insula\")\n",
    "results$hemisphere=NULL\n",
    "\n",
    "\n",
    "doc <- read_docx()\n",
    "results[, sapply(results, is.numeric)] <- round(results[, sapply(results, is.numeric)], 4)\n",
    "doc <- doc %>%\n",
    "  body_add_table(as.data.frame(results))\n",
    "\n",
    "print(doc, target = \"/dagher/dagher11/filip/Obesity_maps/tables/HCP_BMI.docx\")"
   ]
  },
  {
   "cell_type": "code",
   "execution_count": 181,
   "id": "ceea9578",
   "metadata": {},
   "outputs": [],
   "source": [
    "writeMat('/dagher/dagher11/filip/Obesity_maps/data/HCP_CT_DKT_RH.mat','HCP_CT_DKT_LH'=t(as.numeric(results[,3][c(1:31)])))\n",
    "writeMat('/dagher/dagher11/filip/Obesity_maps/data/HCP_CT_DKT_LH.mat','HCP_CT_DKT_RH'=t(as.numeric(results[,3][c(32:62)])))"
   ]
  },
  {
   "cell_type": "code",
   "execution_count": 182,
   "id": "6569dc72",
   "metadata": {},
   "outputs": [],
   "source": [
    "writeMat('/dagher/dagher11/filip/Obesity_maps/data/HCP_CT_DKT_LHRH.mat','HCP_CT_DKT_LHRH'=t(as.numeric(results[,3][c(1:62)])))"
   ]
  },
  {
   "cell_type": "code",
   "execution_count": 47,
   "id": "a95f0673",
   "metadata": {},
   "outputs": [],
   "source": [
    "write.table(results[,3][c(1:31)],'/dagher/dagher11/filip/Obesity_maps/data/HCP_CT_DKT_LH.csv',\n",
    "            sep=',',row.names=F, col.names=F)\n",
    "write.table(results[,3][c(32:62)],'/dagher/dagher11/filip/Obesity_maps/data/HCP_CT_DKT_RH.csv',\n",
    "            sep=',', row.names=F, col.names=F)"
   ]
  },
  {
   "cell_type": "code",
   "execution_count": 78,
   "id": "5560bf24",
   "metadata": {},
   "outputs": [
    {
     "data": {
      "text/html": [
       "814"
      ],
      "text/latex": [
       "814"
      ],
      "text/markdown": [
       "814"
      ],
      "text/plain": [
       "[1] 814"
      ]
     },
     "metadata": {},
     "output_type": "display_data"
    },
    {
     "data": {
      "text/html": [
       "<table class=\"dataframe\">\n",
       "<caption>A psych: 1 × 13</caption>\n",
       "<thead>\n",
       "\t<tr><th></th><th scope=col>vars</th><th scope=col>n</th><th scope=col>mean</th><th scope=col>sd</th><th scope=col>median</th><th scope=col>trimmed</th><th scope=col>mad</th><th scope=col>min</th><th scope=col>max</th><th scope=col>range</th><th scope=col>skew</th><th scope=col>kurtosis</th><th scope=col>se</th></tr>\n",
       "\t<tr><th></th><th scope=col>&lt;dbl&gt;</th><th scope=col>&lt;dbl&gt;</th><th scope=col>&lt;dbl&gt;</th><th scope=col>&lt;dbl&gt;</th><th scope=col>&lt;dbl&gt;</th><th scope=col>&lt;dbl&gt;</th><th scope=col>&lt;dbl&gt;</th><th scope=col>&lt;dbl&gt;</th><th scope=col>&lt;dbl&gt;</th><th scope=col>&lt;dbl&gt;</th><th scope=col>&lt;dbl&gt;</th><th scope=col>&lt;dbl&gt;</th><th scope=col>&lt;dbl&gt;</th></tr>\n",
       "</thead>\n",
       "<tbody>\n",
       "\t<tr><th scope=row>X1</th><td>1</td><td>814</td><td>28.7457</td><td>3.741717</td><td>29</td><td>28.77607</td><td>4.4478</td><td>22</td><td>37</td><td>15</td><td>-0.04502654</td><td>-0.9682246</td><td>0.1311471</td></tr>\n",
       "</tbody>\n",
       "</table>\n"
      ],
      "text/latex": [
       "A psych: 1 × 13\n",
       "\\begin{tabular}{r|lllllllllllll}\n",
       "  & vars & n & mean & sd & median & trimmed & mad & min & max & range & skew & kurtosis & se\\\\\n",
       "  & <dbl> & <dbl> & <dbl> & <dbl> & <dbl> & <dbl> & <dbl> & <dbl> & <dbl> & <dbl> & <dbl> & <dbl> & <dbl>\\\\\n",
       "\\hline\n",
       "\tX1 & 1 & 814 & 28.7457 & 3.741717 & 29 & 28.77607 & 4.4478 & 22 & 37 & 15 & -0.04502654 & -0.9682246 & 0.1311471\\\\\n",
       "\\end{tabular}\n"
      ],
      "text/markdown": [
       "\n",
       "A psych: 1 × 13\n",
       "\n",
       "| <!--/--> | vars &lt;dbl&gt; | n &lt;dbl&gt; | mean &lt;dbl&gt; | sd &lt;dbl&gt; | median &lt;dbl&gt; | trimmed &lt;dbl&gt; | mad &lt;dbl&gt; | min &lt;dbl&gt; | max &lt;dbl&gt; | range &lt;dbl&gt; | skew &lt;dbl&gt; | kurtosis &lt;dbl&gt; | se &lt;dbl&gt; |\n",
       "|---|---|---|---|---|---|---|---|---|---|---|---|---|---|\n",
       "| X1 | 1 | 814 | 28.7457 | 3.741717 | 29 | 28.77607 | 4.4478 | 22 | 37 | 15 | -0.04502654 | -0.9682246 | 0.1311471 |\n",
       "\n"
      ],
      "text/plain": [
       "   vars n   mean    sd       median trimmed  mad    min max range skew       \n",
       "X1 1    814 28.7457 3.741717 29     28.77607 4.4478 22  37  15    -0.04502654\n",
       "   kurtosis   se       \n",
       "X1 -0.9682246 0.1311471"
      ]
     },
     "metadata": {},
     "output_type": "display_data"
    },
    {
     "data": {
      "text/html": [
       "<table class=\"dataframe\">\n",
       "<caption>A psych: 1 × 13</caption>\n",
       "<thead>\n",
       "\t<tr><th></th><th scope=col>vars</th><th scope=col>n</th><th scope=col>mean</th><th scope=col>sd</th><th scope=col>median</th><th scope=col>trimmed</th><th scope=col>mad</th><th scope=col>min</th><th scope=col>max</th><th scope=col>range</th><th scope=col>skew</th><th scope=col>kurtosis</th><th scope=col>se</th></tr>\n",
       "\t<tr><th></th><th scope=col>&lt;dbl&gt;</th><th scope=col>&lt;dbl&gt;</th><th scope=col>&lt;dbl&gt;</th><th scope=col>&lt;dbl&gt;</th><th scope=col>&lt;dbl&gt;</th><th scope=col>&lt;dbl&gt;</th><th scope=col>&lt;dbl&gt;</th><th scope=col>&lt;dbl&gt;</th><th scope=col>&lt;dbl&gt;</th><th scope=col>&lt;dbl&gt;</th><th scope=col>&lt;dbl&gt;</th><th scope=col>&lt;dbl&gt;</th><th scope=col>&lt;dbl&gt;</th></tr>\n",
       "</thead>\n",
       "<tbody>\n",
       "\t<tr><th scope=row>X1</th><td>1</td><td>814</td><td>26.59362</td><td>5.279214</td><td>25.525</td><td>26.05305</td><td>4.751733</td><td>16.65</td><td>47.76</td><td>31.11</td><td>0.9445723</td><td>0.7396266</td><td>0.1850364</td></tr>\n",
       "</tbody>\n",
       "</table>\n"
      ],
      "text/latex": [
       "A psych: 1 × 13\n",
       "\\begin{tabular}{r|lllllllllllll}\n",
       "  & vars & n & mean & sd & median & trimmed & mad & min & max & range & skew & kurtosis & se\\\\\n",
       "  & <dbl> & <dbl> & <dbl> & <dbl> & <dbl> & <dbl> & <dbl> & <dbl> & <dbl> & <dbl> & <dbl> & <dbl> & <dbl>\\\\\n",
       "\\hline\n",
       "\tX1 & 1 & 814 & 26.59362 & 5.279214 & 25.525 & 26.05305 & 4.751733 & 16.65 & 47.76 & 31.11 & 0.9445723 & 0.7396266 & 0.1850364\\\\\n",
       "\\end{tabular}\n"
      ],
      "text/markdown": [
       "\n",
       "A psych: 1 × 13\n",
       "\n",
       "| <!--/--> | vars &lt;dbl&gt; | n &lt;dbl&gt; | mean &lt;dbl&gt; | sd &lt;dbl&gt; | median &lt;dbl&gt; | trimmed &lt;dbl&gt; | mad &lt;dbl&gt; | min &lt;dbl&gt; | max &lt;dbl&gt; | range &lt;dbl&gt; | skew &lt;dbl&gt; | kurtosis &lt;dbl&gt; | se &lt;dbl&gt; |\n",
       "|---|---|---|---|---|---|---|---|---|---|---|---|---|---|\n",
       "| X1 | 1 | 814 | 26.59362 | 5.279214 | 25.525 | 26.05305 | 4.751733 | 16.65 | 47.76 | 31.11 | 0.9445723 | 0.7396266 | 0.1850364 |\n",
       "\n"
      ],
      "text/plain": [
       "   vars n   mean     sd       median trimmed  mad      min   max   range\n",
       "X1 1    814 26.59362 5.279214 25.525 26.05305 4.751733 16.65 47.76 31.11\n",
       "   skew      kurtosis  se       \n",
       "X1 0.9445723 0.7396266 0.1850364"
      ]
     },
     "metadata": {},
     "output_type": "display_data"
    },
    {
     "data": {
      "text/plain": [
       "\n",
       "  1   2 \n",
       "421 393 "
      ]
     },
     "metadata": {},
     "output_type": "display_data"
    }
   ],
   "source": [
    "nrow(dataset)\n",
    "describe(dataset$Age)\n",
    "describe(dataset$BMI)\n",
    "table(dataset$Sex)"
   ]
  },
  {
   "cell_type": "markdown",
   "id": "3b9f7f41",
   "metadata": {},
   "source": [
    "## HCPA"
   ]
  },
  {
   "cell_type": "code",
   "execution_count": 195,
   "id": "daca681c",
   "metadata": {},
   "outputs": [],
   "source": [
    "data_beh=read.table('/dagher/dagher11/filip/Obesity_maps/data_old/analysis_HCPA.fsgd',sep='\\t',header=T)\n",
    "data_thick_lh=read.table('/dagher/dagher11/filip/Obesity_maps/data_old/CT_HCPA_BMI_LH.txt',sep='\\t',header=T)[1:32]\n",
    "data_thick_rh=read.table('/dagher/dagher11/filip/Obesity_maps/data_old/CT_HCPA_BMI_RH.txt',sep='\\t',header=T)[2:32]\n",
    "data_thick=cbind(data_thick_lh,data_thick_rh)\n",
    "colnames(data_thick)=c('Subject',colnames(data_thick)[2:(ncol(data_thick))])"
   ]
  },
  {
   "cell_type": "code",
   "execution_count": 196,
   "id": "93db0eab",
   "metadata": {},
   "outputs": [],
   "source": [
    "dataset=merge(data_beh, data_thick, by='Subject')"
   ]
  },
  {
   "cell_type": "code",
   "execution_count": 197,
   "id": "7e556325",
   "metadata": {},
   "outputs": [],
   "source": [
    "write.table(dataset,'/dagher/dagher11/filip/Obesity_maps/data/dataset_HCPA.csv',,sep=',',row.names=F)"
   ]
  },
  {
   "cell_type": "code",
   "execution_count": 171,
   "id": "45180a55",
   "metadata": {},
   "outputs": [],
   "source": [
    "results=matrix(ncol=6,nrow=length(c(grep('thickness',colnames(dataset))))) \n",
    "\n",
    "for (i in 1:length(c(grep('thickness',colnames(dataset))))) \n",
    "{ \n",
    "    \n",
    "    m1=summary(lm(dataset[c(grep('thickness',colnames(dataset)))][[i]] ~ \n",
    "          dataset$BMI +\n",
    "          dataset$Age +\n",
    "          dataset$Sex + \n",
    "          dataset$Edu +\n",
    "          dataset$Income +\n",
    "          dataset$Site))\n",
    "    \n",
    "    results[i,1]=colnames(dataset)[c(grep('thickness',colnames(dataset)))][i] \n",
    "    results[i,2]=as.numeric(m1$coefficients[2,4]) # p-value \n",
    "    results[i,3]=as.numeric(m1$coefficients[2,3]) # t-value \n",
    "    results[i,4]=as.numeric(m1$coefficients[2,1]) # sd for \n",
    "    results[i,5]=as.numeric(m1$coefficients[2,2]) # estimate for \n",
    "    results[i,6]=ifelse(grepl(\"left\",results[i,1]),\"left\",\"right\") #save hemisphere\n",
    "\n",
    "}"
   ]
  },
  {
   "cell_type": "code",
   "execution_count": 172,
   "id": "8ffeb724",
   "metadata": {},
   "outputs": [],
   "source": [
    "write.table(results,'/dagher/dagher11/filip/Obesity_maps/tables/HCPA_BMI.csv',sep=',',row.names=F,col.names=T)"
   ]
  },
  {
   "cell_type": "code",
   "execution_count": 173,
   "id": "c63a2414",
   "metadata": {},
   "outputs": [],
   "source": [
    "results=as.data.frame(results)\n",
    "\n",
    "colnames(results)=c('Parcel','p-value', 't-value', 'SD', 'estimate', 'hemisphere')\n",
    "\n",
    "results$'p-value'=as.numeric(results$'p-value')\n",
    "results$'t-value'=as.numeric(results$'t-value')\n",
    "results$SD=as.numeric(results$SD)\n",
    "results$estimate=as.numeric(results$estimate)\n",
    "results$Parcel=c(\"Caudal Anterior Cingulate\", \"Caudal Middle Frontal\",\n",
    "\"Cuneus\", \"Entorhinal\",\n",
    "\"Fusiform\", \"Inferior Parietal\",\n",
    "\"Inferior Temporal\", \"Isthmus Cingulate\",\n",
    "\"Lateral Occipital\", \"Lateral Orbitofrontal\",\n",
    "\"Lingual\", \"Medial Orbitofrontal\",\n",
    "\"Middle Temporal\", \"Parahippocampal\",\n",
    "\"Paracentral\", \"Pars Opercularis\",\n",
    "\"Pars Orbitalis\", \"Pars Triangularis\",\n",
    "\"Pericalcarine\", \"Postcentral\",\n",
    "\"Posterior Cingulate\", \"Precentral\",\n",
    "\"Precuneus\", \"Rostral Anterior Cingulate\",\n",
    "\"Rostral Middle Frontal\", \"Superior Frontal\",\n",
    "\"Superior Parietal\", \"Superior Temporal\",\n",
    "\"Supramarginal\", \"Transverse Temporal\",\n",
    "\"Insula\", \"Caudal Anterior Cingulate\",\n",
    "\"Caudal Middle Frontal\", \"Cuneus\",\n",
    "\"Entorhinal\", \"Fusiform\",\n",
    "\"Inferior Parietal\", \"Inferior Temporal\",\n",
    "\"Isthmus Cingulate\", \"Lateral Occipital\",\n",
    "\"Lateral Orbitofrontal\", \"Lingual\",\n",
    "\"Medial Orbitofrontal\", \"Middle Temporal\",\n",
    "\"Parahippocampal\", \"Paracentral\",\n",
    "\"Pars Opercularis\", \"Pars Orbitalis\",\n",
    "\"Pars Triangularis\", \"Pericalcarine\",\n",
    "\"Postcentral\", \"Posterior Cingulate\",\n",
    "\"Precentral\", \"Precuneus\",\n",
    "\"Rostral Anterior Cingulate\", \"Rostral Middle Frontal\",\n",
    "\"Superior Frontal\", \"Superior Parietal\",\n",
    "\"Superior Temporal\", \"Supramarginal\",\n",
    "\"Transverse Temporal\", \"Insula\")\n",
    "results$hemisphere=NULL\n",
    "\n",
    "\n",
    "doc <- read_docx()\n",
    "results[, sapply(results, is.numeric)] <- round(results[, sapply(results, is.numeric)], 4)\n",
    "doc <- doc %>%\n",
    "  body_add_table(as.data.frame(results))\n",
    "\n",
    "print(doc, target = \"/dagher/dagher11/filip/Obesity_maps/tables/HCPA_BMI.docx\")"
   ]
  },
  {
   "cell_type": "code",
   "execution_count": 174,
   "id": "234dc97f",
   "metadata": {},
   "outputs": [],
   "source": [
    "writeMat('/dagher/dagher11/filip/Obesity_maps/data/HCPA_CT_DKT_RH.mat','HCPA_CT_DKT_LH'=t(as.numeric(results[,3][c(1:31)])))\n",
    "writeMat('/dagher/dagher11/filip/Obesity_maps/data/HCPA_CT_DKT_LH.mat','HCPA_CT_DKT_RH'=t(as.numeric(results[,3][c(32:62)])))"
   ]
  },
  {
   "cell_type": "code",
   "execution_count": 175,
   "id": "6144bade",
   "metadata": {},
   "outputs": [],
   "source": [
    "writeMat('/dagher/dagher11/filip/Obesity_maps/data/HCPA_CT_DKT_LHRH.mat','HCPA_CT_DKT_LHRH'=t(as.numeric(results[,3][c(1:62)])))"
   ]
  },
  {
   "cell_type": "code",
   "execution_count": 93,
   "id": "dbbf8b3e",
   "metadata": {},
   "outputs": [],
   "source": [
    "write.table(results[,3][c(1:31)],'/dagher/dagher11/filip/Obesity_maps/data/HCPA_CT_DKT_LH.csv',\n",
    "            sep=',',row.names=F, col.names=F)\n",
    "write.table(results[,3][c(32:62)],'/dagher/dagher11/filip/Obesity_maps/data/HCPA_CT_DKT_RH.csv',\n",
    "            sep=',', row.names=F, col.names=F)"
   ]
  },
  {
   "cell_type": "code",
   "execution_count": 94,
   "id": "2a6a6efe",
   "metadata": {},
   "outputs": [
    {
     "data": {
      "text/html": [
       "228"
      ],
      "text/latex": [
       "228"
      ],
      "text/markdown": [
       "228"
      ],
      "text/plain": [
       "[1] 228"
      ]
     },
     "metadata": {},
     "output_type": "display_data"
    },
    {
     "data": {
      "text/html": [
       "<table class=\"dataframe\">\n",
       "<caption>A psych: 1 × 13</caption>\n",
       "<thead>\n",
       "\t<tr><th></th><th scope=col>vars</th><th scope=col>n</th><th scope=col>mean</th><th scope=col>sd</th><th scope=col>median</th><th scope=col>trimmed</th><th scope=col>mad</th><th scope=col>min</th><th scope=col>max</th><th scope=col>range</th><th scope=col>skew</th><th scope=col>kurtosis</th><th scope=col>se</th></tr>\n",
       "\t<tr><th></th><th scope=col>&lt;dbl&gt;</th><th scope=col>&lt;dbl&gt;</th><th scope=col>&lt;dbl&gt;</th><th scope=col>&lt;dbl&gt;</th><th scope=col>&lt;dbl&gt;</th><th scope=col>&lt;dbl&gt;</th><th scope=col>&lt;dbl&gt;</th><th scope=col>&lt;dbl&gt;</th><th scope=col>&lt;dbl&gt;</th><th scope=col>&lt;dbl&gt;</th><th scope=col>&lt;dbl&gt;</th><th scope=col>&lt;dbl&gt;</th><th scope=col>&lt;dbl&gt;</th></tr>\n",
       "</thead>\n",
       "<tbody>\n",
       "\t<tr><th scope=row>X1</th><td>1</td><td>228</td><td>42.82529</td><td>4.164367</td><td>42.45833</td><td>42.79348</td><td>5.868625</td><td>36</td><td>49.91667</td><td>13.91667</td><td>0.07716315</td><td>-1.277424</td><td>0.275792</td></tr>\n",
       "</tbody>\n",
       "</table>\n"
      ],
      "text/latex": [
       "A psych: 1 × 13\n",
       "\\begin{tabular}{r|lllllllllllll}\n",
       "  & vars & n & mean & sd & median & trimmed & mad & min & max & range & skew & kurtosis & se\\\\\n",
       "  & <dbl> & <dbl> & <dbl> & <dbl> & <dbl> & <dbl> & <dbl> & <dbl> & <dbl> & <dbl> & <dbl> & <dbl> & <dbl>\\\\\n",
       "\\hline\n",
       "\tX1 & 1 & 228 & 42.82529 & 4.164367 & 42.45833 & 42.79348 & 5.868625 & 36 & 49.91667 & 13.91667 & 0.07716315 & -1.277424 & 0.275792\\\\\n",
       "\\end{tabular}\n"
      ],
      "text/markdown": [
       "\n",
       "A psych: 1 × 13\n",
       "\n",
       "| <!--/--> | vars &lt;dbl&gt; | n &lt;dbl&gt; | mean &lt;dbl&gt; | sd &lt;dbl&gt; | median &lt;dbl&gt; | trimmed &lt;dbl&gt; | mad &lt;dbl&gt; | min &lt;dbl&gt; | max &lt;dbl&gt; | range &lt;dbl&gt; | skew &lt;dbl&gt; | kurtosis &lt;dbl&gt; | se &lt;dbl&gt; |\n",
       "|---|---|---|---|---|---|---|---|---|---|---|---|---|---|\n",
       "| X1 | 1 | 228 | 42.82529 | 4.164367 | 42.45833 | 42.79348 | 5.868625 | 36 | 49.91667 | 13.91667 | 0.07716315 | -1.277424 | 0.275792 |\n",
       "\n"
      ],
      "text/plain": [
       "   vars n   mean     sd       median   trimmed  mad      min max      range   \n",
       "X1 1    228 42.82529 4.164367 42.45833 42.79348 5.868625 36  49.91667 13.91667\n",
       "   skew       kurtosis  se      \n",
       "X1 0.07716315 -1.277424 0.275792"
      ]
     },
     "metadata": {},
     "output_type": "display_data"
    },
    {
     "data": {
      "text/html": [
       "<table class=\"dataframe\">\n",
       "<caption>A psych: 1 × 13</caption>\n",
       "<thead>\n",
       "\t<tr><th></th><th scope=col>vars</th><th scope=col>n</th><th scope=col>mean</th><th scope=col>sd</th><th scope=col>median</th><th scope=col>trimmed</th><th scope=col>mad</th><th scope=col>min</th><th scope=col>max</th><th scope=col>range</th><th scope=col>skew</th><th scope=col>kurtosis</th><th scope=col>se</th></tr>\n",
       "\t<tr><th></th><th scope=col>&lt;dbl&gt;</th><th scope=col>&lt;dbl&gt;</th><th scope=col>&lt;dbl&gt;</th><th scope=col>&lt;dbl&gt;</th><th scope=col>&lt;dbl&gt;</th><th scope=col>&lt;dbl&gt;</th><th scope=col>&lt;dbl&gt;</th><th scope=col>&lt;dbl&gt;</th><th scope=col>&lt;dbl&gt;</th><th scope=col>&lt;dbl&gt;</th><th scope=col>&lt;dbl&gt;</th><th scope=col>&lt;dbl&gt;</th><th scope=col>&lt;dbl&gt;</th></tr>\n",
       "</thead>\n",
       "<tbody>\n",
       "\t<tr><th scope=row>X1</th><td>1</td><td>227</td><td>27.71077</td><td>5.146711</td><td>26.82773</td><td>27.39543</td><td>5.392765</td><td>18.58902</td><td>41.80904</td><td>23.22002</td><td>0.5066034</td><td>-0.4299561</td><td>0.3415992</td></tr>\n",
       "</tbody>\n",
       "</table>\n"
      ],
      "text/latex": [
       "A psych: 1 × 13\n",
       "\\begin{tabular}{r|lllllllllllll}\n",
       "  & vars & n & mean & sd & median & trimmed & mad & min & max & range & skew & kurtosis & se\\\\\n",
       "  & <dbl> & <dbl> & <dbl> & <dbl> & <dbl> & <dbl> & <dbl> & <dbl> & <dbl> & <dbl> & <dbl> & <dbl> & <dbl>\\\\\n",
       "\\hline\n",
       "\tX1 & 1 & 227 & 27.71077 & 5.146711 & 26.82773 & 27.39543 & 5.392765 & 18.58902 & 41.80904 & 23.22002 & 0.5066034 & -0.4299561 & 0.3415992\\\\\n",
       "\\end{tabular}\n"
      ],
      "text/markdown": [
       "\n",
       "A psych: 1 × 13\n",
       "\n",
       "| <!--/--> | vars &lt;dbl&gt; | n &lt;dbl&gt; | mean &lt;dbl&gt; | sd &lt;dbl&gt; | median &lt;dbl&gt; | trimmed &lt;dbl&gt; | mad &lt;dbl&gt; | min &lt;dbl&gt; | max &lt;dbl&gt; | range &lt;dbl&gt; | skew &lt;dbl&gt; | kurtosis &lt;dbl&gt; | se &lt;dbl&gt; |\n",
       "|---|---|---|---|---|---|---|---|---|---|---|---|---|---|\n",
       "| X1 | 1 | 227 | 27.71077 | 5.146711 | 26.82773 | 27.39543 | 5.392765 | 18.58902 | 41.80904 | 23.22002 | 0.5066034 | -0.4299561 | 0.3415992 |\n",
       "\n"
      ],
      "text/plain": [
       "   vars n   mean     sd       median   trimmed  mad      min      max     \n",
       "X1 1    227 27.71077 5.146711 26.82773 27.39543 5.392765 18.58902 41.80904\n",
       "   range    skew      kurtosis   se       \n",
       "X1 23.22002 0.5066034 -0.4299561 0.3415992"
      ]
     },
     "metadata": {},
     "output_type": "display_data"
    },
    {
     "data": {
      "text/plain": [
       "\n",
       "  1   2 \n",
       "130  98 "
      ]
     },
     "metadata": {},
     "output_type": "display_data"
    }
   ],
   "source": [
    "nrow(dataset)\n",
    "describe(dataset$Age)\n",
    "describe(dataset$BMI)\n",
    "table(dataset$Sex)"
   ]
  }
 ],
 "metadata": {
  "kernelspec": {
   "display_name": "R4",
   "language": "R",
   "name": "r4"
  },
  "language_info": {
   "codemirror_mode": "r",
   "file_extension": ".r",
   "mimetype": "text/x-r-source",
   "name": "R",
   "pygments_lexer": "r",
   "version": "4.2.2"
  }
 },
 "nbformat": 4,
 "nbformat_minor": 5
}
