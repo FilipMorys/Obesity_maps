{
 "cells": [
  {
   "cell_type": "code",
   "execution_count": 6,
   "id": "1e103241",
   "metadata": {},
   "outputs": [
    {
     "name": "stderr",
     "output_type": "stream",
     "text": [
      "\n",
      "Attaching package: ‘dplyr’\n",
      "\n",
      "\n",
      "The following objects are masked from ‘package:stats’:\n",
      "\n",
      "    filter, lag\n",
      "\n",
      "\n",
      "The following objects are masked from ‘package:base’:\n",
      "\n",
      "    intersect, setdiff, setequal, union\n",
      "\n",
      "\n"
     ]
    }
   ],
   "source": [
    "library('officer')\n",
    "library('R.matlab')\n",
    "library(dplyr)"
   ]
  },
  {
   "cell_type": "markdown",
   "id": "bc054152",
   "metadata": {},
   "source": [
    "# Read in data"
   ]
  },
  {
   "cell_type": "code",
   "execution_count": 3,
   "id": "2acdb421",
   "metadata": {},
   "outputs": [],
   "source": [
    "data=read.csv('/dagher/dagher11/filip/MAPT_OB//data/dataset_excluded_nooutlierdexclusions.csv', header=T, quote='\"')"
   ]
  },
  {
   "cell_type": "code",
   "execution_count": 8,
   "id": "777a6fb2",
   "metadata": {},
   "outputs": [],
   "source": [
    "results=matrix(ncol=6,nrow=length(c(\n",
    "                                   grep('thickness_of',colnames(data))))) \n",
    "\n",
    "for (i in 1:length(c(\n",
    "                    grep('thickness_of',colnames(data))))) \n",
    "{ \n",
    "    \n",
    "    m1=summary(lm(data[c(\n",
    "                           grep('thickness_of',colnames(data)))][[i]] ~ \n",
    "          data$body_mass_index_bmi_21001.2.0 +\n",
    "          poly(data$age_when_attended_assessment_centre_21003.2.0, 2, raw=TRUE) +\n",
    "          data$sex_31.0.0 + \n",
    "          poly(difftime(as.Date(data$date_of_attending_assessment_centre_53.2.0), \n",
    "                   min(as.Date(data$date_of_attending_assessment_centre_53.2.0)), units='days'), 2, raw=TRUE) +\n",
    "          data$uk_biobank_assessment_centre_54.2.0 \n",
    "          #data$qualifications_6138.2.0 + data$townsend_deprivation_index_at_recruitment_189.0.0\n",
    "          #data$mean_rfmri_head_motion_averaged_across_space_and_time_points_25741.2.0 + #not used because too many missing values\n",
    "          #data$mean_tfmri_head_motion_averaged_across_space_and_time_points_25742.2.0)) #not used because too many missing values\n",
    "                 ))\n",
    "    results[i,1]=colnames(data)[c(\n",
    "                                   grep('thickness_of',colnames(data)))][i] \n",
    "    results[i,2]=m1$coefficients[2,4] # p-value \n",
    "    results[i,3]=m1$coefficients[2,3] # t-value \n",
    "    results[i,4]=m1$coefficients[2,1] # sd for \n",
    "    results[i,5]=m1$coefficients[2,2] # estimate for \n",
    "    results[i,6]=ifelse(grepl(\"left\",results[i,1]),\"left\",\"right\") #save hemisphere\n",
    "\n",
    "}\n",
    "\n",
    "colnames(results)=c('Parcel','p-value', 't-value', 'SD', 'estimate', 'hemisphere')"
   ]
  },
  {
   "cell_type": "code",
   "execution_count": 29,
   "id": "6ab948bd",
   "metadata": {},
   "outputs": [],
   "source": [
    "write.table(results,'/dagher/dagher11/filip/Obesity_maps/tables/UKBB_BMI.csv',sep=',',row.names=F,col.names=T)"
   ]
  },
  {
   "cell_type": "code",
   "execution_count": 9,
   "id": "d5c4b5cf",
   "metadata": {},
   "outputs": [],
   "source": [
    "results=as.data.frame(results)\n",
    "\n",
    "colnames(results)=c('Parcel','p-value', 't-value', 'SD', 'estimate', 'hemisphere')\n",
    "\n",
    "results$'p-value'=as.numeric(results$'p-value')\n",
    "results$'t-value'=as.numeric(results$'t-value')\n",
    "results$SD=as.numeric(results$SD)\n",
    "results$estimate=as.numeric(results$estimate)\n",
    "results$Parcel=c(\"Caudal Anterior Cingulate\", \"Caudal Middle Frontal\",\n",
    "\"Cuneus\", \"Entorhinal\",\n",
    "\"Fusiform\", \"Inferior Parietal\",\n",
    "\"Inferior Temporal\", \"Isthmus Cingulate\",\n",
    "\"Lateral Occipital\", \"Lateral Orbitofrontal\",\n",
    "\"Lingual\", \"Medial Orbitofrontal\",\n",
    "\"Middle Temporal\", \"Parahippocampal\",\n",
    "\"Paracentral\", \"Pars Opercularis\",\n",
    "\"Pars Orbitalis\", \"Pars Triangularis\",\n",
    "\"Pericalcarine\", \"Postcentral\",\n",
    "\"Posterior Cingulate\", \"Precentral\",\n",
    "\"Precuneus\", \"Rostral Anterior Cingulate\",\n",
    "\"Rostral Middle Frontal\", \"Superior Frontal\",\n",
    "\"Superior Parietal\", \"Superior Temporal\",\n",
    "\"Supramarginal\", \"Transverse Temporal\",\n",
    "\"Insula\", \"Caudal Anterior Cingulate\",\n",
    "\"Caudal Middle Frontal\", \"Cuneus\",\n",
    "\"Entorhinal\", \"Fusiform\",\n",
    "\"Inferior Parietal\", \"Inferior Temporal\",\n",
    "\"Isthmus Cingulate\", \"Lateral Occipital\",\n",
    "\"Lateral Orbitofrontal\", \"Lingual\",\n",
    "\"Medial Orbitofrontal\", \"Middle Temporal\",\n",
    "\"Parahippocampal\", \"Paracentral\",\n",
    "\"Pars Opercularis\", \"Pars Orbitalis\",\n",
    "\"Pars Triangularis\", \"Pericalcarine\",\n",
    "\"Postcentral\", \"Posterior Cingulate\",\n",
    "\"Precentral\", \"Precuneus\",\n",
    "\"Rostral Anterior Cingulate\", \"Rostral Middle Frontal\",\n",
    "\"Superior Frontal\", \"Superior Parietal\",\n",
    "\"Superior Temporal\", \"Supramarginal\",\n",
    "\"Transverse Temporal\", \"Insula\")\n",
    "results$hemisphere=NULL\n",
    "\n",
    "\n",
    "doc <- read_docx()\n",
    "results[, sapply(results, is.numeric)] <- round(results[, sapply(results, is.numeric)], 4)\n",
    "doc <- doc %>%\n",
    "  body_add_table(as.data.frame(results))\n",
    "\n",
    "print(doc, target = \"/dagher/dagher11/filip/Obesity_maps/tables/UKBB_BMInoSES.docx\")"
   ]
  },
  {
   "cell_type": "code",
   "execution_count": 6,
   "id": "44efa1dd",
   "metadata": {},
   "outputs": [],
   "source": [
    "write.table(results[,3][1:31],'/dagher/dagher11/filip/Obesity_maps/data/UKB_DKT_LH.csv',\n",
    "            sep=',',row.names=F, col.names=F)\n",
    "write.table(results[,3][32:62],'/dagher/dagher11/filip/Obesity_maps/data/UKB_DKT_RH.csv',\n",
    "            sep=',',row.names=F, col.names=F)"
   ]
  },
  {
   "cell_type": "code",
   "execution_count": null,
   "id": "5f600e0a",
   "metadata": {},
   "outputs": [],
   "source": [
    "write.table(results[,3][1:62],'/dagher/dagher11/filip/Obesity_maps/data/UKB_DKT_LHRHnoSES.csv',\n",
    "            sep=',',row.names=F, col.names=F)"
   ]
  },
  {
   "cell_type": "code",
   "execution_count": 11,
   "id": "a5ba1f2e",
   "metadata": {},
   "outputs": [],
   "source": [
    "writeMat('/dagher/dagher11/filip/Obesity_maps/data/UKBB_CT_DKT_LH_noSES.mat','UKBB_CT_DKT_LH'=t(as.numeric(results[,3][1:31])))\n",
    "writeMat('/dagher/dagher11/filip/Obesity_maps/data/UKBB_CT_DKT_RH_noSES.mat','UKBB_CT_DKT_RH'=t(as.numeric(results[,3][32:62])))"
   ]
  },
  {
   "cell_type": "code",
   "execution_count": 10,
   "id": "0538c9be",
   "metadata": {},
   "outputs": [],
   "source": [
    "writeMat('/dagher/dagher11/filip/Obesity_maps/data/UKBB_CT_DKT_LHRH_noSES.mat','UKBB_CT_DKT_LHRH'=(as.numeric(results[,3][1:62])))\n"
   ]
  },
  {
   "cell_type": "markdown",
   "id": "8bda99cd",
   "metadata": {},
   "source": [
    "# CRP"
   ]
  },
  {
   "cell_type": "code",
   "execution_count": 40,
   "id": "7506d7a7",
   "metadata": {},
   "outputs": [],
   "source": [
    "results=matrix(ncol=6,nrow=length(c(\n",
    "                                   grep('thickness_of',colnames(data))))) \n",
    "\n",
    "for (i in 1:length(c(\n",
    "                    grep('thickness_of',colnames(data))))) \n",
    "{ \n",
    "    \n",
    "    m1=summary(lm(data[c(\n",
    "                           grep('thickness_of',colnames(data)))][[i]] ~ \n",
    "          data$c.reactive_protein_30710.0.0 +\n",
    "          data$body_mass_index_bmi_21001.2.0 +\n",
    "          poly(data$age_when_attended_assessment_centre_21003.2.0, 2, raw=TRUE) +\n",
    "          data$sex_31.0.0 + \n",
    "          poly(difftime(as.Date(data$date_of_attending_assessment_centre_53.2.0), \n",
    "                   min(as.Date(data$date_of_attending_assessment_centre_53.2.0)), units='days'), 2, raw=TRUE) +\n",
    "          data$uk_biobank_assessment_centre_54.2.0 +\n",
    "          data$qualifications_6138.2.0 + data$townsend_deprivation_index_at_recruitment_189.0.0\n",
    "          #data$mean_rfmri_head_motion_averaged_across_space_and_time_points_25741.2.0 + #not used because too many missing values\n",
    "          #data$mean_tfmri_head_motion_averaged_across_space_and_time_points_25742.2.0)) #not used because too many missing values\n",
    "                 ))\n",
    "    results[i,1]=colnames(data)[c(\n",
    "                                   grep('thickness_of',colnames(data)))][i] \n",
    "    results[i,2]=m1$coefficients[2,4] # p-value \n",
    "    results[i,3]=m1$coefficients[2,3] # t-value \n",
    "    results[i,4]=m1$coefficients[2,1] # sd for \n",
    "    results[i,5]=m1$coefficients[2,2] # estimate for \n",
    "    results[i,6]=ifelse(grepl(\"left\",results[i,1]),\"left\",\"right\") #save hemisphere\n",
    "\n",
    "}\n",
    "\n",
    "colnames(results)=c('Parcel','p-value', 't-value', 'SD', 'estimate', 'hemisphere')"
   ]
  },
  {
   "cell_type": "code",
   "execution_count": 38,
   "id": "5d8d9389",
   "metadata": {},
   "outputs": [],
   "source": [
    "writeMat('/dagher/dagher11/filip/Obesity_maps/data/UKBB_CT_DKT_LH_CRP.mat','UKBB_CT_DKT_LH_CRP'=t(as.numeric(results[,3][1:31])))\n",
    "writeMat('/dagher/dagher11/filip/Obesity_maps/data/UKBB_CT_DKT_RH_CRP.mat','UKBB_CT_DKT_RH_CRP'=t(as.numeric(results[,3][32:62])))"
   ]
  },
  {
   "cell_type": "code",
   "execution_count": null,
   "id": "da11a979",
   "metadata": {},
   "outputs": [],
   "source": []
  },
  {
   "cell_type": "markdown",
   "id": "23e5ef0e",
   "metadata": {},
   "source": [
    "# HbA1C"
   ]
  },
  {
   "cell_type": "code",
   "execution_count": 12,
   "id": "b46844cb",
   "metadata": {},
   "outputs": [],
   "source": [
    "results=matrix(ncol=6,nrow=length(c(\n",
    "                                   grep('thickness_of',colnames(data))))) \n",
    "\n",
    "for (i in 1:length(c(\n",
    "                    grep('thickness_of',colnames(data))))) \n",
    "{ \n",
    "    \n",
    "    m1=summary(lm(data[c(\n",
    "                           grep('thickness_of',colnames(data)))][[i]] ~ \n",
    "          data$glycated_haemoglobin_hba1c_30750.0.0 +\n",
    "          poly(data$age_when_attended_assessment_centre_21003.2.0, 2, raw=TRUE) +\n",
    "          data$sex_31.0.0 + \n",
    "          poly(difftime(as.Date(data$date_of_attending_assessment_centre_53.2.0), \n",
    "                   min(as.Date(data$date_of_attending_assessment_centre_53.2.0)), units='days'), 2, raw=TRUE) +\n",
    "          data$uk_biobank_assessment_centre_54.2.0 +\n",
    "          data$qualifications_6138.2.0 + data$townsend_deprivation_index_at_recruitment_189.0.0\n",
    "          #data$mean_rfmri_head_motion_averaged_across_space_and_time_points_25741.2.0 + #not used because too many missing values\n",
    "          #data$mean_tfmri_head_motion_averaged_across_space_and_time_points_25742.2.0)) #not used because too many missing values\n",
    "                 ))\n",
    "    results[i,1]=colnames(data)[c(\n",
    "                                   grep('thickness_of',colnames(data)))][i] \n",
    "    results[i,2]=m1$coefficients[2,4] # p-value \n",
    "    results[i,3]=m1$coefficients[2,3] # t-value \n",
    "    results[i,4]=m1$coefficients[2,1] # sd for \n",
    "    results[i,5]=m1$coefficients[2,2] # estimate for \n",
    "    results[i,6]=ifelse(grepl(\"left\",results[i,1]),\"left\",\"right\") #save hemisphere\n",
    "\n",
    "}\n",
    "\n",
    "colnames(results)=c('Parcel','p-value', 't-value', 'SD', 'estimate', 'hemisphere')"
   ]
  },
  {
   "cell_type": "code",
   "execution_count": 15,
   "id": "5eeea629",
   "metadata": {},
   "outputs": [],
   "source": [
    "writeMat('/dagher/dagher11/filip/Obesity_maps/data/UKBB_CT_DKT_LH_HB.mat','UKBB_CT_DKT_LH_HB'=t(as.numeric(results[,3][1:31])))\n",
    "writeMat('/dagher/dagher11/filip/Obesity_maps/data/UKBB_CT_DKT_RH_HB.mat','UKBB_CT_DKT_RH_HB'=t(as.numeric(results[,3][32:62])))"
   ]
  },
  {
   "cell_type": "markdown",
   "id": "ee598667",
   "metadata": {},
   "source": [
    "# Lipoprotein A\n"
   ]
  },
  {
   "cell_type": "code",
   "execution_count": 24,
   "id": "ad993ca9",
   "metadata": {},
   "outputs": [],
   "source": [
    "lpa=read.table('/dagher/dagher11/filip/Obesity_maps/data/extracted_apo.csv', sep=',', header=TRUE)"
   ]
  },
  {
   "cell_type": "code",
   "execution_count": 26,
   "id": "aa855544",
   "metadata": {},
   "outputs": [],
   "source": [
    "data=merge(data, lpa, be='eid', all.x=T)"
   ]
  },
  {
   "cell_type": "code",
   "execution_count": 27,
   "id": "c757f7d2",
   "metadata": {},
   "outputs": [],
   "source": [
    "results=matrix(ncol=6,nrow=length(c(\n",
    "                                   grep('thickness_of',colnames(data))))) \n",
    "\n",
    "for (i in 1:length(c(\n",
    "                    grep('thickness_of',colnames(data))))) \n",
    "{ \n",
    "    \n",
    "    m1=summary(lm(data[c(\n",
    "                           grep('thickness_of',colnames(data)))][[i]] ~ \n",
    "          data$lipoprotein_a_30790.0.0 +\n",
    "          poly(data$age_when_attended_assessment_centre_21003.2.0, 2, raw=TRUE) +\n",
    "          data$sex_31.0.0 + \n",
    "          poly(difftime(as.Date(data$date_of_attending_assessment_centre_53.2.0), \n",
    "                   min(as.Date(data$date_of_attending_assessment_centre_53.2.0)), units='days'), 2, raw=TRUE) +\n",
    "          data$uk_biobank_assessment_centre_54.2.0 +\n",
    "          data$qualifications_6138.2.0 + data$townsend_deprivation_index_at_recruitment_189.0.0\n",
    "          #data$mean_rfmri_head_motion_averaged_across_space_and_time_points_25741.2.0 + #not used because too many missing values\n",
    "          #data$mean_tfmri_head_motion_averaged_across_space_and_time_points_25742.2.0)) #not used because too many missing values\n",
    "                 ))\n",
    "    results[i,1]=colnames(data)[c(\n",
    "                                   grep('thickness_of',colnames(data)))][i] \n",
    "    results[i,2]=m1$coefficients[2,4] # p-value \n",
    "    results[i,3]=m1$coefficients[2,3] # t-value \n",
    "    results[i,4]=m1$coefficients[2,1] # sd for \n",
    "    results[i,5]=m1$coefficients[2,2] # estimate for \n",
    "    results[i,6]=ifelse(grepl(\"left\",results[i,1]),\"left\",\"right\") #save hemisphere\n",
    "\n",
    "}\n",
    "\n",
    "colnames(results)=c('Parcel','p-value', 't-value', 'SD', 'estimate', 'hemisphere')"
   ]
  },
  {
   "cell_type": "code",
   "execution_count": 28,
   "id": "87f33c8e",
   "metadata": {},
   "outputs": [],
   "source": [
    "writeMat('/dagher/dagher11/filip/Obesity_maps/data/UKBB_CT_DKT_LH_LPA.mat','UKBB_CT_DKT_LH_LPA'=t(as.numeric(results[,3][1:31])))\n",
    "writeMat('/dagher/dagher11/filip/Obesity_maps/data/UKBB_CT_DKT_RH_LPA.mat','UKBB_CT_DKT_RH_LPA'=t(as.numeric(results[,3][32:62])))"
   ]
  },
  {
   "cell_type": "markdown",
   "id": "d26c1420",
   "metadata": {},
   "source": [
    "# Diastolic BP"
   ]
  },
  {
   "cell_type": "code",
   "execution_count": 29,
   "id": "d6335cfa",
   "metadata": {},
   "outputs": [],
   "source": [
    "results=matrix(ncol=6,nrow=length(c(\n",
    "                                   grep('thickness_of',colnames(data))))) \n",
    "\n",
    "for (i in 1:length(c(\n",
    "                    grep('thickness_of',colnames(data))))) \n",
    "{ \n",
    "    \n",
    "    m1=summary(lm(data[c(\n",
    "                           grep('thickness_of',colnames(data)))][[i]] ~ \n",
    "          data$diastolic_blood_pressure_automated_reading_4079.0.0 +\n",
    "          poly(data$age_when_attended_assessment_centre_21003.2.0, 2, raw=TRUE) +\n",
    "          data$sex_31.0.0 + \n",
    "          poly(difftime(as.Date(data$date_of_attending_assessment_centre_53.2.0), \n",
    "                   min(as.Date(data$date_of_attending_assessment_centre_53.2.0)), units='days'), 2, raw=TRUE) +\n",
    "          data$uk_biobank_assessment_centre_54.2.0 +\n",
    "          data$qualifications_6138.2.0 + data$townsend_deprivation_index_at_recruitment_189.0.0\n",
    "          #data$mean_rfmri_head_motion_averaged_across_space_and_time_points_25741.2.0 + #not used because too many missing values\n",
    "          #data$mean_tfmri_head_motion_averaged_across_space_and_time_points_25742.2.0)) #not used because too many missing values\n",
    "                 ))\n",
    "    results[i,1]=colnames(data)[c(\n",
    "                                   grep('thickness_of',colnames(data)))][i] \n",
    "    results[i,2]=m1$coefficients[2,4] # p-value \n",
    "    results[i,3]=m1$coefficients[2,3] # t-value \n",
    "    results[i,4]=m1$coefficients[2,1] # sd for \n",
    "    results[i,5]=m1$coefficients[2,2] # estimate for \n",
    "    results[i,6]=ifelse(grepl(\"left\",results[i,1]),\"left\",\"right\") #save hemisphere\n",
    "\n",
    "}\n",
    "\n",
    "colnames(results)=c('Parcel','p-value', 't-value', 'SD', 'estimate', 'hemisphere')"
   ]
  },
  {
   "cell_type": "code",
   "execution_count": 30,
   "id": "ec456c4f",
   "metadata": {},
   "outputs": [],
   "source": [
    "writeMat('/dagher/dagher11/filip/Obesity_maps/data/UKBB_CT_DKT_LH_DBP.mat','UKBB_CT_DKT_LH_DBP'=t(as.numeric(results[,3][1:31])))\n",
    "writeMat('/dagher/dagher11/filip/Obesity_maps/data/UKBB_CT_DKT_RH_DBP.mat','UKBB_CT_DKT_RH_DBP'=t(as.numeric(results[,3][32:62])))"
   ]
  }
 ],
 "metadata": {
  "kernelspec": {
   "display_name": "mambaR",
   "language": "R",
   "name": "r4"
  },
  "language_info": {
   "codemirror_mode": "r",
   "file_extension": ".r",
   "mimetype": "text/x-r-source",
   "name": "R",
   "pygments_lexer": "r",
   "version": "4.3.1"
  }
 },
 "nbformat": 4,
 "nbformat_minor": 5
}
