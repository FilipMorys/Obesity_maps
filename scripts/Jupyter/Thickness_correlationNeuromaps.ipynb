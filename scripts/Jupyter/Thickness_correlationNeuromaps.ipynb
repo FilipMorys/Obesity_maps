{
 "cells": [
  {
   "cell_type": "code",
   "execution_count": 1,
   "metadata": {},
   "outputs": [
    {
     "name": "stderr",
     "output_type": "stream",
     "text": [
      "/dagher/dagher12/filip/software/miniconda3py/envs/py3/lib/python3.10/site-packages/nilearn/input_data/__init__.py:27: FutureWarning: The import path 'nilearn.input_data' is deprecated in version 0.9. Importing from 'nilearn.input_data' will be possible at least until release 0.13.0. Please import from 'nilearn.maskers' instead.\n",
      "  warnings.warn(message, FutureWarning)\n"
     ]
    }
   ],
   "source": [
    "import nibabel as nib\n",
    "from neuromaps.datasets import available_annotations\n",
    "from neuromaps import datasets\n",
    "from neuromaps.resampling import resample_images\n",
    "from neuromaps import parcellate\n",
    "from nilearn.datasets import fetch_atlas_surf_destrieux\n",
    "from neuromaps import datasets, images, nulls, resampling, plotting\n",
    "from neuromaps.datasets import fetch_annotation\n",
    "from neuromaps import transforms\n",
    "from neuromaps.stats import compare_images\n",
    "from brainspace.plotting import plot_surf\n",
    "import numpy as np\n",
    "from nibabel import freesurfer\n",
    "from nibabel import gifti\n",
    "import pandas as pd\n",
    "from neuromaps.parcellate import Parcellater\n",
    "from neuromaps import nulls"
   ]
  },
  {
   "cell_type": "markdown",
   "metadata": {},
   "source": [
    "# UKBB"
   ]
  },
  {
   "cell_type": "code",
   "execution_count": 74,
   "metadata": {},
   "outputs": [],
   "source": [
    "BMI_DKT_LH = scipy.io.loadmat('/dagher/dagher11/filip/Obesity_maps/data/UKBB_CT_DKT_LH.mat')['UKBB_CT_DKT_LH']\n",
    "BMI_DKT_RH = scipy.io.loadmat('/dagher/dagher11/filip/Obesity_maps/data/UKBB_CT_DKT_RH.mat')['UKBB_CT_DKT_RH']\n",
    "BMI_DKT=np.hstack((BMI_DKT_LH,BMI_DKT_RH))"
   ]
  },
  {
   "cell_type": "code",
   "execution_count": 75,
   "metadata": {},
   "outputs": [],
   "source": [
    "DKT_gii_lh=images.annot_to_gifti('/dagher/dagher11/filip/Obesity_maps/data_old/lh.DKT.annot')\n",
    "DKT_gii_rh=images.annot_to_gifti('/dagher/dagher11/filip/Obesity_maps/data_old/rh.DKT.annot')"
   ]
  },
  {
   "cell_type": "code",
   "execution_count": 76,
   "metadata": {
    "scrolled": true
   },
   "outputs": [
    {
     "name": "stdout",
     "output_type": "stream",
     "text": [
      "('abagen', 'genepc1', 'fsaverage', '10k')\n",
      "(0.7721834838445021, 0.0004999500049995)\n",
      "('aghourian2017', 'feobv', 'MNI152', '1mm')\n"
     ]
    },
    {
     "name": "stderr",
     "output_type": "stream",
     "text": [
      "/tmp/ipykernel_32031/2019287863.py:25: FutureWarning: The frame.append method is deprecated and will be removed from pandas in a future version. Use pandas.concat instead.\n",
      "  results_df = results_df.append({'source': annotation[0], 'desc': annotation[1],\n"
     ]
    },
    {
     "name": "stdout",
     "output_type": "stream",
     "text": [
      "(-0.43472498258495185, 0.1044895510448955)\n",
      "('alarkurtti2015', 'raclopride', 'MNI152', '3mm')\n"
     ]
    },
    {
     "name": "stderr",
     "output_type": "stream",
     "text": [
      "/tmp/ipykernel_32031/2019287863.py:25: FutureWarning: The frame.append method is deprecated and will be removed from pandas in a future version. Use pandas.concat instead.\n",
      "  results_df = results_df.append({'source': annotation[0], 'desc': annotation[1],\n"
     ]
    },
    {
     "name": "stdout",
     "output_type": "stream",
     "text": [
      "(0.34000651286943867, 0.16978302169783022)\n",
      "('bedard2019', 'feobv', 'MNI152', '1mm')\n"
     ]
    },
    {
     "name": "stderr",
     "output_type": "stream",
     "text": [
      "/tmp/ipykernel_32031/2019287863.py:25: FutureWarning: The frame.append method is deprecated and will be removed from pandas in a future version. Use pandas.concat instead.\n",
      "  results_df = results_df.append({'source': annotation[0], 'desc': annotation[1],\n"
     ]
    },
    {
     "name": "stdout",
     "output_type": "stream",
     "text": [
      "(-0.5982164697882832, 0.0036996300369963003)\n",
      "('beliveau2017', 'az10419369', 'MNI152', '1mm')\n"
     ]
    },
    {
     "name": "stderr",
     "output_type": "stream",
     "text": [
      "/tmp/ipykernel_32031/2019287863.py:25: FutureWarning: The frame.append method is deprecated and will be removed from pandas in a future version. Use pandas.concat instead.\n",
      "  results_df = results_df.append({'source': annotation[0], 'desc': annotation[1],\n"
     ]
    },
    {
     "name": "stdout",
     "output_type": "stream",
     "text": [
      "(0.16834521429466448, 0.3815618438156184)\n",
      "('beliveau2017', 'cimbi36', 'MNI152', '1mm')\n"
     ]
    },
    {
     "name": "stderr",
     "output_type": "stream",
     "text": [
      "/tmp/ipykernel_32031/2019287863.py:25: FutureWarning: The frame.append method is deprecated and will be removed from pandas in a future version. Use pandas.concat instead.\n",
      "  results_df = results_df.append({'source': annotation[0], 'desc': annotation[1],\n"
     ]
    },
    {
     "name": "stdout",
     "output_type": "stream",
     "text": [
      "(-0.16772311188632572, 0.49085091490850913)\n",
      "('beliveau2017', 'cumi101', 'MNI152', '1mm')\n"
     ]
    },
    {
     "name": "stderr",
     "output_type": "stream",
     "text": [
      "/tmp/ipykernel_32031/2019287863.py:25: FutureWarning: The frame.append method is deprecated and will be removed from pandas in a future version. Use pandas.concat instead.\n",
      "  results_df = results_df.append({'source': annotation[0], 'desc': annotation[1],\n"
     ]
    },
    {
     "name": "stdout",
     "output_type": "stream",
     "text": [
      "(-0.7156802644098048, 0.00029997000299970003)\n",
      "('beliveau2017', 'dasb', 'MNI152', '1mm')\n"
     ]
    },
    {
     "name": "stderr",
     "output_type": "stream",
     "text": [
      "/tmp/ipykernel_32031/2019287863.py:25: FutureWarning: The frame.append method is deprecated and will be removed from pandas in a future version. Use pandas.concat instead.\n",
      "  results_df = results_df.append({'source': annotation[0], 'desc': annotation[1],\n"
     ]
    },
    {
     "name": "stdout",
     "output_type": "stream",
     "text": [
      "(-0.41327010899223465, 0.07979202079792021)\n",
      "('beliveau2017', 'sb207145', 'MNI152', '1mm')\n"
     ]
    },
    {
     "name": "stderr",
     "output_type": "stream",
     "text": [
      "/tmp/ipykernel_32031/2019287863.py:25: FutureWarning: The frame.append method is deprecated and will be removed from pandas in a future version. Use pandas.concat instead.\n",
      "  results_df = results_df.append({'source': annotation[0], 'desc': annotation[1],\n"
     ]
    },
    {
     "name": "stdout",
     "output_type": "stream",
     "text": [
      "(-0.5692727365019905, 0.022397760223977603)\n",
      "('ding2010', 'mrb', 'MNI152', '1mm')\n"
     ]
    },
    {
     "name": "stderr",
     "output_type": "stream",
     "text": [
      "/tmp/ipykernel_32031/2019287863.py:25: FutureWarning: The frame.append method is deprecated and will be removed from pandas in a future version. Use pandas.concat instead.\n",
      "  results_df = results_df.append({'source': annotation[0], 'desc': annotation[1],\n"
     ]
    },
    {
     "name": "stdout",
     "output_type": "stream",
     "text": [
      "(0.31446034234053116, 0.21657834216578342)\n",
      "('dubois2015', 'abp688', 'MNI152', '1mm')\n"
     ]
    },
    {
     "name": "stderr",
     "output_type": "stream",
     "text": [
      "/tmp/ipykernel_32031/2019287863.py:25: FutureWarning: The frame.append method is deprecated and will be removed from pandas in a future version. Use pandas.concat instead.\n",
      "  results_df = results_df.append({'source': annotation[0], 'desc': annotation[1],\n"
     ]
    },
    {
     "name": "stdout",
     "output_type": "stream",
     "text": [
      "(-0.14263163565048256, 0.5924407559244076)\n",
      "('dukart2018', 'flumazenil', 'MNI152', '3mm')\n"
     ]
    },
    {
     "name": "stderr",
     "output_type": "stream",
     "text": [
      "/tmp/ipykernel_32031/2019287863.py:25: FutureWarning: The frame.append method is deprecated and will be removed from pandas in a future version. Use pandas.concat instead.\n",
      "  results_df = results_df.append({'source': annotation[0], 'desc': annotation[1],\n"
     ]
    },
    {
     "name": "stdout",
     "output_type": "stream",
     "text": [
      "(0.4546986631434599, 0.017598240175982403)\n",
      "('dukart2018', 'fpcit', 'MNI152', '3mm')\n"
     ]
    },
    {
     "name": "stderr",
     "output_type": "stream",
     "text": [
      "/tmp/ipykernel_32031/2019287863.py:25: FutureWarning: The frame.append method is deprecated and will be removed from pandas in a future version. Use pandas.concat instead.\n",
      "  results_df = results_df.append({'source': annotation[0], 'desc': annotation[1],\n"
     ]
    },
    {
     "name": "stdout",
     "output_type": "stream",
     "text": [
      "(-0.5820258826246479, 0.004399560043995601)\n",
      "('fazio2016', 'madam', 'MNI152', '3mm')\n"
     ]
    },
    {
     "name": "stderr",
     "output_type": "stream",
     "text": [
      "/tmp/ipykernel_32031/2019287863.py:25: FutureWarning: The frame.append method is deprecated and will be removed from pandas in a future version. Use pandas.concat instead.\n",
      "  results_df = results_df.append({'source': annotation[0], 'desc': annotation[1],\n"
     ]
    },
    {
     "name": "stdout",
     "output_type": "stream",
     "text": [
      "(-0.1986140216217989, 0.3354664533546645)\n",
      "('finnema2016', 'ucbj', 'MNI152', '1mm')\n"
     ]
    },
    {
     "name": "stderr",
     "output_type": "stream",
     "text": [
      "/tmp/ipykernel_32031/2019287863.py:25: FutureWarning: The frame.append method is deprecated and will be removed from pandas in a future version. Use pandas.concat instead.\n",
      "  results_df = results_df.append({'source': annotation[0], 'desc': annotation[1],\n"
     ]
    },
    {
     "name": "stdout",
     "output_type": "stream",
     "text": [
      "(0.2735267411134881, 0.09449055094490551)\n",
      "('gallezot2010', 'p943', 'MNI152', '1mm')\n"
     ]
    },
    {
     "name": "stderr",
     "output_type": "stream",
     "text": [
      "/tmp/ipykernel_32031/2019287863.py:25: FutureWarning: The frame.append method is deprecated and will be removed from pandas in a future version. Use pandas.concat instead.\n",
      "  results_df = results_df.append({'source': annotation[0], 'desc': annotation[1],\n"
     ]
    },
    {
     "name": "stdout",
     "output_type": "stream",
     "text": [
      "(0.5709110969616559, 0.0032996700329967)\n",
      "('gallezot2017', 'gsk189254', 'MNI152', '1mm')\n"
     ]
    },
    {
     "name": "stderr",
     "output_type": "stream",
     "text": [
      "/tmp/ipykernel_32031/2019287863.py:25: FutureWarning: The frame.append method is deprecated and will be removed from pandas in a future version. Use pandas.concat instead.\n",
      "  results_df = results_df.append({'source': annotation[0], 'desc': annotation[1],\n"
     ]
    },
    {
     "name": "stdout",
     "output_type": "stream",
     "text": [
      "(-0.31642652610818145, 0.2822717728227177)\n",
      "('hcps1200', 'megalpha', 'fsLR', '4k')\n"
     ]
    },
    {
     "name": "stderr",
     "output_type": "stream",
     "text": [
      "/tmp/ipykernel_32031/2019287863.py:25: FutureWarning: The frame.append method is deprecated and will be removed from pandas in a future version. Use pandas.concat instead.\n",
      "  results_df = results_df.append({'source': annotation[0], 'desc': annotation[1],\n"
     ]
    },
    {
     "name": "stdout",
     "output_type": "stream",
     "text": [
      "(0.3936288867043032, 0.22617738226177383)\n",
      "('hcps1200', 'megbeta', 'fsLR', '4k')\n"
     ]
    },
    {
     "name": "stderr",
     "output_type": "stream",
     "text": [
      "/tmp/ipykernel_32031/2019287863.py:25: FutureWarning: The frame.append method is deprecated and will be removed from pandas in a future version. Use pandas.concat instead.\n",
      "  results_df = results_df.append({'source': annotation[0], 'desc': annotation[1],\n"
     ]
    },
    {
     "name": "stdout",
     "output_type": "stream",
     "text": [
      "(0.03836622436655236, 0.8779122087791221)\n",
      "('hcps1200', 'megdelta', 'fsLR', '4k')\n"
     ]
    },
    {
     "name": "stderr",
     "output_type": "stream",
     "text": [
      "/tmp/ipykernel_32031/2019287863.py:25: FutureWarning: The frame.append method is deprecated and will be removed from pandas in a future version. Use pandas.concat instead.\n",
      "  results_df = results_df.append({'source': annotation[0], 'desc': annotation[1],\n"
     ]
    },
    {
     "name": "stdout",
     "output_type": "stream",
     "text": [
      "(-0.35716813726938407, 0.034596540345965404)\n",
      "('hcps1200', 'meggamma1', 'fsLR', '4k')\n"
     ]
    },
    {
     "name": "stderr",
     "output_type": "stream",
     "text": [
      "/tmp/ipykernel_32031/2019287863.py:25: FutureWarning: The frame.append method is deprecated and will be removed from pandas in a future version. Use pandas.concat instead.\n",
      "  results_df = results_df.append({'source': annotation[0], 'desc': annotation[1],\n"
     ]
    },
    {
     "name": "stdout",
     "output_type": "stream",
     "text": [
      "(-0.3806406080439815, 0.045495450454954504)\n",
      "('hcps1200', 'meggamma2', 'fsLR', '4k')\n"
     ]
    },
    {
     "name": "stderr",
     "output_type": "stream",
     "text": [
      "/tmp/ipykernel_32031/2019287863.py:25: FutureWarning: The frame.append method is deprecated and will be removed from pandas in a future version. Use pandas.concat instead.\n",
      "  results_df = results_df.append({'source': annotation[0], 'desc': annotation[1],\n"
     ]
    },
    {
     "name": "stdout",
     "output_type": "stream",
     "text": [
      "(-0.5141177040746565, 0.012698730126987301)\n",
      "('hcps1200', 'megtheta', 'fsLR', '4k')\n"
     ]
    },
    {
     "name": "stderr",
     "output_type": "stream",
     "text": [
      "/tmp/ipykernel_32031/2019287863.py:25: FutureWarning: The frame.append method is deprecated and will be removed from pandas in a future version. Use pandas.concat instead.\n",
      "  results_df = results_df.append({'source': annotation[0], 'desc': annotation[1],\n"
     ]
    },
    {
     "name": "stdout",
     "output_type": "stream",
     "text": [
      "(-0.21261480875486938, 0.22187781221877811)\n",
      "('hcps1200', 'megtimescale', 'fsLR', '4k')\n"
     ]
    },
    {
     "name": "stderr",
     "output_type": "stream",
     "text": [
      "/tmp/ipykernel_32031/2019287863.py:25: FutureWarning: The frame.append method is deprecated and will be removed from pandas in a future version. Use pandas.concat instead.\n",
      "  results_df = results_df.append({'source': annotation[0], 'desc': annotation[1],\n"
     ]
    },
    {
     "name": "stdout",
     "output_type": "stream",
     "text": [
      "(-0.46143570148918844, 0.07069293070692931)\n",
      "('hcps1200', 'myelinmap', 'fsLR', '32k')\n"
     ]
    },
    {
     "name": "stderr",
     "output_type": "stream",
     "text": [
      "/tmp/ipykernel_32031/2019287863.py:25: FutureWarning: The frame.append method is deprecated and will be removed from pandas in a future version. Use pandas.concat instead.\n",
      "  results_df = results_df.append({'source': annotation[0], 'desc': annotation[1],\n"
     ]
    },
    {
     "name": "stdout",
     "output_type": "stream",
     "text": [
      "(0.5695126913003613, 0.0065993400659934)\n",
      "('hcps1200', 'thickness', 'fsLR', '32k')\n"
     ]
    },
    {
     "name": "stderr",
     "output_type": "stream",
     "text": [
      "/tmp/ipykernel_32031/2019287863.py:25: FutureWarning: The frame.append method is deprecated and will be removed from pandas in a future version. Use pandas.concat instead.\n",
      "  results_df = results_df.append({'source': annotation[0], 'desc': annotation[1],\n"
     ]
    },
    {
     "name": "stdout",
     "output_type": "stream",
     "text": [
      "(-0.7416621329677838, 9.999000099990002e-05)\n",
      "('hesse2017', 'methylreboxetine', 'MNI152', '3mm')\n"
     ]
    },
    {
     "name": "stderr",
     "output_type": "stream",
     "text": [
      "/tmp/ipykernel_32031/2019287863.py:25: FutureWarning: The frame.append method is deprecated and will be removed from pandas in a future version. Use pandas.concat instead.\n",
      "  results_df = results_df.append({'source': annotation[0], 'desc': annotation[1],\n"
     ]
    },
    {
     "name": "stdout",
     "output_type": "stream",
     "text": [
      "(-0.06425284297535803, 0.7936206379362064)\n",
      "('hill2010', 'devexp', 'fsLR', '164k')\n",
      "('hill2010', 'evoexp', 'fsLR', '164k')\n",
      "('hillmer2016', 'flubatine', 'MNI152', '1mm')\n"
     ]
    },
    {
     "name": "stderr",
     "output_type": "stream",
     "text": [
      "/tmp/ipykernel_32031/2019287863.py:25: FutureWarning: The frame.append method is deprecated and will be removed from pandas in a future version. Use pandas.concat instead.\n",
      "  results_df = results_df.append({'source': annotation[0], 'desc': annotation[1],\n"
     ]
    },
    {
     "name": "stdout",
     "output_type": "stream",
     "text": [
      "(0.15292490558636382, 0.6171382861713829)\n",
      "('jaworska2020', 'fallypride', 'MNI152', '1mm')\n"
     ]
    },
    {
     "name": "stderr",
     "output_type": "stream",
     "text": [
      "/tmp/ipykernel_32031/2019287863.py:25: FutureWarning: The frame.append method is deprecated and will be removed from pandas in a future version. Use pandas.concat instead.\n",
      "  results_df = results_df.append({'source': annotation[0], 'desc': annotation[1],\n"
     ]
    },
    {
     "name": "stdout",
     "output_type": "stream",
     "text": [
      "(-0.5866654311659206, 0.0010998900109989002)\n",
      "('kaller2017', 'sch23390', 'MNI152', '3mm')\n"
     ]
    },
    {
     "name": "stderr",
     "output_type": "stream",
     "text": [
      "/tmp/ipykernel_32031/2019287863.py:25: FutureWarning: The frame.append method is deprecated and will be removed from pandas in a future version. Use pandas.concat instead.\n",
      "  results_df = results_df.append({'source': annotation[0], 'desc': annotation[1],\n"
     ]
    },
    {
     "name": "stdout",
     "output_type": "stream",
     "text": [
      "(-0.3081779454257642, 0.17218278172182783)\n",
      "('kantonen2020', 'carfentanil', 'MNI152', '3mm')\n"
     ]
    },
    {
     "name": "stderr",
     "output_type": "stream",
     "text": [
      "/tmp/ipykernel_32031/2019287863.py:25: FutureWarning: The frame.append method is deprecated and will be removed from pandas in a future version. Use pandas.concat instead.\n",
      "  results_df = results_df.append({'source': annotation[0], 'desc': annotation[1],\n"
     ]
    },
    {
     "name": "stdout",
     "output_type": "stream",
     "text": [
      "(-0.6222217381051783, 0.0187981201879812)\n",
      "('laurikainen2018', 'fmpepd2', 'MNI152', '1mm')\n"
     ]
    },
    {
     "name": "stderr",
     "output_type": "stream",
     "text": [
      "/tmp/ipykernel_32031/2019287863.py:25: FutureWarning: The frame.append method is deprecated and will be removed from pandas in a future version. Use pandas.concat instead.\n",
      "  results_df = results_df.append({'source': annotation[0], 'desc': annotation[1],\n"
     ]
    },
    {
     "name": "stdout",
     "output_type": "stream",
     "text": [
      "(0.021044871723400523, 0.940905909409059)\n",
      "('margulies2016', 'fcgradient01', 'fsLR', '32k')\n"
     ]
    },
    {
     "name": "stderr",
     "output_type": "stream",
     "text": [
      "/tmp/ipykernel_32031/2019287863.py:25: FutureWarning: The frame.append method is deprecated and will be removed from pandas in a future version. Use pandas.concat instead.\n",
      "  results_df = results_df.append({'source': annotation[0], 'desc': annotation[1],\n"
     ]
    },
    {
     "name": "stdout",
     "output_type": "stream",
     "text": [
      "(-0.3734395024061405, 0.1004899510048995)\n",
      "('margulies2016', 'fcgradient02', 'fsLR', '32k')\n"
     ]
    },
    {
     "name": "stderr",
     "output_type": "stream",
     "text": [
      "/tmp/ipykernel_32031/2019287863.py:25: FutureWarning: The frame.append method is deprecated and will be removed from pandas in a future version. Use pandas.concat instead.\n",
      "  results_df = results_df.append({'source': annotation[0], 'desc': annotation[1],\n"
     ]
    },
    {
     "name": "stdout",
     "output_type": "stream",
     "text": [
      "(0.5274045663490825, 0.06939306069393061)\n",
      "('margulies2016', 'fcgradient03', 'fsLR', '32k')\n"
     ]
    },
    {
     "name": "stderr",
     "output_type": "stream",
     "text": [
      "/tmp/ipykernel_32031/2019287863.py:25: FutureWarning: The frame.append method is deprecated and will be removed from pandas in a future version. Use pandas.concat instead.\n",
      "  results_df = results_df.append({'source': annotation[0], 'desc': annotation[1],\n"
     ]
    },
    {
     "name": "stdout",
     "output_type": "stream",
     "text": [
      "(0.03641356889623116, 0.8757124287571243)\n",
      "('margulies2016', 'fcgradient04', 'fsLR', '32k')\n"
     ]
    },
    {
     "name": "stderr",
     "output_type": "stream",
     "text": [
      "/tmp/ipykernel_32031/2019287863.py:25: FutureWarning: The frame.append method is deprecated and will be removed from pandas in a future version. Use pandas.concat instead.\n",
      "  results_df = results_df.append({'source': annotation[0], 'desc': annotation[1],\n"
     ]
    },
    {
     "name": "stdout",
     "output_type": "stream",
     "text": [
      "(0.21699703937965645, 0.3605639436056394)\n",
      "('margulies2016', 'fcgradient05', 'fsLR', '32k')\n"
     ]
    },
    {
     "name": "stderr",
     "output_type": "stream",
     "text": [
      "/tmp/ipykernel_32031/2019287863.py:25: FutureWarning: The frame.append method is deprecated and will be removed from pandas in a future version. Use pandas.concat instead.\n",
      "  results_df = results_df.append({'source': annotation[0], 'desc': annotation[1],\n"
     ]
    },
    {
     "name": "stdout",
     "output_type": "stream",
     "text": [
      "(-0.6350581597556626, 0.0015998400159984002)\n",
      "('margulies2016', 'fcgradient06', 'fsLR', '32k')\n"
     ]
    },
    {
     "name": "stderr",
     "output_type": "stream",
     "text": [
      "/tmp/ipykernel_32031/2019287863.py:25: FutureWarning: The frame.append method is deprecated and will be removed from pandas in a future version. Use pandas.concat instead.\n",
      "  results_df = results_df.append({'source': annotation[0], 'desc': annotation[1],\n"
     ]
    },
    {
     "name": "stdout",
     "output_type": "stream",
     "text": [
      "(0.19261828103719641, 0.5472452754724527)\n",
      "('margulies2016', 'fcgradient07', 'fsLR', '32k')\n"
     ]
    },
    {
     "name": "stderr",
     "output_type": "stream",
     "text": [
      "/tmp/ipykernel_32031/2019287863.py:25: FutureWarning: The frame.append method is deprecated and will be removed from pandas in a future version. Use pandas.concat instead.\n",
      "  results_df = results_df.append({'source': annotation[0], 'desc': annotation[1],\n"
     ]
    },
    {
     "name": "stdout",
     "output_type": "stream",
     "text": [
      "(-0.16649566355919934, 0.40985901409859016)\n",
      "('margulies2016', 'fcgradient08', 'fsLR', '32k')\n"
     ]
    },
    {
     "name": "stderr",
     "output_type": "stream",
     "text": [
      "/tmp/ipykernel_32031/2019287863.py:25: FutureWarning: The frame.append method is deprecated and will be removed from pandas in a future version. Use pandas.concat instead.\n",
      "  results_df = results_df.append({'source': annotation[0], 'desc': annotation[1],\n"
     ]
    },
    {
     "name": "stdout",
     "output_type": "stream",
     "text": [
      "(-0.3605005726131138, 0.10928907109289071)\n",
      "('margulies2016', 'fcgradient09', 'fsLR', '32k')\n"
     ]
    },
    {
     "name": "stderr",
     "output_type": "stream",
     "text": [
      "/tmp/ipykernel_32031/2019287863.py:25: FutureWarning: The frame.append method is deprecated and will be removed from pandas in a future version. Use pandas.concat instead.\n",
      "  results_df = results_df.append({'source': annotation[0], 'desc': annotation[1],\n"
     ]
    },
    {
     "name": "stdout",
     "output_type": "stream",
     "text": [
      "(0.2859848186182173, 0.20957904209579042)\n",
      "('margulies2016', 'fcgradient10', 'fsLR', '32k')\n"
     ]
    },
    {
     "name": "stderr",
     "output_type": "stream",
     "text": [
      "/tmp/ipykernel_32031/2019287863.py:25: FutureWarning: The frame.append method is deprecated and will be removed from pandas in a future version. Use pandas.concat instead.\n",
      "  results_df = results_df.append({'source': annotation[0], 'desc': annotation[1],\n"
     ]
    },
    {
     "name": "stdout",
     "output_type": "stream",
     "text": [
      "(0.2105914415665868, 0.35466453354664534)\n",
      "('mueller2013', 'intersubjvar', 'fsLR', '164k')\n"
     ]
    },
    {
     "name": "stderr",
     "output_type": "stream",
     "text": [
      "/tmp/ipykernel_32031/2019287863.py:25: FutureWarning: The frame.append method is deprecated and will be removed from pandas in a future version. Use pandas.concat instead.\n",
      "  results_df = results_df.append({'source': annotation[0], 'desc': annotation[1],\n"
     ]
    },
    {
     "name": "stdout",
     "output_type": "stream",
     "text": [
      "(0.015584245783110831, 0.954004599540046)\n",
      "('naganawa2020', 'lsn3172176', 'MNI152', '1mm')\n"
     ]
    },
    {
     "name": "stderr",
     "output_type": "stream",
     "text": [
      "/tmp/ipykernel_32031/2019287863.py:25: FutureWarning: The frame.append method is deprecated and will be removed from pandas in a future version. Use pandas.concat instead.\n",
      "  results_df = results_df.append({'source': annotation[0], 'desc': annotation[1],\n"
     ]
    },
    {
     "name": "stdout",
     "output_type": "stream",
     "text": [
      "(0.3754008888963876, 0.05549445055494451)\n",
      "('neurosynth', 'cogpc1', 'MNI152', '2mm')\n"
     ]
    },
    {
     "name": "stderr",
     "output_type": "stream",
     "text": [
      "/tmp/ipykernel_32031/2019287863.py:25: FutureWarning: The frame.append method is deprecated and will be removed from pandas in a future version. Use pandas.concat instead.\n",
      "  results_df = results_df.append({'source': annotation[0], 'desc': annotation[1],\n"
     ]
    },
    {
     "name": "stdout",
     "output_type": "stream",
     "text": [
      "(0.35066813032713784, 0.1635836416358364)\n",
      "('norgaard2020', 'flumazenil', 'MNI152', '1mm')\n"
     ]
    },
    {
     "name": "stderr",
     "output_type": "stream",
     "text": [
      "/tmp/ipykernel_32031/2019287863.py:25: FutureWarning: The frame.append method is deprecated and will be removed from pandas in a future version. Use pandas.concat instead.\n",
      "  results_df = results_df.append({'source': annotation[0], 'desc': annotation[1],\n"
     ]
    },
    {
     "name": "stdout",
     "output_type": "stream",
     "text": [
      "(0.6038955793188336, 0.0046995300469953)\n",
      "('normandin2015', 'omar', 'MNI152', '1mm')\n"
     ]
    },
    {
     "name": "stderr",
     "output_type": "stream",
     "text": [
      "/tmp/ipykernel_32031/2019287863.py:25: FutureWarning: The frame.append method is deprecated and will be removed from pandas in a future version. Use pandas.concat instead.\n",
      "  results_df = results_df.append({'source': annotation[0], 'desc': annotation[1],\n"
     ]
    },
    {
     "name": "stdout",
     "output_type": "stream",
     "text": [
      "(-0.5121726653081417, 0.046495350464953504)\n",
      "('radnakrishnan2018', 'gsk215083', 'MNI152', '1mm')\n"
     ]
    },
    {
     "name": "stderr",
     "output_type": "stream",
     "text": [
      "/tmp/ipykernel_32031/2019287863.py:25: FutureWarning: The frame.append method is deprecated and will be removed from pandas in a future version. Use pandas.concat instead.\n",
      "  results_df = results_df.append({'source': annotation[0], 'desc': annotation[1],\n"
     ]
    },
    {
     "name": "stdout",
     "output_type": "stream",
     "text": [
      "(0.2870790204512193, 0.19198080191980801)\n",
      "('raichle', 'cbf', 'fsLR', '164k')\n"
     ]
    },
    {
     "name": "stderr",
     "output_type": "stream",
     "text": [
      "/tmp/ipykernel_32031/2019287863.py:25: FutureWarning: The frame.append method is deprecated and will be removed from pandas in a future version. Use pandas.concat instead.\n",
      "  results_df = results_df.append({'source': annotation[0], 'desc': annotation[1],\n"
     ]
    },
    {
     "name": "stdout",
     "output_type": "stream",
     "text": [
      "(0.5805364469347253, 0.004299570042995701)\n",
      "('raichle', 'cbv', 'fsLR', '164k')\n"
     ]
    },
    {
     "name": "stderr",
     "output_type": "stream",
     "text": [
      "/tmp/ipykernel_32031/2019287863.py:25: FutureWarning: The frame.append method is deprecated and will be removed from pandas in a future version. Use pandas.concat instead.\n",
      "  results_df = results_df.append({'source': annotation[0], 'desc': annotation[1],\n"
     ]
    },
    {
     "name": "stdout",
     "output_type": "stream",
     "text": [
      "(0.4057038189010236, 0.17018298170182983)\n",
      "('raichle', 'cmr02', 'fsLR', '164k')\n"
     ]
    },
    {
     "name": "stderr",
     "output_type": "stream",
     "text": [
      "/tmp/ipykernel_32031/2019287863.py:25: FutureWarning: The frame.append method is deprecated and will be removed from pandas in a future version. Use pandas.concat instead.\n",
      "  results_df = results_df.append({'source': annotation[0], 'desc': annotation[1],\n"
     ]
    },
    {
     "name": "stdout",
     "output_type": "stream",
     "text": [
      "(0.7265551360100763, 0.0005999400059994001)\n",
      "('raichle', 'cmruglu', 'fsLR', '164k')\n"
     ]
    },
    {
     "name": "stderr",
     "output_type": "stream",
     "text": [
      "/tmp/ipykernel_32031/2019287863.py:25: FutureWarning: The frame.append method is deprecated and will be removed from pandas in a future version. Use pandas.concat instead.\n",
      "  results_df = results_df.append({'source': annotation[0], 'desc': annotation[1],\n"
     ]
    },
    {
     "name": "stdout",
     "output_type": "stream",
     "text": [
      "(0.6696111656849238, 0.0013998600139986002)\n",
      "('reardon2018', 'scalinghcp', 'civet', '41k')\n"
     ]
    },
    {
     "name": "stderr",
     "output_type": "stream",
     "text": [
      "/tmp/ipykernel_32031/2019287863.py:25: FutureWarning: The frame.append method is deprecated and will be removed from pandas in a future version. Use pandas.concat instead.\n",
      "  results_df = results_df.append({'source': annotation[0], 'desc': annotation[1],\n"
     ]
    },
    {
     "name": "stdout",
     "output_type": "stream",
     "text": [
      "(0.1906181082458036, 0.47835216478352166)\n",
      "('reardon2018', 'scalingnih', 'civet', '41k')\n"
     ]
    },
    {
     "name": "stderr",
     "output_type": "stream",
     "text": [
      "/tmp/ipykernel_32031/2019287863.py:25: FutureWarning: The frame.append method is deprecated and will be removed from pandas in a future version. Use pandas.concat instead.\n",
      "  results_df = results_df.append({'source': annotation[0], 'desc': annotation[1],\n"
     ]
    },
    {
     "name": "stdout",
     "output_type": "stream",
     "text": [
      "(0.013741559121300147, 0.9351064893510649)\n",
      "('reardon2018', 'scalingpnc', 'civet', '41k')\n"
     ]
    },
    {
     "name": "stderr",
     "output_type": "stream",
     "text": [
      "/tmp/ipykernel_32031/2019287863.py:25: FutureWarning: The frame.append method is deprecated and will be removed from pandas in a future version. Use pandas.concat instead.\n",
      "  results_df = results_df.append({'source': annotation[0], 'desc': annotation[1],\n"
     ]
    },
    {
     "name": "stdout",
     "output_type": "stream",
     "text": [
      "(0.0921328245073682, 0.47065293470652936)\n",
      "('rosaneto', 'abp688', 'MNI152', '1mm')\n"
     ]
    },
    {
     "name": "stderr",
     "output_type": "stream",
     "text": [
      "/tmp/ipykernel_32031/2019287863.py:25: FutureWarning: The frame.append method is deprecated and will be removed from pandas in a future version. Use pandas.concat instead.\n",
      "  results_df = results_df.append({'source': annotation[0], 'desc': annotation[1],\n"
     ]
    },
    {
     "name": "stdout",
     "output_type": "stream",
     "text": [
      "(-0.009021203881713218, 0.9685031496850315)\n",
      "('sandiego2015', 'flb457', 'MNI152', '1mm')\n"
     ]
    },
    {
     "name": "stderr",
     "output_type": "stream",
     "text": [
      "/tmp/ipykernel_32031/2019287863.py:25: FutureWarning: The frame.append method is deprecated and will be removed from pandas in a future version. Use pandas.concat instead.\n",
      "  results_df = results_df.append({'source': annotation[0], 'desc': annotation[1],\n"
     ]
    },
    {
     "name": "stdout",
     "output_type": "stream",
     "text": [
      "(-0.6251260937981624, 0.008999100089991)\n",
      "('sasaki2012', 'fepe2i', 'MNI152', '1mm')\n"
     ]
    },
    {
     "name": "stderr",
     "output_type": "stream",
     "text": [
      "/tmp/ipykernel_32031/2019287863.py:25: FutureWarning: The frame.append method is deprecated and will be removed from pandas in a future version. Use pandas.concat instead.\n",
      "  results_df = results_df.append({'source': annotation[0], 'desc': annotation[1],\n"
     ]
    },
    {
     "name": "stdout",
     "output_type": "stream",
     "text": [
      "(-0.21412697616755172, 0.3094690530946905)\n",
      "('satterthwaite2014', 'meancbf', 'MNI152', '1mm')\n"
     ]
    },
    {
     "name": "stderr",
     "output_type": "stream",
     "text": [
      "/tmp/ipykernel_32031/2019287863.py:25: FutureWarning: The frame.append method is deprecated and will be removed from pandas in a future version. Use pandas.concat instead.\n",
      "  results_df = results_df.append({'source': annotation[0], 'desc': annotation[1],\n"
     ]
    },
    {
     "name": "stdout",
     "output_type": "stream",
     "text": [
      "(0.28134877990567053, 0.27217278272172785)\n",
      "('savli2012', 'altanserin', 'MNI152', '3mm')\n"
     ]
    },
    {
     "name": "stderr",
     "output_type": "stream",
     "text": [
      "/tmp/ipykernel_32031/2019287863.py:25: FutureWarning: The frame.append method is deprecated and will be removed from pandas in a future version. Use pandas.concat instead.\n",
      "  results_df = results_df.append({'source': annotation[0], 'desc': annotation[1],\n"
     ]
    },
    {
     "name": "stdout",
     "output_type": "stream",
     "text": [
      "(0.30260686656581476, 0.16698330166983302)\n",
      "('savli2012', 'dasb', 'MNI152', '3mm')\n"
     ]
    },
    {
     "name": "stderr",
     "output_type": "stream",
     "text": [
      "/tmp/ipykernel_32031/2019287863.py:25: FutureWarning: The frame.append method is deprecated and will be removed from pandas in a future version. Use pandas.concat instead.\n",
      "  results_df = results_df.append({'source': annotation[0], 'desc': annotation[1],\n"
     ]
    },
    {
     "name": "stdout",
     "output_type": "stream",
     "text": [
      "(-0.426809313365802, 0.05299470052994701)\n",
      "('savli2012', 'p943', 'MNI152', '3mm')\n"
     ]
    },
    {
     "name": "stderr",
     "output_type": "stream",
     "text": [
      "/tmp/ipykernel_32031/2019287863.py:25: FutureWarning: The frame.append method is deprecated and will be removed from pandas in a future version. Use pandas.concat instead.\n",
      "  results_df = results_df.append({'source': annotation[0], 'desc': annotation[1],\n"
     ]
    },
    {
     "name": "stdout",
     "output_type": "stream",
     "text": [
      "(0.5406673508794907, 0.014298570142985701)\n",
      "('savli2012', 'way100635', 'MNI152', '3mm')\n"
     ]
    },
    {
     "name": "stderr",
     "output_type": "stream",
     "text": [
      "/tmp/ipykernel_32031/2019287863.py:25: FutureWarning: The frame.append method is deprecated and will be removed from pandas in a future version. Use pandas.concat instead.\n",
      "  results_df = results_df.append({'source': annotation[0], 'desc': annotation[1],\n"
     ]
    },
    {
     "name": "stdout",
     "output_type": "stream",
     "text": [
      "(-0.6924847898334778, 0.0011998800119988001)\n",
      "('smart2019', 'abp688', 'MNI152', '1mm')\n"
     ]
    },
    {
     "name": "stderr",
     "output_type": "stream",
     "text": [
      "/tmp/ipykernel_32031/2019287863.py:25: FutureWarning: The frame.append method is deprecated and will be removed from pandas in a future version. Use pandas.concat instead.\n",
      "  results_df = results_df.append({'source': annotation[0], 'desc': annotation[1],\n"
     ]
    },
    {
     "name": "stdout",
     "output_type": "stream",
     "text": [
      "(-0.06814873762734622, 0.8041195880411959)\n",
      "('smith2017', 'flb457', 'MNI152', '1mm')\n"
     ]
    },
    {
     "name": "stderr",
     "output_type": "stream",
     "text": [
      "/tmp/ipykernel_32031/2019287863.py:25: FutureWarning: The frame.append method is deprecated and will be removed from pandas in a future version. Use pandas.concat instead.\n",
      "  results_df = results_df.append({'source': annotation[0], 'desc': annotation[1],\n"
     ]
    },
    {
     "name": "stdout",
     "output_type": "stream",
     "text": [
      "(-0.5723246401057531, 0.007799220077992201)\n",
      "('sydnor2021', 'SAaxis', 'fsLR', '32k')\n"
     ]
    },
    {
     "name": "stderr",
     "output_type": "stream",
     "text": [
      "/tmp/ipykernel_32031/2019287863.py:25: FutureWarning: The frame.append method is deprecated and will be removed from pandas in a future version. Use pandas.concat instead.\n",
      "  results_df = results_df.append({'source': annotation[0], 'desc': annotation[1],\n"
     ]
    },
    {
     "name": "stdout",
     "output_type": "stream",
     "text": [
      "(-0.5123878387899512, 0.051394860513948606)\n",
      "('tuominen', 'feobv', 'MNI152', '2mm')\n"
     ]
    },
    {
     "name": "stderr",
     "output_type": "stream",
     "text": [
      "/tmp/ipykernel_32031/2019287863.py:25: FutureWarning: The frame.append method is deprecated and will be removed from pandas in a future version. Use pandas.concat instead.\n",
      "  results_df = results_df.append({'source': annotation[0], 'desc': annotation[1],\n"
     ]
    },
    {
     "name": "stdout",
     "output_type": "stream",
     "text": [
      "(-0.4289660153539515, 0.038896110388961104)\n",
      "('turtonen2020', 'carfentanil', 'MNI152', '1mm')\n"
     ]
    },
    {
     "name": "stderr",
     "output_type": "stream",
     "text": [
      "/tmp/ipykernel_32031/2019287863.py:25: FutureWarning: The frame.append method is deprecated and will be removed from pandas in a future version. Use pandas.concat instead.\n",
      "  results_df = results_df.append({'source': annotation[0], 'desc': annotation[1],\n"
     ]
    },
    {
     "name": "stdout",
     "output_type": "stream",
     "text": [
      "(-0.5870874184322774, 0.038696130386961305)\n",
      "('xu2020', 'FChomology', 'fsLR', '32k')\n"
     ]
    },
    {
     "name": "stderr",
     "output_type": "stream",
     "text": [
      "/tmp/ipykernel_32031/2019287863.py:25: FutureWarning: The frame.append method is deprecated and will be removed from pandas in a future version. Use pandas.concat instead.\n",
      "  results_df = results_df.append({'source': annotation[0], 'desc': annotation[1],\n"
     ]
    },
    {
     "name": "stdout",
     "output_type": "stream",
     "text": [
      "(0.5101288453056079, 0.004899510048995101)\n",
      "('xu2020', 'evoexp', 'fsLR', '32k')\n"
     ]
    },
    {
     "name": "stderr",
     "output_type": "stream",
     "text": [
      "/tmp/ipykernel_32031/2019287863.py:25: FutureWarning: The frame.append method is deprecated and will be removed from pandas in a future version. Use pandas.concat instead.\n",
      "  results_df = results_df.append({'source': annotation[0], 'desc': annotation[1],\n"
     ]
    },
    {
     "name": "stdout",
     "output_type": "stream",
     "text": [
      "(-0.0018196594826364084, 0.9909009099090091)\n"
     ]
    },
    {
     "name": "stderr",
     "output_type": "stream",
     "text": [
      "/tmp/ipykernel_32031/2019287863.py:25: FutureWarning: The frame.append method is deprecated and will be removed from pandas in a future version. Use pandas.concat instead.\n",
      "  results_df = results_df.append({'source': annotation[0], 'desc': annotation[1],\n"
     ]
    }
   ],
   "source": [
    "parc = Parcellater('/dagher/dagher11/filip/Obesity_maps/data_old/DKT_orig.nii.gz', 'mni152')  # DKT parcellater\n",
    "parcL = Parcellater((DKT_gii_lh), 'fsaverage', hemi='L')  # DKT parcellater\n",
    "parcR = Parcellater((DKT_gii_rh), 'fsaverage', hemi='R')  # DKT parcellater\n",
    "\n",
    "results_df = pd.DataFrame(columns=['source', 'desc', 'corr', 'p'])\n",
    "\n",
    "for annotation in available_annotations():\n",
    "    try:\n",
    "        print(annotation) \n",
    "        brain_map=datasets.fetch_annotation(source=annotation[0], desc=annotation[1])\n",
    "        if annotation[2]=='fsLR':\n",
    "            brain_map=transforms.fslr_to_fsaverage(brain_map, target_density='164k')\n",
    "        elif annotation[2]=='MNI152':\n",
    "            brain_map=transforms.mni152_to_fsaverage(brain_map, fsavg_density='164k')\n",
    "        NT_parc_lh = parcL.fit_transform(brain_map[0], 'fsaverage', hemi='L')\n",
    "        NT_parc_rh = parcR.fit_transform(brain_map[1], 'fsaverage', hemi='R')\n",
    "        NT_parc=np.concatenate((NT_parc_lh,NT_parc_rh))\n",
    "        rotated = nulls.alexander_bloch(BMI_DKT, atlas='fsaverage', \n",
    "                                        density='164k', n_perm=10000, seed=1234,\n",
    "                                        parcellation=list(('/dagher/dagher11/filip/Obesity_maps/data_old/lh.DKT_new.gii',\n",
    "                          '/dagher/dagher11/filip/Obesity_maps/data_old/rh.DKT_new.gii')))\n",
    "        corr = compare_images(BMI_DKT, NT_parc, metric='pearsonr', nulls=rotated)\n",
    "        print(corr)\n",
    "        # Append the result to the dataframe\n",
    "        results_df = results_df.append({'source': annotation[0], 'desc': annotation[1], \n",
    "                                        'corr': corr[0], 'p': corr[1]}, ignore_index=True)\n",
    "        \n",
    "    except:\n",
    "        pass"
   ]
  },
  {
   "cell_type": "code",
   "execution_count": 77,
   "metadata": {},
   "outputs": [],
   "source": [
    "results_df.to_csv('/dagher/dagher11/filip/Obesity_maps/data/UKBB_corrs.csv', index=False)"
   ]
  },
  {
   "cell_type": "markdown",
   "metadata": {},
   "source": [
    "# HCP Aging"
   ]
  },
  {
   "cell_type": "code",
   "execution_count": 27,
   "metadata": {},
   "outputs": [],
   "source": [
    "BMI_DKT_LH=pd.read_csv('/dagher/dagher11/filip/Obesity_maps/data/HCPA_CT_DKT_LH.csv', header=None)\n",
    "BMI_DKT_RH=pd.read_csv('/dagher/dagher11/filip/Obesity_maps/data/HCPA_CT_DKT_RH.csv', header=None)\n",
    "BMI_DKT=pd.concat((BMI_DKT_LH,BMI_DKT_RH))"
   ]
  },
  {
   "cell_type": "code",
   "execution_count": 28,
   "metadata": {},
   "outputs": [],
   "source": [
    "DKT_gii_lh=images.annot_to_gifti('/dagher/dagher11/filip/Obesity_maps/data_old/lh.DKT.annot')\n",
    "DKT_gii_rh=images.annot_to_gifti('/dagher/dagher11/filip/Obesity_maps/data_old/rh.DKT.annot')"
   ]
  },
  {
   "cell_type": "code",
   "execution_count": 29,
   "metadata": {
    "scrolled": true
   },
   "outputs": [
    {
     "name": "stdout",
     "output_type": "stream",
     "text": [
      "('abagen', 'genepc1', 'fsaverage', '10k')\n",
      "(0.11145602187247225, 0.5603439656034397)\n",
      "('aghourian2017', 'feobv', 'MNI152', '1mm')\n"
     ]
    },
    {
     "name": "stderr",
     "output_type": "stream",
     "text": [
      "/tmp/ipykernel_1818/1424287289.py:25: FutureWarning: The frame.append method is deprecated and will be removed from pandas in a future version. Use pandas.concat instead.\n",
      "  results_df = results_df.append({'source': annotation[0], 'desc': annotation[1],\n"
     ]
    },
    {
     "name": "stdout",
     "output_type": "stream",
     "text": [
      "(0.052567848065293146, 0.7628237176282372)\n",
      "('alarkurtti2015', 'raclopride', 'MNI152', '3mm')\n"
     ]
    },
    {
     "name": "stderr",
     "output_type": "stream",
     "text": [
      "/tmp/ipykernel_1818/1424287289.py:25: FutureWarning: The frame.append method is deprecated and will be removed from pandas in a future version. Use pandas.concat instead.\n",
      "  results_df = results_df.append({'source': annotation[0], 'desc': annotation[1],\n"
     ]
    },
    {
     "name": "stdout",
     "output_type": "stream",
     "text": [
      "(0.11735015816896394, 0.47975202479752027)\n",
      "('bedard2019', 'feobv', 'MNI152', '1mm')\n"
     ]
    },
    {
     "name": "stderr",
     "output_type": "stream",
     "text": [
      "/tmp/ipykernel_1818/1424287289.py:25: FutureWarning: The frame.append method is deprecated and will be removed from pandas in a future version. Use pandas.concat instead.\n",
      "  results_df = results_df.append({'source': annotation[0], 'desc': annotation[1],\n"
     ]
    },
    {
     "name": "stdout",
     "output_type": "stream",
     "text": [
      "(-0.3084041755953503, 0.046495350464953504)\n",
      "('beliveau2017', 'az10419369', 'MNI152', '1mm')\n"
     ]
    },
    {
     "name": "stderr",
     "output_type": "stream",
     "text": [
      "/tmp/ipykernel_1818/1424287289.py:25: FutureWarning: The frame.append method is deprecated and will be removed from pandas in a future version. Use pandas.concat instead.\n",
      "  results_df = results_df.append({'source': annotation[0], 'desc': annotation[1],\n"
     ]
    },
    {
     "name": "stdout",
     "output_type": "stream",
     "text": [
      "(-0.06416384137057957, 0.6437356264373563)\n",
      "('beliveau2017', 'cimbi36', 'MNI152', '1mm')\n"
     ]
    },
    {
     "name": "stderr",
     "output_type": "stream",
     "text": [
      "/tmp/ipykernel_1818/1424287289.py:25: FutureWarning: The frame.append method is deprecated and will be removed from pandas in a future version. Use pandas.concat instead.\n",
      "  results_df = results_df.append({'source': annotation[0], 'desc': annotation[1],\n"
     ]
    },
    {
     "name": "stdout",
     "output_type": "stream",
     "text": [
      "(-0.19758349217106363, 0.23307669233076692)\n",
      "('beliveau2017', 'cumi101', 'MNI152', '1mm')\n"
     ]
    },
    {
     "name": "stderr",
     "output_type": "stream",
     "text": [
      "/tmp/ipykernel_1818/1424287289.py:25: FutureWarning: The frame.append method is deprecated and will be removed from pandas in a future version. Use pandas.concat instead.\n",
      "  results_df = results_df.append({'source': annotation[0], 'desc': annotation[1],\n"
     ]
    },
    {
     "name": "stdout",
     "output_type": "stream",
     "text": [
      "(-0.3756123209793432, 0.0192980701929807)\n",
      "('beliveau2017', 'dasb', 'MNI152', '1mm')\n"
     ]
    },
    {
     "name": "stderr",
     "output_type": "stream",
     "text": [
      "/tmp/ipykernel_1818/1424287289.py:25: FutureWarning: The frame.append method is deprecated and will be removed from pandas in a future version. Use pandas.concat instead.\n",
      "  results_df = results_df.append({'source': annotation[0], 'desc': annotation[1],\n"
     ]
    },
    {
     "name": "stdout",
     "output_type": "stream",
     "text": [
      "(-0.29762674191098, 0.0463953604639536)\n",
      "('beliveau2017', 'sb207145', 'MNI152', '1mm')\n"
     ]
    },
    {
     "name": "stderr",
     "output_type": "stream",
     "text": [
      "/tmp/ipykernel_1818/1424287289.py:25: FutureWarning: The frame.append method is deprecated and will be removed from pandas in a future version. Use pandas.concat instead.\n",
      "  results_df = results_df.append({'source': annotation[0], 'desc': annotation[1],\n"
     ]
    },
    {
     "name": "stdout",
     "output_type": "stream",
     "text": [
      "(-0.33375259087838516, 0.0418958104189581)\n",
      "('ding2010', 'mrb', 'MNI152', '1mm')\n"
     ]
    },
    {
     "name": "stderr",
     "output_type": "stream",
     "text": [
      "/tmp/ipykernel_1818/1424287289.py:25: FutureWarning: The frame.append method is deprecated and will be removed from pandas in a future version. Use pandas.concat instead.\n",
      "  results_df = results_df.append({'source': annotation[0], 'desc': annotation[1],\n"
     ]
    },
    {
     "name": "stdout",
     "output_type": "stream",
     "text": [
      "(0.198966838693474, 0.26307369263073693)\n",
      "('dubois2015', 'abp688', 'MNI152', '1mm')\n"
     ]
    },
    {
     "name": "stderr",
     "output_type": "stream",
     "text": [
      "/tmp/ipykernel_1818/1424287289.py:25: FutureWarning: The frame.append method is deprecated and will be removed from pandas in a future version. Use pandas.concat instead.\n",
      "  results_df = results_df.append({'source': annotation[0], 'desc': annotation[1],\n"
     ]
    },
    {
     "name": "stdout",
     "output_type": "stream",
     "text": [
      "(0.13116053041295345, 0.42155784421557846)\n",
      "('dukart2018', 'flumazenil', 'MNI152', '3mm')\n"
     ]
    },
    {
     "name": "stderr",
     "output_type": "stream",
     "text": [
      "/tmp/ipykernel_1818/1424287289.py:25: FutureWarning: The frame.append method is deprecated and will be removed from pandas in a future version. Use pandas.concat instead.\n",
      "  results_df = results_df.append({'source': annotation[0], 'desc': annotation[1],\n"
     ]
    },
    {
     "name": "stdout",
     "output_type": "stream",
     "text": [
      "(0.09004311050888819, 0.5222477752224778)\n",
      "('dukart2018', 'fpcit', 'MNI152', '3mm')\n"
     ]
    },
    {
     "name": "stderr",
     "output_type": "stream",
     "text": [
      "/tmp/ipykernel_1818/1424287289.py:25: FutureWarning: The frame.append method is deprecated and will be removed from pandas in a future version. Use pandas.concat instead.\n",
      "  results_df = results_df.append({'source': annotation[0], 'desc': annotation[1],\n"
     ]
    },
    {
     "name": "stdout",
     "output_type": "stream",
     "text": [
      "(-0.27612706240728563, 0.09579042095790422)\n",
      "('fazio2016', 'madam', 'MNI152', '3mm')\n"
     ]
    },
    {
     "name": "stderr",
     "output_type": "stream",
     "text": [
      "/tmp/ipykernel_1818/1424287289.py:25: FutureWarning: The frame.append method is deprecated and will be removed from pandas in a future version. Use pandas.concat instead.\n",
      "  results_df = results_df.append({'source': annotation[0], 'desc': annotation[1],\n"
     ]
    },
    {
     "name": "stdout",
     "output_type": "stream",
     "text": [
      "(-0.19025191588878476, 0.2054794520547945)\n",
      "('finnema2016', 'ucbj', 'MNI152', '1mm')\n"
     ]
    },
    {
     "name": "stderr",
     "output_type": "stream",
     "text": [
      "/tmp/ipykernel_1818/1424287289.py:25: FutureWarning: The frame.append method is deprecated and will be removed from pandas in a future version. Use pandas.concat instead.\n",
      "  results_df = results_df.append({'source': annotation[0], 'desc': annotation[1],\n"
     ]
    },
    {
     "name": "stdout",
     "output_type": "stream",
     "text": [
      "(0.12378589963290632, 0.43825617438256176)\n",
      "('gallezot2010', 'p943', 'MNI152', '1mm')\n"
     ]
    },
    {
     "name": "stderr",
     "output_type": "stream",
     "text": [
      "/tmp/ipykernel_1818/1424287289.py:25: FutureWarning: The frame.append method is deprecated and will be removed from pandas in a future version. Use pandas.concat instead.\n",
      "  results_df = results_df.append({'source': annotation[0], 'desc': annotation[1],\n"
     ]
    },
    {
     "name": "stdout",
     "output_type": "stream",
     "text": [
      "(0.27898893070161035, 0.051294870512948704)\n",
      "('gallezot2017', 'gsk189254', 'MNI152', '1mm')\n"
     ]
    },
    {
     "name": "stderr",
     "output_type": "stream",
     "text": [
      "/tmp/ipykernel_1818/1424287289.py:25: FutureWarning: The frame.append method is deprecated and will be removed from pandas in a future version. Use pandas.concat instead.\n",
      "  results_df = results_df.append({'source': annotation[0], 'desc': annotation[1],\n"
     ]
    },
    {
     "name": "stdout",
     "output_type": "stream",
     "text": [
      "(0.026070872651806035, 0.8841115888411158)\n",
      "('hcps1200', 'megalpha', 'fsLR', '4k')\n"
     ]
    },
    {
     "name": "stderr",
     "output_type": "stream",
     "text": [
      "/tmp/ipykernel_1818/1424287289.py:25: FutureWarning: The frame.append method is deprecated and will be removed from pandas in a future version. Use pandas.concat instead.\n",
      "  results_df = results_df.append({'source': annotation[0], 'desc': annotation[1],\n"
     ]
    },
    {
     "name": "stdout",
     "output_type": "stream",
     "text": [
      "(-0.08549974663674356, 0.7508249175082492)\n",
      "('hcps1200', 'megbeta', 'fsLR', '4k')\n"
     ]
    },
    {
     "name": "stderr",
     "output_type": "stream",
     "text": [
      "/tmp/ipykernel_1818/1424287289.py:25: FutureWarning: The frame.append method is deprecated and will be removed from pandas in a future version. Use pandas.concat instead.\n",
      "  results_df = results_df.append({'source': annotation[0], 'desc': annotation[1],\n"
     ]
    },
    {
     "name": "stdout",
     "output_type": "stream",
     "text": [
      "(-0.0694980099099315, 0.6844315568443156)\n",
      "('hcps1200', 'megdelta', 'fsLR', '4k')\n"
     ]
    },
    {
     "name": "stderr",
     "output_type": "stream",
     "text": [
      "/tmp/ipykernel_1818/1424287289.py:25: FutureWarning: The frame.append method is deprecated and will be removed from pandas in a future version. Use pandas.concat instead.\n",
      "  results_df = results_df.append({'source': annotation[0], 'desc': annotation[1],\n"
     ]
    },
    {
     "name": "stdout",
     "output_type": "stream",
     "text": [
      "(-0.4235698086080872, 0.0163983601639836)\n",
      "('hcps1200', 'meggamma1', 'fsLR', '4k')\n"
     ]
    },
    {
     "name": "stderr",
     "output_type": "stream",
     "text": [
      "/tmp/ipykernel_1818/1424287289.py:25: FutureWarning: The frame.append method is deprecated and will be removed from pandas in a future version. Use pandas.concat instead.\n",
      "  results_df = results_df.append({'source': annotation[0], 'desc': annotation[1],\n"
     ]
    },
    {
     "name": "stdout",
     "output_type": "stream",
     "text": [
      "(-0.31144339392543985, 0.05879412058794121)\n",
      "('hcps1200', 'meggamma2', 'fsLR', '4k')\n"
     ]
    },
    {
     "name": "stderr",
     "output_type": "stream",
     "text": [
      "/tmp/ipykernel_1818/1424287289.py:25: FutureWarning: The frame.append method is deprecated and will be removed from pandas in a future version. Use pandas.concat instead.\n",
      "  results_df = results_df.append({'source': annotation[0], 'desc': annotation[1],\n"
     ]
    },
    {
     "name": "stdout",
     "output_type": "stream",
     "text": [
      "(-0.44754682772891596, 0.0081991800819918)\n",
      "('hcps1200', 'megtheta', 'fsLR', '4k')\n"
     ]
    },
    {
     "name": "stderr",
     "output_type": "stream",
     "text": [
      "/tmp/ipykernel_1818/1424287289.py:25: FutureWarning: The frame.append method is deprecated and will be removed from pandas in a future version. Use pandas.concat instead.\n",
      "  results_df = results_df.append({'source': annotation[0], 'desc': annotation[1],\n"
     ]
    },
    {
     "name": "stdout",
     "output_type": "stream",
     "text": [
      "(-0.2620135603846137, 0.10988901109889011)\n",
      "('hcps1200', 'megtimescale', 'fsLR', '4k')\n"
     ]
    },
    {
     "name": "stderr",
     "output_type": "stream",
     "text": [
      "/tmp/ipykernel_1818/1424287289.py:25: FutureWarning: The frame.append method is deprecated and will be removed from pandas in a future version. Use pandas.concat instead.\n",
      "  results_df = results_df.append({'source': annotation[0], 'desc': annotation[1],\n"
     ]
    },
    {
     "name": "stdout",
     "output_type": "stream",
     "text": [
      "(-0.395069245958678, 0.0221977802219778)\n",
      "('hcps1200', 'myelinmap', 'fsLR', '32k')\n"
     ]
    },
    {
     "name": "stderr",
     "output_type": "stream",
     "text": [
      "/tmp/ipykernel_1818/1424287289.py:25: FutureWarning: The frame.append method is deprecated and will be removed from pandas in a future version. Use pandas.concat instead.\n",
      "  results_df = results_df.append({'source': annotation[0], 'desc': annotation[1],\n"
     ]
    },
    {
     "name": "stdout",
     "output_type": "stream",
     "text": [
      "(0.10500183422796329, 0.527947205279472)\n",
      "('hcps1200', 'thickness', 'fsLR', '32k')\n"
     ]
    },
    {
     "name": "stderr",
     "output_type": "stream",
     "text": [
      "/tmp/ipykernel_1818/1424287289.py:25: FutureWarning: The frame.append method is deprecated and will be removed from pandas in a future version. Use pandas.concat instead.\n",
      "  results_df = results_df.append({'source': annotation[0], 'desc': annotation[1],\n"
     ]
    },
    {
     "name": "stdout",
     "output_type": "stream",
     "text": [
      "(-0.21755075129071086, 0.203979602039796)\n",
      "('hesse2017', 'methylreboxetine', 'MNI152', '3mm')\n"
     ]
    },
    {
     "name": "stderr",
     "output_type": "stream",
     "text": [
      "/tmp/ipykernel_1818/1424287289.py:25: FutureWarning: The frame.append method is deprecated and will be removed from pandas in a future version. Use pandas.concat instead.\n",
      "  results_df = results_df.append({'source': annotation[0], 'desc': annotation[1],\n"
     ]
    },
    {
     "name": "stdout",
     "output_type": "stream",
     "text": [
      "(-0.09319247542996625, 0.5880411958804119)\n",
      "('hill2010', 'devexp', 'fsLR', '164k')\n",
      "('hill2010', 'evoexp', 'fsLR', '164k')\n",
      "('hillmer2016', 'flubatine', 'MNI152', '1mm')\n"
     ]
    },
    {
     "name": "stderr",
     "output_type": "stream",
     "text": [
      "/tmp/ipykernel_1818/1424287289.py:25: FutureWarning: The frame.append method is deprecated and will be removed from pandas in a future version. Use pandas.concat instead.\n",
      "  results_df = results_df.append({'source': annotation[0], 'desc': annotation[1],\n"
     ]
    },
    {
     "name": "stdout",
     "output_type": "stream",
     "text": [
      "(0.08930127661131072, 0.6654334566543346)\n",
      "('jaworska2020', 'fallypride', 'MNI152', '1mm')\n"
     ]
    },
    {
     "name": "stderr",
     "output_type": "stream",
     "text": [
      "/tmp/ipykernel_1818/1424287289.py:25: FutureWarning: The frame.append method is deprecated and will be removed from pandas in a future version. Use pandas.concat instead.\n",
      "  results_df = results_df.append({'source': annotation[0], 'desc': annotation[1],\n"
     ]
    },
    {
     "name": "stdout",
     "output_type": "stream",
     "text": [
      "(-0.4276506299473766, 0.0103989601039896)\n",
      "('kaller2017', 'sch23390', 'MNI152', '3mm')\n"
     ]
    },
    {
     "name": "stderr",
     "output_type": "stream",
     "text": [
      "/tmp/ipykernel_1818/1424287289.py:25: FutureWarning: The frame.append method is deprecated and will be removed from pandas in a future version. Use pandas.concat instead.\n",
      "  results_df = results_df.append({'source': annotation[0], 'desc': annotation[1],\n"
     ]
    },
    {
     "name": "stdout",
     "output_type": "stream",
     "text": [
      "(-0.05097736998614386, 0.7635236476352365)\n",
      "('kantonen2020', 'carfentanil', 'MNI152', '3mm')\n"
     ]
    },
    {
     "name": "stderr",
     "output_type": "stream",
     "text": [
      "/tmp/ipykernel_1818/1424287289.py:25: FutureWarning: The frame.append method is deprecated and will be removed from pandas in a future version. Use pandas.concat instead.\n",
      "  results_df = results_df.append({'source': annotation[0], 'desc': annotation[1],\n"
     ]
    },
    {
     "name": "stdout",
     "output_type": "stream",
     "text": [
      "(-0.06033903665152424, 0.8028197180281972)\n",
      "('laurikainen2018', 'fmpepd2', 'MNI152', '1mm')\n"
     ]
    },
    {
     "name": "stderr",
     "output_type": "stream",
     "text": [
      "/tmp/ipykernel_1818/1424287289.py:25: FutureWarning: The frame.append method is deprecated and will be removed from pandas in a future version. Use pandas.concat instead.\n",
      "  results_df = results_df.append({'source': annotation[0], 'desc': annotation[1],\n"
     ]
    },
    {
     "name": "stdout",
     "output_type": "stream",
     "text": [
      "(0.07973332733462526, 0.702029797020298)\n",
      "('margulies2016', 'fcgradient01', 'fsLR', '32k')\n"
     ]
    },
    {
     "name": "stderr",
     "output_type": "stream",
     "text": [
      "/tmp/ipykernel_1818/1424287289.py:25: FutureWarning: The frame.append method is deprecated and will be removed from pandas in a future version. Use pandas.concat instead.\n",
      "  results_df = results_df.append({'source': annotation[0], 'desc': annotation[1],\n"
     ]
    },
    {
     "name": "stdout",
     "output_type": "stream",
     "text": [
      "(-0.07128656052257622, 0.6543345665433457)\n",
      "('margulies2016', 'fcgradient02', 'fsLR', '32k')\n"
     ]
    },
    {
     "name": "stderr",
     "output_type": "stream",
     "text": [
      "/tmp/ipykernel_1818/1424287289.py:25: FutureWarning: The frame.append method is deprecated and will be removed from pandas in a future version. Use pandas.concat instead.\n",
      "  results_df = results_df.append({'source': annotation[0], 'desc': annotation[1],\n"
     ]
    },
    {
     "name": "stdout",
     "output_type": "stream",
     "text": [
      "(0.01074736660575836, 0.9621037896210379)\n",
      "('margulies2016', 'fcgradient03', 'fsLR', '32k')\n"
     ]
    },
    {
     "name": "stderr",
     "output_type": "stream",
     "text": [
      "/tmp/ipykernel_1818/1424287289.py:25: FutureWarning: The frame.append method is deprecated and will be removed from pandas in a future version. Use pandas.concat instead.\n",
      "  results_df = results_df.append({'source': annotation[0], 'desc': annotation[1],\n"
     ]
    },
    {
     "name": "stdout",
     "output_type": "stream",
     "text": [
      "(0.09886720772469373, 0.5455454454554545)\n",
      "('margulies2016', 'fcgradient04', 'fsLR', '32k')\n"
     ]
    },
    {
     "name": "stderr",
     "output_type": "stream",
     "text": [
      "/tmp/ipykernel_1818/1424287289.py:25: FutureWarning: The frame.append method is deprecated and will be removed from pandas in a future version. Use pandas.concat instead.\n",
      "  results_df = results_df.append({'source': annotation[0], 'desc': annotation[1],\n"
     ]
    },
    {
     "name": "stdout",
     "output_type": "stream",
     "text": [
      "(-0.03879065222804947, 0.8155184481551845)\n",
      "('margulies2016', 'fcgradient05', 'fsLR', '32k')\n"
     ]
    },
    {
     "name": "stderr",
     "output_type": "stream",
     "text": [
      "/tmp/ipykernel_1818/1424287289.py:25: FutureWarning: The frame.append method is deprecated and will be removed from pandas in a future version. Use pandas.concat instead.\n",
      "  results_df = results_df.append({'source': annotation[0], 'desc': annotation[1],\n"
     ]
    },
    {
     "name": "stdout",
     "output_type": "stream",
     "text": [
      "(-0.10539143208330072, 0.5595440455954405)\n",
      "('margulies2016', 'fcgradient06', 'fsLR', '32k')\n"
     ]
    },
    {
     "name": "stderr",
     "output_type": "stream",
     "text": [
      "/tmp/ipykernel_1818/1424287289.py:25: FutureWarning: The frame.append method is deprecated and will be removed from pandas in a future version. Use pandas.concat instead.\n",
      "  results_df = results_df.append({'source': annotation[0], 'desc': annotation[1],\n"
     ]
    },
    {
     "name": "stdout",
     "output_type": "stream",
     "text": [
      "(0.08125739463564235, 0.6795320467953204)\n",
      "('margulies2016', 'fcgradient07', 'fsLR', '32k')\n"
     ]
    },
    {
     "name": "stderr",
     "output_type": "stream",
     "text": [
      "/tmp/ipykernel_1818/1424287289.py:25: FutureWarning: The frame.append method is deprecated and will be removed from pandas in a future version. Use pandas.concat instead.\n",
      "  results_df = results_df.append({'source': annotation[0], 'desc': annotation[1],\n"
     ]
    },
    {
     "name": "stdout",
     "output_type": "stream",
     "text": [
      "(-0.018524646985461874, 0.9027097290270973)\n",
      "('margulies2016', 'fcgradient08', 'fsLR', '32k')\n"
     ]
    },
    {
     "name": "stderr",
     "output_type": "stream",
     "text": [
      "/tmp/ipykernel_1818/1424287289.py:25: FutureWarning: The frame.append method is deprecated and will be removed from pandas in a future version. Use pandas.concat instead.\n",
      "  results_df = results_df.append({'source': annotation[0], 'desc': annotation[1],\n"
     ]
    },
    {
     "name": "stdout",
     "output_type": "stream",
     "text": [
      "(-0.1602977470983683, 0.30156984301569845)\n",
      "('margulies2016', 'fcgradient09', 'fsLR', '32k')\n"
     ]
    },
    {
     "name": "stderr",
     "output_type": "stream",
     "text": [
      "/tmp/ipykernel_1818/1424287289.py:25: FutureWarning: The frame.append method is deprecated and will be removed from pandas in a future version. Use pandas.concat instead.\n",
      "  results_df = results_df.append({'source': annotation[0], 'desc': annotation[1],\n"
     ]
    },
    {
     "name": "stdout",
     "output_type": "stream",
     "text": [
      "(0.17377725807353409, 0.2400759924007599)\n",
      "('margulies2016', 'fcgradient10', 'fsLR', '32k')\n"
     ]
    },
    {
     "name": "stderr",
     "output_type": "stream",
     "text": [
      "/tmp/ipykernel_1818/1424287289.py:25: FutureWarning: The frame.append method is deprecated and will be removed from pandas in a future version. Use pandas.concat instead.\n",
      "  results_df = results_df.append({'source': annotation[0], 'desc': annotation[1],\n"
     ]
    },
    {
     "name": "stdout",
     "output_type": "stream",
     "text": [
      "(0.1287532583513574, 0.404959504049595)\n",
      "('mueller2013', 'intersubjvar', 'fsLR', '164k')\n"
     ]
    },
    {
     "name": "stderr",
     "output_type": "stream",
     "text": [
      "/tmp/ipykernel_1818/1424287289.py:25: FutureWarning: The frame.append method is deprecated and will be removed from pandas in a future version. Use pandas.concat instead.\n",
      "  results_df = results_df.append({'source': annotation[0], 'desc': annotation[1],\n"
     ]
    },
    {
     "name": "stdout",
     "output_type": "stream",
     "text": [
      "(0.07859683266819044, 0.6719328067193281)\n",
      "('naganawa2020', 'lsn3172176', 'MNI152', '1mm')\n"
     ]
    },
    {
     "name": "stderr",
     "output_type": "stream",
     "text": [
      "/tmp/ipykernel_1818/1424287289.py:25: FutureWarning: The frame.append method is deprecated and will be removed from pandas in a future version. Use pandas.concat instead.\n",
      "  results_df = results_df.append({'source': annotation[0], 'desc': annotation[1],\n"
     ]
    },
    {
     "name": "stdout",
     "output_type": "stream",
     "text": [
      "(0.12779438130653153, 0.37766223377662234)\n",
      "('neurosynth', 'cogpc1', 'MNI152', '2mm')\n"
     ]
    },
    {
     "name": "stderr",
     "output_type": "stream",
     "text": [
      "/tmp/ipykernel_1818/1424287289.py:25: FutureWarning: The frame.append method is deprecated and will be removed from pandas in a future version. Use pandas.concat instead.\n",
      "  results_df = results_df.append({'source': annotation[0], 'desc': annotation[1],\n"
     ]
    },
    {
     "name": "stdout",
     "output_type": "stream",
     "text": [
      "(0.22791496868926722, 0.20877912208779123)\n",
      "('norgaard2020', 'flumazenil', 'MNI152', '1mm')\n"
     ]
    },
    {
     "name": "stderr",
     "output_type": "stream",
     "text": [
      "/tmp/ipykernel_1818/1424287289.py:25: FutureWarning: The frame.append method is deprecated and will be removed from pandas in a future version. Use pandas.concat instead.\n",
      "  results_df = results_df.append({'source': annotation[0], 'desc': annotation[1],\n"
     ]
    },
    {
     "name": "stdout",
     "output_type": "stream",
     "text": [
      "(-0.04448975082510599, 0.762023797620238)\n",
      "('normandin2015', 'omar', 'MNI152', '1mm')\n"
     ]
    },
    {
     "name": "stderr",
     "output_type": "stream",
     "text": [
      "/tmp/ipykernel_1818/1424287289.py:25: FutureWarning: The frame.append method is deprecated and will be removed from pandas in a future version. Use pandas.concat instead.\n",
      "  results_df = results_df.append({'source': annotation[0], 'desc': annotation[1],\n"
     ]
    },
    {
     "name": "stdout",
     "output_type": "stream",
     "text": [
      "(-0.1083849376802821, 0.5711428857114289)\n",
      "('radnakrishnan2018', 'gsk215083', 'MNI152', '1mm')\n"
     ]
    },
    {
     "name": "stderr",
     "output_type": "stream",
     "text": [
      "/tmp/ipykernel_1818/1424287289.py:25: FutureWarning: The frame.append method is deprecated and will be removed from pandas in a future version. Use pandas.concat instead.\n",
      "  results_df = results_df.append({'source': annotation[0], 'desc': annotation[1],\n"
     ]
    },
    {
     "name": "stdout",
     "output_type": "stream",
     "text": [
      "(0.00768565344577225, 0.9564043595640436)\n",
      "('raichle', 'cbf', 'fsLR', '164k')\n"
     ]
    },
    {
     "name": "stderr",
     "output_type": "stream",
     "text": [
      "/tmp/ipykernel_1818/1424287289.py:25: FutureWarning: The frame.append method is deprecated and will be removed from pandas in a future version. Use pandas.concat instead.\n",
      "  results_df = results_df.append({'source': annotation[0], 'desc': annotation[1],\n"
     ]
    },
    {
     "name": "stdout",
     "output_type": "stream",
     "text": [
      "(0.21955017809754518, 0.12098790120987901)\n",
      "('raichle', 'cbv', 'fsLR', '164k')\n"
     ]
    },
    {
     "name": "stderr",
     "output_type": "stream",
     "text": [
      "/tmp/ipykernel_1818/1424287289.py:25: FutureWarning: The frame.append method is deprecated and will be removed from pandas in a future version. Use pandas.concat instead.\n",
      "  results_df = results_df.append({'source': annotation[0], 'desc': annotation[1],\n"
     ]
    },
    {
     "name": "stdout",
     "output_type": "stream",
     "text": [
      "(-0.016244629511033386, 0.9414058594140586)\n",
      "('raichle', 'cmr02', 'fsLR', '164k')\n"
     ]
    },
    {
     "name": "stderr",
     "output_type": "stream",
     "text": [
      "/tmp/ipykernel_1818/1424287289.py:25: FutureWarning: The frame.append method is deprecated and will be removed from pandas in a future version. Use pandas.concat instead.\n",
      "  results_df = results_df.append({'source': annotation[0], 'desc': annotation[1],\n"
     ]
    },
    {
     "name": "stdout",
     "output_type": "stream",
     "text": [
      "(0.20439879420794257, 0.1670832916708329)\n",
      "('raichle', 'cmruglu', 'fsLR', '164k')\n"
     ]
    },
    {
     "name": "stderr",
     "output_type": "stream",
     "text": [
      "/tmp/ipykernel_1818/1424287289.py:25: FutureWarning: The frame.append method is deprecated and will be removed from pandas in a future version. Use pandas.concat instead.\n",
      "  results_df = results_df.append({'source': annotation[0], 'desc': annotation[1],\n"
     ]
    },
    {
     "name": "stdout",
     "output_type": "stream",
     "text": [
      "(0.24941991230456548, 0.0932906709329067)\n",
      "('reardon2018', 'scalinghcp', 'civet', '41k')\n"
     ]
    },
    {
     "name": "stderr",
     "output_type": "stream",
     "text": [
      "/tmp/ipykernel_1818/1424287289.py:25: FutureWarning: The frame.append method is deprecated and will be removed from pandas in a future version. Use pandas.concat instead.\n",
      "  results_df = results_df.append({'source': annotation[0], 'desc': annotation[1],\n"
     ]
    },
    {
     "name": "stdout",
     "output_type": "stream",
     "text": [
      "(0.16245720105437284, 0.3354664533546645)\n",
      "('reardon2018', 'scalingnih', 'civet', '41k')\n"
     ]
    },
    {
     "name": "stderr",
     "output_type": "stream",
     "text": [
      "/tmp/ipykernel_1818/1424287289.py:25: FutureWarning: The frame.append method is deprecated and will be removed from pandas in a future version. Use pandas.concat instead.\n",
      "  results_df = results_df.append({'source': annotation[0], 'desc': annotation[1],\n"
     ]
    },
    {
     "name": "stdout",
     "output_type": "stream",
     "text": [
      "(0.14121247805319326, 0.31726827317268275)\n",
      "('reardon2018', 'scalingpnc', 'civet', '41k')\n"
     ]
    },
    {
     "name": "stderr",
     "output_type": "stream",
     "text": [
      "/tmp/ipykernel_1818/1424287289.py:25: FutureWarning: The frame.append method is deprecated and will be removed from pandas in a future version. Use pandas.concat instead.\n",
      "  results_df = results_df.append({'source': annotation[0], 'desc': annotation[1],\n"
     ]
    },
    {
     "name": "stdout",
     "output_type": "stream",
     "text": [
      "(0.20723793199442522, 0.1755824417558244)\n",
      "('rosaneto', 'abp688', 'MNI152', '1mm')\n"
     ]
    },
    {
     "name": "stderr",
     "output_type": "stream",
     "text": [
      "/tmp/ipykernel_1818/1424287289.py:25: FutureWarning: The frame.append method is deprecated and will be removed from pandas in a future version. Use pandas.concat instead.\n",
      "  results_df = results_df.append({'source': annotation[0], 'desc': annotation[1],\n"
     ]
    },
    {
     "name": "stdout",
     "output_type": "stream",
     "text": [
      "(0.10596488076424548, 0.5313468653134686)\n",
      "('sandiego2015', 'flb457', 'MNI152', '1mm')\n"
     ]
    },
    {
     "name": "stderr",
     "output_type": "stream",
     "text": [
      "/tmp/ipykernel_1818/1424287289.py:25: FutureWarning: The frame.append method is deprecated and will be removed from pandas in a future version. Use pandas.concat instead.\n",
      "  results_df = results_df.append({'source': annotation[0], 'desc': annotation[1],\n"
     ]
    },
    {
     "name": "stdout",
     "output_type": "stream",
     "text": [
      "(-0.39540055301015975, 0.021597840215978402)\n",
      "('sasaki2012', 'fepe2i', 'MNI152', '1mm')\n"
     ]
    },
    {
     "name": "stderr",
     "output_type": "stream",
     "text": [
      "/tmp/ipykernel_1818/1424287289.py:25: FutureWarning: The frame.append method is deprecated and will be removed from pandas in a future version. Use pandas.concat instead.\n",
      "  results_df = results_df.append({'source': annotation[0], 'desc': annotation[1],\n"
     ]
    },
    {
     "name": "stdout",
     "output_type": "stream",
     "text": [
      "(-0.36181958091138483, 0.028197180281971802)\n",
      "('satterthwaite2014', 'meancbf', 'MNI152', '1mm')\n"
     ]
    },
    {
     "name": "stderr",
     "output_type": "stream",
     "text": [
      "/tmp/ipykernel_1818/1424287289.py:25: FutureWarning: The frame.append method is deprecated and will be removed from pandas in a future version. Use pandas.concat instead.\n",
      "  results_df = results_df.append({'source': annotation[0], 'desc': annotation[1],\n"
     ]
    },
    {
     "name": "stdout",
     "output_type": "stream",
     "text": [
      "(0.07118811645745644, 0.6373362663733627)\n",
      "('savli2012', 'altanserin', 'MNI152', '3mm')\n"
     ]
    },
    {
     "name": "stderr",
     "output_type": "stream",
     "text": [
      "/tmp/ipykernel_1818/1424287289.py:25: FutureWarning: The frame.append method is deprecated and will be removed from pandas in a future version. Use pandas.concat instead.\n",
      "  results_df = results_df.append({'source': annotation[0], 'desc': annotation[1],\n"
     ]
    },
    {
     "name": "stdout",
     "output_type": "stream",
     "text": [
      "(0.027607641026160982, 0.8509149085091491)\n",
      "('savli2012', 'dasb', 'MNI152', '3mm')\n"
     ]
    },
    {
     "name": "stderr",
     "output_type": "stream",
     "text": [
      "/tmp/ipykernel_1818/1424287289.py:25: FutureWarning: The frame.append method is deprecated and will be removed from pandas in a future version. Use pandas.concat instead.\n",
      "  results_df = results_df.append({'source': annotation[0], 'desc': annotation[1],\n"
     ]
    },
    {
     "name": "stdout",
     "output_type": "stream",
     "text": [
      "(-0.13836347358354514, 0.37196280371962803)\n",
      "('savli2012', 'p943', 'MNI152', '3mm')\n"
     ]
    },
    {
     "name": "stderr",
     "output_type": "stream",
     "text": [
      "/tmp/ipykernel_1818/1424287289.py:25: FutureWarning: The frame.append method is deprecated and will be removed from pandas in a future version. Use pandas.concat instead.\n",
      "  results_df = results_df.append({'source': annotation[0], 'desc': annotation[1],\n"
     ]
    },
    {
     "name": "stdout",
     "output_type": "stream",
     "text": [
      "(0.2886308850318921, 0.043995600439956005)\n",
      "('savli2012', 'way100635', 'MNI152', '3mm')\n"
     ]
    },
    {
     "name": "stderr",
     "output_type": "stream",
     "text": [
      "/tmp/ipykernel_1818/1424287289.py:25: FutureWarning: The frame.append method is deprecated and will be removed from pandas in a future version. Use pandas.concat instead.\n",
      "  results_df = results_df.append({'source': annotation[0], 'desc': annotation[1],\n"
     ]
    },
    {
     "name": "stdout",
     "output_type": "stream",
     "text": [
      "(-0.25905709517347636, 0.1274872512748725)\n",
      "('smart2019', 'abp688', 'MNI152', '1mm')\n"
     ]
    },
    {
     "name": "stderr",
     "output_type": "stream",
     "text": [
      "/tmp/ipykernel_1818/1424287289.py:25: FutureWarning: The frame.append method is deprecated and will be removed from pandas in a future version. Use pandas.concat instead.\n",
      "  results_df = results_df.append({'source': annotation[0], 'desc': annotation[1],\n"
     ]
    },
    {
     "name": "stdout",
     "output_type": "stream",
     "text": [
      "(0.1842519040485089, 0.24117588241175883)\n",
      "('smith2017', 'flb457', 'MNI152', '1mm')\n"
     ]
    },
    {
     "name": "stderr",
     "output_type": "stream",
     "text": [
      "/tmp/ipykernel_1818/1424287289.py:25: FutureWarning: The frame.append method is deprecated and will be removed from pandas in a future version. Use pandas.concat instead.\n",
      "  results_df = results_df.append({'source': annotation[0], 'desc': annotation[1],\n"
     ]
    },
    {
     "name": "stdout",
     "output_type": "stream",
     "text": [
      "(-0.400587146471251, 0.014198580141985802)\n",
      "('sydnor2021', 'SAaxis', 'fsLR', '32k')\n"
     ]
    },
    {
     "name": "stderr",
     "output_type": "stream",
     "text": [
      "/tmp/ipykernel_1818/1424287289.py:25: FutureWarning: The frame.append method is deprecated and will be removed from pandas in a future version. Use pandas.concat instead.\n",
      "  results_df = results_df.append({'source': annotation[0], 'desc': annotation[1],\n"
     ]
    },
    {
     "name": "stdout",
     "output_type": "stream",
     "text": [
      "(-0.11440528727972996, 0.5673432656734326)\n",
      "('tuominen', 'feobv', 'MNI152', '2mm')\n"
     ]
    },
    {
     "name": "stderr",
     "output_type": "stream",
     "text": [
      "/tmp/ipykernel_1818/1424287289.py:25: FutureWarning: The frame.append method is deprecated and will be removed from pandas in a future version. Use pandas.concat instead.\n",
      "  results_df = results_df.append({'source': annotation[0], 'desc': annotation[1],\n"
     ]
    },
    {
     "name": "stdout",
     "output_type": "stream",
     "text": [
      "(-0.17683246598386845, 0.23837616238376164)\n",
      "('turtonen2020', 'carfentanil', 'MNI152', '1mm')\n"
     ]
    },
    {
     "name": "stderr",
     "output_type": "stream",
     "text": [
      "/tmp/ipykernel_1818/1424287289.py:25: FutureWarning: The frame.append method is deprecated and will be removed from pandas in a future version. Use pandas.concat instead.\n",
      "  results_df = results_df.append({'source': annotation[0], 'desc': annotation[1],\n"
     ]
    },
    {
     "name": "stdout",
     "output_type": "stream",
     "text": [
      "(-0.05667414452046341, 0.8229177082291771)\n",
      "('xu2020', 'FChomology', 'fsLR', '32k')\n"
     ]
    },
    {
     "name": "stderr",
     "output_type": "stream",
     "text": [
      "/tmp/ipykernel_1818/1424287289.py:25: FutureWarning: The frame.append method is deprecated and will be removed from pandas in a future version. Use pandas.concat instead.\n",
      "  results_df = results_df.append({'source': annotation[0], 'desc': annotation[1],\n"
     ]
    },
    {
     "name": "stdout",
     "output_type": "stream",
     "text": [
      "(0.013669289958613303, 0.9285071492850715)\n",
      "('xu2020', 'evoexp', 'fsLR', '32k')\n"
     ]
    },
    {
     "name": "stderr",
     "output_type": "stream",
     "text": [
      "/tmp/ipykernel_1818/1424287289.py:25: FutureWarning: The frame.append method is deprecated and will be removed from pandas in a future version. Use pandas.concat instead.\n",
      "  results_df = results_df.append({'source': annotation[0], 'desc': annotation[1],\n"
     ]
    },
    {
     "name": "stdout",
     "output_type": "stream",
     "text": [
      "(0.05962294015623706, 0.663033696630337)\n"
     ]
    },
    {
     "name": "stderr",
     "output_type": "stream",
     "text": [
      "/tmp/ipykernel_1818/1424287289.py:25: FutureWarning: The frame.append method is deprecated and will be removed from pandas in a future version. Use pandas.concat instead.\n",
      "  results_df = results_df.append({'source': annotation[0], 'desc': annotation[1],\n"
     ]
    }
   ],
   "source": [
    "parc = Parcellater('/dagher/dagher11/filip/Obesity_maps/data_old/DKT_orig.nii.gz', 'mni152')  # DKT parcellater\n",
    "parcL = Parcellater((DKT_gii_lh), 'fsaverage', hemi='L')  # DKT parcellater\n",
    "parcR = Parcellater((DKT_gii_rh), 'fsaverage', hemi='R')  # DKT parcellater\n",
    "\n",
    "results_df = pd.DataFrame(columns=['source', 'desc', 'corr', 'p'])\n",
    "\n",
    "for annotation in available_annotations():\n",
    "    try:\n",
    "        print(annotation) \n",
    "        brain_map=datasets.fetch_annotation(source=annotation[0], desc=annotation[1])\n",
    "        if annotation[2]=='fsLR':\n",
    "            brain_map=transforms.fslr_to_fsaverage(brain_map, target_density='164k')\n",
    "        elif annotation[2]=='MNI152':\n",
    "            brain_map=transforms.mni152_to_fsaverage(brain_map, fsavg_density='164k')\n",
    "        NT_parc_lh = parcL.fit_transform(brain_map[0], 'fsaverage', hemi='L')\n",
    "        NT_parc_rh = parcR.fit_transform(brain_map[1], 'fsaverage', hemi='R')\n",
    "        NT_parc=np.concatenate((NT_parc_lh,NT_parc_rh))\n",
    "        rotated = nulls.alexander_bloch(BMI_DKT.values, atlas='fsaverage', \n",
    "                                        density='164k', n_perm=10000, seed=1234,\n",
    "                                        parcellation=list(('/dagher/dagher11/filip/Obesity_maps/data_old/lh.DKT_new.gii',\n",
    "                          '/dagher/dagher11/filip/Obesity_maps/data_old/rh.DKT_new.gii')))\n",
    "        corr = compare_images(BMI_DKT.values, NT_parc, metric='pearsonr', nulls=rotated)\n",
    "        print(corr)\n",
    "        # Append the result to the dataframe\n",
    "        results_df = results_df.append({'source': annotation[0], 'desc': annotation[1], \n",
    "                                        'corr': corr[0], 'p': corr[1]}, ignore_index=True)\n",
    "        \n",
    "    except:\n",
    "        pass"
   ]
  },
  {
   "cell_type": "code",
   "execution_count": 30,
   "metadata": {},
   "outputs": [],
   "source": [
    "results_df.to_csv('/dagher/dagher11/filip/Obesity_maps/data/HCPA_corrs.csv', index=False)"
   ]
  },
  {
   "cell_type": "markdown",
   "metadata": {},
   "source": [
    "# ABCD"
   ]
  },
  {
   "cell_type": "code",
   "execution_count": 78,
   "metadata": {},
   "outputs": [],
   "source": [
    "BMI_DKT_LH = scipy.io.loadmat('/dagher/dagher11/filip/Obesity_maps/data/ABCD_CT_DKT_LH.mat')['ABCD_CT_DKT_LH']\n",
    "BMI_DKT_RH = scipy.io.loadmat('/dagher/dagher11/filip/Obesity_maps/data/ABCD_CT_DKT_RH.mat')['ABCD_CT_DKT_RH']\n",
    "BMI_DKT=np.hstack((BMI_DKT_LH,BMI_DKT_RH))"
   ]
  },
  {
   "cell_type": "code",
   "execution_count": 79,
   "metadata": {
    "scrolled": true
   },
   "outputs": [
    {
     "name": "stdout",
     "output_type": "stream",
     "text": [
      "('abagen', 'genepc1', 'fsaverage', '10k')\n",
      "(0.3406333354987286, 0.16598340165983402)\n",
      "('aghourian2017', 'feobv', 'MNI152', '1mm')\n"
     ]
    },
    {
     "name": "stderr",
     "output_type": "stream",
     "text": [
      "/tmp/ipykernel_32031/2019287863.py:25: FutureWarning: The frame.append method is deprecated and will be removed from pandas in a future version. Use pandas.concat instead.\n",
      "  results_df = results_df.append({'source': annotation[0], 'desc': annotation[1],\n"
     ]
    },
    {
     "name": "stdout",
     "output_type": "stream",
     "text": [
      "(0.01805016075327069, 0.9333066693330667)\n",
      "('alarkurtti2015', 'raclopride', 'MNI152', '3mm')\n"
     ]
    },
    {
     "name": "stderr",
     "output_type": "stream",
     "text": [
      "/tmp/ipykernel_32031/2019287863.py:25: FutureWarning: The frame.append method is deprecated and will be removed from pandas in a future version. Use pandas.concat instead.\n",
      "  results_df = results_df.append({'source': annotation[0], 'desc': annotation[1],\n"
     ]
    },
    {
     "name": "stdout",
     "output_type": "stream",
     "text": [
      "(0.22721182004988916, 0.28887111288871115)\n",
      "('bedard2019', 'feobv', 'MNI152', '1mm')\n"
     ]
    },
    {
     "name": "stderr",
     "output_type": "stream",
     "text": [
      "/tmp/ipykernel_32031/2019287863.py:25: FutureWarning: The frame.append method is deprecated and will be removed from pandas in a future version. Use pandas.concat instead.\n",
      "  results_df = results_df.append({'source': annotation[0], 'desc': annotation[1],\n"
     ]
    },
    {
     "name": "stdout",
     "output_type": "stream",
     "text": [
      "(0.021387410089880706, 0.9238076192380762)\n",
      "('beliveau2017', 'az10419369', 'MNI152', '1mm')\n"
     ]
    },
    {
     "name": "stderr",
     "output_type": "stream",
     "text": [
      "/tmp/ipykernel_32031/2019287863.py:25: FutureWarning: The frame.append method is deprecated and will be removed from pandas in a future version. Use pandas.concat instead.\n",
      "  results_df = results_df.append({'source': annotation[0], 'desc': annotation[1],\n"
     ]
    },
    {
     "name": "stdout",
     "output_type": "stream",
     "text": [
      "(-0.15018328453103413, 0.39346065393460655)\n",
      "('beliveau2017', 'cimbi36', 'MNI152', '1mm')\n"
     ]
    },
    {
     "name": "stderr",
     "output_type": "stream",
     "text": [
      "/tmp/ipykernel_32031/2019287863.py:25: FutureWarning: The frame.append method is deprecated and will be removed from pandas in a future version. Use pandas.concat instead.\n",
      "  results_df = results_df.append({'source': annotation[0], 'desc': annotation[1],\n"
     ]
    },
    {
     "name": "stdout",
     "output_type": "stream",
     "text": [
      "(-0.2870685939821691, 0.148985101489851)\n",
      "('beliveau2017', 'cumi101', 'MNI152', '1mm')\n"
     ]
    },
    {
     "name": "stderr",
     "output_type": "stream",
     "text": [
      "/tmp/ipykernel_32031/2019287863.py:25: FutureWarning: The frame.append method is deprecated and will be removed from pandas in a future version. Use pandas.concat instead.\n",
      "  results_df = results_df.append({'source': annotation[0], 'desc': annotation[1],\n"
     ]
    },
    {
     "name": "stdout",
     "output_type": "stream",
     "text": [
      "(-0.16632842523722846, 0.5347465253474653)\n",
      "('beliveau2017', 'dasb', 'MNI152', '1mm')\n"
     ]
    },
    {
     "name": "stderr",
     "output_type": "stream",
     "text": [
      "/tmp/ipykernel_32031/2019287863.py:25: FutureWarning: The frame.append method is deprecated and will be removed from pandas in a future version. Use pandas.concat instead.\n",
      "  results_df = results_df.append({'source': annotation[0], 'desc': annotation[1],\n"
     ]
    },
    {
     "name": "stdout",
     "output_type": "stream",
     "text": [
      "(0.06981701144117702, 0.7667233276672333)\n",
      "('beliveau2017', 'sb207145', 'MNI152', '1mm')\n"
     ]
    },
    {
     "name": "stderr",
     "output_type": "stream",
     "text": [
      "/tmp/ipykernel_32031/2019287863.py:25: FutureWarning: The frame.append method is deprecated and will be removed from pandas in a future version. Use pandas.concat instead.\n",
      "  results_df = results_df.append({'source': annotation[0], 'desc': annotation[1],\n"
     ]
    },
    {
     "name": "stdout",
     "output_type": "stream",
     "text": [
      "(-0.27672725855480373, 0.2445755424457554)\n",
      "('ding2010', 'mrb', 'MNI152', '1mm')\n"
     ]
    },
    {
     "name": "stderr",
     "output_type": "stream",
     "text": [
      "/tmp/ipykernel_32031/2019287863.py:25: FutureWarning: The frame.append method is deprecated and will be removed from pandas in a future version. Use pandas.concat instead.\n",
      "  results_df = results_df.append({'source': annotation[0], 'desc': annotation[1],\n"
     ]
    },
    {
     "name": "stdout",
     "output_type": "stream",
     "text": [
      "(0.07281933852765528, 0.7544245575442455)\n",
      "('dubois2015', 'abp688', 'MNI152', '1mm')\n"
     ]
    },
    {
     "name": "stderr",
     "output_type": "stream",
     "text": [
      "/tmp/ipykernel_32031/2019287863.py:25: FutureWarning: The frame.append method is deprecated and will be removed from pandas in a future version. Use pandas.concat instead.\n",
      "  results_df = results_df.append({'source': annotation[0], 'desc': annotation[1],\n"
     ]
    },
    {
     "name": "stdout",
     "output_type": "stream",
     "text": [
      "(-0.2871629684913137, 0.15808419158084192)\n",
      "('dukart2018', 'flumazenil', 'MNI152', '3mm')\n"
     ]
    },
    {
     "name": "stderr",
     "output_type": "stream",
     "text": [
      "/tmp/ipykernel_32031/2019287863.py:25: FutureWarning: The frame.append method is deprecated and will be removed from pandas in a future version. Use pandas.concat instead.\n",
      "  results_df = results_df.append({'source': annotation[0], 'desc': annotation[1],\n"
     ]
    },
    {
     "name": "stdout",
     "output_type": "stream",
     "text": [
      "(-0.07815527238810344, 0.6533346665333467)\n",
      "('dukart2018', 'fpcit', 'MNI152', '3mm')\n"
     ]
    },
    {
     "name": "stderr",
     "output_type": "stream",
     "text": [
      "/tmp/ipykernel_32031/2019287863.py:25: FutureWarning: The frame.append method is deprecated and will be removed from pandas in a future version. Use pandas.concat instead.\n",
      "  results_df = results_df.append({'source': annotation[0], 'desc': annotation[1],\n"
     ]
    },
    {
     "name": "stdout",
     "output_type": "stream",
     "text": [
      "(0.07980525533556568, 0.7549245075492451)\n",
      "('fazio2016', 'madam', 'MNI152', '3mm')\n"
     ]
    },
    {
     "name": "stderr",
     "output_type": "stream",
     "text": [
      "/tmp/ipykernel_32031/2019287863.py:25: FutureWarning: The frame.append method is deprecated and will be removed from pandas in a future version. Use pandas.concat instead.\n",
      "  results_df = results_df.append({'source': annotation[0], 'desc': annotation[1],\n"
     ]
    },
    {
     "name": "stdout",
     "output_type": "stream",
     "text": [
      "(0.002680874673863503, 0.9887011298870113)\n",
      "('finnema2016', 'ucbj', 'MNI152', '1mm')\n"
     ]
    },
    {
     "name": "stderr",
     "output_type": "stream",
     "text": [
      "/tmp/ipykernel_32031/2019287863.py:25: FutureWarning: The frame.append method is deprecated and will be removed from pandas in a future version. Use pandas.concat instead.\n",
      "  results_df = results_df.append({'source': annotation[0], 'desc': annotation[1],\n"
     ]
    },
    {
     "name": "stdout",
     "output_type": "stream",
     "text": [
      "(-0.07642414378415881, 0.6174382561743825)\n",
      "('gallezot2010', 'p943', 'MNI152', '1mm')\n"
     ]
    },
    {
     "name": "stderr",
     "output_type": "stream",
     "text": [
      "/tmp/ipykernel_32031/2019287863.py:25: FutureWarning: The frame.append method is deprecated and will be removed from pandas in a future version. Use pandas.concat instead.\n",
      "  results_df = results_df.append({'source': annotation[0], 'desc': annotation[1],\n"
     ]
    },
    {
     "name": "stdout",
     "output_type": "stream",
     "text": [
      "(-0.21974956665916953, 0.2576742325767423)\n",
      "('gallezot2017', 'gsk189254', 'MNI152', '1mm')\n"
     ]
    },
    {
     "name": "stderr",
     "output_type": "stream",
     "text": [
      "/tmp/ipykernel_32031/2019287863.py:25: FutureWarning: The frame.append method is deprecated and will be removed from pandas in a future version. Use pandas.concat instead.\n",
      "  results_df = results_df.append({'source': annotation[0], 'desc': annotation[1],\n"
     ]
    },
    {
     "name": "stdout",
     "output_type": "stream",
     "text": [
      "(-0.14987619017813356, 0.573042695730427)\n",
      "('hcps1200', 'megalpha', 'fsLR', '4k')\n"
     ]
    },
    {
     "name": "stderr",
     "output_type": "stream",
     "text": [
      "/tmp/ipykernel_32031/2019287863.py:25: FutureWarning: The frame.append method is deprecated and will be removed from pandas in a future version. Use pandas.concat instead.\n",
      "  results_df = results_df.append({'source': annotation[0], 'desc': annotation[1],\n"
     ]
    },
    {
     "name": "stdout",
     "output_type": "stream",
     "text": [
      "(0.5533386367465248, 0.014998500149985002)\n",
      "('hcps1200', 'megbeta', 'fsLR', '4k')\n"
     ]
    },
    {
     "name": "stderr",
     "output_type": "stream",
     "text": [
      "/tmp/ipykernel_32031/2019287863.py:25: FutureWarning: The frame.append method is deprecated and will be removed from pandas in a future version. Use pandas.concat instead.\n",
      "  results_df = results_df.append({'source': annotation[0], 'desc': annotation[1],\n"
     ]
    },
    {
     "name": "stdout",
     "output_type": "stream",
     "text": [
      "(0.43303019641748497, 0.019998000199980003)\n",
      "('hcps1200', 'megdelta', 'fsLR', '4k')\n"
     ]
    },
    {
     "name": "stderr",
     "output_type": "stream",
     "text": [
      "/tmp/ipykernel_32031/2019287863.py:25: FutureWarning: The frame.append method is deprecated and will be removed from pandas in a future version. Use pandas.concat instead.\n",
      "  results_df = results_df.append({'source': annotation[0], 'desc': annotation[1],\n"
     ]
    },
    {
     "name": "stdout",
     "output_type": "stream",
     "text": [
      "(0.05582476080912489, 0.7371262873712628)\n",
      "('hcps1200', 'meggamma1', 'fsLR', '4k')\n"
     ]
    },
    {
     "name": "stderr",
     "output_type": "stream",
     "text": [
      "/tmp/ipykernel_32031/2019287863.py:25: FutureWarning: The frame.append method is deprecated and will be removed from pandas in a future version. Use pandas.concat instead.\n",
      "  results_df = results_df.append({'source': annotation[0], 'desc': annotation[1],\n"
     ]
    },
    {
     "name": "stdout",
     "output_type": "stream",
     "text": [
      "(-0.0639549622828372, 0.7250274972502749)\n",
      "('hcps1200', 'meggamma2', 'fsLR', '4k')\n"
     ]
    },
    {
     "name": "stderr",
     "output_type": "stream",
     "text": [
      "/tmp/ipykernel_32031/2019287863.py:25: FutureWarning: The frame.append method is deprecated and will be removed from pandas in a future version. Use pandas.concat instead.\n",
      "  results_df = results_df.append({'source': annotation[0], 'desc': annotation[1],\n"
     ]
    },
    {
     "name": "stdout",
     "output_type": "stream",
     "text": [
      "(-0.22097403825060746, 0.2822717728227177)\n",
      "('hcps1200', 'megtheta', 'fsLR', '4k')\n"
     ]
    },
    {
     "name": "stderr",
     "output_type": "stream",
     "text": [
      "/tmp/ipykernel_32031/2019287863.py:25: FutureWarning: The frame.append method is deprecated and will be removed from pandas in a future version. Use pandas.concat instead.\n",
      "  results_df = results_df.append({'source': annotation[0], 'desc': annotation[1],\n"
     ]
    },
    {
     "name": "stdout",
     "output_type": "stream",
     "text": [
      "(0.21666192964131525, 0.20317968203179682)\n",
      "('hcps1200', 'megtimescale', 'fsLR', '4k')\n"
     ]
    },
    {
     "name": "stderr",
     "output_type": "stream",
     "text": [
      "/tmp/ipykernel_32031/2019287863.py:25: FutureWarning: The frame.append method is deprecated and will be removed from pandas in a future version. Use pandas.concat instead.\n",
      "  results_df = results_df.append({'source': annotation[0], 'desc': annotation[1],\n"
     ]
    },
    {
     "name": "stdout",
     "output_type": "stream",
     "text": [
      "(-0.33804949250018085, 0.11658834116588342)\n",
      "('hcps1200', 'myelinmap', 'fsLR', '32k')\n"
     ]
    },
    {
     "name": "stderr",
     "output_type": "stream",
     "text": [
      "/tmp/ipykernel_32031/2019287863.py:25: FutureWarning: The frame.append method is deprecated and will be removed from pandas in a future version. Use pandas.concat instead.\n",
      "  results_df = results_df.append({'source': annotation[0], 'desc': annotation[1],\n"
     ]
    },
    {
     "name": "stdout",
     "output_type": "stream",
     "text": [
      "(0.30266517180204083, 0.16318368163183683)\n",
      "('hcps1200', 'thickness', 'fsLR', '32k')\n"
     ]
    },
    {
     "name": "stderr",
     "output_type": "stream",
     "text": [
      "/tmp/ipykernel_32031/2019287863.py:25: FutureWarning: The frame.append method is deprecated and will be removed from pandas in a future version. Use pandas.concat instead.\n",
      "  results_df = results_df.append({'source': annotation[0], 'desc': annotation[1],\n"
     ]
    },
    {
     "name": "stdout",
     "output_type": "stream",
     "text": [
      "(-0.2756609989169178, 0.24487551244875513)\n",
      "('hesse2017', 'methylreboxetine', 'MNI152', '3mm')\n"
     ]
    },
    {
     "name": "stderr",
     "output_type": "stream",
     "text": [
      "/tmp/ipykernel_32031/2019287863.py:25: FutureWarning: The frame.append method is deprecated and will be removed from pandas in a future version. Use pandas.concat instead.\n",
      "  results_df = results_df.append({'source': annotation[0], 'desc': annotation[1],\n"
     ]
    },
    {
     "name": "stdout",
     "output_type": "stream",
     "text": [
      "(0.2531497604602827, 0.19858014198580143)\n",
      "('hill2010', 'devexp', 'fsLR', '164k')\n",
      "('hill2010', 'evoexp', 'fsLR', '164k')\n",
      "('hillmer2016', 'flubatine', 'MNI152', '1mm')\n"
     ]
    },
    {
     "name": "stderr",
     "output_type": "stream",
     "text": [
      "/tmp/ipykernel_32031/2019287863.py:25: FutureWarning: The frame.append method is deprecated and will be removed from pandas in a future version. Use pandas.concat instead.\n",
      "  results_df = results_df.append({'source': annotation[0], 'desc': annotation[1],\n"
     ]
    },
    {
     "name": "stdout",
     "output_type": "stream",
     "text": [
      "(-0.20844103579557335, 0.405959404059594)\n",
      "('jaworska2020', 'fallypride', 'MNI152', '1mm')\n"
     ]
    },
    {
     "name": "stderr",
     "output_type": "stream",
     "text": [
      "/tmp/ipykernel_32031/2019287863.py:25: FutureWarning: The frame.append method is deprecated and will be removed from pandas in a future version. Use pandas.concat instead.\n",
      "  results_df = results_df.append({'source': annotation[0], 'desc': annotation[1],\n"
     ]
    },
    {
     "name": "stdout",
     "output_type": "stream",
     "text": [
      "(-0.03356763632131808, 0.8915108489151085)\n",
      "('kaller2017', 'sch23390', 'MNI152', '3mm')\n"
     ]
    },
    {
     "name": "stderr",
     "output_type": "stream",
     "text": [
      "/tmp/ipykernel_32031/2019287863.py:25: FutureWarning: The frame.append method is deprecated and will be removed from pandas in a future version. Use pandas.concat instead.\n",
      "  results_df = results_df.append({'source': annotation[0], 'desc': annotation[1],\n"
     ]
    },
    {
     "name": "stdout",
     "output_type": "stream",
     "text": [
      "(-0.19364959788883923, 0.3451654834516548)\n",
      "('kantonen2020', 'carfentanil', 'MNI152', '3mm')\n"
     ]
    },
    {
     "name": "stderr",
     "output_type": "stream",
     "text": [
      "/tmp/ipykernel_32031/2019287863.py:25: FutureWarning: The frame.append method is deprecated and will be removed from pandas in a future version. Use pandas.concat instead.\n",
      "  results_df = results_df.append({'source': annotation[0], 'desc': annotation[1],\n"
     ]
    },
    {
     "name": "stdout",
     "output_type": "stream",
     "text": [
      "(-0.4318961644667555, 0.0715928407159284)\n",
      "('laurikainen2018', 'fmpepd2', 'MNI152', '1mm')\n"
     ]
    },
    {
     "name": "stderr",
     "output_type": "stream",
     "text": [
      "/tmp/ipykernel_32031/2019287863.py:25: FutureWarning: The frame.append method is deprecated and will be removed from pandas in a future version. Use pandas.concat instead.\n",
      "  results_df = results_df.append({'source': annotation[0], 'desc': annotation[1],\n"
     ]
    },
    {
     "name": "stdout",
     "output_type": "stream",
     "text": [
      "(-0.41185435892448846, 0.060193980601939805)\n",
      "('margulies2016', 'fcgradient01', 'fsLR', '32k')\n"
     ]
    },
    {
     "name": "stderr",
     "output_type": "stream",
     "text": [
      "/tmp/ipykernel_32031/2019287863.py:25: FutureWarning: The frame.append method is deprecated and will be removed from pandas in a future version. Use pandas.concat instead.\n",
      "  results_df = results_df.append({'source': annotation[0], 'desc': annotation[1],\n"
     ]
    },
    {
     "name": "stdout",
     "output_type": "stream",
     "text": [
      "(-0.5480265458337974, 0.0024997500249975004)\n",
      "('margulies2016', 'fcgradient02', 'fsLR', '32k')\n"
     ]
    },
    {
     "name": "stderr",
     "output_type": "stream",
     "text": [
      "/tmp/ipykernel_32031/2019287863.py:25: FutureWarning: The frame.append method is deprecated and will be removed from pandas in a future version. Use pandas.concat instead.\n",
      "  results_df = results_df.append({'source': annotation[0], 'desc': annotation[1],\n"
     ]
    },
    {
     "name": "stdout",
     "output_type": "stream",
     "text": [
      "(0.18904764090610549, 0.4764523547645235)\n",
      "('margulies2016', 'fcgradient03', 'fsLR', '32k')\n"
     ]
    },
    {
     "name": "stderr",
     "output_type": "stream",
     "text": [
      "/tmp/ipykernel_32031/2019287863.py:25: FutureWarning: The frame.append method is deprecated and will be removed from pandas in a future version. Use pandas.concat instead.\n",
      "  results_df = results_df.append({'source': annotation[0], 'desc': annotation[1],\n"
     ]
    },
    {
     "name": "stdout",
     "output_type": "stream",
     "text": [
      "(-0.11134599817196675, 0.5787421257874212)\n",
      "('margulies2016', 'fcgradient04', 'fsLR', '32k')\n"
     ]
    },
    {
     "name": "stderr",
     "output_type": "stream",
     "text": [
      "/tmp/ipykernel_32031/2019287863.py:25: FutureWarning: The frame.append method is deprecated and will be removed from pandas in a future version. Use pandas.concat instead.\n",
      "  results_df = results_df.append({'source': annotation[0], 'desc': annotation[1],\n"
     ]
    },
    {
     "name": "stdout",
     "output_type": "stream",
     "text": [
      "(0.11364067420933505, 0.6116388361163884)\n",
      "('margulies2016', 'fcgradient05', 'fsLR', '32k')\n"
     ]
    },
    {
     "name": "stderr",
     "output_type": "stream",
     "text": [
      "/tmp/ipykernel_32031/2019287863.py:25: FutureWarning: The frame.append method is deprecated and will be removed from pandas in a future version. Use pandas.concat instead.\n",
      "  results_df = results_df.append({'source': annotation[0], 'desc': annotation[1],\n"
     ]
    },
    {
     "name": "stdout",
     "output_type": "stream",
     "text": [
      "(-0.21603469209000045, 0.3281671832816718)\n",
      "('margulies2016', 'fcgradient06', 'fsLR', '32k')\n"
     ]
    },
    {
     "name": "stderr",
     "output_type": "stream",
     "text": [
      "/tmp/ipykernel_32031/2019287863.py:25: FutureWarning: The frame.append method is deprecated and will be removed from pandas in a future version. Use pandas.concat instead.\n",
      "  results_df = results_df.append({'source': annotation[0], 'desc': annotation[1],\n"
     ]
    },
    {
     "name": "stdout",
     "output_type": "stream",
     "text": [
      "(0.2731874389834053, 0.26447355264473554)\n",
      "('margulies2016', 'fcgradient07', 'fsLR', '32k')\n"
     ]
    },
    {
     "name": "stderr",
     "output_type": "stream",
     "text": [
      "/tmp/ipykernel_32031/2019287863.py:25: FutureWarning: The frame.append method is deprecated and will be removed from pandas in a future version. Use pandas.concat instead.\n",
      "  results_df = results_df.append({'source': annotation[0], 'desc': annotation[1],\n"
     ]
    },
    {
     "name": "stdout",
     "output_type": "stream",
     "text": [
      "(0.18729344459974703, 0.28817118288171184)\n",
      "('margulies2016', 'fcgradient08', 'fsLR', '32k')\n"
     ]
    },
    {
     "name": "stderr",
     "output_type": "stream",
     "text": [
      "/tmp/ipykernel_32031/2019287863.py:25: FutureWarning: The frame.append method is deprecated and will be removed from pandas in a future version. Use pandas.concat instead.\n",
      "  results_df = results_df.append({'source': annotation[0], 'desc': annotation[1],\n"
     ]
    },
    {
     "name": "stdout",
     "output_type": "stream",
     "text": [
      "(0.23042412945347873, 0.24377562243775622)\n",
      "('margulies2016', 'fcgradient09', 'fsLR', '32k')\n"
     ]
    },
    {
     "name": "stderr",
     "output_type": "stream",
     "text": [
      "/tmp/ipykernel_32031/2019287863.py:25: FutureWarning: The frame.append method is deprecated and will be removed from pandas in a future version. Use pandas.concat instead.\n",
      "  results_df = results_df.append({'source': annotation[0], 'desc': annotation[1],\n"
     ]
    },
    {
     "name": "stdout",
     "output_type": "stream",
     "text": [
      "(-0.2539488836404081, 0.1957804219578042)\n",
      "('margulies2016', 'fcgradient10', 'fsLR', '32k')\n"
     ]
    },
    {
     "name": "stderr",
     "output_type": "stream",
     "text": [
      "/tmp/ipykernel_32031/2019287863.py:25: FutureWarning: The frame.append method is deprecated and will be removed from pandas in a future version. Use pandas.concat instead.\n",
      "  results_df = results_df.append({'source': annotation[0], 'desc': annotation[1],\n"
     ]
    },
    {
     "name": "stdout",
     "output_type": "stream",
     "text": [
      "(-0.2979779488570642, 0.14208579142085792)\n",
      "('mueller2013', 'intersubjvar', 'fsLR', '164k')\n"
     ]
    },
    {
     "name": "stderr",
     "output_type": "stream",
     "text": [
      "/tmp/ipykernel_32031/2019287863.py:25: FutureWarning: The frame.append method is deprecated and will be removed from pandas in a future version. Use pandas.concat instead.\n",
      "  results_df = results_df.append({'source': annotation[0], 'desc': annotation[1],\n"
     ]
    },
    {
     "name": "stdout",
     "output_type": "stream",
     "text": [
      "(-0.38016740935326604, 0.0731926807319268)\n",
      "('naganawa2020', 'lsn3172176', 'MNI152', '1mm')\n"
     ]
    },
    {
     "name": "stderr",
     "output_type": "stream",
     "text": [
      "/tmp/ipykernel_32031/2019287863.py:25: FutureWarning: The frame.append method is deprecated and will be removed from pandas in a future version. Use pandas.concat instead.\n",
      "  results_df = results_df.append({'source': annotation[0], 'desc': annotation[1],\n"
     ]
    },
    {
     "name": "stdout",
     "output_type": "stream",
     "text": [
      "(-0.10905904563340374, 0.5074492550744926)\n",
      "('neurosynth', 'cogpc1', 'MNI152', '2mm')\n"
     ]
    },
    {
     "name": "stderr",
     "output_type": "stream",
     "text": [
      "/tmp/ipykernel_32031/2019287863.py:25: FutureWarning: The frame.append method is deprecated and will be removed from pandas in a future version. Use pandas.concat instead.\n",
      "  results_df = results_df.append({'source': annotation[0], 'desc': annotation[1],\n"
     ]
    },
    {
     "name": "stdout",
     "output_type": "stream",
     "text": [
      "(0.28670778005282943, 0.20007999200079993)\n",
      "('norgaard2020', 'flumazenil', 'MNI152', '1mm')\n"
     ]
    },
    {
     "name": "stderr",
     "output_type": "stream",
     "text": [
      "/tmp/ipykernel_32031/2019287863.py:25: FutureWarning: The frame.append method is deprecated and will be removed from pandas in a future version. Use pandas.concat instead.\n",
      "  results_df = results_df.append({'source': annotation[0], 'desc': annotation[1],\n"
     ]
    },
    {
     "name": "stdout",
     "output_type": "stream",
     "text": [
      "(0.04583251411923299, 0.8096190380961904)\n",
      "('normandin2015', 'omar', 'MNI152', '1mm')\n"
     ]
    },
    {
     "name": "stderr",
     "output_type": "stream",
     "text": [
      "/tmp/ipykernel_32031/2019287863.py:25: FutureWarning: The frame.append method is deprecated and will be removed from pandas in a future version. Use pandas.concat instead.\n",
      "  results_df = results_df.append({'source': annotation[0], 'desc': annotation[1],\n"
     ]
    },
    {
     "name": "stdout",
     "output_type": "stream",
     "text": [
      "(-0.39932652746502056, 0.0780921907809219)\n",
      "('radnakrishnan2018', 'gsk215083', 'MNI152', '1mm')\n"
     ]
    },
    {
     "name": "stderr",
     "output_type": "stream",
     "text": [
      "/tmp/ipykernel_32031/2019287863.py:25: FutureWarning: The frame.append method is deprecated and will be removed from pandas in a future version. Use pandas.concat instead.\n",
      "  results_df = results_df.append({'source': annotation[0], 'desc': annotation[1],\n"
     ]
    },
    {
     "name": "stdout",
     "output_type": "stream",
     "text": [
      "(-0.13865989565100004, 0.45715428457154283)\n",
      "('raichle', 'cbf', 'fsLR', '164k')\n"
     ]
    },
    {
     "name": "stderr",
     "output_type": "stream",
     "text": [
      "/tmp/ipykernel_32031/2019287863.py:25: FutureWarning: The frame.append method is deprecated and will be removed from pandas in a future version. Use pandas.concat instead.\n",
      "  results_df = results_df.append({'source': annotation[0], 'desc': annotation[1],\n"
     ]
    },
    {
     "name": "stdout",
     "output_type": "stream",
     "text": [
      "(0.02322265361322063, 0.9085091490850915)\n",
      "('raichle', 'cbv', 'fsLR', '164k')\n"
     ]
    },
    {
     "name": "stderr",
     "output_type": "stream",
     "text": [
      "/tmp/ipykernel_32031/2019287863.py:25: FutureWarning: The frame.append method is deprecated and will be removed from pandas in a future version. Use pandas.concat instead.\n",
      "  results_df = results_df.append({'source': annotation[0], 'desc': annotation[1],\n"
     ]
    },
    {
     "name": "stdout",
     "output_type": "stream",
     "text": [
      "(0.32943743506692963, 0.18398160183981602)\n",
      "('raichle', 'cmr02', 'fsLR', '164k')\n"
     ]
    },
    {
     "name": "stderr",
     "output_type": "stream",
     "text": [
      "/tmp/ipykernel_32031/2019287863.py:25: FutureWarning: The frame.append method is deprecated and will be removed from pandas in a future version. Use pandas.concat instead.\n",
      "  results_df = results_df.append({'source': annotation[0], 'desc': annotation[1],\n"
     ]
    },
    {
     "name": "stdout",
     "output_type": "stream",
     "text": [
      "(0.0835887099917732, 0.6667333266673333)\n",
      "('raichle', 'cmruglu', 'fsLR', '164k')\n"
     ]
    },
    {
     "name": "stderr",
     "output_type": "stream",
     "text": [
      "/tmp/ipykernel_32031/2019287863.py:25: FutureWarning: The frame.append method is deprecated and will be removed from pandas in a future version. Use pandas.concat instead.\n",
      "  results_df = results_df.append({'source': annotation[0], 'desc': annotation[1],\n"
     ]
    },
    {
     "name": "stdout",
     "output_type": "stream",
     "text": [
      "(-0.11699480265102992, 0.5828417158284172)\n",
      "('reardon2018', 'scalinghcp', 'civet', '41k')\n"
     ]
    },
    {
     "name": "stderr",
     "output_type": "stream",
     "text": [
      "/tmp/ipykernel_32031/2019287863.py:25: FutureWarning: The frame.append method is deprecated and will be removed from pandas in a future version. Use pandas.concat instead.\n",
      "  results_df = results_df.append({'source': annotation[0], 'desc': annotation[1],\n"
     ]
    },
    {
     "name": "stdout",
     "output_type": "stream",
     "text": [
      "(-0.06265221987516276, 0.8118188181181882)\n",
      "('reardon2018', 'scalingnih', 'civet', '41k')\n"
     ]
    },
    {
     "name": "stderr",
     "output_type": "stream",
     "text": [
      "/tmp/ipykernel_32031/2019287863.py:25: FutureWarning: The frame.append method is deprecated and will be removed from pandas in a future version. Use pandas.concat instead.\n",
      "  results_df = results_df.append({'source': annotation[0], 'desc': annotation[1],\n"
     ]
    },
    {
     "name": "stdout",
     "output_type": "stream",
     "text": [
      "(-0.027262729817101077, 0.8746125387461254)\n",
      "('reardon2018', 'scalingpnc', 'civet', '41k')\n"
     ]
    },
    {
     "name": "stderr",
     "output_type": "stream",
     "text": [
      "/tmp/ipykernel_32031/2019287863.py:25: FutureWarning: The frame.append method is deprecated and will be removed from pandas in a future version. Use pandas.concat instead.\n",
      "  results_df = results_df.append({'source': annotation[0], 'desc': annotation[1],\n"
     ]
    },
    {
     "name": "stdout",
     "output_type": "stream",
     "text": [
      "(0.007761642232354501, 0.9604039596040396)\n",
      "('rosaneto', 'abp688', 'MNI152', '1mm')\n"
     ]
    },
    {
     "name": "stderr",
     "output_type": "stream",
     "text": [
      "/tmp/ipykernel_32031/2019287863.py:25: FutureWarning: The frame.append method is deprecated and will be removed from pandas in a future version. Use pandas.concat instead.\n",
      "  results_df = results_df.append({'source': annotation[0], 'desc': annotation[1],\n"
     ]
    },
    {
     "name": "stdout",
     "output_type": "stream",
     "text": [
      "(-0.35012961340937826, 0.071992800719928)\n",
      "('sandiego2015', 'flb457', 'MNI152', '1mm')\n"
     ]
    },
    {
     "name": "stderr",
     "output_type": "stream",
     "text": [
      "/tmp/ipykernel_32031/2019287863.py:25: FutureWarning: The frame.append method is deprecated and will be removed from pandas in a future version. Use pandas.concat instead.\n",
      "  results_df = results_df.append({'source': annotation[0], 'desc': annotation[1],\n"
     ]
    },
    {
     "name": "stdout",
     "output_type": "stream",
     "text": [
      "(-0.12384070042506562, 0.6758324167583242)\n",
      "('sasaki2012', 'fepe2i', 'MNI152', '1mm')\n"
     ]
    },
    {
     "name": "stderr",
     "output_type": "stream",
     "text": [
      "/tmp/ipykernel_32031/2019287863.py:25: FutureWarning: The frame.append method is deprecated and will be removed from pandas in a future version. Use pandas.concat instead.\n",
      "  results_df = results_df.append({'source': annotation[0], 'desc': annotation[1],\n"
     ]
    },
    {
     "name": "stdout",
     "output_type": "stream",
     "text": [
      "(0.10303406070353745, 0.5000499950005)\n",
      "('satterthwaite2014', 'meancbf', 'MNI152', '1mm')\n"
     ]
    },
    {
     "name": "stderr",
     "output_type": "stream",
     "text": [
      "/tmp/ipykernel_32031/2019287863.py:25: FutureWarning: The frame.append method is deprecated and will be removed from pandas in a future version. Use pandas.concat instead.\n",
      "  results_df = results_df.append({'source': annotation[0], 'desc': annotation[1],\n"
     ]
    },
    {
     "name": "stdout",
     "output_type": "stream",
     "text": [
      "(-0.18101898495368185, 0.38036196380361964)\n",
      "('savli2012', 'altanserin', 'MNI152', '3mm')\n"
     ]
    },
    {
     "name": "stderr",
     "output_type": "stream",
     "text": [
      "/tmp/ipykernel_32031/2019287863.py:25: FutureWarning: The frame.append method is deprecated and will be removed from pandas in a future version. Use pandas.concat instead.\n",
      "  results_df = results_df.append({'source': annotation[0], 'desc': annotation[1],\n"
     ]
    },
    {
     "name": "stdout",
     "output_type": "stream",
     "text": [
      "(-0.27200126144043785, 0.13758624137586242)\n",
      "('savli2012', 'dasb', 'MNI152', '3mm')\n"
     ]
    },
    {
     "name": "stderr",
     "output_type": "stream",
     "text": [
      "/tmp/ipykernel_32031/2019287863.py:25: FutureWarning: The frame.append method is deprecated and will be removed from pandas in a future version. Use pandas.concat instead.\n",
      "  results_df = results_df.append({'source': annotation[0], 'desc': annotation[1],\n"
     ]
    },
    {
     "name": "stdout",
     "output_type": "stream",
     "text": [
      "(0.09123707839714211, 0.6726327367263274)\n",
      "('savli2012', 'p943', 'MNI152', '3mm')\n"
     ]
    },
    {
     "name": "stderr",
     "output_type": "stream",
     "text": [
      "/tmp/ipykernel_32031/2019287863.py:25: FutureWarning: The frame.append method is deprecated and will be removed from pandas in a future version. Use pandas.concat instead.\n",
      "  results_df = results_df.append({'source': annotation[0], 'desc': annotation[1],\n"
     ]
    },
    {
     "name": "stdout",
     "output_type": "stream",
     "text": [
      "(-0.2324244350856021, 0.24427557244275572)\n",
      "('savli2012', 'way100635', 'MNI152', '3mm')\n"
     ]
    },
    {
     "name": "stderr",
     "output_type": "stream",
     "text": [
      "/tmp/ipykernel_32031/2019287863.py:25: FutureWarning: The frame.append method is deprecated and will be removed from pandas in a future version. Use pandas.concat instead.\n",
      "  results_df = results_df.append({'source': annotation[0], 'desc': annotation[1],\n"
     ]
    },
    {
     "name": "stdout",
     "output_type": "stream",
     "text": [
      "(-0.15658065505677093, 0.5556444355564444)\n",
      "('smart2019', 'abp688', 'MNI152', '1mm')\n"
     ]
    },
    {
     "name": "stderr",
     "output_type": "stream",
     "text": [
      "/tmp/ipykernel_32031/2019287863.py:25: FutureWarning: The frame.append method is deprecated and will be removed from pandas in a future version. Use pandas.concat instead.\n",
      "  results_df = results_df.append({'source': annotation[0], 'desc': annotation[1],\n"
     ]
    },
    {
     "name": "stdout",
     "output_type": "stream",
     "text": [
      "(-0.1162572093726599, 0.5687431256874312)\n",
      "('smith2017', 'flb457', 'MNI152', '1mm')\n"
     ]
    },
    {
     "name": "stderr",
     "output_type": "stream",
     "text": [
      "/tmp/ipykernel_32031/2019287863.py:25: FutureWarning: The frame.append method is deprecated and will be removed from pandas in a future version. Use pandas.concat instead.\n",
      "  results_df = results_df.append({'source': annotation[0], 'desc': annotation[1],\n"
     ]
    },
    {
     "name": "stdout",
     "output_type": "stream",
     "text": [
      "(-0.11380510328029113, 0.6381361863813618)\n",
      "('sydnor2021', 'SAaxis', 'fsLR', '32k')\n"
     ]
    },
    {
     "name": "stderr",
     "output_type": "stream",
     "text": [
      "/tmp/ipykernel_32031/2019287863.py:25: FutureWarning: The frame.append method is deprecated and will be removed from pandas in a future version. Use pandas.concat instead.\n",
      "  results_df = results_df.append({'source': annotation[0], 'desc': annotation[1],\n"
     ]
    },
    {
     "name": "stdout",
     "output_type": "stream",
     "text": [
      "(-0.579336557770626, 0.0031996800319968005)\n",
      "('tuominen', 'feobv', 'MNI152', '2mm')\n"
     ]
    },
    {
     "name": "stderr",
     "output_type": "stream",
     "text": [
      "/tmp/ipykernel_32031/2019287863.py:25: FutureWarning: The frame.append method is deprecated and will be removed from pandas in a future version. Use pandas.concat instead.\n",
      "  results_df = results_df.append({'source': annotation[0], 'desc': annotation[1],\n"
     ]
    },
    {
     "name": "stdout",
     "output_type": "stream",
     "text": [
      "(0.10487305347093986, 0.6029397060293971)\n",
      "('turtonen2020', 'carfentanil', 'MNI152', '1mm')\n"
     ]
    },
    {
     "name": "stderr",
     "output_type": "stream",
     "text": [
      "/tmp/ipykernel_32031/2019287863.py:25: FutureWarning: The frame.append method is deprecated and will be removed from pandas in a future version. Use pandas.concat instead.\n",
      "  results_df = results_df.append({'source': annotation[0], 'desc': annotation[1],\n"
     ]
    },
    {
     "name": "stdout",
     "output_type": "stream",
     "text": [
      "(-0.4402720860636032, 0.07239276072392761)\n",
      "('xu2020', 'FChomology', 'fsLR', '32k')\n"
     ]
    },
    {
     "name": "stderr",
     "output_type": "stream",
     "text": [
      "/tmp/ipykernel_32031/2019287863.py:25: FutureWarning: The frame.append method is deprecated and will be removed from pandas in a future version. Use pandas.concat instead.\n",
      "  results_df = results_df.append({'source': annotation[0], 'desc': annotation[1],\n"
     ]
    },
    {
     "name": "stdout",
     "output_type": "stream",
     "text": [
      "(0.29396411640574277, 0.11778822117788221)\n",
      "('xu2020', 'evoexp', 'fsLR', '32k')\n"
     ]
    },
    {
     "name": "stderr",
     "output_type": "stream",
     "text": [
      "/tmp/ipykernel_32031/2019287863.py:25: FutureWarning: The frame.append method is deprecated and will be removed from pandas in a future version. Use pandas.concat instead.\n",
      "  results_df = results_df.append({'source': annotation[0], 'desc': annotation[1],\n"
     ]
    },
    {
     "name": "stdout",
     "output_type": "stream",
     "text": [
      "(-0.1905804367392052, 0.2328767123287671)\n"
     ]
    },
    {
     "name": "stderr",
     "output_type": "stream",
     "text": [
      "/tmp/ipykernel_32031/2019287863.py:25: FutureWarning: The frame.append method is deprecated and will be removed from pandas in a future version. Use pandas.concat instead.\n",
      "  results_df = results_df.append({'source': annotation[0], 'desc': annotation[1],\n"
     ]
    }
   ],
   "source": [
    "parc = Parcellater('/dagher/dagher11/filip/Obesity_maps/data_old/DKT_orig.nii.gz', 'mni152')  # DKT parcellater\n",
    "parcL = Parcellater((DKT_gii_lh), 'fsaverage', hemi='L')  # DKT parcellater\n",
    "parcR = Parcellater((DKT_gii_rh), 'fsaverage', hemi='R')  # DKT parcellater\n",
    "\n",
    "results_df = pd.DataFrame(columns=['source', 'desc', 'corr', 'p'])\n",
    "\n",
    "for annotation in available_annotations():\n",
    "    try:\n",
    "        print(annotation) \n",
    "        brain_map=datasets.fetch_annotation(source=annotation[0], desc=annotation[1])\n",
    "        if annotation[2]=='fsLR':\n",
    "            brain_map=transforms.fslr_to_fsaverage(brain_map, target_density='164k')\n",
    "        elif annotation[2]=='MNI152':\n",
    "            brain_map=transforms.mni152_to_fsaverage(brain_map, fsavg_density='164k')\n",
    "        NT_parc_lh = parcL.fit_transform(brain_map[0], 'fsaverage', hemi='L')\n",
    "        NT_parc_rh = parcR.fit_transform(brain_map[1], 'fsaverage', hemi='R')\n",
    "        NT_parc=np.concatenate((NT_parc_lh,NT_parc_rh))\n",
    "        rotated = nulls.alexander_bloch(BMI_DKT, atlas='fsaverage', \n",
    "                                        density='164k', n_perm=10000, seed=1234,\n",
    "                                        parcellation=list(('/dagher/dagher11/filip/Obesity_maps/data_old/lh.DKT_new.gii',\n",
    "                          '/dagher/dagher11/filip/Obesity_maps/data_old/rh.DKT_new.gii')))\n",
    "        corr = compare_images(BMI_DKT, NT_parc, metric='pearsonr', nulls=rotated)\n",
    "        print(corr)\n",
    "        # Append the result to the dataframe\n",
    "        results_df = results_df.append({'source': annotation[0], 'desc': annotation[1], \n",
    "                                        'corr': corr[0], 'p': corr[1]}, ignore_index=True)\n",
    "        \n",
    "    except:\n",
    "        pass"
   ]
  },
  {
   "cell_type": "code",
   "execution_count": 80,
   "metadata": {},
   "outputs": [],
   "source": [
    "results_df.to_csv('/dagher/dagher11/filip/Obesity_maps/data/ABCD_corrs.csv', index=False)"
   ]
  },
  {
   "cell_type": "markdown",
   "metadata": {},
   "source": [
    "# HCP"
   ]
  },
  {
   "cell_type": "code",
   "execution_count": 8,
   "metadata": {},
   "outputs": [],
   "source": [
    "BMI_DKT_LH=pd.read_csv('/dagher/dagher11/filip/Obesity_maps/data/HCP_CT_DKT_LH.csv', header=None)\n",
    "BMI_DKT_RH=pd.read_csv('/dagher/dagher11/filip/Obesity_maps/data/HCP_CT_DKT_RH.csv', header=None)\n",
    "BMI_DKT=pd.concat((BMI_DKT_LH,BMI_DKT_RH))"
   ]
  },
  {
   "cell_type": "code",
   "execution_count": 3,
   "metadata": {},
   "outputs": [],
   "source": [
    "DKT_gii_lh=images.annot_to_gifti('/dagher/dagher11/filip/Obesity_maps/data_old/lh.DKT.annot')\n",
    "DKT_gii_rh=images.annot_to_gifti('/dagher/dagher11/filip/Obesity_maps/data_old/rh.DKT.annot')"
   ]
  },
  {
   "cell_type": "code",
   "execution_count": 16,
   "metadata": {
    "scrolled": true
   },
   "outputs": [
    {
     "name": "stdout",
     "output_type": "stream",
     "text": [
      "('abagen', 'genepc1', 'fsaverage', '10k')\n",
      "(-0.2662699090568067, 0.07739226077392261)\n",
      "('aghourian2017', 'feobv', 'MNI152', '1mm')\n"
     ]
    },
    {
     "name": "stderr",
     "output_type": "stream",
     "text": [
      "/tmp/ipykernel_1818/1424287289.py:25: FutureWarning: The frame.append method is deprecated and will be removed from pandas in a future version. Use pandas.concat instead.\n",
      "  results_df = results_df.append({'source': annotation[0], 'desc': annotation[1],\n"
     ]
    },
    {
     "name": "stdout",
     "output_type": "stream",
     "text": [
      "(0.05201223196426037, 0.7135286471352865)\n",
      "('alarkurtti2015', 'raclopride', 'MNI152', '3mm')\n"
     ]
    },
    {
     "name": "stderr",
     "output_type": "stream",
     "text": [
      "/tmp/ipykernel_1818/1424287289.py:25: FutureWarning: The frame.append method is deprecated and will be removed from pandas in a future version. Use pandas.concat instead.\n",
      "  results_df = results_df.append({'source': annotation[0], 'desc': annotation[1],\n"
     ]
    },
    {
     "name": "stdout",
     "output_type": "stream",
     "text": [
      "(0.035125672366532544, 0.7818218178182181)\n",
      "('bedard2019', 'feobv', 'MNI152', '1mm')\n"
     ]
    },
    {
     "name": "stderr",
     "output_type": "stream",
     "text": [
      "/tmp/ipykernel_1818/1424287289.py:25: FutureWarning: The frame.append method is deprecated and will be removed from pandas in a future version. Use pandas.concat instead.\n",
      "  results_df = results_df.append({'source': annotation[0], 'desc': annotation[1],\n"
     ]
    },
    {
     "name": "stdout",
     "output_type": "stream",
     "text": [
      "(0.05780047797845734, 0.6693330666933307)\n",
      "('beliveau2017', 'az10419369', 'MNI152', '1mm')\n"
     ]
    },
    {
     "name": "stderr",
     "output_type": "stream",
     "text": [
      "/tmp/ipykernel_1818/1424287289.py:25: FutureWarning: The frame.append method is deprecated and will be removed from pandas in a future version. Use pandas.concat instead.\n",
      "  results_df = results_df.append({'source': annotation[0], 'desc': annotation[1],\n"
     ]
    },
    {
     "name": "stdout",
     "output_type": "stream",
     "text": [
      "(-0.20693811681880658, 0.1337866213378662)\n",
      "('beliveau2017', 'cimbi36', 'MNI152', '1mm')\n"
     ]
    },
    {
     "name": "stderr",
     "output_type": "stream",
     "text": [
      "/tmp/ipykernel_1818/1424287289.py:25: FutureWarning: The frame.append method is deprecated and will be removed from pandas in a future version. Use pandas.concat instead.\n",
      "  results_df = results_df.append({'source': annotation[0], 'desc': annotation[1],\n"
     ]
    },
    {
     "name": "stdout",
     "output_type": "stream",
     "text": [
      "(-0.0520712505126791, 0.7175282471752825)\n",
      "('beliveau2017', 'cumi101', 'MNI152', '1mm')\n"
     ]
    },
    {
     "name": "stderr",
     "output_type": "stream",
     "text": [
      "/tmp/ipykernel_1818/1424287289.py:25: FutureWarning: The frame.append method is deprecated and will be removed from pandas in a future version. Use pandas.concat instead.\n",
      "  results_df = results_df.append({'source': annotation[0], 'desc': annotation[1],\n"
     ]
    },
    {
     "name": "stdout",
     "output_type": "stream",
     "text": [
      "(0.006035326933817903, 0.967003299670033)\n",
      "('beliveau2017', 'dasb', 'MNI152', '1mm')\n"
     ]
    },
    {
     "name": "stderr",
     "output_type": "stream",
     "text": [
      "/tmp/ipykernel_1818/1424287289.py:25: FutureWarning: The frame.append method is deprecated and will be removed from pandas in a future version. Use pandas.concat instead.\n",
      "  results_df = results_df.append({'source': annotation[0], 'desc': annotation[1],\n"
     ]
    },
    {
     "name": "stdout",
     "output_type": "stream",
     "text": [
      "(-0.15956465598035502, 0.24337566243375663)\n",
      "('beliveau2017', 'sb207145', 'MNI152', '1mm')\n"
     ]
    },
    {
     "name": "stderr",
     "output_type": "stream",
     "text": [
      "/tmp/ipykernel_1818/1424287289.py:25: FutureWarning: The frame.append method is deprecated and will be removed from pandas in a future version. Use pandas.concat instead.\n",
      "  results_df = results_df.append({'source': annotation[0], 'desc': annotation[1],\n"
     ]
    },
    {
     "name": "stdout",
     "output_type": "stream",
     "text": [
      "(0.018626771725025564, 0.8981101889811018)\n",
      "('ding2010', 'mrb', 'MNI152', '1mm')\n"
     ]
    },
    {
     "name": "stderr",
     "output_type": "stream",
     "text": [
      "/tmp/ipykernel_1818/1424287289.py:25: FutureWarning: The frame.append method is deprecated and will be removed from pandas in a future version. Use pandas.concat instead.\n",
      "  results_df = results_df.append({'source': annotation[0], 'desc': annotation[1],\n"
     ]
    },
    {
     "name": "stdout",
     "output_type": "stream",
     "text": [
      "(-0.016825121089592027, 0.907009299070093)\n",
      "('dubois2015', 'abp688', 'MNI152', '1mm')\n"
     ]
    },
    {
     "name": "stderr",
     "output_type": "stream",
     "text": [
      "/tmp/ipykernel_1818/1424287289.py:25: FutureWarning: The frame.append method is deprecated and will be removed from pandas in a future version. Use pandas.concat instead.\n",
      "  results_df = results_df.append({'source': annotation[0], 'desc': annotation[1],\n"
     ]
    },
    {
     "name": "stdout",
     "output_type": "stream",
     "text": [
      "(0.20109836897722316, 0.14108589141085892)\n",
      "('dukart2018', 'flumazenil', 'MNI152', '3mm')\n"
     ]
    },
    {
     "name": "stderr",
     "output_type": "stream",
     "text": [
      "/tmp/ipykernel_1818/1424287289.py:25: FutureWarning: The frame.append method is deprecated and will be removed from pandas in a future version. Use pandas.concat instead.\n",
      "  results_df = results_df.append({'source': annotation[0], 'desc': annotation[1],\n"
     ]
    },
    {
     "name": "stdout",
     "output_type": "stream",
     "text": [
      "(-0.06988935236874438, 0.6045395460453955)\n",
      "('dukart2018', 'fpcit', 'MNI152', '3mm')\n"
     ]
    },
    {
     "name": "stderr",
     "output_type": "stream",
     "text": [
      "/tmp/ipykernel_1818/1424287289.py:25: FutureWarning: The frame.append method is deprecated and will be removed from pandas in a future version. Use pandas.concat instead.\n",
      "  results_df = results_df.append({'source': annotation[0], 'desc': annotation[1],\n"
     ]
    },
    {
     "name": "stdout",
     "output_type": "stream",
     "text": [
      "(-0.03926315251547386, 0.7583241675832417)\n",
      "('fazio2016', 'madam', 'MNI152', '3mm')\n"
     ]
    },
    {
     "name": "stderr",
     "output_type": "stream",
     "text": [
      "/tmp/ipykernel_1818/1424287289.py:25: FutureWarning: The frame.append method is deprecated and will be removed from pandas in a future version. Use pandas.concat instead.\n",
      "  results_df = results_df.append({'source': annotation[0], 'desc': annotation[1],\n"
     ]
    },
    {
     "name": "stdout",
     "output_type": "stream",
     "text": [
      "(0.004268581464618626, 0.9766023397660234)\n",
      "('finnema2016', 'ucbj', 'MNI152', '1mm')\n"
     ]
    },
    {
     "name": "stderr",
     "output_type": "stream",
     "text": [
      "/tmp/ipykernel_1818/1424287289.py:25: FutureWarning: The frame.append method is deprecated and will be removed from pandas in a future version. Use pandas.concat instead.\n",
      "  results_df = results_df.append({'source': annotation[0], 'desc': annotation[1],\n"
     ]
    },
    {
     "name": "stdout",
     "output_type": "stream",
     "text": [
      "(-0.07252583476304854, 0.6676332366763323)\n",
      "('gallezot2010', 'p943', 'MNI152', '1mm')\n"
     ]
    },
    {
     "name": "stderr",
     "output_type": "stream",
     "text": [
      "/tmp/ipykernel_1818/1424287289.py:25: FutureWarning: The frame.append method is deprecated and will be removed from pandas in a future version. Use pandas.concat instead.\n",
      "  results_df = results_df.append({'source': annotation[0], 'desc': annotation[1],\n"
     ]
    },
    {
     "name": "stdout",
     "output_type": "stream",
     "text": [
      "(-0.04187005552390323, 0.7757224277572243)\n",
      "('gallezot2017', 'gsk189254', 'MNI152', '1mm')\n"
     ]
    },
    {
     "name": "stderr",
     "output_type": "stream",
     "text": [
      "/tmp/ipykernel_1818/1424287289.py:25: FutureWarning: The frame.append method is deprecated and will be removed from pandas in a future version. Use pandas.concat instead.\n",
      "  results_df = results_df.append({'source': annotation[0], 'desc': annotation[1],\n"
     ]
    },
    {
     "name": "stdout",
     "output_type": "stream",
     "text": [
      "(0.15389634847093558, 0.28377162283771623)\n",
      "('hcps1200', 'megalpha', 'fsLR', '4k')\n"
     ]
    },
    {
     "name": "stderr",
     "output_type": "stream",
     "text": [
      "/tmp/ipykernel_1818/1424287289.py:25: FutureWarning: The frame.append method is deprecated and will be removed from pandas in a future version. Use pandas.concat instead.\n",
      "  results_df = results_df.append({'source': annotation[0], 'desc': annotation[1],\n"
     ]
    },
    {
     "name": "stdout",
     "output_type": "stream",
     "text": [
      "(-0.09966330520025218, 0.5197480251974802)\n",
      "('hcps1200', 'megbeta', 'fsLR', '4k')\n"
     ]
    },
    {
     "name": "stderr",
     "output_type": "stream",
     "text": [
      "/tmp/ipykernel_1818/1424287289.py:25: FutureWarning: The frame.append method is deprecated and will be removed from pandas in a future version. Use pandas.concat instead.\n",
      "  results_df = results_df.append({'source': annotation[0], 'desc': annotation[1],\n"
     ]
    },
    {
     "name": "stdout",
     "output_type": "stream",
     "text": [
      "(0.26553616621359166, 0.1304869513048695)\n",
      "('hcps1200', 'megdelta', 'fsLR', '4k')\n"
     ]
    },
    {
     "name": "stderr",
     "output_type": "stream",
     "text": [
      "/tmp/ipykernel_1818/1424287289.py:25: FutureWarning: The frame.append method is deprecated and will be removed from pandas in a future version. Use pandas.concat instead.\n",
      "  results_df = results_df.append({'source': annotation[0], 'desc': annotation[1],\n"
     ]
    },
    {
     "name": "stdout",
     "output_type": "stream",
     "text": [
      "(0.3790240547615919, 0.049095090490950906)\n",
      "('hcps1200', 'meggamma1', 'fsLR', '4k')\n"
     ]
    },
    {
     "name": "stderr",
     "output_type": "stream",
     "text": [
      "/tmp/ipykernel_1818/1424287289.py:25: FutureWarning: The frame.append method is deprecated and will be removed from pandas in a future version. Use pandas.concat instead.\n",
      "  results_df = results_df.append({'source': annotation[0], 'desc': annotation[1],\n"
     ]
    },
    {
     "name": "stdout",
     "output_type": "stream",
     "text": [
      "(0.4368440037153105, 0.014798520147985201)\n",
      "('hcps1200', 'meggamma2', 'fsLR', '4k')\n"
     ]
    },
    {
     "name": "stderr",
     "output_type": "stream",
     "text": [
      "/tmp/ipykernel_1818/1424287289.py:25: FutureWarning: The frame.append method is deprecated and will be removed from pandas in a future version. Use pandas.concat instead.\n",
      "  results_df = results_df.append({'source': annotation[0], 'desc': annotation[1],\n"
     ]
    },
    {
     "name": "stdout",
     "output_type": "stream",
     "text": [
      "(0.34109206978708667, 0.0415958404159584)\n",
      "('hcps1200', 'megtheta', 'fsLR', '4k')\n"
     ]
    },
    {
     "name": "stderr",
     "output_type": "stream",
     "text": [
      "/tmp/ipykernel_1818/1424287289.py:25: FutureWarning: The frame.append method is deprecated and will be removed from pandas in a future version. Use pandas.concat instead.\n",
      "  results_df = results_df.append({'source': annotation[0], 'desc': annotation[1],\n"
     ]
    },
    {
     "name": "stdout",
     "output_type": "stream",
     "text": [
      "(0.37706605364395923, 0.0633936606339366)\n",
      "('hcps1200', 'megtimescale', 'fsLR', '4k')\n"
     ]
    },
    {
     "name": "stderr",
     "output_type": "stream",
     "text": [
      "/tmp/ipykernel_1818/1424287289.py:25: FutureWarning: The frame.append method is deprecated and will be removed from pandas in a future version. Use pandas.concat instead.\n",
      "  results_df = results_df.append({'source': annotation[0], 'desc': annotation[1],\n"
     ]
    },
    {
     "name": "stdout",
     "output_type": "stream",
     "text": [
      "(0.38124196854517106, 0.018598140185981403)\n",
      "('hcps1200', 'myelinmap', 'fsLR', '32k')\n"
     ]
    },
    {
     "name": "stderr",
     "output_type": "stream",
     "text": [
      "/tmp/ipykernel_1818/1424287289.py:25: FutureWarning: The frame.append method is deprecated and will be removed from pandas in a future version. Use pandas.concat instead.\n",
      "  results_df = results_df.append({'source': annotation[0], 'desc': annotation[1],\n"
     ]
    },
    {
     "name": "stdout",
     "output_type": "stream",
     "text": [
      "(-0.2611322864825438, 0.055594440555944404)\n",
      "('hcps1200', 'thickness', 'fsLR', '32k')\n"
     ]
    },
    {
     "name": "stderr",
     "output_type": "stream",
     "text": [
      "/tmp/ipykernel_1818/1424287289.py:25: FutureWarning: The frame.append method is deprecated and will be removed from pandas in a future version. Use pandas.concat instead.\n",
      "  results_df = results_df.append({'source': annotation[0], 'desc': annotation[1],\n"
     ]
    },
    {
     "name": "stdout",
     "output_type": "stream",
     "text": [
      "(0.09342386628026915, 0.5177482251774822)\n",
      "('hesse2017', 'methylreboxetine', 'MNI152', '3mm')\n"
     ]
    },
    {
     "name": "stderr",
     "output_type": "stream",
     "text": [
      "/tmp/ipykernel_1818/1424287289.py:25: FutureWarning: The frame.append method is deprecated and will be removed from pandas in a future version. Use pandas.concat instead.\n",
      "  results_df = results_df.append({'source': annotation[0], 'desc': annotation[1],\n"
     ]
    },
    {
     "name": "stdout",
     "output_type": "stream",
     "text": [
      "(-0.06387967979894642, 0.6319368063193681)\n",
      "('hill2010', 'devexp', 'fsLR', '164k')\n",
      "('hill2010', 'evoexp', 'fsLR', '164k')\n",
      "('hillmer2016', 'flubatine', 'MNI152', '1mm')\n"
     ]
    },
    {
     "name": "stderr",
     "output_type": "stream",
     "text": [
      "/tmp/ipykernel_1818/1424287289.py:25: FutureWarning: The frame.append method is deprecated and will be removed from pandas in a future version. Use pandas.concat instead.\n",
      "  results_df = results_df.append({'source': annotation[0], 'desc': annotation[1],\n"
     ]
    },
    {
     "name": "stdout",
     "output_type": "stream",
     "text": [
      "(0.03205861163420658, 0.8471152884711529)\n",
      "('jaworska2020', 'fallypride', 'MNI152', '1mm')\n"
     ]
    },
    {
     "name": "stderr",
     "output_type": "stream",
     "text": [
      "/tmp/ipykernel_1818/1424287289.py:25: FutureWarning: The frame.append method is deprecated and will be removed from pandas in a future version. Use pandas.concat instead.\n",
      "  results_df = results_df.append({'source': annotation[0], 'desc': annotation[1],\n"
     ]
    },
    {
     "name": "stdout",
     "output_type": "stream",
     "text": [
      "(0.08439320607904074, 0.49185081491850813)\n",
      "('kaller2017', 'sch23390', 'MNI152', '3mm')\n"
     ]
    },
    {
     "name": "stderr",
     "output_type": "stream",
     "text": [
      "/tmp/ipykernel_1818/1424287289.py:25: FutureWarning: The frame.append method is deprecated and will be removed from pandas in a future version. Use pandas.concat instead.\n",
      "  results_df = results_df.append({'source': annotation[0], 'desc': annotation[1],\n"
     ]
    },
    {
     "name": "stdout",
     "output_type": "stream",
     "text": [
      "(0.10516722344990602, 0.45335466453354667)\n",
      "('kantonen2020', 'carfentanil', 'MNI152', '3mm')\n"
     ]
    },
    {
     "name": "stderr",
     "output_type": "stream",
     "text": [
      "/tmp/ipykernel_1818/1424287289.py:25: FutureWarning: The frame.append method is deprecated and will be removed from pandas in a future version. Use pandas.concat instead.\n",
      "  results_df = results_df.append({'source': annotation[0], 'desc': annotation[1],\n"
     ]
    },
    {
     "name": "stdout",
     "output_type": "stream",
     "text": [
      "(0.3105815889004686, 0.0370962903709629)\n",
      "('laurikainen2018', 'fmpepd2', 'MNI152', '1mm')\n"
     ]
    },
    {
     "name": "stderr",
     "output_type": "stream",
     "text": [
      "/tmp/ipykernel_1818/1424287289.py:25: FutureWarning: The frame.append method is deprecated and will be removed from pandas in a future version. Use pandas.concat instead.\n",
      "  results_df = results_df.append({'source': annotation[0], 'desc': annotation[1],\n"
     ]
    },
    {
     "name": "stdout",
     "output_type": "stream",
     "text": [
      "(0.2881608938273143, 0.030396960303969604)\n",
      "('margulies2016', 'fcgradient01', 'fsLR', '32k')\n"
     ]
    },
    {
     "name": "stderr",
     "output_type": "stream",
     "text": [
      "/tmp/ipykernel_1818/1424287289.py:25: FutureWarning: The frame.append method is deprecated and will be removed from pandas in a future version. Use pandas.concat instead.\n",
      "  results_df = results_df.append({'source': annotation[0], 'desc': annotation[1],\n"
     ]
    },
    {
     "name": "stdout",
     "output_type": "stream",
     "text": [
      "(0.2751913556941342, 0.038696130386961305)\n",
      "('margulies2016', 'fcgradient02', 'fsLR', '32k')\n"
     ]
    },
    {
     "name": "stderr",
     "output_type": "stream",
     "text": [
      "/tmp/ipykernel_1818/1424287289.py:25: FutureWarning: The frame.append method is deprecated and will be removed from pandas in a future version. Use pandas.concat instead.\n",
      "  results_df = results_df.append({'source': annotation[0], 'desc': annotation[1],\n"
     ]
    },
    {
     "name": "stdout",
     "output_type": "stream",
     "text": [
      "(-0.20152372740835078, 0.1606839316068393)\n",
      "('margulies2016', 'fcgradient03', 'fsLR', '32k')\n"
     ]
    },
    {
     "name": "stderr",
     "output_type": "stream",
     "text": [
      "/tmp/ipykernel_1818/1424287289.py:25: FutureWarning: The frame.append method is deprecated and will be removed from pandas in a future version. Use pandas.concat instead.\n",
      "  results_df = results_df.append({'source': annotation[0], 'desc': annotation[1],\n"
     ]
    },
    {
     "name": "stdout",
     "output_type": "stream",
     "text": [
      "(0.039668055222527816, 0.7687231276872313)\n",
      "('margulies2016', 'fcgradient04', 'fsLR', '32k')\n"
     ]
    },
    {
     "name": "stderr",
     "output_type": "stream",
     "text": [
      "/tmp/ipykernel_1818/1424287289.py:25: FutureWarning: The frame.append method is deprecated and will be removed from pandas in a future version. Use pandas.concat instead.\n",
      "  results_df = results_df.append({'source': annotation[0], 'desc': annotation[1],\n"
     ]
    },
    {
     "name": "stdout",
     "output_type": "stream",
     "text": [
      "(-0.19354160997110043, 0.1877812218778122)\n",
      "('margulies2016', 'fcgradient05', 'fsLR', '32k')\n"
     ]
    },
    {
     "name": "stderr",
     "output_type": "stream",
     "text": [
      "/tmp/ipykernel_1818/1424287289.py:25: FutureWarning: The frame.append method is deprecated and will be removed from pandas in a future version. Use pandas.concat instead.\n",
      "  results_df = results_df.append({'source': annotation[0], 'desc': annotation[1],\n"
     ]
    },
    {
     "name": "stdout",
     "output_type": "stream",
     "text": [
      "(0.1592136355238869, 0.2645735426457354)\n",
      "('margulies2016', 'fcgradient06', 'fsLR', '32k')\n"
     ]
    },
    {
     "name": "stderr",
     "output_type": "stream",
     "text": [
      "/tmp/ipykernel_1818/1424287289.py:25: FutureWarning: The frame.append method is deprecated and will be removed from pandas in a future version. Use pandas.concat instead.\n",
      "  results_df = results_df.append({'source': annotation[0], 'desc': annotation[1],\n"
     ]
    },
    {
     "name": "stdout",
     "output_type": "stream",
     "text": [
      "(0.0010168580990581465, 0.9949005099490051)\n",
      "('margulies2016', 'fcgradient07', 'fsLR', '32k')\n"
     ]
    },
    {
     "name": "stderr",
     "output_type": "stream",
     "text": [
      "/tmp/ipykernel_1818/1424287289.py:25: FutureWarning: The frame.append method is deprecated and will be removed from pandas in a future version. Use pandas.concat instead.\n",
      "  results_df = results_df.append({'source': annotation[0], 'desc': annotation[1],\n"
     ]
    },
    {
     "name": "stdout",
     "output_type": "stream",
     "text": [
      "(-0.017840513293611672, 0.8916108389161084)\n",
      "('margulies2016', 'fcgradient08', 'fsLR', '32k')\n"
     ]
    },
    {
     "name": "stderr",
     "output_type": "stream",
     "text": [
      "/tmp/ipykernel_1818/1424287289.py:25: FutureWarning: The frame.append method is deprecated and will be removed from pandas in a future version. Use pandas.concat instead.\n",
      "  results_df = results_df.append({'source': annotation[0], 'desc': annotation[1],\n"
     ]
    },
    {
     "name": "stdout",
     "output_type": "stream",
     "text": [
      "(0.05883477593426733, 0.6941305869413059)\n",
      "('margulies2016', 'fcgradient09', 'fsLR', '32k')\n"
     ]
    },
    {
     "name": "stderr",
     "output_type": "stream",
     "text": [
      "/tmp/ipykernel_1818/1424287289.py:25: FutureWarning: The frame.append method is deprecated and will be removed from pandas in a future version. Use pandas.concat instead.\n",
      "  results_df = results_df.append({'source': annotation[0], 'desc': annotation[1],\n"
     ]
    },
    {
     "name": "stdout",
     "output_type": "stream",
     "text": [
      "(-0.04844718799520064, 0.7372262773722628)\n",
      "('margulies2016', 'fcgradient10', 'fsLR', '32k')\n"
     ]
    },
    {
     "name": "stderr",
     "output_type": "stream",
     "text": [
      "/tmp/ipykernel_1818/1424287289.py:25: FutureWarning: The frame.append method is deprecated and will be removed from pandas in a future version. Use pandas.concat instead.\n",
      "  results_df = results_df.append({'source': annotation[0], 'desc': annotation[1],\n"
     ]
    },
    {
     "name": "stdout",
     "output_type": "stream",
     "text": [
      "(-0.042771695493212074, 0.7897210278972103)\n",
      "('mueller2013', 'intersubjvar', 'fsLR', '164k')\n"
     ]
    },
    {
     "name": "stderr",
     "output_type": "stream",
     "text": [
      "/tmp/ipykernel_1818/1424287289.py:25: FutureWarning: The frame.append method is deprecated and will be removed from pandas in a future version. Use pandas.concat instead.\n",
      "  results_df = results_df.append({'source': annotation[0], 'desc': annotation[1],\n"
     ]
    },
    {
     "name": "stdout",
     "output_type": "stream",
     "text": [
      "(0.12478692797820548, 0.36996300369963003)\n",
      "('naganawa2020', 'lsn3172176', 'MNI152', '1mm')\n"
     ]
    },
    {
     "name": "stderr",
     "output_type": "stream",
     "text": [
      "/tmp/ipykernel_1818/1424287289.py:25: FutureWarning: The frame.append method is deprecated and will be removed from pandas in a future version. Use pandas.concat instead.\n",
      "  results_df = results_df.append({'source': annotation[0], 'desc': annotation[1],\n"
     ]
    },
    {
     "name": "stdout",
     "output_type": "stream",
     "text": [
      "(-0.019788577836329483, 0.8826117388261174)\n",
      "('neurosynth', 'cogpc1', 'MNI152', '2mm')\n"
     ]
    },
    {
     "name": "stderr",
     "output_type": "stream",
     "text": [
      "/tmp/ipykernel_1818/1424287289.py:25: FutureWarning: The frame.append method is deprecated and will be removed from pandas in a future version. Use pandas.concat instead.\n",
      "  results_df = results_df.append({'source': annotation[0], 'desc': annotation[1],\n"
     ]
    },
    {
     "name": "stdout",
     "output_type": "stream",
     "text": [
      "(-0.07909669650281094, 0.5647435256474352)\n",
      "('norgaard2020', 'flumazenil', 'MNI152', '1mm')\n"
     ]
    },
    {
     "name": "stderr",
     "output_type": "stream",
     "text": [
      "/tmp/ipykernel_1818/1424287289.py:25: FutureWarning: The frame.append method is deprecated and will be removed from pandas in a future version. Use pandas.concat instead.\n",
      "  results_df = results_df.append({'source': annotation[0], 'desc': annotation[1],\n"
     ]
    },
    {
     "name": "stdout",
     "output_type": "stream",
     "text": [
      "(-0.20186034189462437, 0.16368363163683633)\n",
      "('normandin2015', 'omar', 'MNI152', '1mm')\n"
     ]
    },
    {
     "name": "stderr",
     "output_type": "stream",
     "text": [
      "/tmp/ipykernel_1818/1424287289.py:25: FutureWarning: The frame.append method is deprecated and will be removed from pandas in a future version. Use pandas.concat instead.\n",
      "  results_df = results_df.append({'source': annotation[0], 'desc': annotation[1],\n"
     ]
    },
    {
     "name": "stdout",
     "output_type": "stream",
     "text": [
      "(0.30884579702091836, 0.028397160283971604)\n",
      "('radnakrishnan2018', 'gsk215083', 'MNI152', '1mm')\n"
     ]
    },
    {
     "name": "stderr",
     "output_type": "stream",
     "text": [
      "/tmp/ipykernel_1818/1424287289.py:25: FutureWarning: The frame.append method is deprecated and will be removed from pandas in a future version. Use pandas.concat instead.\n",
      "  results_df = results_df.append({'source': annotation[0], 'desc': annotation[1],\n"
     ]
    },
    {
     "name": "stdout",
     "output_type": "stream",
     "text": [
      "(0.07697552106538721, 0.551044895510449)\n",
      "('raichle', 'cbf', 'fsLR', '164k')\n"
     ]
    },
    {
     "name": "stderr",
     "output_type": "stream",
     "text": [
      "/tmp/ipykernel_1818/1424287289.py:25: FutureWarning: The frame.append method is deprecated and will be removed from pandas in a future version. Use pandas.concat instead.\n",
      "  results_df = results_df.append({'source': annotation[0], 'desc': annotation[1],\n"
     ]
    },
    {
     "name": "stdout",
     "output_type": "stream",
     "text": [
      "(-0.12511700161436806, 0.36676332366763326)\n",
      "('raichle', 'cbv', 'fsLR', '164k')\n"
     ]
    },
    {
     "name": "stderr",
     "output_type": "stream",
     "text": [
      "/tmp/ipykernel_1818/1424287289.py:25: FutureWarning: The frame.append method is deprecated and will be removed from pandas in a future version. Use pandas.concat instead.\n",
      "  results_df = results_df.append({'source': annotation[0], 'desc': annotation[1],\n"
     ]
    },
    {
     "name": "stdout",
     "output_type": "stream",
     "text": [
      "(-0.2946207786021976, 0.045495450454954504)\n",
      "('raichle', 'cmr02', 'fsLR', '164k')\n"
     ]
    },
    {
     "name": "stderr",
     "output_type": "stream",
     "text": [
      "/tmp/ipykernel_1818/1424287289.py:25: FutureWarning: The frame.append method is deprecated and will be removed from pandas in a future version. Use pandas.concat instead.\n",
      "  results_df = results_df.append({'source': annotation[0], 'desc': annotation[1],\n"
     ]
    },
    {
     "name": "stdout",
     "output_type": "stream",
     "text": [
      "(-0.16621418437139635, 0.24097590240975902)\n",
      "('raichle', 'cmruglu', 'fsLR', '164k')\n"
     ]
    },
    {
     "name": "stderr",
     "output_type": "stream",
     "text": [
      "/tmp/ipykernel_1818/1424287289.py:25: FutureWarning: The frame.append method is deprecated and will be removed from pandas in a future version. Use pandas.concat instead.\n",
      "  results_df = results_df.append({'source': annotation[0], 'desc': annotation[1],\n"
     ]
    },
    {
     "name": "stdout",
     "output_type": "stream",
     "text": [
      "(-0.028087707184100422, 0.8371162883711629)\n",
      "('reardon2018', 'scalinghcp', 'civet', '41k')\n"
     ]
    },
    {
     "name": "stderr",
     "output_type": "stream",
     "text": [
      "/tmp/ipykernel_1818/1424287289.py:25: FutureWarning: The frame.append method is deprecated and will be removed from pandas in a future version. Use pandas.concat instead.\n",
      "  results_df = results_df.append({'source': annotation[0], 'desc': annotation[1],\n"
     ]
    },
    {
     "name": "stdout",
     "output_type": "stream",
     "text": [
      "(0.07437501097010103, 0.5642435756424358)\n",
      "('reardon2018', 'scalingnih', 'civet', '41k')\n"
     ]
    },
    {
     "name": "stderr",
     "output_type": "stream",
     "text": [
      "/tmp/ipykernel_1818/1424287289.py:25: FutureWarning: The frame.append method is deprecated and will be removed from pandas in a future version. Use pandas.concat instead.\n",
      "  results_df = results_df.append({'source': annotation[0], 'desc': annotation[1],\n"
     ]
    },
    {
     "name": "stdout",
     "output_type": "stream",
     "text": [
      "(-0.06326134659376766, 0.5694430556944305)\n",
      "('reardon2018', 'scalingpnc', 'civet', '41k')\n"
     ]
    },
    {
     "name": "stderr",
     "output_type": "stream",
     "text": [
      "/tmp/ipykernel_1818/1424287289.py:25: FutureWarning: The frame.append method is deprecated and will be removed from pandas in a future version. Use pandas.concat instead.\n",
      "  results_df = results_df.append({'source': annotation[0], 'desc': annotation[1],\n"
     ]
    },
    {
     "name": "stdout",
     "output_type": "stream",
     "text": [
      "(-0.15039041080188315, 0.274972502749725)\n",
      "('rosaneto', 'abp688', 'MNI152', '1mm')\n"
     ]
    },
    {
     "name": "stderr",
     "output_type": "stream",
     "text": [
      "/tmp/ipykernel_1818/1424287289.py:25: FutureWarning: The frame.append method is deprecated and will be removed from pandas in a future version. Use pandas.concat instead.\n",
      "  results_df = results_df.append({'source': annotation[0], 'desc': annotation[1],\n"
     ]
    },
    {
     "name": "stdout",
     "output_type": "stream",
     "text": [
      "(0.20650998372467455, 0.1356864313568643)\n",
      "('sandiego2015', 'flb457', 'MNI152', '1mm')\n"
     ]
    },
    {
     "name": "stderr",
     "output_type": "stream",
     "text": [
      "/tmp/ipykernel_1818/1424287289.py:25: FutureWarning: The frame.append method is deprecated and will be removed from pandas in a future version. Use pandas.concat instead.\n",
      "  results_df = results_df.append({'source': annotation[0], 'desc': annotation[1],\n"
     ]
    },
    {
     "name": "stdout",
     "output_type": "stream",
     "text": [
      "(0.10920169736025356, 0.41885811418858115)\n",
      "('sasaki2012', 'fepe2i', 'MNI152', '1mm')\n"
     ]
    },
    {
     "name": "stderr",
     "output_type": "stream",
     "text": [
      "/tmp/ipykernel_1818/1424287289.py:25: FutureWarning: The frame.append method is deprecated and will be removed from pandas in a future version. Use pandas.concat instead.\n",
      "  results_df = results_df.append({'source': annotation[0], 'desc': annotation[1],\n"
     ]
    },
    {
     "name": "stdout",
     "output_type": "stream",
     "text": [
      "(0.007604723071828436, 0.9661033896610339)\n",
      "('satterthwaite2014', 'meancbf', 'MNI152', '1mm')\n"
     ]
    },
    {
     "name": "stderr",
     "output_type": "stream",
     "text": [
      "/tmp/ipykernel_1818/1424287289.py:25: FutureWarning: The frame.append method is deprecated and will be removed from pandas in a future version. Use pandas.concat instead.\n",
      "  results_df = results_df.append({'source': annotation[0], 'desc': annotation[1],\n"
     ]
    },
    {
     "name": "stdout",
     "output_type": "stream",
     "text": [
      "(0.07818118533411846, 0.5772422757724227)\n",
      "('savli2012', 'altanserin', 'MNI152', '3mm')\n"
     ]
    },
    {
     "name": "stderr",
     "output_type": "stream",
     "text": [
      "/tmp/ipykernel_1818/1424287289.py:25: FutureWarning: The frame.append method is deprecated and will be removed from pandas in a future version. Use pandas.concat instead.\n",
      "  results_df = results_df.append({'source': annotation[0], 'desc': annotation[1],\n"
     ]
    },
    {
     "name": "stdout",
     "output_type": "stream",
     "text": [
      "(0.06060174620800802, 0.6259374062593741)\n",
      "('savli2012', 'dasb', 'MNI152', '3mm')\n"
     ]
    },
    {
     "name": "stderr",
     "output_type": "stream",
     "text": [
      "/tmp/ipykernel_1818/1424287289.py:25: FutureWarning: The frame.append method is deprecated and will be removed from pandas in a future version. Use pandas.concat instead.\n",
      "  results_df = results_df.append({'source': annotation[0], 'desc': annotation[1],\n"
     ]
    },
    {
     "name": "stdout",
     "output_type": "stream",
     "text": [
      "(-0.08827730376889904, 0.4754524547545245)\n",
      "('savli2012', 'p943', 'MNI152', '3mm')\n"
     ]
    },
    {
     "name": "stderr",
     "output_type": "stream",
     "text": [
      "/tmp/ipykernel_1818/1424287289.py:25: FutureWarning: The frame.append method is deprecated and will be removed from pandas in a future version. Use pandas.concat instead.\n",
      "  results_df = results_df.append({'source': annotation[0], 'desc': annotation[1],\n"
     ]
    },
    {
     "name": "stdout",
     "output_type": "stream",
     "text": [
      "(0.033231209194169, 0.8188181181881812)\n",
      "('savli2012', 'way100635', 'MNI152', '3mm')\n"
     ]
    },
    {
     "name": "stderr",
     "output_type": "stream",
     "text": [
      "/tmp/ipykernel_1818/1424287289.py:25: FutureWarning: The frame.append method is deprecated and will be removed from pandas in a future version. Use pandas.concat instead.\n",
      "  results_df = results_df.append({'source': annotation[0], 'desc': annotation[1],\n"
     ]
    },
    {
     "name": "stdout",
     "output_type": "stream",
     "text": [
      "(0.12240289371844859, 0.41325867413258677)\n",
      "('smart2019', 'abp688', 'MNI152', '1mm')\n"
     ]
    },
    {
     "name": "stderr",
     "output_type": "stream",
     "text": [
      "/tmp/ipykernel_1818/1424287289.py:25: FutureWarning: The frame.append method is deprecated and will be removed from pandas in a future version. Use pandas.concat instead.\n",
      "  results_df = results_df.append({'source': annotation[0], 'desc': annotation[1],\n"
     ]
    },
    {
     "name": "stdout",
     "output_type": "stream",
     "text": [
      "(0.22920205364784446, 0.10038996100389962)\n",
      "('smith2017', 'flb457', 'MNI152', '1mm')\n"
     ]
    },
    {
     "name": "stderr",
     "output_type": "stream",
     "text": [
      "/tmp/ipykernel_1818/1424287289.py:25: FutureWarning: The frame.append method is deprecated and will be removed from pandas in a future version. Use pandas.concat instead.\n",
      "  results_df = results_df.append({'source': annotation[0], 'desc': annotation[1],\n"
     ]
    },
    {
     "name": "stdout",
     "output_type": "stream",
     "text": [
      "(0.11577351525382965, 0.3722627737226277)\n",
      "('sydnor2021', 'SAaxis', 'fsLR', '32k')\n"
     ]
    },
    {
     "name": "stderr",
     "output_type": "stream",
     "text": [
      "/tmp/ipykernel_1818/1424287289.py:25: FutureWarning: The frame.append method is deprecated and will be removed from pandas in a future version. Use pandas.concat instead.\n",
      "  results_df = results_df.append({'source': annotation[0], 'desc': annotation[1],\n"
     ]
    },
    {
     "name": "stdout",
     "output_type": "stream",
     "text": [
      "(0.28357084757091505, 0.041695830416958304)\n",
      "('tuominen', 'feobv', 'MNI152', '2mm')\n"
     ]
    },
    {
     "name": "stderr",
     "output_type": "stream",
     "text": [
      "/tmp/ipykernel_1818/1424287289.py:25: FutureWarning: The frame.append method is deprecated and will be removed from pandas in a future version. Use pandas.concat instead.\n",
      "  results_df = results_df.append({'source': annotation[0], 'desc': annotation[1],\n"
     ]
    },
    {
     "name": "stdout",
     "output_type": "stream",
     "text": [
      "(0.03771459355592323, 0.7766223377662234)\n",
      "('turtonen2020', 'carfentanil', 'MNI152', '1mm')\n"
     ]
    },
    {
     "name": "stderr",
     "output_type": "stream",
     "text": [
      "/tmp/ipykernel_1818/1424287289.py:25: FutureWarning: The frame.append method is deprecated and will be removed from pandas in a future version. Use pandas.concat instead.\n",
      "  results_df = results_df.append({'source': annotation[0], 'desc': annotation[1],\n"
     ]
    },
    {
     "name": "stdout",
     "output_type": "stream",
     "text": [
      "(0.31057175458694547, 0.039196080391960805)\n",
      "('xu2020', 'FChomology', 'fsLR', '32k')\n"
     ]
    },
    {
     "name": "stderr",
     "output_type": "stream",
     "text": [
      "/tmp/ipykernel_1818/1424287289.py:25: FutureWarning: The frame.append method is deprecated and will be removed from pandas in a future version. Use pandas.concat instead.\n",
      "  results_df = results_df.append({'source': annotation[0], 'desc': annotation[1],\n"
     ]
    },
    {
     "name": "stdout",
     "output_type": "stream",
     "text": [
      "(-0.25621297048244124, 0.07169283071692831)\n",
      "('xu2020', 'evoexp', 'fsLR', '32k')\n"
     ]
    },
    {
     "name": "stderr",
     "output_type": "stream",
     "text": [
      "/tmp/ipykernel_1818/1424287289.py:25: FutureWarning: The frame.append method is deprecated and will be removed from pandas in a future version. Use pandas.concat instead.\n",
      "  results_df = results_df.append({'source': annotation[0], 'desc': annotation[1],\n"
     ]
    },
    {
     "name": "stdout",
     "output_type": "stream",
     "text": [
      "(0.19897622896272787, 0.11528847115288471)\n"
     ]
    },
    {
     "name": "stderr",
     "output_type": "stream",
     "text": [
      "/tmp/ipykernel_1818/1424287289.py:25: FutureWarning: The frame.append method is deprecated and will be removed from pandas in a future version. Use pandas.concat instead.\n",
      "  results_df = results_df.append({'source': annotation[0], 'desc': annotation[1],\n"
     ]
    }
   ],
   "source": [
    "parc = Parcellater('/dagher/dagher11/filip/Obesity_maps/data_old/DKT_orig.nii.gz', 'mni152')  # DKT parcellater\n",
    "parcL = Parcellater((DKT_gii_lh), 'fsaverage', hemi='L')  # DKT parcellater\n",
    "parcR = Parcellater((DKT_gii_rh), 'fsaverage', hemi='R')  # DKT parcellater\n",
    "\n",
    "results_df = pd.DataFrame(columns=['source', 'desc', 'corr', 'p'])\n",
    "\n",
    "for annotation in available_annotations():\n",
    "    try:\n",
    "        print(annotation) \n",
    "        brain_map=datasets.fetch_annotation(source=annotation[0], desc=annotation[1])\n",
    "        if annotation[2]=='fsLR':\n",
    "            brain_map=transforms.fslr_to_fsaverage(brain_map, target_density='164k')\n",
    "        elif annotation[2]=='MNI152':\n",
    "            brain_map=transforms.mni152_to_fsaverage(brain_map, fsavg_density='164k')\n",
    "        NT_parc_lh = parcL.fit_transform(brain_map[0], 'fsaverage', hemi='L')\n",
    "        NT_parc_rh = parcR.fit_transform(brain_map[1], 'fsaverage', hemi='R')\n",
    "        NT_parc=np.concatenate((NT_parc_lh,NT_parc_rh))\n",
    "        rotated = nulls.alexander_bloch(BMI_DKT.values, atlas='fsaverage', \n",
    "                                        density='164k', n_perm=10000, seed=1234,\n",
    "                                        parcellation=list(('/dagher/dagher11/filip/Obesity_maps/data_old/lh.DKT_new.gii',\n",
    "                          '/dagher/dagher11/filip/Obesity_maps/data_old/rh.DKT_new.gii')))\n",
    "        corr = compare_images(BMI_DKT.values, NT_parc, metric='pearsonr', nulls=rotated)\n",
    "        print(corr)\n",
    "        # Append the result to the dataframe\n",
    "        results_df = results_df.append({'source': annotation[0], 'desc': annotation[1], \n",
    "                                        'corr': corr[0], 'p': corr[1]}, ignore_index=True)\n",
    "        \n",
    "    except:\n",
    "        pass"
   ]
  },
  {
   "cell_type": "code",
   "execution_count": 18,
   "metadata": {},
   "outputs": [],
   "source": [
    "results_df.to_csv('/dagher/dagher11/filip/Obesity_maps/data/HCP_corrs.csv', index=False)"
   ]
  },
  {
   "cell_type": "markdown",
   "metadata": {},
   "source": [
    "# OLD"
   ]
  },
  {
   "cell_type": "markdown",
   "metadata": {},
   "source": [
    "## Read the basic files"
   ]
  },
  {
   "cell_type": "code",
   "execution_count": 2,
   "metadata": {},
   "outputs": [],
   "source": [
    "BMI_HCP=list(['/dagher/dagher11/filip/Obesity_maps/data_old/BMI_lh.gii',\n",
    "          '/dagher/dagher11/filip/Obesity_maps/data_old/BMI_rh.gii'])"
   ]
  },
  {
   "cell_type": "code",
   "execution_count": 3,
   "metadata": {},
   "outputs": [],
   "source": [
    "BMI_ctx=transforms.fsaverage_to_fsaverage(BMI_HCP, '164k')"
   ]
  },
  {
   "cell_type": "markdown",
   "metadata": {},
   "source": [
    "## Read mask of medial wall for fsaverage"
   ]
  },
  {
   "cell_type": "code",
   "execution_count": 4,
   "metadata": {},
   "outputs": [],
   "source": [
    "medwall_idx_fsaverage_lh=(freesurfer.io.read_label('/dagher/dagher10/yyau/toolbox/freesurfer/subjects/fsaverage/label/lh.Medial_wall.label',\n",
    "                        read_scalars=False))\n",
    "medwall_idx_fsaverage_rh=(freesurfer.io.read_label('/dagher/dagher10/yyau/toolbox/freesurfer/subjects/fsaverage/label/rh.Medial_wall.label',\n",
    "                        read_scalars=False))"
   ]
  },
  {
   "cell_type": "markdown",
   "metadata": {},
   "source": [
    "## Set all vertices of medial wall to nan"
   ]
  },
  {
   "cell_type": "code",
   "execution_count": 5,
   "metadata": {},
   "outputs": [],
   "source": [
    "BMI_ctx[0].agg_data()[medwall_idx_fsaverage_lh] = np.nan\n",
    "BMI_ctx[1].agg_data()[medwall_idx_fsaverage_rh] = np.nan"
   ]
  },
  {
   "cell_type": "markdown",
   "metadata": {},
   "source": [
    "## Transform fsaverage 164k to 10k for further analyses - saves computational power"
   ]
  },
  {
   "cell_type": "code",
   "execution_count": 9,
   "metadata": {},
   "outputs": [],
   "source": [
    "BMI_10k=transforms.fsaverage_to_fsaverage(BMI_ctx, '10k')"
   ]
  },
  {
   "cell_type": "markdown",
   "metadata": {},
   "source": [
    "## Save files for plotting in the future"
   ]
  },
  {
   "cell_type": "code",
   "execution_count": 16,
   "metadata": {},
   "outputs": [],
   "source": [
    "nib.save(BMI_10k[1], '/dagher/dagher11/filip/Obesity_maps/data/BMI_10k_R.gii')\n",
    "nib.save(BMI_10k[0], '/dagher/dagher11/filip/Obesity_maps/data/BMI_10k_L.gii')\n"
   ]
  },
  {
   "cell_type": "markdown",
   "metadata": {},
   "source": [
    "## Save annotations transformed to 10k space"
   ]
  },
  {
   "cell_type": "code",
   "execution_count": 10,
   "metadata": {
    "scrolled": true
   },
   "outputs": [
    {
     "name": "stdout",
     "output_type": "stream",
     "text": [
      "('abagen', 'genepc1', 'fsaverage', '10k')\n",
      "('aghourian2017', 'feobv', 'MNI152', '1mm')\n",
      "('alarkurtti2015', 'raclopride', 'MNI152', '3mm')\n",
      "('bedard2019', 'feobv', 'MNI152', '1mm')\n",
      "('beliveau2017', 'az10419369', 'MNI152', '1mm')\n",
      "('beliveau2017', 'cimbi36', 'MNI152', '1mm')\n",
      "('beliveau2017', 'cumi101', 'MNI152', '1mm')\n",
      "('beliveau2017', 'dasb', 'MNI152', '1mm')\n",
      "('beliveau2017', 'sb207145', 'MNI152', '1mm')\n",
      "('ding2010', 'mrb', 'MNI152', '1mm')\n",
      "('dubois2015', 'abp688', 'MNI152', '1mm')\n",
      "('dukart2018', 'flumazenil', 'MNI152', '3mm')\n",
      "('dukart2018', 'fpcit', 'MNI152', '3mm')\n",
      "('fazio2016', 'madam', 'MNI152', '3mm')\n",
      "('finnema2016', 'ucbj', 'MNI152', '1mm')\n",
      "('gallezot2010', 'p943', 'MNI152', '1mm')\n",
      "('gallezot2017', 'gsk189254', 'MNI152', '1mm')\n",
      "('hcps1200', 'megalpha', 'fsLR', '4k')\n",
      "('hcps1200', 'megbeta', 'fsLR', '4k')\n",
      "('hcps1200', 'megdelta', 'fsLR', '4k')\n",
      "('hcps1200', 'meggamma1', 'fsLR', '4k')\n",
      "('hcps1200', 'meggamma2', 'fsLR', '4k')\n",
      "('hcps1200', 'megtheta', 'fsLR', '4k')\n",
      "('hcps1200', 'megtimescale', 'fsLR', '4k')\n",
      "('hcps1200', 'myelinmap', 'fsLR', '32k')\n",
      "('hcps1200', 'thickness', 'fsLR', '32k')\n",
      "('hesse2017', 'methylreboxetine', 'MNI152', '3mm')\n",
      "('hill2010', 'devexp', 'fsLR', '164k')\n",
      "('hill2010', 'evoexp', 'fsLR', '164k')\n",
      "('hillmer2016', 'flubatine', 'MNI152', '1mm')\n",
      "('jaworska2020', 'fallypride', 'MNI152', '1mm')\n",
      "('kaller2017', 'sch23390', 'MNI152', '3mm')\n",
      "('kantonen2020', 'carfentanil', 'MNI152', '3mm')\n",
      "('laurikainen2018', 'fmpepd2', 'MNI152', '1mm')\n",
      "('margulies2016', 'fcgradient01', 'fsLR', '32k')\n",
      "('margulies2016', 'fcgradient02', 'fsLR', '32k')\n",
      "('margulies2016', 'fcgradient03', 'fsLR', '32k')\n",
      "('margulies2016', 'fcgradient04', 'fsLR', '32k')\n",
      "('margulies2016', 'fcgradient05', 'fsLR', '32k')\n",
      "('margulies2016', 'fcgradient06', 'fsLR', '32k')\n",
      "('margulies2016', 'fcgradient07', 'fsLR', '32k')\n",
      "('margulies2016', 'fcgradient08', 'fsLR', '32k')\n",
      "('margulies2016', 'fcgradient09', 'fsLR', '32k')\n",
      "('margulies2016', 'fcgradient10', 'fsLR', '32k')\n",
      "('mueller2013', 'intersubjvar', 'fsLR', '164k')\n",
      "('naganawa2020', 'lsn3172176', 'MNI152', '1mm')\n",
      "('neurosynth', 'cogpc1', 'MNI152', '2mm')\n",
      "('norgaard2020', 'flumazenil', 'MNI152', '1mm')\n",
      "('normandin2015', 'omar', 'MNI152', '1mm')\n",
      "('radnakrishnan2018', 'gsk215083', 'MNI152', '1mm')\n",
      "('raichle', 'cbf', 'fsLR', '164k')\n",
      "('raichle', 'cbv', 'fsLR', '164k')\n",
      "('raichle', 'cmr02', 'fsLR', '164k')\n",
      "('raichle', 'cmruglu', 'fsLR', '164k')\n",
      "('reardon2018', 'scalinghcp', 'civet', '41k')\n",
      "('reardon2018', 'scalingnih', 'civet', '41k')\n",
      "('reardon2018', 'scalingpnc', 'civet', '41k')\n",
      "('rosaneto', 'abp688', 'MNI152', '1mm')\n",
      "('sandiego2015', 'flb457', 'MNI152', '1mm')\n",
      "('sasaki2012', 'fepe2i', 'MNI152', '1mm')\n",
      "('satterthwaite2014', 'meancbf', 'MNI152', '1mm')\n",
      "('savli2012', 'altanserin', 'MNI152', '3mm')\n",
      "('savli2012', 'dasb', 'MNI152', '3mm')\n",
      "('savli2012', 'p943', 'MNI152', '3mm')\n",
      "('savli2012', 'way100635', 'MNI152', '3mm')\n",
      "('smart2019', 'abp688', 'MNI152', '1mm')\n",
      "('smith2017', 'flb457', 'MNI152', '1mm')\n",
      "('sydnor2021', 'SAaxis', 'fsLR', '32k')\n",
      "('tuominen', 'feobv', 'MNI152', '2mm')\n",
      "('turtonen2020', 'carfentanil', 'MNI152', '1mm')\n",
      "('xu2020', 'FChomology', 'fsLR', '32k')\n",
      "('xu2020', 'evoexp', 'fsLR', '32k')\n"
     ]
    }
   ],
   "source": [
    "for annotation in available_annotations():\n",
    "    try:\n",
    "        print(annotation)\n",
    "        brain_map=datasets.fetch_annotation(source=annotation[0], desc=annotation[1])\n",
    "        BMI_res, brain_map_res = resample_images(src=BMI_HCP, trg=brain_map, src_space='fsaverage', \n",
    "                                                 trg_space=annotation[2], method='linear', \n",
    "                                                 resampling='transform_to_src')\n",
    "        #rotated = nulls.alexander_bloch(BMI_res, atlas='fsaverage', density='10k', n_perm=10000, seed=1234)\n",
    "        nib.save(brain_map_res[0], '/dagher/dagher11/filip/Obesity_maps/data_old/'+annotation[0]+annotation[1]+'_L.gii')\n",
    "        nib.save(brain_map_res[1], '/dagher/dagher11/filip/Obesity_maps/data_old/'+annotation[0]+annotation[1]+'_R.gii')\n",
    "        #corr = compare_images(BMI_res, brain_map_res, metric='pearsonr', nulls=rotated)\n",
    "        #print(corr)\n",
    "    except:\n",
    "        pass"
   ]
  },
  {
   "cell_type": "markdown",
   "metadata": {},
   "source": [
    "# Calculate correlations with all available annotations"
   ]
  },
  {
   "cell_type": "code",
   "execution_count": 430,
   "metadata": {
    "scrolled": true
   },
   "outputs": [
    {
     "name": "stdout",
     "output_type": "stream",
     "text": [
      "('abagen', 'genepc1', 'fsaverage', '10k')\n",
      "(0.14673678576946259, 0.5224477552244775)\n",
      "('aghourian2017', 'feobv', 'MNI152', '1mm')\n",
      "(-0.09255792200565338, 0.5381461853814619)\n",
      "('alarkurtti2015', 'raclopride', 'MNI152', '3mm')\n",
      "(0.14988219738006592, 0.12498750124987501)\n",
      "('bedard2019', 'feobv', 'MNI152', '1mm')\n",
      "(-0.15804708003997803, 0.20957904209579042)\n",
      "('beliveau2017', 'az10419369', 'MNI152', '1mm')\n",
      "(0.012863333337008953, 0.793920607939206)\n",
      "('beliveau2017', 'cimbi36', 'MNI152', '1mm')\n",
      "(-0.01622484065592289, 0.8091190880911909)\n",
      "('beliveau2017', 'cumi101', 'MNI152', '1mm')\n",
      "(-0.1589098423719406, 0.25047495250474955)\n",
      "('beliveau2017', 'dasb', 'MNI152', '1mm')\n",
      "(-0.23323631286621094, 0.011998800119988001)\n",
      "('beliveau2017', 'sb207145', 'MNI152', '1mm')\n",
      "(-0.055843595415353775, 0.57994200579942)\n",
      "('ding2010', 'mrb', 'MNI152', '1mm')\n",
      "(0.13911652565002441, 0.41235876412358763)\n",
      "('dubois2015', 'abp688', 'MNI152', '1mm')\n",
      "(-0.026094626635313034, 0.8054194580541946)\n",
      "('dukart2018', 'flumazenil', 'MNI152', '3mm')\n",
      "(-0.02651432529091835, 0.835016498350165)\n",
      "('dukart2018', 'fpcit', 'MNI152', '3mm')\n",
      "(-0.27795252203941345, 0.0453954604539546)\n",
      "('fazio2016', 'madam', 'MNI152', '3mm')\n",
      "(-0.13680753111839294, 0.13588641135886412)\n",
      "('gallezot2010', 'p943', 'MNI152', '1mm')\n",
      "(0.11200103163719177, 0.32886711328867113)\n",
      "('gallezot2017', 'gsk189254', 'MNI152', '1mm')\n",
      "(-0.046794336289167404, 0.7843215678432157)\n",
      "('hesse2017', 'methylreboxetine', 'MNI152', '3mm')\n",
      "(0.04787745326757431, 0.5498450154984501)\n",
      "('hillmer2016', 'flubatine', 'MNI152', '1mm')\n",
      "(0.1412336230278015, 0.3377662233776622)\n",
      "('jaworska2020', 'fallypride', 'MNI152', '1mm')\n",
      "(-0.15878912806510925, 0.3628637136286371)\n",
      "('kaller2017', 'sch23390', 'MNI152', '3mm')\n",
      "(-0.15425270795822144, 0.274972502749725)\n",
      "('kantonen2020', 'carfentanil', 'MNI152', '3mm')\n",
      "(-0.010113007389008999, 0.9642035796420358)\n",
      "('laurikainen2018', 'fmpepd2', 'MNI152', '1mm')\n",
      "(0.23646970093250275, 0.048095190480951906)\n",
      "('margulies2016', 'fcgradient01', 'fsLR', '32k')\n",
      "(-0.015757402405142784, 0.9185081491850815)\n",
      "('margulies2016', 'fcgradient02', 'fsLR', '32k')\n",
      "(0.03715437278151512, 0.8741125887411259)\n",
      "('margulies2016', 'fcgradient03', 'fsLR', '32k')\n",
      "(0.10462666302919388, 0.16768323167683233)\n",
      "('margulies2016', 'fcgradient04', 'fsLR', '32k')\n",
      "(-0.25402528047561646, 0.017298270172982702)\n",
      "('margulies2016', 'fcgradient05', 'fsLR', '32k')\n",
      "(-0.1226382926106453, 0.33656634336566343)\n",
      "('margulies2016', 'fcgradient06', 'fsLR', '32k')\n",
      "(0.16362574696540833, 0.23097690230976903)\n",
      "('margulies2016', 'fcgradient07', 'fsLR', '32k')\n",
      "(-0.08639286458492279, 0.32596740325967405)\n",
      "('margulies2016', 'fcgradient08', 'fsLR', '32k')\n",
      "(-0.03168226778507233, 0.7929207079292071)\n",
      "('margulies2016', 'fcgradient09', 'fsLR', '32k')\n",
      "(0.003219254780560732, 0.9797020297970203)\n",
      "('margulies2016', 'fcgradient10', 'fsLR', '32k')\n",
      "(-0.0014769025146961212, 0.9914008599140086)\n",
      "('naganawa2020', 'lsn3172176', 'MNI152', '1mm')\n",
      "(0.031130215153098106, 0.7297270272972702)\n",
      "('neurosynth', 'cogpc1', 'MNI152', '2mm')\n",
      "(0.1768335998058319, 0.3478652134786521)\n",
      "('norgaard2020', 'flumazenil', 'MNI152', '1mm')\n",
      "(0.06400207430124283, 0.1533846615338466)\n",
      "('normandin2015', 'omar', 'MNI152', '1mm')\n",
      "(-0.05359084531664848, 0.7333266673332667)\n",
      "('radnakrishnan2018', 'gsk215083', 'MNI152', '1mm')\n",
      "(0.08180782943964005, 0.36006399360063995)\n",
      "('rosaneto', 'abp688', 'MNI152', '1mm')\n",
      "(0.035735730081796646, 0.6858314168583142)\n",
      "('sandiego2015', 'flb457', 'MNI152', '1mm')\n",
      "(-0.20144523680210114, 0.34306569343065696)\n",
      "('sasaki2012', 'fepe2i', 'MNI152', '1mm')\n",
      "(0.032632648944854736, 0.7021297870212979)\n",
      "('savli2012', 'altanserin', 'MNI152', '3mm')\n",
      "(0.03867540881037712, 0.7782221777822218)\n",
      "('savli2012', 'dasb', 'MNI152', '3mm')\n",
      "(-0.2908514142036438, 0.012098790120987902)\n",
      "('savli2012', 'p943', 'MNI152', '3mm')\n",
      "(0.17511114478111267, 0.06369363063693631)\n",
      "('savli2012', 'way100635', 'MNI152', '3mm')\n",
      "(-0.16027545928955078, 0.36326367363263673)\n",
      "('smart2019', 'abp688', 'MNI152', '1mm')\n",
      "(0.02945992536842823, 0.7777222277772223)\n",
      "('smith2017', 'flb457', 'MNI152', '1mm')\n",
      "(-0.14705340564250946, 0.3972602739726027)\n",
      "('tuominen', 'feobv', 'MNI152', '2mm')\n",
      "(-0.1507512331008911, 0.1740825917408259)\n",
      "('turtonen2020', 'carfentanil', 'MNI152', '1mm')\n",
      "(0.0001391995610902086, 0.9996000399960004)\n"
     ]
    }
   ],
   "source": [
    "for annotation in available_annotations():\n",
    "    try:\n",
    "        print(annotation)\n",
    "        brain_map=datasets.fetch_annotation(source=annotation[0], desc=annotation[1])\n",
    "        BMI_res, brain_map_res = resample_images(src=BMI_10k, trg=brain_map, src_space='fsaverage', \n",
    "                                                 trg_space=annotation[2], method='linear', \n",
    "                                                 resampling='transform_to_src')\n",
    "        rotated = nulls.alexander_bloch(BMI_res, atlas='fsaverage', density='10k', n_perm=10000, seed=1234)\n",
    "        corr = compare_images(BMI_res, brain_map_res, metric='pearsonr', nulls=rotated)\n",
    "        print(corr)\n",
    "    except:\n",
    "        pass"
   ]
  },
  {
   "cell_type": "markdown",
   "metadata": {},
   "source": [
    "# Surface area"
   ]
  },
  {
   "cell_type": "markdown",
   "metadata": {},
   "source": [
    "# Read the basic files"
   ]
  },
  {
   "cell_type": "code",
   "execution_count": 26,
   "metadata": {},
   "outputs": [],
   "source": [
    "BMI_HCP_area=list(['/dagher/dagher11/filip/Obesity_maps/data/BMI_area_lh.gii',\n",
    "          '/dagher/dagher11/filip/Obesity_maps/data/BMI_area_rh.gii'])"
   ]
  },
  {
   "cell_type": "code",
   "execution_count": 27,
   "metadata": {},
   "outputs": [],
   "source": [
    "BMI_ctx_area=transforms.fsaverage_to_fsaverage(BMI_HCP_area, '164k')"
   ]
  },
  {
   "cell_type": "markdown",
   "metadata": {},
   "source": [
    "# Set all vertices of medial wall to nan"
   ]
  },
  {
   "cell_type": "code",
   "execution_count": 28,
   "metadata": {},
   "outputs": [],
   "source": [
    "BMI_ctx_area[0].agg_data()[medwall_idx_fsaverage_lh] = np.nan\n",
    "BMI_ctx_area[1].agg_data()[medwall_idx_fsaverage_rh] = np.nan"
   ]
  },
  {
   "cell_type": "markdown",
   "metadata": {},
   "source": [
    "# Transform fsaverage 164k to 10k for further analyses"
   ]
  },
  {
   "cell_type": "code",
   "execution_count": 29,
   "metadata": {},
   "outputs": [],
   "source": [
    "BMI_10k_area=transforms.fsaverage_to_fsaverage(BMI_ctx_area, '10k')"
   ]
  },
  {
   "cell_type": "markdown",
   "metadata": {},
   "source": [
    "# Save files for plotting in the future"
   ]
  },
  {
   "cell_type": "code",
   "execution_count": 30,
   "metadata": {},
   "outputs": [],
   "source": [
    "nib.save(BMI_10k_area[1], '/dagher/dagher11/filip/Obesity_maps/data/BMI_area_10k_R.gii')\n",
    "nib.save(BMI_10k_area[0], '/dagher/dagher11/filip/Obesity_maps/data/BMI_area_10k_L.gii')\n"
   ]
  },
  {
   "cell_type": "markdown",
   "metadata": {},
   "source": [
    "# Calculate correlations with all available annotations"
   ]
  },
  {
   "cell_type": "code",
   "execution_count": 31,
   "metadata": {
    "scrolled": true
   },
   "outputs": [
    {
     "name": "stdout",
     "output_type": "stream",
     "text": [
      "('abagen', 'genepc1', 'fsaverage', '10k')\n",
      "(-0.19280381500720978, 0.35696430356964304)\n",
      "('aghourian2017', 'feobv', 'MNI152', '1mm')\n",
      "(0.16438035666942596, 0.24067593240675933)\n",
      "('alarkurtti2015', 'raclopride', 'MNI152', '3mm')\n",
      "(-0.05113248527050018, 0.6778322167783222)\n",
      "('bedard2019', 'feobv', 'MNI152', '1mm')\n",
      "(-0.01393503975123167, 0.9252074792520748)\n",
      "('beliveau2017', 'az10419369', 'MNI152', '1mm')\n",
      "(-0.07088306546211243, 0.12068793120687932)\n",
      "('beliveau2017', 'cimbi36', 'MNI152', '1mm')\n",
      "(-0.09123453497886658, 0.14878512148785122)\n",
      "('beliveau2017', 'cumi101', 'MNI152', '1mm')\n",
      "(-0.08148433268070221, 0.6078392160783922)\n",
      "('beliveau2017', 'dasb', 'MNI152', '1mm')\n",
      "(-0.13014158606529236, 0.26047395260473954)\n",
      "('beliveau2017', 'sb207145', 'MNI152', '1mm')\n",
      "(-0.08900177478790283, 0.33236676332366766)\n",
      "('ding2010', 'mrb', 'MNI152', '1mm')\n",
      "(0.056388936936855316, 0.7453254674532547)\n",
      "('dubois2015', 'abp688', 'MNI152', '1mm')\n",
      "(-0.03826126456260681, 0.7101289871012899)\n",
      "('dukart2018', 'flumazenil', 'MNI152', '3mm')\n",
      "(-0.22468619048595428, 0.019498050194980503)\n",
      "('dukart2018', 'fpcit', 'MNI152', '3mm')\n",
      "(-0.12418634444475174, 0.46565343465653436)\n",
      "('fazio2016', 'madam', 'MNI152', '3mm')\n",
      "(-0.08685330301523209, 0.37946205379462056)\n",
      "('finnema2016', 'ucbj', 'MNI152', '1mm')\n",
      "(-0.10250016301870346, 0.18238176182381763)\n",
      "('gallezot2010', 'p943', 'MNI152', '1mm')\n",
      "(-0.07953637838363647, 0.5052494750524947)\n",
      "('gallezot2017', 'gsk189254', 'MNI152', '1mm')\n",
      "(0.15576490759849548, 0.23417658234176583)\n",
      "('hcps1200', 'megalpha', 'fsLR', '4k')\n",
      "(-0.2684909701347351, 0.3281671832816718)\n",
      "('hcps1200', 'megbeta', 'fsLR', '4k')\n",
      "(0.38892635703086853, 0.057894210578942104)\n",
      "('hcps1200', 'megdelta', 'fsLR', '4k')\n",
      "(0.02522038109600544, 0.9338066193380662)\n",
      "('hcps1200', 'meggamma1', 'fsLR', '4k')\n",
      "(0.2606002390384674, 0.26677332266773324)\n",
      "('hcps1200', 'meggamma2', 'fsLR', '4k')\n",
      "(-0.04668526351451874, 0.8553144685531446)\n",
      "('hcps1200', 'megtheta', 'fsLR', '4k')\n",
      "(0.3718114495277405, 0.0771922807719228)\n",
      "('hcps1200', 'megtimescale', 'fsLR', '4k')\n",
      "(0.014260740950703621, 0.9533046695330467)\n",
      "('hcps1200', 'myelinmap', 'fsLR', '32k')\n",
      "(-0.08884412795305252, 0.5653434656534346)\n",
      "('hcps1200', 'thickness', 'fsLR', '32k')\n",
      "(0.02442103810608387, 0.9066093390660934)\n",
      "('hesse2017', 'methylreboxetine', 'MNI152', '3mm')\n",
      "(-0.0044539812952280045, 0.9528047195280472)\n",
      "('hill2010', 'devexp', 'fsLR', '164k')\n",
      "('hill2010', 'evoexp', 'fsLR', '164k')\n",
      "('hillmer2016', 'flubatine', 'MNI152', '1mm')\n",
      "(0.060938041657209396, 0.6675332466753324)\n",
      "('jaworska2020', 'fallypride', 'MNI152', '1mm')\n",
      "(-0.11362671852111816, 0.528047195280472)\n",
      "('kaller2017', 'sch23390', 'MNI152', '3mm')\n",
      "(-0.045766305178403854, 0.7817218278172183)\n",
      "('kantonen2020', 'carfentanil', 'MNI152', '3mm')\n",
      "(0.19698350131511688, 0.292970702929707)\n",
      "('laurikainen2018', 'fmpepd2', 'MNI152', '1mm')\n",
      "(0.11139795929193497, 0.4203579642035796)\n",
      "('margulies2016', 'fcgradient01', 'fsLR', '32k')\n",
      "(0.11435426771640778, 0.38816118388161186)\n",
      "('margulies2016', 'fcgradient02', 'fsLR', '32k')\n",
      "(-0.3153060972690582, 0.0678932106789321)\n",
      "('margulies2016', 'fcgradient03', 'fsLR', '32k')\n",
      "(0.05278058722615242, 0.5448455154484552)\n",
      "('margulies2016', 'fcgradient04', 'fsLR', '32k')\n",
      "(-0.18785306811332703, 0.141985801419858)\n",
      "('margulies2016', 'fcgradient05', 'fsLR', '32k')\n",
      "(-0.01980307325720787, 0.8977102289771023)\n",
      "('margulies2016', 'fcgradient06', 'fsLR', '32k')\n",
      "(0.18724876642227173, 0.14128587141285873)\n",
      "('margulies2016', 'fcgradient07', 'fsLR', '32k')\n",
      "(0.07911750674247742, 0.3999600039996)\n",
      "('margulies2016', 'fcgradient08', 'fsLR', '32k')\n",
      "(-0.013015959411859512, 0.9003099690030997)\n",
      "('margulies2016', 'fcgradient09', 'fsLR', '32k')\n",
      "(0.027344947680830956, 0.8066193380661933)\n",
      "('margulies2016', 'fcgradient10', 'fsLR', '32k')\n",
      "(0.13489751517772675, 0.21497850214978503)\n",
      "('mueller2013', 'intersubjvar', 'fsLR', '164k')\n",
      "(0.04110955446958542, 0.7384261573842615)\n",
      "('naganawa2020', 'lsn3172176', 'MNI152', '1mm')\n",
      "(-0.1593169867992401, 0.044995500449955005)\n",
      "('neurosynth', 'cogpc1', 'MNI152', '2mm')\n",
      "(0.0729084312915802, 0.7263273672632736)\n",
      "('norgaard2020', 'flumazenil', 'MNI152', '1mm')\n",
      "(-0.10930764675140381, 0.024897510248975102)\n",
      "('normandin2015', 'omar', 'MNI152', '1mm')\n",
      "(0.028746863827109337, 0.8384161583841616)\n",
      "('radnakrishnan2018', 'gsk215083', 'MNI152', '1mm')\n",
      "(-0.16532409191131592, 0.09399060093990601)\n",
      "('raichle', 'cbf', 'fsLR', '164k')\n",
      "(0.11368680745363235, 0.4052594740525947)\n",
      "('raichle', 'cbv', 'fsLR', '164k')\n",
      "(-0.1284567266702652, 0.2745725427457254)\n",
      "('raichle', 'cmr02', 'fsLR', '164k')\n",
      "(-0.031023425981402397, 0.8218178182181782)\n",
      "('raichle', 'cmruglu', 'fsLR', '164k')\n",
      "(0.08898862451314926, 0.6089391060893911)\n",
      "('reardon2018', 'scalinghcp', 'civet', '41k')\n",
      "(0.08754996210336685, 0.3040695930406959)\n",
      "('reardon2018', 'scalingnih', 'civet', '41k')\n",
      "(-0.022380057722330093, 0.8318168183181682)\n",
      "('reardon2018', 'scalingpnc', 'civet', '41k')\n",
      "(-0.04026862606406212, 0.6979302069793021)\n",
      "('rosaneto', 'abp688', 'MNI152', '1mm')\n",
      "(-0.043633319437503815, 0.6275372462753724)\n",
      "('sandiego2015', 'flb457', 'MNI152', '1mm')\n",
      "(-0.17407260835170746, 0.3862613738626137)\n",
      "('sasaki2012', 'fepe2i', 'MNI152', '1mm')\n",
      "(-0.05561622232198715, 0.5192480751924807)\n",
      "('satterthwaite2014', 'meancbf', 'MNI152', '1mm')\n",
      "(-0.09035441279411316, 0.43615638436156384)\n",
      "('savli2012', 'altanserin', 'MNI152', '3mm')\n",
      "(-0.19968383014202118, 0.0795920407959204)\n",
      "('savli2012', 'dasb', 'MNI152', '3mm')\n",
      "(-0.08917995542287827, 0.5571442855714429)\n",
      "('savli2012', 'p943', 'MNI152', '3mm')\n",
      "(-0.008415757678449154, 0.9465053494650535)\n",
      "('savli2012', 'way100635', 'MNI152', '3mm')\n",
      "(-0.04196426644921303, 0.8367163283671633)\n",
      "('smart2019', 'abp688', 'MNI152', '1mm')\n",
      "(-0.004369652830064297, 0.9586041395860414)\n",
      "('smith2017', 'flb457', 'MNI152', '1mm')\n",
      "(-0.0747147873044014, 0.6836316368363163)\n",
      "('sydnor2021', 'SAaxis', 'fsLR', '32k')\n",
      "(0.08970224857330322, 0.6220377962203779)\n",
      "('tuominen', 'feobv', 'MNI152', '2mm')\n",
      "(0.03669534623622894, 0.7797220277972203)\n",
      "('turtonen2020', 'carfentanil', 'MNI152', '1mm')\n",
      "(0.20874552428722382, 0.27007299270072993)\n",
      "('xu2020', 'FChomology', 'fsLR', '32k')\n",
      "(-0.241216778755188, 0.006099390060993901)\n",
      "('xu2020', 'evoexp', 'fsLR', '32k')\n",
      "(0.11051045358181, 0.18438156184381563)\n"
     ]
    }
   ],
   "source": [
    "for annotation in available_annotations():\n",
    "    try:\n",
    "        print(annotation)\n",
    "        brain_map=datasets.fetch_annotation(source=annotation[0], desc=annotation[1])\n",
    "        BMI_res, brain_map_res = resample_images(src=BMI_10k_area, trg=brain_map, src_space='fsaverage', \n",
    "                                                 trg_space=annotation[2], method='linear', \n",
    "                                                 resampling='transform_to_src')\n",
    "        rotated = nulls.alexander_bloch(BMI_res, atlas='fsaverage', density='10k', n_perm=10000, seed=1234)\n",
    "        corr = compare_images(BMI_res, brain_map_res, metric='pearsonr', nulls=rotated)\n",
    "        print(corr)\n",
    "    except:\n",
    "        pass"
   ]
  }
 ],
 "metadata": {
  "kernelspec": {
   "display_name": "Python py3",
   "language": "python",
   "name": "py3"
  },
  "language_info": {
   "codemirror_mode": {
    "name": "ipython",
    "version": 3
   },
   "file_extension": ".py",
   "mimetype": "text/x-python",
   "name": "python",
   "nbconvert_exporter": "python",
   "pygments_lexer": "ipython3",
   "version": "3.10.8"
  }
 },
 "nbformat": 4,
 "nbformat_minor": 2
}
