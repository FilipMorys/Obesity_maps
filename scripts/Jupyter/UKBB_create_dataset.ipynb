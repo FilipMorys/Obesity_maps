{
 "cells": [
  {
   "cell_type": "code",
   "execution_count": 1,
   "metadata": {
    "scrolled": true
   },
   "outputs": [
    {
     "name": "stderr",
     "output_type": "stream",
     "text": [
      "Loading required package: psych\n",
      "\n",
      "Loading required package: dplyr\n",
      "\n",
      "\n",
      "Attaching package: ‘dplyr’\n",
      "\n",
      "\n",
      "The following objects are masked from ‘package:stats’:\n",
      "\n",
      "    filter, lag\n",
      "\n",
      "\n",
      "The following objects are masked from ‘package:base’:\n",
      "\n",
      "    intersect, setdiff, setequal, union\n",
      "\n",
      "\n",
      "Loading required package: ggplot2\n",
      "\n",
      "\n",
      "Attaching package: ‘ggplot2’\n",
      "\n",
      "\n",
      "The following objects are masked from ‘package:psych’:\n",
      "\n",
      "    %+%, alpha\n",
      "\n",
      "\n",
      "Loading required package: car\n",
      "\n",
      "Loading required package: carData\n",
      "\n",
      "\n",
      "Attaching package: ‘car’\n",
      "\n",
      "\n",
      "The following object is masked from ‘package:dplyr’:\n",
      "\n",
      "    recode\n",
      "\n",
      "\n",
      "The following object is masked from ‘package:psych’:\n",
      "\n",
      "    logit\n",
      "\n",
      "\n",
      "Loading required package: janitor\n",
      "\n",
      "\n",
      "Attaching package: ‘janitor’\n",
      "\n",
      "\n",
      "The following objects are masked from ‘package:stats’:\n",
      "\n",
      "    chisq.test, fisher.test\n",
      "\n",
      "\n",
      "Loading required package: readxl\n",
      "\n",
      "Loading required package: remotes\n",
      "\n"
     ]
    }
   ],
   "source": [
    "rhumba::set_channels(c(\"conda-forge\", \"default\")) # Rhumba makes it easier to install packages in conda; set channels for rhumba\n",
    "\n",
    "if (!require(\"psych\")) rhumba::install(\"r-psych\")\n",
    "if (!require(\"dplyr\")) rhumba::install(\"r-dplyr\")\n",
    "if (!require(\"ggplot2\")) rhumba::install(\"r-ggplot2\")\n",
    "if (!require(\"car\")) rhumba::install(\"r-car\")\n",
    "#if (!require(\"easystats\")) install.packages(\"easystats\")\n",
    "if (!require(\"janitor\")) rhumba::install(\"r-janitor\")\n",
    "if (!require(\"readxl\")) rhumba::install(\"r-readxl\")\n",
    "if (!require(\"remotes\")) rhumba::install(\"r-remotes\")\n",
    "#if (!require(\"ggseg\")) install.packages(\"ggseg\")\n",
    "#library(ggsegDKT)"
   ]
  },
  {
   "cell_type": "markdown",
   "metadata": {},
   "source": [
    "# Read data and exclude individuals with neurological disorders"
   ]
  },
  {
   "cell_type": "code",
   "execution_count": 2,
   "metadata": {},
   "outputs": [
    {
     "data": {
      "text/html": [
       "43104"
      ],
      "text/latex": [
       "43104"
      ],
      "text/markdown": [
       "43104"
      ],
      "text/plain": [
       "[1] 43104"
      ]
     },
     "metadata": {},
     "output_type": "display_data"
    },
    {
     "data": {
      "text/html": [
       "36333"
      ],
      "text/latex": [
       "36333"
      ],
      "text/markdown": [
       "36333"
      ],
      "text/plain": [
       "[1] 36333"
      ]
     },
     "metadata": {},
     "output_type": "display_data"
    },
    {
     "data": {
      "text/html": [
       "36333"
      ],
      "text/latex": [
       "36333"
      ],
      "text/markdown": [
       "36333"
      ],
      "text/plain": [
       "[1] 36333"
      ]
     },
     "metadata": {},
     "output_type": "display_data"
    }
   ],
   "source": [
    "data=read.table('/dagher/dagher11/filip/MAPT_OB/data/extracted_data.csv', \n",
    "                header=TRUE, na.strings = \"\", sep=',', quote = \"\\\"\")\n",
    "\n",
    "             \n",
    "exclusions_neuro=c('^G','^E0','^E10','^E2','^E3','^A8','^C70','^C71','^C72','^I6')\n",
    "# G - nervous system; F - Mental and behavioural; E0 - thyroid; E11-14 - diabetes, E2-3 endocrine glands; \n",
    "# A8 - viral infections of the CNS; C70-72 malignant neoplasms of brain, meninges and spinal cord; \n",
    "# I6 - cerebrovscular\n",
    "\n",
    "data$neurological_disorder = NA\n",
    "for (i in as.numeric(grep('icd10', colnames(data)))) {\n",
    "    for (d in 1:length(exclusions_neuro)) {\n",
    "        data$neurological_disorder[grepl(exclusions_neuro[d], data[[i]])] = 1\n",
    "    }\n",
    "}\n",
    "\n",
    "data$excluded <- NA\n",
    "data$excluded[data$vascular_heart_diagnoses ==1] <- 1\n",
    "data$excluded[data$neurological_disorder ==1] <- 1\n",
    "\n",
    "data$included<-car::recode(data$excluded, \"1='excluded'; else='included'\")\n",
    "data=(data[!is.na(data$mean_thickness_of_caudalanteriorcingulate_left_hemisphere_27174.2.0),])\n",
    "nrow(data)\n",
    "#Select subjects if included ==1\n",
    "data_excluded <- subset(data, included==\"included\")\n",
    "\n",
    "ukbb_all=data_excluded\n",
    "ukbb_all=(ukbb_all[!is.na(ukbb_all$mean_thickness_of_caudalanteriorcingulate_left_hemisphere_27174.2.0),]) #leave only people with imaging data available\n",
    "nrow(ukbb_all)\n",
    "\n",
    "ukbb_all$Hypertension=0\n",
    "ukbb_all$Hypertension[ukbb_all$hypertension=='1' | ukbb_all$hypertension2=='1']=1\n",
    "ukbb_all$Diabetes=0\n",
    "ukbb_all$Diabetes[ukbb_all$diabetes=='1' | ukbb_all$diabetes2=='1']=1\n",
    "ukbb_all$WHR = ukbb_all$waist_circumference_48.0.0/ukbb_all$hip_circumference_49.0.0\n",
    "ukbb_all$agesq=ukbb_all$age_when_attended_assessment_centre_21003.2.0^2\n",
    "\n",
    "nrow(ukbb_all)"
   ]
  },
  {
   "cell_type": "code",
   "execution_count": 3,
   "metadata": {},
   "outputs": [
    {
     "data": {
      "text/html": [
       "12513890"
      ],
      "text/latex": [
       "12513890"
      ],
      "text/markdown": [
       "12513890"
      ],
      "text/plain": [
       "[1] 12513890"
      ]
     },
     "metadata": {},
     "output_type": "display_data"
    },
    {
     "data": {
      "text/html": [
       "12608061"
      ],
      "text/latex": [
       "12608061"
      ],
      "text/markdown": [
       "12608061"
      ],
      "text/plain": [
       "[1] 12608061"
      ]
     },
     "metadata": {},
     "output_type": "display_data"
    }
   ],
   "source": [
    "sum(is.na(ukbb_all))\n",
    "for (j in 1:ncol(ukbb_all)) { # \n",
    "    if (is.numeric(ukbb_all[[j]])){\n",
    "        #print(colnames(ukbb_all)[j])\n",
    "        Q3=as.numeric(quantile(ukbb_all[j],0.75, na.rm=TRUE))\n",
    "        Q1=as.numeric(quantile(ukbb_all[j],0.25, na.rm=TRUE))\n",
    "        upper=Q3+(2.2*(Q3-Q1))\n",
    "        lower=Q1-(2.2*(Q3-Q1))\n",
    "        ukbb_all[j][ukbb_all[j]<lower]=NA\n",
    "        ukbb_all[j][ukbb_all[j]>upper]=NA\n",
    "        }\n",
    "    }\n",
    "sum(is.na(ukbb_all))"
   ]
  },
  {
   "cell_type": "markdown",
   "metadata": {},
   "source": [
    "# Save"
   ]
  },
  {
   "cell_type": "code",
   "execution_count": 10,
   "metadata": {},
   "outputs": [],
   "source": [
    "write.csv(data_all, '/dagher/dagher11/filip/MAPT_OB/data/dataset_excluded_nooutlierdexclusions.csv', quote=T, row.names=F)"
   ]
  }
 ],
 "metadata": {
  "kernelspec": {
   "display_name": "R",
   "language": "R",
   "name": "ir"
  },
  "language_info": {
   "codemirror_mode": "r",
   "file_extension": ".r",
   "mimetype": "text/x-r-source",
   "name": "R",
   "pygments_lexer": "r",
   "version": "4.3.1"
  }
 },
 "nbformat": 4,
 "nbformat_minor": 4
}
