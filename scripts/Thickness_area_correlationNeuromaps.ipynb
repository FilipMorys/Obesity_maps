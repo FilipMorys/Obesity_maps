{
 "cells": [
  {
   "cell_type": "code",
   "execution_count": 12,
   "metadata": {},
   "outputs": [],
   "source": [
    "import nibabel as nib\n",
    "from neuromaps.datasets import available_annotations\n",
    "from neuromaps import datasets\n",
    "from neuromaps.resampling import resample_images\n",
    "from neuromaps import parcellate\n",
    "from nilearn.datasets import fetch_atlas_surf_destrieux\n",
    "from neuromaps import datasets, images, nulls, resampling, plotting\n",
    "from neuromaps.datasets import fetch_annotation\n",
    "from neuromaps import transforms\n",
    "from neuromaps.stats import compare_images\n",
    "from brainspace.plotting import plot_surf\n",
    "import numpy as np\n",
    "from nibabel import freesurfer\n",
    "from nibabel import gifti"
   ]
  },
  {
   "cell_type": "markdown",
   "metadata": {},
   "source": [
    "# Read the basic files"
   ]
  },
  {
   "cell_type": "code",
   "execution_count": 2,
   "metadata": {},
   "outputs": [],
   "source": [
    "BMI_HCP=list(['/dagher/dagher11/filip/Obesity_maps/data/BMI_lh.gii',\n",
    "          '/dagher/dagher11/filip/Obesity_maps/data/BMI_rh.gii'])"
   ]
  },
  {
   "cell_type": "code",
   "execution_count": 3,
   "metadata": {},
   "outputs": [],
   "source": [
    "BMI_ctx=transforms.fsaverage_to_fsaverage(BMI_HCP, '164k')"
   ]
  },
  {
   "cell_type": "markdown",
   "metadata": {},
   "source": [
    "# Read mask of medial wall for fsaverage"
   ]
  },
  {
   "cell_type": "code",
   "execution_count": 8,
   "metadata": {},
   "outputs": [],
   "source": [
    "medwall_idx_fsaverage_lh=(freesurfer.io.read_label('/dagher/dagher10/yyau/toolbox/freesurfer/subjects/fsaverage/label/lh.Medial_wall.label',\n",
    "                        read_scalars=False))\n",
    "medwall_idx_fsaverage_rh=(freesurfer.io.read_label('/dagher/dagher10/yyau/toolbox/freesurfer/subjects/fsaverage/label/rh.Medial_wall.label',\n",
    "                        read_scalars=False))"
   ]
  },
  {
   "cell_type": "markdown",
   "metadata": {},
   "source": [
    "# Set all vertices of medial wall to nan"
   ]
  },
  {
   "cell_type": "code",
   "execution_count": 9,
   "metadata": {},
   "outputs": [],
   "source": [
    "BMI_ctx[0].agg_data()[medwall_idx_fsaverage_lh] = np.nan\n",
    "BMI_ctx[1].agg_data()[medwall_idx_fsaverage_rh] = np.nan\n"
   ]
  },
  {
   "cell_type": "markdown",
   "metadata": {},
   "source": [
    "# Transform fsaverage 164k to 10k for further analyses"
   ]
  },
  {
   "cell_type": "code",
   "execution_count": 10,
   "metadata": {},
   "outputs": [
    {
     "name": "stdout",
     "output_type": "stream",
     "text": [
      "Downloading data from https://files.osf.io/v1/resources/4mw3a/providers/osfstorage/60b684b2cb2a5e01e968c918 ...\n"
     ]
    },
    {
     "name": "stderr",
     "output_type": "stream",
     "text": [
      " ...done. (2 seconds, 0 min)\n",
      "Extracting data from /home/bic/fmorys/neuromaps-data/030343e2c52d5517d71ab63dbec6a5ae/fsaverage164k.tar.gz..... done.\n"
     ]
    },
    {
     "name": "stdout",
     "output_type": "stream",
     "text": [
      "Downloading data from https://files.osf.io/v1/resources/4mw3a/providers/osfstorage/60b684ab9096b7021b63cf6b ...\n"
     ]
    },
    {
     "name": "stderr",
     "output_type": "stream",
     "text": [
      " ...done. (1 seconds, 0 min)\n",
      "Extracting data from /home/bic/fmorys/neuromaps-data/e38b96d96273aa064c22296eda1e5688/fsaverage10k.tar.gz..... done.\n"
     ]
    }
   ],
   "source": [
    "BMI_10k=transforms.fsaverage_to_fsaverage(BMI_ctx, '10k')"
   ]
  },
  {
   "cell_type": "markdown",
   "metadata": {},
   "source": [
    "# Save files for plotting in the future"
   ]
  },
  {
   "cell_type": "code",
   "execution_count": 16,
   "metadata": {},
   "outputs": [],
   "source": [
    "nib.save(BMI_10k[1], '/dagher/dagher11/filip/Obesity_maps/data/BMI_10k_R.gii')\n",
    "nib.save(BMI_10k[0], '/dagher/dagher11/filip/Obesity_maps/data/BMI_10k_L.gii')\n"
   ]
  },
  {
   "cell_type": "markdown",
   "metadata": {},
   "source": [
    "## Save annotations transformed to BMI space"
   ]
  },
  {
   "cell_type": "code",
   "execution_count": 24,
   "metadata": {
    "scrolled": true
   },
   "outputs": [
    {
     "name": "stdout",
     "output_type": "stream",
     "text": [
      "('abagen', 'genepc1', 'fsaverage', '10k')\n",
      "('aghourian2017', 'feobv', 'MNI152', '1mm')\n",
      "('alarkurtti2015', 'raclopride', 'MNI152', '3mm')\n",
      "('bedard2019', 'feobv', 'MNI152', '1mm')\n",
      "('beliveau2017', 'az10419369', 'MNI152', '1mm')\n",
      "('beliveau2017', 'cimbi36', 'MNI152', '1mm')\n",
      "('beliveau2017', 'cumi101', 'MNI152', '1mm')\n",
      "('beliveau2017', 'dasb', 'MNI152', '1mm')\n",
      "('beliveau2017', 'sb207145', 'MNI152', '1mm')\n",
      "('ding2010', 'mrb', 'MNI152', '1mm')\n",
      "('dubois2015', 'abp688', 'MNI152', '1mm')\n",
      "('dukart2018', 'flumazenil', 'MNI152', '3mm')\n",
      "('dukart2018', 'fpcit', 'MNI152', '3mm')\n",
      "('fazio2016', 'madam', 'MNI152', '3mm')\n",
      "('finnema2016', 'ucbj', 'MNI152', '1mm')\n",
      "('gallezot2010', 'p943', 'MNI152', '1mm')\n",
      "('gallezot2017', 'gsk189254', 'MNI152', '1mm')\n",
      "('hcps1200', 'megalpha', 'fsLR', '4k')\n",
      "('hcps1200', 'megbeta', 'fsLR', '4k')\n",
      "('hcps1200', 'megdelta', 'fsLR', '4k')\n",
      "('hcps1200', 'meggamma1', 'fsLR', '4k')\n",
      "('hcps1200', 'meggamma2', 'fsLR', '4k')\n",
      "('hcps1200', 'megtheta', 'fsLR', '4k')\n",
      "('hcps1200', 'megtimescale', 'fsLR', '4k')\n",
      "('hcps1200', 'myelinmap', 'fsLR', '32k')\n",
      "('hcps1200', 'thickness', 'fsLR', '32k')\n",
      "('hesse2017', 'methylreboxetine', 'MNI152', '3mm')\n",
      "('hill2010', 'devexp', 'fsLR', '164k')\n",
      "('hill2010', 'evoexp', 'fsLR', '164k')\n",
      "Downloading data from https://files.osf.io/v1/resources/4mw3a/providers/osfstorage/6130ff02ab8bca0212ee54f8 ...\n"
     ]
    },
    {
     "name": "stderr",
     "output_type": "stream",
     "text": [
      " ...done. (2 seconds, 0 min)\n"
     ]
    },
    {
     "name": "stdout",
     "output_type": "stream",
     "text": [
      "('hillmer2016', 'flubatine', 'MNI152', '1mm')\n",
      "Downloading data from https://files.osf.io/v1/resources/4mw3a/providers/osfstorage/619518edbbe378017159e8d2 ...\n"
     ]
    },
    {
     "name": "stderr",
     "output_type": "stream",
     "text": [
      " ...done. (1 seconds, 0 min)\n"
     ]
    },
    {
     "name": "stdout",
     "output_type": "stream",
     "text": [
      "('jaworska2020', 'fallypride', 'MNI152', '1mm')\n",
      "Downloading data from https://files.osf.io/v1/resources/4mw3a/providers/osfstorage/6196cb01bbe37803ba59f121 ...\n"
     ]
    },
    {
     "name": "stderr",
     "output_type": "stream",
     "text": [
      " ...done. (1 seconds, 0 min)\n"
     ]
    },
    {
     "name": "stdout",
     "output_type": "stream",
     "text": [
      "('kaller2017', 'sch23390', 'MNI152', '3mm')\n",
      "Downloading data from https://files.osf.io/v1/resources/4mw3a/providers/osfstorage/6196ca6c1088a703cdbcee58 ...\n"
     ]
    },
    {
     "name": "stderr",
     "output_type": "stream",
     "text": [
      " ...done. (3 seconds, 0 min)\n"
     ]
    },
    {
     "name": "stdout",
     "output_type": "stream",
     "text": [
      "('kantonen2020', 'carfentanil', 'MNI152', '3mm')\n",
      "Downloading data from https://files.osf.io/v1/resources/4mw3a/providers/osfstorage/6196ca9a1088a703e9bce6b5 ...\n"
     ]
    },
    {
     "name": "stderr",
     "output_type": "stream",
     "text": [
      " ...done. (1 seconds, 0 min)\n"
     ]
    },
    {
     "name": "stdout",
     "output_type": "stream",
     "text": [
      "('laurikainen2018', 'fmpepd2', 'MNI152', '1mm')\n",
      "Downloading data from https://files.osf.io/v1/resources/4mw3a/providers/osfstorage/6196ca7a1088a703e8bcdfd8 ...\n"
     ]
    },
    {
     "name": "stderr",
     "output_type": "stream",
     "text": [
      " ...done. (2 seconds, 0 min)\n"
     ]
    },
    {
     "name": "stdout",
     "output_type": "stream",
     "text": [
      "('margulies2016', 'fcgradient01', 'fsLR', '32k')\n",
      "Downloading data from https://files.osf.io/v1/resources/4mw3a/providers/osfstorage/60c22687f3ce9401fa24dc77 ...\n"
     ]
    },
    {
     "name": "stderr",
     "output_type": "stream",
     "text": [
      " ...done. (1 seconds, 0 min)\n"
     ]
    },
    {
     "name": "stdout",
     "output_type": "stream",
     "text": [
      "Downloading data from https://files.osf.io/v1/resources/4mw3a/providers/osfstorage/60c2267df3ce94020124c6f6 ...\n"
     ]
    },
    {
     "name": "stderr",
     "output_type": "stream",
     "text": [
      " ...done. (3 seconds, 0 min)\n"
     ]
    },
    {
     "name": "stdout",
     "output_type": "stream",
     "text": [
      "('margulies2016', 'fcgradient02', 'fsLR', '32k')\n",
      "Downloading data from https://files.osf.io/v1/resources/4mw3a/providers/osfstorage/60c226f918f70b020ba7caac ...\n"
     ]
    },
    {
     "name": "stderr",
     "output_type": "stream",
     "text": [
      " ...done. (2 seconds, 0 min)\n"
     ]
    },
    {
     "name": "stdout",
     "output_type": "stream",
     "text": [
      "Downloading data from https://files.osf.io/v1/resources/4mw3a/providers/osfstorage/60c226ee18f70b020aa7a77e ...\n"
     ]
    },
    {
     "name": "stderr",
     "output_type": "stream",
     "text": [
      " ...done. (1 seconds, 0 min)\n"
     ]
    },
    {
     "name": "stdout",
     "output_type": "stream",
     "text": [
      "('margulies2016', 'fcgradient03', 'fsLR', '32k')\n",
      "Downloading data from https://files.osf.io/v1/resources/4mw3a/providers/osfstorage/60c226b5da0ff201fd393ea0 ...\n"
     ]
    },
    {
     "name": "stderr",
     "output_type": "stream",
     "text": [
      " ...done. (2 seconds, 0 min)\n"
     ]
    },
    {
     "name": "stdout",
     "output_type": "stream",
     "text": [
      "Downloading data from https://files.osf.io/v1/resources/4mw3a/providers/osfstorage/60c226bf18f70b020ba7c982 ...\n"
     ]
    },
    {
     "name": "stderr",
     "output_type": "stream",
     "text": [
      " ...done. (1 seconds, 0 min)\n"
     ]
    },
    {
     "name": "stdout",
     "output_type": "stream",
     "text": [
      "('margulies2016', 'fcgradient04', 'fsLR', '32k')\n",
      "Downloading data from https://files.osf.io/v1/resources/4mw3a/providers/osfstorage/60c226c918f70b0205a7bbab ...\n"
     ]
    },
    {
     "name": "stderr",
     "output_type": "stream",
     "text": [
      " ...done. (1 seconds, 0 min)\n"
     ]
    },
    {
     "name": "stdout",
     "output_type": "stream",
     "text": [
      "Downloading data from https://files.osf.io/v1/resources/4mw3a/providers/osfstorage/60c226d318f70b020aa7a744 ...\n"
     ]
    },
    {
     "name": "stderr",
     "output_type": "stream",
     "text": [
      " ...done. (1 seconds, 0 min)\n"
     ]
    },
    {
     "name": "stdout",
     "output_type": "stream",
     "text": [
      "('margulies2016', 'fcgradient05', 'fsLR', '32k')\n",
      "Downloading data from https://files.osf.io/v1/resources/4mw3a/providers/osfstorage/60c2270cda0ff201f8397977 ...\n"
     ]
    },
    {
     "name": "stderr",
     "output_type": "stream",
     "text": [
      " ...done. (2 seconds, 0 min)\n"
     ]
    },
    {
     "name": "stdout",
     "output_type": "stream",
     "text": [
      "Downloading data from https://files.osf.io/v1/resources/4mw3a/providers/osfstorage/60c22702f3ce94020124c985 ...\n"
     ]
    },
    {
     "name": "stderr",
     "output_type": "stream",
     "text": [
      " ...done. (2 seconds, 0 min)\n"
     ]
    },
    {
     "name": "stdout",
     "output_type": "stream",
     "text": [
      "('margulies2016', 'fcgradient06', 'fsLR', '32k')\n",
      "Downloading data from https://files.osf.io/v1/resources/4mw3a/providers/osfstorage/60c22690f3ce9401ee24eae3 ...\n"
     ]
    },
    {
     "name": "stderr",
     "output_type": "stream",
     "text": [
      " ...done. (2 seconds, 0 min)\n"
     ]
    },
    {
     "name": "stdout",
     "output_type": "stream",
     "text": [
      "Downloading data from https://files.osf.io/v1/resources/4mw3a/providers/osfstorage/60c2269bf3ce94020124c79f ...\n"
     ]
    },
    {
     "name": "stderr",
     "output_type": "stream",
     "text": [
      " ...done. (2 seconds, 0 min)\n"
     ]
    },
    {
     "name": "stdout",
     "output_type": "stream",
     "text": [
      "('margulies2016', 'fcgradient07', 'fsLR', '32k')\n",
      "Downloading data from https://files.osf.io/v1/resources/4mw3a/providers/osfstorage/60c226a2da0ff201f3396029 ...\n"
     ]
    },
    {
     "name": "stderr",
     "output_type": "stream",
     "text": [
      " ...done. (3 seconds, 0 min)\n"
     ]
    },
    {
     "name": "stdout",
     "output_type": "stream",
     "text": [
      "Downloading data from https://files.osf.io/v1/resources/4mw3a/providers/osfstorage/60c226adf3ce9401ee24eaec ...\n"
     ]
    },
    {
     "name": "stderr",
     "output_type": "stream",
     "text": [
      " ...done. (2 seconds, 0 min)\n"
     ]
    },
    {
     "name": "stdout",
     "output_type": "stream",
     "text": [
      "('margulies2016', 'fcgradient08', 'fsLR', '32k')\n",
      "Downloading data from https://files.osf.io/v1/resources/4mw3a/providers/osfstorage/60c2271e18f70b020aa7a82c ...\n"
     ]
    },
    {
     "name": "stderr",
     "output_type": "stream",
     "text": [
      " ...done. (2 seconds, 0 min)\n"
     ]
    },
    {
     "name": "stdout",
     "output_type": "stream",
     "text": [
      "Downloading data from https://files.osf.io/v1/resources/4mw3a/providers/osfstorage/60c22715da0ff201f2393840 ...\n"
     ]
    },
    {
     "name": "stderr",
     "output_type": "stream",
     "text": [
      " ...done. (2 seconds, 0 min)\n"
     ]
    },
    {
     "name": "stdout",
     "output_type": "stream",
     "text": [
      "('margulies2016', 'fcgradient09', 'fsLR', '32k')\n",
      "Downloading data from https://files.osf.io/v1/resources/4mw3a/providers/osfstorage/60c226db18f70b0206a7f136 ...\n"
     ]
    },
    {
     "name": "stderr",
     "output_type": "stream",
     "text": [
      " ...done. (2 seconds, 0 min)\n"
     ]
    },
    {
     "name": "stdout",
     "output_type": "stream",
     "text": [
      "Downloading data from https://files.osf.io/v1/resources/4mw3a/providers/osfstorage/60c226e618f70b0206a7f152 ...\n"
     ]
    },
    {
     "name": "stderr",
     "output_type": "stream",
     "text": [
      " ...done. (1 seconds, 0 min)\n"
     ]
    },
    {
     "name": "stdout",
     "output_type": "stream",
     "text": [
      "('margulies2016', 'fcgradient10', 'fsLR', '32k')\n",
      "Downloading data from https://files.osf.io/v1/resources/4mw3a/providers/osfstorage/60c22731da0ff201fd394037 ...\n"
     ]
    },
    {
     "name": "stderr",
     "output_type": "stream",
     "text": [
      " ...done. (1 seconds, 0 min)\n"
     ]
    },
    {
     "name": "stdout",
     "output_type": "stream",
     "text": [
      "Downloading data from https://files.osf.io/v1/resources/4mw3a/providers/osfstorage/60c22726f3ce94020124ca4a ...\n"
     ]
    },
    {
     "name": "stderr",
     "output_type": "stream",
     "text": [
      " ...done. (2 seconds, 0 min)\n"
     ]
    },
    {
     "name": "stdout",
     "output_type": "stream",
     "text": [
      "('mueller2013', 'intersubjvar', 'fsLR', '164k')\n",
      "Downloading data from https://files.osf.io/v1/resources/4mw3a/providers/osfstorage/6130ff274e5ee50219291de1 ...\n"
     ]
    },
    {
     "name": "stderr",
     "output_type": "stream",
     "text": [
      " ...done. (1 seconds, 0 min)\n"
     ]
    },
    {
     "name": "stdout",
     "output_type": "stream",
     "text": [
      "Downloading data from https://files.osf.io/v1/resources/4mw3a/providers/osfstorage/6130ff33ab8bca0225edc685 ...\n"
     ]
    },
    {
     "name": "stderr",
     "output_type": "stream",
     "text": [
      " ...done. (1 seconds, 0 min)\n"
     ]
    },
    {
     "name": "stdout",
     "output_type": "stream",
     "text": [
      "Downloading data from https://files.osf.io/v1/resources/4mw3a/providers/osfstorage/60b684b9cb2a5e01fd68c115 ...\n"
     ]
    },
    {
     "name": "stderr",
     "output_type": "stream",
     "text": [
      " ...done. (1 seconds, 0 min)\n",
      "Extracting data from /home/bic/fmorys/neuromaps-data/d9a7bf9d3cbc8ffc454fc7f993cf94ae/fsLR164k.tar.gz..... done.\n"
     ]
    },
    {
     "name": "stdout",
     "output_type": "stream",
     "text": [
      "('naganawa2020', 'lsn3172176', 'MNI152', '1mm')\n",
      "Downloading data from https://files.osf.io/v1/resources/4mw3a/providers/osfstorage/61956b461088a701d5bce978 ...\n"
     ]
    },
    {
     "name": "stderr",
     "output_type": "stream",
     "text": [
      " ...done. (2 seconds, 0 min)\n"
     ]
    },
    {
     "name": "stdout",
     "output_type": "stream",
     "text": [
      "('neurosynth', 'cogpc1', 'MNI152', '2mm')\n",
      "Downloading data from https://files.osf.io/v1/resources/4mw3a/providers/osfstorage/60c22953f3ce9401fa24e651 ...\n"
     ]
    },
    {
     "name": "stderr",
     "output_type": "stream",
     "text": [
      " ...done. (2 seconds, 0 min)\n"
     ]
    },
    {
     "name": "stdout",
     "output_type": "stream",
     "text": [
      "('norgaard2020', 'flumazenil', 'MNI152', '1mm')\n",
      "Downloading data from https://files.osf.io/v1/resources/4mw3a/providers/osfstorage/6196caeb0b0c1e03bf7fdd23 ...\n"
     ]
    },
    {
     "name": "stderr",
     "output_type": "stream",
     "text": [
      " ...done. (2 seconds, 0 min)\n"
     ]
    },
    {
     "name": "stdout",
     "output_type": "stream",
     "text": [
      "('normandin2015', 'omar', 'MNI152', '1mm')\n",
      "Downloading data from https://files.osf.io/v1/resources/4mw3a/providers/osfstorage/61956b3e1088a701d1bceac4 ...\n"
     ]
    },
    {
     "name": "stderr",
     "output_type": "stream",
     "text": [
      " ...done. (1 seconds, 0 min)\n"
     ]
    },
    {
     "name": "stdout",
     "output_type": "stream",
     "text": [
      "('radnakrishnan2018', 'gsk215083', 'MNI152', '1mm')\n",
      "Downloading data from https://files.osf.io/v1/resources/4mw3a/providers/osfstorage/619518dcbbe378017159e898 ...\n"
     ]
    },
    {
     "name": "stderr",
     "output_type": "stream",
     "text": [
      " ...done. (1 seconds, 0 min)\n"
     ]
    },
    {
     "name": "stdout",
     "output_type": "stream",
     "text": [
      "('raichle', 'cbf', 'fsLR', '164k')\n",
      "Downloading data from https://files.osf.io/v1/resources/4mw3a/providers/osfstorage/6130ff4b4e5ee50219291e73 ...\n"
     ]
    },
    {
     "name": "stderr",
     "output_type": "stream",
     "text": [
      " ...done. (2 seconds, 0 min)\n"
     ]
    },
    {
     "name": "stdout",
     "output_type": "stream",
     "text": [
      "Downloading data from https://files.osf.io/v1/resources/4mw3a/providers/osfstorage/6130ff58ab8bca0218ee532f ...\n"
     ]
    },
    {
     "name": "stderr",
     "output_type": "stream",
     "text": [
      " ...done. (1 seconds, 0 min)\n"
     ]
    },
    {
     "name": "stdout",
     "output_type": "stream",
     "text": [
      "('raichle', 'cbv', 'fsLR', '164k')\n",
      "Downloading data from https://files.osf.io/v1/resources/4mw3a/providers/osfstorage/6130ff8faf610c0213dfd7ed ...\n"
     ]
    },
    {
     "name": "stderr",
     "output_type": "stream",
     "text": [
      " ...done. (1 seconds, 0 min)\n"
     ]
    },
    {
     "name": "stdout",
     "output_type": "stream",
     "text": [
      "Downloading data from https://files.osf.io/v1/resources/4mw3a/providers/osfstorage/6130ff9bab8bca0226edd520 ...\n"
     ]
    },
    {
     "name": "stderr",
     "output_type": "stream",
     "text": [
      " ...done. (1 seconds, 0 min)\n"
     ]
    },
    {
     "name": "stdout",
     "output_type": "stream",
     "text": [
      "('raichle', 'cmr02', 'fsLR', '164k')\n",
      "Downloading data from https://files.osf.io/v1/resources/4mw3a/providers/osfstorage/6130ff624e5ee50218291365 ...\n"
     ]
    },
    {
     "name": "stderr",
     "output_type": "stream",
     "text": [
      " ...done. (2 seconds, 0 min)\n"
     ]
    },
    {
     "name": "stdout",
     "output_type": "stream",
     "text": [
      "Downloading data from https://files.osf.io/v1/resources/4mw3a/providers/osfstorage/6130ff6eaf610c0217dfeaa3 ...\n"
     ]
    },
    {
     "name": "stderr",
     "output_type": "stream",
     "text": [
      " ...done. (1 seconds, 0 min)\n"
     ]
    },
    {
     "name": "stdout",
     "output_type": "stream",
     "text": [
      "('raichle', 'cmruglu', 'fsLR', '164k')\n",
      "Downloading data from https://files.osf.io/v1/resources/4mw3a/providers/osfstorage/6130ff79ab8bca0226edd4a8 ...\n"
     ]
    },
    {
     "name": "stderr",
     "output_type": "stream",
     "text": [
      " ...done. (2 seconds, 0 min)\n"
     ]
    },
    {
     "name": "stdout",
     "output_type": "stream",
     "text": [
      "Downloading data from https://files.osf.io/v1/resources/4mw3a/providers/osfstorage/6130ff854e5ee5021029a186 ...\n"
     ]
    },
    {
     "name": "stderr",
     "output_type": "stream",
     "text": [
      " ...done. (1 seconds, 0 min)\n"
     ]
    },
    {
     "name": "stdout",
     "output_type": "stream",
     "text": [
      "('reardon2018', 'scalinghcp', 'civet', '41k')\n",
      "Downloading data from https://files.osf.io/v1/resources/4mw3a/providers/osfstorage/613100104e5ee5021029a221 ...\n"
     ]
    },
    {
     "name": "stderr",
     "output_type": "stream",
     "text": [
      " ...done. (1 seconds, 0 min)\n"
     ]
    },
    {
     "name": "stdout",
     "output_type": "stream",
     "text": [
      "Downloading data from https://files.osf.io/v1/resources/4mw3a/providers/osfstorage/613100044e5ee5021929210c ...\n"
     ]
    },
    {
     "name": "stderr",
     "output_type": "stream",
     "text": [
      " ...done. (1 seconds, 0 min)\n"
     ]
    },
    {
     "name": "stdout",
     "output_type": "stream",
     "text": [
      "Downloading data from https://files.osf.io/v1/resources/4mw3a/providers/osfstorage/60b684a69096b7021c63d9a0 ...\n"
     ]
    },
    {
     "name": "stderr",
     "output_type": "stream",
     "text": [
      " ...done. (1 seconds, 0 min)\n",
      "Extracting data from /home/bic/fmorys/neuromaps-data/2a4edacd44bc0b20457155074270b76a/civet41k.tar.gz..... done.\n"
     ]
    },
    {
     "name": "stdout",
     "output_type": "stream",
     "text": [
      "('reardon2018', 'scalingnih', 'civet', '41k')\n",
      "Downloading data from https://files.osf.io/v1/resources/4mw3a/providers/osfstorage/6130ffd5af610c0216dfe093 ...\n"
     ]
    },
    {
     "name": "stderr",
     "output_type": "stream",
     "text": [
      " ...done. (2 seconds, 0 min)\n"
     ]
    },
    {
     "name": "stdout",
     "output_type": "stream",
     "text": [
      "Downloading data from https://files.osf.io/v1/resources/4mw3a/providers/osfstorage/6130ffe24e5ee5021829148a ...\n"
     ]
    },
    {
     "name": "stderr",
     "output_type": "stream",
     "text": [
      " ...done. (1 seconds, 0 min)\n"
     ]
    },
    {
     "name": "stdout",
     "output_type": "stream",
     "text": [
      "('reardon2018', 'scalingpnc', 'civet', '41k')\n",
      "Downloading data from https://files.osf.io/v1/resources/4mw3a/providers/osfstorage/6130ffedab8bca0225edc80c ...\n"
     ]
    },
    {
     "name": "stderr",
     "output_type": "stream",
     "text": [
      " ...done. (1 seconds, 0 min)\n"
     ]
    },
    {
     "name": "stdout",
     "output_type": "stream",
     "text": [
      "Downloading data from https://files.osf.io/v1/resources/4mw3a/providers/osfstorage/6130fff94e5ee502182914c1 ...\n"
     ]
    },
    {
     "name": "stderr",
     "output_type": "stream",
     "text": [
      " ...done. (1 seconds, 0 min)\n"
     ]
    },
    {
     "name": "stdout",
     "output_type": "stream",
     "text": [
      "('rosaneto', 'abp688', 'MNI152', '1mm')\n",
      "Downloading data from https://files.osf.io/v1/resources/4mw3a/providers/osfstorage/619519080b0c1e017b7fc438 ...\n"
     ]
    },
    {
     "name": "stderr",
     "output_type": "stream",
     "text": [
      " ...done. (1 seconds, 0 min)\n"
     ]
    },
    {
     "name": "stdout",
     "output_type": "stream",
     "text": [
      "('sandiego2015', 'flb457', 'MNI152', '1mm')\n",
      "Downloading data from https://files.osf.io/v1/resources/4mw3a/providers/osfstorage/619518e50b0c1e017d7fbdad ...\n"
     ]
    },
    {
     "name": "stderr",
     "output_type": "stream",
     "text": [
      " ...done. (2 seconds, 0 min)\n"
     ]
    },
    {
     "name": "stdout",
     "output_type": "stream",
     "text": [
      "('sasaki2012', 'fepe2i', 'MNI152', '1mm')\n",
      "Downloading data from https://files.osf.io/v1/resources/4mw3a/providers/osfstorage/619519280b0c1e01757fcbb0 ...\n"
     ]
    },
    {
     "name": "stderr",
     "output_type": "stream",
     "text": [
      " ...done. (1 seconds, 0 min)\n"
     ]
    },
    {
     "name": "stdout",
     "output_type": "stream",
     "text": [
      "('satterthwaite2014', 'meancbf', 'MNI152', '1mm')\n",
      "Downloading data from https://files.osf.io/v1/resources/4mw3a/providers/osfstorage/6131007a4e5ee50219292291 ...\n"
     ]
    },
    {
     "name": "stderr",
     "output_type": "stream",
     "text": [
      " ...done. (1 seconds, 0 min)\n"
     ]
    },
    {
     "name": "stdout",
     "output_type": "stream",
     "text": [
      "('savli2012', 'altanserin', 'MNI152', '3mm')\n",
      "Downloading data from https://files.osf.io/v1/resources/4mw3a/providers/osfstorage/6196cabdbbe37803c059ec30 ...\n"
     ]
    },
    {
     "name": "stderr",
     "output_type": "stream",
     "text": [
      " ...done. (2 seconds, 0 min)\n"
     ]
    },
    {
     "name": "stdout",
     "output_type": "stream",
     "text": [
      "('savli2012', 'dasb', 'MNI152', '3mm')\n",
      "Downloading data from https://files.osf.io/v1/resources/4mw3a/providers/osfstorage/6196cab1bbe37803bd59efbd ...\n"
     ]
    },
    {
     "name": "stderr",
     "output_type": "stream",
     "text": [
      " ...done. (1 seconds, 0 min)\n"
     ]
    },
    {
     "name": "stdout",
     "output_type": "stream",
     "text": [
      "('savli2012', 'p943', 'MNI152', '3mm')\n",
      "Downloading data from https://files.osf.io/v1/resources/4mw3a/providers/osfstorage/6196cac91088a703e9bce778 ...\n"
     ]
    },
    {
     "name": "stderr",
     "output_type": "stream",
     "text": [
      " ...done. (1 seconds, 0 min)\n"
     ]
    },
    {
     "name": "stdout",
     "output_type": "stream",
     "text": [
      "('savli2012', 'way100635', 'MNI152', '3mm')\n",
      "Downloading data from https://files.osf.io/v1/resources/4mw3a/providers/osfstorage/6196cad4bbe37803bd59f027 ...\n"
     ]
    },
    {
     "name": "stderr",
     "output_type": "stream",
     "text": [
      " ...done. (1 seconds, 0 min)\n"
     ]
    },
    {
     "name": "stdout",
     "output_type": "stream",
     "text": [
      "('smart2019', 'abp688', 'MNI152', '1mm')\n",
      "Downloading data from https://files.osf.io/v1/resources/4mw3a/providers/osfstorage/6196ca730b0c1e03d87fbaea ...\n"
     ]
    },
    {
     "name": "stderr",
     "output_type": "stream",
     "text": [
      " ...done. (1 seconds, 0 min)\n"
     ]
    },
    {
     "name": "stdout",
     "output_type": "stream",
     "text": [
      "('smith2017', 'flb457', 'MNI152', '1mm')\n",
      "Downloading data from https://files.osf.io/v1/resources/4mw3a/providers/osfstorage/619519161088a70155bcdc6e ...\n"
     ]
    },
    {
     "name": "stderr",
     "output_type": "stream",
     "text": [
      " ...done. (1 seconds, 0 min)\n"
     ]
    },
    {
     "name": "stdout",
     "output_type": "stream",
     "text": [
      "('sydnor2021', 'SAaxis', 'fsLR', '32k')\n",
      "Downloading data from https://files.osf.io/v1/resources/4mw3a/providers/osfstorage/61e06d4ac99ebd0254018176 ...\n"
     ]
    },
    {
     "name": "stderr",
     "output_type": "stream",
     "text": [
      " ...done. (1 seconds, 0 min)\n"
     ]
    },
    {
     "name": "stdout",
     "output_type": "stream",
     "text": [
      "Downloading data from https://files.osf.io/v1/resources/4mw3a/providers/osfstorage/61e06d3c466d150209d58122 ...\n"
     ]
    },
    {
     "name": "stderr",
     "output_type": "stream",
     "text": [
      " ...done. (1 seconds, 0 min)\n"
     ]
    },
    {
     "name": "stdout",
     "output_type": "stream",
     "text": [
      "('tuominen', 'feobv', 'MNI152', '2mm')\n",
      "Downloading data from https://files.osf.io/v1/resources/4mw3a/providers/osfstorage/6196cb091088a703e8bce19f ...\n"
     ]
    },
    {
     "name": "stderr",
     "output_type": "stream",
     "text": [
      " ...done. (2 seconds, 0 min)\n"
     ]
    },
    {
     "name": "stdout",
     "output_type": "stream",
     "text": [
      "('turtonen2020', 'carfentanil', 'MNI152', '1mm')\n",
      "Downloading data from https://files.osf.io/v1/resources/4mw3a/providers/osfstorage/6196cadc1088a703e8bce0f4 ...\n"
     ]
    },
    {
     "name": "stderr",
     "output_type": "stream",
     "text": [
      " ...done. (1 seconds, 0 min)\n"
     ]
    },
    {
     "name": "stdout",
     "output_type": "stream",
     "text": [
      "('xu2020', 'FChomology', 'fsLR', '32k')\n",
      "Downloading data from https://files.osf.io/v1/resources/4mw3a/providers/osfstorage/61e7056b95a0300698ed25bb ...\n"
     ]
    },
    {
     "name": "stderr",
     "output_type": "stream",
     "text": [
      " ...done. (1 seconds, 0 min)\n"
     ]
    },
    {
     "name": "stdout",
     "output_type": "stream",
     "text": [
      "Downloading data from https://files.osf.io/v1/resources/4mw3a/providers/osfstorage/61e7055b53349e06925fa808 ...\n"
     ]
    },
    {
     "name": "stderr",
     "output_type": "stream",
     "text": [
      " ...done. (2 seconds, 0 min)\n"
     ]
    },
    {
     "name": "stdout",
     "output_type": "stream",
     "text": [
      "('xu2020', 'evoexp', 'fsLR', '32k')\n",
      "Downloading data from https://files.osf.io/v1/resources/4mw3a/providers/osfstorage/61e7054a95a0300698ed257c ...\n"
     ]
    },
    {
     "name": "stderr",
     "output_type": "stream",
     "text": [
      " ...done. (1 seconds, 0 min)\n"
     ]
    },
    {
     "name": "stdout",
     "output_type": "stream",
     "text": [
      "Downloading data from https://files.osf.io/v1/resources/4mw3a/providers/osfstorage/61e7053c53349e06925fa79c ...\n"
     ]
    },
    {
     "name": "stderr",
     "output_type": "stream",
     "text": [
      " ...done. (1 seconds, 0 min)\n"
     ]
    }
   ],
   "source": [
    "for annotation in available_annotations():\n",
    "    try:\n",
    "        print(annotation)\n",
    "        brain_map=datasets.fetch_annotation(source=annotation[0], desc=annotation[1])\n",
    "        BMI_res, brain_map_res = resample_images(src=BMI_HCP, trg=brain_map, src_space='fsaverage', \n",
    "                                                 trg_space=annotation[2], method='linear', \n",
    "                                                 resampling='transform_to_src')\n",
    "        #rotated = nulls.alexander_bloch(BMI_res, atlas='fsaverage', density='10k', n_perm=10000, seed=1234)\n",
    "        nib.save(brain_map_res[0], '/dagher/dagher11/filip/Obesity_maps/data/'+annotation[0]+annotation[1]+'_L.gii')\n",
    "        nib.save(brain_map_res[1], '/dagher/dagher11/filip/Obesity_maps/data/'+annotation[0]+annotation[1]+'_R.gii')\n",
    "        #corr = compare_images(BMI_res, brain_map_res, metric='pearsonr', nulls=rotated)\n",
    "        #print(corr)\n",
    "    except:\n",
    "        pass"
   ]
  },
  {
   "cell_type": "markdown",
   "metadata": {},
   "source": [
    "# Calculate correlations with all available annotations"
   ]
  },
  {
   "cell_type": "code",
   "execution_count": 430,
   "metadata": {
    "scrolled": true
   },
   "outputs": [
    {
     "name": "stdout",
     "output_type": "stream",
     "text": [
      "('abagen', 'genepc1', 'fsaverage', '10k')\n",
      "(0.14673678576946259, 0.5224477552244775)\n",
      "('aghourian2017', 'feobv', 'MNI152', '1mm')\n",
      "(-0.09255792200565338, 0.5381461853814619)\n",
      "('alarkurtti2015', 'raclopride', 'MNI152', '3mm')\n",
      "(0.14988219738006592, 0.12498750124987501)\n",
      "('bedard2019', 'feobv', 'MNI152', '1mm')\n",
      "(-0.15804708003997803, 0.20957904209579042)\n",
      "('beliveau2017', 'az10419369', 'MNI152', '1mm')\n",
      "(0.012863333337008953, 0.793920607939206)\n",
      "('beliveau2017', 'cimbi36', 'MNI152', '1mm')\n",
      "(-0.01622484065592289, 0.8091190880911909)\n",
      "('beliveau2017', 'cumi101', 'MNI152', '1mm')\n",
      "(-0.1589098423719406, 0.25047495250474955)\n",
      "('beliveau2017', 'dasb', 'MNI152', '1mm')\n",
      "(-0.23323631286621094, 0.011998800119988001)\n",
      "('beliveau2017', 'sb207145', 'MNI152', '1mm')\n",
      "(-0.055843595415353775, 0.57994200579942)\n",
      "('ding2010', 'mrb', 'MNI152', '1mm')\n",
      "(0.13911652565002441, 0.41235876412358763)\n",
      "('dubois2015', 'abp688', 'MNI152', '1mm')\n",
      "(-0.026094626635313034, 0.8054194580541946)\n",
      "('dukart2018', 'flumazenil', 'MNI152', '3mm')\n",
      "(-0.02651432529091835, 0.835016498350165)\n",
      "('dukart2018', 'fpcit', 'MNI152', '3mm')\n",
      "(-0.27795252203941345, 0.0453954604539546)\n",
      "('fazio2016', 'madam', 'MNI152', '3mm')\n",
      "(-0.13680753111839294, 0.13588641135886412)\n",
      "('gallezot2010', 'p943', 'MNI152', '1mm')\n",
      "(0.11200103163719177, 0.32886711328867113)\n",
      "('gallezot2017', 'gsk189254', 'MNI152', '1mm')\n",
      "(-0.046794336289167404, 0.7843215678432157)\n",
      "('hesse2017', 'methylreboxetine', 'MNI152', '3mm')\n",
      "(0.04787745326757431, 0.5498450154984501)\n",
      "('hillmer2016', 'flubatine', 'MNI152', '1mm')\n",
      "(0.1412336230278015, 0.3377662233776622)\n",
      "('jaworska2020', 'fallypride', 'MNI152', '1mm')\n",
      "(-0.15878912806510925, 0.3628637136286371)\n",
      "('kaller2017', 'sch23390', 'MNI152', '3mm')\n",
      "(-0.15425270795822144, 0.274972502749725)\n",
      "('kantonen2020', 'carfentanil', 'MNI152', '3mm')\n",
      "(-0.010113007389008999, 0.9642035796420358)\n",
      "('laurikainen2018', 'fmpepd2', 'MNI152', '1mm')\n",
      "(0.23646970093250275, 0.048095190480951906)\n",
      "('margulies2016', 'fcgradient01', 'fsLR', '32k')\n",
      "(-0.015757402405142784, 0.9185081491850815)\n",
      "('margulies2016', 'fcgradient02', 'fsLR', '32k')\n",
      "(0.03715437278151512, 0.8741125887411259)\n",
      "('margulies2016', 'fcgradient03', 'fsLR', '32k')\n",
      "(0.10462666302919388, 0.16768323167683233)\n",
      "('margulies2016', 'fcgradient04', 'fsLR', '32k')\n",
      "(-0.25402528047561646, 0.017298270172982702)\n",
      "('margulies2016', 'fcgradient05', 'fsLR', '32k')\n",
      "(-0.1226382926106453, 0.33656634336566343)\n",
      "('margulies2016', 'fcgradient06', 'fsLR', '32k')\n",
      "(0.16362574696540833, 0.23097690230976903)\n",
      "('margulies2016', 'fcgradient07', 'fsLR', '32k')\n",
      "(-0.08639286458492279, 0.32596740325967405)\n",
      "('margulies2016', 'fcgradient08', 'fsLR', '32k')\n",
      "(-0.03168226778507233, 0.7929207079292071)\n",
      "('margulies2016', 'fcgradient09', 'fsLR', '32k')\n",
      "(0.003219254780560732, 0.9797020297970203)\n",
      "('margulies2016', 'fcgradient10', 'fsLR', '32k')\n",
      "(-0.0014769025146961212, 0.9914008599140086)\n",
      "('naganawa2020', 'lsn3172176', 'MNI152', '1mm')\n",
      "(0.031130215153098106, 0.7297270272972702)\n",
      "('neurosynth', 'cogpc1', 'MNI152', '2mm')\n",
      "(0.1768335998058319, 0.3478652134786521)\n",
      "('norgaard2020', 'flumazenil', 'MNI152', '1mm')\n",
      "(0.06400207430124283, 0.1533846615338466)\n",
      "('normandin2015', 'omar', 'MNI152', '1mm')\n",
      "(-0.05359084531664848, 0.7333266673332667)\n",
      "('radnakrishnan2018', 'gsk215083', 'MNI152', '1mm')\n",
      "(0.08180782943964005, 0.36006399360063995)\n",
      "('rosaneto', 'abp688', 'MNI152', '1mm')\n",
      "(0.035735730081796646, 0.6858314168583142)\n",
      "('sandiego2015', 'flb457', 'MNI152', '1mm')\n",
      "(-0.20144523680210114, 0.34306569343065696)\n",
      "('sasaki2012', 'fepe2i', 'MNI152', '1mm')\n",
      "(0.032632648944854736, 0.7021297870212979)\n",
      "('savli2012', 'altanserin', 'MNI152', '3mm')\n",
      "(0.03867540881037712, 0.7782221777822218)\n",
      "('savli2012', 'dasb', 'MNI152', '3mm')\n",
      "(-0.2908514142036438, 0.012098790120987902)\n",
      "('savli2012', 'p943', 'MNI152', '3mm')\n",
      "(0.17511114478111267, 0.06369363063693631)\n",
      "('savli2012', 'way100635', 'MNI152', '3mm')\n",
      "(-0.16027545928955078, 0.36326367363263673)\n",
      "('smart2019', 'abp688', 'MNI152', '1mm')\n",
      "(0.02945992536842823, 0.7777222277772223)\n",
      "('smith2017', 'flb457', 'MNI152', '1mm')\n",
      "(-0.14705340564250946, 0.3972602739726027)\n",
      "('tuominen', 'feobv', 'MNI152', '2mm')\n",
      "(-0.1507512331008911, 0.1740825917408259)\n",
      "('turtonen2020', 'carfentanil', 'MNI152', '1mm')\n",
      "(0.0001391995610902086, 0.9996000399960004)\n"
     ]
    }
   ],
   "source": [
    "for annotation in available_annotations():\n",
    "    try:\n",
    "        print(annotation)\n",
    "        brain_map=datasets.fetch_annotation(source=annotation[0], desc=annotation[1])\n",
    "        BMI_res, brain_map_res = resample_images(src=BMI_10k, trg=brain_map, src_space='fsaverage', \n",
    "                                                 trg_space=annotation[2], method='linear', \n",
    "                                                 resampling='transform_to_src')\n",
    "        rotated = nulls.alexander_bloch(BMI_res, atlas='fsaverage', density='10k', n_perm=10000, seed=1234)\n",
    "        corr = compare_images(BMI_res, brain_map_res, metric='pearsonr', nulls=rotated)\n",
    "        print(corr)\n",
    "    except:\n",
    "        pass"
   ]
  },
  {
   "cell_type": "markdown",
   "metadata": {},
   "source": [
    "# Surface area"
   ]
  },
  {
   "cell_type": "markdown",
   "metadata": {},
   "source": [
    "# Read the basic files"
   ]
  },
  {
   "cell_type": "code",
   "execution_count": 26,
   "metadata": {},
   "outputs": [],
   "source": [
    "BMI_HCP_area=list(['/dagher/dagher11/filip/Obesity_maps/data/BMI_area_lh.gii',\n",
    "          '/dagher/dagher11/filip/Obesity_maps/data/BMI_area_rh.gii'])"
   ]
  },
  {
   "cell_type": "code",
   "execution_count": 27,
   "metadata": {},
   "outputs": [],
   "source": [
    "BMI_ctx_area=transforms.fsaverage_to_fsaverage(BMI_HCP_area, '164k')"
   ]
  },
  {
   "cell_type": "markdown",
   "metadata": {},
   "source": [
    "# Set all vertices of medial wall to nan"
   ]
  },
  {
   "cell_type": "code",
   "execution_count": 28,
   "metadata": {},
   "outputs": [],
   "source": [
    "BMI_ctx_area[0].agg_data()[medwall_idx_fsaverage_lh] = np.nan\n",
    "BMI_ctx_area[1].agg_data()[medwall_idx_fsaverage_rh] = np.nan"
   ]
  },
  {
   "cell_type": "markdown",
   "metadata": {},
   "source": [
    "# Transform fsaverage 164k to 10k for further analyses"
   ]
  },
  {
   "cell_type": "code",
   "execution_count": 29,
   "metadata": {},
   "outputs": [],
   "source": [
    "BMI_10k_area=transforms.fsaverage_to_fsaverage(BMI_ctx_area, '10k')"
   ]
  },
  {
   "cell_type": "markdown",
   "metadata": {},
   "source": [
    "# Save files for plotting in the future"
   ]
  },
  {
   "cell_type": "code",
   "execution_count": 30,
   "metadata": {},
   "outputs": [],
   "source": [
    "nib.save(BMI_10k_area[1], '/dagher/dagher11/filip/Obesity_maps/data/BMI_area_10k_R.gii')\n",
    "nib.save(BMI_10k_area[0], '/dagher/dagher11/filip/Obesity_maps/data/BMI_area_10k_L.gii')\n"
   ]
  },
  {
   "cell_type": "markdown",
   "metadata": {},
   "source": [
    "# Calculate correlations with all available annotations"
   ]
  },
  {
   "cell_type": "code",
   "execution_count": null,
   "metadata": {
    "scrolled": true
   },
   "outputs": [
    {
     "name": "stdout",
     "output_type": "stream",
     "text": [
      "('abagen', 'genepc1', 'fsaverage', '10k')\n",
      "(-0.19280381500720978, 0.35696430356964304)\n",
      "('aghourian2017', 'feobv', 'MNI152', '1mm')\n",
      "(0.16438035666942596, 0.24067593240675933)\n",
      "('alarkurtti2015', 'raclopride', 'MNI152', '3mm')\n",
      "(-0.05113248527050018, 0.6778322167783222)\n",
      "('bedard2019', 'feobv', 'MNI152', '1mm')\n",
      "(-0.01393503975123167, 0.9252074792520748)\n",
      "('beliveau2017', 'az10419369', 'MNI152', '1mm')\n",
      "(-0.07088306546211243, 0.12068793120687932)\n",
      "('beliveau2017', 'cimbi36', 'MNI152', '1mm')\n",
      "(-0.09123453497886658, 0.14878512148785122)\n",
      "('beliveau2017', 'cumi101', 'MNI152', '1mm')\n",
      "(-0.08148433268070221, 0.6078392160783922)\n",
      "('beliveau2017', 'dasb', 'MNI152', '1mm')\n",
      "(-0.13014158606529236, 0.26047395260473954)\n",
      "('beliveau2017', 'sb207145', 'MNI152', '1mm')\n",
      "(-0.08900177478790283, 0.33236676332366766)\n",
      "('ding2010', 'mrb', 'MNI152', '1mm')\n",
      "(0.056388936936855316, 0.7453254674532547)\n",
      "('dubois2015', 'abp688', 'MNI152', '1mm')\n",
      "(-0.03826126456260681, 0.7101289871012899)\n",
      "('dukart2018', 'flumazenil', 'MNI152', '3mm')\n",
      "(-0.22468619048595428, 0.019498050194980503)\n",
      "('dukart2018', 'fpcit', 'MNI152', '3mm')\n",
      "(-0.12418634444475174, 0.46565343465653436)\n",
      "('fazio2016', 'madam', 'MNI152', '3mm')\n",
      "(-0.08685330301523209, 0.37946205379462056)\n",
      "('finnema2016', 'ucbj', 'MNI152', '1mm')\n",
      "(-0.10250016301870346, 0.18238176182381763)\n",
      "('gallezot2010', 'p943', 'MNI152', '1mm')\n",
      "(-0.07953637838363647, 0.5052494750524947)\n",
      "('gallezot2017', 'gsk189254', 'MNI152', '1mm')\n",
      "(0.15576490759849548, 0.23417658234176583)\n",
      "('hcps1200', 'megalpha', 'fsLR', '4k')\n",
      "(-0.2684909701347351, 0.3281671832816718)\n",
      "('hcps1200', 'megbeta', 'fsLR', '4k')\n",
      "(0.38892635703086853, 0.057894210578942104)\n",
      "('hcps1200', 'megdelta', 'fsLR', '4k')\n",
      "(0.02522038109600544, 0.9338066193380662)\n",
      "('hcps1200', 'meggamma1', 'fsLR', '4k')\n",
      "(0.2606002390384674, 0.26677332266773324)\n",
      "('hcps1200', 'meggamma2', 'fsLR', '4k')\n",
      "(-0.04668526351451874, 0.8553144685531446)\n",
      "('hcps1200', 'megtheta', 'fsLR', '4k')\n",
      "(0.3718114495277405, 0.0771922807719228)\n",
      "('hcps1200', 'megtimescale', 'fsLR', '4k')\n",
      "(0.014260740950703621, 0.9533046695330467)\n",
      "('hcps1200', 'myelinmap', 'fsLR', '32k')\n",
      "(-0.08884412795305252, 0.5653434656534346)\n",
      "('hcps1200', 'thickness', 'fsLR', '32k')\n",
      "(0.02442103810608387, 0.9066093390660934)\n",
      "('hesse2017', 'methylreboxetine', 'MNI152', '3mm')\n",
      "(-0.0044539812952280045, 0.9528047195280472)\n",
      "('hill2010', 'devexp', 'fsLR', '164k')\n",
      "('hill2010', 'evoexp', 'fsLR', '164k')\n",
      "('hillmer2016', 'flubatine', 'MNI152', '1mm')\n",
      "(0.060938041657209396, 0.6675332466753324)\n",
      "('jaworska2020', 'fallypride', 'MNI152', '1mm')\n",
      "(-0.11362671852111816, 0.528047195280472)\n",
      "('kaller2017', 'sch23390', 'MNI152', '3mm')\n",
      "(-0.045766305178403854, 0.7817218278172183)\n",
      "('kantonen2020', 'carfentanil', 'MNI152', '3mm')\n",
      "(0.19698350131511688, 0.292970702929707)\n",
      "('laurikainen2018', 'fmpepd2', 'MNI152', '1mm')\n",
      "(0.11139795929193497, 0.4203579642035796)\n",
      "('margulies2016', 'fcgradient01', 'fsLR', '32k')\n",
      "(0.11435426771640778, 0.38816118388161186)\n",
      "('margulies2016', 'fcgradient02', 'fsLR', '32k')\n",
      "(-0.3153060972690582, 0.0678932106789321)\n",
      "('margulies2016', 'fcgradient03', 'fsLR', '32k')\n",
      "(0.05278058722615242, 0.5448455154484552)\n",
      "('margulies2016', 'fcgradient04', 'fsLR', '32k')\n",
      "(-0.18785306811332703, 0.141985801419858)\n",
      "('margulies2016', 'fcgradient05', 'fsLR', '32k')\n",
      "(-0.01980307325720787, 0.8977102289771023)\n",
      "('margulies2016', 'fcgradient06', 'fsLR', '32k')\n",
      "(0.18724876642227173, 0.14128587141285873)\n",
      "('margulies2016', 'fcgradient07', 'fsLR', '32k')\n",
      "(0.07911750674247742, 0.3999600039996)\n",
      "('margulies2016', 'fcgradient08', 'fsLR', '32k')\n",
      "(-0.013015959411859512, 0.9003099690030997)\n",
      "('margulies2016', 'fcgradient09', 'fsLR', '32k')\n",
      "(0.027344947680830956, 0.8066193380661933)\n",
      "('margulies2016', 'fcgradient10', 'fsLR', '32k')\n",
      "(0.13489751517772675, 0.21497850214978503)\n",
      "('mueller2013', 'intersubjvar', 'fsLR', '164k')\n",
      "(0.04110955446958542, 0.7384261573842615)\n",
      "('naganawa2020', 'lsn3172176', 'MNI152', '1mm')\n",
      "(-0.1593169867992401, 0.044995500449955005)\n",
      "('neurosynth', 'cogpc1', 'MNI152', '2mm')\n",
      "(0.0729084312915802, 0.7263273672632736)\n",
      "('norgaard2020', 'flumazenil', 'MNI152', '1mm')\n",
      "(-0.10930764675140381, 0.024897510248975102)\n",
      "('normandin2015', 'omar', 'MNI152', '1mm')\n"
     ]
    }
   ],
   "source": [
    "for annotation in available_annotations():\n",
    "    try:\n",
    "        print(annotation)\n",
    "        brain_map=datasets.fetch_annotation(source=annotation[0], desc=annotation[1])\n",
    "        BMI_res, brain_map_res = resample_images(src=BMI_10k_area, trg=brain_map, src_space='fsaverage', \n",
    "                                                 trg_space=annotation[2], method='linear', \n",
    "                                                 resampling='transform_to_src')\n",
    "        rotated = nulls.alexander_bloch(BMI_res, atlas='fsaverage', density='10k', n_perm=10000, seed=1234)\n",
    "        corr = compare_images(BMI_res, brain_map_res, metric='pearsonr', nulls=rotated)\n",
    "        print(corr)\n",
    "    except:\n",
    "        pass"
   ]
  },
  {
   "cell_type": "markdown",
   "metadata": {},
   "source": [
    "# OLD"
   ]
  },
  {
   "cell_type": "code",
   "execution_count": 422,
   "metadata": {
    "scrolled": true
   },
   "outputs": [
    {
     "data": {
      "image/png": "[encoded data removed]",
      "text/plain": [
       "<Figure size 432x288 with 4 Axes>"
      ]
     },
     "execution_count": 422,
     "metadata": {},
     "output_type": "execute_result"
    },
    {
     "data": {
      "image/png": "[encoded data removed]",
      "text/plain": [
       "<Figure size 432x288 with 4 Axes>"
      ]
     },
     "metadata": {
      "needs_background": "light"
     },
     "output_type": "display_data"
    }
   ],
   "source": [
    "plotting.plot_surf_template(BMI_10k, 'fsaverage', '10k')"
   ]
  },
  {
   "cell_type": "markdown",
   "metadata": {},
   "source": [
    "## Try to use own parcellation -  DKT"
   ]
  },
  {
   "cell_type": "code",
   "execution_count": 39,
   "metadata": {},
   "outputs": [
    {
     "data": {
      "text/plain": [
       "(<nibabel.gifti.gifti.GiftiImage at 0x7f5c53b5cc50>,\n",
       " <nibabel.gifti.gifti.GiftiImage at 0x7f5c81285e48>)"
      ]
     },
     "execution_count": 39,
     "metadata": {},
     "output_type": "execute_result"
    }
   ],
   "source": [
    "annotation1"
   ]
  },
  {
   "cell_type": "code",
   "execution_count": 140,
   "metadata": {},
   "outputs": [],
   "source": [
    "from netneurotools import datasets as nntdatasets\n",
    "from neuromaps import datasets as nmdatasets\n",
    "from neuromaps.parcellate import Parcellater\n",
    "import pandas as pd\n",
    "\n",
    "#cammoun = nntdatasets.fetch_cammoun2012(version=\"MNI152NLin2009aSym\")\n",
    "#info = pd.read_csv(cammoun['info'])\n",
    "#labels = info.query('scale==\"scale033\"')['label']  # or might be \"labels\"\n",
    "\n",
    "#parc = Parcellater(cammoun['scale033'], 'mni152')  # assuming mymap is in mni152 space\n",
    "\n",
    "#mymap = nmdatasets.fetch_annotation(source='/dagher/dagher11/filip/Obesity_maps/data/BMI_lh.gii')\n",
    "parc = Parcellater('/dagher/dagher11/filip/Obesity_maps/data/DKT_orig.nii.gz', \n",
    "                   'mni152')  # assuming mymap is in mni152 space\n",
    "mymap_parc = parc.fit_transform(annotation1, 'mni152')\n"
   ]
  },
  {
   "cell_type": "markdown",
   "metadata": {},
   "source": [
    "order of parcels = 1002\n",
    "        1003\n",
    "        1005\n",
    "        1006\n",
    "        1007\n",
    "        1008\n",
    "        1009\n",
    "        1010\n",
    "        1011\n",
    "        1012\n",
    "        1013\n",
    "        1014\n",
    "        1015\n",
    "        1016\n",
    "        1017\n",
    "        1018\n",
    "        1019\n",
    "        1020\n",
    "        1021\n",
    "        1022\n",
    "        1023\n",
    "        1024\n",
    "        1025\n",
    "        1026\n",
    "        1027\n",
    "        1028\n",
    "        1029\n",
    "        1030\n",
    "        1031\n",
    "        1034\n",
    "        1035\n",
    "        2002\n",
    "        2003\n",
    "        2005\n",
    "        2006\n",
    "        2007\n",
    "        2008\n",
    "        2009\n",
    "        2010\n",
    "        2011\n",
    "        2012\n",
    "        2013\n",
    "        2014\n",
    "        2015\n",
    "        2016\n",
    "        2017\n",
    "        2018\n",
    "        2019\n",
    "        2020\n",
    "        2021\n",
    "        2022\n",
    "        2023\n",
    "        2024\n",
    "        2025\n",
    "        2026\n",
    "        2027\n",
    "        2028\n",
    "        2029\n",
    "        2030\n",
    "        2031\n",
    "        2034\n",
    "        2035"
   ]
  },
  {
   "cell_type": "code",
   "execution_count": 144,
   "metadata": {},
   "outputs": [],
   "source": [
    "structs=['caudalanteriorcingulate','caudalmiddlefrontal','cuneus','entorhinal','fusiform',\n",
    "'inferiorparietal','inferiortemporal','isthmuscingulate','lateraloccipital','lateralorbitofrontal','lingual',\n",
    "'medialorbitofrontal','middletemporal','parahippocampal','paracentral','parsopercularis',\n",
    "'parsorbitalis','parstriangularis','pericalcarine','postcentral','posteriorcingulate','precentral',\n",
    "'precuneus','rostralanteriorcingulate','rostralmiddlefrontal','superiorfrontal','superiorparietal',\n",
    "'superiortemporal','supramarginal','transversetemporal','insula','caudalanteriorcingulate','caudalmiddlefrontal',\n",
    "'cuneus','entorhinal','fusiform','inferiorparietal','inferiortemporal','isthmuscingulate','lateraloccipital',\n",
    "'lateralorbitofrontal','lingual','medialorbitofrontal','middletemporal','parahippocampal',\n",
    "'paracentral','parsopercularis','parsorbitalis','parstriangularis','pericalcarine','postcentral',\n",
    "'posteriorcingulate','precentral','precuneus','rostralanteriorcingulate','rostralmiddlefrontal',\n",
    "'superiorfrontal','superiorparietal','superiortemporal','supramarginal','transversetemporal','insula']"
   ]
  },
  {
   "cell_type": "code",
   "execution_count": 139,
   "metadata": {},
   "outputs": [
    {
     "data": {
      "text/plain": [
       "array([[ 13.15651811,  33.07006812,  23.83212843,  20.30056202,\n",
       "         43.92720198, 100.74264688, 121.52069421,  38.0044834 ,\n",
       "         29.25063202,  27.12910957,  24.35586816,  36.94937816,\n",
       "         45.25109528,  14.66557441,  99.01656832,  33.62487391,\n",
       "        100.42878819,  17.79497968,  28.8774694 ,  24.60705346,\n",
       "         22.52338368,  43.87601296, 104.90898472, 129.23169024,\n",
       "         65.35952657,  36.99954325,  44.45331412,  94.96041428,\n",
       "         32.74364249,  53.62649519,  64.67141069,  37.31899732,\n",
       "         43.50990505,  40.65090813,  32.06181446,  24.96944402,\n",
       "         20.70439925,  22.90092761,  22.04635988,  23.39119373,\n",
       "         21.5755144 ,  24.73770923,  21.60108096,  25.84831614,\n",
       "         20.19952791,  25.96543429,  24.49448817,  20.6692686 ,\n",
       "         29.37551037,  28.47706922,  26.4137168 ,  26.68861197,\n",
       "         23.31486725,  27.3461505 ,  33.08501017,  29.59846064,\n",
       "         23.97830903,  27.13744935,  25.07575705,  23.58447426,\n",
       "         22.24684733,  26.09969691,  25.28320847,  34.39579014,\n",
       "         34.05924513,  32.79304711,  23.07870493,  22.76778354,\n",
       "         23.27708449,  22.04879438,  22.945449  ,  21.98087474,\n",
       "         25.72439527,  21.11252607,  26.04902958,  20.37140384,\n",
       "         26.07812988,  23.54310822,  22.962348  ,  30.13764579,\n",
       "         26.40841277,  25.78118058,  25.07652082,  22.74713422,\n",
       "         25.28445232,  33.12393441,  27.67224479,  24.36307897,\n",
       "         26.76264199,  22.82669172,  23.97440635,  21.22300656,\n",
       "         25.29662541,  23.70755227,  31.89557294,  31.10780992]])"
      ]
     },
     "execution_count": 139,
     "metadata": {},
     "output_type": "execute_result"
    }
   ],
   "source": [
    "mymap_parc"
   ]
  },
  {
   "cell_type": "markdown",
   "metadata": {},
   "source": [
    "# Plot"
   ]
  },
  {
   "cell_type": "code",
   "execution_count": 243,
   "metadata": {},
   "outputs": [],
   "source": [
    "schaefer = nntdatasets.fetch_schaefer2018(version=\"fsaverage\")['1000Parcels17Networks']"
   ]
  },
  {
   "cell_type": "code",
   "execution_count": 260,
   "metadata": {},
   "outputs": [
    {
     "name": "stderr",
     "output_type": "stream",
     "text": [
      "/dagher/dagher11/filip/Software/miniconda/envs/R/lib/python3.7/site-packages/numpy/core/_asarray.py:136: VisibleDeprecationWarning: Creating an ndarray from ragged nested sequences (which is a list-or-tuple of lists-or-tuples-or ndarrays with different lengths or shapes) is deprecated. If you meant to do this, you must specify 'dtype=object' when creating the ndarray\n",
      "  return array(a, dtype, copy=False, order=order, subok=True)\n"
     ]
    },
    {
     "ename": "ValueError",
     "evalue": "Provided data resolution is non-standard. Number of vertices estimated in data: 2",
     "output_type": "error",
     "traceback": [
      "\u001b[0;31m---------------------------------------------------------------------------\u001b[0m",
      "\u001b[0;31mValueError\u001b[0m                                Traceback (most recent call last)",
      "\u001b[0;32m<ipython-input-260-647607a6299c>\u001b[0m in \u001b[0;36m<module>\u001b[0;34m\u001b[0m\n\u001b[1;32m      1\u001b[0m \u001b[0mparc\u001b[0m \u001b[0;34m=\u001b[0m \u001b[0mParcellater\u001b[0m\u001b[0;34m(\u001b[0m\u001b[0mcammoun\u001b[0m\u001b[0;34m[\u001b[0m\u001b[0;34m'inflated'\u001b[0m\u001b[0;34m]\u001b[0m\u001b[0;34m,\u001b[0m \u001b[0;34m'fsaverage'\u001b[0m\u001b[0;34m)\u001b[0m  \u001b[0;31m# assuming mymap is in mni152 space\u001b[0m\u001b[0;34m\u001b[0m\u001b[0;34m\u001b[0m\u001b[0m\n\u001b[0;32m----> 2\u001b[0;31m \u001b[0mmymap_parc\u001b[0m \u001b[0;34m=\u001b[0m \u001b[0mparc\u001b[0m\u001b[0;34m.\u001b[0m\u001b[0mfit_transform\u001b[0m\u001b[0;34m(\u001b[0m\u001b[0mBMI_HCP\u001b[0m\u001b[0;34m,\u001b[0m \u001b[0;34m'fsaverage'\u001b[0m\u001b[0;34m)\u001b[0m\u001b[0;34m\u001b[0m\u001b[0;34m\u001b[0m\u001b[0m\n\u001b[0m",
      "\u001b[0;32m/dagher/dagher11/filip/Software/miniconda/envs/R/lib/python3.7/site-packages/neuromaps/parcellate.py\u001b[0m in \u001b[0;36mfit_transform\u001b[0;34m(self, data, space, hemi)\u001b[0m\n\u001b[1;32m    182\u001b[0m         \"\"\" Prepare and perform parcellation of `data`\n\u001b[1;32m    183\u001b[0m         \"\"\"\n\u001b[0;32m--> 184\u001b[0;31m         \u001b[0;32mreturn\u001b[0m \u001b[0mself\u001b[0m\u001b[0;34m.\u001b[0m\u001b[0mfit\u001b[0m\u001b[0;34m(\u001b[0m\u001b[0;34m)\u001b[0m\u001b[0;34m.\u001b[0m\u001b[0mtransform\u001b[0m\u001b[0;34m(\u001b[0m\u001b[0mdata\u001b[0m\u001b[0;34m,\u001b[0m \u001b[0mspace\u001b[0m\u001b[0;34m,\u001b[0m \u001b[0mhemi\u001b[0m\u001b[0;34m)\u001b[0m\u001b[0;34m\u001b[0m\u001b[0;34m\u001b[0m\u001b[0m\n\u001b[0m\u001b[1;32m    185\u001b[0m \u001b[0;34m\u001b[0m\u001b[0m\n\u001b[1;32m    186\u001b[0m     \u001b[0;32mdef\u001b[0m \u001b[0m_check_fitted\u001b[0m\u001b[0;34m(\u001b[0m\u001b[0mself\u001b[0m\u001b[0;34m)\u001b[0m\u001b[0;34m:\u001b[0m\u001b[0;34m\u001b[0m\u001b[0;34m\u001b[0m\u001b[0m\n",
      "\u001b[0;32m/dagher/dagher11/filip/Software/miniconda/envs/R/lib/python3.7/site-packages/neuromaps/parcellate.py\u001b[0m in \u001b[0;36mtransform\u001b[0;34m(self, data, space, hemi)\u001b[0m\n\u001b[1;32m    135\u001b[0m                                      \u001b[0mspace\u001b[0m\u001b[0;34m,\u001b[0m \u001b[0mself\u001b[0m\u001b[0;34m.\u001b[0m\u001b[0mspace\u001b[0m\u001b[0;34m,\u001b[0m \u001b[0mhemi\u001b[0m\u001b[0;34m=\u001b[0m\u001b[0mhemi\u001b[0m\u001b[0;34m,\u001b[0m\u001b[0;34m\u001b[0m\u001b[0;34m\u001b[0m\u001b[0m\n\u001b[1;32m    136\u001b[0m                                      \u001b[0mresampling\u001b[0m\u001b[0;34m=\u001b[0m\u001b[0mself\u001b[0m\u001b[0;34m.\u001b[0m\u001b[0m_resampling\u001b[0m\u001b[0;34m,\u001b[0m\u001b[0;34m\u001b[0m\u001b[0;34m\u001b[0m\u001b[0m\n\u001b[0;32m--> 137\u001b[0;31m                                      method='nearest')\n\u001b[0m\u001b[1;32m    138\u001b[0m \u001b[0;34m\u001b[0m\u001b[0m\n\u001b[1;32m    139\u001b[0m         if ((self.resampling_target == 'data'\n",
      "\u001b[0;32m/dagher/dagher11/filip/Software/miniconda/envs/R/lib/python3.7/site-packages/neuromaps/resampling.py\u001b[0m in \u001b[0;36mresample_images\u001b[0;34m(src, trg, src_space, trg_space, method, hemi, resampling, alt_spec)\u001b[0m\n\u001b[1;32m    270\u001b[0m         \u001b[0mfunc\u001b[0m \u001b[0;34m=\u001b[0m \u001b[0mglobals\u001b[0m\u001b[0;34m(\u001b[0m\u001b[0;34m)\u001b[0m\u001b[0;34m[\u001b[0m\u001b[0mresampling\u001b[0m\u001b[0;34m]\u001b[0m\u001b[0;34m\u001b[0m\u001b[0;34m\u001b[0m\u001b[0m\n\u001b[1;32m    271\u001b[0m         src, trg = func(src, trg, src_space, trg_space, hemi=hemi,\n\u001b[0;32m--> 272\u001b[0;31m                         method=method, **opts)\n\u001b[0m\u001b[1;32m    273\u001b[0m         \u001b[0msrc\u001b[0m \u001b[0;34m=\u001b[0m \u001b[0mtuple\u001b[0m\u001b[0;34m(\u001b[0m\u001b[0mload_gifti\u001b[0m\u001b[0;34m(\u001b[0m\u001b[0ms\u001b[0m\u001b[0;34m)\u001b[0m \u001b[0;32mfor\u001b[0m \u001b[0ms\u001b[0m \u001b[0;32min\u001b[0m \u001b[0msrc\u001b[0m\u001b[0;34m)\u001b[0m\u001b[0;34m\u001b[0m\u001b[0;34m\u001b[0m\u001b[0m\n\u001b[1;32m    274\u001b[0m         \u001b[0mtrg\u001b[0m \u001b[0;34m=\u001b[0m \u001b[0mtuple\u001b[0m\u001b[0;34m(\u001b[0m\u001b[0mload_gifti\u001b[0m\u001b[0;34m(\u001b[0m\u001b[0mt\u001b[0m\u001b[0;34m)\u001b[0m \u001b[0;32mfor\u001b[0m \u001b[0mt\u001b[0m \u001b[0;32min\u001b[0m \u001b[0mtrg\u001b[0m\u001b[0;34m)\u001b[0m\u001b[0;34m\u001b[0m\u001b[0;34m\u001b[0m\u001b[0m\n",
      "\u001b[0;32m/dagher/dagher11/filip/Software/miniconda/envs/R/lib/python3.7/site-packages/neuromaps/resampling.py\u001b[0m in \u001b[0;36mtransform_to_src\u001b[0;34m(src, trg, src_space, trg_space, method, hemi)\u001b[0m\n\u001b[1;32m     69\u001b[0m def transform_to_src(src, trg, src_space, trg_space, method='linear',\n\u001b[1;32m     70\u001b[0m                      hemi=None):\n\u001b[0;32m---> 71\u001b[0;31m     \u001b[0msrc_den\u001b[0m\u001b[0;34m,\u001b[0m \u001b[0mtrg_den\u001b[0m \u001b[0;34m=\u001b[0m \u001b[0mtransforms\u001b[0m\u001b[0;34m.\u001b[0m\u001b[0m_estimate_density\u001b[0m\u001b[0;34m(\u001b[0m\u001b[0;34m(\u001b[0m\u001b[0msrc\u001b[0m\u001b[0;34m,\u001b[0m \u001b[0mtrg\u001b[0m\u001b[0;34m)\u001b[0m\u001b[0;34m,\u001b[0m \u001b[0mhemi\u001b[0m\u001b[0;34m)\u001b[0m\u001b[0;34m\u001b[0m\u001b[0;34m\u001b[0m\u001b[0m\n\u001b[0m\u001b[1;32m     72\u001b[0m \u001b[0;34m\u001b[0m\u001b[0m\n\u001b[1;32m     73\u001b[0m     \u001b[0mfunc\u001b[0m \u001b[0;34m=\u001b[0m \u001b[0mgetattr\u001b[0m\u001b[0;34m(\u001b[0m\u001b[0mtransforms\u001b[0m\u001b[0;34m,\u001b[0m \u001b[0;34mf'{trg_space.lower()}_to_{src_space.lower()}'\u001b[0m\u001b[0;34m)\u001b[0m\u001b[0;34m\u001b[0m\u001b[0;34m\u001b[0m\u001b[0m\n",
      "\u001b[0;32m/dagher/dagher11/filip/Software/miniconda/envs/R/lib/python3.7/site-packages/neuromaps/transforms.py\u001b[0m in \u001b[0;36m_estimate_density\u001b[0;34m(data, hemi)\u001b[0m\n\u001b[1;32m     79\u001b[0m         \u001b[0mdensity\u001b[0m \u001b[0;34m=\u001b[0m \u001b[0mDENSITY_MAP\u001b[0m\u001b[0;34m.\u001b[0m\u001b[0mget\u001b[0m\u001b[0;34m(\u001b[0m\u001b[0mn_vert\u001b[0m\u001b[0;34m)\u001b[0m\u001b[0;34m\u001b[0m\u001b[0;34m\u001b[0m\u001b[0m\n\u001b[1;32m     80\u001b[0m         \u001b[0;32mif\u001b[0m \u001b[0mdensity\u001b[0m \u001b[0;32mis\u001b[0m \u001b[0;32mNone\u001b[0m\u001b[0;34m:\u001b[0m\u001b[0;34m\u001b[0m\u001b[0;34m\u001b[0m\u001b[0m\n\u001b[0;32m---> 81\u001b[0;31m             raise ValueError('Provided data resolution is non-standard. '\n\u001b[0m\u001b[1;32m     82\u001b[0m                              f'Number of vertices estimated in data: {n_vert}')\n\u001b[1;32m     83\u001b[0m         \u001b[0mdensities\u001b[0m \u001b[0;34m+=\u001b[0m \u001b[0;34m(\u001b[0m\u001b[0mdensity\u001b[0m\u001b[0;34m,\u001b[0m\u001b[0;34m)\u001b[0m\u001b[0;34m\u001b[0m\u001b[0;34m\u001b[0m\u001b[0m\n",
      "\u001b[0;31mValueError\u001b[0m: Provided data resolution is non-standard. Number of vertices estimated in data: 2"
     ]
    }
   ],
   "source": [
    "parc = Parcellater(cammoun['inflated'], 'fsaverage')  # assuming mymap is in mni152 space\n",
    "mymap_parc = parc.fit_transform(BMI_HCP, 'fsaverage')"
   ]
  },
  {
   "cell_type": "code",
   "execution_count": 256,
   "metadata": {},
   "outputs": [
    {
     "ename": "ValueError",
     "evalue": "Invalid file path or buffer object type: <class 'dict'>",
     "output_type": "error",
     "traceback": [
      "\u001b[0;31m---------------------------------------------------------------------------\u001b[0m",
      "\u001b[0;31mValueError\u001b[0m                                Traceback (most recent call last)",
      "\u001b[0;32m<ipython-input-256-e5eeb34ce0cf>\u001b[0m in \u001b[0;36m<module>\u001b[0;34m\u001b[0m\n\u001b[1;32m      1\u001b[0m \u001b[0mcammoun\u001b[0m \u001b[0;34m=\u001b[0m \u001b[0mnntdatasets\u001b[0m\u001b[0;34m.\u001b[0m\u001b[0mfetch_conte69\u001b[0m\u001b[0;34m(\u001b[0m\u001b[0;34m)\u001b[0m\u001b[0;34m\u001b[0m\u001b[0;34m\u001b[0m\u001b[0m\n\u001b[0;32m----> 2\u001b[0;31m \u001b[0minfo\u001b[0m \u001b[0;34m=\u001b[0m \u001b[0mpd\u001b[0m\u001b[0;34m.\u001b[0m\u001b[0mread_csv\u001b[0m\u001b[0;34m(\u001b[0m\u001b[0mcammoun\u001b[0m\u001b[0;34m[\u001b[0m\u001b[0;34m'info'\u001b[0m\u001b[0;34m]\u001b[0m\u001b[0;34m)\u001b[0m\u001b[0;34m\u001b[0m\u001b[0;34m\u001b[0m\u001b[0m\n\u001b[0m\u001b[1;32m      3\u001b[0m \u001b[0mlabels\u001b[0m \u001b[0;34m=\u001b[0m \u001b[0minfo\u001b[0m\u001b[0;34m.\u001b[0m\u001b[0mquery\u001b[0m\u001b[0;34m(\u001b[0m\u001b[0;34m'scale==\"scale033\"'\u001b[0m\u001b[0;34m)\u001b[0m\u001b[0;34m[\u001b[0m\u001b[0;34m'label'\u001b[0m\u001b[0;34m]\u001b[0m  \u001b[0;31m# or might be \"labels\"\u001b[0m\u001b[0;34m\u001b[0m\u001b[0;34m\u001b[0m\u001b[0m\n",
      "\u001b[0;32m/dagher/dagher11/filip/Software/miniconda/envs/R/lib/python3.7/site-packages/pandas/io/parsers.py\u001b[0m in \u001b[0;36mparser_f\u001b[0;34m(filepath_or_buffer, sep, delimiter, header, names, index_col, usecols, squeeze, prefix, mangle_dupe_cols, dtype, engine, converters, true_values, false_values, skipinitialspace, skiprows, skipfooter, nrows, na_values, keep_default_na, na_filter, verbose, skip_blank_lines, parse_dates, infer_datetime_format, keep_date_col, date_parser, dayfirst, cache_dates, iterator, chunksize, compression, thousands, decimal, lineterminator, quotechar, quoting, doublequote, escapechar, comment, encoding, dialect, error_bad_lines, warn_bad_lines, delim_whitespace, low_memory, memory_map, float_precision)\u001b[0m\n\u001b[1;32m    674\u001b[0m         )\n\u001b[1;32m    675\u001b[0m \u001b[0;34m\u001b[0m\u001b[0m\n\u001b[0;32m--> 676\u001b[0;31m         \u001b[0;32mreturn\u001b[0m \u001b[0m_read\u001b[0m\u001b[0;34m(\u001b[0m\u001b[0mfilepath_or_buffer\u001b[0m\u001b[0;34m,\u001b[0m \u001b[0mkwds\u001b[0m\u001b[0;34m)\u001b[0m\u001b[0;34m\u001b[0m\u001b[0;34m\u001b[0m\u001b[0m\n\u001b[0m\u001b[1;32m    677\u001b[0m \u001b[0;34m\u001b[0m\u001b[0m\n\u001b[1;32m    678\u001b[0m     \u001b[0mparser_f\u001b[0m\u001b[0;34m.\u001b[0m\u001b[0m__name__\u001b[0m \u001b[0;34m=\u001b[0m \u001b[0mname\u001b[0m\u001b[0;34m\u001b[0m\u001b[0;34m\u001b[0m\u001b[0m\n",
      "\u001b[0;32m/dagher/dagher11/filip/Software/miniconda/envs/R/lib/python3.7/site-packages/pandas/io/parsers.py\u001b[0m in \u001b[0;36m_read\u001b[0;34m(filepath_or_buffer, kwds)\u001b[0m\n\u001b[1;32m    429\u001b[0m     \u001b[0;31m# See https://github.com/python/mypy/issues/1297\u001b[0m\u001b[0;34m\u001b[0m\u001b[0;34m\u001b[0m\u001b[0;34m\u001b[0m\u001b[0m\n\u001b[1;32m    430\u001b[0m     fp_or_buf, _, compression, should_close = get_filepath_or_buffer(\n\u001b[0;32m--> 431\u001b[0;31m         \u001b[0mfilepath_or_buffer\u001b[0m\u001b[0;34m,\u001b[0m \u001b[0mencoding\u001b[0m\u001b[0;34m,\u001b[0m \u001b[0mcompression\u001b[0m\u001b[0;34m\u001b[0m\u001b[0;34m\u001b[0m\u001b[0m\n\u001b[0m\u001b[1;32m    432\u001b[0m     )\n\u001b[1;32m    433\u001b[0m     \u001b[0mkwds\u001b[0m\u001b[0;34m[\u001b[0m\u001b[0;34m\"compression\"\u001b[0m\u001b[0;34m]\u001b[0m \u001b[0;34m=\u001b[0m \u001b[0mcompression\u001b[0m\u001b[0;34m\u001b[0m\u001b[0;34m\u001b[0m\u001b[0m\n",
      "\u001b[0;32m/dagher/dagher11/filip/Software/miniconda/envs/R/lib/python3.7/site-packages/pandas/io/common.py\u001b[0m in \u001b[0;36mget_filepath_or_buffer\u001b[0;34m(filepath_or_buffer, encoding, compression, mode)\u001b[0m\n\u001b[1;32m    198\u001b[0m     \u001b[0;32mif\u001b[0m \u001b[0;32mnot\u001b[0m \u001b[0mis_file_like\u001b[0m\u001b[0;34m(\u001b[0m\u001b[0mfilepath_or_buffer\u001b[0m\u001b[0;34m)\u001b[0m\u001b[0;34m:\u001b[0m\u001b[0;34m\u001b[0m\u001b[0;34m\u001b[0m\u001b[0m\n\u001b[1;32m    199\u001b[0m         \u001b[0mmsg\u001b[0m \u001b[0;34m=\u001b[0m \u001b[0;34mf\"Invalid file path or buffer object type: {type(filepath_or_buffer)}\"\u001b[0m\u001b[0;34m\u001b[0m\u001b[0;34m\u001b[0m\u001b[0m\n\u001b[0;32m--> 200\u001b[0;31m         \u001b[0;32mraise\u001b[0m \u001b[0mValueError\u001b[0m\u001b[0;34m(\u001b[0m\u001b[0mmsg\u001b[0m\u001b[0;34m)\u001b[0m\u001b[0;34m\u001b[0m\u001b[0;34m\u001b[0m\u001b[0m\n\u001b[0m\u001b[1;32m    201\u001b[0m \u001b[0;34m\u001b[0m\u001b[0m\n\u001b[1;32m    202\u001b[0m     \u001b[0;32mreturn\u001b[0m \u001b[0mfilepath_or_buffer\u001b[0m\u001b[0;34m,\u001b[0m \u001b[0;32mNone\u001b[0m\u001b[0;34m,\u001b[0m \u001b[0mcompression\u001b[0m\u001b[0;34m,\u001b[0m \u001b[0;32mFalse\u001b[0m\u001b[0;34m\u001b[0m\u001b[0;34m\u001b[0m\u001b[0m\n",
      "\u001b[0;31mValueError\u001b[0m: Invalid file path or buffer object type: <class 'dict'>"
     ]
    }
   ],
   "source": [
    " cammoun = nntdatasets.fetch_conte69()\n",
    "info = pd.read_csv(cammoun['info'])\n",
    "labels = info.query('scale==\"scale033\"')['label']  # or might be \"labels\""
   ]
  },
  {
   "cell_type": "code",
   "execution_count": 258,
   "metadata": {},
   "outputs": [
    {
     "data": {
      "text/plain": [
       "Surface(lh='/home/bic/fmorys/nnt-data/tpl-conte69/tpl-conte69_space-MNI305_variant-fsLR32k_inflated.L.surf.gii', rh='/home/bic/fmorys/nnt-data/tpl-conte69/tpl-conte69_space-MNI305_variant-fsLR32k_inflated.R.surf.gii')"
      ]
     },
     "execution_count": 258,
     "metadata": {},
     "output_type": "execute_result"
    }
   ],
   "source": [
    "cammoun['inflated']"
   ]
  },
  {
   "cell_type": "code",
   "execution_count": 257,
   "metadata": {},
   "outputs": [
    {
     "data": {
      "text/plain": [
       "{'midthickness': Surface(lh='/home/bic/fmorys/nnt-data/tpl-conte69/tpl-conte69_space-MNI305_variant-fsLR32k_midthickness.L.surf.gii', rh='/home/bic/fmorys/nnt-data/tpl-conte69/tpl-conte69_space-MNI305_variant-fsLR32k_midthickness.R.surf.gii'),\n",
       " 'inflated': Surface(lh='/home/bic/fmorys/nnt-data/tpl-conte69/tpl-conte69_space-MNI305_variant-fsLR32k_inflated.L.surf.gii', rh='/home/bic/fmorys/nnt-data/tpl-conte69/tpl-conte69_space-MNI305_variant-fsLR32k_inflated.R.surf.gii'),\n",
       " 'vinflated': Surface(lh='/home/bic/fmorys/nnt-data/tpl-conte69/tpl-conte69_space-MNI305_variant-fsLR32k_vinflated.L.surf.gii', rh='/home/bic/fmorys/nnt-data/tpl-conte69/tpl-conte69_space-MNI305_variant-fsLR32k_vinflated.R.surf.gii'),\n",
       " 'info': {'Name': \"The 'Conte-69' template\",\n",
       "  'BIDSVersion': '1.1.0',\n",
       "  'ReferencesAndLinks': ['http://brainvis.wustl.edu/wiki/index.php//Caret:Atlases/Conte69_Atlas',\n",
       "   'David C. Van Essen, Matthew F. Glasser, Donna L. Dierker, John Harwell, Timothy Coalson; Parcellations and Hemispheric Asymmetries of Human Cerebral Cortex Analyzed on Surface-Based Atlases, Cerebral Cortex, Volume 22, Issue 10, 1 October 2012, Pages 2241–2262, https://doi.org/10.1093/cercor/bhr291']}}"
      ]
     },
     "execution_count": 257,
     "metadata": {},
     "output_type": "execute_result"
    }
   ],
   "source": [
    "cammoun"
   ]
  },
  {
   "cell_type": "code",
   "execution_count": null,
   "metadata": {},
   "outputs": [],
   "source": []
  }
 ],
 "metadata": {
  "kernelspec": {
   "display_name": "PythonR",
   "language": "python",
   "name": "pythonr"
  },
  "language_info": {
   "codemirror_mode": {
    "name": "ipython",
    "version": 3
   },
   "file_extension": ".py",
   "mimetype": "text/x-python",
   "name": "python",
   "nbconvert_exporter": "python",
   "pygments_lexer": "ipython3",
   "version": "3.9.13"
  }
 },
 "nbformat": 4,
 "nbformat_minor": 2
}
