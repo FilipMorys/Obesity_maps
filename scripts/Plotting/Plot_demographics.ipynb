{
 "cells": [
  {
   "cell_type": "code",
   "execution_count": 70,
   "id": "d27cea54",
   "metadata": {},
   "outputs": [],
   "source": [
    "library(ggplot2)\n",
    "library(gridExtra)\n",
    "library(ggpubr)"
   ]
  },
  {
   "cell_type": "markdown",
   "id": "006470db",
   "metadata": {},
   "source": [
    "# Read in data"
   ]
  },
  {
   "cell_type": "code",
   "execution_count": 15,
   "id": "5d32377a",
   "metadata": {},
   "outputs": [],
   "source": [
    "data_UKBB=read.csv('/dagher/dagher11/filip/MAPT_OB//data/dataset_excluded_nooutlierdexclusions.csv', header=T, quote='\"')\n",
    "data_ABCD=read.csv('/dagher/dagher11/filip/Obesity_maps/data/dataset_ABCD.csv',header=T, quote='\"', sep=',')\n",
    "data_HCP=read.csv('/dagher/dagher11/filip/Obesity_maps/data/dataset_HCP.csv',header=T, quote='\"', sep=',')\n",
    "data_HCPA=read.csv('/dagher/dagher11/filip/Obesity_maps/data/dataset_HCPA.csv',header=T, quote='\"', sep=',')"
   ]
  },
  {
   "cell_type": "code",
   "execution_count": 77,
   "id": "b66a9627",
   "metadata": {},
   "outputs": [],
   "source": [
    "data_ABCD$Age=data_ABCD$age_yrs\n",
    "data_UKBB$Age=data_UKBB$age_when_attended_assessment_centre_21003.2.0\n",
    "data_UKBB$BMI=data_UKBB$body_mass_index_bmi_21001.2.0\n",
    "data_ABCD$Dataset='ABCD'"
   ]
  },
  {
   "cell_type": "code",
   "execution_count": 35,
   "id": "e3079844",
   "metadata": {},
   "outputs": [],
   "source": [
    "data=rbind(data.frame('Age'=data_UKBB$Age, 'BMI'=data_UKBB$BMI, 'Dataset'='UKBB'),\n",
    "          data.frame('Age'=data_ABCD$Age, 'BMI'=data_ABCD$BMI, 'Dataset'='ABCD'),\n",
    "          data.frame('Age'=data_HCPA$Age, 'BMI'=data_HCPA$BMI, 'Dataset'='HCPA'),\n",
    "          data.frame('Age'=data_HCP$Age, 'BMI'=data_HCP$BMI, 'Dataset'='HCP'))"
   ]
  },
  {
   "cell_type": "code",
   "execution_count": 85,
   "id": "bbdc10cf",
   "metadata": {},
   "outputs": [],
   "source": [
    "age=ggplot(data=data, aes(x=Dataset, y=Age)) + geom_violin(width=1) + \n",
    "    theme_minimal() + \n",
    "    stat_summary(fun.data=mean_sdl, geom=\"pointrange\", color=\"black\")\n",
    "\n",
    "bmi=ggplot(data=data, aes(x=Dataset, y=BMI)) + geom_violin() + \n",
    "    theme_minimal() + \n",
    "    stat_summary(fun.data=mean_sdl, geom=\"pointrange\", color=\"black\")\n",
    "\n",
    "bmi_sd=ggplot(data=data_ABCD, aes(x=Dataset, y=BMI_SD)) + geom_violin() + \n",
    "    theme_minimal() + \n",
    "    stat_summary(fun.data=mean_sdl, geom=\"pointrange\", color=\"black\") + ylab('BMI SDS')"
   ]
  },
  {
   "cell_type": "code",
   "execution_count": 86,
   "id": "a8b67a91",
   "metadata": {},
   "outputs": [
    {
     "name": "stderr",
     "output_type": "stream",
     "text": [
      "Warning message:\n",
      "“\u001b[1m\u001b[22mRemoved 12 rows containing non-finite values (`stat_ydensity()`).”\n",
      "Warning message:\n",
      "“\u001b[1m\u001b[22mRemoved 12 rows containing non-finite values (`stat_summary()`).”\n",
      "Warning message:\n",
      "“\u001b[1m\u001b[22mRemoved 1215 rows containing non-finite values (`stat_ydensity()`).”\n",
      "Warning message:\n",
      "“\u001b[1m\u001b[22mRemoved 1215 rows containing non-finite values (`stat_summary()`).”\n",
      "Warning message:\n",
      "“\u001b[1m\u001b[22mRemoved 12 rows containing non-finite values (`stat_ydensity()`).”\n",
      "Warning message:\n",
      "“\u001b[1m\u001b[22mRemoved 12 rows containing non-finite values (`stat_summary()`).”\n"
     ]
    },
    {
     "data": {
      "text/html": [
       "<strong>png:</strong> 2"
      ],
      "text/latex": [
       "\\textbf{png:} 2"
      ],
      "text/markdown": [
       "**png:** 2"
      ],
      "text/plain": [
       "png \n",
       "  2 "
      ]
     },
     "metadata": {},
     "output_type": "display_data"
    }
   ],
   "source": [
    "tiff('/dagher/dagher11/filip/Obesity_maps/figures/age_bmi.tiff', height=3000, width=7000, res=300)\n",
    "ggarrange(age, bmi, bmi_sd,\n",
    "          labels = c(\"a\", \"b\",'c'),\n",
    "          ncol = 3, nrow = 1)\n",
    "dev.off()"
   ]
  },
  {
   "cell_type": "code",
   "execution_count": null,
   "id": "d888e453",
   "metadata": {},
   "outputs": [],
   "source": []
  }
 ],
 "metadata": {
  "kernelspec": {
   "display_name": "R4",
   "language": "R",
   "name": "r4"
  },
  "language_info": {
   "codemirror_mode": "r",
   "file_extension": ".r",
   "mimetype": "text/x-r-source",
   "name": "R",
   "pygments_lexer": "r",
   "version": "4.2.2"
  }
 },
 "nbformat": 4,
 "nbformat_minor": 5
}
