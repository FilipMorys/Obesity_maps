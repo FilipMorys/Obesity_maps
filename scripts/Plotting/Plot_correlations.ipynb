{
 "cells": [
  {
   "cell_type": "markdown",
   "id": "672c722a",
   "metadata": {},
   "source": [
    "# Read in the correlations"
   ]
  },
  {
   "cell_type": "code",
   "execution_count": 55,
   "id": "a2910c32",
   "metadata": {},
   "outputs": [],
   "source": [
    "library(officer)\n",
    "library(dplyr)\n",
    "library('statebins')"
   ]
  },
  {
   "cell_type": "code",
   "execution_count": 76,
   "id": "54952488",
   "metadata": {},
   "outputs": [],
   "source": [
    "ABCD=read.table('/dagher/dagher11/filip/Obesity_maps/data/ABCD_corrs.csv',sep=',',header=T)\n",
    "HCP=read.table('/dagher/dagher11/filip/Obesity_maps/data/HCP_corrs.csv', sep=',',header=T)\n",
    "UKBB=read.table('/dagher/dagher11/filip/Obesity_maps/data/UKBB_corrs.csv',sep=',',header=T)\n",
    "HCPA=read.table('/dagher/dagher11/filip/Obesity_maps/data/HCPA_corrs.csv',sep=',',header=T)"
   ]
  },
  {
   "cell_type": "code",
   "execution_count": 77,
   "id": "22dc178b",
   "metadata": {},
   "outputs": [],
   "source": [
    "# Identify rows to remove\n",
    "to_remove <- grepl(paste(c('genepc1', 'megalpha', 'megbeta', 'megdelta', 'meggamma1', 'meggamma2', \n",
    "                           'megtheta', 'megtimescale', 'myelinmap', 'thickness', 'fcgradient01', 'fcgradient02', \n",
    "                           'fcgradient03', 'fcgradient04', 'fcgradient05', 'fcgradient06', 'fcgradient07', \n",
    "                           'fcgradient08', 'fcgradient09', 'fcgradient10', 'intersubjvar', \n",
    "                           'cogpc1', 'cbf', 'cbv', 'cmr02', 'cmruglu', 'ucbj',\n",
    "                           'scalinghcp', 'scalingnih', 'scalingpnc', 'FChomology', 'SAaxis','evoexp','madam'), \n",
    "                         collapse='|'), ABCD$desc)\n",
    "\n",
    "# Remove rows\n",
    "ABCD <- ABCD[!to_remove, ]\n",
    "HCP <- HCP[!to_remove, ]\n",
    "UKBB <- UKBB[!to_remove, ]\n",
    "HCPA <- HCPA[!to_remove, ]\n"
   ]
  },
  {
   "cell_type": "code",
   "execution_count": 78,
   "id": "7a44f13c",
   "metadata": {},
   "outputs": [],
   "source": [
    "tracer_info <- data.frame(\n",
    "  neurotransmitter = c(\"VAChT\", \"D2\", \"VAChT\", \"5HT1b\", \"5HT2a\", \"5HT1a\", \"5HTT\", \"5HT4\", \"NET\", \"mGluR5\",\n",
    "                       \"GABAa\", \"DAT\", \"5HT1b\", \"H3\", \"NET\", \"a4b2 NR\", \"D2\", \"D1\", \"MOR\", \n",
    "                       \"CB1\", \"M1\", \"GABAa\", \"CB1\", \"5HT6\", \"mGluR5\", \"D2\", \"DAT\", \"5HT2a\", \"5HTT\", \"5HT1b\", \n",
    "                       \"5HT1a\", \"mGluR5\", \"D2\", \"VAChT\", \"MOR\")\n",
    ")\n",
    "tracer_info <- tracer_info %>%\n",
    "  group_by(neurotransmitter) %>%\n",
    "  mutate(id = row_number()) %>%\n",
    "  ungroup() %>%\n",
    "  mutate(neurotransmitter = ifelse(id > 1, paste(neurotransmitter, id, sep = \"_\"), neurotransmitter)) %>%\n",
    "  select(-id)"
   ]
  },
  {
   "cell_type": "code",
   "execution_count": 79,
   "id": "c0ec136b",
   "metadata": {},
   "outputs": [],
   "source": [
    "ABCD$NT=tracer_info$neurotransmitter\n",
    "HCP$NT=tracer_info$neurotransmitter\n",
    "UKBB$NT=tracer_info$neurotransmitter\n",
    "HCPA$NT=tracer_info$neurotransmitter\n"
   ]
  },
  {
   "cell_type": "code",
   "execution_count": 80,
   "id": "aab6f098",
   "metadata": {},
   "outputs": [
    {
     "data": {
      "text/html": [
       "<strong>png:</strong> 2"
      ],
      "text/latex": [
       "\\textbf{png:} 2"
      ],
      "text/markdown": [
       "**png:** 2"
      ],
      "text/plain": [
       "png \n",
       "  2 "
      ]
     },
     "metadata": {},
     "output_type": "display_data"
    }
   ],
   "source": [
    "# Load required libraries\n",
    "library(ggplot2)\n",
    "library(reshape2)\n",
    "\n",
    "# Rename columns for easier access\n",
    "colnames(ABCD) <- c('source',\"measure\", \"coefficient\", \"p_value\",'NT')\n",
    "colnames(HCP) <- c('source',\"measure\", \"coefficient\", \"p_value\",'NT')\n",
    "colnames(UKBB) <- c('source',\"measure\", \"coefficient\", \"p_value\",'NT')\n",
    "colnames(HCPA) <- c('source',\"measure\", \"coefficient\", \"p_value\",'NT')\n",
    "\n",
    "\n",
    "# Create a new column for significance (p-value < 0.05)\n",
    "ABCD$significant <- ABCD$p_value < 0.05\n",
    "HCP$significant <- HCP$p_value < 0.05\n",
    "UKBB$significant <- UKBB$p_value < 0.05\n",
    "HCPA$significant <- HCPA$p_value < 0.05\n",
    "\n",
    "# Combine the datasets\n",
    "ABCD$dataset <- \"ABCD\"\n",
    "HCP$dataset <- \"HCP\"\n",
    "UKBB$dataset <- \"UKB\"\n",
    "HCPA$dataset <- \"HCPA\"\n",
    "\n",
    "sorted_ukbb <- UKBB[order(-UKBB$coefficient), ]\n",
    "UKBB$NT <- factor(UKBB$NT, levels = sorted_ukbb$NT)\n",
    "HCP$NT <- factor(HCP$NT, levels = sorted_ukbb$NT)\n",
    "ABCD$NT <- factor(ABCD$NT, levels = sorted_ukbb$NT)\n",
    "HCPA$NT <- factor(HCPA$NT, levels = sorted_ukbb$NT)\n",
    "\n",
    "all_data <- rbind(ABCD, HCP, HCPA, UKBB)\n",
    "\n",
    "tiff('/dagher/dagher11/filip/Obesity_maps/Corr_plot_NT.tif',width=2500,height=3000, res=300)\n",
    "# Create the plot\n",
    "ggplot(all_data, aes(x = dataset, y = NT, fill = coefficient, label = ifelse(significant, \"*\", \"\"))) +\n",
    "  statebins:::geom_rtile(radius = unit(3, \"mm\")) +\n",
    "  scale_fill_gradient2(low = \"blue\", mid = \"white\", high = \"red\", midpoint = 0) +\n",
    "  geom_text(color = \"black\") +\n",
    "  theme_minimal() +\n",
    "  labs(x = \"Sample\", y = \"NT system\", title = \"\") +\n",
    "  theme(axis.text.x = element_text(angle = 90, hjust = 1))\n",
    "dev.off()"
   ]
  },
  {
   "cell_type": "code",
   "execution_count": 38,
   "id": "ddf480ff",
   "metadata": {},
   "outputs": [],
   "source": [
    "all_data$significant=NULL\n",
    "all_data$measure=NULL"
   ]
  },
  {
   "cell_type": "code",
   "execution_count": 42,
   "id": "f595d69c",
   "metadata": {},
   "outputs": [],
   "source": [
    "doc <- read_docx()\n",
    "all_data[, sapply(all_data, is.numeric)] <- round(all_data[, sapply(all_data, is.numeric)], 4)\n",
    "doc <- doc %>%\n",
    "  body_add_table(as.data.frame(all_data))\n",
    "\n",
    "print(doc, target = \"/dagher/dagher11/filip/Obesity_maps/tables/All_corrs.docx\")"
   ]
  }
 ],
 "metadata": {
  "kernelspec": {
   "display_name": "R4",
   "language": "R",
   "name": "r4"
  },
  "language_info": {
   "codemirror_mode": "r",
   "file_extension": ".r",
   "mimetype": "text/x-r-source",
   "name": "R",
   "pygments_lexer": "r",
   "version": "4.2.2"
  }
 },
 "nbformat": 4,
 "nbformat_minor": 5
}
