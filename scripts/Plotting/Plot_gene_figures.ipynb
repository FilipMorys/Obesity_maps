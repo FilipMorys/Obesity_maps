{
 "cells": [
  {
   "cell_type": "markdown",
   "id": "9a433007",
   "metadata": {},
   "source": [
    "## Read in data files from WebGestalt"
   ]
  },
  {
   "cell_type": "code",
   "execution_count": 2,
   "id": "af243f0c",
   "metadata": {},
   "outputs": [],
   "source": [
    "library('ggplot2')\n",
    "library('viridis')\n",
    "library('ggpubr')\n",
    "library('colorspace')\n",
    "library('pals')\n",
    "library('ggchicklet')"
   ]
  },
  {
   "cell_type": "code",
   "execution_count": 3,
   "id": "48be0e2f",
   "metadata": {},
   "outputs": [
    {
     "name": "stderr",
     "output_type": "stream",
     "text": [
      "Warning message in file(file, \"rt\"):\n",
      "“cannot open file '/dagher/dagher11/filip/Obesity_maps/HCPA/GSEA_biol_proc.txt': No such file or directory”\n"
     ]
    },
    {
     "ename": "ERROR",
     "evalue": "Error in file(file, \"rt\"): cannot open the connection\n",
     "output_type": "error",
     "traceback": [
      "Error in file(file, \"rt\"): cannot open the connection\nTraceback:\n",
      "1. read.table(paste(\"/dagher/dagher11/filip/Obesity_maps/HCPA/\", \n .     files[i], sep = \"\"), sep = \"\\t\", header = T)",
      "2. file(file, \"rt\")"
     ]
    }
   ],
   "source": [
    "files=c('OEA_pos_biol_proc.txt','OEA_pos_cell_comp.txt', 'OEA_neg_biol_proc.txt', 'OEA_neg_cell_comp.txt',\n",
    "       'GSEA_biol_proc.txt', 'GSEA_cell_comp.txt')\n",
    "\n",
    "data=list()\n",
    "\n",
    "for (i in 1:6){\n",
    "    data[[i]]=read.table(paste('/dagher/dagher11/filip/Obesity_maps/HCPA/',files[i],sep=''), sep='\\t', header=T)\n",
    "}\n"
   ]
  },
  {
   "cell_type": "code",
   "execution_count": 4,
   "id": "c1749300",
   "metadata": {},
   "outputs": [],
   "source": [
    "OEA_plot=list()\n",
    "\n",
    "ylabs=c('Positive genes biological process', 'Positive genes cell compartment',\n",
    "       'Negative genes biological process','Negative genes cell compartment')\n",
    "\n",
    "for (i in 1:4){\n",
    "    OEA_plot[[i]]=ggplot(data=data[[i]], \n",
    "                         aes(y=enrichmentRatio, x=reorder(description, enrichmentRatio), fill=FDR)) + \n",
    "    geom_chicklet(radius = grid::unit(5, 'mm')) +\n",
    "    #geom_bar(stat='identity') +\n",
    "    scale_fill_gradientn(colours=pals::kovesi.linear_blue_5_95_c73(100))  +   \n",
    "    coord_flip() +\n",
    "    xlab(ylabs[i]) +\n",
    "    ylab('Enrichment Ratio') +\n",
    "    theme_minimal() +\n",
    "    theme(text = element_text(size = 15))  \n",
    "    }"
   ]
  },
  {
   "cell_type": "code",
   "execution_count": 5,
   "id": "1685cb12",
   "metadata": {},
   "outputs": [
    {
     "data": {
      "text/html": [
       "<strong>png:</strong> 2"
      ],
      "text/latex": [
       "\\textbf{png:} 2"
      ],
      "text/markdown": [
       "**png:** 2"
      ],
      "text/plain": [
       "png \n",
       "  2 "
      ]
     },
     "metadata": {},
     "output_type": "display_data"
    }
   ],
   "source": [
    "tiff('/dagher/dagher11/filip/Obesity_maps/HCPA/OEA_plots.tif', \n",
    "     width=60, height=30, units='cm', res=300)\n",
    "\n",
    "figure1 <- ggarrange(OEA_plot[[1]], OEA_plot[[2]], OEA_plot[[3]], OEA_plot[[4]],\n",
    "                    labels = c(\"a\", \"b\", \"c\", \"d\"),\n",
    "                    ncol = 2, nrow = 2)\n",
    "figure1\n",
    "dev.off()"
   ]
  },
  {
   "cell_type": "code",
   "execution_count": 6,
   "id": "75e66e56",
   "metadata": {},
   "outputs": [],
   "source": [
    "GSEA_plot=list()\n",
    "\n",
    "ylabs=c('GSEA biological process', 'GSEA cell compartment')\n",
    "\n",
    "for (i in 5:6){\n",
    "    GSEA_plot[[i]]=ggplot(data=data[[i]], \n",
    "                         aes(y=enrichmentScore, x=reorder(description, enrichmentScore), fill=FDR)) + \n",
    "    geom_bar(stat='identity') +\n",
    "    scale_fill_gradientn(colours=pals::parula(100))  +   \n",
    "    coord_flip() +\n",
    "    xlab(ylabs[i-4]) +\n",
    "    ylab('Enrichment Ratio') +\n",
    "    theme_minimal() +\n",
    "    theme(text = element_text(size = 15))  \n",
    "    }"
   ]
  },
  {
   "cell_type": "code",
   "execution_count": 7,
   "id": "eaf5e2ae",
   "metadata": {},
   "outputs": [
    {
     "data": {
      "text/html": [
       "<strong>png:</strong> 2"
      ],
      "text/latex": [
       "\\textbf{png:} 2"
      ],
      "text/markdown": [
       "**png:** 2"
      ],
      "text/plain": [
       "png \n",
       "  2 "
      ]
     },
     "metadata": {},
     "output_type": "display_data"
    }
   ],
   "source": [
    "tiff('/dagher/dagher11/filip/Obesity_maps/Final_results/GSEA_plots.tif', \n",
    "     width=60, height=30, units='cm', res=300)\n",
    "\n",
    "figure1 <- ggarrange(GSEA_plot[[5]], GSEA_plot[[6]],\n",
    "                    labels = c(\"a\", \"b\"),\n",
    "                    ncol = 2, nrow = 1)\n",
    "figure1\n",
    "dev.off()"
   ]
  }
 ],
 "metadata": {
  "kernelspec": {
   "display_name": "R4",
   "language": "R",
   "name": "r4"
  },
  "language_info": {
   "codemirror_mode": "r",
   "file_extension": ".r",
   "mimetype": "text/x-r-source",
   "name": "R",
   "pygments_lexer": "r",
   "version": "4.2.2"
  }
 },
 "nbformat": 4,
 "nbformat_minor": 5
}
