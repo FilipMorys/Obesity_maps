{
 "cells": [
  {
   "cell_type": "markdown",
   "metadata": {},
   "source": [
    "# Read in data"
   ]
  },
  {
   "cell_type": "code",
   "execution_count": 1,
   "metadata": {},
   "outputs": [],
   "source": [
    "HCP=read.table('/dagher/dagher11/filip/HCP_beh//RESTRICTED_uku_7_10_2017_9_43_31.csv',sep=',',header=T)\n",
    "HCP_u=read.table('/dagher/dagher11/filip/HCP_beh//unrestricted_uku_7_10_2017_9_42_13.csv',sep=',',header=T)\n",
    "QC=read.table('/dagher/dagher11/filip/HCP_QC/HCP/QC_sbatch/HCP.csv',sep=',',header=T)\n",
    "QC=QC[, 1:2]\n",
    "colnames(QC)=c('Subject','QC')"
   ]
  },
  {
   "cell_type": "markdown",
   "metadata": {},
   "source": [
    "# Merge datasets"
   ]
  },
  {
   "cell_type": "code",
   "execution_count": 2,
   "metadata": {},
   "outputs": [],
   "source": [
    "All_data=merge(HCP,HCP_u, by='Subject')\n",
    "All_data=merge(All_data,QC, by='Subject', all.x=T)"
   ]
  },
  {
   "cell_type": "markdown",
   "metadata": {},
   "source": [
    "# Create initial FSGD"
   ]
  },
  {
   "cell_type": "code",
   "execution_count": 3,
   "metadata": {},
   "outputs": [],
   "source": [
    "FSGD=data.frame('Variables'='Input', 'Subject'=All_data$Subject, 'Class'='main', 'BMI'=All_data$BMI, \n",
    "                'Sex'=All_data$Gender, 'Age'=All_data$Age_in_Yrs, 'QC'=All_data$QC, 'FID'=All_data$Family_ID,\n",
    "                'Zyg'=All_data$ZygositySR, 'Ethnicity'=All_data$Ethnicity, 'Edu'=All_data$SSAGA_Educ,\n",
    "                'Income'=All_data$SSAGA_Income, 'Hypothyroid'=All_data$Hypothyroidism, \n",
    "                'Hyperthyroid'=All_data$Hyperthyroidism, 'Endocrine'=All_data$OtherEndocrn_Prob)\n",
    "\n",
    "FSGD[is.na(FSGD)] <- 0 # This is fine because I exclude participants who have 0 in QC and \n",
    "                        # leave participants who have 1 in diseases\n"
   ]
  },
  {
   "cell_type": "markdown",
   "metadata": {},
   "source": [
    "# Exclude participants who did not pass CT QC"
   ]
  },
  {
   "cell_type": "code",
   "execution_count": 4,
   "metadata": {},
   "outputs": [],
   "source": [
    "FSGD=FSGD[FSGD$QC==1,]\n",
    "FSGD$QC=NULL"
   ]
  },
  {
   "cell_type": "markdown",
   "metadata": {},
   "source": [
    "## Exclude one of each twin pair"
   ]
  },
  {
   "cell_type": "code",
   "execution_count": 5,
   "metadata": {},
   "outputs": [],
   "source": [
    "FSGD_nt=FSGD[FSGD$Zyg=='NotTwin',]\n",
    "FSGD_t=FSGD[(FSGD$Zyg=='MZ' | FSGD$Zyg=='NotMZ'),]\n",
    "FSGD_t=FSGD_t[!duplicated(FSGD_t$FID),]\n",
    "FSGD=rbind(FSGD_nt,FSGD_t)"
   ]
  },
  {
   "cell_type": "markdown",
   "metadata": {},
   "source": [
    "# Exclude people with endocrine issues"
   ]
  },
  {
   "cell_type": "code",
   "execution_count": 6,
   "metadata": {},
   "outputs": [],
   "source": [
    "FSGD=FSGD[FSGD$Hypothyroid==0,]\n",
    "FSGD=FSGD[FSGD$Hyperthyroid==0,]\n",
    "FSGD=FSGD[FSGD$Endocrine==0,]"
   ]
  },
  {
   "cell_type": "markdown",
   "metadata": {},
   "source": [
    "# Remove unnecessary columns"
   ]
  },
  {
   "cell_type": "code",
   "execution_count": 7,
   "metadata": {},
   "outputs": [
    {
     "name": "stderr",
     "output_type": "stream",
     "text": [
      "Warning message in eval(expr, envir, enclos):\n",
      "“NAs introduced by coercion”\n"
     ]
    }
   ],
   "source": [
    "FSGD$FID=NULL\n",
    "FSGD$Zyg=NULL\n",
    "FSGD$Hypothyroid=NULL\n",
    "FSGD$Hyperthyroid=NULL\n",
    "FSGD$Endocrine=NULL\n",
    "FSGD$Ethnicity=NULL\n",
    "FSGD$Sex=as.numeric(FSGD$Sex)"
   ]
  },
  {
   "cell_type": "code",
   "execution_count": 11,
   "metadata": {},
   "outputs": [
    {
     "data": {
      "text/html": [
       "814"
      ],
      "text/latex": [
       "814"
      ],
      "text/markdown": [
       "814"
      ],
      "text/plain": [
       "[1] 814"
      ]
     },
     "metadata": {},
     "output_type": "display_data"
    }
   ],
   "source": [
    "length(FSGD$Age)"
   ]
  },
  {
   "cell_type": "markdown",
   "metadata": {},
   "source": [
    "# Save FSGD"
   ]
  },
  {
   "cell_type": "code",
   "execution_count": 246,
   "metadata": {},
   "outputs": [],
   "source": [
    "write.table(FSGD, '/dagher/dagher11/filip/Obesity_maps/data/analysis_noethn.fsgd', sep='\\t', quote=F, row.names=F)"
   ]
  }
 ],
 "metadata": {
  "kernelspec": {
   "display_name": "R",
   "language": "R",
   "name": "ir"
  },
  "language_info": {
   "codemirror_mode": "r",
   "file_extension": ".r",
   "mimetype": "text/x-r-source",
   "name": "R",
   "pygments_lexer": "r",
   "version": "4.1.0"
  }
 },
 "nbformat": 4,
 "nbformat_minor": 2
}
