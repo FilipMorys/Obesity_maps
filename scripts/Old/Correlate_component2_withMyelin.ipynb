{
 "cells": [
  {
   "cell_type": "code",
   "execution_count": 76,
   "id": "addcfe08",
   "metadata": {},
   "outputs": [],
   "source": [
    "import nibabel as nib\n",
    "from neuromaps.datasets import available_annotations\n",
    "from neuromaps import datasets\n",
    "from neuromaps.resampling import resample_images\n",
    "from neuromaps import parcellate\n",
    "from nilearn.datasets import fetch_atlas_surf_destrieux\n",
    "from neuromaps import datasets, images, nulls, resampling, plotting\n",
    "from neuromaps.datasets import fetch_annotation\n",
    "from neuromaps import transforms\n",
    "from neuromaps.stats import compare_images\n",
    "from brainspace.plotting import plot_surf\n",
    "import numpy as np\n",
    "from nibabel import freesurfer\n",
    "from nibabel import gifti"
   ]
  },
  {
   "cell_type": "code",
   "execution_count": 50,
   "id": "94a1ba95",
   "metadata": {},
   "outputs": [],
   "source": [
    "C2_LH=list(['/dagher/dagher11/filip/Obesity_maps/data/component2.gii', \n",
    "            '/dagher/dagher11/filip/Obesity_maps/data/component2.gii'])"
   ]
  },
  {
   "cell_type": "code",
   "execution_count": 51,
   "id": "baa063c9",
   "metadata": {},
   "outputs": [
    {
     "data": {
      "text/plain": [
       "['/dagher/dagher11/filip/Obesity_maps/data/component2.gii',\n",
       " '/dagher/dagher11/filip/Obesity_maps/data/component2.gii']"
      ]
     },
     "execution_count": 51,
     "metadata": {},
     "output_type": "execute_result"
    }
   ],
   "source": [
    "C2_LH"
   ]
  },
  {
   "cell_type": "code",
   "execution_count": 53,
   "id": "9da37a55",
   "metadata": {
    "scrolled": true
   },
   "outputs": [
    {
     "data": {
      "text/plain": [
       "[('abagen', 'genepc1', 'fsaverage', '10k'),\n",
       " ('aghourian2017', 'feobv', 'MNI152', '1mm'),\n",
       " ('alarkurtti2015', 'raclopride', 'MNI152', '3mm'),\n",
       " ('bedard2019', 'feobv', 'MNI152', '1mm'),\n",
       " ('beliveau2017', 'az10419369', 'MNI152', '1mm'),\n",
       " ('beliveau2017', 'cimbi36', 'MNI152', '1mm'),\n",
       " ('beliveau2017', 'cumi101', 'MNI152', '1mm'),\n",
       " ('beliveau2017', 'dasb', 'MNI152', '1mm'),\n",
       " ('beliveau2017', 'sb207145', 'MNI152', '1mm'),\n",
       " ('ding2010', 'mrb', 'MNI152', '1mm'),\n",
       " ('dubois2015', 'abp688', 'MNI152', '1mm'),\n",
       " ('dukart2018', 'flumazenil', 'MNI152', '3mm'),\n",
       " ('dukart2018', 'fpcit', 'MNI152', '3mm'),\n",
       " ('fazio2016', 'madam', 'MNI152', '3mm'),\n",
       " ('finnema2016', 'ucbj', 'MNI152', '1mm'),\n",
       " ('gallezot2010', 'p943', 'MNI152', '1mm'),\n",
       " ('gallezot2017', 'gsk189254', 'MNI152', '1mm'),\n",
       " ('hcps1200', 'megalpha', 'fsLR', '4k'),\n",
       " ('hcps1200', 'megbeta', 'fsLR', '4k'),\n",
       " ('hcps1200', 'megdelta', 'fsLR', '4k'),\n",
       " ('hcps1200', 'meggamma1', 'fsLR', '4k'),\n",
       " ('hcps1200', 'meggamma2', 'fsLR', '4k'),\n",
       " ('hcps1200', 'megtheta', 'fsLR', '4k'),\n",
       " ('hcps1200', 'megtimescale', 'fsLR', '4k'),\n",
       " ('hcps1200', 'myelinmap', 'fsLR', '32k'),\n",
       " ('hcps1200', 'thickness', 'fsLR', '32k'),\n",
       " ('hesse2017', 'methylreboxetine', 'MNI152', '3mm'),\n",
       " ('hill2010', 'devexp', 'fsLR', '164k'),\n",
       " ('hill2010', 'evoexp', 'fsLR', '164k'),\n",
       " ('hillmer2016', 'flubatine', 'MNI152', '1mm'),\n",
       " ('jaworska2020', 'fallypride', 'MNI152', '1mm'),\n",
       " ('kaller2017', 'sch23390', 'MNI152', '3mm'),\n",
       " ('kantonen2020', 'carfentanil', 'MNI152', '3mm'),\n",
       " ('laurikainen2018', 'fmpepd2', 'MNI152', '1mm'),\n",
       " ('margulies2016', 'fcgradient01', 'fsLR', '32k'),\n",
       " ('margulies2016', 'fcgradient02', 'fsLR', '32k'),\n",
       " ('margulies2016', 'fcgradient03', 'fsLR', '32k'),\n",
       " ('margulies2016', 'fcgradient04', 'fsLR', '32k'),\n",
       " ('margulies2016', 'fcgradient05', 'fsLR', '32k'),\n",
       " ('margulies2016', 'fcgradient06', 'fsLR', '32k'),\n",
       " ('margulies2016', 'fcgradient07', 'fsLR', '32k'),\n",
       " ('margulies2016', 'fcgradient08', 'fsLR', '32k'),\n",
       " ('margulies2016', 'fcgradient09', 'fsLR', '32k'),\n",
       " ('margulies2016', 'fcgradient10', 'fsLR', '32k'),\n",
       " ('mueller2013', 'intersubjvar', 'fsLR', '164k'),\n",
       " ('naganawa2020', 'lsn3172176', 'MNI152', '1mm'),\n",
       " ('neurosynth', 'cogpc1', 'MNI152', '2mm'),\n",
       " ('norgaard2020', 'flumazenil', 'MNI152', '1mm'),\n",
       " ('normandin2015', 'omar', 'MNI152', '1mm'),\n",
       " ('radnakrishnan2018', 'gsk215083', 'MNI152', '1mm'),\n",
       " ('raichle', 'cbf', 'fsLR', '164k'),\n",
       " ('raichle', 'cbv', 'fsLR', '164k'),\n",
       " ('raichle', 'cmr02', 'fsLR', '164k'),\n",
       " ('raichle', 'cmruglu', 'fsLR', '164k'),\n",
       " ('reardon2018', 'scalinghcp', 'civet', '41k'),\n",
       " ('reardon2018', 'scalingnih', 'civet', '41k'),\n",
       " ('reardon2018', 'scalingpnc', 'civet', '41k'),\n",
       " ('rosaneto', 'abp688', 'MNI152', '1mm'),\n",
       " ('sandiego2015', 'flb457', 'MNI152', '1mm'),\n",
       " ('sasaki2012', 'fepe2i', 'MNI152', '1mm'),\n",
       " ('satterthwaite2014', 'meancbf', 'MNI152', '1mm'),\n",
       " ('savli2012', 'altanserin', 'MNI152', '3mm'),\n",
       " ('savli2012', 'dasb', 'MNI152', '3mm'),\n",
       " ('savli2012', 'p943', 'MNI152', '3mm'),\n",
       " ('savli2012', 'way100635', 'MNI152', '3mm'),\n",
       " ('smart2019', 'abp688', 'MNI152', '1mm'),\n",
       " ('smith2017', 'flb457', 'MNI152', '1mm'),\n",
       " ('sydnor2021', 'SAaxis', 'fsLR', '32k'),\n",
       " ('tuominen', 'feobv', 'MNI152', '2mm'),\n",
       " ('turtonen2020', 'carfentanil', 'MNI152', '1mm'),\n",
       " ('xu2020', 'FChomology', 'fsLR', '32k'),\n",
       " ('xu2020', 'evoexp', 'fsLR', '32k')]"
      ]
     },
     "execution_count": 53,
     "metadata": {},
     "output_type": "execute_result"
    }
   ],
   "source": [
    "available_annotations()"
   ]
  },
  {
   "cell_type": "code",
   "execution_count": 114,
   "id": "32f371df",
   "metadata": {},
   "outputs": [
    {
     "name": "stdout",
     "output_type": "stream",
     "text": [
      "Downloading data from https://files.osf.io/v1/resources/4mw3a/providers/osfstorage/60b684ab9096b7021b63cf6b ...\n"
     ]
    },
    {
     "name": "stderr",
     "output_type": "stream",
     "text": [
      " ...done. (3 seconds, 0 min)\n",
      "Extracting data from /home/bic/fmorys/neuromaps-data/e38b96d96273aa064c22296eda1e5688/fsaverage10k.tar.gz..... done.\n"
     ]
    },
    {
     "name": "stdout",
     "output_type": "stream",
     "text": [
      "(-0.4010491793058411, 0.5)\n"
     ]
    }
   ],
   "source": [
    "brain_map=datasets.fetch_annotation(source='abagen', desc='genepc1')\n",
    "C2_res, brain_map_res = resample_images(src=C2_LH, trg=brain_map, src_space='fsaverage', \n",
    "                                                trg_space='fsaverage', method='linear', \n",
    "                                                resampling='transform_to_src')\n",
    "rotated = nulls.alexander_bloch(C2_res, atlas='fsaverage', density='164k', n_perm=1000, seed=1234)\n",
    "corr = compare_images(C2_res, brain_map_res, metric='pearsonr', nulls=rotated)\n",
    "print(corr)\n"
   ]
  },
  {
   "cell_type": "code",
   "execution_count": 117,
   "id": "e9dddeac",
   "metadata": {
    "scrolled": true
   },
   "outputs": [
    {
     "name": "stdout",
     "output_type": "stream",
     "text": [
      "(-0.5514755965697904, 0.054945054945054944)\n"
     ]
    }
   ],
   "source": [
    "brain_map=datasets.fetch_annotation(source='margulies2016', desc='fcgradient02')\n",
    "C2_res, brain_map_res = resample_images(src=C2_LH, trg=brain_map, src_space='fsaverage', \n",
    "                                                trg_space='fsLR', method='linear', \n",
    "                                                resampling='transform_to_src')\n",
    "rotated = nulls.alexander_bloch(C2_res, atlas='fsaverage', density='164k', n_perm=1000, seed=1234)\n",
    "corr = compare_images(C2_res, brain_map_res, metric='pearsonr', nulls=rotated)\n",
    "print(corr)\n"
   ]
  },
  {
   "cell_type": "code",
   "execution_count": 115,
   "id": "fe2b20b7",
   "metadata": {},
   "outputs": [
    {
     "name": "stdout",
     "output_type": "stream",
     "text": [
      "(0.20785626603522145, 0.5)\n"
     ]
    }
   ],
   "source": [
    "brain_map=datasets.fetch_annotation(source='hcps1200', desc='thickness')\n",
    "C2_res, brain_map_res = resample_images(src=C2_LH, trg=brain_map, src_space='fsaverage', \n",
    "                                                trg_space='fsLR', method='linear', \n",
    "                                                resampling='transform_to_src')\n",
    "rotated = nulls.alexander_bloch(C2_res, atlas='fsaverage', density='164k', n_perm=1, seed=1234)\n",
    "corr = compare_images(C2_res, brain_map_res, metric='pearsonr', nulls=rotated)\n",
    "print(corr)"
   ]
  },
  {
   "cell_type": "code",
   "execution_count": 110,
   "id": "0192425d",
   "metadata": {},
   "outputs": [
    {
     "data": {
      "image/png": "[encoded data removed]",
      "text/plain": [
       "<Figure size 470x400 with 2 Axes>"
      ]
     },
     "execution_count": 110,
     "metadata": {},
     "output_type": "execute_result"
    },
    {
     "data": {
      "image/png": "[encoded data removed]",
      "text/plain": [
       "<Figure size 470x400 with 2 Axes>"
      ]
     },
     "metadata": {},
     "output_type": "display_data"
    }
   ],
   "source": [
    "import nilearn\n",
    "\n",
    "nilearn.plotting.plot_surf_stat_map(surf_mesh='/home/bic/fmorys/neuromaps-data/atlases/fsaverage/tpl-fsaverage_den-164k_hemi-L_white.surf.gii', \n",
    "                                    stat_map='/dagher/dagher11/filip/Obesity_maps/data/component2.gii', \n",
    "                                    hemi='left',\n",
    "                                    view=('medial'))"
   ]
  },
  {
   "cell_type": "code",
   "execution_count": null,
   "id": "9e02f0ac",
   "metadata": {},
   "outputs": [],
   "source": []
  }
 ],
 "metadata": {
  "kernelspec": {
   "display_name": "Python py3",
   "language": "python",
   "name": "py3"
  },
  "language_info": {
   "codemirror_mode": {
    "name": "ipython",
    "version": 3
   },
   "file_extension": ".py",
   "mimetype": "text/x-python",
   "name": "python",
   "nbconvert_exporter": "python",
   "pygments_lexer": "ipython3",
   "version": "3.10.8"
  }
 },
 "nbformat": 4,
 "nbformat_minor": 5
}
