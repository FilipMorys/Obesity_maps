{
 "cells": [
  {
   "cell_type": "markdown",
   "id": "0c1ed7a4",
   "metadata": {},
   "source": [
    "# Cell types analysis\n",
    "\n",
    "https://www.ncbi.nlm.nih.gov/pmc/articles/PMC7335069/"
   ]
  },
  {
   "cell_type": "markdown",
   "id": "4b47fac1",
   "metadata": {},
   "source": [
    "## Read in BMI data only for the left hemi (because AHBA)"
   ]
  },
  {
   "cell_type": "code",
   "execution_count": 2,
   "id": "599b3859",
   "metadata": {},
   "outputs": [
    {
     "name": "stderr",
     "output_type": "stream",
     "text": [
      "/dagher/dagher12/filip/software/miniconda3py/envs/py3/lib/python3.10/site-packages/nilearn/input_data/__init__.py:27: FutureWarning: The import path 'nilearn.input_data' is deprecated in version 0.9. Importing from 'nilearn.input_data' will be possible at least until release 0.13.0. Please import from 'nilearn.maskers' instead.\n",
      "  warnings.warn(message, FutureWarning)\n"
     ]
    }
   ],
   "source": [
    "import nibabel as nib\n",
    "from neuromaps.datasets import available_annotations\n",
    "from neuromaps import datasets\n",
    "from neuromaps.resampling import resample_images\n",
    "from neuromaps import parcellate\n",
    "from nilearn.datasets import fetch_atlas_surf_destrieux\n",
    "from neuromaps import datasets, images, nulls, resampling, plotting\n",
    "from neuromaps.datasets import fetch_annotation\n",
    "from neuromaps import transforms\n",
    "from neuromaps.stats import compare_images\n",
    "#from brainspace.plotting import plot_surf\n",
    "import numpy as np\n",
    "from nibabel import freesurfer\n",
    "\n",
    "# Read the basic files\n",
    "\n",
    "BMI_HCP=list(['/dagher/dagher11/filip/Obesity_maps/data/BMI_lh.gii'])\n",
    "\n",
    "BMI_ctx=transforms.fsaverage_to_fsaverage(BMI_HCP, '164k', hemi='L')\n",
    "\n",
    "# Read mask of medial wall for fsaverage\n",
    "\n",
    "medwall_idx_fsaverage_lh=(freesurfer.io.read_label('/dagher/dagher10/yyau/toolbox/freesurfer/subjects/fsaverage/label/lh.Medial_wall.label',\n",
    "                        read_scalars=False))\n",
    "\n",
    "\n",
    "# Set all vertices of medial wall to nan\n",
    "\n",
    "BMI_ctx[0].agg_data()[medwall_idx_fsaverage_lh] = np.nan\n",
    "BMI=BMI_ctx[0].agg_data()"
   ]
  },
  {
   "cell_type": "markdown",
   "id": "fa54620b",
   "metadata": {},
   "source": [
    "## Read in Cammoun 125 template annot file for lh (because AHBA has data for lh mostly)"
   ]
  },
  {
   "cell_type": "code",
   "execution_count": 284,
   "id": "5693b08d",
   "metadata": {},
   "outputs": [],
   "source": [
    "Cammoun125=freesurfer.io.read_annot('/home/bic/fmorys/nnt-data/atl-cammoun2012/fsaverage/atl-Cammoun2012_space-fsaverage_res-125_hemi-L_deterministic.annot')[0]"
   ]
  },
  {
   "cell_type": "markdown",
   "id": "9dbf50c8",
   "metadata": {},
   "source": [
    "## Manually parcellate the data and remove 'unknown' and 'corpus callosum'"
   ]
  },
  {
   "cell_type": "code",
   "execution_count": 285,
   "id": "b37b31ca",
   "metadata": {},
   "outputs": [
    {
     "data": {
      "text/plain": [
       "nan"
      ]
     },
     "execution_count": 285,
     "metadata": {},
     "output_type": "execute_result"
    }
   ],
   "source": [
    "BMI_Cammoun125=list()\n",
    "\n",
    "for i in range(113):\n",
    "    BMI_Cammoun125.append(np.average(BMI[Cammoun125==i]))\n",
    "    \n",
    "BMI_Cammoun125.pop(0)\n",
    "BMI_Cammoun125.pop(3)"
   ]
  },
  {
   "cell_type": "markdown",
   "id": "efe6f3d3",
   "metadata": {},
   "source": [
    "# Use cell-type data from Christina - no correlation between DBM maps and cell types using Cammoun 125"
   ]
  },
  {
   "cell_type": "code",
   "execution_count": 5,
   "id": "43a05ca3",
   "metadata": {},
   "outputs": [],
   "source": [
    "import mat73\n",
    "import scipy\n",
    "mat1 = mat73.loadmat('/dagher/dagher11/filip/Obesity_maps/data/GeneExpression_Cammoun234R_Astro_Ex.mat')\n",
    "mat2 = scipy.io.loadmat('/dagher/dagher11/filip/Obesity_maps/data/GeneExpression_Cammoun234R_Endo_Ex.mat')\n",
    "mat3 = mat73.loadmat('/dagher/dagher11/filip/Obesity_maps/data/GeneExpression_Cammoun234R_Micro_Ex.mat')\n",
    "mat4 = mat73.loadmat('/dagher/dagher11/filip/Obesity_maps/data/GeneExpression_Cammoun234R_NeuroEx_Ex.mat')\n",
    "mat5 = mat73.loadmat('/dagher/dagher11/filip/Obesity_maps/data/GeneExpression_Cammoun234R_NeuroIn_Ex.mat')\n",
    "mat6 = mat73.loadmat('/dagher/dagher11/filip/Obesity_maps/data/GeneExpression_Cammoun234R_OPC_Ex.mat')\n",
    "mat7 = scipy.io.loadmat('/dagher/dagher11/filip/Obesity_maps/data/GeneExpression_Cammoun234R_Oligo_Ex.mat')"
   ]
  },
  {
   "cell_type": "markdown",
   "id": "027cdf1b",
   "metadata": {},
   "source": [
    "## Read in Euclidean distance matrix from Christina"
   ]
  },
  {
   "cell_type": "code",
   "execution_count": 6,
   "id": "2216e504",
   "metadata": {},
   "outputs": [],
   "source": [
    "Euc_125_L=pd.read_csv('/dagher/dagher11/filip/Downloads/Euc_dist125_L_brainstem.txt', sep=',',header=None)"
   ]
  },
  {
   "cell_type": "markdown",
   "id": "c4395431",
   "metadata": {},
   "source": [
    "## Get surrogate maps for BMI only L hemisphere"
   ]
  },
  {
   "cell_type": "code",
   "execution_count": 9,
   "id": "b71042f6",
   "metadata": {
    "scrolled": false
   },
   "outputs": [
    {
     "ename": "NameError",
     "evalue": "name 'BMI_Cammoun125' is not defined",
     "output_type": "error",
     "traceback": [
      "\u001b[0;31m---------------------------------------------------------------------------\u001b[0m",
      "\u001b[0;31mNameError\u001b[0m                                 Traceback (most recent call last)",
      "Cell \u001b[0;32mIn [9], line 5\u001b[0m\n\u001b[1;32m      2\u001b[0m \u001b[38;5;28;01mimport\u001b[39;00m \u001b[38;5;21;01mnumpy\u001b[39;00m \u001b[38;5;28;01mas\u001b[39;00m \u001b[38;5;21;01mnp\u001b[39;00m\n\u001b[1;32m      3\u001b[0m \u001b[38;5;28;01mfrom\u001b[39;00m \u001b[38;5;21;01mbrainsmash\u001b[39;00m\u001b[38;5;21;01m.\u001b[39;00m\u001b[38;5;21;01mmapgen\u001b[39;00m\u001b[38;5;21;01m.\u001b[39;00m\u001b[38;5;21;01mbase\u001b[39;00m \u001b[38;5;28;01mimport\u001b[39;00m Base\n\u001b[0;32m----> 5\u001b[0m brain_map_file \u001b[38;5;241m=\u001b[39m np\u001b[38;5;241m.\u001b[39marray(\u001b[43mBMI_Cammoun125\u001b[49m)\n\u001b[1;32m      6\u001b[0m dist_mat_file \u001b[38;5;241m=\u001b[39m Euc_125_L\u001b[38;5;241m.\u001b[39mvalues[\u001b[38;5;241m0\u001b[39m:\u001b[38;5;241m111\u001b[39m,\u001b[38;5;241m0\u001b[39m:\u001b[38;5;241m111\u001b[39m] \u001b[38;5;66;03m#remove subcortical structures from the Euclidean distances file\u001b[39;00m\n\u001b[1;32m      7\u001b[0m base \u001b[38;5;241m=\u001b[39m Base(x\u001b[38;5;241m=\u001b[39mbrain_map_file, D\u001b[38;5;241m=\u001b[39mdist_mat_file)\n",
      "\u001b[0;31mNameError\u001b[0m: name 'BMI_Cammoun125' is not defined"
     ]
    }
   ],
   "source": [
    "import pandas as pd\n",
    "import numpy as np\n",
    "from brainsmash.mapgen.base import Base\n",
    "\n",
    "brain_map_file = np.array(BMI_Cammoun125)\n",
    "dist_mat_file = Euc_125_L.values[0:111,0:111] #remove subcortical structures from the Euclidean distances file\n",
    "base = Base(x=brain_map_file, D=dist_mat_file)\n",
    "\n",
    "surrogates = base(n=1000)\n",
    "spin1000=pd.DataFrame(data=surrogates)\n",
    "spin1000.to_csv(\"/dagher/dagher9/filip/BMIarea_abagen_L_Cammoun125_1000spin_smash.csv\",sep=',',index=False)"
   ]
  },
  {
   "cell_type": "markdown",
   "id": "af1a7915",
   "metadata": {},
   "source": [
    "## Run correlations"
   ]
  },
  {
   "cell_type": "code",
   "execution_count": 45,
   "id": "09597c0f",
   "metadata": {},
   "outputs": [
    {
     "name": "stdout",
     "output_type": "stream",
     "text": [
      "0.14862201835329658\n",
      "0.4645354645354645\n",
      "0.060750364323468295\n",
      "0.5384615384615384\n",
      "-0.02483766368092532\n",
      "0.9400599400599401\n",
      "-0.09314304147171178\n",
      "0.7632367632367633\n",
      "0.174269901843664\n",
      "0.32667332667332666\n",
      "0.10496784130589532\n",
      "0.5694305694305695\n",
      "-0.10616164475033932\n",
      "0.7422577422577422\n"
     ]
    }
   ],
   "source": [
    "import numpy.ma as ma\n",
    "\n",
    "main_corr=ma.corrcoef(ma.masked_invalid(BMI_parc[0,115:234]), ma.masked_invalid(mat2['Mean_Gene'][115:234,0]))[1,0]\n",
    "print(main_corr)\n",
    "corrs=list()\n",
    "for spin in range(1000):\n",
    "    corrs.append(ma.corrcoef(surrogates[spin], mat2['Mean_Gene'][115:234,0])[1,0])\n",
    "print(sum(i > abs(main_corr) for i in np.absolute(corrs))/1001)\n",
    "\n",
    "main_corr=ma.corrcoef(ma.masked_invalid(BMI_parc[0,115:234]), ma.masked_invalid(mat7['Mean_Gene'][115:234,0]))[1,0]\n",
    "print(main_corr)\n",
    "corrs=list()\n",
    "for spin in range(1000):\n",
    "    corrs.append(ma.corrcoef(surrogates[spin], mat7['Mean_Gene'][115:234,0])[1,0])\n",
    "print(sum(i > abs(main_corr) for i in np.absolute(corrs))/1001)\n",
    "\n",
    "main_corr=ma.corrcoef(ma.masked_invalid(BMI_parc[0,115:234]), ma.masked_invalid(mat1['Mean_Gene'][115:234]))[1,0]\n",
    "print(main_corr)\n",
    "corrs=list()\n",
    "for spin in range(1000):\n",
    "    corrs.append(ma.corrcoef(surrogates[spin], mat1['Mean_Gene'][115:234])[1,0])\n",
    "print(sum(i > abs(main_corr) for i in np.absolute(corrs))/1001)\n",
    "\n",
    "main_corr=ma.corrcoef(ma.masked_invalid(BMI_parc[0,115:234]), ma.masked_invalid(mat3['Mean_Gene'][115:234]))[1,0]\n",
    "print(main_corr)\n",
    "corrs=list()\n",
    "for spin in range(1000):\n",
    "    corrs.append(ma.corrcoef(surrogates[spin], mat3['Mean_Gene'][115:234])[1,0])\n",
    "print(sum(i > abs(main_corr) for i in np.absolute(corrs))/1001)\n",
    "\n",
    "main_corr=ma.corrcoef(ma.masked_invalid(BMI_parc[0,115:234]), ma.masked_invalid(mat4['Mean_Gene'][115:234]))[1,0]\n",
    "print(main_corr)\n",
    "corrs=list()\n",
    "for spin in range(1000):\n",
    "    corrs.append(ma.corrcoef(surrogates[spin], mat4['Mean_Gene'][115:234])[1,0])\n",
    "print(sum(i > abs(main_corr) for i in np.absolute(corrs))/1001)\n",
    "\n",
    "main_corr=ma.corrcoef(ma.masked_invalid(BMI_parc[0,115:234]), ma.masked_invalid(mat5['Mean_Gene'][115:234]))[1,0]\n",
    "print(main_corr)\n",
    "corrs=list()\n",
    "for spin in range(1000):\n",
    "    corrs.append(ma.corrcoef(surrogates[spin], mat5['Mean_Gene'][115:234])[1,0])\n",
    "print(sum(i > abs(main_corr) for i in np.absolute(corrs))/1001)\n",
    "\n",
    "main_corr=ma.corrcoef(ma.masked_invalid(BMI_parc[0,115:234]), ma.masked_invalid(mat6['Mean_Gene'][115:234]))[1,0]\n",
    "print(main_corr)\n",
    "corrs=list()\n",
    "for spin in range(1000):\n",
    "    corrs.append(ma.corrcoef(surrogates[spin], mat6['Mean_Gene'][115:234])[1,0])\n",
    "print(sum(i > abs(main_corr) for i in np.absolute(corrs))/1001)"
   ]
  },
  {
   "cell_type": "markdown",
   "id": "ceccd292",
   "metadata": {},
   "source": [
    "# Same for DBM"
   ]
  },
  {
   "cell_type": "code",
   "execution_count": 153,
   "id": "6a702ec7",
   "metadata": {},
   "outputs": [],
   "source": [
    "from netneurotools import datasets as nntdatasets\n",
    "from neuromaps import datasets as nmdatasets\n",
    "from neuromaps.parcellate import Parcellater\n",
    "import pandas as pd\n",
    "from neuromaps import transforms\n",
    "import neuromaps\n",
    "import numpy as np\n",
    "\n",
    "\n",
    "\n",
    "cammoun = nntdatasets.fetch_cammoun2012(version=\"MNI152NLin2009aSym\")\n",
    "info = pd.read_csv(cammoun['info'])\n",
    "labels = info.query('scale==\"scale125\"')['label']  # or might be \"labels\"\n",
    "\n",
    "parc = Parcellater(cammoun['scale125'], 'mni152')  # assuming mymap is in mni152 space\n",
    "BMI = neuromaps.images.load_nifti('/dagher/dagher9/filip/DBM/HCP_DBM_Slvl/beta_0003.nii')\n",
    "\n",
    "mymap_parc = parc.fit_transform(BMI, 'mni152')"
   ]
  },
  {
   "cell_type": "markdown",
   "id": "b5438103",
   "metadata": {},
   "source": [
    "## Create surrogate maps with subcortical structures"
   ]
  },
  {
   "cell_type": "code",
   "execution_count": 89,
   "id": "4c4c0f94",
   "metadata": {
    "scrolled": false
   },
   "outputs": [],
   "source": [
    "import pandas as pd\n",
    "from brainsmash.mapgen.base import Base\n",
    "\n",
    "brain_map_file = mymap_parc[0,115:234]\n",
    "dist_mat_file = Euc_125_L.values\n",
    "base = Base(x=brain_map_file, D=dist_mat_file)\n",
    "\n",
    "surrogates = base(n=10000)\n",
    "spin1000=pd.DataFrame(data=surrogates)\n",
    "spin1000.to_csv(\"/dagher/dagher9/filip/BMI_abagen_L_Cammoun125_10000spin_smash.csv\",sep=',',index=False)"
   ]
  },
  {
   "cell_type": "markdown",
   "id": "2cfe14e6",
   "metadata": {},
   "source": [
    "## Run correlations"
   ]
  },
  {
   "cell_type": "code",
   "execution_count": 181,
   "id": "abc89ad1",
   "metadata": {},
   "outputs": [
    {
     "name": "stdout",
     "output_type": "stream",
     "text": [
      "0.14862201835329655\n",
      "0.4595404595404595\n",
      "0.0607503643234683\n",
      "0.5584415584415584\n",
      "-0.02483766368092532\n",
      "0.9400599400599401\n",
      "-0.09314304147171176\n",
      "0.7822177822177823\n",
      "0.17426990184366403\n",
      "0.31868131868131866\n",
      "0.1049678413058953\n",
      "0.5404595404595405\n",
      "-0.10616164475033932\n",
      "0.7632367632367633\n"
     ]
    }
   ],
   "source": [
    "\n",
    "main_corr=np.corrcoef(mymap_parc[0, 115:234], mat2['Mean_Gene'][115:234,0])[1,0]\n",
    "print(main_corr)\n",
    "corrs=list()\n",
    "for spin in range(1000):\n",
    "    corrs.append(np.corrcoef(surrogates[spin], mat2['Mean_Gene'][115:234,0])[1,0])\n",
    "print(sum(i > abs(main_corr) for i in np.absolute(corrs))/1001)\n",
    "\n",
    "main_corr=np.corrcoef(mymap_parc[0, 115:234], mat7['Mean_Gene'][115:234,0])[1,0]\n",
    "print(main_corr)\n",
    "corrs=list()\n",
    "for spin in range(1000):\n",
    "    corrs.append(np.corrcoef(surrogates[spin], mat7['Mean_Gene'][115:234,0])[1,0])\n",
    "print(sum(i > abs(main_corr) for i in np.absolute(corrs))/1001)\n",
    "        \n",
    "main_corr=np.corrcoef(mymap_parc[0, 115:234], mat1['Mean_Gene'][115:234])[1,0]\n",
    "print(main_corr)\n",
    "corrs=list()\n",
    "for spin in range(1000):\n",
    "    corrs.append(np.corrcoef(surrogates[spin], mat1['Mean_Gene'][115:234])[1,0])\n",
    "print(sum(i > abs(main_corr) for i in np.absolute(corrs))/1001)\n",
    "\n",
    "main_corr=np.corrcoef(mymap_parc[0, 115:234], mat3['Mean_Gene'][115:234])[1,0]\n",
    "print(main_corr)\n",
    "corrs=list()\n",
    "for spin in range(1000):\n",
    "    corrs.append(np.corrcoef(surrogates[spin], mat3['Mean_Gene'][115:234])[1,0])\n",
    "print(sum(i > abs(main_corr) for i in np.absolute(corrs))/1001)\n",
    "\n",
    "main_corr=np.corrcoef(mymap_parc[0, 115:234], mat4['Mean_Gene'][115:234])[1,0]\n",
    "print(main_corr)\n",
    "corrs=list()\n",
    "for spin in range(1000):\n",
    "    corrs.append(np.corrcoef(surrogates[spin], mat4['Mean_Gene'][115:234])[1,0])\n",
    "print(sum(i > abs(main_corr) for i in np.absolute(corrs))/1001)\n",
    "\n",
    "main_corr=np.corrcoef(mymap_parc[0, 115:234], mat5['Mean_Gene'][115:234])[1,0]\n",
    "print(main_corr)\n",
    "corrs=list()\n",
    "for spin in range(1000):\n",
    "    corrs.append(np.corrcoef(surrogates[spin], mat5['Mean_Gene'][115:234])[1,0])\n",
    "print(sum(i > abs(main_corr) for i in np.absolute(corrs))/1001)\n",
    "\n",
    "main_corr=np.corrcoef(mymap_parc[0, 115:234], mat6['Mean_Gene'][115:234])[1,0]\n",
    "print(main_corr)\n",
    "corrs=list()\n",
    "for spin in range(1000):\n",
    "    corrs.append(np.corrcoef(surrogates[spin], mat6['Mean_Gene'][115:234])[1,0])\n",
    "print(sum(i > abs(main_corr) for i in np.absolute(corrs))/1001)"
   ]
  },
  {
   "cell_type": "markdown",
   "id": "6f074391",
   "metadata": {},
   "source": [
    "# Gene analysis"
   ]
  },
  {
   "cell_type": "markdown",
   "id": "e3a21c70",
   "metadata": {},
   "source": [
    "## Get genetics data"
   ]
  },
  {
   "cell_type": "code",
   "execution_count": 1,
   "id": "a96abc44",
   "metadata": {},
   "outputs": [],
   "source": [
    "import abagen\n",
    "atlas = abagen.fetch_desikan_killiany()"
   ]
  },
  {
   "cell_type": "code",
   "execution_count": 2,
   "id": "824dde41",
   "metadata": {},
   "outputs": [],
   "source": [
    "files = abagen.fetch_microarray(data_dir='/dagher/dagher9/filip/', donors='all', verbose=0)"
   ]
  },
  {
   "cell_type": "code",
   "execution_count": 3,
   "id": "886d63ab",
   "metadata": {
    "scrolled": true
   },
   "outputs": [
    {
     "name": "stderr",
     "output_type": "stream",
     "text": [
      "/dagher/dagher12/filip/software/miniconda3py/envs/py3/lib/python3.10/site-packages/abagen/probes_.py:66: FutureWarning: In a future version, `df.iloc[:, i] = newvals` will attempt to set the values inplace instead of always setting a new array. To retain the old behavior, use either `df[df.columns[i]] = newvals` or, if columns are non-unique, `df.isetitem(i, newvals)`\n",
      "  reannotated.loc[:, 'entrez_id'] = reannotated['entrez_id'].astype('int')\n",
      "/dagher/dagher12/filip/software/miniconda3py/envs/py3/lib/python3.10/site-packages/abagen/probes_.py:757: FutureWarning: DataFrame.set_axis 'inplace' keyword is deprecated and will be removed in a future version. Use `obj = obj.set_axis(..., copy=False)` instead\n",
      "  micro = micro.set_axis(symbols, axis=1, inplace=False)\n",
      "/dagher/dagher12/filip/software/miniconda3py/envs/py3/lib/python3.10/site-packages/abagen/probes_.py:757: FutureWarning: DataFrame.set_axis 'inplace' keyword is deprecated and will be removed in a future version. Use `obj = obj.set_axis(..., copy=False)` instead\n",
      "  micro = micro.set_axis(symbols, axis=1, inplace=False)\n",
      "/dagher/dagher12/filip/software/miniconda3py/envs/py3/lib/python3.10/site-packages/abagen/probes_.py:757: FutureWarning: DataFrame.set_axis 'inplace' keyword is deprecated and will be removed in a future version. Use `obj = obj.set_axis(..., copy=False)` instead\n",
      "  micro = micro.set_axis(symbols, axis=1, inplace=False)\n",
      "/dagher/dagher12/filip/software/miniconda3py/envs/py3/lib/python3.10/site-packages/abagen/probes_.py:757: FutureWarning: DataFrame.set_axis 'inplace' keyword is deprecated and will be removed in a future version. Use `obj = obj.set_axis(..., copy=False)` instead\n",
      "  micro = micro.set_axis(symbols, axis=1, inplace=False)\n",
      "/dagher/dagher12/filip/software/miniconda3py/envs/py3/lib/python3.10/site-packages/abagen/probes_.py:757: FutureWarning: DataFrame.set_axis 'inplace' keyword is deprecated and will be removed in a future version. Use `obj = obj.set_axis(..., copy=False)` instead\n",
      "  micro = micro.set_axis(symbols, axis=1, inplace=False)\n",
      "/dagher/dagher12/filip/software/miniconda3py/envs/py3/lib/python3.10/site-packages/abagen/probes_.py:757: FutureWarning: DataFrame.set_axis 'inplace' keyword is deprecated and will be removed in a future version. Use `obj = obj.set_axis(..., copy=False)` instead\n",
      "  micro = micro.set_axis(symbols, axis=1, inplace=False)\n",
      "/dagher/dagher12/filip/software/miniconda3py/envs/py3/lib/python3.10/site-packages/abagen/allen.py:505: FutureWarning: The frame.append method is deprecated and will be removed from pandas in a future version. Use pandas.concat instead.\n",
      "  microarray[subj] = microarray[subj].append(exp)\n",
      "/dagher/dagher12/filip/software/miniconda3py/envs/py3/lib/python3.10/site-packages/abagen/allen.py:506: FutureWarning: The frame.append method is deprecated and will be removed from pandas in a future version. Use pandas.concat instead.\n",
      "  labels = labels.append(lab)\n",
      "/dagher/dagher12/filip/software/miniconda3py/envs/py3/lib/python3.10/site-packages/abagen/allen.py:505: FutureWarning: The frame.append method is deprecated and will be removed from pandas in a future version. Use pandas.concat instead.\n",
      "  microarray[subj] = microarray[subj].append(exp)\n",
      "/dagher/dagher12/filip/software/miniconda3py/envs/py3/lib/python3.10/site-packages/abagen/allen.py:506: FutureWarning: The frame.append method is deprecated and will be removed from pandas in a future version. Use pandas.concat instead.\n",
      "  labels = labels.append(lab)\n",
      "/dagher/dagher12/filip/software/miniconda3py/envs/py3/lib/python3.10/site-packages/abagen/allen.py:505: FutureWarning: The frame.append method is deprecated and will be removed from pandas in a future version. Use pandas.concat instead.\n",
      "  microarray[subj] = microarray[subj].append(exp)\n",
      "/dagher/dagher12/filip/software/miniconda3py/envs/py3/lib/python3.10/site-packages/abagen/allen.py:506: FutureWarning: The frame.append method is deprecated and will be removed from pandas in a future version. Use pandas.concat instead.\n",
      "  labels = labels.append(lab)\n",
      "/dagher/dagher12/filip/software/miniconda3py/envs/py3/lib/python3.10/site-packages/abagen/allen.py:505: FutureWarning: The frame.append method is deprecated and will be removed from pandas in a future version. Use pandas.concat instead.\n",
      "  microarray[subj] = microarray[subj].append(exp)\n",
      "/dagher/dagher12/filip/software/miniconda3py/envs/py3/lib/python3.10/site-packages/abagen/allen.py:506: FutureWarning: The frame.append method is deprecated and will be removed from pandas in a future version. Use pandas.concat instead.\n",
      "  labels = labels.append(lab)\n",
      "/dagher/dagher12/filip/software/miniconda3py/envs/py3/lib/python3.10/site-packages/abagen/allen.py:505: FutureWarning: The frame.append method is deprecated and will be removed from pandas in a future version. Use pandas.concat instead.\n",
      "  microarray[subj] = microarray[subj].append(exp)\n",
      "/dagher/dagher12/filip/software/miniconda3py/envs/py3/lib/python3.10/site-packages/abagen/allen.py:506: FutureWarning: The frame.append method is deprecated and will be removed from pandas in a future version. Use pandas.concat instead.\n",
      "  labels = labels.append(lab)\n",
      "/dagher/dagher12/filip/software/miniconda3py/envs/py3/lib/python3.10/site-packages/abagen/allen.py:505: FutureWarning: The frame.append method is deprecated and will be removed from pandas in a future version. Use pandas.concat instead.\n",
      "  microarray[subj] = microarray[subj].append(exp)\n",
      "/dagher/dagher12/filip/software/miniconda3py/envs/py3/lib/python3.10/site-packages/abagen/allen.py:506: FutureWarning: The frame.append method is deprecated and will be removed from pandas in a future version. Use pandas.concat instead.\n",
      "  labels = labels.append(lab)\n",
      "/dagher/dagher12/filip/software/miniconda3py/envs/py3/lib/python3.10/site-packages/abagen/samples_.py:406: FutureWarning: The frame.append method is deprecated and will be removed from pandas in a future version. Use pandas.concat instead.\n",
      "  .append(labels)\n",
      "/dagher/dagher12/filip/software/miniconda3py/envs/py3/lib/python3.10/site-packages/abagen/samples_.py:406: FutureWarning: The frame.append method is deprecated and will be removed from pandas in a future version. Use pandas.concat instead.\n",
      "  .append(labels)\n",
      "/dagher/dagher12/filip/software/miniconda3py/envs/py3/lib/python3.10/site-packages/abagen/samples_.py:406: FutureWarning: The frame.append method is deprecated and will be removed from pandas in a future version. Use pandas.concat instead.\n",
      "  .append(labels)\n",
      "/dagher/dagher12/filip/software/miniconda3py/envs/py3/lib/python3.10/site-packages/abagen/samples_.py:406: FutureWarning: The frame.append method is deprecated and will be removed from pandas in a future version. Use pandas.concat instead.\n",
      "  .append(labels)\n",
      "/dagher/dagher12/filip/software/miniconda3py/envs/py3/lib/python3.10/site-packages/abagen/samples_.py:406: FutureWarning: The frame.append method is deprecated and will be removed from pandas in a future version. Use pandas.concat instead.\n",
      "  .append(labels)\n",
      "/dagher/dagher12/filip/software/miniconda3py/envs/py3/lib/python3.10/site-packages/abagen/samples_.py:406: FutureWarning: The frame.append method is deprecated and will be removed from pandas in a future version. Use pandas.concat instead.\n",
      "  .append(labels)\n"
     ]
    }
   ],
   "source": [
    "expression_125 = abagen.get_expression_data('/home/bic/fmorys/nnt-data/atl-cammoun2012/MNI152NLin2009aSym/atl-Cammoun2012_space-MNI152NLin2009aSym_res-125_deterministic.nii.gz',\n",
    "                                            '/dagher/dagher11/filip/Obesity_maps/data/Cammoun_125_all.csv', \n",
    "                                            data_dir='dagher/dagher9/filip/',\n",
    "                                            missing='interpolate')"
   ]
  },
  {
   "cell_type": "markdown",
   "id": "65ce1ace",
   "metadata": {},
   "source": [
    "## Use Cammoun 125 parcellation for BMI data"
   ]
  },
  {
   "cell_type": "code",
   "execution_count": 4,
   "id": "eb1c1828",
   "metadata": {},
   "outputs": [
    {
     "name": "stderr",
     "output_type": "stream",
     "text": [
      "/dagher/dagher12/filip/software/miniconda3py/envs/py3/lib/python3.10/site-packages/nilearn/input_data/__init__.py:27: FutureWarning: The import path 'nilearn.input_data' is deprecated in version 0.9. Importing from 'nilearn.input_data' will be possible at least until release 0.13.0. Please import from 'nilearn.maskers' instead.\n",
      "  warnings.warn(message, FutureWarning)\n"
     ]
    }
   ],
   "source": [
    "from netneurotools import datasets as nntdatasets\n",
    "from neuromaps import datasets as nmdatasets\n",
    "from neuromaps.parcellate import Parcellater\n",
    "import pandas as pd\n",
    "\n",
    "cammoun = nntdatasets.fetch_cammoun2012(version=\"MNI152NLin2009aSym\")\n",
    "info = pd.read_csv(cammoun['info'])\n",
    "labels = info.query('scale==\"scale125\"')['label']  \n",
    "\n",
    "parc = Parcellater(cammoun['scale125'], 'mni152', hemi='L')  \n",
    "mymap_parc = parc.fit_transform('/dagher/dagher9/filip/DBM/HCP_DBM_Slvl/beta_0003.nii', 'mni152')"
   ]
  },
  {
   "cell_type": "markdown",
   "id": "450c808b",
   "metadata": {},
   "source": [
    "## Add labels to expression data"
   ]
  },
  {
   "cell_type": "code",
   "execution_count": 11,
   "id": "e8e20ed7",
   "metadata": {},
   "outputs": [],
   "source": [
    "expression1=expression_125\n",
    "expression1['struct']=labels.values\n",
    "expression1=expression1.reset_index()\n",
    "expression1=expression1.set_index('struct')\n",
    "expression1=expression1[0:108]"
   ]
  },
  {
   "cell_type": "code",
   "execution_count": 28,
   "id": "fafb942f",
   "metadata": {},
   "outputs": [],
   "source": [
    "import pandas\n",
    "import scipy\n",
    "\n",
    "expr_np=pandas.DataFrame.to_numpy(expression1)\n",
    "scipy.io.savemat('/dagher/dagher11/filip/Obesity_maps/data/Cammoun_aba_RH_thickness.mat', \n",
    "                 {'Cammoun_aba_RH_thickness': expr_np})"
   ]
  },
  {
   "cell_type": "code",
   "execution_count": 12,
   "id": "d1d7084c",
   "metadata": {},
   "outputs": [],
   "source": [
    "expression1.to_csv('/dagher/dagher11/filip/Obesity_maps/data/abagenes_Cammoun125_RH.csv', sep='\\t')"
   ]
  },
  {
   "cell_type": "markdown",
   "id": "25ea2ff4",
   "metadata": {},
   "source": [
    "## Correlate using previous surrogate maps for DBM; do it for specific genes "
   ]
  },
  {
   "cell_type": "markdown",
   "id": "9610fecd",
   "metadata": {},
   "source": [
    "## GFAP MAPT TNF IL-6 CCL2 CCR2 CLDN5, TJP1, ABCB1, APOE, NSE"
   ]
  },
  {
   "cell_type": "code",
   "execution_count": 65,
   "id": "44800500",
   "metadata": {},
   "outputs": [
    {
     "name": "stdout",
     "output_type": "stream",
     "text": [
      "Gene number 0\n"
     ]
    },
    {
     "name": "stderr",
     "output_type": "stream",
     "text": [
      "/tmp/ipykernel_30535/13276042.py:13: FutureWarning: The frame.append method is deprecated and will be removed from pandas in a future version. Use pandas.concat instead.\n",
      "  gene_corrs=gene_corrs.append(pd.DataFrame([[gene, main_corr, p]],columns=['gene','corrcoef','p-val'],\n"
     ]
    },
    {
     "name": "stdout",
     "output_type": "stream",
     "text": [
      "Gene number 1\n"
     ]
    },
    {
     "name": "stderr",
     "output_type": "stream",
     "text": [
      "/tmp/ipykernel_30535/13276042.py:13: FutureWarning: The frame.append method is deprecated and will be removed from pandas in a future version. Use pandas.concat instead.\n",
      "  gene_corrs=gene_corrs.append(pd.DataFrame([[gene, main_corr, p]],columns=['gene','corrcoef','p-val'],\n"
     ]
    },
    {
     "name": "stdout",
     "output_type": "stream",
     "text": [
      "Gene number 2\n"
     ]
    },
    {
     "name": "stderr",
     "output_type": "stream",
     "text": [
      "/tmp/ipykernel_30535/13276042.py:13: FutureWarning: The frame.append method is deprecated and will be removed from pandas in a future version. Use pandas.concat instead.\n",
      "  gene_corrs=gene_corrs.append(pd.DataFrame([[gene, main_corr, p]],columns=['gene','corrcoef','p-val'],\n"
     ]
    },
    {
     "name": "stdout",
     "output_type": "stream",
     "text": [
      "Gene number 3\n"
     ]
    },
    {
     "name": "stderr",
     "output_type": "stream",
     "text": [
      "/tmp/ipykernel_30535/13276042.py:13: FutureWarning: The frame.append method is deprecated and will be removed from pandas in a future version. Use pandas.concat instead.\n",
      "  gene_corrs=gene_corrs.append(pd.DataFrame([[gene, main_corr, p]],columns=['gene','corrcoef','p-val'],\n"
     ]
    },
    {
     "name": "stdout",
     "output_type": "stream",
     "text": [
      "Gene number 4\n"
     ]
    },
    {
     "name": "stderr",
     "output_type": "stream",
     "text": [
      "/tmp/ipykernel_30535/13276042.py:13: FutureWarning: The frame.append method is deprecated and will be removed from pandas in a future version. Use pandas.concat instead.\n",
      "  gene_corrs=gene_corrs.append(pd.DataFrame([[gene, main_corr, p]],columns=['gene','corrcoef','p-val'],\n"
     ]
    },
    {
     "name": "stdout",
     "output_type": "stream",
     "text": [
      "Gene number 5\n"
     ]
    },
    {
     "name": "stderr",
     "output_type": "stream",
     "text": [
      "/tmp/ipykernel_30535/13276042.py:13: FutureWarning: The frame.append method is deprecated and will be removed from pandas in a future version. Use pandas.concat instead.\n",
      "  gene_corrs=gene_corrs.append(pd.DataFrame([[gene, main_corr, p]],columns=['gene','corrcoef','p-val'],\n"
     ]
    },
    {
     "name": "stdout",
     "output_type": "stream",
     "text": [
      "Gene number 6\n"
     ]
    },
    {
     "name": "stderr",
     "output_type": "stream",
     "text": [
      "/tmp/ipykernel_30535/13276042.py:13: FutureWarning: The frame.append method is deprecated and will be removed from pandas in a future version. Use pandas.concat instead.\n",
      "  gene_corrs=gene_corrs.append(pd.DataFrame([[gene, main_corr, p]],columns=['gene','corrcoef','p-val'],\n"
     ]
    },
    {
     "name": "stdout",
     "output_type": "stream",
     "text": [
      "Gene number 7\n",
      "        gene  corrcoef     p-val\n",
      "gene       0  0.000000  0.000000\n",
      "GFAP    GFAP  0.054389  0.867133\n",
      "MAPT    MAPT  0.099991  0.619381\n",
      "TNF      TNF -0.210950  0.543457\n",
      "CCL2    CCL2 -0.083087  0.777223\n",
      "CLDN5  CLDN5  0.078188  0.555445\n",
      "TJP1    TJP1 -0.034389  0.831169\n",
      "ABCB1  ABCB1 -0.023548  0.822178\n",
      "APOE    APOE -0.065746  0.843157\n"
     ]
    },
    {
     "name": "stderr",
     "output_type": "stream",
     "text": [
      "/tmp/ipykernel_30535/13276042.py:13: FutureWarning: The frame.append method is deprecated and will be removed from pandas in a future version. Use pandas.concat instead.\n",
      "  gene_corrs=gene_corrs.append(pd.DataFrame([[gene, main_corr, p]],columns=['gene','corrcoef','p-val'],\n"
     ]
    }
   ],
   "source": [
    "gene_corrs=pd.DataFrame([[0, 0, 0]], columns=['gene','corrcoef','p-val'], index=['gene'])\n",
    "index=0\n",
    "\n",
    "for gene in ['GFAP','MAPT','TNF','CCL2','CLDN5','TJP1','ABCB1','APOE']:\n",
    "        main_corr=np.corrcoef(mymap_parc[0,115:234], expression1[gene])[1,0]\n",
    "        print('Gene number '+str(index))\n",
    "        index=index+1\n",
    "        #print(main_corr)\n",
    "        corrs=list()\n",
    "        for spin in range(1000):\n",
    "            corrs.append(np.corrcoef(surrogates[spin], expression1[gene])[1,0])\n",
    "            p=(sum(i > abs(main_corr) for i in np.absolute(corrs))/1001)\n",
    "        gene_corrs=gene_corrs.append(pd.DataFrame([[gene, main_corr, p]],columns=['gene','corrcoef','p-val'], \n",
    "                                                  index=[gene]))\n",
    "        \n",
    "gene_corrs.to_csv(path_or_buf='/dagher/dagher11/filip/Obesity_maps/data/gene_maps_correlations_10000.csv', sep=',',\n",
    "                 header=True)\n",
    "\n",
    "print(gene_corrs)"
   ]
  },
  {
   "cell_type": "code",
   "execution_count": 90,
   "id": "f8737233",
   "metadata": {
    "collapsed": true
   },
   "outputs": [
    {
     "name": "stdout",
     "output_type": "stream",
     "text": [
      "Gene number 0\n"
     ]
    },
    {
     "ename": "KeyboardInterrupt",
     "evalue": "",
     "output_type": "error",
     "traceback": [
      "\u001b[0;31m---------------------------------------------------------------------------\u001b[0m",
      "\u001b[0;31mKeyboardInterrupt\u001b[0m                         Traceback (most recent call last)",
      "Input \u001b[0;32mIn [90]\u001b[0m, in \u001b[0;36m<cell line: 4>\u001b[0;34m()\u001b[0m\n\u001b[1;32m     10\u001b[0m         \u001b[38;5;28;01mfor\u001b[39;00m spin \u001b[38;5;129;01min\u001b[39;00m \u001b[38;5;28mrange\u001b[39m(\u001b[38;5;241m10000\u001b[39m):\n\u001b[1;32m     11\u001b[0m             corrs\u001b[38;5;241m.\u001b[39mappend(np\u001b[38;5;241m.\u001b[39mcorrcoef(surrogates[spin], expression1[gene])[\u001b[38;5;241m1\u001b[39m,\u001b[38;5;241m0\u001b[39m])\n\u001b[0;32m---> 12\u001b[0m             p\u001b[38;5;241m=\u001b[39m(\u001b[38;5;28;43msum\u001b[39;49m\u001b[43m(\u001b[49m\u001b[43mi\u001b[49m\u001b[43m \u001b[49m\u001b[38;5;241;43m>\u001b[39;49m\u001b[43m \u001b[49m\u001b[38;5;28;43mabs\u001b[39;49m\u001b[43m(\u001b[49m\u001b[43mmain_corr\u001b[49m\u001b[43m)\u001b[49m\u001b[43m \u001b[49m\u001b[38;5;28;43;01mfor\u001b[39;49;00m\u001b[43m \u001b[49m\u001b[43mi\u001b[49m\u001b[43m \u001b[49m\u001b[38;5;129;43;01min\u001b[39;49;00m\u001b[43m \u001b[49m\u001b[43mnp\u001b[49m\u001b[38;5;241;43m.\u001b[39;49m\u001b[43mabsolute\u001b[49m\u001b[43m(\u001b[49m\u001b[43mcorrs\u001b[49m\u001b[43m)\u001b[49m\u001b[43m)\u001b[49m\u001b[38;5;241m/\u001b[39m\u001b[38;5;241m10001\u001b[39m)\n\u001b[1;32m     13\u001b[0m         gene_corrs\u001b[38;5;241m=\u001b[39mgene_corrs\u001b[38;5;241m.\u001b[39mappend(pd\u001b[38;5;241m.\u001b[39mDataFrame([[gene, main_corr, p]],columns\u001b[38;5;241m=\u001b[39m[\u001b[38;5;124m'\u001b[39m\u001b[38;5;124mgene\u001b[39m\u001b[38;5;124m'\u001b[39m,\u001b[38;5;124m'\u001b[39m\u001b[38;5;124mcorrcoef\u001b[39m\u001b[38;5;124m'\u001b[39m,\u001b[38;5;124m'\u001b[39m\u001b[38;5;124mp-val\u001b[39m\u001b[38;5;124m'\u001b[39m], \n\u001b[1;32m     14\u001b[0m                                                   index\u001b[38;5;241m=\u001b[39m[gene]))\n\u001b[1;32m     16\u001b[0m gene_corrs\u001b[38;5;241m.\u001b[39mto_csv(path_or_buf\u001b[38;5;241m=\u001b[39m\u001b[38;5;124m'\u001b[39m\u001b[38;5;124m/dagher/dagher11/filip/Obesity_maps/data/gene_maps_correlations_10000.csv\u001b[39m\u001b[38;5;124m'\u001b[39m, sep\u001b[38;5;241m=\u001b[39m\u001b[38;5;124m'\u001b[39m\u001b[38;5;124m,\u001b[39m\u001b[38;5;124m'\u001b[39m,\n\u001b[1;32m     17\u001b[0m                  header\u001b[38;5;241m=\u001b[39m\u001b[38;5;28;01mTrue\u001b[39;00m)\n",
      "Input \u001b[0;32mIn [90]\u001b[0m, in \u001b[0;36m<genexpr>\u001b[0;34m(.0)\u001b[0m\n\u001b[1;32m     10\u001b[0m         \u001b[38;5;28;01mfor\u001b[39;00m spin \u001b[38;5;129;01min\u001b[39;00m \u001b[38;5;28mrange\u001b[39m(\u001b[38;5;241m10000\u001b[39m):\n\u001b[1;32m     11\u001b[0m             corrs\u001b[38;5;241m.\u001b[39mappend(np\u001b[38;5;241m.\u001b[39mcorrcoef(surrogates[spin], expression1[gene])[\u001b[38;5;241m1\u001b[39m,\u001b[38;5;241m0\u001b[39m])\n\u001b[0;32m---> 12\u001b[0m             p\u001b[38;5;241m=\u001b[39m(\u001b[38;5;28msum\u001b[39m(i \u001b[38;5;241m>\u001b[39m \u001b[38;5;28mabs\u001b[39m(main_corr) \u001b[38;5;28;01mfor\u001b[39;00m i \u001b[38;5;129;01min\u001b[39;00m np\u001b[38;5;241m.\u001b[39mabsolute(corrs))\u001b[38;5;241m/\u001b[39m\u001b[38;5;241m10001\u001b[39m)\n\u001b[1;32m     13\u001b[0m         gene_corrs\u001b[38;5;241m=\u001b[39mgene_corrs\u001b[38;5;241m.\u001b[39mappend(pd\u001b[38;5;241m.\u001b[39mDataFrame([[gene, main_corr, p]],columns\u001b[38;5;241m=\u001b[39m[\u001b[38;5;124m'\u001b[39m\u001b[38;5;124mgene\u001b[39m\u001b[38;5;124m'\u001b[39m,\u001b[38;5;124m'\u001b[39m\u001b[38;5;124mcorrcoef\u001b[39m\u001b[38;5;124m'\u001b[39m,\u001b[38;5;124m'\u001b[39m\u001b[38;5;124mp-val\u001b[39m\u001b[38;5;124m'\u001b[39m], \n\u001b[1;32m     14\u001b[0m                                                   index\u001b[38;5;241m=\u001b[39m[gene]))\n\u001b[1;32m     16\u001b[0m gene_corrs\u001b[38;5;241m.\u001b[39mto_csv(path_or_buf\u001b[38;5;241m=\u001b[39m\u001b[38;5;124m'\u001b[39m\u001b[38;5;124m/dagher/dagher11/filip/Obesity_maps/data/gene_maps_correlations_10000.csv\u001b[39m\u001b[38;5;124m'\u001b[39m, sep\u001b[38;5;241m=\u001b[39m\u001b[38;5;124m'\u001b[39m\u001b[38;5;124m,\u001b[39m\u001b[38;5;124m'\u001b[39m,\n\u001b[1;32m     17\u001b[0m                  header\u001b[38;5;241m=\u001b[39m\u001b[38;5;28;01mTrue\u001b[39;00m)\n",
      "\u001b[0;31mKeyboardInterrupt\u001b[0m: "
     ]
    }
   ],
   "source": [
    "gene_corrs=pd.DataFrame([[0, 0, 0]], columns=['gene','corrcoef','p-val'], index=['gene'])\n",
    "index=0\n",
    "\n",
    "for gene in expression1:\n",
    "        main_corr=np.corrcoef(mymap_parc[0,115:234], expression1[gene])[1,0]\n",
    "        print('Gene number '+str(index))\n",
    "        index=index+1\n",
    "        #print(main_corr)\n",
    "        corrs=list()\n",
    "        for spin in range(10000):\n",
    "            corrs.append(np.corrcoef(surrogates[spin], expression1[gene])[1,0])\n",
    "            p=(sum(i > abs(main_corr) for i in np.absolute(corrs))/10001)\n",
    "        gene_corrs=gene_corrs.append(pd.DataFrame([[gene, main_corr, p]],columns=['gene','corrcoef','p-val'], \n",
    "                                                  index=[gene]))\n",
    "        \n",
    "gene_corrs.to_csv(path_or_buf='/dagher/dagher11/filip/Obesity_maps/data/gene_maps_correlations_10000.csv', sep=',',\n",
    "                 header=True)"
   ]
  },
  {
   "cell_type": "code",
   "execution_count": 212,
   "id": "d0fb6007",
   "metadata": {},
   "outputs": [],
   "source": [
    "from statsmodels.stats import multitest\n",
    "\n",
    "corrected=multitest.multipletests(gene_corrs['p-val'], alpha=0.05, method='fdr_bh')"
   ]
  },
  {
   "cell_type": "code",
   "execution_count": 213,
   "id": "d7965ed0",
   "metadata": {},
   "outputs": [],
   "source": [
    "gene_corrs['cor_p']=corrected[1]"
   ]
  },
  {
   "cell_type": "code",
   "execution_count": 220,
   "id": "876ca05f",
   "metadata": {
    "collapsed": true
   },
   "outputs": [
    {
     "name": "stdout",
     "output_type": "stream",
     "text": [
      "gene\n",
      "ABCF3\n",
      "ABCG1\n",
      "ABHD16A\n",
      "ABHD18\n",
      "ABRAXAS2\n",
      "ACADSB\n",
      "ACAP2\n",
      "ACAP3\n",
      "ACAT2\n",
      "ACKR4\n",
      "ACSF3\n",
      "ACSM1\n",
      "ACTN2\n",
      "ADA2\n",
      "ADAMTSL2\n",
      "ADCY8\n",
      "ADCYAP1\n",
      "ADGRG5\n",
      "ADPRHL1\n",
      "ADRA1B\n",
      "ADRM1\n",
      "ADTRP\n",
      "AGBL3\n",
      "AGFG1\n",
      "AGL\n",
      "AGTPBP1\n",
      "AKAP11\n",
      "AKAP12\n",
      "AKAP8\n",
      "ALAS1\n",
      "ALDH1L2\n",
      "ALDH5A1\n",
      "ALDOA\n",
      "ALKBH3\n",
      "ALKBH5\n",
      "ALMS1\n",
      "ALMS1P1\n",
      "ALPP\n",
      "ALS2CL\n",
      "ALS2CR12\n",
      "ANKFY1\n",
      "ANKRA2\n",
      "ANKRD17\n",
      "ANKRD27\n",
      "ANKRD28\n",
      "ANKRD30B\n",
      "ANKRD36B\n",
      "ANKRD36BP2\n",
      "ANKRD44\n",
      "ANKRD45\n",
      "ANKS1B\n",
      "ANP32D\n",
      "AP1M1\n",
      "AP2S1\n",
      "AP4B1\n",
      "AP4M1\n",
      "APCDD1L\n",
      "APEH\n",
      "APLP2\n",
      "APOL5\n",
      "AQP2\n",
      "ARFIP2\n",
      "ARHGAP20\n",
      "ARHGAP25\n",
      "ARHGDIG\n",
      "ARHGEF33\n",
      "ARID3B\n",
      "ARL4D\n",
      "ARL5A\n",
      "ARL8B\n",
      "ARSK\n",
      "ARTN\n",
      "ASB16\n",
      "ASB18\n",
      "ASB2\n",
      "ASB6\n",
      "ASGR2\n",
      "ASNSP1\n",
      "ATAD2B\n",
      "ATE1\n",
      "ATG101\n",
      "ATG2A\n",
      "ATG5\n",
      "ATG9A\n",
      "ATP10D\n",
      "ATP13A2\n",
      "ATP2C1\n",
      "ATP5PF\n",
      "ATP6V0A1\n",
      "ATP6V1A\n",
      "ATRX\n",
      "ATXN3\n",
      "AURKA\n",
      "AURKAIP1\n",
      "AURKC\n",
      "AUTS2\n",
      "AVP\n",
      "AZIN2\n",
      "BAALC\n",
      "BAIAP2L2\n",
      "BANP\n",
      "BCAS3\n",
      "BCL2L11\n",
      "BCL2L13\n",
      "BEND5\n",
      "BEX4\n",
      "BHLHE22\n",
      "BIN3-IT1\n",
      "BIRC2\n",
      "BNIP1\n",
      "BNIP3\n",
      "BOD1\n",
      "BRD2\n",
      "BTBD1\n",
      "BTBD10\n",
      "BTF3\n",
      "BTG1\n",
      "BTN2A3P\n",
      "BTRC\n",
      "C11orf49\n",
      "C11orf74\n",
      "C12orf29\n",
      "C14orf28\n",
      "C19orf44\n",
      "C20orf144\n",
      "C20orf96\n",
      "C22orf15\n",
      "C2orf49\n",
      "C2orf70\n",
      "C3orf38\n",
      "C5orf22\n",
      "C8orf46\n",
      "C9orf139\n",
      "CAAP1\n",
      "CABLES1\n",
      "CACNA1E\n",
      "CACNB2\n",
      "CALHM1\n",
      "CALM3\n",
      "CALN1\n",
      "CAMK1G\n",
      "CAPNS1\n",
      "CAPRIN2\n",
      "CARF\n",
      "CASP8\n",
      "CASQ1\n",
      "CAV1\n",
      "CBLN2\n",
      "CCAR2\n",
      "CCDC110\n",
      "CCDC124\n",
      "CCDC134\n",
      "CCDC15\n",
      "CCDC152\n",
      "CCDC157\n",
      "CCDC174\n",
      "CCDC59\n",
      "CCDC61\n",
      "CCDC65\n",
      "CCDC7\n",
      "CCDC71\n",
      "CCDC85A\n",
      "CCDC88A\n",
      "CCDC9\n",
      "CCM2\n",
      "CCNDBP1\n",
      "CCNK\n",
      "CCNL2\n",
      "CCNYL1\n",
      "CCSER2\n",
      "CCT2\n",
      "CCT7\n",
      "CD22\n",
      "CD86\n",
      "CDC123\n",
      "CDC14C\n",
      "CDC42EP2\n",
      "CDH16\n",
      "CDH18\n",
      "CDIPT\n",
      "CDK5RAP2\n",
      "CDKAL1\n",
      "CDT1\n",
      "CDV3\n",
      "CDYL2\n",
      "CEACAM21\n",
      "CEBPZOS\n",
      "CENPC\n",
      "CEP19\n",
      "CEP57\n",
      "CEP78\n",
      "CEP89\n",
      "CERS6\n",
      "CFAP52\n",
      "CHERP\n",
      "CHRNA4\n",
      "CHST8\n",
      "CIAO1\n",
      "CISD1\n",
      "CISH\n",
      "CKB\n",
      "CLCN5\n",
      "CLIC6\n",
      "CLPTM1L\n",
      "CLTC\n",
      "CLYBL\n",
      "CMAHP\n",
      "CMBL\n",
      "CMKLR1\n",
      "CNFN\n",
      "CNOT1\n",
      "CNOT10\n",
      "CNOT4\n",
      "CNTLN\n",
      "CNTN4\n",
      "CNTNAP2\n",
      "COG4\n",
      "COL24A1\n",
      "COL5A2\n",
      "COMMD10\n",
      "COPB1\n",
      "COQ2\n",
      "COX15\n",
      "COX20\n",
      "CPNE1\n",
      "CREB3L3\n",
      "CRLF1\n",
      "CRTAP\n",
      "CRYBB1\n",
      "CSNK1D\n",
      "CTAGE11P\n",
      "CTBP1-AS2\n",
      "CTC1\n",
      "CTRB2\n",
      "CTRC\n",
      "CTSL\n",
      "CTSS\n",
      "CTTNBP2NL\n",
      "CTXN2\n",
      "CTXN3\n",
      "CUEDC2\n",
      "CXorf56\n",
      "CYB5B\n",
      "DAB1\n",
      "DACH1\n",
      "DAPK2\n",
      "DCUN1D3\n",
      "DDX59\n",
      "DEDD2\n",
      "DEFB115\n",
      "DEFB118\n",
      "DEFB135\n",
      "DENND2D\n",
      "DGKE\n",
      "DGKH\n",
      "DGKQ\n",
      "DGLUCY\n",
      "DHCR24\n",
      "DHRS7B\n",
      "DHX37\n",
      "DHX40\n",
      "DHX9\n",
      "DLGAP4\n",
      "DMRTA1\n",
      "DMRTA2\n",
      "DNAAF5\n",
      "DNAJA2\n",
      "DNAJC8\n",
      "DPP3\n",
      "DPYSL2\n",
      "DRD1\n",
      "DRG1\n",
      "DSCR9\n",
      "DSP\n",
      "DTD1\n",
      "DTX2P1-UPK3BP1-PMS2P11\n",
      "DTX4\n",
      "DUS2\n",
      "DUSP10\n",
      "DUSP19\n",
      "DUSP2\n",
      "DUSP22\n",
      "DUSP6\n",
      "DYNC1H1\n",
      "DYNLT3\n",
      "DYRK4\n",
      "EBF4\n",
      "ECD\n",
      "ECHDC2\n",
      "ECT2\n",
      "EEF1A2\n",
      "EGFL7\n",
      "EIF1AD\n",
      "EIF4EBP2\n",
      "EIF4ENIF1\n",
      "ELMO1\n",
      "ELOC\n",
      "ELP3\n",
      "EMC3\n",
      "EMC4\n",
      "EML1\n",
      "EML4\n",
      "ENDOV\n",
      "ENPP4\n",
      "ENPP6\n",
      "EP400\n",
      "EPHB3\n",
      "EPS15L1\n",
      "ERCC6L2\n",
      "ERCC8\n",
      "ERICH1\n",
      "ESR1\n",
      "EWSR1\n",
      "EXOC1\n",
      "EXOC2\n",
      "EXOSC5\n",
      "EXOSC9\n",
      "FAIM2\n",
      "FAM118A\n",
      "FAM155B\n",
      "FAM210B\n",
      "FAM234B\n",
      "FAM24B\n",
      "FAM50A\n",
      "FAM9B\n",
      "FARSA\n",
      "FBXL15\n",
      "FBXL22\n",
      "FBXL8\n",
      "FBXO3\n",
      "FBXO36\n",
      "FCER2\n",
      "FDX1L\n",
      "FGD1\n",
      "FGFR4\n",
      "FHL1\n",
      "FIBP\n",
      "FIG4\n",
      "FIS1\n",
      "FITM2\n",
      "FKBPL\n",
      "FKTN\n",
      "FLAD1\n",
      "FLII\n",
      "FLJ33534\n",
      "FLOT1\n",
      "FLT4\n",
      "FNIP1\n",
      "FOXA2\n",
      "FOXI3\n",
      "FOXK2\n",
      "FREM3\n",
      "FRS3\n",
      "FTO\n",
      "FXR2\n",
      "FYN\n",
      "GAL\n",
      "GALNT5\n",
      "GALNTL5\n",
      "GALP\n",
      "GAREM1\n",
      "GAS8\n",
      "GATB\n",
      "GBAP1\n",
      "GCA\n",
      "GDF10\n",
      "GDI2\n",
      "GEMIN5\n",
      "GFOD2\n",
      "GFRA4\n",
      "GGT8P\n",
      "GHITM\n",
      "GHRL\n",
      "GJD3\n",
      "GLT1D1\n",
      "GMDS\n",
      "GMPPA\n",
      "GMPPB\n",
      "GNB1L\n",
      "GNG3\n",
      "GOLGA3\n",
      "GON7\n",
      "GORASP1\n",
      "GP9\n",
      "GPANK1\n",
      "GPAT4\n",
      "GPATCH4\n",
      "GPC1\n",
      "GPD1L\n",
      "GPR20\n",
      "GPR26\n",
      "GPR75\n",
      "GPS1\n",
      "GPX3\n",
      "GPX7\n",
      "GRASP\n",
      "GREB1L\n",
      "GRINA\n",
      "GRSF1\n",
      "GSR\n",
      "GSTO1\n",
      "GSTZ1\n",
      "GTDC1\n",
      "GTF2H1\n",
      "GUCY1A2\n",
      "GVINP1\n",
      "GYG2P1\n",
      "HARBI1\n",
      "HAUS3\n",
      "HAUS4\n",
      "HAUS7\n",
      "HCG4\n",
      "HDAC9\n",
      "HDDC3\n",
      "HDHD3\n",
      "HEATR3\n",
      "HECTD4\n",
      "HGS\n",
      "HID1\n",
      "HIF1AN\n",
      "HIST1H1C\n",
      "HLA-DPB1\n",
      "HLA-DPB2\n",
      "HMGB3P1\n",
      "HMGN3\n",
      "HMOX2\n",
      "HNRNPH2\n",
      "HNRNPK\n",
      "HNRNPKP3\n",
      "HNRNPUL1\n",
      "HOXB3\n",
      "HPS6\n",
      "HRASLS5\n",
      "HSF2\n",
      "HSPA12B\n",
      "HSPA14\n",
      "HSPA8\n",
      "HSPB3\n",
      "HTATSF1\n",
      "HTR1E\n",
      "IARS\n",
      "IBTK\n",
      "IDH3B\n",
      "IFI6\n",
      "IFIT1\n",
      "IFT52\n",
      "IFT74\n",
      "IFT81\n",
      "IKBKG\n",
      "IL26\n",
      "ILF2\n",
      "IMMT\n",
      "IMP4\n",
      "INF2\n",
      "INPP4B\n",
      "INPP5D\n",
      "INTS1\n",
      "INTS12\n",
      "INTS6\n",
      "IPMK\n",
      "IRAK1BP1\n",
      "IRX5\n",
      "ITGA2\n",
      "ITGB1BP1\n",
      "IVL\n",
      "IWS1\n",
      "JAG2\n",
      "JKAMP\n",
      "JMJD8\n",
      "KAT5\n",
      "KAT7\n",
      "KCNH7\n",
      "KCNIP1\n",
      "KCNJ12\n",
      "KCNK1\n",
      "KCNN2\n",
      "KDM2A\n",
      "KDM3A\n",
      "KHDC1\n",
      "KHDC1L\n",
      "KHSRP\n",
      "KIAA1109\n",
      "KIAA2026\n",
      "KIF17\n",
      "KIFAP3\n",
      "KLHDC9\n",
      "KLHL34\n",
      "KLHL36\n",
      "KLK8\n",
      "KMT2A\n",
      "KMT2C\n",
      "KMT2D\n",
      "KPTN\n",
      "KRT18P55\n",
      "KRT31\n",
      "KRTAP19-2\n",
      "KRTAP19-5\n",
      "L3MBTL3\n",
      "LAGE3\n",
      "LAMA2\n",
      "LBH\n",
      "LCE2D\n",
      "LCP2\n",
      "LDHB\n",
      "LDLR\n",
      "LEMD2\n",
      "LGALS1\n",
      "LGR6\n",
      "LHPP\n",
      "LIMK2\n",
      "LINC00167\n",
      "LINC00294\n",
      "LINC00367\n",
      "LINC00839\n",
      "LINC00842\n",
      "LINC00938\n",
      "LINC01116\n",
      "LINC01146\n",
      "LINC01686\n",
      "LINC02018\n",
      "LNPK\n",
      "LOC100128239\n",
      "LOC100129034\n",
      "LOC100132249\n",
      "LOC101926934\n",
      "LOC101927550\n",
      "LOC101929066\n",
      "LOC107984974\n",
      "LOC108783654\n",
      "LOC389765\n",
      "LOC389895\n",
      "LOC541472\n",
      "LOC643201\n",
      "LONRF3\n",
      "LPIN2\n",
      "LRP1\n",
      "LRRC14\n",
      "LRRC29\n",
      "LRRC4B\n",
      "LRRC4C\n",
      "LRRC75B\n",
      "LRSAM1\n",
      "LRTOMT\n",
      "LSG1\n",
      "LSM10\n",
      "LSM12\n",
      "LTA\n",
      "LUC7L\n",
      "LZTR1\n",
      "M6PR\n",
      "MAB21L3\n",
      "MACF1\n",
      "MAEA\n",
      "MAFA\n",
      "MAFF\n",
      "MAML3\n",
      "MAMLD1\n",
      "MAMSTR\n",
      "MAN2A1\n",
      "MAN2B1\n",
      "MANBAL\n",
      "MAP2K4\n",
      "MAP4K3\n",
      "MAPK13\n",
      "MARCH5\n",
      "MAST2\n",
      "MASTL\n",
      "MBD1\n",
      "MCHR1\n",
      "MCM3\n",
      "MCOLN1\n",
      "MDM4\n",
      "MED13\n",
      "MED19\n",
      "MED31\n",
      "MEDAG\n",
      "MEF2D\n",
      "MEG3\n",
      "METAP1\n",
      "METTL22\n",
      "METTL3\n",
      "MFAP1\n",
      "MFN2\n",
      "MFSD14C\n",
      "MFSD3\n",
      "MFSD8\n",
      "MGAT4C\n",
      "MGC34796\n",
      "MIEF1\n",
      "MIGA1\n",
      "MINPP1\n",
      "MIR100HG\n",
      "MIR4435-2HG\n",
      "MIR7515HG\n",
      "MKNK1\n",
      "MMGT1\n",
      "MON1A\n",
      "MPG\n",
      "MPND\n",
      "MPPE1\n",
      "MPV17L\n",
      "MRFAP1L1\n",
      "MRPL36\n",
      "MRPL53\n",
      "MRPS14\n",
      "MRPS18A\n",
      "MRPS18C\n",
      "MRPS34\n",
      "MSANTD4\n",
      "MSH6\n",
      "MTERF2\n",
      "MTF1\n",
      "MTHFD2L\n",
      "MTMR7\n",
      "MTOR\n",
      "MTX2\n",
      "MTX3\n",
      "MXD3\n",
      "MYBL1\n",
      "MYBPH\n",
      "MYCL\n",
      "MYH10\n",
      "MYOM2\n",
      "NABP2\n",
      "NAE1\n",
      "NAP1L6\n",
      "NAT10\n",
      "NAT16\n",
      "NAT6\n",
      "NBAS\n",
      "NBPF3\n",
      "NBR1\n",
      "NCBP2-AS2\n",
      "NCKAP1\n",
      "NDEL1\n",
      "NDST3\n",
      "NDUFAF4\n",
      "NDUFAF7\n",
      "NDUFB2\n",
      "NDUFB2-AS1\n",
      "NDUFB4\n",
      "NDUFB8\n",
      "NDUFV1\n",
      "NECAP1\n",
      "NECTIN3\n",
      "NEDD8\n",
      "NEK10\n",
      "NEUROG3\n",
      "NFS1\n",
      "NFYB\n",
      "NIFK\n",
      "NIN\n",
      "NKIRAS1\n",
      "NLGN1\n",
      "NLGN2\n",
      "NLGN4X\n",
      "NLGN4Y\n",
      "NLRC3\n",
      "NMB\n",
      "NMD3\n",
      "NME7\n",
      "NONO\n",
      "NOP14-AS1\n",
      "NOSIP\n",
      "NPAT\n",
      "NPEPPS\n",
      "NPIPB2\n",
      "NPRL2\n",
      "NR2F2-AS1\n",
      "NRG4\n",
      "NRROS\n",
      "NTMT1\n",
      "NUDT19\n",
      "OLFM4\n",
      "OR10A2\n",
      "OR10A5\n",
      "OR2H2\n",
      "OR3A1\n",
      "OR52W1\n",
      "ORAI2\n",
      "ORAI3\n",
      "ORC5\n",
      "OS9\n",
      "OSER1\n",
      "OSTN\n",
      "OVOL2\n",
      "PABPC3\n",
      "PAF1\n",
      "PAK1IP1\n",
      "PALM3\n",
      "PAM\n",
      "PAPD4\n",
      "PARP11\n",
      "PART1\n",
      "PATJ\n",
      "PAXBP1\n",
      "PCDH11X\n",
      "PCDH8\n",
      "PCDHGA12\n",
      "PCDHGA3\n",
      "PCDHGA7\n",
      "PCDHGB7\n",
      "PCED1A\n",
      "PCIF1\n",
      "PCNX4\n",
      "PCP2\n",
      "PCYOX1L\n",
      "PDHA1\n",
      "PDK3\n",
      "PDRG1\n",
      "PDXDC1\n",
      "PEAK1\n",
      "PELO\n",
      "PES1\n",
      "PEX11B\n",
      "PEX16\n",
      "PEX2\n",
      "PGAM1\n",
      "PHACTR2\n",
      "PHC3\n",
      "PHF2\n",
      "PHF21B\n",
      "PHF23\n",
      "PHF3\n",
      "PHIP\n",
      "PHKG2\n",
      "PHLDA2\n",
      "PHLPP2\n",
      "PI4K2B\n",
      "PI4KA\n",
      "PICK1\n",
      "PIK3AP1\n",
      "PIK3R2\n",
      "PIN1\n",
      "PIN1P1\n",
      "PITPNB\n",
      "PKP3\n",
      "PLA2G4C\n",
      "PLAUR\n",
      "PLEKHM1P1\n",
      "PLIN4\n",
      "PLOD2\n",
      "PM20D2\n",
      "PMPCA\n",
      "PMPCB\n",
      "PMS2CL\n",
      "PMS2P4\n",
      "PMS2P5\n",
      "PMS2P7\n",
      "PNMA8B\n",
      "PNPLA1\n",
      "PNPLA6\n",
      "PNPLA8\n",
      "POLR2E\n",
      "POLR3G\n",
      "POM121L1P\n",
      "POMT1\n",
      "POU2F1\n",
      "PPARG\n",
      "PPP2R2A\n",
      "PRDX5\n",
      "PRKRIP1\n",
      "PRLHR\n",
      "PROP1\n",
      "PRPF38B\n",
      "PRR15L\n",
      "PRR3\n",
      "PRSS50\n",
      "PSMA3-AS1\n",
      "PSMC3\n",
      "PSMG2\n",
      "PTMS\n",
      "PTPA\n",
      "PTPN20\n",
      "PTPN23\n",
      "PTPRS\n",
      "PXN\n",
      "QSER1\n",
      "RAB2A\n",
      "RAB33A\n",
      "RAB3B\n",
      "RAB7B\n",
      "RABEP1\n",
      "RABEPK\n",
      "RABGAP1\n",
      "RAMP2\n",
      "RANBP1\n",
      "RAP2C-AS1\n",
      "RASD1\n",
      "RASGRF2\n",
      "RBL1\n",
      "RBM6\n",
      "RCAN1\n",
      "RDM1\n",
      "REPS2\n",
      "RETREG1\n",
      "REV1\n",
      "REV3L\n",
      "RGS11\n",
      "RGS4\n",
      "RHCE\n",
      "RHCG\n",
      "RHOF\n",
      "RIOK3\n",
      "RIPK1\n",
      "RLN3\n",
      "RMND5B\n",
      "RNASEH1\n",
      "RNASEH1-AS1\n",
      "RNF167\n",
      "RNF175\n",
      "RNF180\n",
      "RNF20\n",
      "RNF207\n",
      "RNF212\n",
      "RNF217\n",
      "RNF40\n",
      "RNPS1\n",
      "RPA4\n",
      "RPF2\n",
      "RPL34-AS1\n",
      "RSPH6A\n",
      "RSPRY1\n",
      "RTCB\n",
      "RTN3\n",
      "RTN4IP1\n",
      "RUNDC1\n",
      "RXFP1\n",
      "S100A14\n",
      "SAMD5\n",
      "SAMM50\n",
      "SC5D\n",
      "SCARA3\n",
      "SCGB1C1\n",
      "SCN4A\n",
      "SCO2\n",
      "SCYL3\n",
      "SDHAF4\n",
      "SDK1\n",
      "SENP2\n",
      "SERINC3\n",
      "SET\n",
      "SFPQ\n",
      "SH2D2A\n",
      "SH3GLB2\n",
      "SIAE\n",
      "SIDT1\n",
      "SIK2\n",
      "SIX5\n",
      "SKI\n",
      "SKIV2L\n",
      "SLAIN2\n",
      "SLC17A9\n",
      "SLC1A1\n",
      "SLC22A18\n",
      "SLC23A3\n",
      "SLC24A5\n",
      "SLC25A11\n",
      "SLC25A24\n",
      "SLC25A42\n",
      "SLC25A46\n",
      "SLC27A1\n",
      "SLC27A4\n",
      "SLC35B1\n",
      "SLC35F1\n",
      "SLC35G2\n",
      "SLC35G3\n",
      "SLC39A10\n",
      "SLC39A3\n",
      "SLC49A3\n",
      "SLC50A1\n",
      "SLC6A15\n",
      "SLCO2A1\n",
      "SLITRK5\n",
      "SLX4IP\n",
      "SMAD4\n",
      "SMARCA4\n",
      "SMARCC1\n",
      "SMARCE1\n",
      "SMC5\n",
      "SMIM10L1\n",
      "SMIM12\n",
      "SMIM14\n",
      "SMIM24\n",
      "SMPD3\n",
      "SMUG1\n",
      "SNORD22\n",
      "SNU13\n",
      "SNX10\n",
      "SNX11\n",
      "SNX14\n",
      "SNX17\n",
      "SNX19\n",
      "SORD2P\n",
      "SPAG16\n",
      "SPDL1\n",
      "SPEF1\n",
      "SPON2\n",
      "SPOUT1\n",
      "SPR\n",
      "SPRY4\n",
      "SPRYD3\n",
      "SRSF5\n",
      "SRSF7\n",
      "SSTR3\n",
      "ST7L\n",
      "STARD4\n",
      "STARD7\n",
      "STAT1\n",
      "STAT2\n",
      "STAT6\n",
      "STBD1\n",
      "STEAP1\n",
      "STEAP1B\n",
      "STK31\n",
      "STK39\n",
      "STMN2\n",
      "STUB1\n",
      "STX17\n",
      "STXBP5\n",
      "SUGT1P1\n",
      "SUPT20H\n",
      "SUPT7L\n",
      "SURF4\n",
      "SUZ12P1\n",
      "SYNGAP1\n",
      "SYNJ2BP\n",
      "SYNM\n",
      "SYNPO2\n",
      "TACO1\n",
      "TAF1B\n",
      "TAF5\n",
      "TAF9\n",
      "TAOK2\n",
      "TBC1D17\n",
      "TBC1D22B\n",
      "TBC1D31\n",
      "TBL1X\n",
      "TBL1Y\n",
      "TCEA2\n",
      "TCEAL1\n",
      "TCERG1L\n",
      "TCTE3\n",
      "TEDC1\n",
      "TERF2IP\n",
      "TET2\n",
      "TEX10\n",
      "TEX30\n",
      "TEX47\n",
      "TFRC\n",
      "THOC1\n",
      "THOC2\n",
      "TIAM1\n",
      "TIE1\n",
      "TIGD1\n",
      "TIMM21\n",
      "TLE1\n",
      "TM6SF1\n",
      "TMED8\n",
      "TMEM11\n",
      "TMEM114\n",
      "TMEM119\n",
      "TMEM126B\n",
      "TMEM135\n",
      "TMEM140\n",
      "TMEM14A\n",
      "TMEM184B\n",
      "TMEM19\n",
      "TMEM191A\n",
      "TMEM239\n",
      "TMEM254\n",
      "TMEM259\n",
      "TMEM44\n",
      "TMEM59\n",
      "TMEM70\n",
      "TMEM72\n",
      "TMSB15A\n",
      "TNFAIP8\n",
      "TNFRSF14\n",
      "TNFRSF21\n",
      "TNFSF13\n",
      "TNNT2\n",
      "TNNT3\n",
      "TOMM5\n",
      "TOX4\n",
      "TPBG\n",
      "TPI1\n",
      "TPI1P2\n",
      "TPM3\n",
      "TPR\n",
      "TPRN\n",
      "TPSG1\n",
      "TPST2\n",
      "TRABD2A\n",
      "TRAP1\n",
      "TRAPPC3\n",
      "TRIM15\n",
      "TRIM3\n",
      "TRIM46\n",
      "TRIOBP\n",
      "TRMT10C\n",
      "TRMT2A\n",
      "TRNT1\n",
      "TROAP\n",
      "TRPC1\n",
      "TRPC4AP\n",
      "TRPM5\n",
      "TSPAN10\n",
      "TSPAN3\n",
      "TSTA3\n",
      "TTC14\n",
      "TTC30B\n",
      "TTC37\n",
      "TTC9\n",
      "TUBA1B\n",
      "TUBA4A\n",
      "TUBA4B\n",
      "TUBB4A\n",
      "TUBGCP2\n",
      "TUBGCP4\n",
      "TUG1\n",
      "TUT1\n",
      "TXLNA\n",
      "U2SURP\n",
      "UBC\n",
      "UBE2M\n",
      "UBE2R2\n",
      "UBE3D\n",
      "UBL7-AS1\n",
      "UBQLN2\n",
      "UBR1\n",
      "UBR7\n",
      "UCKL1\n",
      "UNC45A\n",
      "UNC80\n",
      "UQCRFS1\n",
      "USP15\n",
      "USP3\n",
      "USP38\n",
      "USP48\n",
      "USP7\n",
      "UTY\n",
      "UXS1\n",
      "VCL\n",
      "VDAC3\n",
      "VENTX\n",
      "VIT\n",
      "VKORC1\n",
      "VMO1\n",
      "VPS13D\n",
      "VPS25\n",
      "VPS28\n",
      "VSX1\n",
      "VWDE\n",
      "WAC\n",
      "WDR24\n",
      "WDR35\n",
      "WDR36\n",
      "WDR43\n",
      "WDR46\n",
      "WDR5\n",
      "WDR82\n",
      "WDTC1\n",
      "WHRN\n",
      "WNT7A\n",
      "XRCC5\n",
      "YIPF2\n",
      "YIPF3\n",
      "YIPF4\n",
      "YPEL5\n",
      "YRDC\n",
      "YWHAE\n",
      "YWHAEP1\n",
      "YWHAG\n",
      "YY2\n",
      "ZBTB41\n",
      "ZC3H11B\n",
      "ZC3H14\n",
      "ZC3H6\n",
      "ZC3H7A\n",
      "ZC3HAV1L\n",
      "ZCCHC7\n",
      "ZDHHC19\n",
      "ZFAND5\n",
      "ZFC3H1\n",
      "ZFP37\n",
      "ZFP62\n",
      "ZFPL1\n",
      "ZFYVE27\n",
      "ZHX3\n",
      "ZKSCAN5\n",
      "ZMAT5\n",
      "ZMYND11\n",
      "ZMYND19\n",
      "ZNF10\n",
      "ZNF101\n",
      "ZNF112\n",
      "ZNF141\n",
      "ZNF195\n",
      "ZNF22\n",
      "ZNF224\n",
      "ZNF254\n",
      "ZNF275\n",
      "ZNF292\n",
      "ZNF304\n",
      "ZNF33A\n",
      "ZNF33B\n",
      "ZNF37A\n",
      "ZNF418\n",
      "ZNF432\n",
      "ZNF439\n",
      "ZNF485\n",
      "ZNF518A\n",
      "ZNF532\n",
      "ZNF576\n",
      "ZNF594\n",
      "ZNF606\n",
      "ZNF607\n",
      "ZNF622\n",
      "ZNF638\n",
      "ZNF675\n",
      "ZNF687\n",
      "ZNF69\n",
      "ZNF699\n",
      "ZNF716\n",
      "ZNF717\n",
      "ZNF726\n",
      "ZNF75A\n",
      "ZNF91\n",
      "ZNHIT2\n",
      "ZNRD1ASP\n",
      "ZNRF2P1\n",
      "ZRSR2\n",
      "ZSWIM8\n"
     ]
    }
   ],
   "source": [
    "for gene in (gene_corrs[gene_corrs['p-val']<0.05].index.values):\n",
    "    print(gene)"
   ]
  },
  {
   "cell_type": "markdown",
   "id": "5f19ee45",
   "metadata": {},
   "source": [
    "# Take genes significantly related to BMI according to 2018 GWAS and get an average map of distribution in the brain"
   ]
  },
  {
   "cell_type": "markdown",
   "id": "238d0993",
   "metadata": {},
   "source": [
    "## From Yengo"
   ]
  },
  {
   "cell_type": "code",
   "execution_count": 91,
   "id": "e7a2e193",
   "metadata": {},
   "outputs": [],
   "source": [
    "import itertools\n",
    "def intersection(lst1, lst2):\n",
    "    lst3 = [value for value in lst1 if value in lst2]\n",
    "    return lst3\n",
    "\n",
    "Yengo = pd.read_csv('/dagher/dagher11/filip/Obesity_maps//data/Yengo_genes.csv')\n",
    "\n",
    "common_genes=intersection(list(expression1.columns), list(itertools.chain(*Yengo.values.tolist())))"
   ]
  },
  {
   "cell_type": "code",
   "execution_count": 92,
   "id": "d5d45e82",
   "metadata": {},
   "outputs": [
    {
     "data": {
      "text/plain": [
       "429"
      ]
     },
     "execution_count": 92,
     "metadata": {},
     "output_type": "execute_result"
    }
   ],
   "source": [
    "len(common_genes)"
   ]
  },
  {
   "cell_type": "code",
   "execution_count": 93,
   "id": "9349c375",
   "metadata": {},
   "outputs": [],
   "source": [
    "gene_maps_BMI=expression1[common_genes]\n",
    "#gene_maps_BMI['mean']=gene_maps_BMI.mean(axis=1)"
   ]
  },
  {
   "cell_type": "code",
   "execution_count": 96,
   "id": "8aa92d8c",
   "metadata": {},
   "outputs": [],
   "source": [
    "gene_maps_BMI.to_csv(path_or_buf='/dagher/dagher11/filip/Obesity_maps/data/genes_Yengo_LH.csv', sep=',',\n",
    "                 header=True)"
   ]
  },
  {
   "cell_type": "markdown",
   "id": "fba647fd",
   "metadata": {},
   "source": [
    "### Correlate BMI map with gene map"
   ]
  },
  {
   "cell_type": "code",
   "execution_count": 83,
   "id": "27c8ceea",
   "metadata": {},
   "outputs": [],
   "source": [
    "import mne"
   ]
  },
  {
   "cell_type": "code",
   "execution_count": 79,
   "id": "08cfccd6",
   "metadata": {},
   "outputs": [
    {
     "name": "stdout",
     "output_type": "stream",
     "text": [
      "-0.03383940525207766\n",
      "-0.18912192398020447\n"
     ]
    },
    {
     "name": "stderr",
     "output_type": "stream",
     "text": [
      "/tmp/ipykernel_30535/3929790965.py:11: FutureWarning: The frame.append method is deprecated and will be removed from pandas in a future version. Use pandas.concat instead.\n",
      "  gene_corrs=gene_corrs.append(pd.DataFrame([[gene, main_corr, p]],columns=['gene','corrcoef','p-val'],\n",
      "/tmp/ipykernel_30535/3929790965.py:11: FutureWarning: The frame.append method is deprecated and will be removed from pandas in a future version. Use pandas.concat instead.\n",
      "  gene_corrs=gene_corrs.append(pd.DataFrame([[gene, main_corr, p]],columns=['gene','corrcoef','p-val'],\n"
     ]
    },
    {
     "name": "stdout",
     "output_type": "stream",
     "text": [
      "-0.010368820553948414\n",
      "0.41641519110804387\n"
     ]
    },
    {
     "name": "stderr",
     "output_type": "stream",
     "text": [
      "/tmp/ipykernel_30535/3929790965.py:11: FutureWarning: The frame.append method is deprecated and will be removed from pandas in a future version. Use pandas.concat instead.\n",
      "  gene_corrs=gene_corrs.append(pd.DataFrame([[gene, main_corr, p]],columns=['gene','corrcoef','p-val'],\n",
      "/tmp/ipykernel_30535/3929790965.py:11: FutureWarning: The frame.append method is deprecated and will be removed from pandas in a future version. Use pandas.concat instead.\n",
      "  gene_corrs=gene_corrs.append(pd.DataFrame([[gene, main_corr, p]],columns=['gene','corrcoef','p-val'],\n"
     ]
    },
    {
     "name": "stdout",
     "output_type": "stream",
     "text": [
      "0.1854253282789962\n",
      "0.029909935704495245\n"
     ]
    },
    {
     "name": "stderr",
     "output_type": "stream",
     "text": [
      "/tmp/ipykernel_30535/3929790965.py:11: FutureWarning: The frame.append method is deprecated and will be removed from pandas in a future version. Use pandas.concat instead.\n",
      "  gene_corrs=gene_corrs.append(pd.DataFrame([[gene, main_corr, p]],columns=['gene','corrcoef','p-val'],\n",
      "/tmp/ipykernel_30535/3929790965.py:11: FutureWarning: The frame.append method is deprecated and will be removed from pandas in a future version. Use pandas.concat instead.\n",
      "  gene_corrs=gene_corrs.append(pd.DataFrame([[gene, main_corr, p]],columns=['gene','corrcoef','p-val'],\n"
     ]
    },
    {
     "name": "stdout",
     "output_type": "stream",
     "text": [
      "-0.08964968156397514\n",
      "0.23340318028787638\n"
     ]
    },
    {
     "name": "stderr",
     "output_type": "stream",
     "text": [
      "/tmp/ipykernel_30535/3929790965.py:11: FutureWarning: The frame.append method is deprecated and will be removed from pandas in a future version. Use pandas.concat instead.\n",
      "  gene_corrs=gene_corrs.append(pd.DataFrame([[gene, main_corr, p]],columns=['gene','corrcoef','p-val'],\n",
      "/tmp/ipykernel_30535/3929790965.py:11: FutureWarning: The frame.append method is deprecated and will be removed from pandas in a future version. Use pandas.concat instead.\n",
      "  gene_corrs=gene_corrs.append(pd.DataFrame([[gene, main_corr, p]],columns=['gene','corrcoef','p-val'],\n"
     ]
    },
    {
     "name": "stdout",
     "output_type": "stream",
     "text": [
      "-0.1078324413860967\n",
      "-0.18851690121085027\n"
     ]
    },
    {
     "name": "stderr",
     "output_type": "stream",
     "text": [
      "/tmp/ipykernel_30535/3929790965.py:11: FutureWarning: The frame.append method is deprecated and will be removed from pandas in a future version. Use pandas.concat instead.\n",
      "  gene_corrs=gene_corrs.append(pd.DataFrame([[gene, main_corr, p]],columns=['gene','corrcoef','p-val'],\n",
      "/tmp/ipykernel_30535/3929790965.py:11: FutureWarning: The frame.append method is deprecated and will be removed from pandas in a future version. Use pandas.concat instead.\n",
      "  gene_corrs=gene_corrs.append(pd.DataFrame([[gene, main_corr, p]],columns=['gene','corrcoef','p-val'],\n"
     ]
    },
    {
     "name": "stdout",
     "output_type": "stream",
     "text": [
      "0.18152292149439592\n",
      "0.01547092369008763\n",
      "0.29711769860083537\n"
     ]
    },
    {
     "name": "stderr",
     "output_type": "stream",
     "text": [
      "/tmp/ipykernel_30535/3929790965.py:11: FutureWarning: The frame.append method is deprecated and will be removed from pandas in a future version. Use pandas.concat instead.\n",
      "  gene_corrs=gene_corrs.append(pd.DataFrame([[gene, main_corr, p]],columns=['gene','corrcoef','p-val'],\n",
      "/tmp/ipykernel_30535/3929790965.py:11: FutureWarning: The frame.append method is deprecated and will be removed from pandas in a future version. Use pandas.concat instead.\n",
      "  gene_corrs=gene_corrs.append(pd.DataFrame([[gene, main_corr, p]],columns=['gene','corrcoef','p-val'],\n",
      "/tmp/ipykernel_30535/3929790965.py:11: FutureWarning: The frame.append method is deprecated and will be removed from pandas in a future version. Use pandas.concat instead.\n",
      "  gene_corrs=gene_corrs.append(pd.DataFrame([[gene, main_corr, p]],columns=['gene','corrcoef','p-val'],\n",
      "/tmp/ipykernel_30535/3929790965.py:11: FutureWarning: The frame.append method is deprecated and will be removed from pandas in a future version. Use pandas.concat instead.\n",
      "  gene_corrs=gene_corrs.append(pd.DataFrame([[gene, main_corr, p]],columns=['gene','corrcoef','p-val'],\n"
     ]
    },
    {
     "name": "stdout",
     "output_type": "stream",
     "text": [
      "0.2023428046110151\n",
      "-0.027456992264226574\n"
     ]
    },
    {
     "name": "stderr",
     "output_type": "stream",
     "text": [
      "/tmp/ipykernel_30535/3929790965.py:11: FutureWarning: The frame.append method is deprecated and will be removed from pandas in a future version. Use pandas.concat instead.\n",
      "  gene_corrs=gene_corrs.append(pd.DataFrame([[gene, main_corr, p]],columns=['gene','corrcoef','p-val'],\n",
      "/tmp/ipykernel_30535/3929790965.py:11: FutureWarning: The frame.append method is deprecated and will be removed from pandas in a future version. Use pandas.concat instead.\n",
      "  gene_corrs=gene_corrs.append(pd.DataFrame([[gene, main_corr, p]],columns=['gene','corrcoef','p-val'],\n",
      "/tmp/ipykernel_30535/3929790965.py:11: FutureWarning: The frame.append method is deprecated and will be removed from pandas in a future version. Use pandas.concat instead.\n",
      "  gene_corrs=gene_corrs.append(pd.DataFrame([[gene, main_corr, p]],columns=['gene','corrcoef','p-val'],\n"
     ]
    },
    {
     "name": "stdout",
     "output_type": "stream",
     "text": [
      "0.15417142519912322\n",
      "-0.18710714295163453\n",
      "0.40633177798557196\n"
     ]
    },
    {
     "name": "stderr",
     "output_type": "stream",
     "text": [
      "/tmp/ipykernel_30535/3929790965.py:11: FutureWarning: The frame.append method is deprecated and will be removed from pandas in a future version. Use pandas.concat instead.\n",
      "  gene_corrs=gene_corrs.append(pd.DataFrame([[gene, main_corr, p]],columns=['gene','corrcoef','p-val'],\n",
      "/tmp/ipykernel_30535/3929790965.py:11: FutureWarning: The frame.append method is deprecated and will be removed from pandas in a future version. Use pandas.concat instead.\n",
      "  gene_corrs=gene_corrs.append(pd.DataFrame([[gene, main_corr, p]],columns=['gene','corrcoef','p-val'],\n"
     ]
    },
    {
     "name": "stdout",
     "output_type": "stream",
     "text": [
      "-0.28409954701243123\n",
      "0.10442144356694501\n"
     ]
    },
    {
     "name": "stderr",
     "output_type": "stream",
     "text": [
      "/tmp/ipykernel_30535/3929790965.py:11: FutureWarning: The frame.append method is deprecated and will be removed from pandas in a future version. Use pandas.concat instead.\n",
      "  gene_corrs=gene_corrs.append(pd.DataFrame([[gene, main_corr, p]],columns=['gene','corrcoef','p-val'],\n",
      "/tmp/ipykernel_30535/3929790965.py:11: FutureWarning: The frame.append method is deprecated and will be removed from pandas in a future version. Use pandas.concat instead.\n",
      "  gene_corrs=gene_corrs.append(pd.DataFrame([[gene, main_corr, p]],columns=['gene','corrcoef','p-val'],\n"
     ]
    },
    {
     "name": "stdout",
     "output_type": "stream",
     "text": [
      "0.031158989795387546\n",
      "-0.3107495409843919\n"
     ]
    },
    {
     "name": "stderr",
     "output_type": "stream",
     "text": [
      "/tmp/ipykernel_30535/3929790965.py:11: FutureWarning: The frame.append method is deprecated and will be removed from pandas in a future version. Use pandas.concat instead.\n",
      "  gene_corrs=gene_corrs.append(pd.DataFrame([[gene, main_corr, p]],columns=['gene','corrcoef','p-val'],\n",
      "/tmp/ipykernel_30535/3929790965.py:11: FutureWarning: The frame.append method is deprecated and will be removed from pandas in a future version. Use pandas.concat instead.\n",
      "  gene_corrs=gene_corrs.append(pd.DataFrame([[gene, main_corr, p]],columns=['gene','corrcoef','p-val'],\n"
     ]
    },
    {
     "name": "stdout",
     "output_type": "stream",
     "text": [
      "0.24316693749789367\n",
      "-0.09162134516727401\n"
     ]
    },
    {
     "name": "stderr",
     "output_type": "stream",
     "text": [
      "/tmp/ipykernel_30535/3929790965.py:11: FutureWarning: The frame.append method is deprecated and will be removed from pandas in a future version. Use pandas.concat instead.\n",
      "  gene_corrs=gene_corrs.append(pd.DataFrame([[gene, main_corr, p]],columns=['gene','corrcoef','p-val'],\n",
      "/tmp/ipykernel_30535/3929790965.py:11: FutureWarning: The frame.append method is deprecated and will be removed from pandas in a future version. Use pandas.concat instead.\n",
      "  gene_corrs=gene_corrs.append(pd.DataFrame([[gene, main_corr, p]],columns=['gene','corrcoef','p-val'],\n"
     ]
    },
    {
     "name": "stdout",
     "output_type": "stream",
     "text": [
      "-0.18718388785475895\n",
      "-0.11245810964320903\n"
     ]
    },
    {
     "name": "stderr",
     "output_type": "stream",
     "text": [
      "/tmp/ipykernel_30535/3929790965.py:11: FutureWarning: The frame.append method is deprecated and will be removed from pandas in a future version. Use pandas.concat instead.\n",
      "  gene_corrs=gene_corrs.append(pd.DataFrame([[gene, main_corr, p]],columns=['gene','corrcoef','p-val'],\n",
      "/tmp/ipykernel_30535/3929790965.py:11: FutureWarning: The frame.append method is deprecated and will be removed from pandas in a future version. Use pandas.concat instead.\n",
      "  gene_corrs=gene_corrs.append(pd.DataFrame([[gene, main_corr, p]],columns=['gene','corrcoef','p-val'],\n",
      "/tmp/ipykernel_30535/3929790965.py:11: FutureWarning: The frame.append method is deprecated and will be removed from pandas in a future version. Use pandas.concat instead.\n",
      "  gene_corrs=gene_corrs.append(pd.DataFrame([[gene, main_corr, p]],columns=['gene','corrcoef','p-val'],\n"
     ]
    },
    {
     "name": "stdout",
     "output_type": "stream",
     "text": [
      "0.14447718448654567\n",
      "0.04137986033191941\n",
      "0.19294627964609617\n"
     ]
    },
    {
     "name": "stderr",
     "output_type": "stream",
     "text": [
      "/tmp/ipykernel_30535/3929790965.py:11: FutureWarning: The frame.append method is deprecated and will be removed from pandas in a future version. Use pandas.concat instead.\n",
      "  gene_corrs=gene_corrs.append(pd.DataFrame([[gene, main_corr, p]],columns=['gene','corrcoef','p-val'],\n",
      "/tmp/ipykernel_30535/3929790965.py:11: FutureWarning: The frame.append method is deprecated and will be removed from pandas in a future version. Use pandas.concat instead.\n",
      "  gene_corrs=gene_corrs.append(pd.DataFrame([[gene, main_corr, p]],columns=['gene','corrcoef','p-val'],\n"
     ]
    },
    {
     "name": "stdout",
     "output_type": "stream",
     "text": [
      "-0.20642183305496264\n",
      "0.21358163369483768\n"
     ]
    },
    {
     "name": "stderr",
     "output_type": "stream",
     "text": [
      "/tmp/ipykernel_30535/3929790965.py:11: FutureWarning: The frame.append method is deprecated and will be removed from pandas in a future version. Use pandas.concat instead.\n",
      "  gene_corrs=gene_corrs.append(pd.DataFrame([[gene, main_corr, p]],columns=['gene','corrcoef','p-val'],\n",
      "/tmp/ipykernel_30535/3929790965.py:11: FutureWarning: The frame.append method is deprecated and will be removed from pandas in a future version. Use pandas.concat instead.\n",
      "  gene_corrs=gene_corrs.append(pd.DataFrame([[gene, main_corr, p]],columns=['gene','corrcoef','p-val'],\n"
     ]
    },
    {
     "name": "stdout",
     "output_type": "stream",
     "text": [
      "-0.36886541093385666\n",
      "-0.033473463327080545\n"
     ]
    },
    {
     "name": "stderr",
     "output_type": "stream",
     "text": [
      "/tmp/ipykernel_30535/3929790965.py:11: FutureWarning: The frame.append method is deprecated and will be removed from pandas in a future version. Use pandas.concat instead.\n",
      "  gene_corrs=gene_corrs.append(pd.DataFrame([[gene, main_corr, p]],columns=['gene','corrcoef','p-val'],\n",
      "/tmp/ipykernel_30535/3929790965.py:11: FutureWarning: The frame.append method is deprecated and will be removed from pandas in a future version. Use pandas.concat instead.\n",
      "  gene_corrs=gene_corrs.append(pd.DataFrame([[gene, main_corr, p]],columns=['gene','corrcoef','p-val'],\n"
     ]
    },
    {
     "name": "stdout",
     "output_type": "stream",
     "text": [
      "-0.014507212771037644\n",
      "0.10084089081450084\n"
     ]
    },
    {
     "name": "stderr",
     "output_type": "stream",
     "text": [
      "/tmp/ipykernel_30535/3929790965.py:11: FutureWarning: The frame.append method is deprecated and will be removed from pandas in a future version. Use pandas.concat instead.\n",
      "  gene_corrs=gene_corrs.append(pd.DataFrame([[gene, main_corr, p]],columns=['gene','corrcoef','p-val'],\n",
      "/tmp/ipykernel_30535/3929790965.py:11: FutureWarning: The frame.append method is deprecated and will be removed from pandas in a future version. Use pandas.concat instead.\n",
      "  gene_corrs=gene_corrs.append(pd.DataFrame([[gene, main_corr, p]],columns=['gene','corrcoef','p-val'],\n"
     ]
    },
    {
     "name": "stdout",
     "output_type": "stream",
     "text": [
      "-0.1435103436271406\n",
      "0.31290133776518364\n"
     ]
    },
    {
     "name": "stderr",
     "output_type": "stream",
     "text": [
      "/tmp/ipykernel_30535/3929790965.py:11: FutureWarning: The frame.append method is deprecated and will be removed from pandas in a future version. Use pandas.concat instead.\n",
      "  gene_corrs=gene_corrs.append(pd.DataFrame([[gene, main_corr, p]],columns=['gene','corrcoef','p-val'],\n",
      "/tmp/ipykernel_30535/3929790965.py:11: FutureWarning: The frame.append method is deprecated and will be removed from pandas in a future version. Use pandas.concat instead.\n",
      "  gene_corrs=gene_corrs.append(pd.DataFrame([[gene, main_corr, p]],columns=['gene','corrcoef','p-val'],\n"
     ]
    },
    {
     "name": "stdout",
     "output_type": "stream",
     "text": [
      "0.001777221757013158\n",
      "-0.11783737502195231\n"
     ]
    },
    {
     "name": "stderr",
     "output_type": "stream",
     "text": [
      "/tmp/ipykernel_30535/3929790965.py:11: FutureWarning: The frame.append method is deprecated and will be removed from pandas in a future version. Use pandas.concat instead.\n",
      "  gene_corrs=gene_corrs.append(pd.DataFrame([[gene, main_corr, p]],columns=['gene','corrcoef','p-val'],\n",
      "/tmp/ipykernel_30535/3929790965.py:11: FutureWarning: The frame.append method is deprecated and will be removed from pandas in a future version. Use pandas.concat instead.\n",
      "  gene_corrs=gene_corrs.append(pd.DataFrame([[gene, main_corr, p]],columns=['gene','corrcoef','p-val'],\n"
     ]
    },
    {
     "name": "stdout",
     "output_type": "stream",
     "text": [
      "-0.09700027320927483\n",
      "-0.010208901454295403\n"
     ]
    },
    {
     "name": "stderr",
     "output_type": "stream",
     "text": [
      "/tmp/ipykernel_30535/3929790965.py:11: FutureWarning: The frame.append method is deprecated and will be removed from pandas in a future version. Use pandas.concat instead.\n",
      "  gene_corrs=gene_corrs.append(pd.DataFrame([[gene, main_corr, p]],columns=['gene','corrcoef','p-val'],\n",
      "/tmp/ipykernel_30535/3929790965.py:11: FutureWarning: The frame.append method is deprecated and will be removed from pandas in a future version. Use pandas.concat instead.\n",
      "  gene_corrs=gene_corrs.append(pd.DataFrame([[gene, main_corr, p]],columns=['gene','corrcoef','p-val'],\n"
     ]
    },
    {
     "name": "stdout",
     "output_type": "stream",
     "text": [
      "-0.35161911218861575\n",
      "-0.11111504779925832\n"
     ]
    },
    {
     "name": "stderr",
     "output_type": "stream",
     "text": [
      "/tmp/ipykernel_30535/3929790965.py:11: FutureWarning: The frame.append method is deprecated and will be removed from pandas in a future version. Use pandas.concat instead.\n",
      "  gene_corrs=gene_corrs.append(pd.DataFrame([[gene, main_corr, p]],columns=['gene','corrcoef','p-val'],\n",
      "/tmp/ipykernel_30535/3929790965.py:11: FutureWarning: The frame.append method is deprecated and will be removed from pandas in a future version. Use pandas.concat instead.\n",
      "  gene_corrs=gene_corrs.append(pd.DataFrame([[gene, main_corr, p]],columns=['gene','corrcoef','p-val'],\n"
     ]
    },
    {
     "name": "stdout",
     "output_type": "stream",
     "text": [
      "0.14579650525028504\n",
      "0.12322190321409199\n"
     ]
    },
    {
     "name": "stderr",
     "output_type": "stream",
     "text": [
      "/tmp/ipykernel_30535/3929790965.py:11: FutureWarning: The frame.append method is deprecated and will be removed from pandas in a future version. Use pandas.concat instead.\n",
      "  gene_corrs=gene_corrs.append(pd.DataFrame([[gene, main_corr, p]],columns=['gene','corrcoef','p-val'],\n",
      "/tmp/ipykernel_30535/3929790965.py:11: FutureWarning: The frame.append method is deprecated and will be removed from pandas in a future version. Use pandas.concat instead.\n",
      "  gene_corrs=gene_corrs.append(pd.DataFrame([[gene, main_corr, p]],columns=['gene','corrcoef','p-val'],\n"
     ]
    },
    {
     "name": "stdout",
     "output_type": "stream",
     "text": [
      "0.288219956414609\n",
      "-0.14503344619834815\n"
     ]
    },
    {
     "name": "stderr",
     "output_type": "stream",
     "text": [
      "/tmp/ipykernel_30535/3929790965.py:11: FutureWarning: The frame.append method is deprecated and will be removed from pandas in a future version. Use pandas.concat instead.\n",
      "  gene_corrs=gene_corrs.append(pd.DataFrame([[gene, main_corr, p]],columns=['gene','corrcoef','p-val'],\n",
      "/tmp/ipykernel_30535/3929790965.py:11: FutureWarning: The frame.append method is deprecated and will be removed from pandas in a future version. Use pandas.concat instead.\n",
      "  gene_corrs=gene_corrs.append(pd.DataFrame([[gene, main_corr, p]],columns=['gene','corrcoef','p-val'],\n"
     ]
    },
    {
     "name": "stdout",
     "output_type": "stream",
     "text": [
      "-0.04820169837374819\n",
      "0.37558486322316553\n"
     ]
    },
    {
     "name": "stderr",
     "output_type": "stream",
     "text": [
      "/tmp/ipykernel_30535/3929790965.py:11: FutureWarning: The frame.append method is deprecated and will be removed from pandas in a future version. Use pandas.concat instead.\n",
      "  gene_corrs=gene_corrs.append(pd.DataFrame([[gene, main_corr, p]],columns=['gene','corrcoef','p-val'],\n",
      "/tmp/ipykernel_30535/3929790965.py:11: FutureWarning: The frame.append method is deprecated and will be removed from pandas in a future version. Use pandas.concat instead.\n",
      "  gene_corrs=gene_corrs.append(pd.DataFrame([[gene, main_corr, p]],columns=['gene','corrcoef','p-val'],\n"
     ]
    },
    {
     "name": "stdout",
     "output_type": "stream",
     "text": [
      "-0.2651965063154125\n",
      "0.02319478298881139\n"
     ]
    },
    {
     "name": "stderr",
     "output_type": "stream",
     "text": [
      "/tmp/ipykernel_30535/3929790965.py:11: FutureWarning: The frame.append method is deprecated and will be removed from pandas in a future version. Use pandas.concat instead.\n",
      "  gene_corrs=gene_corrs.append(pd.DataFrame([[gene, main_corr, p]],columns=['gene','corrcoef','p-val'],\n",
      "/tmp/ipykernel_30535/3929790965.py:11: FutureWarning: The frame.append method is deprecated and will be removed from pandas in a future version. Use pandas.concat instead.\n",
      "  gene_corrs=gene_corrs.append(pd.DataFrame([[gene, main_corr, p]],columns=['gene','corrcoef','p-val'],\n"
     ]
    },
    {
     "name": "stdout",
     "output_type": "stream",
     "text": [
      "0.0616256621759164\n",
      "0.37258066447468763\n"
     ]
    },
    {
     "name": "stderr",
     "output_type": "stream",
     "text": [
      "/tmp/ipykernel_30535/3929790965.py:11: FutureWarning: The frame.append method is deprecated and will be removed from pandas in a future version. Use pandas.concat instead.\n",
      "  gene_corrs=gene_corrs.append(pd.DataFrame([[gene, main_corr, p]],columns=['gene','corrcoef','p-val'],\n",
      "/tmp/ipykernel_30535/3929790965.py:11: FutureWarning: The frame.append method is deprecated and will be removed from pandas in a future version. Use pandas.concat instead.\n",
      "  gene_corrs=gene_corrs.append(pd.DataFrame([[gene, main_corr, p]],columns=['gene','corrcoef','p-val'],\n"
     ]
    },
    {
     "name": "stdout",
     "output_type": "stream",
     "text": [
      "-0.21871481006474547\n",
      "0.06309978896964132\n"
     ]
    },
    {
     "name": "stderr",
     "output_type": "stream",
     "text": [
      "/tmp/ipykernel_30535/3929790965.py:11: FutureWarning: The frame.append method is deprecated and will be removed from pandas in a future version. Use pandas.concat instead.\n",
      "  gene_corrs=gene_corrs.append(pd.DataFrame([[gene, main_corr, p]],columns=['gene','corrcoef','p-val'],\n",
      "/tmp/ipykernel_30535/3929790965.py:11: FutureWarning: The frame.append method is deprecated and will be removed from pandas in a future version. Use pandas.concat instead.\n",
      "  gene_corrs=gene_corrs.append(pd.DataFrame([[gene, main_corr, p]],columns=['gene','corrcoef','p-val'],\n"
     ]
    },
    {
     "name": "stdout",
     "output_type": "stream",
     "text": [
      "-0.11018741733027826\n",
      "0.05088251772210916\n"
     ]
    },
    {
     "name": "stderr",
     "output_type": "stream",
     "text": [
      "/tmp/ipykernel_30535/3929790965.py:11: FutureWarning: The frame.append method is deprecated and will be removed from pandas in a future version. Use pandas.concat instead.\n",
      "  gene_corrs=gene_corrs.append(pd.DataFrame([[gene, main_corr, p]],columns=['gene','corrcoef','p-val'],\n",
      "/tmp/ipykernel_30535/3929790965.py:11: FutureWarning: The frame.append method is deprecated and will be removed from pandas in a future version. Use pandas.concat instead.\n",
      "  gene_corrs=gene_corrs.append(pd.DataFrame([[gene, main_corr, p]],columns=['gene','corrcoef','p-val'],\n"
     ]
    },
    {
     "name": "stdout",
     "output_type": "stream",
     "text": [
      "-0.3714359223656674\n",
      "-0.1393440683018095\n"
     ]
    },
    {
     "name": "stderr",
     "output_type": "stream",
     "text": [
      "/tmp/ipykernel_30535/3929790965.py:11: FutureWarning: The frame.append method is deprecated and will be removed from pandas in a future version. Use pandas.concat instead.\n",
      "  gene_corrs=gene_corrs.append(pd.DataFrame([[gene, main_corr, p]],columns=['gene','corrcoef','p-val'],\n",
      "/tmp/ipykernel_30535/3929790965.py:11: FutureWarning: The frame.append method is deprecated and will be removed from pandas in a future version. Use pandas.concat instead.\n",
      "  gene_corrs=gene_corrs.append(pd.DataFrame([[gene, main_corr, p]],columns=['gene','corrcoef','p-val'],\n"
     ]
    },
    {
     "name": "stdout",
     "output_type": "stream",
     "text": [
      "0.16356109907653912\n",
      "-0.3333588896925232\n"
     ]
    },
    {
     "name": "stderr",
     "output_type": "stream",
     "text": [
      "/tmp/ipykernel_30535/3929790965.py:11: FutureWarning: The frame.append method is deprecated and will be removed from pandas in a future version. Use pandas.concat instead.\n",
      "  gene_corrs=gene_corrs.append(pd.DataFrame([[gene, main_corr, p]],columns=['gene','corrcoef','p-val'],\n",
      "/tmp/ipykernel_30535/3929790965.py:11: FutureWarning: The frame.append method is deprecated and will be removed from pandas in a future version. Use pandas.concat instead.\n",
      "  gene_corrs=gene_corrs.append(pd.DataFrame([[gene, main_corr, p]],columns=['gene','corrcoef','p-val'],\n"
     ]
    },
    {
     "name": "stdout",
     "output_type": "stream",
     "text": [
      "-0.3891454086836875\n",
      "0.3404695012132359\n"
     ]
    },
    {
     "name": "stderr",
     "output_type": "stream",
     "text": [
      "/tmp/ipykernel_30535/3929790965.py:11: FutureWarning: The frame.append method is deprecated and will be removed from pandas in a future version. Use pandas.concat instead.\n",
      "  gene_corrs=gene_corrs.append(pd.DataFrame([[gene, main_corr, p]],columns=['gene','corrcoef','p-val'],\n",
      "/tmp/ipykernel_30535/3929790965.py:11: FutureWarning: The frame.append method is deprecated and will be removed from pandas in a future version. Use pandas.concat instead.\n",
      "  gene_corrs=gene_corrs.append(pd.DataFrame([[gene, main_corr, p]],columns=['gene','corrcoef','p-val'],\n"
     ]
    },
    {
     "name": "stdout",
     "output_type": "stream",
     "text": [
      "0.28777701583578275\n",
      "0.16473648235164734\n"
     ]
    },
    {
     "name": "stderr",
     "output_type": "stream",
     "text": [
      "/tmp/ipykernel_30535/3929790965.py:11: FutureWarning: The frame.append method is deprecated and will be removed from pandas in a future version. Use pandas.concat instead.\n",
      "  gene_corrs=gene_corrs.append(pd.DataFrame([[gene, main_corr, p]],columns=['gene','corrcoef','p-val'],\n",
      "/tmp/ipykernel_30535/3929790965.py:11: FutureWarning: The frame.append method is deprecated and will be removed from pandas in a future version. Use pandas.concat instead.\n",
      "  gene_corrs=gene_corrs.append(pd.DataFrame([[gene, main_corr, p]],columns=['gene','corrcoef','p-val'],\n"
     ]
    },
    {
     "name": "stdout",
     "output_type": "stream",
     "text": [
      "0.3844261374037462\n",
      "0.2199164942949318\n"
     ]
    },
    {
     "name": "stderr",
     "output_type": "stream",
     "text": [
      "/tmp/ipykernel_30535/3929790965.py:11: FutureWarning: The frame.append method is deprecated and will be removed from pandas in a future version. Use pandas.concat instead.\n",
      "  gene_corrs=gene_corrs.append(pd.DataFrame([[gene, main_corr, p]],columns=['gene','corrcoef','p-val'],\n",
      "/tmp/ipykernel_30535/3929790965.py:11: FutureWarning: The frame.append method is deprecated and will be removed from pandas in a future version. Use pandas.concat instead.\n",
      "  gene_corrs=gene_corrs.append(pd.DataFrame([[gene, main_corr, p]],columns=['gene','corrcoef','p-val'],\n"
     ]
    },
    {
     "name": "stdout",
     "output_type": "stream",
     "text": [
      "0.08209795827788079\n",
      "-0.36828611151210416\n"
     ]
    },
    {
     "name": "stderr",
     "output_type": "stream",
     "text": [
      "/tmp/ipykernel_30535/3929790965.py:11: FutureWarning: The frame.append method is deprecated and will be removed from pandas in a future version. Use pandas.concat instead.\n",
      "  gene_corrs=gene_corrs.append(pd.DataFrame([[gene, main_corr, p]],columns=['gene','corrcoef','p-val'],\n",
      "/tmp/ipykernel_30535/3929790965.py:11: FutureWarning: The frame.append method is deprecated and will be removed from pandas in a future version. Use pandas.concat instead.\n",
      "  gene_corrs=gene_corrs.append(pd.DataFrame([[gene, main_corr, p]],columns=['gene','corrcoef','p-val'],\n"
     ]
    },
    {
     "name": "stdout",
     "output_type": "stream",
     "text": [
      "0.3493662346863954\n",
      "-0.14187672496847845\n"
     ]
    },
    {
     "name": "stderr",
     "output_type": "stream",
     "text": [
      "/tmp/ipykernel_30535/3929790965.py:11: FutureWarning: The frame.append method is deprecated and will be removed from pandas in a future version. Use pandas.concat instead.\n",
      "  gene_corrs=gene_corrs.append(pd.DataFrame([[gene, main_corr, p]],columns=['gene','corrcoef','p-val'],\n",
      "/tmp/ipykernel_30535/3929790965.py:11: FutureWarning: The frame.append method is deprecated and will be removed from pandas in a future version. Use pandas.concat instead.\n",
      "  gene_corrs=gene_corrs.append(pd.DataFrame([[gene, main_corr, p]],columns=['gene','corrcoef','p-val'],\n"
     ]
    },
    {
     "name": "stdout",
     "output_type": "stream",
     "text": [
      "-0.3210243854067937\n",
      "-0.20147026635718862\n"
     ]
    },
    {
     "name": "stderr",
     "output_type": "stream",
     "text": [
      "/tmp/ipykernel_30535/3929790965.py:11: FutureWarning: The frame.append method is deprecated and will be removed from pandas in a future version. Use pandas.concat instead.\n",
      "  gene_corrs=gene_corrs.append(pd.DataFrame([[gene, main_corr, p]],columns=['gene','corrcoef','p-val'],\n",
      "/tmp/ipykernel_30535/3929790965.py:11: FutureWarning: The frame.append method is deprecated and will be removed from pandas in a future version. Use pandas.concat instead.\n",
      "  gene_corrs=gene_corrs.append(pd.DataFrame([[gene, main_corr, p]],columns=['gene','corrcoef','p-val'],\n"
     ]
    },
    {
     "name": "stdout",
     "output_type": "stream",
     "text": [
      "-0.29561381993618957\n",
      "-0.3608660572172708\n"
     ]
    },
    {
     "name": "stderr",
     "output_type": "stream",
     "text": [
      "/tmp/ipykernel_30535/3929790965.py:11: FutureWarning: The frame.append method is deprecated and will be removed from pandas in a future version. Use pandas.concat instead.\n",
      "  gene_corrs=gene_corrs.append(pd.DataFrame([[gene, main_corr, p]],columns=['gene','corrcoef','p-val'],\n",
      "/tmp/ipykernel_30535/3929790965.py:11: FutureWarning: The frame.append method is deprecated and will be removed from pandas in a future version. Use pandas.concat instead.\n",
      "  gene_corrs=gene_corrs.append(pd.DataFrame([[gene, main_corr, p]],columns=['gene','corrcoef','p-val'],\n"
     ]
    },
    {
     "name": "stdout",
     "output_type": "stream",
     "text": [
      "0.12402000253460584\n",
      "0.3598223506967629\n"
     ]
    },
    {
     "name": "stderr",
     "output_type": "stream",
     "text": [
      "/tmp/ipykernel_30535/3929790965.py:11: FutureWarning: The frame.append method is deprecated and will be removed from pandas in a future version. Use pandas.concat instead.\n",
      "  gene_corrs=gene_corrs.append(pd.DataFrame([[gene, main_corr, p]],columns=['gene','corrcoef','p-val'],\n",
      "/tmp/ipykernel_30535/3929790965.py:11: FutureWarning: The frame.append method is deprecated and will be removed from pandas in a future version. Use pandas.concat instead.\n",
      "  gene_corrs=gene_corrs.append(pd.DataFrame([[gene, main_corr, p]],columns=['gene','corrcoef','p-val'],\n"
     ]
    },
    {
     "name": "stdout",
     "output_type": "stream",
     "text": [
      "0.3668998411146072\n",
      "-0.1374151075859326\n"
     ]
    },
    {
     "name": "stderr",
     "output_type": "stream",
     "text": [
      "/tmp/ipykernel_30535/3929790965.py:11: FutureWarning: The frame.append method is deprecated and will be removed from pandas in a future version. Use pandas.concat instead.\n",
      "  gene_corrs=gene_corrs.append(pd.DataFrame([[gene, main_corr, p]],columns=['gene','corrcoef','p-val'],\n",
      "/tmp/ipykernel_30535/3929790965.py:11: FutureWarning: The frame.append method is deprecated and will be removed from pandas in a future version. Use pandas.concat instead.\n",
      "  gene_corrs=gene_corrs.append(pd.DataFrame([[gene, main_corr, p]],columns=['gene','corrcoef','p-val'],\n"
     ]
    },
    {
     "name": "stdout",
     "output_type": "stream",
     "text": [
      "-0.10459213873936327\n",
      "0.2445842904340962\n"
     ]
    },
    {
     "name": "stderr",
     "output_type": "stream",
     "text": [
      "/tmp/ipykernel_30535/3929790965.py:11: FutureWarning: The frame.append method is deprecated and will be removed from pandas in a future version. Use pandas.concat instead.\n",
      "  gene_corrs=gene_corrs.append(pd.DataFrame([[gene, main_corr, p]],columns=['gene','corrcoef','p-val'],\n",
      "/tmp/ipykernel_30535/3929790965.py:11: FutureWarning: The frame.append method is deprecated and will be removed from pandas in a future version. Use pandas.concat instead.\n",
      "  gene_corrs=gene_corrs.append(pd.DataFrame([[gene, main_corr, p]],columns=['gene','corrcoef','p-val'],\n"
     ]
    },
    {
     "name": "stdout",
     "output_type": "stream",
     "text": [
      "-0.20414967930984634\n",
      "0.3031869097986668\n"
     ]
    },
    {
     "name": "stderr",
     "output_type": "stream",
     "text": [
      "/tmp/ipykernel_30535/3929790965.py:11: FutureWarning: The frame.append method is deprecated and will be removed from pandas in a future version. Use pandas.concat instead.\n",
      "  gene_corrs=gene_corrs.append(pd.DataFrame([[gene, main_corr, p]],columns=['gene','corrcoef','p-val'],\n",
      "/tmp/ipykernel_30535/3929790965.py:11: FutureWarning: The frame.append method is deprecated and will be removed from pandas in a future version. Use pandas.concat instead.\n",
      "  gene_corrs=gene_corrs.append(pd.DataFrame([[gene, main_corr, p]],columns=['gene','corrcoef','p-val'],\n"
     ]
    },
    {
     "name": "stdout",
     "output_type": "stream",
     "text": [
      "0.22919451322864745\n",
      "-0.06141276694440407\n"
     ]
    },
    {
     "name": "stderr",
     "output_type": "stream",
     "text": [
      "/tmp/ipykernel_30535/3929790965.py:11: FutureWarning: The frame.append method is deprecated and will be removed from pandas in a future version. Use pandas.concat instead.\n",
      "  gene_corrs=gene_corrs.append(pd.DataFrame([[gene, main_corr, p]],columns=['gene','corrcoef','p-val'],\n",
      "/tmp/ipykernel_30535/3929790965.py:11: FutureWarning: The frame.append method is deprecated and will be removed from pandas in a future version. Use pandas.concat instead.\n",
      "  gene_corrs=gene_corrs.append(pd.DataFrame([[gene, main_corr, p]],columns=['gene','corrcoef','p-val'],\n"
     ]
    },
    {
     "name": "stdout",
     "output_type": "stream",
     "text": [
      "-0.22802847507714855\n",
      "0.1387035590306067\n"
     ]
    },
    {
     "name": "stderr",
     "output_type": "stream",
     "text": [
      "/tmp/ipykernel_30535/3929790965.py:11: FutureWarning: The frame.append method is deprecated and will be removed from pandas in a future version. Use pandas.concat instead.\n",
      "  gene_corrs=gene_corrs.append(pd.DataFrame([[gene, main_corr, p]],columns=['gene','corrcoef','p-val'],\n",
      "/tmp/ipykernel_30535/3929790965.py:11: FutureWarning: The frame.append method is deprecated and will be removed from pandas in a future version. Use pandas.concat instead.\n",
      "  gene_corrs=gene_corrs.append(pd.DataFrame([[gene, main_corr, p]],columns=['gene','corrcoef','p-val'],\n"
     ]
    },
    {
     "name": "stdout",
     "output_type": "stream",
     "text": [
      "0.009332063921404253\n",
      "0.37278219655548966\n"
     ]
    },
    {
     "name": "stderr",
     "output_type": "stream",
     "text": [
      "/tmp/ipykernel_30535/3929790965.py:11: FutureWarning: The frame.append method is deprecated and will be removed from pandas in a future version. Use pandas.concat instead.\n",
      "  gene_corrs=gene_corrs.append(pd.DataFrame([[gene, main_corr, p]],columns=['gene','corrcoef','p-val'],\n",
      "/tmp/ipykernel_30535/3929790965.py:11: FutureWarning: The frame.append method is deprecated and will be removed from pandas in a future version. Use pandas.concat instead.\n",
      "  gene_corrs=gene_corrs.append(pd.DataFrame([[gene, main_corr, p]],columns=['gene','corrcoef','p-val'],\n"
     ]
    },
    {
     "name": "stdout",
     "output_type": "stream",
     "text": [
      "-0.22439959738866527\n",
      "-0.11086398435826948\n"
     ]
    },
    {
     "name": "stderr",
     "output_type": "stream",
     "text": [
      "/tmp/ipykernel_30535/3929790965.py:11: FutureWarning: The frame.append method is deprecated and will be removed from pandas in a future version. Use pandas.concat instead.\n",
      "  gene_corrs=gene_corrs.append(pd.DataFrame([[gene, main_corr, p]],columns=['gene','corrcoef','p-val'],\n",
      "/tmp/ipykernel_30535/3929790965.py:11: FutureWarning: The frame.append method is deprecated and will be removed from pandas in a future version. Use pandas.concat instead.\n",
      "  gene_corrs=gene_corrs.append(pd.DataFrame([[gene, main_corr, p]],columns=['gene','corrcoef','p-val'],\n"
     ]
    },
    {
     "name": "stdout",
     "output_type": "stream",
     "text": [
      "-0.23719706808473975\n",
      "-0.08539985368525663\n"
     ]
    },
    {
     "name": "stderr",
     "output_type": "stream",
     "text": [
      "/tmp/ipykernel_30535/3929790965.py:11: FutureWarning: The frame.append method is deprecated and will be removed from pandas in a future version. Use pandas.concat instead.\n",
      "  gene_corrs=gene_corrs.append(pd.DataFrame([[gene, main_corr, p]],columns=['gene','corrcoef','p-val'],\n",
      "/tmp/ipykernel_30535/3929790965.py:11: FutureWarning: The frame.append method is deprecated and will be removed from pandas in a future version. Use pandas.concat instead.\n",
      "  gene_corrs=gene_corrs.append(pd.DataFrame([[gene, main_corr, p]],columns=['gene','corrcoef','p-val'],\n"
     ]
    },
    {
     "name": "stdout",
     "output_type": "stream",
     "text": [
      "-0.21354486727134334\n",
      "0.3077410717121627\n"
     ]
    },
    {
     "name": "stderr",
     "output_type": "stream",
     "text": [
      "/tmp/ipykernel_30535/3929790965.py:11: FutureWarning: The frame.append method is deprecated and will be removed from pandas in a future version. Use pandas.concat instead.\n",
      "  gene_corrs=gene_corrs.append(pd.DataFrame([[gene, main_corr, p]],columns=['gene','corrcoef','p-val'],\n",
      "/tmp/ipykernel_30535/3929790965.py:11: FutureWarning: The frame.append method is deprecated and will be removed from pandas in a future version. Use pandas.concat instead.\n",
      "  gene_corrs=gene_corrs.append(pd.DataFrame([[gene, main_corr, p]],columns=['gene','corrcoef','p-val'],\n"
     ]
    },
    {
     "name": "stdout",
     "output_type": "stream",
     "text": [
      "-0.19304703197334072\n",
      "0.041789703084966885\n"
     ]
    },
    {
     "name": "stderr",
     "output_type": "stream",
     "text": [
      "/tmp/ipykernel_30535/3929790965.py:11: FutureWarning: The frame.append method is deprecated and will be removed from pandas in a future version. Use pandas.concat instead.\n",
      "  gene_corrs=gene_corrs.append(pd.DataFrame([[gene, main_corr, p]],columns=['gene','corrcoef','p-val'],\n",
      "/tmp/ipykernel_30535/3929790965.py:11: FutureWarning: The frame.append method is deprecated and will be removed from pandas in a future version. Use pandas.concat instead.\n",
      "  gene_corrs=gene_corrs.append(pd.DataFrame([[gene, main_corr, p]],columns=['gene','corrcoef','p-val'],\n"
     ]
    },
    {
     "name": "stdout",
     "output_type": "stream",
     "text": [
      "-0.4053666731810424\n",
      "-0.05047378532779713\n"
     ]
    },
    {
     "name": "stderr",
     "output_type": "stream",
     "text": [
      "/tmp/ipykernel_30535/3929790965.py:11: FutureWarning: The frame.append method is deprecated and will be removed from pandas in a future version. Use pandas.concat instead.\n",
      "  gene_corrs=gene_corrs.append(pd.DataFrame([[gene, main_corr, p]],columns=['gene','corrcoef','p-val'],\n",
      "/tmp/ipykernel_30535/3929790965.py:11: FutureWarning: The frame.append method is deprecated and will be removed from pandas in a future version. Use pandas.concat instead.\n",
      "  gene_corrs=gene_corrs.append(pd.DataFrame([[gene, main_corr, p]],columns=['gene','corrcoef','p-val'],\n"
     ]
    },
    {
     "name": "stdout",
     "output_type": "stream",
     "text": [
      "0.05861308060827905\n",
      "0.1424100420427564\n"
     ]
    },
    {
     "name": "stderr",
     "output_type": "stream",
     "text": [
      "/tmp/ipykernel_30535/3929790965.py:11: FutureWarning: The frame.append method is deprecated and will be removed from pandas in a future version. Use pandas.concat instead.\n",
      "  gene_corrs=gene_corrs.append(pd.DataFrame([[gene, main_corr, p]],columns=['gene','corrcoef','p-val'],\n",
      "/tmp/ipykernel_30535/3929790965.py:11: FutureWarning: The frame.append method is deprecated and will be removed from pandas in a future version. Use pandas.concat instead.\n",
      "  gene_corrs=gene_corrs.append(pd.DataFrame([[gene, main_corr, p]],columns=['gene','corrcoef','p-val'],\n"
     ]
    },
    {
     "name": "stdout",
     "output_type": "stream",
     "text": [
      "-0.3032846039578415\n",
      "-0.03281656859846466\n"
     ]
    },
    {
     "name": "stderr",
     "output_type": "stream",
     "text": [
      "/tmp/ipykernel_30535/3929790965.py:11: FutureWarning: The frame.append method is deprecated and will be removed from pandas in a future version. Use pandas.concat instead.\n",
      "  gene_corrs=gene_corrs.append(pd.DataFrame([[gene, main_corr, p]],columns=['gene','corrcoef','p-val'],\n",
      "/tmp/ipykernel_30535/3929790965.py:11: FutureWarning: The frame.append method is deprecated and will be removed from pandas in a future version. Use pandas.concat instead.\n",
      "  gene_corrs=gene_corrs.append(pd.DataFrame([[gene, main_corr, p]],columns=['gene','corrcoef','p-val'],\n"
     ]
    },
    {
     "name": "stdout",
     "output_type": "stream",
     "text": [
      "-0.1366258428363211\n",
      "-0.16715081207615928\n"
     ]
    },
    {
     "name": "stderr",
     "output_type": "stream",
     "text": [
      "/tmp/ipykernel_30535/3929790965.py:11: FutureWarning: The frame.append method is deprecated and will be removed from pandas in a future version. Use pandas.concat instead.\n",
      "  gene_corrs=gene_corrs.append(pd.DataFrame([[gene, main_corr, p]],columns=['gene','corrcoef','p-val'],\n",
      "/tmp/ipykernel_30535/3929790965.py:11: FutureWarning: The frame.append method is deprecated and will be removed from pandas in a future version. Use pandas.concat instead.\n",
      "  gene_corrs=gene_corrs.append(pd.DataFrame([[gene, main_corr, p]],columns=['gene','corrcoef','p-val'],\n"
     ]
    },
    {
     "name": "stdout",
     "output_type": "stream",
     "text": [
      "0.22863498656207562\n",
      "0.004426831621545619\n"
     ]
    },
    {
     "name": "stderr",
     "output_type": "stream",
     "text": [
      "/tmp/ipykernel_30535/3929790965.py:11: FutureWarning: The frame.append method is deprecated and will be removed from pandas in a future version. Use pandas.concat instead.\n",
      "  gene_corrs=gene_corrs.append(pd.DataFrame([[gene, main_corr, p]],columns=['gene','corrcoef','p-val'],\n",
      "/tmp/ipykernel_30535/3929790965.py:11: FutureWarning: The frame.append method is deprecated and will be removed from pandas in a future version. Use pandas.concat instead.\n",
      "  gene_corrs=gene_corrs.append(pd.DataFrame([[gene, main_corr, p]],columns=['gene','corrcoef','p-val'],\n"
     ]
    },
    {
     "name": "stdout",
     "output_type": "stream",
     "text": [
      "-0.29501534131982726\n",
      "0.015758601891564337\n"
     ]
    },
    {
     "name": "stderr",
     "output_type": "stream",
     "text": [
      "/tmp/ipykernel_30535/3929790965.py:11: FutureWarning: The frame.append method is deprecated and will be removed from pandas in a future version. Use pandas.concat instead.\n",
      "  gene_corrs=gene_corrs.append(pd.DataFrame([[gene, main_corr, p]],columns=['gene','corrcoef','p-val'],\n",
      "/tmp/ipykernel_30535/3929790965.py:11: FutureWarning: The frame.append method is deprecated and will be removed from pandas in a future version. Use pandas.concat instead.\n",
      "  gene_corrs=gene_corrs.append(pd.DataFrame([[gene, main_corr, p]],columns=['gene','corrcoef','p-val'],\n"
     ]
    },
    {
     "name": "stdout",
     "output_type": "stream",
     "text": [
      "-0.29345004370550987\n",
      "0.3270146532836805\n"
     ]
    },
    {
     "name": "stderr",
     "output_type": "stream",
     "text": [
      "/tmp/ipykernel_30535/3929790965.py:11: FutureWarning: The frame.append method is deprecated and will be removed from pandas in a future version. Use pandas.concat instead.\n",
      "  gene_corrs=gene_corrs.append(pd.DataFrame([[gene, main_corr, p]],columns=['gene','corrcoef','p-val'],\n",
      "/tmp/ipykernel_30535/3929790965.py:11: FutureWarning: The frame.append method is deprecated and will be removed from pandas in a future version. Use pandas.concat instead.\n",
      "  gene_corrs=gene_corrs.append(pd.DataFrame([[gene, main_corr, p]],columns=['gene','corrcoef','p-val'],\n"
     ]
    },
    {
     "name": "stdout",
     "output_type": "stream",
     "text": [
      "0.11404273082582211\n",
      "0.5499251751779247\n"
     ]
    },
    {
     "name": "stderr",
     "output_type": "stream",
     "text": [
      "/tmp/ipykernel_30535/3929790965.py:11: FutureWarning: The frame.append method is deprecated and will be removed from pandas in a future version. Use pandas.concat instead.\n",
      "  gene_corrs=gene_corrs.append(pd.DataFrame([[gene, main_corr, p]],columns=['gene','corrcoef','p-val'],\n",
      "/tmp/ipykernel_30535/3929790965.py:11: FutureWarning: The frame.append method is deprecated and will be removed from pandas in a future version. Use pandas.concat instead.\n",
      "  gene_corrs=gene_corrs.append(pd.DataFrame([[gene, main_corr, p]],columns=['gene','corrcoef','p-val'],\n"
     ]
    },
    {
     "name": "stdout",
     "output_type": "stream",
     "text": [
      "-0.27030017464362616\n",
      "-0.2835153580879794\n"
     ]
    },
    {
     "name": "stderr",
     "output_type": "stream",
     "text": [
      "/tmp/ipykernel_30535/3929790965.py:11: FutureWarning: The frame.append method is deprecated and will be removed from pandas in a future version. Use pandas.concat instead.\n",
      "  gene_corrs=gene_corrs.append(pd.DataFrame([[gene, main_corr, p]],columns=['gene','corrcoef','p-val'],\n",
      "/tmp/ipykernel_30535/3929790965.py:11: FutureWarning: The frame.append method is deprecated and will be removed from pandas in a future version. Use pandas.concat instead.\n",
      "  gene_corrs=gene_corrs.append(pd.DataFrame([[gene, main_corr, p]],columns=['gene','corrcoef','p-val'],\n"
     ]
    },
    {
     "name": "stdout",
     "output_type": "stream",
     "text": [
      "-0.1518714676056126\n",
      "0.07830825800446782\n"
     ]
    },
    {
     "name": "stderr",
     "output_type": "stream",
     "text": [
      "/tmp/ipykernel_30535/3929790965.py:11: FutureWarning: The frame.append method is deprecated and will be removed from pandas in a future version. Use pandas.concat instead.\n",
      "  gene_corrs=gene_corrs.append(pd.DataFrame([[gene, main_corr, p]],columns=['gene','corrcoef','p-val'],\n",
      "/tmp/ipykernel_30535/3929790965.py:11: FutureWarning: The frame.append method is deprecated and will be removed from pandas in a future version. Use pandas.concat instead.\n",
      "  gene_corrs=gene_corrs.append(pd.DataFrame([[gene, main_corr, p]],columns=['gene','corrcoef','p-val'],\n"
     ]
    },
    {
     "name": "stdout",
     "output_type": "stream",
     "text": [
      "0.3477507037448925\n",
      "0.03700790591371166\n"
     ]
    },
    {
     "name": "stderr",
     "output_type": "stream",
     "text": [
      "/tmp/ipykernel_30535/3929790965.py:11: FutureWarning: The frame.append method is deprecated and will be removed from pandas in a future version. Use pandas.concat instead.\n",
      "  gene_corrs=gene_corrs.append(pd.DataFrame([[gene, main_corr, p]],columns=['gene','corrcoef','p-val'],\n",
      "/tmp/ipykernel_30535/3929790965.py:11: FutureWarning: The frame.append method is deprecated and will be removed from pandas in a future version. Use pandas.concat instead.\n",
      "  gene_corrs=gene_corrs.append(pd.DataFrame([[gene, main_corr, p]],columns=['gene','corrcoef','p-val'],\n"
     ]
    },
    {
     "name": "stdout",
     "output_type": "stream",
     "text": [
      "-0.14260261375059283\n",
      "0.05640506924557024\n"
     ]
    },
    {
     "name": "stderr",
     "output_type": "stream",
     "text": [
      "/tmp/ipykernel_30535/3929790965.py:11: FutureWarning: The frame.append method is deprecated and will be removed from pandas in a future version. Use pandas.concat instead.\n",
      "  gene_corrs=gene_corrs.append(pd.DataFrame([[gene, main_corr, p]],columns=['gene','corrcoef','p-val'],\n",
      "/tmp/ipykernel_30535/3929790965.py:11: FutureWarning: The frame.append method is deprecated and will be removed from pandas in a future version. Use pandas.concat instead.\n",
      "  gene_corrs=gene_corrs.append(pd.DataFrame([[gene, main_corr, p]],columns=['gene','corrcoef','p-val'],\n"
     ]
    },
    {
     "name": "stdout",
     "output_type": "stream",
     "text": [
      "0.046105791789899354\n",
      "0.0788535470610926\n"
     ]
    },
    {
     "name": "stderr",
     "output_type": "stream",
     "text": [
      "/tmp/ipykernel_30535/3929790965.py:11: FutureWarning: The frame.append method is deprecated and will be removed from pandas in a future version. Use pandas.concat instead.\n",
      "  gene_corrs=gene_corrs.append(pd.DataFrame([[gene, main_corr, p]],columns=['gene','corrcoef','p-val'],\n",
      "/tmp/ipykernel_30535/3929790965.py:11: FutureWarning: The frame.append method is deprecated and will be removed from pandas in a future version. Use pandas.concat instead.\n",
      "  gene_corrs=gene_corrs.append(pd.DataFrame([[gene, main_corr, p]],columns=['gene','corrcoef','p-val'],\n"
     ]
    },
    {
     "name": "stdout",
     "output_type": "stream",
     "text": [
      "0.16439466935213026\n",
      "-0.07280222456979689\n"
     ]
    },
    {
     "name": "stderr",
     "output_type": "stream",
     "text": [
      "/tmp/ipykernel_30535/3929790965.py:11: FutureWarning: The frame.append method is deprecated and will be removed from pandas in a future version. Use pandas.concat instead.\n",
      "  gene_corrs=gene_corrs.append(pd.DataFrame([[gene, main_corr, p]],columns=['gene','corrcoef','p-val'],\n",
      "/tmp/ipykernel_30535/3929790965.py:11: FutureWarning: The frame.append method is deprecated and will be removed from pandas in a future version. Use pandas.concat instead.\n",
      "  gene_corrs=gene_corrs.append(pd.DataFrame([[gene, main_corr, p]],columns=['gene','corrcoef','p-val'],\n"
     ]
    },
    {
     "name": "stdout",
     "output_type": "stream",
     "text": [
      "-0.0681632790239377\n",
      "-0.2392101683023575\n"
     ]
    },
    {
     "name": "stderr",
     "output_type": "stream",
     "text": [
      "/tmp/ipykernel_30535/3929790965.py:11: FutureWarning: The frame.append method is deprecated and will be removed from pandas in a future version. Use pandas.concat instead.\n",
      "  gene_corrs=gene_corrs.append(pd.DataFrame([[gene, main_corr, p]],columns=['gene','corrcoef','p-val'],\n",
      "/tmp/ipykernel_30535/3929790965.py:11: FutureWarning: The frame.append method is deprecated and will be removed from pandas in a future version. Use pandas.concat instead.\n",
      "  gene_corrs=gene_corrs.append(pd.DataFrame([[gene, main_corr, p]],columns=['gene','corrcoef','p-val'],\n"
     ]
    },
    {
     "name": "stdout",
     "output_type": "stream",
     "text": [
      "0.13303441498826019\n",
      "0.2803606435469144\n"
     ]
    },
    {
     "name": "stderr",
     "output_type": "stream",
     "text": [
      "/tmp/ipykernel_30535/3929790965.py:11: FutureWarning: The frame.append method is deprecated and will be removed from pandas in a future version. Use pandas.concat instead.\n",
      "  gene_corrs=gene_corrs.append(pd.DataFrame([[gene, main_corr, p]],columns=['gene','corrcoef','p-val'],\n",
      "/tmp/ipykernel_30535/3929790965.py:11: FutureWarning: The frame.append method is deprecated and will be removed from pandas in a future version. Use pandas.concat instead.\n",
      "  gene_corrs=gene_corrs.append(pd.DataFrame([[gene, main_corr, p]],columns=['gene','corrcoef','p-val'],\n"
     ]
    },
    {
     "name": "stdout",
     "output_type": "stream",
     "text": [
      "-0.32892871163786697\n",
      "0.2615326107828425\n"
     ]
    },
    {
     "name": "stderr",
     "output_type": "stream",
     "text": [
      "/tmp/ipykernel_30535/3929790965.py:11: FutureWarning: The frame.append method is deprecated and will be removed from pandas in a future version. Use pandas.concat instead.\n",
      "  gene_corrs=gene_corrs.append(pd.DataFrame([[gene, main_corr, p]],columns=['gene','corrcoef','p-val'],\n",
      "/tmp/ipykernel_30535/3929790965.py:11: FutureWarning: The frame.append method is deprecated and will be removed from pandas in a future version. Use pandas.concat instead.\n",
      "  gene_corrs=gene_corrs.append(pd.DataFrame([[gene, main_corr, p]],columns=['gene','corrcoef','p-val'],\n"
     ]
    },
    {
     "name": "stdout",
     "output_type": "stream",
     "text": [
      "-0.21861642228604927\n",
      "-0.03196749112197404\n"
     ]
    },
    {
     "name": "stderr",
     "output_type": "stream",
     "text": [
      "/tmp/ipykernel_30535/3929790965.py:11: FutureWarning: The frame.append method is deprecated and will be removed from pandas in a future version. Use pandas.concat instead.\n",
      "  gene_corrs=gene_corrs.append(pd.DataFrame([[gene, main_corr, p]],columns=['gene','corrcoef','p-val'],\n",
      "/tmp/ipykernel_30535/3929790965.py:11: FutureWarning: The frame.append method is deprecated and will be removed from pandas in a future version. Use pandas.concat instead.\n",
      "  gene_corrs=gene_corrs.append(pd.DataFrame([[gene, main_corr, p]],columns=['gene','corrcoef','p-val'],\n"
     ]
    },
    {
     "name": "stdout",
     "output_type": "stream",
     "text": [
      "-0.07169146533230909\n",
      "0.21130831831880326\n"
     ]
    },
    {
     "name": "stderr",
     "output_type": "stream",
     "text": [
      "/tmp/ipykernel_30535/3929790965.py:11: FutureWarning: The frame.append method is deprecated and will be removed from pandas in a future version. Use pandas.concat instead.\n",
      "  gene_corrs=gene_corrs.append(pd.DataFrame([[gene, main_corr, p]],columns=['gene','corrcoef','p-val'],\n",
      "/tmp/ipykernel_30535/3929790965.py:11: FutureWarning: The frame.append method is deprecated and will be removed from pandas in a future version. Use pandas.concat instead.\n",
      "  gene_corrs=gene_corrs.append(pd.DataFrame([[gene, main_corr, p]],columns=['gene','corrcoef','p-val'],\n"
     ]
    },
    {
     "name": "stdout",
     "output_type": "stream",
     "text": [
      "0.20996304098449883\n",
      "0.35346051020461744\n"
     ]
    },
    {
     "name": "stderr",
     "output_type": "stream",
     "text": [
      "/tmp/ipykernel_30535/3929790965.py:11: FutureWarning: The frame.append method is deprecated and will be removed from pandas in a future version. Use pandas.concat instead.\n",
      "  gene_corrs=gene_corrs.append(pd.DataFrame([[gene, main_corr, p]],columns=['gene','corrcoef','p-val'],\n",
      "/tmp/ipykernel_30535/3929790965.py:11: FutureWarning: The frame.append method is deprecated and will be removed from pandas in a future version. Use pandas.concat instead.\n",
      "  gene_corrs=gene_corrs.append(pd.DataFrame([[gene, main_corr, p]],columns=['gene','corrcoef','p-val'],\n"
     ]
    },
    {
     "name": "stdout",
     "output_type": "stream",
     "text": [
      "0.31577273418936447\n",
      "0.15595242323282202\n"
     ]
    },
    {
     "name": "stderr",
     "output_type": "stream",
     "text": [
      "/tmp/ipykernel_30535/3929790965.py:11: FutureWarning: The frame.append method is deprecated and will be removed from pandas in a future version. Use pandas.concat instead.\n",
      "  gene_corrs=gene_corrs.append(pd.DataFrame([[gene, main_corr, p]],columns=['gene','corrcoef','p-val'],\n",
      "/tmp/ipykernel_30535/3929790965.py:11: FutureWarning: The frame.append method is deprecated and will be removed from pandas in a future version. Use pandas.concat instead.\n",
      "  gene_corrs=gene_corrs.append(pd.DataFrame([[gene, main_corr, p]],columns=['gene','corrcoef','p-val'],\n"
     ]
    },
    {
     "name": "stdout",
     "output_type": "stream",
     "text": [
      "0.06585345115322684\n",
      "0.38066876814309314\n"
     ]
    },
    {
     "name": "stderr",
     "output_type": "stream",
     "text": [
      "/tmp/ipykernel_30535/3929790965.py:11: FutureWarning: The frame.append method is deprecated and will be removed from pandas in a future version. Use pandas.concat instead.\n",
      "  gene_corrs=gene_corrs.append(pd.DataFrame([[gene, main_corr, p]],columns=['gene','corrcoef','p-val'],\n",
      "/tmp/ipykernel_30535/3929790965.py:11: FutureWarning: The frame.append method is deprecated and will be removed from pandas in a future version. Use pandas.concat instead.\n",
      "  gene_corrs=gene_corrs.append(pd.DataFrame([[gene, main_corr, p]],columns=['gene','corrcoef','p-val'],\n"
     ]
    },
    {
     "name": "stdout",
     "output_type": "stream",
     "text": [
      "-0.25203807003905404\n",
      "0.15975342064597875\n"
     ]
    },
    {
     "name": "stderr",
     "output_type": "stream",
     "text": [
      "/tmp/ipykernel_30535/3929790965.py:11: FutureWarning: The frame.append method is deprecated and will be removed from pandas in a future version. Use pandas.concat instead.\n",
      "  gene_corrs=gene_corrs.append(pd.DataFrame([[gene, main_corr, p]],columns=['gene','corrcoef','p-val'],\n",
      "/tmp/ipykernel_30535/3929790965.py:11: FutureWarning: The frame.append method is deprecated and will be removed from pandas in a future version. Use pandas.concat instead.\n",
      "  gene_corrs=gene_corrs.append(pd.DataFrame([[gene, main_corr, p]],columns=['gene','corrcoef','p-val'],\n"
     ]
    },
    {
     "name": "stdout",
     "output_type": "stream",
     "text": [
      "-0.04850233452959659\n",
      "-0.036441928128857826\n"
     ]
    },
    {
     "name": "stderr",
     "output_type": "stream",
     "text": [
      "/tmp/ipykernel_30535/3929790965.py:11: FutureWarning: The frame.append method is deprecated and will be removed from pandas in a future version. Use pandas.concat instead.\n",
      "  gene_corrs=gene_corrs.append(pd.DataFrame([[gene, main_corr, p]],columns=['gene','corrcoef','p-val'],\n",
      "/tmp/ipykernel_30535/3929790965.py:11: FutureWarning: The frame.append method is deprecated and will be removed from pandas in a future version. Use pandas.concat instead.\n",
      "  gene_corrs=gene_corrs.append(pd.DataFrame([[gene, main_corr, p]],columns=['gene','corrcoef','p-val'],\n"
     ]
    },
    {
     "name": "stdout",
     "output_type": "stream",
     "text": [
      "-0.1852260351815755\n",
      "0.22810636186309524\n"
     ]
    },
    {
     "name": "stderr",
     "output_type": "stream",
     "text": [
      "/tmp/ipykernel_30535/3929790965.py:11: FutureWarning: The frame.append method is deprecated and will be removed from pandas in a future version. Use pandas.concat instead.\n",
      "  gene_corrs=gene_corrs.append(pd.DataFrame([[gene, main_corr, p]],columns=['gene','corrcoef','p-val'],\n",
      "/tmp/ipykernel_30535/3929790965.py:11: FutureWarning: The frame.append method is deprecated and will be removed from pandas in a future version. Use pandas.concat instead.\n",
      "  gene_corrs=gene_corrs.append(pd.DataFrame([[gene, main_corr, p]],columns=['gene','corrcoef','p-val'],\n"
     ]
    },
    {
     "name": "stdout",
     "output_type": "stream",
     "text": [
      "0.2564196920432268\n",
      "-0.1520179782195781\n"
     ]
    },
    {
     "name": "stderr",
     "output_type": "stream",
     "text": [
      "/tmp/ipykernel_30535/3929790965.py:11: FutureWarning: The frame.append method is deprecated and will be removed from pandas in a future version. Use pandas.concat instead.\n",
      "  gene_corrs=gene_corrs.append(pd.DataFrame([[gene, main_corr, p]],columns=['gene','corrcoef','p-val'],\n",
      "/tmp/ipykernel_30535/3929790965.py:11: FutureWarning: The frame.append method is deprecated and will be removed from pandas in a future version. Use pandas.concat instead.\n",
      "  gene_corrs=gene_corrs.append(pd.DataFrame([[gene, main_corr, p]],columns=['gene','corrcoef','p-val'],\n"
     ]
    },
    {
     "name": "stdout",
     "output_type": "stream",
     "text": [
      "0.06022855032406575\n",
      "-0.09269720159766205\n"
     ]
    },
    {
     "name": "stderr",
     "output_type": "stream",
     "text": [
      "/tmp/ipykernel_30535/3929790965.py:11: FutureWarning: The frame.append method is deprecated and will be removed from pandas in a future version. Use pandas.concat instead.\n",
      "  gene_corrs=gene_corrs.append(pd.DataFrame([[gene, main_corr, p]],columns=['gene','corrcoef','p-val'],\n",
      "/tmp/ipykernel_30535/3929790965.py:11: FutureWarning: The frame.append method is deprecated and will be removed from pandas in a future version. Use pandas.concat instead.\n",
      "  gene_corrs=gene_corrs.append(pd.DataFrame([[gene, main_corr, p]],columns=['gene','corrcoef','p-val'],\n"
     ]
    },
    {
     "name": "stdout",
     "output_type": "stream",
     "text": [
      "0.19710371510094835\n",
      "0.24129169716409365\n"
     ]
    },
    {
     "name": "stderr",
     "output_type": "stream",
     "text": [
      "/tmp/ipykernel_30535/3929790965.py:11: FutureWarning: The frame.append method is deprecated and will be removed from pandas in a future version. Use pandas.concat instead.\n",
      "  gene_corrs=gene_corrs.append(pd.DataFrame([[gene, main_corr, p]],columns=['gene','corrcoef','p-val'],\n",
      "/tmp/ipykernel_30535/3929790965.py:11: FutureWarning: The frame.append method is deprecated and will be removed from pandas in a future version. Use pandas.concat instead.\n",
      "  gene_corrs=gene_corrs.append(pd.DataFrame([[gene, main_corr, p]],columns=['gene','corrcoef','p-val'],\n"
     ]
    },
    {
     "name": "stdout",
     "output_type": "stream",
     "text": [
      "0.12372595822143845\n",
      "0.26020515667138494\n"
     ]
    },
    {
     "name": "stderr",
     "output_type": "stream",
     "text": [
      "/tmp/ipykernel_30535/3929790965.py:11: FutureWarning: The frame.append method is deprecated and will be removed from pandas in a future version. Use pandas.concat instead.\n",
      "  gene_corrs=gene_corrs.append(pd.DataFrame([[gene, main_corr, p]],columns=['gene','corrcoef','p-val'],\n",
      "/tmp/ipykernel_30535/3929790965.py:11: FutureWarning: The frame.append method is deprecated and will be removed from pandas in a future version. Use pandas.concat instead.\n",
      "  gene_corrs=gene_corrs.append(pd.DataFrame([[gene, main_corr, p]],columns=['gene','corrcoef','p-val'],\n"
     ]
    },
    {
     "name": "stdout",
     "output_type": "stream",
     "text": [
      "-0.3305876156827576\n",
      "-0.3162765437315103\n"
     ]
    },
    {
     "name": "stderr",
     "output_type": "stream",
     "text": [
      "/tmp/ipykernel_30535/3929790965.py:11: FutureWarning: The frame.append method is deprecated and will be removed from pandas in a future version. Use pandas.concat instead.\n",
      "  gene_corrs=gene_corrs.append(pd.DataFrame([[gene, main_corr, p]],columns=['gene','corrcoef','p-val'],\n",
      "/tmp/ipykernel_30535/3929790965.py:11: FutureWarning: The frame.append method is deprecated and will be removed from pandas in a future version. Use pandas.concat instead.\n",
      "  gene_corrs=gene_corrs.append(pd.DataFrame([[gene, main_corr, p]],columns=['gene','corrcoef','p-val'],\n"
     ]
    },
    {
     "name": "stdout",
     "output_type": "stream",
     "text": [
      "0.25057570080567826\n",
      "0.20439892632122322\n"
     ]
    },
    {
     "name": "stderr",
     "output_type": "stream",
     "text": [
      "/tmp/ipykernel_30535/3929790965.py:11: FutureWarning: The frame.append method is deprecated and will be removed from pandas in a future version. Use pandas.concat instead.\n",
      "  gene_corrs=gene_corrs.append(pd.DataFrame([[gene, main_corr, p]],columns=['gene','corrcoef','p-val'],\n",
      "/tmp/ipykernel_30535/3929790965.py:11: FutureWarning: The frame.append method is deprecated and will be removed from pandas in a future version. Use pandas.concat instead.\n",
      "  gene_corrs=gene_corrs.append(pd.DataFrame([[gene, main_corr, p]],columns=['gene','corrcoef','p-val'],\n"
     ]
    },
    {
     "name": "stdout",
     "output_type": "stream",
     "text": [
      "0.08360059307892836\n",
      "0.25767167435775357\n"
     ]
    },
    {
     "name": "stderr",
     "output_type": "stream",
     "text": [
      "/tmp/ipykernel_30535/3929790965.py:11: FutureWarning: The frame.append method is deprecated and will be removed from pandas in a future version. Use pandas.concat instead.\n",
      "  gene_corrs=gene_corrs.append(pd.DataFrame([[gene, main_corr, p]],columns=['gene','corrcoef','p-val'],\n",
      "/tmp/ipykernel_30535/3929790965.py:11: FutureWarning: The frame.append method is deprecated and will be removed from pandas in a future version. Use pandas.concat instead.\n",
      "  gene_corrs=gene_corrs.append(pd.DataFrame([[gene, main_corr, p]],columns=['gene','corrcoef','p-val'],\n"
     ]
    },
    {
     "name": "stdout",
     "output_type": "stream",
     "text": [
      "-0.13129088596487784\n",
      "0.08188934852303512\n"
     ]
    },
    {
     "name": "stderr",
     "output_type": "stream",
     "text": [
      "/tmp/ipykernel_30535/3929790965.py:11: FutureWarning: The frame.append method is deprecated and will be removed from pandas in a future version. Use pandas.concat instead.\n",
      "  gene_corrs=gene_corrs.append(pd.DataFrame([[gene, main_corr, p]],columns=['gene','corrcoef','p-val'],\n",
      "/tmp/ipykernel_30535/3929790965.py:11: FutureWarning: The frame.append method is deprecated and will be removed from pandas in a future version. Use pandas.concat instead.\n",
      "  gene_corrs=gene_corrs.append(pd.DataFrame([[gene, main_corr, p]],columns=['gene','corrcoef','p-val'],\n"
     ]
    },
    {
     "name": "stdout",
     "output_type": "stream",
     "text": [
      "-0.287714384628327\n",
      "-0.17677642847938488\n"
     ]
    },
    {
     "name": "stderr",
     "output_type": "stream",
     "text": [
      "/tmp/ipykernel_30535/3929790965.py:11: FutureWarning: The frame.append method is deprecated and will be removed from pandas in a future version. Use pandas.concat instead.\n",
      "  gene_corrs=gene_corrs.append(pd.DataFrame([[gene, main_corr, p]],columns=['gene','corrcoef','p-val'],\n",
      "/tmp/ipykernel_30535/3929790965.py:11: FutureWarning: The frame.append method is deprecated and will be removed from pandas in a future version. Use pandas.concat instead.\n",
      "  gene_corrs=gene_corrs.append(pd.DataFrame([[gene, main_corr, p]],columns=['gene','corrcoef','p-val'],\n"
     ]
    },
    {
     "name": "stdout",
     "output_type": "stream",
     "text": [
      "-0.2565835465487227\n",
      "0.21746627766282736\n"
     ]
    },
    {
     "name": "stderr",
     "output_type": "stream",
     "text": [
      "/tmp/ipykernel_30535/3929790965.py:11: FutureWarning: The frame.append method is deprecated and will be removed from pandas in a future version. Use pandas.concat instead.\n",
      "  gene_corrs=gene_corrs.append(pd.DataFrame([[gene, main_corr, p]],columns=['gene','corrcoef','p-val'],\n",
      "/tmp/ipykernel_30535/3929790965.py:11: FutureWarning: The frame.append method is deprecated and will be removed from pandas in a future version. Use pandas.concat instead.\n",
      "  gene_corrs=gene_corrs.append(pd.DataFrame([[gene, main_corr, p]],columns=['gene','corrcoef','p-val'],\n"
     ]
    },
    {
     "name": "stdout",
     "output_type": "stream",
     "text": [
      "0.1565100008433497\n",
      "-0.4798329605838718\n"
     ]
    },
    {
     "name": "stderr",
     "output_type": "stream",
     "text": [
      "/tmp/ipykernel_30535/3929790965.py:11: FutureWarning: The frame.append method is deprecated and will be removed from pandas in a future version. Use pandas.concat instead.\n",
      "  gene_corrs=gene_corrs.append(pd.DataFrame([[gene, main_corr, p]],columns=['gene','corrcoef','p-val'],\n",
      "/tmp/ipykernel_30535/3929790965.py:11: FutureWarning: The frame.append method is deprecated and will be removed from pandas in a future version. Use pandas.concat instead.\n",
      "  gene_corrs=gene_corrs.append(pd.DataFrame([[gene, main_corr, p]],columns=['gene','corrcoef','p-val'],\n"
     ]
    },
    {
     "name": "stdout",
     "output_type": "stream",
     "text": [
      "-0.28413252297344654\n",
      "-0.21235634204742052\n"
     ]
    },
    {
     "name": "stderr",
     "output_type": "stream",
     "text": [
      "/tmp/ipykernel_30535/3929790965.py:11: FutureWarning: The frame.append method is deprecated and will be removed from pandas in a future version. Use pandas.concat instead.\n",
      "  gene_corrs=gene_corrs.append(pd.DataFrame([[gene, main_corr, p]],columns=['gene','corrcoef','p-val'],\n",
      "/tmp/ipykernel_30535/3929790965.py:11: FutureWarning: The frame.append method is deprecated and will be removed from pandas in a future version. Use pandas.concat instead.\n",
      "  gene_corrs=gene_corrs.append(pd.DataFrame([[gene, main_corr, p]],columns=['gene','corrcoef','p-val'],\n"
     ]
    },
    {
     "name": "stdout",
     "output_type": "stream",
     "text": [
      "0.16434298271374756\n",
      "-0.23641521227873064\n"
     ]
    },
    {
     "name": "stderr",
     "output_type": "stream",
     "text": [
      "/tmp/ipykernel_30535/3929790965.py:11: FutureWarning: The frame.append method is deprecated and will be removed from pandas in a future version. Use pandas.concat instead.\n",
      "  gene_corrs=gene_corrs.append(pd.DataFrame([[gene, main_corr, p]],columns=['gene','corrcoef','p-val'],\n",
      "/tmp/ipykernel_30535/3929790965.py:11: FutureWarning: The frame.append method is deprecated and will be removed from pandas in a future version. Use pandas.concat instead.\n",
      "  gene_corrs=gene_corrs.append(pd.DataFrame([[gene, main_corr, p]],columns=['gene','corrcoef','p-val'],\n"
     ]
    },
    {
     "name": "stdout",
     "output_type": "stream",
     "text": [
      "-0.028929034717317503\n",
      "0.3044541433600641\n"
     ]
    },
    {
     "name": "stderr",
     "output_type": "stream",
     "text": [
      "/tmp/ipykernel_30535/3929790965.py:11: FutureWarning: The frame.append method is deprecated and will be removed from pandas in a future version. Use pandas.concat instead.\n",
      "  gene_corrs=gene_corrs.append(pd.DataFrame([[gene, main_corr, p]],columns=['gene','corrcoef','p-val'],\n",
      "/tmp/ipykernel_30535/3929790965.py:11: FutureWarning: The frame.append method is deprecated and will be removed from pandas in a future version. Use pandas.concat instead.\n",
      "  gene_corrs=gene_corrs.append(pd.DataFrame([[gene, main_corr, p]],columns=['gene','corrcoef','p-val'],\n"
     ]
    },
    {
     "name": "stdout",
     "output_type": "stream",
     "text": [
      "0.23024841563962936\n",
      "-0.1643776044883914\n"
     ]
    },
    {
     "name": "stderr",
     "output_type": "stream",
     "text": [
      "/tmp/ipykernel_30535/3929790965.py:11: FutureWarning: The frame.append method is deprecated and will be removed from pandas in a future version. Use pandas.concat instead.\n",
      "  gene_corrs=gene_corrs.append(pd.DataFrame([[gene, main_corr, p]],columns=['gene','corrcoef','p-val'],\n",
      "/tmp/ipykernel_30535/3929790965.py:11: FutureWarning: The frame.append method is deprecated and will be removed from pandas in a future version. Use pandas.concat instead.\n",
      "  gene_corrs=gene_corrs.append(pd.DataFrame([[gene, main_corr, p]],columns=['gene','corrcoef','p-val'],\n"
     ]
    },
    {
     "name": "stdout",
     "output_type": "stream",
     "text": [
      "0.12797739295119973\n",
      "-0.24547750033962504\n"
     ]
    },
    {
     "name": "stderr",
     "output_type": "stream",
     "text": [
      "/tmp/ipykernel_30535/3929790965.py:11: FutureWarning: The frame.append method is deprecated and will be removed from pandas in a future version. Use pandas.concat instead.\n",
      "  gene_corrs=gene_corrs.append(pd.DataFrame([[gene, main_corr, p]],columns=['gene','corrcoef','p-val'],\n",
      "/tmp/ipykernel_30535/3929790965.py:11: FutureWarning: The frame.append method is deprecated and will be removed from pandas in a future version. Use pandas.concat instead.\n",
      "  gene_corrs=gene_corrs.append(pd.DataFrame([[gene, main_corr, p]],columns=['gene','corrcoef','p-val'],\n"
     ]
    },
    {
     "name": "stdout",
     "output_type": "stream",
     "text": [
      "-0.04313893230785658\n",
      "0.18377569659161766\n"
     ]
    },
    {
     "name": "stderr",
     "output_type": "stream",
     "text": [
      "/tmp/ipykernel_30535/3929790965.py:11: FutureWarning: The frame.append method is deprecated and will be removed from pandas in a future version. Use pandas.concat instead.\n",
      "  gene_corrs=gene_corrs.append(pd.DataFrame([[gene, main_corr, p]],columns=['gene','corrcoef','p-val'],\n",
      "/tmp/ipykernel_30535/3929790965.py:11: FutureWarning: The frame.append method is deprecated and will be removed from pandas in a future version. Use pandas.concat instead.\n",
      "  gene_corrs=gene_corrs.append(pd.DataFrame([[gene, main_corr, p]],columns=['gene','corrcoef','p-val'],\n"
     ]
    },
    {
     "name": "stdout",
     "output_type": "stream",
     "text": [
      "0.2968375521109452\n",
      "-0.1285104600841047\n"
     ]
    },
    {
     "name": "stderr",
     "output_type": "stream",
     "text": [
      "/tmp/ipykernel_30535/3929790965.py:11: FutureWarning: The frame.append method is deprecated and will be removed from pandas in a future version. Use pandas.concat instead.\n",
      "  gene_corrs=gene_corrs.append(pd.DataFrame([[gene, main_corr, p]],columns=['gene','corrcoef','p-val'],\n",
      "/tmp/ipykernel_30535/3929790965.py:11: FutureWarning: The frame.append method is deprecated and will be removed from pandas in a future version. Use pandas.concat instead.\n",
      "  gene_corrs=gene_corrs.append(pd.DataFrame([[gene, main_corr, p]],columns=['gene','corrcoef','p-val'],\n"
     ]
    },
    {
     "name": "stdout",
     "output_type": "stream",
     "text": [
      "-0.21826179311535024\n",
      "-0.2763534638469932\n"
     ]
    },
    {
     "name": "stderr",
     "output_type": "stream",
     "text": [
      "/tmp/ipykernel_30535/3929790965.py:11: FutureWarning: The frame.append method is deprecated and will be removed from pandas in a future version. Use pandas.concat instead.\n",
      "  gene_corrs=gene_corrs.append(pd.DataFrame([[gene, main_corr, p]],columns=['gene','corrcoef','p-val'],\n",
      "/tmp/ipykernel_30535/3929790965.py:11: FutureWarning: The frame.append method is deprecated and will be removed from pandas in a future version. Use pandas.concat instead.\n",
      "  gene_corrs=gene_corrs.append(pd.DataFrame([[gene, main_corr, p]],columns=['gene','corrcoef','p-val'],\n"
     ]
    },
    {
     "name": "stdout",
     "output_type": "stream",
     "text": [
      "-0.16172243328347552\n",
      "0.21012565018649124\n"
     ]
    },
    {
     "name": "stderr",
     "output_type": "stream",
     "text": [
      "/tmp/ipykernel_30535/3929790965.py:11: FutureWarning: The frame.append method is deprecated and will be removed from pandas in a future version. Use pandas.concat instead.\n",
      "  gene_corrs=gene_corrs.append(pd.DataFrame([[gene, main_corr, p]],columns=['gene','corrcoef','p-val'],\n",
      "/tmp/ipykernel_30535/3929790965.py:11: FutureWarning: The frame.append method is deprecated and will be removed from pandas in a future version. Use pandas.concat instead.\n",
      "  gene_corrs=gene_corrs.append(pd.DataFrame([[gene, main_corr, p]],columns=['gene','corrcoef','p-val'],\n"
     ]
    },
    {
     "name": "stdout",
     "output_type": "stream",
     "text": [
      "-0.05899266444629117\n",
      "-0.15153119005383198\n"
     ]
    },
    {
     "name": "stderr",
     "output_type": "stream",
     "text": [
      "/tmp/ipykernel_30535/3929790965.py:11: FutureWarning: The frame.append method is deprecated and will be removed from pandas in a future version. Use pandas.concat instead.\n",
      "  gene_corrs=gene_corrs.append(pd.DataFrame([[gene, main_corr, p]],columns=['gene','corrcoef','p-val'],\n",
      "/tmp/ipykernel_30535/3929790965.py:11: FutureWarning: The frame.append method is deprecated and will be removed from pandas in a future version. Use pandas.concat instead.\n",
      "  gene_corrs=gene_corrs.append(pd.DataFrame([[gene, main_corr, p]],columns=['gene','corrcoef','p-val'],\n"
     ]
    },
    {
     "name": "stdout",
     "output_type": "stream",
     "text": [
      "-0.4376472663263107\n",
      "-0.3623834081030312\n"
     ]
    },
    {
     "name": "stderr",
     "output_type": "stream",
     "text": [
      "/tmp/ipykernel_30535/3929790965.py:11: FutureWarning: The frame.append method is deprecated and will be removed from pandas in a future version. Use pandas.concat instead.\n",
      "  gene_corrs=gene_corrs.append(pd.DataFrame([[gene, main_corr, p]],columns=['gene','corrcoef','p-val'],\n",
      "/tmp/ipykernel_30535/3929790965.py:11: FutureWarning: The frame.append method is deprecated and will be removed from pandas in a future version. Use pandas.concat instead.\n",
      "  gene_corrs=gene_corrs.append(pd.DataFrame([[gene, main_corr, p]],columns=['gene','corrcoef','p-val'],\n"
     ]
    },
    {
     "name": "stdout",
     "output_type": "stream",
     "text": [
      "0.10363440147808253\n",
      "-0.09044327066612255\n"
     ]
    },
    {
     "name": "stderr",
     "output_type": "stream",
     "text": [
      "/tmp/ipykernel_30535/3929790965.py:11: FutureWarning: The frame.append method is deprecated and will be removed from pandas in a future version. Use pandas.concat instead.\n",
      "  gene_corrs=gene_corrs.append(pd.DataFrame([[gene, main_corr, p]],columns=['gene','corrcoef','p-val'],\n",
      "/tmp/ipykernel_30535/3929790965.py:11: FutureWarning: The frame.append method is deprecated and will be removed from pandas in a future version. Use pandas.concat instead.\n",
      "  gene_corrs=gene_corrs.append(pd.DataFrame([[gene, main_corr, p]],columns=['gene','corrcoef','p-val'],\n"
     ]
    },
    {
     "name": "stdout",
     "output_type": "stream",
     "text": [
      "0.2107692496142689\n",
      "0.05212696062716813\n"
     ]
    },
    {
     "name": "stderr",
     "output_type": "stream",
     "text": [
      "/tmp/ipykernel_30535/3929790965.py:11: FutureWarning: The frame.append method is deprecated and will be removed from pandas in a future version. Use pandas.concat instead.\n",
      "  gene_corrs=gene_corrs.append(pd.DataFrame([[gene, main_corr, p]],columns=['gene','corrcoef','p-val'],\n",
      "/tmp/ipykernel_30535/3929790965.py:11: FutureWarning: The frame.append method is deprecated and will be removed from pandas in a future version. Use pandas.concat instead.\n",
      "  gene_corrs=gene_corrs.append(pd.DataFrame([[gene, main_corr, p]],columns=['gene','corrcoef','p-val'],\n"
     ]
    },
    {
     "name": "stdout",
     "output_type": "stream",
     "text": [
      "-0.21261608935934226\n",
      "-0.005985741407502021\n"
     ]
    },
    {
     "name": "stderr",
     "output_type": "stream",
     "text": [
      "/tmp/ipykernel_30535/3929790965.py:11: FutureWarning: The frame.append method is deprecated and will be removed from pandas in a future version. Use pandas.concat instead.\n",
      "  gene_corrs=gene_corrs.append(pd.DataFrame([[gene, main_corr, p]],columns=['gene','corrcoef','p-val'],\n",
      "/tmp/ipykernel_30535/3929790965.py:11: FutureWarning: The frame.append method is deprecated and will be removed from pandas in a future version. Use pandas.concat instead.\n",
      "  gene_corrs=gene_corrs.append(pd.DataFrame([[gene, main_corr, p]],columns=['gene','corrcoef','p-val'],\n"
     ]
    },
    {
     "name": "stdout",
     "output_type": "stream",
     "text": [
      "0.0057712944716986035\n",
      "-0.24026431374721713\n"
     ]
    },
    {
     "name": "stderr",
     "output_type": "stream",
     "text": [
      "/tmp/ipykernel_30535/3929790965.py:11: FutureWarning: The frame.append method is deprecated and will be removed from pandas in a future version. Use pandas.concat instead.\n",
      "  gene_corrs=gene_corrs.append(pd.DataFrame([[gene, main_corr, p]],columns=['gene','corrcoef','p-val'],\n",
      "/tmp/ipykernel_30535/3929790965.py:11: FutureWarning: The frame.append method is deprecated and will be removed from pandas in a future version. Use pandas.concat instead.\n",
      "  gene_corrs=gene_corrs.append(pd.DataFrame([[gene, main_corr, p]],columns=['gene','corrcoef','p-val'],\n"
     ]
    },
    {
     "name": "stdout",
     "output_type": "stream",
     "text": [
      "-0.013408647947729944\n",
      "-0.2734716181531887\n"
     ]
    },
    {
     "name": "stderr",
     "output_type": "stream",
     "text": [
      "/tmp/ipykernel_30535/3929790965.py:11: FutureWarning: The frame.append method is deprecated and will be removed from pandas in a future version. Use pandas.concat instead.\n",
      "  gene_corrs=gene_corrs.append(pd.DataFrame([[gene, main_corr, p]],columns=['gene','corrcoef','p-val'],\n",
      "/tmp/ipykernel_30535/3929790965.py:11: FutureWarning: The frame.append method is deprecated and will be removed from pandas in a future version. Use pandas.concat instead.\n",
      "  gene_corrs=gene_corrs.append(pd.DataFrame([[gene, main_corr, p]],columns=['gene','corrcoef','p-val'],\n"
     ]
    },
    {
     "name": "stdout",
     "output_type": "stream",
     "text": [
      "-0.058475977800659835\n",
      "-0.36651113251956463\n"
     ]
    },
    {
     "name": "stderr",
     "output_type": "stream",
     "text": [
      "/tmp/ipykernel_30535/3929790965.py:11: FutureWarning: The frame.append method is deprecated and will be removed from pandas in a future version. Use pandas.concat instead.\n",
      "  gene_corrs=gene_corrs.append(pd.DataFrame([[gene, main_corr, p]],columns=['gene','corrcoef','p-val'],\n",
      "/tmp/ipykernel_30535/3929790965.py:11: FutureWarning: The frame.append method is deprecated and will be removed from pandas in a future version. Use pandas.concat instead.\n",
      "  gene_corrs=gene_corrs.append(pd.DataFrame([[gene, main_corr, p]],columns=['gene','corrcoef','p-val'],\n"
     ]
    },
    {
     "name": "stdout",
     "output_type": "stream",
     "text": [
      "-0.1347876686298053\n",
      "0.3785927876456415\n"
     ]
    },
    {
     "name": "stderr",
     "output_type": "stream",
     "text": [
      "/tmp/ipykernel_30535/3929790965.py:11: FutureWarning: The frame.append method is deprecated and will be removed from pandas in a future version. Use pandas.concat instead.\n",
      "  gene_corrs=gene_corrs.append(pd.DataFrame([[gene, main_corr, p]],columns=['gene','corrcoef','p-val'],\n",
      "/tmp/ipykernel_30535/3929790965.py:11: FutureWarning: The frame.append method is deprecated and will be removed from pandas in a future version. Use pandas.concat instead.\n",
      "  gene_corrs=gene_corrs.append(pd.DataFrame([[gene, main_corr, p]],columns=['gene','corrcoef','p-val'],\n"
     ]
    },
    {
     "name": "stdout",
     "output_type": "stream",
     "text": [
      "0.19164121746088766\n",
      "-0.42527639327153294\n"
     ]
    },
    {
     "name": "stderr",
     "output_type": "stream",
     "text": [
      "/tmp/ipykernel_30535/3929790965.py:11: FutureWarning: The frame.append method is deprecated and will be removed from pandas in a future version. Use pandas.concat instead.\n",
      "  gene_corrs=gene_corrs.append(pd.DataFrame([[gene, main_corr, p]],columns=['gene','corrcoef','p-val'],\n",
      "/tmp/ipykernel_30535/3929790965.py:11: FutureWarning: The frame.append method is deprecated and will be removed from pandas in a future version. Use pandas.concat instead.\n",
      "  gene_corrs=gene_corrs.append(pd.DataFrame([[gene, main_corr, p]],columns=['gene','corrcoef','p-val'],\n"
     ]
    },
    {
     "name": "stdout",
     "output_type": "stream",
     "text": [
      "0.1839731111714426\n",
      "-0.21428237186227014\n"
     ]
    },
    {
     "name": "stderr",
     "output_type": "stream",
     "text": [
      "/tmp/ipykernel_30535/3929790965.py:11: FutureWarning: The frame.append method is deprecated and will be removed from pandas in a future version. Use pandas.concat instead.\n",
      "  gene_corrs=gene_corrs.append(pd.DataFrame([[gene, main_corr, p]],columns=['gene','corrcoef','p-val'],\n",
      "/tmp/ipykernel_30535/3929790965.py:11: FutureWarning: The frame.append method is deprecated and will be removed from pandas in a future version. Use pandas.concat instead.\n",
      "  gene_corrs=gene_corrs.append(pd.DataFrame([[gene, main_corr, p]],columns=['gene','corrcoef','p-val'],\n"
     ]
    },
    {
     "name": "stdout",
     "output_type": "stream",
     "text": [
      "-0.20312477612508956\n",
      "-0.13295358178199423\n"
     ]
    },
    {
     "name": "stderr",
     "output_type": "stream",
     "text": [
      "/tmp/ipykernel_30535/3929790965.py:11: FutureWarning: The frame.append method is deprecated and will be removed from pandas in a future version. Use pandas.concat instead.\n",
      "  gene_corrs=gene_corrs.append(pd.DataFrame([[gene, main_corr, p]],columns=['gene','corrcoef','p-val'],\n",
      "/tmp/ipykernel_30535/3929790965.py:11: FutureWarning: The frame.append method is deprecated and will be removed from pandas in a future version. Use pandas.concat instead.\n",
      "  gene_corrs=gene_corrs.append(pd.DataFrame([[gene, main_corr, p]],columns=['gene','corrcoef','p-val'],\n"
     ]
    },
    {
     "name": "stdout",
     "output_type": "stream",
     "text": [
      "-0.2830130639011686\n",
      "0.1714992098556511\n"
     ]
    },
    {
     "name": "stderr",
     "output_type": "stream",
     "text": [
      "/tmp/ipykernel_30535/3929790965.py:11: FutureWarning: The frame.append method is deprecated and will be removed from pandas in a future version. Use pandas.concat instead.\n",
      "  gene_corrs=gene_corrs.append(pd.DataFrame([[gene, main_corr, p]],columns=['gene','corrcoef','p-val'],\n",
      "/tmp/ipykernel_30535/3929790965.py:11: FutureWarning: The frame.append method is deprecated and will be removed from pandas in a future version. Use pandas.concat instead.\n",
      "  gene_corrs=gene_corrs.append(pd.DataFrame([[gene, main_corr, p]],columns=['gene','corrcoef','p-val'],\n"
     ]
    },
    {
     "name": "stdout",
     "output_type": "stream",
     "text": [
      "0.22595629606151063\n",
      "0.23659467243980628\n"
     ]
    },
    {
     "name": "stderr",
     "output_type": "stream",
     "text": [
      "/tmp/ipykernel_30535/3929790965.py:11: FutureWarning: The frame.append method is deprecated and will be removed from pandas in a future version. Use pandas.concat instead.\n",
      "  gene_corrs=gene_corrs.append(pd.DataFrame([[gene, main_corr, p]],columns=['gene','corrcoef','p-val'],\n",
      "/tmp/ipykernel_30535/3929790965.py:11: FutureWarning: The frame.append method is deprecated and will be removed from pandas in a future version. Use pandas.concat instead.\n",
      "  gene_corrs=gene_corrs.append(pd.DataFrame([[gene, main_corr, p]],columns=['gene','corrcoef','p-val'],\n"
     ]
    },
    {
     "name": "stdout",
     "output_type": "stream",
     "text": [
      "-0.1970608786267634\n",
      "0.1385651196150454\n",
      "0.32500366334488273\n"
     ]
    },
    {
     "name": "stderr",
     "output_type": "stream",
     "text": [
      "/tmp/ipykernel_30535/3929790965.py:11: FutureWarning: The frame.append method is deprecated and will be removed from pandas in a future version. Use pandas.concat instead.\n",
      "  gene_corrs=gene_corrs.append(pd.DataFrame([[gene, main_corr, p]],columns=['gene','corrcoef','p-val'],\n",
      "/tmp/ipykernel_30535/3929790965.py:11: FutureWarning: The frame.append method is deprecated and will be removed from pandas in a future version. Use pandas.concat instead.\n",
      "  gene_corrs=gene_corrs.append(pd.DataFrame([[gene, main_corr, p]],columns=['gene','corrcoef','p-val'],\n"
     ]
    },
    {
     "name": "stdout",
     "output_type": "stream",
     "text": [
      "0.07034379131442348\n",
      "0.013231378330386975\n"
     ]
    },
    {
     "name": "stderr",
     "output_type": "stream",
     "text": [
      "/tmp/ipykernel_30535/3929790965.py:11: FutureWarning: The frame.append method is deprecated and will be removed from pandas in a future version. Use pandas.concat instead.\n",
      "  gene_corrs=gene_corrs.append(pd.DataFrame([[gene, main_corr, p]],columns=['gene','corrcoef','p-val'],\n",
      "/tmp/ipykernel_30535/3929790965.py:11: FutureWarning: The frame.append method is deprecated and will be removed from pandas in a future version. Use pandas.concat instead.\n",
      "  gene_corrs=gene_corrs.append(pd.DataFrame([[gene, main_corr, p]],columns=['gene','corrcoef','p-val'],\n"
     ]
    },
    {
     "name": "stdout",
     "output_type": "stream",
     "text": [
      "0.07924534642056158\n",
      "-0.006488639359751133\n"
     ]
    },
    {
     "name": "stderr",
     "output_type": "stream",
     "text": [
      "/tmp/ipykernel_30535/3929790965.py:11: FutureWarning: The frame.append method is deprecated and will be removed from pandas in a future version. Use pandas.concat instead.\n",
      "  gene_corrs=gene_corrs.append(pd.DataFrame([[gene, main_corr, p]],columns=['gene','corrcoef','p-val'],\n",
      "/tmp/ipykernel_30535/3929790965.py:11: FutureWarning: The frame.append method is deprecated and will be removed from pandas in a future version. Use pandas.concat instead.\n",
      "  gene_corrs=gene_corrs.append(pd.DataFrame([[gene, main_corr, p]],columns=['gene','corrcoef','p-val'],\n"
     ]
    },
    {
     "name": "stdout",
     "output_type": "stream",
     "text": [
      "0.4378095622656387\n",
      "0.08873508442679591\n"
     ]
    },
    {
     "name": "stderr",
     "output_type": "stream",
     "text": [
      "/tmp/ipykernel_30535/3929790965.py:11: FutureWarning: The frame.append method is deprecated and will be removed from pandas in a future version. Use pandas.concat instead.\n",
      "  gene_corrs=gene_corrs.append(pd.DataFrame([[gene, main_corr, p]],columns=['gene','corrcoef','p-val'],\n",
      "/tmp/ipykernel_30535/3929790965.py:11: FutureWarning: The frame.append method is deprecated and will be removed from pandas in a future version. Use pandas.concat instead.\n",
      "  gene_corrs=gene_corrs.append(pd.DataFrame([[gene, main_corr, p]],columns=['gene','corrcoef','p-val'],\n"
     ]
    },
    {
     "name": "stdout",
     "output_type": "stream",
     "text": [
      "0.19634801171216681\n",
      "-0.35163274293209934\n"
     ]
    },
    {
     "name": "stderr",
     "output_type": "stream",
     "text": [
      "/tmp/ipykernel_30535/3929790965.py:11: FutureWarning: The frame.append method is deprecated and will be removed from pandas in a future version. Use pandas.concat instead.\n",
      "  gene_corrs=gene_corrs.append(pd.DataFrame([[gene, main_corr, p]],columns=['gene','corrcoef','p-val'],\n",
      "/tmp/ipykernel_30535/3929790965.py:11: FutureWarning: The frame.append method is deprecated and will be removed from pandas in a future version. Use pandas.concat instead.\n",
      "  gene_corrs=gene_corrs.append(pd.DataFrame([[gene, main_corr, p]],columns=['gene','corrcoef','p-val'],\n"
     ]
    },
    {
     "name": "stdout",
     "output_type": "stream",
     "text": [
      "-0.24549646928979096\n",
      "-0.4219985396739453\n"
     ]
    },
    {
     "name": "stderr",
     "output_type": "stream",
     "text": [
      "/tmp/ipykernel_30535/3929790965.py:11: FutureWarning: The frame.append method is deprecated and will be removed from pandas in a future version. Use pandas.concat instead.\n",
      "  gene_corrs=gene_corrs.append(pd.DataFrame([[gene, main_corr, p]],columns=['gene','corrcoef','p-val'],\n",
      "/tmp/ipykernel_30535/3929790965.py:11: FutureWarning: The frame.append method is deprecated and will be removed from pandas in a future version. Use pandas.concat instead.\n",
      "  gene_corrs=gene_corrs.append(pd.DataFrame([[gene, main_corr, p]],columns=['gene','corrcoef','p-val'],\n",
      "/tmp/ipykernel_30535/3929790965.py:11: FutureWarning: The frame.append method is deprecated and will be removed from pandas in a future version. Use pandas.concat instead.\n",
      "  gene_corrs=gene_corrs.append(pd.DataFrame([[gene, main_corr, p]],columns=['gene','corrcoef','p-val'],\n"
     ]
    },
    {
     "name": "stdout",
     "output_type": "stream",
     "text": [
      "0.0715139298762002\n",
      "0.05727691071941868\n",
      "0.10583244032953734\n"
     ]
    },
    {
     "name": "stderr",
     "output_type": "stream",
     "text": [
      "/tmp/ipykernel_30535/3929790965.py:11: FutureWarning: The frame.append method is deprecated and will be removed from pandas in a future version. Use pandas.concat instead.\n",
      "  gene_corrs=gene_corrs.append(pd.DataFrame([[gene, main_corr, p]],columns=['gene','corrcoef','p-val'],\n",
      "/tmp/ipykernel_30535/3929790965.py:11: FutureWarning: The frame.append method is deprecated and will be removed from pandas in a future version. Use pandas.concat instead.\n",
      "  gene_corrs=gene_corrs.append(pd.DataFrame([[gene, main_corr, p]],columns=['gene','corrcoef','p-val'],\n"
     ]
    },
    {
     "name": "stdout",
     "output_type": "stream",
     "text": [
      "0.2749852271745522\n",
      "-0.19968318421252662\n"
     ]
    },
    {
     "name": "stderr",
     "output_type": "stream",
     "text": [
      "/tmp/ipykernel_30535/3929790965.py:11: FutureWarning: The frame.append method is deprecated and will be removed from pandas in a future version. Use pandas.concat instead.\n",
      "  gene_corrs=gene_corrs.append(pd.DataFrame([[gene, main_corr, p]],columns=['gene','corrcoef','p-val'],\n",
      "/tmp/ipykernel_30535/3929790965.py:11: FutureWarning: The frame.append method is deprecated and will be removed from pandas in a future version. Use pandas.concat instead.\n",
      "  gene_corrs=gene_corrs.append(pd.DataFrame([[gene, main_corr, p]],columns=['gene','corrcoef','p-val'],\n",
      "/tmp/ipykernel_30535/3929790965.py:11: FutureWarning: The frame.append method is deprecated and will be removed from pandas in a future version. Use pandas.concat instead.\n",
      "  gene_corrs=gene_corrs.append(pd.DataFrame([[gene, main_corr, p]],columns=['gene','corrcoef','p-val'],\n"
     ]
    },
    {
     "name": "stdout",
     "output_type": "stream",
     "text": [
      "-0.054870149247368445\n",
      "0.42641107846893794\n",
      "-0.13986929166748738\n"
     ]
    },
    {
     "name": "stderr",
     "output_type": "stream",
     "text": [
      "/tmp/ipykernel_30535/3929790965.py:11: FutureWarning: The frame.append method is deprecated and will be removed from pandas in a future version. Use pandas.concat instead.\n",
      "  gene_corrs=gene_corrs.append(pd.DataFrame([[gene, main_corr, p]],columns=['gene','corrcoef','p-val'],\n",
      "/tmp/ipykernel_30535/3929790965.py:11: FutureWarning: The frame.append method is deprecated and will be removed from pandas in a future version. Use pandas.concat instead.\n",
      "  gene_corrs=gene_corrs.append(pd.DataFrame([[gene, main_corr, p]],columns=['gene','corrcoef','p-val'],\n"
     ]
    },
    {
     "name": "stdout",
     "output_type": "stream",
     "text": [
      "-0.2390929764683207\n",
      "0.1919286504970777\n"
     ]
    },
    {
     "name": "stderr",
     "output_type": "stream",
     "text": [
      "/tmp/ipykernel_30535/3929790965.py:11: FutureWarning: The frame.append method is deprecated and will be removed from pandas in a future version. Use pandas.concat instead.\n",
      "  gene_corrs=gene_corrs.append(pd.DataFrame([[gene, main_corr, p]],columns=['gene','corrcoef','p-val'],\n",
      "/tmp/ipykernel_30535/3929790965.py:11: FutureWarning: The frame.append method is deprecated and will be removed from pandas in a future version. Use pandas.concat instead.\n",
      "  gene_corrs=gene_corrs.append(pd.DataFrame([[gene, main_corr, p]],columns=['gene','corrcoef','p-val'],\n"
     ]
    },
    {
     "name": "stdout",
     "output_type": "stream",
     "text": [
      "-0.2762228080644814\n",
      "0.16607199096820352\n"
     ]
    },
    {
     "name": "stderr",
     "output_type": "stream",
     "text": [
      "/tmp/ipykernel_30535/3929790965.py:11: FutureWarning: The frame.append method is deprecated and will be removed from pandas in a future version. Use pandas.concat instead.\n",
      "  gene_corrs=gene_corrs.append(pd.DataFrame([[gene, main_corr, p]],columns=['gene','corrcoef','p-val'],\n",
      "/tmp/ipykernel_30535/3929790965.py:11: FutureWarning: The frame.append method is deprecated and will be removed from pandas in a future version. Use pandas.concat instead.\n",
      "  gene_corrs=gene_corrs.append(pd.DataFrame([[gene, main_corr, p]],columns=['gene','corrcoef','p-val'],\n"
     ]
    },
    {
     "name": "stdout",
     "output_type": "stream",
     "text": [
      "0.19347950003559505\n",
      "0.06772575211599428\n"
     ]
    },
    {
     "name": "stderr",
     "output_type": "stream",
     "text": [
      "/tmp/ipykernel_30535/3929790965.py:11: FutureWarning: The frame.append method is deprecated and will be removed from pandas in a future version. Use pandas.concat instead.\n",
      "  gene_corrs=gene_corrs.append(pd.DataFrame([[gene, main_corr, p]],columns=['gene','corrcoef','p-val'],\n",
      "/tmp/ipykernel_30535/3929790965.py:11: FutureWarning: The frame.append method is deprecated and will be removed from pandas in a future version. Use pandas.concat instead.\n",
      "  gene_corrs=gene_corrs.append(pd.DataFrame([[gene, main_corr, p]],columns=['gene','corrcoef','p-val'],\n"
     ]
    },
    {
     "name": "stdout",
     "output_type": "stream",
     "text": [
      "0.07673295697689121\n",
      "0.16867177311058995\n"
     ]
    },
    {
     "name": "stderr",
     "output_type": "stream",
     "text": [
      "/tmp/ipykernel_30535/3929790965.py:11: FutureWarning: The frame.append method is deprecated and will be removed from pandas in a future version. Use pandas.concat instead.\n",
      "  gene_corrs=gene_corrs.append(pd.DataFrame([[gene, main_corr, p]],columns=['gene','corrcoef','p-val'],\n",
      "/tmp/ipykernel_30535/3929790965.py:11: FutureWarning: The frame.append method is deprecated and will be removed from pandas in a future version. Use pandas.concat instead.\n",
      "  gene_corrs=gene_corrs.append(pd.DataFrame([[gene, main_corr, p]],columns=['gene','corrcoef','p-val'],\n"
     ]
    },
    {
     "name": "stdout",
     "output_type": "stream",
     "text": [
      "0.39171440563603843\n",
      "0.03293369229300444\n",
      "-0.20555403167808373\n"
     ]
    },
    {
     "name": "stderr",
     "output_type": "stream",
     "text": [
      "/tmp/ipykernel_30535/3929790965.py:11: FutureWarning: The frame.append method is deprecated and will be removed from pandas in a future version. Use pandas.concat instead.\n",
      "  gene_corrs=gene_corrs.append(pd.DataFrame([[gene, main_corr, p]],columns=['gene','corrcoef','p-val'],\n",
      "/tmp/ipykernel_30535/3929790965.py:11: FutureWarning: The frame.append method is deprecated and will be removed from pandas in a future version. Use pandas.concat instead.\n",
      "  gene_corrs=gene_corrs.append(pd.DataFrame([[gene, main_corr, p]],columns=['gene','corrcoef','p-val'],\n",
      "/tmp/ipykernel_30535/3929790965.py:11: FutureWarning: The frame.append method is deprecated and will be removed from pandas in a future version. Use pandas.concat instead.\n",
      "  gene_corrs=gene_corrs.append(pd.DataFrame([[gene, main_corr, p]],columns=['gene','corrcoef','p-val'],\n",
      "/tmp/ipykernel_30535/3929790965.py:11: FutureWarning: The frame.append method is deprecated and will be removed from pandas in a future version. Use pandas.concat instead.\n",
      "  gene_corrs=gene_corrs.append(pd.DataFrame([[gene, main_corr, p]],columns=['gene','corrcoef','p-val'],\n",
      "/tmp/ipykernel_30535/3929790965.py:11: FutureWarning: The frame.append method is deprecated and will be removed from pandas in a future version. Use pandas.concat instead.\n",
      "  gene_corrs=gene_corrs.append(pd.DataFrame([[gene, main_corr, p]],columns=['gene','corrcoef','p-val'],\n"
     ]
    },
    {
     "name": "stdout",
     "output_type": "stream",
     "text": [
      "0.2052590737440992\n",
      "-0.04292256809401512\n",
      "-0.28506690993059297\n"
     ]
    },
    {
     "name": "stderr",
     "output_type": "stream",
     "text": [
      "/tmp/ipykernel_30535/3929790965.py:11: FutureWarning: The frame.append method is deprecated and will be removed from pandas in a future version. Use pandas.concat instead.\n",
      "  gene_corrs=gene_corrs.append(pd.DataFrame([[gene, main_corr, p]],columns=['gene','corrcoef','p-val'],\n",
      "/tmp/ipykernel_30535/3929790965.py:11: FutureWarning: The frame.append method is deprecated and will be removed from pandas in a future version. Use pandas.concat instead.\n",
      "  gene_corrs=gene_corrs.append(pd.DataFrame([[gene, main_corr, p]],columns=['gene','corrcoef','p-val'],\n"
     ]
    },
    {
     "name": "stdout",
     "output_type": "stream",
     "text": [
      "-0.1311562366719834\n",
      "0.17278088308653672\n"
     ]
    },
    {
     "name": "stderr",
     "output_type": "stream",
     "text": [
      "/tmp/ipykernel_30535/3929790965.py:11: FutureWarning: The frame.append method is deprecated and will be removed from pandas in a future version. Use pandas.concat instead.\n",
      "  gene_corrs=gene_corrs.append(pd.DataFrame([[gene, main_corr, p]],columns=['gene','corrcoef','p-val'],\n",
      "/tmp/ipykernel_30535/3929790965.py:11: FutureWarning: The frame.append method is deprecated and will be removed from pandas in a future version. Use pandas.concat instead.\n",
      "  gene_corrs=gene_corrs.append(pd.DataFrame([[gene, main_corr, p]],columns=['gene','corrcoef','p-val'],\n",
      "/tmp/ipykernel_30535/3929790965.py:11: FutureWarning: The frame.append method is deprecated and will be removed from pandas in a future version. Use pandas.concat instead.\n",
      "  gene_corrs=gene_corrs.append(pd.DataFrame([[gene, main_corr, p]],columns=['gene','corrcoef','p-val'],\n"
     ]
    },
    {
     "name": "stdout",
     "output_type": "stream",
     "text": [
      "0.1883442230936196\n",
      "-0.1683038499104769\n",
      "-0.33364604404335924\n"
     ]
    },
    {
     "name": "stderr",
     "output_type": "stream",
     "text": [
      "/tmp/ipykernel_30535/3929790965.py:11: FutureWarning: The frame.append method is deprecated and will be removed from pandas in a future version. Use pandas.concat instead.\n",
      "  gene_corrs=gene_corrs.append(pd.DataFrame([[gene, main_corr, p]],columns=['gene','corrcoef','p-val'],\n",
      "/tmp/ipykernel_30535/3929790965.py:11: FutureWarning: The frame.append method is deprecated and will be removed from pandas in a future version. Use pandas.concat instead.\n",
      "  gene_corrs=gene_corrs.append(pd.DataFrame([[gene, main_corr, p]],columns=['gene','corrcoef','p-val'],\n"
     ]
    },
    {
     "name": "stdout",
     "output_type": "stream",
     "text": [
      "0.03163470087134099\n",
      "-0.23882436068329815\n"
     ]
    },
    {
     "name": "stderr",
     "output_type": "stream",
     "text": [
      "/tmp/ipykernel_30535/3929790965.py:11: FutureWarning: The frame.append method is deprecated and will be removed from pandas in a future version. Use pandas.concat instead.\n",
      "  gene_corrs=gene_corrs.append(pd.DataFrame([[gene, main_corr, p]],columns=['gene','corrcoef','p-val'],\n",
      "/tmp/ipykernel_30535/3929790965.py:11: FutureWarning: The frame.append method is deprecated and will be removed from pandas in a future version. Use pandas.concat instead.\n",
      "  gene_corrs=gene_corrs.append(pd.DataFrame([[gene, main_corr, p]],columns=['gene','corrcoef','p-val'],\n"
     ]
    },
    {
     "name": "stdout",
     "output_type": "stream",
     "text": [
      "0.2632635143725644\n",
      "-0.15686520698979187\n"
     ]
    },
    {
     "name": "stderr",
     "output_type": "stream",
     "text": [
      "/tmp/ipykernel_30535/3929790965.py:11: FutureWarning: The frame.append method is deprecated and will be removed from pandas in a future version. Use pandas.concat instead.\n",
      "  gene_corrs=gene_corrs.append(pd.DataFrame([[gene, main_corr, p]],columns=['gene','corrcoef','p-val'],\n",
      "/tmp/ipykernel_30535/3929790965.py:11: FutureWarning: The frame.append method is deprecated and will be removed from pandas in a future version. Use pandas.concat instead.\n",
      "  gene_corrs=gene_corrs.append(pd.DataFrame([[gene, main_corr, p]],columns=['gene','corrcoef','p-val'],\n",
      "/tmp/ipykernel_30535/3929790965.py:11: FutureWarning: The frame.append method is deprecated and will be removed from pandas in a future version. Use pandas.concat instead.\n",
      "  gene_corrs=gene_corrs.append(pd.DataFrame([[gene, main_corr, p]],columns=['gene','corrcoef','p-val'],\n"
     ]
    },
    {
     "name": "stdout",
     "output_type": "stream",
     "text": [
      "-0.3993859780969924\n",
      "-0.05150889044649749\n",
      "0.44518076315097854\n"
     ]
    },
    {
     "name": "stderr",
     "output_type": "stream",
     "text": [
      "/tmp/ipykernel_30535/3929790965.py:11: FutureWarning: The frame.append method is deprecated and will be removed from pandas in a future version. Use pandas.concat instead.\n",
      "  gene_corrs=gene_corrs.append(pd.DataFrame([[gene, main_corr, p]],columns=['gene','corrcoef','p-val'],\n",
      "/tmp/ipykernel_30535/3929790965.py:11: FutureWarning: The frame.append method is deprecated and will be removed from pandas in a future version. Use pandas.concat instead.\n",
      "  gene_corrs=gene_corrs.append(pd.DataFrame([[gene, main_corr, p]],columns=['gene','corrcoef','p-val'],\n"
     ]
    },
    {
     "name": "stdout",
     "output_type": "stream",
     "text": [
      "0.32665430300805554\n",
      "-0.10416629551937563\n"
     ]
    },
    {
     "name": "stderr",
     "output_type": "stream",
     "text": [
      "/tmp/ipykernel_30535/3929790965.py:11: FutureWarning: The frame.append method is deprecated and will be removed from pandas in a future version. Use pandas.concat instead.\n",
      "  gene_corrs=gene_corrs.append(pd.DataFrame([[gene, main_corr, p]],columns=['gene','corrcoef','p-val'],\n",
      "/tmp/ipykernel_30535/3929790965.py:11: FutureWarning: The frame.append method is deprecated and will be removed from pandas in a future version. Use pandas.concat instead.\n",
      "  gene_corrs=gene_corrs.append(pd.DataFrame([[gene, main_corr, p]],columns=['gene','corrcoef','p-val'],\n",
      "/tmp/ipykernel_30535/3929790965.py:11: FutureWarning: The frame.append method is deprecated and will be removed from pandas in a future version. Use pandas.concat instead.\n",
      "  gene_corrs=gene_corrs.append(pd.DataFrame([[gene, main_corr, p]],columns=['gene','corrcoef','p-val'],\n"
     ]
    },
    {
     "name": "stdout",
     "output_type": "stream",
     "text": [
      "0.10849199092380882\n",
      "0.2429453248460456\n",
      "0.25803773094445054\n"
     ]
    },
    {
     "name": "stderr",
     "output_type": "stream",
     "text": [
      "/tmp/ipykernel_30535/3929790965.py:11: FutureWarning: The frame.append method is deprecated and will be removed from pandas in a future version. Use pandas.concat instead.\n",
      "  gene_corrs=gene_corrs.append(pd.DataFrame([[gene, main_corr, p]],columns=['gene','corrcoef','p-val'],\n",
      "/tmp/ipykernel_30535/3929790965.py:11: FutureWarning: The frame.append method is deprecated and will be removed from pandas in a future version. Use pandas.concat instead.\n",
      "  gene_corrs=gene_corrs.append(pd.DataFrame([[gene, main_corr, p]],columns=['gene','corrcoef','p-val'],\n",
      "/tmp/ipykernel_30535/3929790965.py:11: FutureWarning: The frame.append method is deprecated and will be removed from pandas in a future version. Use pandas.concat instead.\n",
      "  gene_corrs=gene_corrs.append(pd.DataFrame([[gene, main_corr, p]],columns=['gene','corrcoef','p-val'],\n"
     ]
    },
    {
     "name": "stdout",
     "output_type": "stream",
     "text": [
      "-0.08740677201956465\n",
      "0.15931090356241479\n",
      "0.34241140183756397\n"
     ]
    },
    {
     "name": "stderr",
     "output_type": "stream",
     "text": [
      "/tmp/ipykernel_30535/3929790965.py:11: FutureWarning: The frame.append method is deprecated and will be removed from pandas in a future version. Use pandas.concat instead.\n",
      "  gene_corrs=gene_corrs.append(pd.DataFrame([[gene, main_corr, p]],columns=['gene','corrcoef','p-val'],\n",
      "/tmp/ipykernel_30535/3929790965.py:11: FutureWarning: The frame.append method is deprecated and will be removed from pandas in a future version. Use pandas.concat instead.\n",
      "  gene_corrs=gene_corrs.append(pd.DataFrame([[gene, main_corr, p]],columns=['gene','corrcoef','p-val'],\n"
     ]
    },
    {
     "name": "stdout",
     "output_type": "stream",
     "text": [
      "0.16030967074589592\n",
      "0.2545512094547061\n"
     ]
    },
    {
     "name": "stderr",
     "output_type": "stream",
     "text": [
      "/tmp/ipykernel_30535/3929790965.py:11: FutureWarning: The frame.append method is deprecated and will be removed from pandas in a future version. Use pandas.concat instead.\n",
      "  gene_corrs=gene_corrs.append(pd.DataFrame([[gene, main_corr, p]],columns=['gene','corrcoef','p-val'],\n",
      "/tmp/ipykernel_30535/3929790965.py:11: FutureWarning: The frame.append method is deprecated and will be removed from pandas in a future version. Use pandas.concat instead.\n",
      "  gene_corrs=gene_corrs.append(pd.DataFrame([[gene, main_corr, p]],columns=['gene','corrcoef','p-val'],\n",
      "/tmp/ipykernel_30535/3929790965.py:11: FutureWarning: The frame.append method is deprecated and will be removed from pandas in a future version. Use pandas.concat instead.\n",
      "  gene_corrs=gene_corrs.append(pd.DataFrame([[gene, main_corr, p]],columns=['gene','corrcoef','p-val'],\n"
     ]
    },
    {
     "name": "stdout",
     "output_type": "stream",
     "text": [
      "0.009851840548866371\n",
      "-0.03763992001142628\n",
      "0.2442808124959767\n"
     ]
    },
    {
     "name": "stderr",
     "output_type": "stream",
     "text": [
      "/tmp/ipykernel_30535/3929790965.py:11: FutureWarning: The frame.append method is deprecated and will be removed from pandas in a future version. Use pandas.concat instead.\n",
      "  gene_corrs=gene_corrs.append(pd.DataFrame([[gene, main_corr, p]],columns=['gene','corrcoef','p-val'],\n",
      "/tmp/ipykernel_30535/3929790965.py:11: FutureWarning: The frame.append method is deprecated and will be removed from pandas in a future version. Use pandas.concat instead.\n",
      "  gene_corrs=gene_corrs.append(pd.DataFrame([[gene, main_corr, p]],columns=['gene','corrcoef','p-val'],\n"
     ]
    },
    {
     "name": "stdout",
     "output_type": "stream",
     "text": [
      "0.26340091376199126\n",
      "0.0016746263838483453\n"
     ]
    },
    {
     "name": "stderr",
     "output_type": "stream",
     "text": [
      "/tmp/ipykernel_30535/3929790965.py:11: FutureWarning: The frame.append method is deprecated and will be removed from pandas in a future version. Use pandas.concat instead.\n",
      "  gene_corrs=gene_corrs.append(pd.DataFrame([[gene, main_corr, p]],columns=['gene','corrcoef','p-val'],\n",
      "/tmp/ipykernel_30535/3929790965.py:11: FutureWarning: The frame.append method is deprecated and will be removed from pandas in a future version. Use pandas.concat instead.\n",
      "  gene_corrs=gene_corrs.append(pd.DataFrame([[gene, main_corr, p]],columns=['gene','corrcoef','p-val'],\n",
      "/tmp/ipykernel_30535/3929790965.py:11: FutureWarning: The frame.append method is deprecated and will be removed from pandas in a future version. Use pandas.concat instead.\n",
      "  gene_corrs=gene_corrs.append(pd.DataFrame([[gene, main_corr, p]],columns=['gene','corrcoef','p-val'],\n"
     ]
    },
    {
     "name": "stdout",
     "output_type": "stream",
     "text": [
      "-0.056929143626602965\n",
      "-0.24092598844259794\n",
      "0.21470888158813237\n"
     ]
    },
    {
     "name": "stderr",
     "output_type": "stream",
     "text": [
      "/tmp/ipykernel_30535/3929790965.py:11: FutureWarning: The frame.append method is deprecated and will be removed from pandas in a future version. Use pandas.concat instead.\n",
      "  gene_corrs=gene_corrs.append(pd.DataFrame([[gene, main_corr, p]],columns=['gene','corrcoef','p-val'],\n",
      "/tmp/ipykernel_30535/3929790965.py:11: FutureWarning: The frame.append method is deprecated and will be removed from pandas in a future version. Use pandas.concat instead.\n",
      "  gene_corrs=gene_corrs.append(pd.DataFrame([[gene, main_corr, p]],columns=['gene','corrcoef','p-val'],\n"
     ]
    },
    {
     "name": "stdout",
     "output_type": "stream",
     "text": [
      "0.10805727585145111\n",
      "-0.14354877840313715\n"
     ]
    },
    {
     "name": "stderr",
     "output_type": "stream",
     "text": [
      "/tmp/ipykernel_30535/3929790965.py:11: FutureWarning: The frame.append method is deprecated and will be removed from pandas in a future version. Use pandas.concat instead.\n",
      "  gene_corrs=gene_corrs.append(pd.DataFrame([[gene, main_corr, p]],columns=['gene','corrcoef','p-val'],\n",
      "/tmp/ipykernel_30535/3929790965.py:11: FutureWarning: The frame.append method is deprecated and will be removed from pandas in a future version. Use pandas.concat instead.\n",
      "  gene_corrs=gene_corrs.append(pd.DataFrame([[gene, main_corr, p]],columns=['gene','corrcoef','p-val'],\n",
      "/tmp/ipykernel_30535/3929790965.py:11: FutureWarning: The frame.append method is deprecated and will be removed from pandas in a future version. Use pandas.concat instead.\n",
      "  gene_corrs=gene_corrs.append(pd.DataFrame([[gene, main_corr, p]],columns=['gene','corrcoef','p-val'],\n"
     ]
    },
    {
     "name": "stdout",
     "output_type": "stream",
     "text": [
      "-0.05593227345232559\n",
      "0.026226166323177407\n",
      "-0.34311347831801997\n"
     ]
    },
    {
     "name": "stderr",
     "output_type": "stream",
     "text": [
      "/tmp/ipykernel_30535/3929790965.py:11: FutureWarning: The frame.append method is deprecated and will be removed from pandas in a future version. Use pandas.concat instead.\n",
      "  gene_corrs=gene_corrs.append(pd.DataFrame([[gene, main_corr, p]],columns=['gene','corrcoef','p-val'],\n",
      "/tmp/ipykernel_30535/3929790965.py:11: FutureWarning: The frame.append method is deprecated and will be removed from pandas in a future version. Use pandas.concat instead.\n",
      "  gene_corrs=gene_corrs.append(pd.DataFrame([[gene, main_corr, p]],columns=['gene','corrcoef','p-val'],\n",
      "/tmp/ipykernel_30535/3929790965.py:11: FutureWarning: The frame.append method is deprecated and will be removed from pandas in a future version. Use pandas.concat instead.\n",
      "  gene_corrs=gene_corrs.append(pd.DataFrame([[gene, main_corr, p]],columns=['gene','corrcoef','p-val'],\n"
     ]
    },
    {
     "name": "stdout",
     "output_type": "stream",
     "text": [
      "-0.06957397689513302\n",
      "0.07953107976999713\n",
      "0.13426046213122805\n"
     ]
    },
    {
     "name": "stderr",
     "output_type": "stream",
     "text": [
      "/tmp/ipykernel_30535/3929790965.py:11: FutureWarning: The frame.append method is deprecated and will be removed from pandas in a future version. Use pandas.concat instead.\n",
      "  gene_corrs=gene_corrs.append(pd.DataFrame([[gene, main_corr, p]],columns=['gene','corrcoef','p-val'],\n",
      "/tmp/ipykernel_30535/3929790965.py:11: FutureWarning: The frame.append method is deprecated and will be removed from pandas in a future version. Use pandas.concat instead.\n",
      "  gene_corrs=gene_corrs.append(pd.DataFrame([[gene, main_corr, p]],columns=['gene','corrcoef','p-val'],\n"
     ]
    },
    {
     "name": "stdout",
     "output_type": "stream",
     "text": [
      "0.49057083301999344\n",
      "0.0667109847415732\n"
     ]
    },
    {
     "name": "stderr",
     "output_type": "stream",
     "text": [
      "/tmp/ipykernel_30535/3929790965.py:11: FutureWarning: The frame.append method is deprecated and will be removed from pandas in a future version. Use pandas.concat instead.\n",
      "  gene_corrs=gene_corrs.append(pd.DataFrame([[gene, main_corr, p]],columns=['gene','corrcoef','p-val'],\n",
      "/tmp/ipykernel_30535/3929790965.py:11: FutureWarning: The frame.append method is deprecated and will be removed from pandas in a future version. Use pandas.concat instead.\n",
      "  gene_corrs=gene_corrs.append(pd.DataFrame([[gene, main_corr, p]],columns=['gene','corrcoef','p-val'],\n",
      "/tmp/ipykernel_30535/3929790965.py:11: FutureWarning: The frame.append method is deprecated and will be removed from pandas in a future version. Use pandas.concat instead.\n",
      "  gene_corrs=gene_corrs.append(pd.DataFrame([[gene, main_corr, p]],columns=['gene','corrcoef','p-val'],\n"
     ]
    },
    {
     "name": "stdout",
     "output_type": "stream",
     "text": [
      "0.10197766056128044\n",
      "0.2433110776127142\n",
      "-0.13697426488736777\n"
     ]
    },
    {
     "name": "stderr",
     "output_type": "stream",
     "text": [
      "/tmp/ipykernel_30535/3929790965.py:11: FutureWarning: The frame.append method is deprecated and will be removed from pandas in a future version. Use pandas.concat instead.\n",
      "  gene_corrs=gene_corrs.append(pd.DataFrame([[gene, main_corr, p]],columns=['gene','corrcoef','p-val'],\n",
      "/tmp/ipykernel_30535/3929790965.py:11: FutureWarning: The frame.append method is deprecated and will be removed from pandas in a future version. Use pandas.concat instead.\n",
      "  gene_corrs=gene_corrs.append(pd.DataFrame([[gene, main_corr, p]],columns=['gene','corrcoef','p-val'],\n"
     ]
    },
    {
     "name": "stdout",
     "output_type": "stream",
     "text": [
      "0.08741880512108148\n",
      "0.19132192442045956\n"
     ]
    },
    {
     "name": "stderr",
     "output_type": "stream",
     "text": [
      "/tmp/ipykernel_30535/3929790965.py:11: FutureWarning: The frame.append method is deprecated and will be removed from pandas in a future version. Use pandas.concat instead.\n",
      "  gene_corrs=gene_corrs.append(pd.DataFrame([[gene, main_corr, p]],columns=['gene','corrcoef','p-val'],\n",
      "/tmp/ipykernel_30535/3929790965.py:11: FutureWarning: The frame.append method is deprecated and will be removed from pandas in a future version. Use pandas.concat instead.\n",
      "  gene_corrs=gene_corrs.append(pd.DataFrame([[gene, main_corr, p]],columns=['gene','corrcoef','p-val'],\n",
      "/tmp/ipykernel_30535/3929790965.py:11: FutureWarning: The frame.append method is deprecated and will be removed from pandas in a future version. Use pandas.concat instead.\n",
      "  gene_corrs=gene_corrs.append(pd.DataFrame([[gene, main_corr, p]],columns=['gene','corrcoef','p-val'],\n"
     ]
    },
    {
     "name": "stdout",
     "output_type": "stream",
     "text": [
      "-0.17916303356906887\n",
      "-0.04174775156279587\n",
      "-0.10245771189490217\n"
     ]
    },
    {
     "name": "stderr",
     "output_type": "stream",
     "text": [
      "/tmp/ipykernel_30535/3929790965.py:11: FutureWarning: The frame.append method is deprecated and will be removed from pandas in a future version. Use pandas.concat instead.\n",
      "  gene_corrs=gene_corrs.append(pd.DataFrame([[gene, main_corr, p]],columns=['gene','corrcoef','p-val'],\n",
      "/tmp/ipykernel_30535/3929790965.py:11: FutureWarning: The frame.append method is deprecated and will be removed from pandas in a future version. Use pandas.concat instead.\n",
      "  gene_corrs=gene_corrs.append(pd.DataFrame([[gene, main_corr, p]],columns=['gene','corrcoef','p-val'],\n"
     ]
    },
    {
     "name": "stdout",
     "output_type": "stream",
     "text": [
      "-0.12269525228762398\n",
      "-0.03436408202580473\n"
     ]
    },
    {
     "name": "stderr",
     "output_type": "stream",
     "text": [
      "/tmp/ipykernel_30535/3929790965.py:11: FutureWarning: The frame.append method is deprecated and will be removed from pandas in a future version. Use pandas.concat instead.\n",
      "  gene_corrs=gene_corrs.append(pd.DataFrame([[gene, main_corr, p]],columns=['gene','corrcoef','p-val'],\n",
      "/tmp/ipykernel_30535/3929790965.py:11: FutureWarning: The frame.append method is deprecated and will be removed from pandas in a future version. Use pandas.concat instead.\n",
      "  gene_corrs=gene_corrs.append(pd.DataFrame([[gene, main_corr, p]],columns=['gene','corrcoef','p-val'],\n",
      "/tmp/ipykernel_30535/3929790965.py:11: FutureWarning: The frame.append method is deprecated and will be removed from pandas in a future version. Use pandas.concat instead.\n",
      "  gene_corrs=gene_corrs.append(pd.DataFrame([[gene, main_corr, p]],columns=['gene','corrcoef','p-val'],\n"
     ]
    },
    {
     "name": "stdout",
     "output_type": "stream",
     "text": [
      "0.19377672327785317\n",
      "0.1685601090124464\n",
      "0.1018547632742837\n"
     ]
    },
    {
     "name": "stderr",
     "output_type": "stream",
     "text": [
      "/tmp/ipykernel_30535/3929790965.py:11: FutureWarning: The frame.append method is deprecated and will be removed from pandas in a future version. Use pandas.concat instead.\n",
      "  gene_corrs=gene_corrs.append(pd.DataFrame([[gene, main_corr, p]],columns=['gene','corrcoef','p-val'],\n",
      "/tmp/ipykernel_30535/3929790965.py:11: FutureWarning: The frame.append method is deprecated and will be removed from pandas in a future version. Use pandas.concat instead.\n",
      "  gene_corrs=gene_corrs.append(pd.DataFrame([[gene, main_corr, p]],columns=['gene','corrcoef','p-val'],\n",
      "/tmp/ipykernel_30535/3929790965.py:11: FutureWarning: The frame.append method is deprecated and will be removed from pandas in a future version. Use pandas.concat instead.\n",
      "  gene_corrs=gene_corrs.append(pd.DataFrame([[gene, main_corr, p]],columns=['gene','corrcoef','p-val'],\n"
     ]
    },
    {
     "name": "stdout",
     "output_type": "stream",
     "text": [
      "0.1975150036438666\n",
      "0.13790010804017727\n",
      "0.30699039579133836\n"
     ]
    },
    {
     "name": "stderr",
     "output_type": "stream",
     "text": [
      "/tmp/ipykernel_30535/3929790965.py:11: FutureWarning: The frame.append method is deprecated and will be removed from pandas in a future version. Use pandas.concat instead.\n",
      "  gene_corrs=gene_corrs.append(pd.DataFrame([[gene, main_corr, p]],columns=['gene','corrcoef','p-val'],\n",
      "/tmp/ipykernel_30535/3929790965.py:11: FutureWarning: The frame.append method is deprecated and will be removed from pandas in a future version. Use pandas.concat instead.\n",
      "  gene_corrs=gene_corrs.append(pd.DataFrame([[gene, main_corr, p]],columns=['gene','corrcoef','p-val'],\n"
     ]
    },
    {
     "name": "stdout",
     "output_type": "stream",
     "text": [
      "-0.18647818177154069\n",
      "0.2665644816736341\n"
     ]
    },
    {
     "name": "stderr",
     "output_type": "stream",
     "text": [
      "/tmp/ipykernel_30535/3929790965.py:11: FutureWarning: The frame.append method is deprecated and will be removed from pandas in a future version. Use pandas.concat instead.\n",
      "  gene_corrs=gene_corrs.append(pd.DataFrame([[gene, main_corr, p]],columns=['gene','corrcoef','p-val'],\n",
      "/tmp/ipykernel_30535/3929790965.py:11: FutureWarning: The frame.append method is deprecated and will be removed from pandas in a future version. Use pandas.concat instead.\n",
      "  gene_corrs=gene_corrs.append(pd.DataFrame([[gene, main_corr, p]],columns=['gene','corrcoef','p-val'],\n",
      "/tmp/ipykernel_30535/3929790965.py:11: FutureWarning: The frame.append method is deprecated and will be removed from pandas in a future version. Use pandas.concat instead.\n",
      "  gene_corrs=gene_corrs.append(pd.DataFrame([[gene, main_corr, p]],columns=['gene','corrcoef','p-val'],\n"
     ]
    },
    {
     "name": "stdout",
     "output_type": "stream",
     "text": [
      "0.02628743274070696\n",
      "0.319324416994273\n",
      "-0.07951049145904907\n"
     ]
    },
    {
     "name": "stderr",
     "output_type": "stream",
     "text": [
      "/tmp/ipykernel_30535/3929790965.py:11: FutureWarning: The frame.append method is deprecated and will be removed from pandas in a future version. Use pandas.concat instead.\n",
      "  gene_corrs=gene_corrs.append(pd.DataFrame([[gene, main_corr, p]],columns=['gene','corrcoef','p-val'],\n",
      "/tmp/ipykernel_30535/3929790965.py:11: FutureWarning: The frame.append method is deprecated and will be removed from pandas in a future version. Use pandas.concat instead.\n",
      "  gene_corrs=gene_corrs.append(pd.DataFrame([[gene, main_corr, p]],columns=['gene','corrcoef','p-val'],\n"
     ]
    },
    {
     "name": "stdout",
     "output_type": "stream",
     "text": [
      "-0.05348235924261033\n",
      "0.22680961906933314\n"
     ]
    },
    {
     "name": "stderr",
     "output_type": "stream",
     "text": [
      "/tmp/ipykernel_30535/3929790965.py:11: FutureWarning: The frame.append method is deprecated and will be removed from pandas in a future version. Use pandas.concat instead.\n",
      "  gene_corrs=gene_corrs.append(pd.DataFrame([[gene, main_corr, p]],columns=['gene','corrcoef','p-val'],\n",
      "/tmp/ipykernel_30535/3929790965.py:11: FutureWarning: The frame.append method is deprecated and will be removed from pandas in a future version. Use pandas.concat instead.\n",
      "  gene_corrs=gene_corrs.append(pd.DataFrame([[gene, main_corr, p]],columns=['gene','corrcoef','p-val'],\n"
     ]
    },
    {
     "name": "stdout",
     "output_type": "stream",
     "text": [
      "0.05483011777513459\n",
      "0.04256058014146577\n"
     ]
    },
    {
     "name": "stderr",
     "output_type": "stream",
     "text": [
      "/tmp/ipykernel_30535/3929790965.py:11: FutureWarning: The frame.append method is deprecated and will be removed from pandas in a future version. Use pandas.concat instead.\n",
      "  gene_corrs=gene_corrs.append(pd.DataFrame([[gene, main_corr, p]],columns=['gene','corrcoef','p-val'],\n",
      "/tmp/ipykernel_30535/3929790965.py:11: FutureWarning: The frame.append method is deprecated and will be removed from pandas in a future version. Use pandas.concat instead.\n",
      "  gene_corrs=gene_corrs.append(pd.DataFrame([[gene, main_corr, p]],columns=['gene','corrcoef','p-val'],\n"
     ]
    },
    {
     "name": "stdout",
     "output_type": "stream",
     "text": [
      "-0.37843194236244915\n",
      "-0.0772832041301235\n"
     ]
    },
    {
     "name": "stderr",
     "output_type": "stream",
     "text": [
      "/tmp/ipykernel_30535/3929790965.py:11: FutureWarning: The frame.append method is deprecated and will be removed from pandas in a future version. Use pandas.concat instead.\n",
      "  gene_corrs=gene_corrs.append(pd.DataFrame([[gene, main_corr, p]],columns=['gene','corrcoef','p-val'],\n",
      "/tmp/ipykernel_30535/3929790965.py:11: FutureWarning: The frame.append method is deprecated and will be removed from pandas in a future version. Use pandas.concat instead.\n",
      "  gene_corrs=gene_corrs.append(pd.DataFrame([[gene, main_corr, p]],columns=['gene','corrcoef','p-val'],\n",
      "/tmp/ipykernel_30535/3929790965.py:11: FutureWarning: The frame.append method is deprecated and will be removed from pandas in a future version. Use pandas.concat instead.\n",
      "  gene_corrs=gene_corrs.append(pd.DataFrame([[gene, main_corr, p]],columns=['gene','corrcoef','p-val'],\n"
     ]
    },
    {
     "name": "stdout",
     "output_type": "stream",
     "text": [
      "-0.04683767989485774\n",
      "0.04744428130554984\n",
      "-0.12222715975716164\n"
     ]
    },
    {
     "name": "stderr",
     "output_type": "stream",
     "text": [
      "/tmp/ipykernel_30535/3929790965.py:11: FutureWarning: The frame.append method is deprecated and will be removed from pandas in a future version. Use pandas.concat instead.\n",
      "  gene_corrs=gene_corrs.append(pd.DataFrame([[gene, main_corr, p]],columns=['gene','corrcoef','p-val'],\n",
      "/tmp/ipykernel_30535/3929790965.py:11: FutureWarning: The frame.append method is deprecated and will be removed from pandas in a future version. Use pandas.concat instead.\n",
      "  gene_corrs=gene_corrs.append(pd.DataFrame([[gene, main_corr, p]],columns=['gene','corrcoef','p-val'],\n"
     ]
    },
    {
     "name": "stdout",
     "output_type": "stream",
     "text": [
      "-0.3293269377519592\n",
      "-0.0600961617367949\n"
     ]
    },
    {
     "name": "stderr",
     "output_type": "stream",
     "text": [
      "/tmp/ipykernel_30535/3929790965.py:11: FutureWarning: The frame.append method is deprecated and will be removed from pandas in a future version. Use pandas.concat instead.\n",
      "  gene_corrs=gene_corrs.append(pd.DataFrame([[gene, main_corr, p]],columns=['gene','corrcoef','p-val'],\n",
      "/tmp/ipykernel_30535/3929790965.py:11: FutureWarning: The frame.append method is deprecated and will be removed from pandas in a future version. Use pandas.concat instead.\n",
      "  gene_corrs=gene_corrs.append(pd.DataFrame([[gene, main_corr, p]],columns=['gene','corrcoef','p-val'],\n"
     ]
    },
    {
     "name": "stdout",
     "output_type": "stream",
     "text": [
      "0.20116219665071117\n",
      "-0.28934010765535984\n"
     ]
    },
    {
     "name": "stderr",
     "output_type": "stream",
     "text": [
      "/tmp/ipykernel_30535/3929790965.py:11: FutureWarning: The frame.append method is deprecated and will be removed from pandas in a future version. Use pandas.concat instead.\n",
      "  gene_corrs=gene_corrs.append(pd.DataFrame([[gene, main_corr, p]],columns=['gene','corrcoef','p-val'],\n",
      "/tmp/ipykernel_30535/3929790965.py:11: FutureWarning: The frame.append method is deprecated and will be removed from pandas in a future version. Use pandas.concat instead.\n",
      "  gene_corrs=gene_corrs.append(pd.DataFrame([[gene, main_corr, p]],columns=['gene','corrcoef','p-val'],\n"
     ]
    },
    {
     "name": "stdout",
     "output_type": "stream",
     "text": [
      "0.06155754060946456\n",
      "-0.018330364287095387\n"
     ]
    },
    {
     "name": "stderr",
     "output_type": "stream",
     "text": [
      "/tmp/ipykernel_30535/3929790965.py:11: FutureWarning: The frame.append method is deprecated and will be removed from pandas in a future version. Use pandas.concat instead.\n",
      "  gene_corrs=gene_corrs.append(pd.DataFrame([[gene, main_corr, p]],columns=['gene','corrcoef','p-val'],\n",
      "/tmp/ipykernel_30535/3929790965.py:11: FutureWarning: The frame.append method is deprecated and will be removed from pandas in a future version. Use pandas.concat instead.\n",
      "  gene_corrs=gene_corrs.append(pd.DataFrame([[gene, main_corr, p]],columns=['gene','corrcoef','p-val'],\n",
      "/tmp/ipykernel_30535/3929790965.py:11: FutureWarning: The frame.append method is deprecated and will be removed from pandas in a future version. Use pandas.concat instead.\n",
      "  gene_corrs=gene_corrs.append(pd.DataFrame([[gene, main_corr, p]],columns=['gene','corrcoef','p-val'],\n"
     ]
    },
    {
     "name": "stdout",
     "output_type": "stream",
     "text": [
      "0.06123377532227904\n",
      "-0.07779291195301191\n",
      "0.17982464438830104\n"
     ]
    },
    {
     "name": "stderr",
     "output_type": "stream",
     "text": [
      "/tmp/ipykernel_30535/3929790965.py:11: FutureWarning: The frame.append method is deprecated and will be removed from pandas in a future version. Use pandas.concat instead.\n",
      "  gene_corrs=gene_corrs.append(pd.DataFrame([[gene, main_corr, p]],columns=['gene','corrcoef','p-val'],\n",
      "/tmp/ipykernel_30535/3929790965.py:11: FutureWarning: The frame.append method is deprecated and will be removed from pandas in a future version. Use pandas.concat instead.\n",
      "  gene_corrs=gene_corrs.append(pd.DataFrame([[gene, main_corr, p]],columns=['gene','corrcoef','p-val'],\n"
     ]
    },
    {
     "name": "stdout",
     "output_type": "stream",
     "text": [
      "-0.09884768525179549\n",
      "0.19406345910052117\n"
     ]
    },
    {
     "name": "stderr",
     "output_type": "stream",
     "text": [
      "/tmp/ipykernel_30535/3929790965.py:11: FutureWarning: The frame.append method is deprecated and will be removed from pandas in a future version. Use pandas.concat instead.\n",
      "  gene_corrs=gene_corrs.append(pd.DataFrame([[gene, main_corr, p]],columns=['gene','corrcoef','p-val'],\n",
      "/tmp/ipykernel_30535/3929790965.py:11: FutureWarning: The frame.append method is deprecated and will be removed from pandas in a future version. Use pandas.concat instead.\n",
      "  gene_corrs=gene_corrs.append(pd.DataFrame([[gene, main_corr, p]],columns=['gene','corrcoef','p-val'],\n",
      "/tmp/ipykernel_30535/3929790965.py:11: FutureWarning: The frame.append method is deprecated and will be removed from pandas in a future version. Use pandas.concat instead.\n",
      "  gene_corrs=gene_corrs.append(pd.DataFrame([[gene, main_corr, p]],columns=['gene','corrcoef','p-val'],\n"
     ]
    },
    {
     "name": "stdout",
     "output_type": "stream",
     "text": [
      "-0.16574461769896998\n",
      "-0.1401754820669728\n",
      "-0.06508261085156392\n",
      "0.017532749537053256\n"
     ]
    },
    {
     "name": "stderr",
     "output_type": "stream",
     "text": [
      "/tmp/ipykernel_30535/3929790965.py:11: FutureWarning: The frame.append method is deprecated and will be removed from pandas in a future version. Use pandas.concat instead.\n",
      "  gene_corrs=gene_corrs.append(pd.DataFrame([[gene, main_corr, p]],columns=['gene','corrcoef','p-val'],\n",
      "/tmp/ipykernel_30535/3929790965.py:11: FutureWarning: The frame.append method is deprecated and will be removed from pandas in a future version. Use pandas.concat instead.\n",
      "  gene_corrs=gene_corrs.append(pd.DataFrame([[gene, main_corr, p]],columns=['gene','corrcoef','p-val'],\n"
     ]
    },
    {
     "name": "stdout",
     "output_type": "stream",
     "text": [
      "-0.08895264726813562\n",
      "-0.18568588142330864\n"
     ]
    },
    {
     "name": "stderr",
     "output_type": "stream",
     "text": [
      "/tmp/ipykernel_30535/3929790965.py:11: FutureWarning: The frame.append method is deprecated and will be removed from pandas in a future version. Use pandas.concat instead.\n",
      "  gene_corrs=gene_corrs.append(pd.DataFrame([[gene, main_corr, p]],columns=['gene','corrcoef','p-val'],\n",
      "/tmp/ipykernel_30535/3929790965.py:11: FutureWarning: The frame.append method is deprecated and will be removed from pandas in a future version. Use pandas.concat instead.\n",
      "  gene_corrs=gene_corrs.append(pd.DataFrame([[gene, main_corr, p]],columns=['gene','corrcoef','p-val'],\n"
     ]
    },
    {
     "name": "stdout",
     "output_type": "stream",
     "text": [
      "-0.17576425832079154\n",
      "-0.23824320339402272\n"
     ]
    },
    {
     "name": "stderr",
     "output_type": "stream",
     "text": [
      "/tmp/ipykernel_30535/3929790965.py:11: FutureWarning: The frame.append method is deprecated and will be removed from pandas in a future version. Use pandas.concat instead.\n",
      "  gene_corrs=gene_corrs.append(pd.DataFrame([[gene, main_corr, p]],columns=['gene','corrcoef','p-val'],\n",
      "/tmp/ipykernel_30535/3929790965.py:11: FutureWarning: The frame.append method is deprecated and will be removed from pandas in a future version. Use pandas.concat instead.\n",
      "  gene_corrs=gene_corrs.append(pd.DataFrame([[gene, main_corr, p]],columns=['gene','corrcoef','p-val'],\n",
      "/tmp/ipykernel_30535/3929790965.py:11: FutureWarning: The frame.append method is deprecated and will be removed from pandas in a future version. Use pandas.concat instead.\n",
      "  gene_corrs=gene_corrs.append(pd.DataFrame([[gene, main_corr, p]],columns=['gene','corrcoef','p-val'],\n"
     ]
    },
    {
     "name": "stdout",
     "output_type": "stream",
     "text": [
      "0.06466627328741059\n",
      "0.48107244617273504\n"
     ]
    },
    {
     "name": "stderr",
     "output_type": "stream",
     "text": [
      "/tmp/ipykernel_30535/3929790965.py:11: FutureWarning: The frame.append method is deprecated and will be removed from pandas in a future version. Use pandas.concat instead.\n",
      "  gene_corrs=gene_corrs.append(pd.DataFrame([[gene, main_corr, p]],columns=['gene','corrcoef','p-val'],\n",
      "/tmp/ipykernel_30535/3929790965.py:11: FutureWarning: The frame.append method is deprecated and will be removed from pandas in a future version. Use pandas.concat instead.\n",
      "  gene_corrs=gene_corrs.append(pd.DataFrame([[gene, main_corr, p]],columns=['gene','corrcoef','p-val'],\n"
     ]
    },
    {
     "name": "stdout",
     "output_type": "stream",
     "text": [
      "-0.2557403267289802\n",
      "-0.06303884706302602\n"
     ]
    },
    {
     "name": "stderr",
     "output_type": "stream",
     "text": [
      "/tmp/ipykernel_30535/3929790965.py:11: FutureWarning: The frame.append method is deprecated and will be removed from pandas in a future version. Use pandas.concat instead.\n",
      "  gene_corrs=gene_corrs.append(pd.DataFrame([[gene, main_corr, p]],columns=['gene','corrcoef','p-val'],\n",
      "/tmp/ipykernel_30535/3929790965.py:11: FutureWarning: The frame.append method is deprecated and will be removed from pandas in a future version. Use pandas.concat instead.\n",
      "  gene_corrs=gene_corrs.append(pd.DataFrame([[gene, main_corr, p]],columns=['gene','corrcoef','p-val'],\n",
      "/tmp/ipykernel_30535/3929790965.py:11: FutureWarning: The frame.append method is deprecated and will be removed from pandas in a future version. Use pandas.concat instead.\n",
      "  gene_corrs=gene_corrs.append(pd.DataFrame([[gene, main_corr, p]],columns=['gene','corrcoef','p-val'],\n"
     ]
    },
    {
     "name": "stdout",
     "output_type": "stream",
     "text": [
      "-0.07210073819996311\n",
      "0.011647415145107178\n",
      "0.13569945694844673\n"
     ]
    },
    {
     "name": "stderr",
     "output_type": "stream",
     "text": [
      "/tmp/ipykernel_30535/3929790965.py:11: FutureWarning: The frame.append method is deprecated and will be removed from pandas in a future version. Use pandas.concat instead.\n",
      "  gene_corrs=gene_corrs.append(pd.DataFrame([[gene, main_corr, p]],columns=['gene','corrcoef','p-val'],\n",
      "/tmp/ipykernel_30535/3929790965.py:11: FutureWarning: The frame.append method is deprecated and will be removed from pandas in a future version. Use pandas.concat instead.\n",
      "  gene_corrs=gene_corrs.append(pd.DataFrame([[gene, main_corr, p]],columns=['gene','corrcoef','p-val'],\n"
     ]
    },
    {
     "name": "stdout",
     "output_type": "stream",
     "text": [
      "-0.17610406713774224\n",
      "-0.11074301786030573\n"
     ]
    },
    {
     "name": "stderr",
     "output_type": "stream",
     "text": [
      "/tmp/ipykernel_30535/3929790965.py:11: FutureWarning: The frame.append method is deprecated and will be removed from pandas in a future version. Use pandas.concat instead.\n",
      "  gene_corrs=gene_corrs.append(pd.DataFrame([[gene, main_corr, p]],columns=['gene','corrcoef','p-val'],\n",
      "/tmp/ipykernel_30535/3929790965.py:11: FutureWarning: The frame.append method is deprecated and will be removed from pandas in a future version. Use pandas.concat instead.\n",
      "  gene_corrs=gene_corrs.append(pd.DataFrame([[gene, main_corr, p]],columns=['gene','corrcoef','p-val'],\n"
     ]
    },
    {
     "name": "stdout",
     "output_type": "stream",
     "text": [
      "0.14217107920221975\n",
      "-0.08315242382871177\n",
      "-0.15829126781670316\n"
     ]
    },
    {
     "name": "stderr",
     "output_type": "stream",
     "text": [
      "/tmp/ipykernel_30535/3929790965.py:11: FutureWarning: The frame.append method is deprecated and will be removed from pandas in a future version. Use pandas.concat instead.\n",
      "  gene_corrs=gene_corrs.append(pd.DataFrame([[gene, main_corr, p]],columns=['gene','corrcoef','p-val'],\n",
      "/tmp/ipykernel_30535/3929790965.py:11: FutureWarning: The frame.append method is deprecated and will be removed from pandas in a future version. Use pandas.concat instead.\n",
      "  gene_corrs=gene_corrs.append(pd.DataFrame([[gene, main_corr, p]],columns=['gene','corrcoef','p-val'],\n",
      "/tmp/ipykernel_30535/3929790965.py:11: FutureWarning: The frame.append method is deprecated and will be removed from pandas in a future version. Use pandas.concat instead.\n",
      "  gene_corrs=gene_corrs.append(pd.DataFrame([[gene, main_corr, p]],columns=['gene','corrcoef','p-val'],\n"
     ]
    },
    {
     "name": "stdout",
     "output_type": "stream",
     "text": [
      "-0.23418746195560367\n",
      "-0.26784133114618763\n"
     ]
    },
    {
     "name": "stderr",
     "output_type": "stream",
     "text": [
      "/tmp/ipykernel_30535/3929790965.py:11: FutureWarning: The frame.append method is deprecated and will be removed from pandas in a future version. Use pandas.concat instead.\n",
      "  gene_corrs=gene_corrs.append(pd.DataFrame([[gene, main_corr, p]],columns=['gene','corrcoef','p-val'],\n",
      "/tmp/ipykernel_30535/3929790965.py:11: FutureWarning: The frame.append method is deprecated and will be removed from pandas in a future version. Use pandas.concat instead.\n",
      "  gene_corrs=gene_corrs.append(pd.DataFrame([[gene, main_corr, p]],columns=['gene','corrcoef','p-val'],\n",
      "/tmp/ipykernel_30535/3929790965.py:11: FutureWarning: The frame.append method is deprecated and will be removed from pandas in a future version. Use pandas.concat instead.\n",
      "  gene_corrs=gene_corrs.append(pd.DataFrame([[gene, main_corr, p]],columns=['gene','corrcoef','p-val'],\n"
     ]
    },
    {
     "name": "stdout",
     "output_type": "stream",
     "text": [
      "-0.1057803032773572\n",
      "0.19094548554951624\n",
      "-0.3107836410639213\n"
     ]
    },
    {
     "name": "stderr",
     "output_type": "stream",
     "text": [
      "/tmp/ipykernel_30535/3929790965.py:11: FutureWarning: The frame.append method is deprecated and will be removed from pandas in a future version. Use pandas.concat instead.\n",
      "  gene_corrs=gene_corrs.append(pd.DataFrame([[gene, main_corr, p]],columns=['gene','corrcoef','p-val'],\n",
      "/tmp/ipykernel_30535/3929790965.py:11: FutureWarning: The frame.append method is deprecated and will be removed from pandas in a future version. Use pandas.concat instead.\n",
      "  gene_corrs=gene_corrs.append(pd.DataFrame([[gene, main_corr, p]],columns=['gene','corrcoef','p-val'],\n"
     ]
    },
    {
     "name": "stdout",
     "output_type": "stream",
     "text": [
      "0.22051091564025738\n",
      "0.21066297863912462\n"
     ]
    },
    {
     "name": "stderr",
     "output_type": "stream",
     "text": [
      "/tmp/ipykernel_30535/3929790965.py:11: FutureWarning: The frame.append method is deprecated and will be removed from pandas in a future version. Use pandas.concat instead.\n",
      "  gene_corrs=gene_corrs.append(pd.DataFrame([[gene, main_corr, p]],columns=['gene','corrcoef','p-val'],\n",
      "/tmp/ipykernel_30535/3929790965.py:11: FutureWarning: The frame.append method is deprecated and will be removed from pandas in a future version. Use pandas.concat instead.\n",
      "  gene_corrs=gene_corrs.append(pd.DataFrame([[gene, main_corr, p]],columns=['gene','corrcoef','p-val'],\n"
     ]
    },
    {
     "name": "stdout",
     "output_type": "stream",
     "text": [
      "-0.10931207715144911\n",
      "-0.08556228502087268\n"
     ]
    },
    {
     "name": "stderr",
     "output_type": "stream",
     "text": [
      "/tmp/ipykernel_30535/3929790965.py:11: FutureWarning: The frame.append method is deprecated and will be removed from pandas in a future version. Use pandas.concat instead.\n",
      "  gene_corrs=gene_corrs.append(pd.DataFrame([[gene, main_corr, p]],columns=['gene','corrcoef','p-val'],\n",
      "/tmp/ipykernel_30535/3929790965.py:11: FutureWarning: The frame.append method is deprecated and will be removed from pandas in a future version. Use pandas.concat instead.\n",
      "  gene_corrs=gene_corrs.append(pd.DataFrame([[gene, main_corr, p]],columns=['gene','corrcoef','p-val'],\n"
     ]
    },
    {
     "name": "stdout",
     "output_type": "stream",
     "text": [
      "0.21319853552680756\n",
      "0.23198104802155128\n"
     ]
    },
    {
     "name": "stderr",
     "output_type": "stream",
     "text": [
      "/tmp/ipykernel_30535/3929790965.py:11: FutureWarning: The frame.append method is deprecated and will be removed from pandas in a future version. Use pandas.concat instead.\n",
      "  gene_corrs=gene_corrs.append(pd.DataFrame([[gene, main_corr, p]],columns=['gene','corrcoef','p-val'],\n",
      "/tmp/ipykernel_30535/3929790965.py:11: FutureWarning: The frame.append method is deprecated and will be removed from pandas in a future version. Use pandas.concat instead.\n",
      "  gene_corrs=gene_corrs.append(pd.DataFrame([[gene, main_corr, p]],columns=['gene','corrcoef','p-val'],\n",
      "/tmp/ipykernel_30535/3929790965.py:11: FutureWarning: The frame.append method is deprecated and will be removed from pandas in a future version. Use pandas.concat instead.\n",
      "  gene_corrs=gene_corrs.append(pd.DataFrame([[gene, main_corr, p]],columns=['gene','corrcoef','p-val'],\n"
     ]
    },
    {
     "name": "stdout",
     "output_type": "stream",
     "text": [
      "-0.3515782038568025\n",
      "0.29071086983962763\n",
      "0.37252594531232486\n"
     ]
    },
    {
     "name": "stderr",
     "output_type": "stream",
     "text": [
      "/tmp/ipykernel_30535/3929790965.py:11: FutureWarning: The frame.append method is deprecated and will be removed from pandas in a future version. Use pandas.concat instead.\n",
      "  gene_corrs=gene_corrs.append(pd.DataFrame([[gene, main_corr, p]],columns=['gene','corrcoef','p-val'],\n",
      "/tmp/ipykernel_30535/3929790965.py:11: FutureWarning: The frame.append method is deprecated and will be removed from pandas in a future version. Use pandas.concat instead.\n",
      "  gene_corrs=gene_corrs.append(pd.DataFrame([[gene, main_corr, p]],columns=['gene','corrcoef','p-val'],\n"
     ]
    },
    {
     "name": "stdout",
     "output_type": "stream",
     "text": [
      "-0.10641643377235549\n",
      "0.07573935891670537\n"
     ]
    },
    {
     "name": "stderr",
     "output_type": "stream",
     "text": [
      "/tmp/ipykernel_30535/3929790965.py:11: FutureWarning: The frame.append method is deprecated and will be removed from pandas in a future version. Use pandas.concat instead.\n",
      "  gene_corrs=gene_corrs.append(pd.DataFrame([[gene, main_corr, p]],columns=['gene','corrcoef','p-val'],\n",
      "/tmp/ipykernel_30535/3929790965.py:11: FutureWarning: The frame.append method is deprecated and will be removed from pandas in a future version. Use pandas.concat instead.\n",
      "  gene_corrs=gene_corrs.append(pd.DataFrame([[gene, main_corr, p]],columns=['gene','corrcoef','p-val'],\n",
      "/tmp/ipykernel_30535/3929790965.py:11: FutureWarning: The frame.append method is deprecated and will be removed from pandas in a future version. Use pandas.concat instead.\n",
      "  gene_corrs=gene_corrs.append(pd.DataFrame([[gene, main_corr, p]],columns=['gene','corrcoef','p-val'],\n"
     ]
    },
    {
     "name": "stdout",
     "output_type": "stream",
     "text": [
      "-0.3099371545301683\n",
      "-0.010670245015127165\n",
      "-0.4147873690341298\n"
     ]
    },
    {
     "name": "stderr",
     "output_type": "stream",
     "text": [
      "/tmp/ipykernel_30535/3929790965.py:11: FutureWarning: The frame.append method is deprecated and will be removed from pandas in a future version. Use pandas.concat instead.\n",
      "  gene_corrs=gene_corrs.append(pd.DataFrame([[gene, main_corr, p]],columns=['gene','corrcoef','p-val'],\n",
      "/tmp/ipykernel_30535/3929790965.py:11: FutureWarning: The frame.append method is deprecated and will be removed from pandas in a future version. Use pandas.concat instead.\n",
      "  gene_corrs=gene_corrs.append(pd.DataFrame([[gene, main_corr, p]],columns=['gene','corrcoef','p-val'],\n"
     ]
    },
    {
     "name": "stdout",
     "output_type": "stream",
     "text": [
      "-0.07850434537652928\n",
      "0.37696827489080054\n"
     ]
    },
    {
     "name": "stderr",
     "output_type": "stream",
     "text": [
      "/tmp/ipykernel_30535/3929790965.py:11: FutureWarning: The frame.append method is deprecated and will be removed from pandas in a future version. Use pandas.concat instead.\n",
      "  gene_corrs=gene_corrs.append(pd.DataFrame([[gene, main_corr, p]],columns=['gene','corrcoef','p-val'],\n",
      "/tmp/ipykernel_30535/3929790965.py:11: FutureWarning: The frame.append method is deprecated and will be removed from pandas in a future version. Use pandas.concat instead.\n",
      "  gene_corrs=gene_corrs.append(pd.DataFrame([[gene, main_corr, p]],columns=['gene','corrcoef','p-val'],\n",
      "/tmp/ipykernel_30535/3929790965.py:11: FutureWarning: The frame.append method is deprecated and will be removed from pandas in a future version. Use pandas.concat instead.\n",
      "  gene_corrs=gene_corrs.append(pd.DataFrame([[gene, main_corr, p]],columns=['gene','corrcoef','p-val'],\n"
     ]
    },
    {
     "name": "stdout",
     "output_type": "stream",
     "text": [
      "-0.13457652947140172\n",
      "0.21825217080450182\n",
      "0.2695459127745128\n"
     ]
    },
    {
     "name": "stderr",
     "output_type": "stream",
     "text": [
      "/tmp/ipykernel_30535/3929790965.py:11: FutureWarning: The frame.append method is deprecated and will be removed from pandas in a future version. Use pandas.concat instead.\n",
      "  gene_corrs=gene_corrs.append(pd.DataFrame([[gene, main_corr, p]],columns=['gene','corrcoef','p-val'],\n",
      "/tmp/ipykernel_30535/3929790965.py:11: FutureWarning: The frame.append method is deprecated and will be removed from pandas in a future version. Use pandas.concat instead.\n",
      "  gene_corrs=gene_corrs.append(pd.DataFrame([[gene, main_corr, p]],columns=['gene','corrcoef','p-val'],\n",
      "/tmp/ipykernel_30535/3929790965.py:11: FutureWarning: The frame.append method is deprecated and will be removed from pandas in a future version. Use pandas.concat instead.\n",
      "  gene_corrs=gene_corrs.append(pd.DataFrame([[gene, main_corr, p]],columns=['gene','corrcoef','p-val'],\n"
     ]
    },
    {
     "name": "stdout",
     "output_type": "stream",
     "text": [
      "0.1218241216766317\n",
      "-0.07804233224319362\n",
      "-0.10322782365935139\n"
     ]
    },
    {
     "name": "stderr",
     "output_type": "stream",
     "text": [
      "/tmp/ipykernel_30535/3929790965.py:11: FutureWarning: The frame.append method is deprecated and will be removed from pandas in a future version. Use pandas.concat instead.\n",
      "  gene_corrs=gene_corrs.append(pd.DataFrame([[gene, main_corr, p]],columns=['gene','corrcoef','p-val'],\n",
      "/tmp/ipykernel_30535/3929790965.py:11: FutureWarning: The frame.append method is deprecated and will be removed from pandas in a future version. Use pandas.concat instead.\n",
      "  gene_corrs=gene_corrs.append(pd.DataFrame([[gene, main_corr, p]],columns=['gene','corrcoef','p-val'],\n"
     ]
    },
    {
     "name": "stdout",
     "output_type": "stream",
     "text": [
      "-0.1953133507249094\n",
      "0.12349173017280202\n"
     ]
    },
    {
     "name": "stderr",
     "output_type": "stream",
     "text": [
      "/tmp/ipykernel_30535/3929790965.py:11: FutureWarning: The frame.append method is deprecated and will be removed from pandas in a future version. Use pandas.concat instead.\n",
      "  gene_corrs=gene_corrs.append(pd.DataFrame([[gene, main_corr, p]],columns=['gene','corrcoef','p-val'],\n",
      "/tmp/ipykernel_30535/3929790965.py:11: FutureWarning: The frame.append method is deprecated and will be removed from pandas in a future version. Use pandas.concat instead.\n",
      "  gene_corrs=gene_corrs.append(pd.DataFrame([[gene, main_corr, p]],columns=['gene','corrcoef','p-val'],\n",
      "/tmp/ipykernel_30535/3929790965.py:11: FutureWarning: The frame.append method is deprecated and will be removed from pandas in a future version. Use pandas.concat instead.\n",
      "  gene_corrs=gene_corrs.append(pd.DataFrame([[gene, main_corr, p]],columns=['gene','corrcoef','p-val'],\n"
     ]
    },
    {
     "name": "stdout",
     "output_type": "stream",
     "text": [
      "-0.2872631584331164\n",
      "-0.03137466458665391\n",
      "-0.0838964165772642\n"
     ]
    },
    {
     "name": "stderr",
     "output_type": "stream",
     "text": [
      "/tmp/ipykernel_30535/3929790965.py:11: FutureWarning: The frame.append method is deprecated and will be removed from pandas in a future version. Use pandas.concat instead.\n",
      "  gene_corrs=gene_corrs.append(pd.DataFrame([[gene, main_corr, p]],columns=['gene','corrcoef','p-val'],\n",
      "/tmp/ipykernel_30535/3929790965.py:11: FutureWarning: The frame.append method is deprecated and will be removed from pandas in a future version. Use pandas.concat instead.\n",
      "  gene_corrs=gene_corrs.append(pd.DataFrame([[gene, main_corr, p]],columns=['gene','corrcoef','p-val'],\n",
      "/tmp/ipykernel_30535/3929790965.py:11: FutureWarning: The frame.append method is deprecated and will be removed from pandas in a future version. Use pandas.concat instead.\n",
      "  gene_corrs=gene_corrs.append(pd.DataFrame([[gene, main_corr, p]],columns=['gene','corrcoef','p-val'],\n"
     ]
    },
    {
     "name": "stdout",
     "output_type": "stream",
     "text": [
      "0.3234519644839466\n",
      "0.3824034746143565\n",
      "-0.29781124562825884\n"
     ]
    },
    {
     "name": "stderr",
     "output_type": "stream",
     "text": [
      "/tmp/ipykernel_30535/3929790965.py:11: FutureWarning: The frame.append method is deprecated and will be removed from pandas in a future version. Use pandas.concat instead.\n",
      "  gene_corrs=gene_corrs.append(pd.DataFrame([[gene, main_corr, p]],columns=['gene','corrcoef','p-val'],\n",
      "/tmp/ipykernel_30535/3929790965.py:11: FutureWarning: The frame.append method is deprecated and will be removed from pandas in a future version. Use pandas.concat instead.\n",
      "  gene_corrs=gene_corrs.append(pd.DataFrame([[gene, main_corr, p]],columns=['gene','corrcoef','p-val'],\n"
     ]
    },
    {
     "name": "stdout",
     "output_type": "stream",
     "text": [
      "0.03250990309680204\n",
      "-0.042798862032137966\n"
     ]
    },
    {
     "name": "stderr",
     "output_type": "stream",
     "text": [
      "/tmp/ipykernel_30535/3929790965.py:11: FutureWarning: The frame.append method is deprecated and will be removed from pandas in a future version. Use pandas.concat instead.\n",
      "  gene_corrs=gene_corrs.append(pd.DataFrame([[gene, main_corr, p]],columns=['gene','corrcoef','p-val'],\n",
      "/tmp/ipykernel_30535/3929790965.py:11: FutureWarning: The frame.append method is deprecated and will be removed from pandas in a future version. Use pandas.concat instead.\n",
      "  gene_corrs=gene_corrs.append(pd.DataFrame([[gene, main_corr, p]],columns=['gene','corrcoef','p-val'],\n"
     ]
    },
    {
     "name": "stdout",
     "output_type": "stream",
     "text": [
      "-0.2671210534687766\n",
      "0.16165668586142667\n"
     ]
    },
    {
     "name": "stderr",
     "output_type": "stream",
     "text": [
      "/tmp/ipykernel_30535/3929790965.py:11: FutureWarning: The frame.append method is deprecated and will be removed from pandas in a future version. Use pandas.concat instead.\n",
      "  gene_corrs=gene_corrs.append(pd.DataFrame([[gene, main_corr, p]],columns=['gene','corrcoef','p-val'],\n",
      "/tmp/ipykernel_30535/3929790965.py:11: FutureWarning: The frame.append method is deprecated and will be removed from pandas in a future version. Use pandas.concat instead.\n",
      "  gene_corrs=gene_corrs.append(pd.DataFrame([[gene, main_corr, p]],columns=['gene','corrcoef','p-val'],\n",
      "/tmp/ipykernel_30535/3929790965.py:11: FutureWarning: The frame.append method is deprecated and will be removed from pandas in a future version. Use pandas.concat instead.\n",
      "  gene_corrs=gene_corrs.append(pd.DataFrame([[gene, main_corr, p]],columns=['gene','corrcoef','p-val'],\n",
      "/tmp/ipykernel_30535/3929790965.py:11: FutureWarning: The frame.append method is deprecated and will be removed from pandas in a future version. Use pandas.concat instead.\n",
      "  gene_corrs=gene_corrs.append(pd.DataFrame([[gene, main_corr, p]],columns=['gene','corrcoef','p-val'],\n"
     ]
    },
    {
     "name": "stdout",
     "output_type": "stream",
     "text": [
      "0.3553493081201406\n",
      "-0.1856495745242817\n",
      "-0.08757156190157996\n",
      "0.02473741168392484\n"
     ]
    },
    {
     "name": "stderr",
     "output_type": "stream",
     "text": [
      "/tmp/ipykernel_30535/3929790965.py:11: FutureWarning: The frame.append method is deprecated and will be removed from pandas in a future version. Use pandas.concat instead.\n",
      "  gene_corrs=gene_corrs.append(pd.DataFrame([[gene, main_corr, p]],columns=['gene','corrcoef','p-val'],\n",
      "/tmp/ipykernel_30535/3929790965.py:11: FutureWarning: The frame.append method is deprecated and will be removed from pandas in a future version. Use pandas.concat instead.\n",
      "  gene_corrs=gene_corrs.append(pd.DataFrame([[gene, main_corr, p]],columns=['gene','corrcoef','p-val'],\n"
     ]
    },
    {
     "name": "stdout",
     "output_type": "stream",
     "text": [
      "0.27682674920300687\n",
      "0.434152031254375\n"
     ]
    },
    {
     "name": "stderr",
     "output_type": "stream",
     "text": [
      "/tmp/ipykernel_30535/3929790965.py:11: FutureWarning: The frame.append method is deprecated and will be removed from pandas in a future version. Use pandas.concat instead.\n",
      "  gene_corrs=gene_corrs.append(pd.DataFrame([[gene, main_corr, p]],columns=['gene','corrcoef','p-val'],\n",
      "/tmp/ipykernel_30535/3929790965.py:11: FutureWarning: The frame.append method is deprecated and will be removed from pandas in a future version. Use pandas.concat instead.\n",
      "  gene_corrs=gene_corrs.append(pd.DataFrame([[gene, main_corr, p]],columns=['gene','corrcoef','p-val'],\n",
      "/tmp/ipykernel_30535/3929790965.py:11: FutureWarning: The frame.append method is deprecated and will be removed from pandas in a future version. Use pandas.concat instead.\n",
      "  gene_corrs=gene_corrs.append(pd.DataFrame([[gene, main_corr, p]],columns=['gene','corrcoef','p-val'],\n"
     ]
    },
    {
     "name": "stdout",
     "output_type": "stream",
     "text": [
      "-0.0024044894076778005\n",
      "-0.33505874733747876\n",
      "-0.4327782622210891\n"
     ]
    },
    {
     "name": "stderr",
     "output_type": "stream",
     "text": [
      "/tmp/ipykernel_30535/3929790965.py:11: FutureWarning: The frame.append method is deprecated and will be removed from pandas in a future version. Use pandas.concat instead.\n",
      "  gene_corrs=gene_corrs.append(pd.DataFrame([[gene, main_corr, p]],columns=['gene','corrcoef','p-val'],\n",
      "/tmp/ipykernel_30535/3929790965.py:11: FutureWarning: The frame.append method is deprecated and will be removed from pandas in a future version. Use pandas.concat instead.\n",
      "  gene_corrs=gene_corrs.append(pd.DataFrame([[gene, main_corr, p]],columns=['gene','corrcoef','p-val'],\n"
     ]
    },
    {
     "name": "stdout",
     "output_type": "stream",
     "text": [
      "0.3123816448124326\n",
      "0.22174986055182389\n"
     ]
    },
    {
     "name": "stderr",
     "output_type": "stream",
     "text": [
      "/tmp/ipykernel_30535/3929790965.py:11: FutureWarning: The frame.append method is deprecated and will be removed from pandas in a future version. Use pandas.concat instead.\n",
      "  gene_corrs=gene_corrs.append(pd.DataFrame([[gene, main_corr, p]],columns=['gene','corrcoef','p-val'],\n",
      "/tmp/ipykernel_30535/3929790965.py:11: FutureWarning: The frame.append method is deprecated and will be removed from pandas in a future version. Use pandas.concat instead.\n",
      "  gene_corrs=gene_corrs.append(pd.DataFrame([[gene, main_corr, p]],columns=['gene','corrcoef','p-val'],\n",
      "/tmp/ipykernel_30535/3929790965.py:11: FutureWarning: The frame.append method is deprecated and will be removed from pandas in a future version. Use pandas.concat instead.\n",
      "  gene_corrs=gene_corrs.append(pd.DataFrame([[gene, main_corr, p]],columns=['gene','corrcoef','p-val'],\n"
     ]
    },
    {
     "name": "stdout",
     "output_type": "stream",
     "text": [
      "-0.1960712035060417\n",
      "0.2094500235819097\n",
      "0.12619004407324638\n"
     ]
    },
    {
     "name": "stderr",
     "output_type": "stream",
     "text": [
      "/tmp/ipykernel_30535/3929790965.py:11: FutureWarning: The frame.append method is deprecated and will be removed from pandas in a future version. Use pandas.concat instead.\n",
      "  gene_corrs=gene_corrs.append(pd.DataFrame([[gene, main_corr, p]],columns=['gene','corrcoef','p-val'],\n",
      "/tmp/ipykernel_30535/3929790965.py:11: FutureWarning: The frame.append method is deprecated and will be removed from pandas in a future version. Use pandas.concat instead.\n",
      "  gene_corrs=gene_corrs.append(pd.DataFrame([[gene, main_corr, p]],columns=['gene','corrcoef','p-val'],\n"
     ]
    },
    {
     "name": "stdout",
     "output_type": "stream",
     "text": [
      "0.21073211534810676\n",
      "0.05870432552678578\n"
     ]
    },
    {
     "name": "stderr",
     "output_type": "stream",
     "text": [
      "/tmp/ipykernel_30535/3929790965.py:11: FutureWarning: The frame.append method is deprecated and will be removed from pandas in a future version. Use pandas.concat instead.\n",
      "  gene_corrs=gene_corrs.append(pd.DataFrame([[gene, main_corr, p]],columns=['gene','corrcoef','p-val'],\n",
      "/tmp/ipykernel_30535/3929790965.py:11: FutureWarning: The frame.append method is deprecated and will be removed from pandas in a future version. Use pandas.concat instead.\n",
      "  gene_corrs=gene_corrs.append(pd.DataFrame([[gene, main_corr, p]],columns=['gene','corrcoef','p-val'],\n",
      "/tmp/ipykernel_30535/3929790965.py:11: FutureWarning: The frame.append method is deprecated and will be removed from pandas in a future version. Use pandas.concat instead.\n",
      "  gene_corrs=gene_corrs.append(pd.DataFrame([[gene, main_corr, p]],columns=['gene','corrcoef','p-val'],\n"
     ]
    },
    {
     "name": "stdout",
     "output_type": "stream",
     "text": [
      "-0.26895391819975456\n",
      "0.10960561354247599\n",
      "0.09604841295779828\n"
     ]
    },
    {
     "name": "stderr",
     "output_type": "stream",
     "text": [
      "/tmp/ipykernel_30535/3929790965.py:11: FutureWarning: The frame.append method is deprecated and will be removed from pandas in a future version. Use pandas.concat instead.\n",
      "  gene_corrs=gene_corrs.append(pd.DataFrame([[gene, main_corr, p]],columns=['gene','corrcoef','p-val'],\n",
      "/tmp/ipykernel_30535/3929790965.py:11: FutureWarning: The frame.append method is deprecated and will be removed from pandas in a future version. Use pandas.concat instead.\n",
      "  gene_corrs=gene_corrs.append(pd.DataFrame([[gene, main_corr, p]],columns=['gene','corrcoef','p-val'],\n"
     ]
    },
    {
     "name": "stdout",
     "output_type": "stream",
     "text": [
      "0.020766956142287712\n",
      "0.2153960126572281\n"
     ]
    },
    {
     "name": "stderr",
     "output_type": "stream",
     "text": [
      "/tmp/ipykernel_30535/3929790965.py:11: FutureWarning: The frame.append method is deprecated and will be removed from pandas in a future version. Use pandas.concat instead.\n",
      "  gene_corrs=gene_corrs.append(pd.DataFrame([[gene, main_corr, p]],columns=['gene','corrcoef','p-val'],\n",
      "/tmp/ipykernel_30535/3929790965.py:11: FutureWarning: The frame.append method is deprecated and will be removed from pandas in a future version. Use pandas.concat instead.\n",
      "  gene_corrs=gene_corrs.append(pd.DataFrame([[gene, main_corr, p]],columns=['gene','corrcoef','p-val'],\n"
     ]
    },
    {
     "name": "stdout",
     "output_type": "stream",
     "text": [
      "-0.13995415090986224\n",
      "0.013555402500270227\n"
     ]
    },
    {
     "name": "stderr",
     "output_type": "stream",
     "text": [
      "/tmp/ipykernel_30535/3929790965.py:11: FutureWarning: The frame.append method is deprecated and will be removed from pandas in a future version. Use pandas.concat instead.\n",
      "  gene_corrs=gene_corrs.append(pd.DataFrame([[gene, main_corr, p]],columns=['gene','corrcoef','p-val'],\n",
      "/tmp/ipykernel_30535/3929790965.py:11: FutureWarning: The frame.append method is deprecated and will be removed from pandas in a future version. Use pandas.concat instead.\n",
      "  gene_corrs=gene_corrs.append(pd.DataFrame([[gene, main_corr, p]],columns=['gene','corrcoef','p-val'],\n"
     ]
    },
    {
     "name": "stdout",
     "output_type": "stream",
     "text": [
      "-0.11189213322460716\n",
      "-0.061296138081297906\n"
     ]
    },
    {
     "name": "stderr",
     "output_type": "stream",
     "text": [
      "/tmp/ipykernel_30535/3929790965.py:11: FutureWarning: The frame.append method is deprecated and will be removed from pandas in a future version. Use pandas.concat instead.\n",
      "  gene_corrs=gene_corrs.append(pd.DataFrame([[gene, main_corr, p]],columns=['gene','corrcoef','p-val'],\n",
      "/tmp/ipykernel_30535/3929790965.py:11: FutureWarning: The frame.append method is deprecated and will be removed from pandas in a future version. Use pandas.concat instead.\n",
      "  gene_corrs=gene_corrs.append(pd.DataFrame([[gene, main_corr, p]],columns=['gene','corrcoef','p-val'],\n",
      "/tmp/ipykernel_30535/3929790965.py:11: FutureWarning: The frame.append method is deprecated and will be removed from pandas in a future version. Use pandas.concat instead.\n",
      "  gene_corrs=gene_corrs.append(pd.DataFrame([[gene, main_corr, p]],columns=['gene','corrcoef','p-val'],\n"
     ]
    },
    {
     "name": "stdout",
     "output_type": "stream",
     "text": [
      "-0.29431417597977627\n",
      "-0.10229835216018791\n",
      "-0.37716377651362665\n"
     ]
    },
    {
     "name": "stderr",
     "output_type": "stream",
     "text": [
      "/tmp/ipykernel_30535/3929790965.py:11: FutureWarning: The frame.append method is deprecated and will be removed from pandas in a future version. Use pandas.concat instead.\n",
      "  gene_corrs=gene_corrs.append(pd.DataFrame([[gene, main_corr, p]],columns=['gene','corrcoef','p-val'],\n",
      "/tmp/ipykernel_30535/3929790965.py:11: FutureWarning: The frame.append method is deprecated and will be removed from pandas in a future version. Use pandas.concat instead.\n",
      "  gene_corrs=gene_corrs.append(pd.DataFrame([[gene, main_corr, p]],columns=['gene','corrcoef','p-val'],\n"
     ]
    },
    {
     "name": "stdout",
     "output_type": "stream",
     "text": [
      "0.280946696204518\n",
      "-0.1459581018770617\n"
     ]
    },
    {
     "name": "stderr",
     "output_type": "stream",
     "text": [
      "/tmp/ipykernel_30535/3929790965.py:11: FutureWarning: The frame.append method is deprecated and will be removed from pandas in a future version. Use pandas.concat instead.\n",
      "  gene_corrs=gene_corrs.append(pd.DataFrame([[gene, main_corr, p]],columns=['gene','corrcoef','p-val'],\n",
      "/tmp/ipykernel_30535/3929790965.py:11: FutureWarning: The frame.append method is deprecated and will be removed from pandas in a future version. Use pandas.concat instead.\n",
      "  gene_corrs=gene_corrs.append(pd.DataFrame([[gene, main_corr, p]],columns=['gene','corrcoef','p-val'],\n",
      "/tmp/ipykernel_30535/3929790965.py:11: FutureWarning: The frame.append method is deprecated and will be removed from pandas in a future version. Use pandas.concat instead.\n",
      "  gene_corrs=gene_corrs.append(pd.DataFrame([[gene, main_corr, p]],columns=['gene','corrcoef','p-val'],\n"
     ]
    },
    {
     "name": "stdout",
     "output_type": "stream",
     "text": [
      "-0.3068054677707674\n",
      "0.06120783028017138\n",
      "0.28136854711226034\n",
      "0.045625282839442165\n"
     ]
    },
    {
     "name": "stderr",
     "output_type": "stream",
     "text": [
      "/tmp/ipykernel_30535/3929790965.py:11: FutureWarning: The frame.append method is deprecated and will be removed from pandas in a future version. Use pandas.concat instead.\n",
      "  gene_corrs=gene_corrs.append(pd.DataFrame([[gene, main_corr, p]],columns=['gene','corrcoef','p-val'],\n",
      "/tmp/ipykernel_30535/3929790965.py:11: FutureWarning: The frame.append method is deprecated and will be removed from pandas in a future version. Use pandas.concat instead.\n",
      "  gene_corrs=gene_corrs.append(pd.DataFrame([[gene, main_corr, p]],columns=['gene','corrcoef','p-val'],\n"
     ]
    },
    {
     "name": "stdout",
     "output_type": "stream",
     "text": [
      "-0.1400216216753576\n",
      "0.14251820586403502\n",
      "0.029260190907008002\n"
     ]
    },
    {
     "name": "stderr",
     "output_type": "stream",
     "text": [
      "/tmp/ipykernel_30535/3929790965.py:11: FutureWarning: The frame.append method is deprecated and will be removed from pandas in a future version. Use pandas.concat instead.\n",
      "  gene_corrs=gene_corrs.append(pd.DataFrame([[gene, main_corr, p]],columns=['gene','corrcoef','p-val'],\n",
      "/tmp/ipykernel_30535/3929790965.py:11: FutureWarning: The frame.append method is deprecated and will be removed from pandas in a future version. Use pandas.concat instead.\n",
      "  gene_corrs=gene_corrs.append(pd.DataFrame([[gene, main_corr, p]],columns=['gene','corrcoef','p-val'],\n",
      "/tmp/ipykernel_30535/3929790965.py:11: FutureWarning: The frame.append method is deprecated and will be removed from pandas in a future version. Use pandas.concat instead.\n",
      "  gene_corrs=gene_corrs.append(pd.DataFrame([[gene, main_corr, p]],columns=['gene','corrcoef','p-val'],\n"
     ]
    },
    {
     "name": "stdout",
     "output_type": "stream",
     "text": [
      "-0.2518392962985493\n",
      "-0.11749544959045358\n"
     ]
    },
    {
     "name": "stderr",
     "output_type": "stream",
     "text": [
      "/tmp/ipykernel_30535/3929790965.py:11: FutureWarning: The frame.append method is deprecated and will be removed from pandas in a future version. Use pandas.concat instead.\n",
      "  gene_corrs=gene_corrs.append(pd.DataFrame([[gene, main_corr, p]],columns=['gene','corrcoef','p-val'],\n",
      "/tmp/ipykernel_30535/3929790965.py:11: FutureWarning: The frame.append method is deprecated and will be removed from pandas in a future version. Use pandas.concat instead.\n",
      "  gene_corrs=gene_corrs.append(pd.DataFrame([[gene, main_corr, p]],columns=['gene','corrcoef','p-val'],\n"
     ]
    },
    {
     "name": "stdout",
     "output_type": "stream",
     "text": [
      "0.07943551323107982\n"
     ]
    },
    {
     "name": "stderr",
     "output_type": "stream",
     "text": [
      "/tmp/ipykernel_30535/3929790965.py:11: FutureWarning: The frame.append method is deprecated and will be removed from pandas in a future version. Use pandas.concat instead.\n",
      "  gene_corrs=gene_corrs.append(pd.DataFrame([[gene, main_corr, p]],columns=['gene','corrcoef','p-val'],\n"
     ]
    }
   ],
   "source": [
    "gene_corrs=pd.DataFrame([[0, 0, 0]], columns=['gene','corrcoef','p-val'], index=['gene'])\n",
    "index=0\n",
    "\n",
    "for gene in gene_maps_BMI:    \n",
    "    main_corr=np.corrcoef(mymap_parc[0,115:234], gene_maps_BMI[gene])[1,0]\n",
    "    print(main_corr)\n",
    "    corrs=list()\n",
    "    for spin in range(1000):\n",
    "        corrs.append(np.corrcoef(surrogates[spin], gene_maps_BMI[gene])[1,0])\n",
    "    p=(sum(i > abs(main_corr) for i in np.absolute(corrs))/1001)\n",
    "    gene_corrs=gene_corrs.append(pd.DataFrame([[gene, main_corr, p]],columns=['gene','corrcoef','p-val'], \n",
    "                                                  index=[gene]))"
   ]
  },
  {
   "cell_type": "code",
   "execution_count": 90,
   "id": "4e58e9f4",
   "metadata": {},
   "outputs": [
    {
     "data": {
      "text/plain": [
       "gene        0.000000\n",
       "A3GALT2     0.767233\n",
       "ABCD2       0.572428\n",
       "ABCG2       0.937063\n",
       "ADAMTSL3    0.111888\n",
       "              ...   \n",
       "ZNF821      0.325674\n",
       "ZSCAN31     0.919081\n",
       "ZSWIM5      0.208791\n",
       "ZSWIM6      0.592408\n",
       "mean        0.721279\n",
       "Name: p-val, Length: 431, dtype: float64"
      ]
     },
     "execution_count": 90,
     "metadata": {},
     "output_type": "execute_result"
    }
   ],
   "source": [
    "(gene_corrs['p-val'])"
   ]
  },
  {
   "cell_type": "code",
   "execution_count": 85,
   "id": "9234c16e",
   "metadata": {},
   "outputs": [
    {
     "data": {
      "text/plain": [
       "(array([ True, False, False, False, False, False, False, False, False,\n",
       "        False, False, False, False, False, False, False, False, False,\n",
       "        False, False, False, False, False, False, False, False, False,\n",
       "        False, False, False, False, False, False, False, False, False,\n",
       "        False, False, False, False, False, False, False, False, False,\n",
       "        False, False, False, False, False, False, False, False, False,\n",
       "        False, False, False, False, False, False, False, False, False,\n",
       "        False, False, False, False, False, False, False, False, False,\n",
       "        False, False, False, False, False, False, False, False, False,\n",
       "        False, False, False, False, False, False, False, False, False,\n",
       "        False, False, False, False, False, False, False, False, False,\n",
       "        False, False, False, False, False, False, False, False, False,\n",
       "        False, False, False, False, False, False, False, False, False,\n",
       "        False, False, False, False, False, False, False, False, False,\n",
       "        False, False, False, False, False, False, False, False, False,\n",
       "        False, False, False, False, False, False, False, False, False,\n",
       "        False, False, False, False, False, False, False, False, False,\n",
       "        False, False, False, False, False, False, False, False, False,\n",
       "        False, False, False, False, False, False, False, False, False,\n",
       "        False, False, False, False, False, False, False, False, False,\n",
       "        False, False, False, False, False, False, False, False, False,\n",
       "        False, False, False, False, False, False, False, False, False,\n",
       "        False, False, False, False, False, False, False, False, False,\n",
       "        False, False, False, False, False, False, False, False, False,\n",
       "        False, False, False, False, False, False, False, False, False,\n",
       "        False, False, False, False, False, False, False, False, False,\n",
       "        False, False, False, False, False, False, False, False, False,\n",
       "        False, False, False, False, False, False, False, False, False,\n",
       "        False, False, False, False, False, False, False, False, False,\n",
       "        False, False, False, False, False, False, False, False, False,\n",
       "        False, False, False, False, False, False, False, False, False,\n",
       "        False, False, False, False, False, False, False, False, False,\n",
       "        False, False, False, False, False, False, False, False, False,\n",
       "        False, False, False, False, False, False, False, False, False,\n",
       "        False, False, False, False, False, False, False, False, False,\n",
       "        False, False, False, False, False, False, False, False, False,\n",
       "        False, False, False, False, False, False, False, False, False,\n",
       "        False, False, False, False, False, False, False, False, False,\n",
       "        False, False, False, False, False, False, False, False, False,\n",
       "        False, False, False, False, False, False, False, False, False,\n",
       "        False, False, False, False, False, False, False, False, False,\n",
       "        False, False, False, False, False, False, False, False, False,\n",
       "        False, False, False, False, False, False, False, False, False,\n",
       "        False, False, False, False, False, False, False, False, False,\n",
       "        False, False, False, False, False, False, False, False, False,\n",
       "        False, False, False, False, False, False, False, False, False,\n",
       "        False, False, False, False, False, False, False, False, False,\n",
       "        False, False, False, False, False, False, False, False]),\n",
       " array([0.        , 0.94320562, 0.88548201, 0.97363919, 0.6027972 ,\n",
       "        0.79556991, 0.94878658, 0.94320562, 0.74811439, 0.94320562,\n",
       "        0.74811439, 0.74811439, 0.9661558 , 0.65959572, 0.68599197,\n",
       "        0.95502242, 0.83653489, 0.87234327, 0.5694628 , 0.5694628 ,\n",
       "        0.94320562, 0.96587197, 0.5694628 , 0.59952706, 0.90582059,\n",
       "        0.80115904, 0.8904293 , 0.91163774, 0.94878658, 0.71524343,\n",
       "        0.77980908, 0.80115904, 0.5694628 , 0.94320562, 0.97323358,\n",
       "        0.83653489, 0.75285194, 0.74811439, 0.99731896, 0.84724952,\n",
       "        0.8904293 , 0.97363919, 0.59952706, 0.89883181, 0.88548201,\n",
       "        0.82089873, 0.5694628 , 0.74811439, 0.94320562, 0.68599197,\n",
       "        0.79523538, 0.95488309, 0.94320562, 0.5694628 , 0.85276202,\n",
       "        0.94320562, 0.87234327, 0.95502242, 0.5694628 , 0.8904293 ,\n",
       "        0.84188576, 0.5694628 , 0.5694628 , 0.5694628 , 0.65794879,\n",
       "        0.8904293 , 0.5694628 , 0.74811439, 0.8904293 , 0.5694628 ,\n",
       "        0.5694628 , 0.78515602, 0.60694727, 0.75285194, 0.60598661,\n",
       "        0.74811439, 0.86278226, 0.5694628 , 0.5694628 , 0.88548201,\n",
       "        0.83653489, 0.68599197, 0.82089873, 0.74811439, 0.68599197,\n",
       "        0.94320562, 0.5694628 , 0.77980908, 0.99253329, 0.58714013,\n",
       "        0.5694628 , 0.87543821, 0.77980908, 0.8904293 , 0.77980908,\n",
       "        0.77980908, 0.80115904, 0.96124625, 0.5694628 , 0.94320562,\n",
       "        0.94320562, 0.83653489, 0.72571783, 0.96587197, 0.80387101,\n",
       "        0.83522496, 0.74811439, 0.9863399 , 0.5694628 , 0.97363919,\n",
       "        0.77980908, 0.59281298, 0.88548201, 0.5694628 , 0.79198004,\n",
       "        0.68599197, 0.74811439, 0.94320562, 0.58886702, 0.94320562,\n",
       "        0.68599197, 0.85276202, 0.94320562, 0.83653489, 0.83522496,\n",
       "        0.94320562, 0.83653489, 0.74811439, 0.91163774, 0.8419637 ,\n",
       "        0.5694628 , 0.68599197, 0.5694628 , 0.96587197, 0.90582059,\n",
       "        0.74811439, 0.85276202, 0.5694628 , 0.64585415, 0.78025842,\n",
       "        0.94320562, 0.59664621, 0.5694628 , 0.65959572, 0.90582059,\n",
       "        0.94320562, 0.5694628 , 0.74811439, 0.65959572, 0.74811439,\n",
       "        0.94320562, 0.93954106, 0.74811439, 0.83653489, 0.82089873,\n",
       "        0.74811439, 0.5694628 , 0.68599197, 0.5694628 , 0.74811439,\n",
       "        0.88548201, 0.68599197, 0.85276202, 0.94320562, 0.68599197,\n",
       "        0.78433458, 0.5694628 , 0.68599197, 0.83653489, 0.5694628 ,\n",
       "        0.5694628 , 0.82089873, 0.78433458, 0.85276202, 0.94320562,\n",
       "        0.74811439, 0.59952706, 0.74811439, 0.91163774, 0.85279449,\n",
       "        0.94320562, 0.74811439, 0.74811439, 0.90582059, 0.83653489,\n",
       "        0.65959572, 0.88548201, 0.72571783, 0.94320562, 0.79268936,\n",
       "        0.5694628 , 0.5694628 , 0.92021089, 0.8904293 , 0.83653489,\n",
       "        0.90582059, 0.79161984, 0.97363919, 0.99731896, 0.74811439,\n",
       "        0.97363919, 0.59952706, 0.95502242, 0.5694628 , 0.92376714,\n",
       "        0.68599197, 0.75285194, 0.5694628 , 0.7534965 , 0.83653489,\n",
       "        0.65327776, 0.90119183, 0.5694628 , 0.75285194, 0.84730531,\n",
       "        0.79807566, 0.87234327, 0.90582059, 0.5694628 , 0.94320562,\n",
       "        0.98777693, 0.8904293 , 0.99731896, 0.5694628 , 0.8904293 ,\n",
       "        0.75285194, 0.74811439, 0.5694628 , 0.5694628 , 0.83653489,\n",
       "        0.94878658, 0.88548201, 0.5694628 , 0.79161984, 0.94320562,\n",
       "        0.5694628 , 0.90582059, 0.59952706, 0.87234327, 0.5694628 ,\n",
       "        0.86278226, 0.82089873, 0.89883181, 0.94320562, 0.74811439,\n",
       "        0.59952706, 0.96587197, 0.82089873, 0.77196768, 0.94320562,\n",
       "        0.74811439, 0.77980908, 0.8035875 , 0.74811439, 0.89616824,\n",
       "        0.5694628 , 0.96587197, 0.75285194, 0.65959572, 0.88548201,\n",
       "        0.5694628 , 0.91163774, 0.59952706, 0.59952706, 0.94320562,\n",
       "        0.90582059, 0.74811439, 0.82089873, 0.91163774, 0.88548201,\n",
       "        0.5694628 , 0.82089873, 0.78433458, 0.97363919, 0.94320562,\n",
       "        0.68599197, 0.64585415, 0.998002  , 0.94878658, 0.83653489,\n",
       "        0.77980908, 0.85276202, 0.92376714, 0.90582059, 0.94320562,\n",
       "        0.5694628 , 0.94878658, 0.94320562, 0.90582059, 0.5694628 ,\n",
       "        0.94320562, 0.90582059, 0.82089873, 0.92021089, 0.83653489,\n",
       "        0.83653489, 0.79268936, 0.94320562, 0.8904293 , 0.93268363,\n",
       "        0.94320562, 0.83653489, 0.74811439, 0.87234327, 0.7268012 ,\n",
       "        0.88548201, 0.5694628 , 0.8147049 , 0.68599197, 0.9661558 ,\n",
       "        0.71524343, 0.83653489, 0.94878658, 0.68599197, 0.94320562,\n",
       "        0.94878658, 0.5694628 , 0.88548201, 0.90582059, 0.95184257,\n",
       "        0.90015019, 0.58886702, 0.94320562, 0.83653489, 0.83653489,\n",
       "        0.93954106, 0.97363919, 0.94878658, 0.94320562, 0.71524343,\n",
       "        0.93954106, 0.68599197, 0.83653489, 0.90582059, 0.90582059,\n",
       "        0.97363919, 0.90119183, 0.68599197, 0.74811439, 0.68599197,\n",
       "        0.94878658, 0.5694628 , 0.58714013, 0.94320562, 0.94878658,\n",
       "        0.97363919, 0.83653489, 0.78556018, 0.85947643, 0.83653489,\n",
       "        0.94320562, 0.85948282, 0.74811439, 0.65794879, 0.87234327,\n",
       "        0.83653489, 0.5694628 , 0.85276202, 0.87543821, 0.82089873,\n",
       "        0.92021089, 0.78433458, 0.83653489, 0.58714013, 0.74811439,\n",
       "        0.60997336, 0.92021089, 0.87234327, 0.5694628 , 0.98777693,\n",
       "        0.68599197, 0.94320562, 0.58714013, 0.74811439, 0.83653489,\n",
       "        0.7488164 , 0.78515602, 0.94320562, 0.83653489, 0.83653489,\n",
       "        0.83653489, 0.68599197, 0.96587197, 0.94320562, 0.5694628 ,\n",
       "        0.5694628 , 0.5694628 , 0.96587197, 0.94320562, 0.77755774,\n",
       "        0.90582059, 0.5694628 , 0.77980908, 0.94320562, 0.95502242,\n",
       "        0.59952706, 0.68599197, 0.99731896, 0.68599197, 0.5694628 ,\n",
       "        0.5694628 , 0.68599197, 0.79088806, 0.74811439, 0.90582059,\n",
       "        0.74811439, 0.94320562, 0.5694628 , 0.83653489, 0.90119183,\n",
       "        0.97363919, 0.68599197, 0.91163774, 0.97541321, 0.94320562,\n",
       "        0.94320562, 0.60694727, 0.94320562, 0.5694628 , 0.74811439,\n",
       "        0.88548201, 0.5694628 , 0.94320562, 0.78596007, 0.90582059,\n",
       "        0.85080519, 0.77980908, 0.9661558 , 0.72571783, 0.8904293 ,\n",
       "        0.93635882]))"
      ]
     },
     "execution_count": 85,
     "metadata": {},
     "output_type": "execute_result"
    }
   ],
   "source": [
    "mne.stats.fdr_correction(gene_corrs['p-val'])"
   ]
  },
  {
   "cell_type": "markdown",
   "id": "af810177",
   "metadata": {},
   "source": [
    "## Plot genes on surface"
   ]
  },
  {
   "cell_type": "markdown",
   "id": "79b0543f",
   "metadata": {},
   "source": [
    "## Reverse parcellate data - remove unknown + CC"
   ]
  },
  {
   "cell_type": "code",
   "execution_count": 107,
   "id": "0dd19a2a",
   "metadata": {},
   "outputs": [],
   "source": [
    "from nibabel import freesurfer\n",
    "\n",
    "img_annot = freesurfer.read_annot('/home/bic/fmorys/nnt-data/atl-cammoun2012/fsaverage/atl-Cammoun2012_space-fsaverage_res-125_hemi-L_deterministic.annot')\n",
    "BMI_genes_voxelwise=img_annot[0]"
   ]
  },
  {
   "cell_type": "code",
   "execution_count": 113,
   "id": "338e42e3",
   "metadata": {},
   "outputs": [],
   "source": [
    "BMI_mean_genes=gene_maps_BMI['mean'][0:111]"
   ]
  },
  {
   "cell_type": "code",
   "execution_count": 114,
   "id": "394a9c6a",
   "metadata": {},
   "outputs": [],
   "source": [
    "dictionary_labels=pd.DataFrame(img_annot[2], np.unique(img_annot[0]))"
   ]
  },
  {
   "cell_type": "code",
   "execution_count": 115,
   "id": "92987006",
   "metadata": {},
   "outputs": [],
   "source": [
    "dictionary_labels.index.name = 'label'\n",
    "dictionary_labels=dictionary_labels.drop(0)\n",
    "dictionary_labels=dictionary_labels.drop(4)"
   ]
  },
  {
   "cell_type": "code",
   "execution_count": 116,
   "id": "0fe84ad4",
   "metadata": {},
   "outputs": [
    {
     "data": {
      "text/html": [
       "<div>\n",
       "<style scoped>\n",
       "    .dataframe tbody tr th:only-of-type {\n",
       "        vertical-align: middle;\n",
       "    }\n",
       "\n",
       "    .dataframe tbody tr th {\n",
       "        vertical-align: top;\n",
       "    }\n",
       "\n",
       "    .dataframe thead th {\n",
       "        text-align: right;\n",
       "    }\n",
       "</style>\n",
       "<table border=\"1\" class=\"dataframe\">\n",
       "  <thead>\n",
       "    <tr style=\"text-align: right;\">\n",
       "      <th></th>\n",
       "      <th>0</th>\n",
       "    </tr>\n",
       "    <tr>\n",
       "      <th>label</th>\n",
       "      <th></th>\n",
       "    </tr>\n",
       "  </thead>\n",
       "  <tbody>\n",
       "    <tr>\n",
       "      <th>1</th>\n",
       "      <td>b'lateralorbitofrontal_1'</td>\n",
       "    </tr>\n",
       "    <tr>\n",
       "      <th>2</th>\n",
       "      <td>b'lateralorbitofrontal_2'</td>\n",
       "    </tr>\n",
       "    <tr>\n",
       "      <th>3</th>\n",
       "      <td>b'lateralorbitofrontal_3'</td>\n",
       "    </tr>\n",
       "    <tr>\n",
       "      <th>5</th>\n",
       "      <td>b'lateralorbitofrontal_4'</td>\n",
       "    </tr>\n",
       "    <tr>\n",
       "      <th>6</th>\n",
       "      <td>b'parsorbitalis_1'</td>\n",
       "    </tr>\n",
       "    <tr>\n",
       "      <th>...</th>\n",
       "      <td>...</td>\n",
       "    </tr>\n",
       "    <tr>\n",
       "      <th>108</th>\n",
       "      <td>b'transversetemporal_1'</td>\n",
       "    </tr>\n",
       "    <tr>\n",
       "      <th>109</th>\n",
       "      <td>b'insula_1'</td>\n",
       "    </tr>\n",
       "    <tr>\n",
       "      <th>110</th>\n",
       "      <td>b'insula_2'</td>\n",
       "    </tr>\n",
       "    <tr>\n",
       "      <th>111</th>\n",
       "      <td>b'insula_3'</td>\n",
       "    </tr>\n",
       "    <tr>\n",
       "      <th>112</th>\n",
       "      <td>b'insula_4'</td>\n",
       "    </tr>\n",
       "  </tbody>\n",
       "</table>\n",
       "<p>111 rows × 1 columns</p>\n",
       "</div>"
      ],
      "text/plain": [
       "                               0\n",
       "label                           \n",
       "1      b'lateralorbitofrontal_1'\n",
       "2      b'lateralorbitofrontal_2'\n",
       "3      b'lateralorbitofrontal_3'\n",
       "5      b'lateralorbitofrontal_4'\n",
       "6             b'parsorbitalis_1'\n",
       "...                          ...\n",
       "108      b'transversetemporal_1'\n",
       "109                  b'insula_1'\n",
       "110                  b'insula_2'\n",
       "111                  b'insula_3'\n",
       "112                  b'insula_4'\n",
       "\n",
       "[111 rows x 1 columns]"
      ]
     },
     "execution_count": 116,
     "metadata": {},
     "output_type": "execute_result"
    }
   ],
   "source": [
    "dictionary_labels"
   ]
  },
  {
   "cell_type": "code",
   "execution_count": 117,
   "id": "c938cec8",
   "metadata": {},
   "outputs": [],
   "source": [
    "BMI_label=pd.DataFrame(BMI_mean_genes.values, dictionary_labels.index)"
   ]
  },
  {
   "cell_type": "code",
   "execution_count": 118,
   "id": "75d338f1",
   "metadata": {},
   "outputs": [],
   "source": [
    "for i in range(1,113):\n",
    "    if i==4:\n",
    "        BMI_genes_voxelwise[np.where(BMI_genes_voxelwise == i)]=0\n",
    "        continue\n",
    "    BMI_genes_voxelwise[np.where(BMI_genes_voxelwise == i)]=BMI_label.loc[i]*100000"
   ]
  },
  {
   "cell_type": "code",
   "execution_count": 119,
   "id": "d91357fc",
   "metadata": {},
   "outputs": [],
   "source": [
    "np.savetxt('/dagher/dagher11/filip/Obesity_maps/data/GWAS_genes_map_Yengo.csv', BMI_genes_voxelwise, delimiter=',')"
   ]
  },
  {
   "cell_type": "markdown",
   "id": "a53ddd3c",
   "metadata": {},
   "source": [
    "## For volumetric atlas"
   ]
  },
  {
   "cell_type": "code",
   "execution_count": 128,
   "id": "be48a278",
   "metadata": {},
   "outputs": [],
   "source": [
    "import nibabel as nib\n",
    "\n",
    "img = nib.load(cammoun['scale125'])\n",
    "BMI_genes_parcel=img"
   ]
  },
  {
   "cell_type": "code",
   "execution_count": 129,
   "id": "36a015b2",
   "metadata": {},
   "outputs": [],
   "source": [
    "BMI_mean_genes=gene_maps_BMI['mean']"
   ]
  },
  {
   "cell_type": "code",
   "execution_count": 130,
   "id": "9ebcafad",
   "metadata": {},
   "outputs": [
    {
     "name": "stdout",
     "output_type": "stream",
     "text": [
      "116    0.515078\n",
      "117    0.521666\n",
      "118    0.530486\n",
      "119    0.525705\n",
      "120    0.519592\n",
      "121    0.516944\n",
      "122    0.528438\n",
      "123    0.518535\n",
      "124    0.534659\n",
      "125    0.529556\n",
      "126    0.532756\n",
      "127    0.533203\n",
      "128    0.517177\n",
      "129    0.527652\n",
      "130    0.525446\n",
      "131    0.504273\n",
      "132    0.527186\n",
      "133    0.520097\n",
      "134    0.526609\n",
      "135    0.528011\n",
      "136    0.543615\n",
      "137    0.516398\n",
      "138    0.521448\n",
      "139    0.515942\n",
      "140    0.515705\n",
      "141    0.521306\n",
      "142    0.521279\n",
      "143    0.516519\n",
      "144    0.525284\n",
      "145    0.521144\n",
      "146    0.521205\n",
      "147    0.528464\n",
      "148    0.514055\n",
      "149    0.526998\n",
      "150    0.520155\n",
      "151    0.528963\n",
      "152    0.529598\n",
      "153    0.522455\n",
      "154    0.536473\n",
      "155    0.518327\n",
      "156    0.496834\n",
      "157    0.523340\n",
      "158    0.530753\n",
      "159    0.519345\n",
      "160    0.509513\n",
      "161    0.531613\n",
      "162    0.536477\n",
      "163    0.530056\n",
      "164    0.510602\n",
      "165    0.530945\n",
      "166    0.527429\n",
      "167    0.521861\n",
      "168    0.506758\n",
      "169    0.528246\n",
      "170    0.520607\n",
      "171    0.529436\n",
      "172    0.516561\n",
      "173    0.528475\n",
      "174    0.529283\n",
      "175    0.534411\n",
      "176    0.525474\n",
      "177    0.529171\n",
      "178    0.533951\n",
      "179    0.530493\n",
      "180    0.530776\n",
      "181    0.513253\n",
      "182    0.522534\n",
      "183    0.520123\n",
      "184    0.527337\n",
      "185    0.528132\n",
      "186    0.525020\n",
      "187    0.506212\n",
      "188    0.528165\n",
      "189    0.525364\n",
      "190    0.542056\n",
      "191    0.541906\n",
      "192    0.539310\n",
      "193    0.544175\n",
      "194    0.541865\n",
      "195    0.539809\n",
      "196    0.535000\n",
      "197    0.530241\n",
      "198    0.527553\n",
      "199    0.531785\n",
      "200    0.513525\n",
      "201    0.517494\n",
      "202    0.531787\n",
      "203    0.521786\n",
      "204    0.527104\n",
      "205    0.508166\n",
      "206    0.508078\n",
      "207    0.531333\n",
      "208    0.501478\n",
      "209    0.519925\n",
      "210    0.522276\n",
      "211    0.518497\n",
      "212    0.513594\n",
      "213    0.489214\n",
      "214    0.526231\n",
      "215    0.531135\n",
      "216    0.524757\n",
      "217    0.529467\n",
      "218    0.534111\n",
      "219    0.519351\n",
      "220    0.518633\n",
      "221    0.509051\n",
      "222    0.541630\n",
      "223    0.530048\n",
      "224    0.514682\n",
      "225    0.526425\n",
      "226    0.530643\n",
      "227    0.483239\n",
      "228    0.492399\n",
      "229    0.489070\n",
      "230    0.485857\n",
      "231    0.485491\n",
      "232    0.504936\n",
      "233    0.488918\n",
      "234    0.468056\n",
      "Name: mean, dtype: float64\n"
     ]
    }
   ],
   "source": [
    "with pd.option_context('display.max_rows', None, 'display.max_columns', None):  # more options can be specified also\n",
    "    print(gene_maps_BMI['mean'])"
   ]
  },
  {
   "cell_type": "code",
   "execution_count": 131,
   "id": "63f149ab",
   "metadata": {},
   "outputs": [
    {
     "name": "stdout",
     "output_type": "stream",
     "text": [
      "116        lateralorbitofrontal_1\n",
      "117        lateralorbitofrontal_2\n",
      "118        lateralorbitofrontal_3\n",
      "119        lateralorbitofrontal_4\n",
      "120               parsorbitalis_1\n",
      "121                 frontalpole_1\n",
      "122         medialorbitofrontal_1\n",
      "123         medialorbitofrontal_2\n",
      "124            parstriangularis_1\n",
      "125             parsopercularis_1\n",
      "126             parsopercularis_2\n",
      "127        rostralmiddlefrontal_1\n",
      "128        rostralmiddlefrontal_2\n",
      "129        rostralmiddlefrontal_3\n",
      "130        rostralmiddlefrontal_4\n",
      "131        rostralmiddlefrontal_5\n",
      "132        rostralmiddlefrontal_6\n",
      "133             superiorfrontal_1\n",
      "134             superiorfrontal_2\n",
      "135             superiorfrontal_3\n",
      "136             superiorfrontal_4\n",
      "137             superiorfrontal_5\n",
      "138             superiorfrontal_6\n",
      "139             superiorfrontal_7\n",
      "140             superiorfrontal_8\n",
      "141             superiorfrontal_9\n",
      "142         caudalmiddlefrontal_1\n",
      "143         caudalmiddlefrontal_2\n",
      "144         caudalmiddlefrontal_3\n",
      "145                  precentral_1\n",
      "146                  precentral_2\n",
      "147                  precentral_3\n",
      "148                  precentral_4\n",
      "149                  precentral_5\n",
      "150                  precentral_6\n",
      "151                  precentral_7\n",
      "152                  precentral_8\n",
      "153                 paracentral_1\n",
      "154                 paracentral_2\n",
      "155    rostralanteriorcingulate_1\n",
      "156     caudalanteriorcingulate_1\n",
      "157          posteriorcingulate_1\n",
      "158          posteriorcingulate_2\n",
      "159            isthmuscingulate_1\n",
      "160                 postcentral_1\n",
      "161                 postcentral_2\n",
      "162                 postcentral_3\n",
      "163                 postcentral_4\n",
      "164                 postcentral_5\n",
      "165                 postcentral_6\n",
      "166                 postcentral_7\n",
      "167               supramarginal_1\n",
      "168               supramarginal_2\n",
      "169               supramarginal_3\n",
      "170               supramarginal_4\n",
      "171               supramarginal_5\n",
      "172            superiorparietal_1\n",
      "173            superiorparietal_2\n",
      "174            superiorparietal_3\n",
      "175            superiorparietal_4\n",
      "176            superiorparietal_5\n",
      "177            superiorparietal_6\n",
      "178            superiorparietal_7\n",
      "179            inferiorparietal_1\n",
      "180            inferiorparietal_2\n",
      "181            inferiorparietal_3\n",
      "182            inferiorparietal_4\n",
      "183            inferiorparietal_5\n",
      "184                   precuneus_1\n",
      "185                   precuneus_2\n",
      "186                   precuneus_3\n",
      "187                   precuneus_4\n",
      "188                   precuneus_5\n",
      "189                      cuneus_1\n",
      "190               pericalcarine_1\n",
      "191            lateraloccipital_1\n",
      "192            lateraloccipital_2\n",
      "193            lateraloccipital_3\n",
      "194            lateraloccipital_4\n",
      "195            lateraloccipital_5\n",
      "196                     lingual_1\n",
      "197                     lingual_2\n",
      "198                     lingual_3\n",
      "199                     lingual_4\n",
      "200                    fusiform_1\n",
      "201                    fusiform_2\n",
      "202                    fusiform_3\n",
      "203                    fusiform_4\n",
      "204             parahippocampal_1\n",
      "205                  entorhinal_1\n",
      "206                temporalpole_1\n",
      "207            inferiortemporal_1\n",
      "208            inferiortemporal_2\n",
      "209            inferiortemporal_3\n",
      "210            inferiortemporal_4\n",
      "211              middletemporal_1\n",
      "212              middletemporal_2\n",
      "213              middletemporal_3\n",
      "214              middletemporal_4\n",
      "215                    bankssts_1\n",
      "216                    bankssts_2\n",
      "217            superiortemporal_1\n",
      "218            superiortemporal_2\n",
      "219            superiortemporal_3\n",
      "220            superiortemporal_4\n",
      "221            superiortemporal_5\n",
      "222          transversetemporal_1\n",
      "223                      insula_1\n",
      "224                      insula_2\n",
      "225                      insula_3\n",
      "226                      insula_4\n",
      "227                thalamusproper\n",
      "228                       caudate\n",
      "229                       putamen\n",
      "230                      pallidum\n",
      "231                 accumbensarea\n",
      "232                   hippocampus\n",
      "233                      amygdala\n",
      "234                     brainstem\n",
      "Name: label, dtype: object\n"
     ]
    },
    {
     "name": "stderr",
     "output_type": "stream",
     "text": [
      "/tmp/ipykernel_23993/1691492260.py:2: FutureWarning: The behavior of `series[i:j]` with an integer-dtype index is deprecated. In a future version, this will be treated as *label-based* indexing, consistent with e.g. `series[i]` lookups. To retain the old behavior, use `series.iloc[i:j]`. To get the future behavior, use `series.loc[i:j]`.\n",
      "  labels_BMI=labels[115:len(labels)]\n"
     ]
    }
   ],
   "source": [
    "labels.index = range(1,235)\n",
    "labels_BMI=labels[115:len(labels)]\n",
    "\n",
    "with pd.option_context('display.max_rows', None, 'display.max_columns', None):  # more options can be specified also\n",
    "    print(labels_BMI)"
   ]
  },
  {
   "cell_type": "code",
   "execution_count": 132,
   "id": "6a29af1f",
   "metadata": {},
   "outputs": [],
   "source": [
    "BMI_mean_genes.index = range(116,235)"
   ]
  },
  {
   "cell_type": "code",
   "execution_count": 133,
   "id": "099bfa80",
   "metadata": {},
   "outputs": [],
   "source": [
    "data=BMI_genes_parcel.get_fdata()\n",
    "\n",
    "data[np.where(data < 116)]=float(\"nan\")\n",
    "\n",
    "for i in range(116,235):\n",
    "    data[np.where(data == i)]=BMI_mean_genes[i]   \n",
    "    \n",
    "BMI_genes_img = nib.Nifti1Image(data, BMI_genes_parcel.affine, BMI_genes_parcel.header)\n",
    "nib.save(BMI_genes_img, '/home/bic/fmorys/Desktop/image.nii')"
   ]
  },
  {
   "cell_type": "markdown",
   "id": "6461b700",
   "metadata": {},
   "source": [
    "# OLD"
   ]
  },
  {
   "cell_type": "markdown",
   "id": "198fdb34",
   "metadata": {},
   "source": [
    "### Abagen order only LH"
   ]
  },
  {
   "cell_type": "code",
   "execution_count": 342,
   "id": "11cdcdfb",
   "metadata": {},
   "outputs": [],
   "source": [
    "struct_aba=np.array(['bankssts',\n",
    "'caudalanteriorcingulate',\n",
    "'caudalmiddlefrontal',\n",
    "'cuneus',\n",
    "'entorhinal',\n",
    "'fusiform',\n",
    "'inferiorparietal',\n",
    "'inferiortemporal',\n",
    "'isthmuscingulate',\n",
    "'lateraloccipital',\n",
    "'lateralorbitofrontal',\n",
    "'lingual',\n",
    "'medialorbitofrontal',\n",
    "'middletemporal',\n",
    "'parahippocampal',\n",
    "'paracentral',\n",
    "'parsopercularis',\n",
    "'parsorbitalis',\n",
    "'parstriangularis',\n",
    "'pericalcarine',\n",
    "'postcentral',\n",
    "'posteriorcingulate',\n",
    "'precentral',\n",
    "'precuneus',\n",
    "'rostralanteriorcingulate',\n",
    "'rostralmiddlefrontal',\n",
    "'superiorfrontal',\n",
    "'superiorparietal',\n",
    "'superiortemporal',\n",
    "'supramarginal',\n",
    "'frontalpole',\n",
    "'temporalpole',\n",
    "'transversetemporal',\n",
    "'insula',\n",
    "'thalamusproper',\n",
    "'caudate',\n",
    "'putamen',\n",
    "'pallidum',\n",
    "'accumbensarea',\n",
    "'hippocampus',\n",
    "'amygdala',\n",
    "'bankssts',\n",
    "'caudalanteriorcingulate',\n",
    "'caudalmiddlefrontal',\n",
    "'cuneus',\n",
    "'entorhinal',\n",
    "'fusiform',\n",
    "'inferiorparietal',\n",
    "'inferiortemporal',\n",
    "'isthmuscingulate',\n",
    "'lateraloccipital',\n",
    "'lateralorbitofrontal',\n",
    "'lingual',\n",
    "'medialorbitofrontal',\n",
    "'middletemporal',\n",
    "'parahippocampal',\n",
    "'paracentral',\n",
    "'parsopercularis',\n",
    "'parsorbitalis',\n",
    "'parstriangularis',\n",
    "'pericalcarine',\n",
    "'postcentral',\n",
    "'posteriorcingulate',\n",
    "'precentral',\n",
    "'precuneus',\n",
    "'rostralanteriorcingulate',\n",
    "'rostralmiddlefrontal',\n",
    "'superiorfrontal',\n",
    "'superiorparietal',\n",
    "'superiortemporal',\n",
    "'supramarginal',\n",
    "'frontalpole',\n",
    "'temporalpole',\n",
    "'transversetemporal',\n",
    "'insula',\n",
    "'thalamusproper',\n",
    "'caudate',\n",
    "'putamen',\n",
    "'pallidum',\n",
    "'accumbensarea',\n",
    "'hippocampus',\n",
    "'amygdala',\n",
    "'brainstem'])\n"
   ]
  },
  {
   "cell_type": "code",
   "execution_count": 10,
   "id": "d0bc7354",
   "metadata": {},
   "outputs": [
    {
     "ename": "ImportError",
     "evalue": "Cannot use plot_fsaverage() if pysurfer is not installed. Please install pysurfer and try again.",
     "output_type": "error",
     "traceback": [
      "\u001b[0;31m---------------------------------------------------------------------------\u001b[0m",
      "\u001b[0;31mModuleNotFoundError\u001b[0m                       Traceback (most recent call last)",
      "\u001b[0;32m/dagher/dagher11/filip/Software/miniconda/envs/brainsmash/lib/python3.7/site-packages/netneurotools/plotting.py\u001b[0m in \u001b[0;36mplot_fsvertex\u001b[0;34m(data, order, surf, views, vmin, vmax, center, mask, colormap, colorbar, alpha, label_fmt, num_labels, size_per_view, subject_id, subjects_dir, data_kws, **kwargs)\u001b[0m\n\u001b[1;32m    645\u001b[0m     \u001b[0;32mtry\u001b[0m\u001b[0;34m:\u001b[0m\u001b[0;34m\u001b[0m\u001b[0;34m\u001b[0m\u001b[0m\n\u001b[0;32m--> 646\u001b[0;31m         \u001b[0;32mfrom\u001b[0m \u001b[0msurfer\u001b[0m \u001b[0;32mimport\u001b[0m \u001b[0mBrain\u001b[0m\u001b[0;34m\u001b[0m\u001b[0;34m\u001b[0m\u001b[0m\n\u001b[0m\u001b[1;32m    647\u001b[0m     \u001b[0;32mexcept\u001b[0m \u001b[0mImportError\u001b[0m\u001b[0;34m:\u001b[0m\u001b[0;34m\u001b[0m\u001b[0;34m\u001b[0m\u001b[0m\n",
      "\u001b[0;31mModuleNotFoundError\u001b[0m: No module named 'surfer'",
      "\nDuring handling of the above exception, another exception occurred:\n",
      "\u001b[0;31mImportError\u001b[0m                               Traceback (most recent call last)",
      "\u001b[0;32m/tmp/ipykernel_23850/1263904492.py\u001b[0m in \u001b[0;36m<module>\u001b[0;34m\u001b[0m\n\u001b[1;32m      2\u001b[0m \u001b[0mscale\u001b[0m \u001b[0;34m=\u001b[0m \u001b[0;34m'scale125'\u001b[0m\u001b[0;34m\u001b[0m\u001b[0;34m\u001b[0m\u001b[0m\n\u001b[1;32m      3\u001b[0m \u001b[0mcammoun\u001b[0m \u001b[0;34m=\u001b[0m \u001b[0mfetch_cammoun2012\u001b[0m\u001b[0;34m(\u001b[0m\u001b[0;34m'fsaverage'\u001b[0m\u001b[0;34m,\u001b[0m \u001b[0mverbose\u001b[0m\u001b[0;34m=\u001b[0m\u001b[0;32mFalse\u001b[0m\u001b[0;34m)\u001b[0m\u001b[0;34m[\u001b[0m\u001b[0mscale\u001b[0m\u001b[0;34m]\u001b[0m\u001b[0;34m\u001b[0m\u001b[0;34m\u001b[0m\u001b[0m\n\u001b[0;32m----> 4\u001b[0;31m \u001b[0mplot_fsaverage\u001b[0m\u001b[0;34m(\u001b[0m\u001b[0mvalues\u001b[0m\u001b[0;34m,\u001b[0m \u001b[0morder\u001b[0m\u001b[0;34m=\u001b[0m\u001b[0;34m'LR'\u001b[0m\u001b[0;34m,\u001b[0m\u001b[0mlhannot\u001b[0m\u001b[0;34m=\u001b[0m\u001b[0mcammoun\u001b[0m\u001b[0;34m.\u001b[0m\u001b[0mlh\u001b[0m\u001b[0;34m,\u001b[0m\u001b[0mrhannot\u001b[0m\u001b[0;34m=\u001b[0m\u001b[0mcammoun\u001b[0m\u001b[0;34m.\u001b[0m\u001b[0mrh\u001b[0m\u001b[0;34m)\u001b[0m\u001b[0;31m# doctest: +SKIP\u001b[0m\u001b[0;34m\u001b[0m\u001b[0;34m\u001b[0m\u001b[0m\n\u001b[0m",
      "\u001b[0;32m/dagher/dagher11/filip/Software/miniconda/envs/brainsmash/lib/python3.7/site-packages/netneurotools/plotting.py\u001b[0m in \u001b[0;36mplot_fsaverage\u001b[0;34m(data, lhannot, rhannot, order, mask, noplot, subject_id, subjects_dir, vmin, vmax, **kwargs)\u001b[0m\n\u001b[1;32m    580\u001b[0m     brain = plot_fsvertex(np.hstack(vtx_data), order='lr', mask=None,\n\u001b[1;32m    581\u001b[0m                           \u001b[0msubject_id\u001b[0m\u001b[0;34m=\u001b[0m\u001b[0msubject_id\u001b[0m\u001b[0;34m,\u001b[0m \u001b[0msubjects_dir\u001b[0m\u001b[0;34m=\u001b[0m\u001b[0msubjects_dir\u001b[0m\u001b[0;34m,\u001b[0m\u001b[0;34m\u001b[0m\u001b[0;34m\u001b[0m\u001b[0m\n\u001b[0;32m--> 582\u001b[0;31m                           vmin=vmin, vmax=vmax, **kwargs)\n\u001b[0m\u001b[1;32m    583\u001b[0m \u001b[0;34m\u001b[0m\u001b[0m\n\u001b[1;32m    584\u001b[0m     \u001b[0;32mreturn\u001b[0m \u001b[0mbrain\u001b[0m\u001b[0;34m\u001b[0m\u001b[0;34m\u001b[0m\u001b[0m\n",
      "\u001b[0;32m/dagher/dagher11/filip/Software/miniconda/envs/brainsmash/lib/python3.7/site-packages/netneurotools/plotting.py\u001b[0m in \u001b[0;36mplot_fsvertex\u001b[0;34m(data, order, surf, views, vmin, vmax, center, mask, colormap, colorbar, alpha, label_fmt, num_labels, size_per_view, subject_id, subjects_dir, data_kws, **kwargs)\u001b[0m\n\u001b[1;32m    646\u001b[0m         \u001b[0;32mfrom\u001b[0m \u001b[0msurfer\u001b[0m \u001b[0;32mimport\u001b[0m \u001b[0mBrain\u001b[0m\u001b[0;34m\u001b[0m\u001b[0;34m\u001b[0m\u001b[0m\n\u001b[1;32m    647\u001b[0m     \u001b[0;32mexcept\u001b[0m \u001b[0mImportError\u001b[0m\u001b[0;34m:\u001b[0m\u001b[0;34m\u001b[0m\u001b[0;34m\u001b[0m\u001b[0m\n\u001b[0;32m--> 648\u001b[0;31m         raise ImportError('Cannot use plot_fsaverage() if pysurfer is not '\n\u001b[0m\u001b[1;32m    649\u001b[0m                           'installed. Please install pysurfer and try again.')\n\u001b[1;32m    650\u001b[0m \u001b[0;34m\u001b[0m\u001b[0m\n",
      "\u001b[0;31mImportError\u001b[0m: Cannot use plot_fsaverage() if pysurfer is not installed. Please install pysurfer and try again."
     ]
    }
   ],
   "source": [
    "values = np.random.rand(219)\n",
    "scale = 'scale125'\n",
    "cammoun = fetch_cammoun2012('fsaverage', verbose=False)[scale]\n",
    "plot_fsaverage(values, order='LR',lhannot=cammoun.lh,rhannot=cammoun.rh)# doctest: +SKIP"
   ]
  },
  {
   "cell_type": "code",
   "execution_count": 258,
   "id": "359acc29",
   "metadata": {},
   "outputs": [],
   "source": [
    "parcellated_map=[val for sublist in np.ndarray.tolist(mymap_parc) for val in sublist][0:42]\n",
    "parc_dict=dict(zip(list(labels), parcellated_map))"
   ]
  },
  {
   "cell_type": "code",
   "execution_count": 12,
   "id": "f84941d9",
   "metadata": {},
   "outputs": [
    {
     "name": "stdout",
     "output_type": "stream",
     "text": [
      "Collecting mayavi\n",
      "  Using cached mayavi-4.7.4.tar.gz (7.1 MB)\n",
      "  Preparing metadata (setup.py) ... \u001b[?25ldone\n",
      "\u001b[?25hRequirement already satisfied: apptools in /dagher/dagher11/filip/Software/miniconda/envs/brainsmash/lib/python3.7/site-packages (from mayavi) (5.1.0)\n",
      "Requirement already satisfied: envisage in /dagher/dagher11/filip/Software/miniconda/envs/brainsmash/lib/python3.7/site-packages (from mayavi) (6.0.1)\n",
      "Requirement already satisfied: numpy in /dagher/dagher11/filip/Software/miniconda/envs/brainsmash/lib/python3.7/site-packages (from mayavi) (1.21.5)\n",
      "Requirement already satisfied: pyface>=6.1.1 in /dagher/dagher11/filip/Software/miniconda/envs/brainsmash/lib/python3.7/site-packages (from mayavi) (7.4.1)\n",
      "Requirement already satisfied: pygments in /dagher/dagher11/filip/Software/miniconda/envs/brainsmash/lib/python3.7/site-packages (from mayavi) (2.11.2)\n",
      "Requirement already satisfied: traits>=6.0.0 in /dagher/dagher11/filip/Software/miniconda/envs/brainsmash/lib/python3.7/site-packages (from mayavi) (6.3.2)\n",
      "Requirement already satisfied: traitsui>=7.0.0 in /dagher/dagher11/filip/Software/miniconda/envs/brainsmash/lib/python3.7/site-packages (from mayavi) (7.2.1)\n",
      "Requirement already satisfied: vtk in /dagher/dagher11/filip/Software/miniconda/envs/brainsmash/lib/python3.7/site-packages (from mayavi) (9.1.0)\n",
      "Requirement already satisfied: importlib-metadata>=3.6.0 in /dagher/dagher11/filip/Software/miniconda/envs/brainsmash/lib/python3.7/site-packages (from pyface>=6.1.1->mayavi) (4.10.1)\n",
      "Requirement already satisfied: importlib-resources>=1.1.0 in /dagher/dagher11/filip/Software/miniconda/envs/brainsmash/lib/python3.7/site-packages (from pyface>=6.1.1->mayavi) (5.4.0)\n",
      "Requirement already satisfied: configobj in /dagher/dagher11/filip/Software/miniconda/envs/brainsmash/lib/python3.7/site-packages (from apptools->mayavi) (5.0.6)\n",
      "Requirement already satisfied: setuptools in /dagher/dagher11/filip/Software/miniconda/envs/brainsmash/lib/python3.7/site-packages (from envisage->mayavi) (58.0.4)\n",
      "Requirement already satisfied: matplotlib>=2.0.0 in /dagher/dagher11/filip/Software/miniconda/envs/brainsmash/lib/python3.7/site-packages (from vtk->mayavi) (3.5.1)\n",
      "Requirement already satisfied: wslink>=1.0.4 in /dagher/dagher11/filip/Software/miniconda/envs/brainsmash/lib/python3.7/site-packages (from vtk->mayavi) (1.4.1)\n",
      "Requirement already satisfied: zipp>=0.5 in /dagher/dagher11/filip/Software/miniconda/envs/brainsmash/lib/python3.7/site-packages (from importlib-metadata>=3.6.0->pyface>=6.1.1->mayavi) (3.7.0)\n",
      "Requirement already satisfied: typing-extensions>=3.6.4 in /dagher/dagher11/filip/Software/miniconda/envs/brainsmash/lib/python3.7/site-packages (from importlib-metadata>=3.6.0->pyface>=6.1.1->mayavi) (4.0.1)\n",
      "Requirement already satisfied: packaging>=20.0 in /dagher/dagher11/filip/Software/miniconda/envs/brainsmash/lib/python3.7/site-packages (from matplotlib>=2.0.0->vtk->mayavi) (21.3)\n",
      "Requirement already satisfied: kiwisolver>=1.0.1 in /dagher/dagher11/filip/Software/miniconda/envs/brainsmash/lib/python3.7/site-packages (from matplotlib>=2.0.0->vtk->mayavi) (1.3.2)\n",
      "Requirement already satisfied: pillow>=6.2.0 in /dagher/dagher11/filip/Software/miniconda/envs/brainsmash/lib/python3.7/site-packages (from matplotlib>=2.0.0->vtk->mayavi) (9.0.1)\n",
      "Requirement already satisfied: cycler>=0.10 in /dagher/dagher11/filip/Software/miniconda/envs/brainsmash/lib/python3.7/site-packages (from matplotlib>=2.0.0->vtk->mayavi) (0.11.0)\n",
      "Requirement already satisfied: fonttools>=4.22.0 in /dagher/dagher11/filip/Software/miniconda/envs/brainsmash/lib/python3.7/site-packages (from matplotlib>=2.0.0->vtk->mayavi) (4.29.1)\n",
      "Requirement already satisfied: python-dateutil>=2.7 in /dagher/dagher11/filip/Software/miniconda/envs/brainsmash/lib/python3.7/site-packages (from matplotlib>=2.0.0->vtk->mayavi) (2.8.2)\n",
      "Requirement already satisfied: pyparsing>=2.2.1 in /dagher/dagher11/filip/Software/miniconda/envs/brainsmash/lib/python3.7/site-packages (from matplotlib>=2.0.0->vtk->mayavi) (3.0.7)\n",
      "Requirement already satisfied: aiohttp in /dagher/dagher11/filip/Software/miniconda/envs/brainsmash/lib/python3.7/site-packages (from wslink>=1.0.4->vtk->mayavi) (3.8.1)\n",
      "Requirement already satisfied: six in /dagher/dagher11/filip/Software/miniconda/envs/brainsmash/lib/python3.7/site-packages (from configobj->apptools->mayavi) (1.16.0)\n",
      "Requirement already satisfied: asynctest==0.13.0 in /dagher/dagher11/filip/Software/miniconda/envs/brainsmash/lib/python3.7/site-packages (from aiohttp->wslink>=1.0.4->vtk->mayavi) (0.13.0)\n",
      "Requirement already satisfied: yarl<2.0,>=1.0 in /dagher/dagher11/filip/Software/miniconda/envs/brainsmash/lib/python3.7/site-packages (from aiohttp->wslink>=1.0.4->vtk->mayavi) (1.7.2)\n",
      "Requirement already satisfied: charset-normalizer<3.0,>=2.0 in /dagher/dagher11/filip/Software/miniconda/envs/brainsmash/lib/python3.7/site-packages (from aiohttp->wslink>=1.0.4->vtk->mayavi) (2.0.11)\n",
      "Requirement already satisfied: attrs>=17.3.0 in /dagher/dagher11/filip/Software/miniconda/envs/brainsmash/lib/python3.7/site-packages (from aiohttp->wslink>=1.0.4->vtk->mayavi) (21.4.0)\n",
      "Requirement already satisfied: aiosignal>=1.1.2 in /dagher/dagher11/filip/Software/miniconda/envs/brainsmash/lib/python3.7/site-packages (from aiohttp->wslink>=1.0.4->vtk->mayavi) (1.2.0)\n",
      "Requirement already satisfied: frozenlist>=1.1.1 in /dagher/dagher11/filip/Software/miniconda/envs/brainsmash/lib/python3.7/site-packages (from aiohttp->wslink>=1.0.4->vtk->mayavi) (1.3.0)\n",
      "Requirement already satisfied: multidict<7.0,>=4.5 in /dagher/dagher11/filip/Software/miniconda/envs/brainsmash/lib/python3.7/site-packages (from aiohttp->wslink>=1.0.4->vtk->mayavi) (6.0.2)\n",
      "Requirement already satisfied: async-timeout<5.0,>=4.0.0a3 in /dagher/dagher11/filip/Software/miniconda/envs/brainsmash/lib/python3.7/site-packages (from aiohttp->wslink>=1.0.4->vtk->mayavi) (4.0.2)\n",
      "Requirement already satisfied: idna>=2.0 in /dagher/dagher11/filip/Software/miniconda/envs/brainsmash/lib/python3.7/site-packages (from yarl<2.0,>=1.0->aiohttp->wslink>=1.0.4->vtk->mayavi) (3.3)\n",
      "Building wheels for collected packages: mayavi\n",
      "  Building wheel for mayavi (setup.py) ... \u001b[?25lerror\n",
      "  \u001b[1;31merror\u001b[0m: \u001b[1msubprocess-exited-with-error\u001b[0m\n",
      "  \n",
      "  \u001b[31m×\u001b[0m \u001b[32mpython setup.py bdist_wheel\u001b[0m did not run successfully.\n",
      "  \u001b[31m│\u001b[0m exit code: \u001b[1;36m1\u001b[0m\n",
      "  \u001b[31m╰─>\u001b[0m \u001b[31m[821 lines of output]\u001b[0m\n",
      "  \u001b[31m   \u001b[0m running bdist_wheel\n",
      "  \u001b[31m   \u001b[0m running build\n",
      "  \u001b[31m   \u001b[0m ----------------------------------------------------------------------\n",
      "  \u001b[31m   \u001b[0m Building TVTK classes... vtkContextDevice2D: Ignoring method: Get/SetViewportRect\n",
      "  \u001b[31m   \u001b[0m default: [-1318507920, 32750, -1318507920, 32750], range: None\n",
      "  \u001b[31m   \u001b[0m vtkContextDevice2D: Ignoring method: Get/SetViewportSize\n",
      "  \u001b[31m   \u001b[0m default: [-1318507920, 32750], range: None\n",
      "  \u001b[31m   \u001b[0m vtkEventDataForDevice: Ignoring method: Get/SetAction\n",
      "  \u001b[31m   \u001b[0m default: -1, range: None\n",
      "  \u001b[31m   \u001b[0m vtkEventDataForDevice: Ignoring method: Get/SetDevice\n",
      "  \u001b[31m   \u001b[0m default: -1, range: None\n",
      "  \u001b[31m   \u001b[0m vtkFXAAOptions: Ignoring method: Get/SetDebugOptionValue\n",
      "  \u001b[31m   \u001b[0m default: 0, range: None\n",
      "  \u001b[31m   \u001b[0m vtkIncrementalForceLayout: Ignoring method: Get/SetGravityPoint\n",
      "  \u001b[31m   \u001b[0m default: [200.0, 200.0], range: None\n",
      "  \u001b[31m   \u001b[0m vtkOpenGLBufferObject: Ignoring method: Get/SetType\n",
      "  \u001b[31m   \u001b[0m default: 0, range: None\n",
      "  \u001b[31m   \u001b[0m vtkOpenGLFXAAFilter: Ignoring method: Get/SetDebugOptionValue\n",
      "  \u001b[31m   \u001b[0m default: 0, range: None\n",
      "  \u001b[31m   \u001b[0m vtkRenderWidget: Ignoring method: Get/SetPosition\n",
      "  \u001b[31m   \u001b[0m default: [0, 0], range: None\n",
      "  \u001b[31m   \u001b[0m vtkRenderWidget: Ignoring method: Get/SetSize\n",
      "  \u001b[31m   \u001b[0m default: [300, 300], range: None\n",
      "  \u001b[31m   \u001b[0m vtkShader: Ignoring method: Get/SetType\n",
      "  \u001b[31m   \u001b[0m default: 3, range: None\n",
      "  \u001b[31m   \u001b[0m vtkVolumeTexture: Ignoring method: Get/SetPartitions\n",
      "  \u001b[31m   \u001b[0m default: [1, 1, 1], range: None\n",
      "  \u001b[31m   \u001b[0m vtkChartMatrix: Ignoring method: Get/SetFillStrategy\n",
      "  \u001b[31m   \u001b[0m default: 0, range: None\n",
      "  \u001b[31m   \u001b[0m vtkChartMatrix: Ignoring method: Get/SetGutter\n",
      "  \u001b[31m   \u001b[0m default: [15.0, 15.0], range: None\n",
      "  \u001b[31m   \u001b[0m vtkChartMatrix: Ignoring method: Get/SetRect\n",
      "  \u001b[31m   \u001b[0m default: [0, 0, 100, 100], range: None\n",
      "  \u001b[31m   \u001b[0m vtkChartMatrix: Ignoring method: Get/SetSize\n",
      "  \u001b[31m   \u001b[0m default: [0, 0], range: None\n",
      "  \u001b[31m   \u001b[0m vtkContextArea: Ignoring method: Get/SetDrawAreaBounds\n",
      "  \u001b[31m   \u001b[0m default: [0.0, 0.0, 300.0, 300.0], range: None\n",
      "  \u001b[31m   \u001b[0m vtkContextArea: Ignoring method: Get/SetDrawAreaResizeBehavior\n",
      "  \u001b[31m   \u001b[0m default: 0, range: None\n",
      "  \u001b[31m   \u001b[0m vtkContextArea: Ignoring method: Get/SetFixedMargins\n",
      "  \u001b[31m   \u001b[0m default: [0, 0, 0, 0], range: None\n",
      "  \u001b[31m   \u001b[0m vtkContextArea: Ignoring method: Get/SetFixedRect\n",
      "  \u001b[31m   \u001b[0m default: [0, 0, 300, 300], range: None\n",
      "  \u001b[31m   \u001b[0m vtkContextArea: Ignoring method: Get/SetGeometry\n",
      "  \u001b[31m   \u001b[0m default: [0, 0, 300, 300], range: None\n",
      "  \u001b[31m   \u001b[0m vtkImplicitProjectOnPlaneDistance: Ignoring method: Get/SetNorm\n",
      "  \u001b[31m   \u001b[0m default: 2, range: None\n",
      "  \u001b[31m   \u001b[0m vtkOpenGLVertexBufferObject: Ignoring method: Get/SetCoordShiftAndScaleMethod\n",
      "  \u001b[31m   \u001b[0m default: 0, range: None\n",
      "  \u001b[31m   \u001b[0m vtkSimple3DCirclesStrategy: Ignoring method: Get/SetMarkedValue\n",
      "  \u001b[31m   \u001b[0m default: (invalid), range: None\n",
      "  \u001b[31m   \u001b[0m vtkArrayNorm: Ignoring method: Get/SetWindow\n",
      "  \u001b[31m   \u001b[0m default: [0, 9223372036854775807), range: None\n",
      "  \u001b[31m   \u001b[0m vtkChart: Ignoring method: Get/SetSize\n",
      "  \u001b[31m   \u001b[0m default: [0.0, 0.0, 0.0, 0.0], range: None\n",
      "  \u001b[31m   \u001b[0m vtkChartXYZ: Ignoring method: Get/SetAxisColor\n",
      "  \u001b[31m   \u001b[0m default: [0, 0, 0, 255], range: None\n",
      "  \u001b[31m   \u001b[0m vtkEuclideanClusterExtraction: Radius not updatable (VTK 9.1 bug - value not properly initialized)\n",
      "  \u001b[31m   \u001b[0m Warning: We cannot determine the trait type of vtkHigherOrderHexahedron.Order\n",
      "  \u001b[31m   \u001b[0m Warning: We cannot determine the trait type of vtkHigherOrderQuadrilateral.Order\n",
      "  \u001b[31m   \u001b[0m Warning: We cannot determine the trait type of vtkHigherOrderWedge.Order\n",
      "  \u001b[31m   \u001b[0m vtkLightingMapPass: Ignoring method: Get/SetRenderType\n",
      "  \u001b[31m   \u001b[0m default: 0, range: None\n",
      "  \u001b[31m   \u001b[0m vtkPlot: Ignoring method: Get/SetShiftScale\n",
      "  \u001b[31m   \u001b[0m default: [0.0, 0.0, 1.0, 1.0], range: None\n",
      "  \u001b[31m   \u001b[0m vtkScatterPlotMatrix: Ignoring method: Get/SetActivePlot\n",
      "  \u001b[31m   \u001b[0m default: [0, -2], range: None\n",
      "  \u001b[31m   \u001b[0m vtkScatterPlotMatrix: Ignoring method: Get/SetScatterPlotSelectedActiveColor\n",
      "  \u001b[31m   \u001b[0m default: [0, 204, 0, 102], range: None\n",
      "  \u001b[31m   \u001b[0m vtkScatterPlotMatrix: Ignoring method: Get/SetScatterPlotSelectedRowColumnColor\n",
      "  \u001b[31m   \u001b[0m default: [204, 0, 0, 102], range: None\n",
      "  \u001b[31m   \u001b[0m vtkScatterPlotMatrix: Ignoring method: Get/SetSize\n",
      "  \u001b[31m   \u001b[0m default: [0, 0], range: None\n",
      "  \u001b[31m   \u001b[0m vtkSparseArray_I10vtkVariantE: Ignoring method: Get/SetExtents\n",
      "  \u001b[31m   \u001b[0m default: , range: None\n",
      "  \u001b[31m   \u001b[0m vtkSparseArray_I10vtkVariantE: Ignoring method: Get/SetNullValue\n",
      "  \u001b[31m   \u001b[0m default: (invalid), range: None\n",
      "  \u001b[31m   \u001b[0m vtkSparseArray_I12vtkStdStringE: Ignoring method: Get/SetExtents\n",
      "  \u001b[31m   \u001b[0m default: , range: None\n",
      "  \u001b[31m   \u001b[0m vtkSparseArray_I16vtkUnicodeStringE: Ignoring method: Get/SetExtents\n",
      "  \u001b[31m   \u001b[0m default: , range: None\n",
      "  \u001b[31m   \u001b[0m vtkSparseArray_IaE: Ignoring method: Get/SetExtents\n",
      "  \u001b[31m   \u001b[0m default: , range: None\n",
      "  \u001b[31m   \u001b[0m vtkSparseArray_IcE: Ignoring method: Get/SetExtents\n",
      "  \u001b[31m   \u001b[0m default: , range: None\n",
      "  \u001b[31m   \u001b[0m vtkSparseArray_IdE: Ignoring method: Get/SetExtents\n",
      "  \u001b[31m   \u001b[0m default: , range: None\n",
      "  \u001b[31m   \u001b[0m vtkSparseArray_IfE: Ignoring method: Get/SetExtents\n",
      "  \u001b[31m   \u001b[0m default: , range: None\n",
      "  \u001b[31m   \u001b[0m vtkSparseArray_IhE: Ignoring method: Get/SetExtents\n",
      "  \u001b[31m   \u001b[0m default: , range: None\n",
      "  \u001b[31m   \u001b[0m vtkSparseArray_IiE: Ignoring method: Get/SetExtents\n",
      "  \u001b[31m   \u001b[0m default: , range: None\n",
      "  \u001b[31m   \u001b[0m vtkSparseArray_IjE: Ignoring method: Get/SetExtents\n",
      "  \u001b[31m   \u001b[0m default: , range: None\n",
      "  \u001b[31m   \u001b[0m vtkSparseArray_IlE: Ignoring method: Get/SetExtents\n",
      "  \u001b[31m   \u001b[0m default: , range: None\n",
      "  \u001b[31m   \u001b[0m vtkSparseArray_ImE: Ignoring method: Get/SetExtents\n",
      "  \u001b[31m   \u001b[0m default: , range: None\n",
      "  \u001b[31m   \u001b[0m vtkSparseArray_IsE: Ignoring method: Get/SetExtents\n",
      "  \u001b[31m   \u001b[0m default: , range: None\n",
      "  \u001b[31m   \u001b[0m vtkSparseArray_ItE: Ignoring method: Get/SetExtents\n",
      "  \u001b[31m   \u001b[0m default: , range: None\n",
      "  \u001b[31m   \u001b[0m vtkSparseArray_IxE: Ignoring method: Get/SetExtents\n",
      "  \u001b[31m   \u001b[0m default: , range: None\n",
      "  \u001b[31m   \u001b[0m vtkSparseArray_IyE: Ignoring method: Get/SetExtents\n",
      "  \u001b[31m   \u001b[0m default: , range: None\n",
      "  \u001b[31m   \u001b[0m vtkThresholdTable: Ignoring method: Get/SetMaxValue\n",
      "  \u001b[31m   \u001b[0m default: 2147483647, range: None\n",
      "  \u001b[31m   \u001b[0m vtkThresholdTable: Ignoring method: Get/SetMinValue\n",
      "  \u001b[31m   \u001b[0m default: 0, range: None\n",
      "  \u001b[31m   \u001b[0m vtkTransferAttributes: Ignoring method: Get/SetDefaultValue\n",
      "  \u001b[31m   \u001b[0m default: 1, range: None\n",
      "  \u001b[31m   \u001b[0m Bad to call vtkUniformHyperTreeGrid::GetXCoordinates\n",
      "  \u001b[31m   \u001b[0m Bad to call vtkUniformHyperTreeGrid::GetYCoordinates\n",
      "  \u001b[31m   \u001b[0m Bad to call vtkUniformHyperTreeGrid::GetZCoordinates\n",
      "  \u001b[31m   \u001b[0m vtkColorLegend: Ignoring method: Get/SetPosition\n",
      "  \u001b[31m   \u001b[0m default: [0.0, 0.0, 0.0, 0.0], range: None\n",
      "  \u001b[31m   \u001b[0m Warning: We cannot determine the trait type of vtkImageMask.MaskedOutputValue\n",
      "  \u001b[31m   \u001b[0m vtkMolecule: Ignoring method: Get/SetLatticeOrigin\n",
      "  \u001b[31m   \u001b[0m default: [0.0, 0.0, 0.0], range: None\n",
      "  \u001b[31m   \u001b[0m vtkPOpenFOAMReader: Ignoring method: Get/SetCaseType\n",
      "  \u001b[31m   \u001b[0m default: 1, range: None\n",
      "  \u001b[31m   \u001b[0m vtkPlotHistogram2D: Ignoring method: Get/SetPosition\n",
      "  \u001b[31m   \u001b[0m default: [0.0, 0.0, 0.0, 0.0], range: None\n",
      "  \u001b[31m   \u001b[0m \u001b[0m\u001b[33m2022-02-28 14:11:42.088 (   7.472s) [        B67A4240] vtkDataObjectTypes.cxx:280   WARN| 'NewDataObject' cannot create 'vtkCompositeDataSet'.\u001b[0m\n",
      "  \u001b[31m   \u001b[0m Warning: We cannot determine the trait type of vtkGraphMapper.IconSize\n",
      "  \u001b[31m   \u001b[0m vtkOpenGLFluidMapper: Ignoring method: Get/SetDisplayMode\n",
      "  \u001b[31m   \u001b[0m default: 4, range: None\n",
      "  \u001b[31m   \u001b[0m vtkOpenGLFluidMapper: Ignoring method: Get/SetSurfaceFilterMethod\n",
      "  \u001b[31m   \u001b[0m default: 1, range: None\n",
      "  \u001b[31m   \u001b[0m vtkSmartVolumeMapper: VectorComponent not updatable (VTK 8.x bug - value not properly initialized)\n",
      "  \u001b[31m   \u001b[0m Done.\n",
      "  \u001b[31m   \u001b[0m ----------------------------------------------------------------------\n",
      "  \u001b[31m   \u001b[0m running config_cc\n",
      "  \u001b[31m   \u001b[0m unifing config_cc, config, build_clib, build_ext, build commands --compiler options\n",
      "  \u001b[31m   \u001b[0m running config_fc\n",
      "  \u001b[31m   \u001b[0m unifing config_fc, config, build_clib, build_ext, build commands --fcompiler options\n",
      "  \u001b[31m   \u001b[0m running build_src\n",
      "  \u001b[31m   \u001b[0m build_src\n",
      "  \u001b[31m   \u001b[0m building extension \"tvtk.array_ext\" sources\n",
      "  \u001b[31m   \u001b[0m building data_files sources\n",
      "  \u001b[31m   \u001b[0m build_src: building npy-pkg config files\n",
      "  \u001b[31m   \u001b[0m running build_py\n",
      "  \u001b[31m   \u001b[0m creating build\n",
      "  \u001b[31m   \u001b[0m creating build/lib.linux-x86_64-3.7\n",
      "  \u001b[31m   \u001b[0m creating build/lib.linux-x86_64-3.7/tvtk\n",
      "  \u001b[31m   \u001b[0m copying tvtk/__init__.py -> build/lib.linux-x86_64-3.7/tvtk\n",
      "  \u001b[31m   \u001b[0m copying tvtk/code_gen.py -> build/lib.linux-x86_64-3.7/tvtk\n",
      "  \u001b[31m   \u001b[0m copying tvtk/misc.py -> build/lib.linux-x86_64-3.7/tvtk\n",
      "  \u001b[31m   \u001b[0m copying tvtk/vtk_parser.py -> build/lib.linux-x86_64-3.7/tvtk\n",
      "  \u001b[31m   \u001b[0m copying tvtk/api.py -> build/lib.linux-x86_64-3.7/tvtk\n",
      "  \u001b[31m   \u001b[0m copying tvtk/array_handler.py -> build/lib.linux-x86_64-3.7/tvtk\n",
      "  \u001b[31m   \u001b[0m copying tvtk/tvtk_base.py -> build/lib.linux-x86_64-3.7/tvtk\n",
      "  \u001b[31m   \u001b[0m copying tvtk/setup.py -> build/lib.linux-x86_64-3.7/tvtk\n",
      "  \u001b[31m   \u001b[0m copying tvtk/common.py -> build/lib.linux-x86_64-3.7/tvtk\n",
      "  \u001b[31m   \u001b[0m copying tvtk/tvtk_access.py -> build/lib.linux-x86_64-3.7/tvtk\n",
      "  \u001b[31m   \u001b[0m copying tvtk/indenter.py -> build/lib.linux-x86_64-3.7/tvtk\n",
      "  \u001b[31m   \u001b[0m copying tvtk/special_gen.py -> build/lib.linux-x86_64-3.7/tvtk\n",
      "  \u001b[31m   \u001b[0m copying tvtk/wrapper_gen.py -> build/lib.linux-x86_64-3.7/tvtk\n",
      "  \u001b[31m   \u001b[0m copying tvtk/version.py -> build/lib.linux-x86_64-3.7/tvtk\n",
      "  \u001b[31m   \u001b[0m copying tvtk/class_tree.py -> build/lib.linux-x86_64-3.7/tvtk\n",
      "  \u001b[31m   \u001b[0m copying tvtk/vtk_module.py -> build/lib.linux-x86_64-3.7/tvtk\n",
      "  \u001b[31m   \u001b[0m copying tvtk/value_column.py -> build/lib.linux-x86_64-3.7/tvtk\n",
      "  \u001b[31m   \u001b[0m copying tvtk/tvtk_base_handler.py -> build/lib.linux-x86_64-3.7/tvtk\n",
      "  \u001b[31m   \u001b[0m copying tvtk/messenger.py -> build/lib.linux-x86_64-3.7/tvtk\n",
      "  \u001b[31m   \u001b[0m creating build/lib.linux-x86_64-3.7/tvtk/custom\n",
      "  \u001b[31m   \u001b[0m copying tvtk/custom/__init__.py -> build/lib.linux-x86_64-3.7/tvtk/custom\n",
      "  \u001b[31m   \u001b[0m creating build/lib.linux-x86_64-3.7/tvtk/pipeline\n",
      "  \u001b[31m   \u001b[0m copying tvtk/pipeline/__init__.py -> build/lib.linux-x86_64-3.7/tvtk/pipeline\n",
      "  \u001b[31m   \u001b[0m copying tvtk/pipeline/browser.py -> build/lib.linux-x86_64-3.7/tvtk/pipeline\n",
      "  \u001b[31m   \u001b[0m creating build/lib.linux-x86_64-3.7/tvtk/pyface\n",
      "  \u001b[31m   \u001b[0m copying tvtk/pyface/__init__.py -> build/lib.linux-x86_64-3.7/tvtk/pyface\n",
      "  \u001b[31m   \u001b[0m copying tvtk/pyface/movie_maker.py -> build/lib.linux-x86_64-3.7/tvtk/pyface\n",
      "  \u001b[31m   \u001b[0m copying tvtk/pyface/scene_model.py -> build/lib.linux-x86_64-3.7/tvtk/pyface\n",
      "  \u001b[31m   \u001b[0m copying tvtk/pyface/actor_model.py -> build/lib.linux-x86_64-3.7/tvtk/pyface\n",
      "  \u001b[31m   \u001b[0m copying tvtk/pyface/api.py -> build/lib.linux-x86_64-3.7/tvtk/pyface\n",
      "  \u001b[31m   \u001b[0m copying tvtk/pyface/decorated_scene.py -> build/lib.linux-x86_64-3.7/tvtk/pyface\n",
      "  \u001b[31m   \u001b[0m copying tvtk/pyface/actor_editor.py -> build/lib.linux-x86_64-3.7/tvtk/pyface\n",
      "  \u001b[31m   \u001b[0m copying tvtk/pyface/light_manager.py -> build/lib.linux-x86_64-3.7/tvtk/pyface\n",
      "  \u001b[31m   \u001b[0m copying tvtk/pyface/utils.py -> build/lib.linux-x86_64-3.7/tvtk/pyface\n",
      "  \u001b[31m   \u001b[0m copying tvtk/pyface/actors.py -> build/lib.linux-x86_64-3.7/tvtk/pyface\n",
      "  \u001b[31m   \u001b[0m copying tvtk/pyface/picker.py -> build/lib.linux-x86_64-3.7/tvtk/pyface\n",
      "  \u001b[31m   \u001b[0m copying tvtk/pyface/scene.py -> build/lib.linux-x86_64-3.7/tvtk/pyface\n",
      "  \u001b[31m   \u001b[0m copying tvtk/pyface/tvtk_scene.py -> build/lib.linux-x86_64-3.7/tvtk/pyface\n",
      "  \u001b[31m   \u001b[0m copying tvtk/pyface/toolkit.py -> build/lib.linux-x86_64-3.7/tvtk/pyface\n",
      "  \u001b[31m   \u001b[0m copying tvtk/pyface/scene_editor.py -> build/lib.linux-x86_64-3.7/tvtk/pyface\n",
      "  \u001b[31m   \u001b[0m creating build/lib.linux-x86_64-3.7/tvtk/pyface/ui\n",
      "  \u001b[31m   \u001b[0m copying tvtk/pyface/ui/__init__.py -> build/lib.linux-x86_64-3.7/tvtk/pyface/ui\n",
      "  \u001b[31m   \u001b[0m creating build/lib.linux-x86_64-3.7/tvtk/pyface/ui/null\n",
      "  \u001b[31m   \u001b[0m copying tvtk/pyface/ui/null/__init__.py -> build/lib.linux-x86_64-3.7/tvtk/pyface/ui/null\n",
      "  \u001b[31m   \u001b[0m copying tvtk/pyface/ui/null/init.py -> build/lib.linux-x86_64-3.7/tvtk/pyface/ui/null\n",
      "  \u001b[31m   \u001b[0m creating build/lib.linux-x86_64-3.7/tvtk/pyface/ui/qt4\n",
      "  \u001b[31m   \u001b[0m copying tvtk/pyface/ui/qt4/__init__.py -> build/lib.linux-x86_64-3.7/tvtk/pyface/ui/qt4\n",
      "  \u001b[31m   \u001b[0m copying tvtk/pyface/ui/qt4/init.py -> build/lib.linux-x86_64-3.7/tvtk/pyface/ui/qt4\n",
      "  \u001b[31m   \u001b[0m copying tvtk/pyface/ui/qt4/QVTKRenderWindowInteractor.py -> build/lib.linux-x86_64-3.7/tvtk/pyface/ui/qt4\n",
      "  \u001b[31m   \u001b[0m copying tvtk/pyface/ui/qt4/decorated_scene.py -> build/lib.linux-x86_64-3.7/tvtk/pyface/ui/qt4\n",
      "  \u001b[31m   \u001b[0m copying tvtk/pyface/ui/qt4/actor_editor.py -> build/lib.linux-x86_64-3.7/tvtk/pyface/ui/qt4\n",
      "  \u001b[31m   \u001b[0m copying tvtk/pyface/ui/qt4/scene.py -> build/lib.linux-x86_64-3.7/tvtk/pyface/ui/qt4\n",
      "  \u001b[31m   \u001b[0m copying tvtk/pyface/ui/qt4/scene_editor.py -> build/lib.linux-x86_64-3.7/tvtk/pyface/ui/qt4\n",
      "  \u001b[31m   \u001b[0m creating build/lib.linux-x86_64-3.7/tvtk/pyface/ui/wx\n",
      "  \u001b[31m   \u001b[0m copying tvtk/pyface/ui/wx/__init__.py -> build/lib.linux-x86_64-3.7/tvtk/pyface/ui/wx\n",
      "  \u001b[31m   \u001b[0m copying tvtk/pyface/ui/wx/init.py -> build/lib.linux-x86_64-3.7/tvtk/pyface/ui/wx\n",
      "  \u001b[31m   \u001b[0m copying tvtk/pyface/ui/wx/decorated_scene.py -> build/lib.linux-x86_64-3.7/tvtk/pyface/ui/wx\n",
      "  \u001b[31m   \u001b[0m copying tvtk/pyface/ui/wx/actor_editor.py -> build/lib.linux-x86_64-3.7/tvtk/pyface/ui/wx\n",
      "  \u001b[31m   \u001b[0m copying tvtk/pyface/ui/wx/wxVTKRenderWindowInteractor.py -> build/lib.linux-x86_64-3.7/tvtk/pyface/ui/wx\n",
      "  \u001b[31m   \u001b[0m copying tvtk/pyface/ui/wx/scene.py -> build/lib.linux-x86_64-3.7/tvtk/pyface/ui/wx\n",
      "  \u001b[31m   \u001b[0m copying tvtk/pyface/ui/wx/scene_editor.py -> build/lib.linux-x86_64-3.7/tvtk/pyface/ui/wx\n",
      "  \u001b[31m   \u001b[0m creating build/lib.linux-x86_64-3.7/tvtk/view\n",
      "  \u001b[31m   \u001b[0m copying tvtk/view/__init__.py -> build/lib.linux-x86_64-3.7/tvtk/view\n",
      "  \u001b[31m   \u001b[0m copying tvtk/view/parametric_function_source_view.py -> build/lib.linux-x86_64-3.7/tvtk/view\n",
      "  \u001b[31m   \u001b[0m creating build/lib.linux-x86_64-3.7/tvtk/plugins\n",
      "  \u001b[31m   \u001b[0m copying tvtk/plugins/__init__.py -> build/lib.linux-x86_64-3.7/tvtk/plugins\n",
      "  \u001b[31m   \u001b[0m creating build/lib.linux-x86_64-3.7/tvtk/plugins/browser\n",
      "  \u001b[31m   \u001b[0m copying tvtk/plugins/browser/__init__.py -> build/lib.linux-x86_64-3.7/tvtk/plugins/browser\n",
      "  \u001b[31m   \u001b[0m copying tvtk/plugins/browser/browser_view.py -> build/lib.linux-x86_64-3.7/tvtk/plugins/browser\n",
      "  \u001b[31m   \u001b[0m copying tvtk/plugins/browser/browser_plugin.py -> build/lib.linux-x86_64-3.7/tvtk/plugins/browser\n",
      "  \u001b[31m   \u001b[0m creating build/lib.linux-x86_64-3.7/tvtk/plugins/scene\n",
      "  \u001b[31m   \u001b[0m copying tvtk/plugins/scene/__init__.py -> build/lib.linux-x86_64-3.7/tvtk/plugins/scene\n",
      "  \u001b[31m   \u001b[0m copying tvtk/plugins/scene/scene_plugin.py -> build/lib.linux-x86_64-3.7/tvtk/plugins/scene\n",
      "  \u001b[31m   \u001b[0m copying tvtk/plugins/scene/scene_manager.py -> build/lib.linux-x86_64-3.7/tvtk/plugins/scene\n",
      "  \u001b[31m   \u001b[0m copying tvtk/plugins/scene/i_scene_manager.py -> build/lib.linux-x86_64-3.7/tvtk/plugins/scene\n",
      "  \u001b[31m   \u001b[0m copying tvtk/plugins/scene/scene_editor.py -> build/lib.linux-x86_64-3.7/tvtk/plugins/scene\n",
      "  \u001b[31m   \u001b[0m creating build/lib.linux-x86_64-3.7/tvtk/plugins/scene/ui\n",
      "  \u001b[31m   \u001b[0m copying tvtk/plugins/scene/ui/__init__.py -> build/lib.linux-x86_64-3.7/tvtk/plugins/scene/ui\n",
      "  \u001b[31m   \u001b[0m copying tvtk/plugins/scene/ui/actions.py -> build/lib.linux-x86_64-3.7/tvtk/plugins/scene/ui\n",
      "  \u001b[31m   \u001b[0m copying tvtk/plugins/scene/ui/scene_preferences_page.py -> build/lib.linux-x86_64-3.7/tvtk/plugins/scene/ui\n",
      "  \u001b[31m   \u001b[0m copying tvtk/plugins/scene/ui/scene_ui_action_set.py -> build/lib.linux-x86_64-3.7/tvtk/plugins/scene/ui\n",
      "  \u001b[31m   \u001b[0m copying tvtk/plugins/scene/ui/scene_ui_plugin.py -> build/lib.linux-x86_64-3.7/tvtk/plugins/scene/ui\n",
      "  \u001b[31m   \u001b[0m creating build/lib.linux-x86_64-3.7/tvtk/tools\n",
      "  \u001b[31m   \u001b[0m copying tvtk/tools/__init__.py -> build/lib.linux-x86_64-3.7/tvtk/tools\n",
      "  \u001b[31m   \u001b[0m copying tvtk/tools/ivtk.py -> build/lib.linux-x86_64-3.7/tvtk/tools\n",
      "  \u001b[31m   \u001b[0m copying tvtk/tools/mlab.py -> build/lib.linux-x86_64-3.7/tvtk/tools\n",
      "  \u001b[31m   \u001b[0m copying tvtk/tools/tvtk_doc.py -> build/lib.linux-x86_64-3.7/tvtk/tools\n",
      "  \u001b[31m   \u001b[0m copying tvtk/tools/visual.py -> build/lib.linux-x86_64-3.7/tvtk/tools\n",
      "  \u001b[31m   \u001b[0m creating build/lib.linux-x86_64-3.7/tvtk/util\n",
      "  \u001b[31m   \u001b[0m copying tvtk/util/__init__.py -> build/lib.linux-x86_64-3.7/tvtk/util\n",
      "  \u001b[31m   \u001b[0m copying tvtk/util/qt_gradient_editor.py -> build/lib.linux-x86_64-3.7/tvtk/util\n",
      "  \u001b[31m   \u001b[0m copying tvtk/util/ctf.py -> build/lib.linux-x86_64-3.7/tvtk/util\n",
      "  \u001b[31m   \u001b[0m copying tvtk/util/wx_gradient_editor.py -> build/lib.linux-x86_64-3.7/tvtk/util\n",
      "  \u001b[31m   \u001b[0m copying tvtk/util/tk_gradient_editor.py -> build/lib.linux-x86_64-3.7/tvtk/util\n",
      "  \u001b[31m   \u001b[0m copying tvtk/util/gradient_editor.py -> build/lib.linux-x86_64-3.7/tvtk/util\n",
      "  \u001b[31m   \u001b[0m copying tvtk/util/traitsui_gradient_editor.py -> build/lib.linux-x86_64-3.7/tvtk/util\n",
      "  \u001b[31m   \u001b[0m creating build/lib.linux-x86_64-3.7/tvtk/tests\n",
      "  \u001b[31m   \u001b[0m copying tvtk/tests/test_wrapper_gen.py -> build/lib.linux-x86_64-3.7/tvtk/tests\n",
      "  \u001b[31m   \u001b[0m copying tvtk/tests/__init__.py -> build/lib.linux-x86_64-3.7/tvtk/tests\n",
      "  \u001b[31m   \u001b[0m copying tvtk/tests/test_tvtk_base.py -> build/lib.linux-x86_64-3.7/tvtk/tests\n",
      "  \u001b[31m   \u001b[0m copying tvtk/tests/test_array_handler.py -> build/lib.linux-x86_64-3.7/tvtk/tests\n",
      "  \u001b[31m   \u001b[0m copying tvtk/tests/test_misc.py -> build/lib.linux-x86_64-3.7/tvtk/tests\n",
      "  \u001b[31m   \u001b[0m copying tvtk/tests/test_ctf_util.py -> build/lib.linux-x86_64-3.7/tvtk/tests\n",
      "  \u001b[31m   \u001b[0m copying tvtk/tests/test_messenger.py -> build/lib.linux-x86_64-3.7/tvtk/tests\n",
      "  \u001b[31m   \u001b[0m copying tvtk/tests/test_tvtk_scene.py -> build/lib.linux-x86_64-3.7/tvtk/tests\n",
      "  \u001b[31m   \u001b[0m copying tvtk/tests/test_indenter.py -> build/lib.linux-x86_64-3.7/tvtk/tests\n",
      "  \u001b[31m   \u001b[0m copying tvtk/tests/test_tvtk.py -> build/lib.linux-x86_64-3.7/tvtk/tests\n",
      "  \u001b[31m   \u001b[0m copying tvtk/tests/test_pyface_utils.py -> build/lib.linux-x86_64-3.7/tvtk/tests\n",
      "  \u001b[31m   \u001b[0m copying tvtk/tests/test_visual.py -> build/lib.linux-x86_64-3.7/tvtk/tests\n",
      "  \u001b[31m   \u001b[0m copying tvtk/tests/common.py -> build/lib.linux-x86_64-3.7/tvtk/tests\n",
      "  \u001b[31m   \u001b[0m copying tvtk/tests/test_movie_maker.py -> build/lib.linux-x86_64-3.7/tvtk/tests\n",
      "  \u001b[31m   \u001b[0m copying tvtk/tests/test_class_tree.py -> build/lib.linux-x86_64-3.7/tvtk/tests\n",
      "  \u001b[31m   \u001b[0m copying tvtk/tests/test_browser.py -> build/lib.linux-x86_64-3.7/tvtk/tests\n",
      "  \u001b[31m   \u001b[0m copying tvtk/tests/test_array_ext.py -> build/lib.linux-x86_64-3.7/tvtk/tests\n",
      "  \u001b[31m   \u001b[0m copying tvtk/tests/test_garbage_collection.py -> build/lib.linux-x86_64-3.7/tvtk/tests\n",
      "  \u001b[31m   \u001b[0m copying tvtk/tests/test_vtk_parser.py -> build/lib.linux-x86_64-3.7/tvtk/tests\n",
      "  \u001b[31m   \u001b[0m creating build/lib.linux-x86_64-3.7/mayavi\n",
      "  \u001b[31m   \u001b[0m copying mayavi/__init__.py -> build/lib.linux-x86_64-3.7/mayavi\n",
      "  \u001b[31m   \u001b[0m copying mayavi/__version__.py -> build/lib.linux-x86_64-3.7/mayavi\n",
      "  \u001b[31m   \u001b[0m copying mayavi/api.py -> build/lib.linux-x86_64-3.7/mayavi\n",
      "  \u001b[31m   \u001b[0m copying mayavi/mlab.py -> build/lib.linux-x86_64-3.7/mayavi\n",
      "  \u001b[31m   \u001b[0m copying mayavi/version.py -> build/lib.linux-x86_64-3.7/mayavi\n",
      "  \u001b[31m   \u001b[0m creating build/lib.linux-x86_64-3.7/mayavi/action\n",
      "  \u001b[31m   \u001b[0m copying mayavi/action/__init__.py -> build/lib.linux-x86_64-3.7/mayavi/action\n",
      "  \u001b[31m   \u001b[0m copying mayavi/action/sources.py -> build/lib.linux-x86_64-3.7/mayavi/action\n",
      "  \u001b[31m   \u001b[0m copying mayavi/action/filters.py -> build/lib.linux-x86_64-3.7/mayavi/action\n",
      "  \u001b[31m   \u001b[0m copying mayavi/action/help.py -> build/lib.linux-x86_64-3.7/mayavi/action\n",
      "  \u001b[31m   \u001b[0m copying mayavi/action/modules.py -> build/lib.linux-x86_64-3.7/mayavi/action\n",
      "  \u001b[31m   \u001b[0m copying mayavi/action/save_load.py -> build/lib.linux-x86_64-3.7/mayavi/action\n",
      "  \u001b[31m   \u001b[0m creating build/lib.linux-x86_64-3.7/mayavi/modules\n",
      "  \u001b[31m   \u001b[0m copying mayavi/modules/__init__.py -> build/lib.linux-x86_64-3.7/mayavi/modules\n",
      "  \u001b[31m   \u001b[0m copying mayavi/modules/grid_plane.py -> build/lib.linux-x86_64-3.7/mayavi/modules\n",
      "  \u001b[31m   \u001b[0m copying mayavi/modules/image_plane_widget.py -> build/lib.linux-x86_64-3.7/mayavi/modules\n",
      "  \u001b[31m   \u001b[0m copying mayavi/modules/outline.py -> build/lib.linux-x86_64-3.7/mayavi/modules\n",
      "  \u001b[31m   \u001b[0m copying mayavi/modules/text.py -> build/lib.linux-x86_64-3.7/mayavi/modules\n",
      "  \u001b[31m   \u001b[0m copying mayavi/modules/vector_cut_plane.py -> build/lib.linux-x86_64-3.7/mayavi/modules\n",
      "  \u001b[31m   \u001b[0m copying mayavi/modules/streamline.py -> build/lib.linux-x86_64-3.7/mayavi/modules\n",
      "  \u001b[31m   \u001b[0m copying mayavi/modules/skeleton_module.py -> build/lib.linux-x86_64-3.7/mayavi/modules\n",
      "  \u001b[31m   \u001b[0m copying mayavi/modules/vectors.py -> build/lib.linux-x86_64-3.7/mayavi/modules\n",
      "  \u001b[31m   \u001b[0m copying mayavi/modules/volume.py -> build/lib.linux-x86_64-3.7/mayavi/modules\n",
      "  \u001b[31m   \u001b[0m copying mayavi/modules/iso_surface.py -> build/lib.linux-x86_64-3.7/mayavi/modules\n",
      "  \u001b[31m   \u001b[0m copying mayavi/modules/axes.py -> build/lib.linux-x86_64-3.7/mayavi/modules\n",
      "  \u001b[31m   \u001b[0m copying mayavi/modules/text3d.py -> build/lib.linux-x86_64-3.7/mayavi/modules\n",
      "  \u001b[31m   \u001b[0m copying mayavi/modules/glyph.py -> build/lib.linux-x86_64-3.7/mayavi/modules\n",
      "  \u001b[31m   \u001b[0m copying mayavi/modules/scalar_cut_plane.py -> build/lib.linux-x86_64-3.7/mayavi/modules\n",
      "  \u001b[31m   \u001b[0m copying mayavi/modules/orientation_axes.py -> build/lib.linux-x86_64-3.7/mayavi/modules\n",
      "  \u001b[31m   \u001b[0m copying mayavi/modules/api.py -> build/lib.linux-x86_64-3.7/mayavi/modules\n",
      "  \u001b[31m   \u001b[0m copying mayavi/modules/custom_grid_plane.py -> build/lib.linux-x86_64-3.7/mayavi/modules\n",
      "  \u001b[31m   \u001b[0m copying mayavi/modules/structured_grid_outline.py -> build/lib.linux-x86_64-3.7/mayavi/modules\n",
      "  \u001b[31m   \u001b[0m copying mayavi/modules/generic_module.py -> build/lib.linux-x86_64-3.7/mayavi/modules\n",
      "  \u001b[31m   \u001b[0m copying mayavi/modules/hyper_streamline.py -> build/lib.linux-x86_64-3.7/mayavi/modules\n",
      "  \u001b[31m   \u001b[0m copying mayavi/modules/tensor_glyph.py -> build/lib.linux-x86_64-3.7/mayavi/modules\n",
      "  \u001b[31m   \u001b[0m copying mayavi/modules/warp_vector_cut_plane.py -> build/lib.linux-x86_64-3.7/mayavi/modules\n",
      "  \u001b[31m   \u001b[0m copying mayavi/modules/contour_grid_plane.py -> build/lib.linux-x86_64-3.7/mayavi/modules\n",
      "  \u001b[31m   \u001b[0m copying mayavi/modules/slice_unstructured_grid.py -> build/lib.linux-x86_64-3.7/mayavi/modules\n",
      "  \u001b[31m   \u001b[0m copying mayavi/modules/surface.py -> build/lib.linux-x86_64-3.7/mayavi/modules\n",
      "  \u001b[31m   \u001b[0m copying mayavi/modules/image_actor.py -> build/lib.linux-x86_64-3.7/mayavi/modules\n",
      "  \u001b[31m   \u001b[0m copying mayavi/modules/labels.py -> build/lib.linux-x86_64-3.7/mayavi/modules\n",
      "  \u001b[31m   \u001b[0m copying mayavi/modules/metadata.py -> build/lib.linux-x86_64-3.7/mayavi/modules\n",
      "  \u001b[31m   \u001b[0m creating build/lib.linux-x86_64-3.7/mayavi/plugins\n",
      "  \u001b[31m   \u001b[0m copying mayavi/plugins/__init__.py -> build/lib.linux-x86_64-3.7/mayavi/plugins\n",
      "  \u001b[31m   \u001b[0m copying mayavi/plugins/script.py -> build/lib.linux-x86_64-3.7/mayavi/plugins\n",
      "  \u001b[31m   \u001b[0m copying mayavi/plugins/mayavi_ui_action_set.py -> build/lib.linux-x86_64-3.7/mayavi/plugins\n",
      "  \u001b[31m   \u001b[0m copying mayavi/plugins/mayavi_plugin.py -> build/lib.linux-x86_64-3.7/mayavi/plugins\n",
      "  \u001b[31m   \u001b[0m copying mayavi/plugins/mayavi_workbench_application.py -> build/lib.linux-x86_64-3.7/mayavi/plugins\n",
      "  \u001b[31m   \u001b[0m copying mayavi/plugins/envisage_engine.py -> build/lib.linux-x86_64-3.7/mayavi/plugins\n",
      "  \u001b[31m   \u001b[0m copying mayavi/plugins/app.py -> build/lib.linux-x86_64-3.7/mayavi/plugins\n",
      "  \u001b[31m   \u001b[0m copying mayavi/plugins/mayavi_ui_plugin.py -> build/lib.linux-x86_64-3.7/mayavi/plugins\n",
      "  \u001b[31m   \u001b[0m creating build/lib.linux-x86_64-3.7/mayavi/sources\n",
      "  \u001b[31m   \u001b[0m copying mayavi/sources/__init__.py -> build/lib.linux-x86_64-3.7/mayavi/sources\n",
      "  \u001b[31m   \u001b[0m copying mayavi/sources/chaco_reader.py -> build/lib.linux-x86_64-3.7/mayavi/sources\n",
      "  \u001b[31m   \u001b[0m copying mayavi/sources/image_reader.py -> build/lib.linux-x86_64-3.7/mayavi/sources\n",
      "  \u001b[31m   \u001b[0m copying mayavi/sources/three_ds_importer.py -> build/lib.linux-x86_64-3.7/mayavi/sources\n",
      "  \u001b[31m   \u001b[0m copying mayavi/sources/poly_data_reader.py -> build/lib.linux-x86_64-3.7/mayavi/sources\n",
      "  \u001b[31m   \u001b[0m copying mayavi/sources/parametric_surface.py -> build/lib.linux-x86_64-3.7/mayavi/sources\n",
      "  \u001b[31m   \u001b[0m copying mayavi/sources/builtin_surface.py -> build/lib.linux-x86_64-3.7/mayavi/sources\n",
      "  \u001b[31m   \u001b[0m copying mayavi/sources/unstructured_grid_reader.py -> build/lib.linux-x86_64-3.7/mayavi/sources\n",
      "  \u001b[31m   \u001b[0m copying mayavi/sources/vtk_xml_file_reader.py -> build/lib.linux-x86_64-3.7/mayavi/sources\n",
      "  \u001b[31m   \u001b[0m copying mayavi/sources/api.py -> build/lib.linux-x86_64-3.7/mayavi/sources\n",
      "  \u001b[31m   \u001b[0m copying mayavi/sources/vtk_object_source.py -> build/lib.linux-x86_64-3.7/mayavi/sources\n",
      "  \u001b[31m   \u001b[0m copying mayavi/sources/vtk_data_source.py -> build/lib.linux-x86_64-3.7/mayavi/sources\n",
      "  \u001b[31m   \u001b[0m copying mayavi/sources/vtk_file_reader.py -> build/lib.linux-x86_64-3.7/mayavi/sources\n",
      "  \u001b[31m   \u001b[0m copying mayavi/sources/utils.py -> build/lib.linux-x86_64-3.7/mayavi/sources\n",
      "  \u001b[31m   \u001b[0m copying mayavi/sources/plot3d_reader.py -> build/lib.linux-x86_64-3.7/mayavi/sources\n",
      "  \u001b[31m   \u001b[0m copying mayavi/sources/array_source.py -> build/lib.linux-x86_64-3.7/mayavi/sources\n",
      "  \u001b[31m   \u001b[0m copying mayavi/sources/volume_reader.py -> build/lib.linux-x86_64-3.7/mayavi/sources\n",
      "  \u001b[31m   \u001b[0m copying mayavi/sources/vrml_importer.py -> build/lib.linux-x86_64-3.7/mayavi/sources\n",
      "  \u001b[31m   \u001b[0m copying mayavi/sources/point_load.py -> build/lib.linux-x86_64-3.7/mayavi/sources\n",
      "  \u001b[31m   \u001b[0m copying mayavi/sources/builtin_image.py -> build/lib.linux-x86_64-3.7/mayavi/sources\n",
      "  \u001b[31m   \u001b[0m copying mayavi/sources/metadata.py -> build/lib.linux-x86_64-3.7/mayavi/sources\n",
      "  \u001b[31m   \u001b[0m creating build/lib.linux-x86_64-3.7/mayavi/scripts\n",
      "  \u001b[31m   \u001b[0m copying mayavi/scripts/__init__.py -> build/lib.linux-x86_64-3.7/mayavi/scripts\n",
      "  \u001b[31m   \u001b[0m copying mayavi/scripts/mayavi2.py -> build/lib.linux-x86_64-3.7/mayavi/scripts\n",
      "  \u001b[31m   \u001b[0m copying mayavi/scripts/util.py -> build/lib.linux-x86_64-3.7/mayavi/scripts\n",
      "  \u001b[31m   \u001b[0m creating build/lib.linux-x86_64-3.7/mayavi/components\n",
      "  \u001b[31m   \u001b[0m copying mayavi/components/__init__.py -> build/lib.linux-x86_64-3.7/mayavi/components\n",
      "  \u001b[31m   \u001b[0m copying mayavi/components/grid_plane.py -> build/lib.linux-x86_64-3.7/mayavi/components\n",
      "  \u001b[31m   \u001b[0m copying mayavi/components/source_widget.py -> build/lib.linux-x86_64-3.7/mayavi/components\n",
      "  \u001b[31m   \u001b[0m copying mayavi/components/optional.py -> build/lib.linux-x86_64-3.7/mayavi/components\n",
      "  \u001b[31m   \u001b[0m copying mayavi/components/glyph.py -> build/lib.linux-x86_64-3.7/mayavi/components\n",
      "  \u001b[31m   \u001b[0m copying mayavi/components/custom_grid_plane.py -> build/lib.linux-x86_64-3.7/mayavi/components\n",
      "  \u001b[31m   \u001b[0m copying mayavi/components/glyph_source.py -> build/lib.linux-x86_64-3.7/mayavi/components\n",
      "  \u001b[31m   \u001b[0m copying mayavi/components/common.py -> build/lib.linux-x86_64-3.7/mayavi/components\n",
      "  \u001b[31m   \u001b[0m copying mayavi/components/contour.py -> build/lib.linux-x86_64-3.7/mayavi/components\n",
      "  \u001b[31m   \u001b[0m copying mayavi/components/actor2d.py -> build/lib.linux-x86_64-3.7/mayavi/components\n",
      "  \u001b[31m   \u001b[0m copying mayavi/components/implicit_plane.py -> build/lib.linux-x86_64-3.7/mayavi/components\n",
      "  \u001b[31m   \u001b[0m copying mayavi/components/implicit_widgets.py -> build/lib.linux-x86_64-3.7/mayavi/components\n",
      "  \u001b[31m   \u001b[0m copying mayavi/components/actor.py -> build/lib.linux-x86_64-3.7/mayavi/components\n",
      "  \u001b[31m   \u001b[0m copying mayavi/components/cutter.py -> build/lib.linux-x86_64-3.7/mayavi/components\n",
      "  \u001b[31m   \u001b[0m copying mayavi/components/poly_data_normals.py -> build/lib.linux-x86_64-3.7/mayavi/components\n",
      "  \u001b[31m   \u001b[0m creating build/lib.linux-x86_64-3.7/mayavi/tests\n",
      "  \u001b[31m   \u001b[0m copying mayavi/tests/__init__.py -> build/lib.linux-x86_64-3.7/mayavi/tests\n",
      "  \u001b[31m   \u001b[0m copying mayavi/tests/test_sources.py -> build/lib.linux-x86_64-3.7/mayavi/tests\n",
      "  \u001b[31m   \u001b[0m copying mayavi/tests/test_mlab_scene_model.py -> build/lib.linux-x86_64-3.7/mayavi/tests\n",
      "  \u001b[31m   \u001b[0m copying mayavi/tests/test_mlab_source_integration.py -> build/lib.linux-x86_64-3.7/mayavi/tests\n",
      "  \u001b[31m   \u001b[0m copying mayavi/tests/test_glyph.py -> build/lib.linux-x86_64-3.7/mayavi/tests\n",
      "  \u001b[31m   \u001b[0m copying mayavi/tests/runtests.py -> build/lib.linux-x86_64-3.7/mayavi/tests\n",
      "  \u001b[31m   \u001b[0m copying mayavi/tests/test_extract_grid_filter.py -> build/lib.linux-x86_64-3.7/mayavi/tests\n",
      "  \u001b[31m   \u001b[0m copying mayavi/tests/test_mlab_null_engine.py -> build/lib.linux-x86_64-3.7/mayavi/tests\n",
      "  \u001b[31m   \u001b[0m copying mayavi/tests/test_no_ui_toolkit.py -> build/lib.linux-x86_64-3.7/mayavi/tests\n",
      "  \u001b[31m   \u001b[0m copying mayavi/tests/test_core_common.py -> build/lib.linux-x86_64-3.7/mayavi/tests\n",
      "  \u001b[31m   \u001b[0m copying mayavi/tests/test_registry.py -> build/lib.linux-x86_64-3.7/mayavi/tests\n",
      "  \u001b[31m   \u001b[0m copying mayavi/tests/test_pipeline_info.py -> build/lib.linux-x86_64-3.7/mayavi/tests\n",
      "  \u001b[31m   \u001b[0m copying mayavi/tests/test_vtk_xml_reader.py -> build/lib.linux-x86_64-3.7/mayavi/tests\n",
      "  \u001b[31m   \u001b[0m copying mayavi/tests/test_image_data_reader.py -> build/lib.linux-x86_64-3.7/mayavi/tests\n",
      "  \u001b[31m   \u001b[0m copying mayavi/tests/test_recorder.py -> build/lib.linux-x86_64-3.7/mayavi/tests\n",
      "  \u001b[31m   \u001b[0m copying mayavi/tests/test_engine_manager.py -> build/lib.linux-x86_64-3.7/mayavi/tests\n",
      "  \u001b[31m   \u001b[0m copying mayavi/tests/test_mlab_integration.py -> build/lib.linux-x86_64-3.7/mayavi/tests\n",
      "  \u001b[31m   \u001b[0m copying mayavi/tests/test_customize.py -> build/lib.linux-x86_64-3.7/mayavi/tests\n",
      "  \u001b[31m   \u001b[0m copying mayavi/tests/test_contour.py -> build/lib.linux-x86_64-3.7/mayavi/tests\n",
      "  \u001b[31m   \u001b[0m copying mayavi/tests/test_optional_collection.py -> build/lib.linux-x86_64-3.7/mayavi/tests\n",
      "  \u001b[31m   \u001b[0m copying mayavi/tests/test_vtk_object_source.py -> build/lib.linux-x86_64-3.7/mayavi/tests\n",
      "  \u001b[31m   \u001b[0m copying mayavi/tests/test_cut_plane.py -> build/lib.linux-x86_64-3.7/mayavi/tests\n",
      "  \u001b[31m   \u001b[0m copying mayavi/tests/test_file_timestep.py -> build/lib.linux-x86_64-3.7/mayavi/tests\n",
      "  \u001b[31m   \u001b[0m copying mayavi/tests/common.py -> build/lib.linux-x86_64-3.7/mayavi/tests\n",
      "  \u001b[31m   \u001b[0m copying mayavi/tests/test_builtin_surface.py -> build/lib.linux-x86_64-3.7/mayavi/tests\n",
      "  \u001b[31m   \u001b[0m copying mayavi/tests/test_vtk_file_reader.py -> build/lib.linux-x86_64-3.7/mayavi/tests\n",
      "  \u001b[31m   \u001b[0m copying mayavi/tests/test_plot3d_mb_reader.py -> build/lib.linux-x86_64-3.7/mayavi/tests\n",
      "  \u001b[31m   \u001b[0m copying mayavi/tests/test_core_utils.py -> build/lib.linux-x86_64-3.7/mayavi/tests\n",
      "  \u001b[31m   \u001b[0m copying mayavi/tests/test_user_defined.py -> build/lib.linux-x86_64-3.7/mayavi/tests\n",
      "  \u001b[31m   \u001b[0m copying mayavi/tests/test_threshold_filter.py -> build/lib.linux-x86_64-3.7/mayavi/tests\n",
      "  \u001b[31m   \u001b[0m copying mayavi/tests/test_composite_data.py -> build/lib.linux-x86_64-3.7/mayavi/tests\n",
      "  \u001b[31m   \u001b[0m copying mayavi/tests/test_image_plane_widget.py -> build/lib.linux-x86_64-3.7/mayavi/tests\n",
      "  \u001b[31m   \u001b[0m copying mayavi/tests/test_array_source.py -> build/lib.linux-x86_64-3.7/mayavi/tests\n",
      "  \u001b[31m   \u001b[0m copying mayavi/tests/test_unstructured_data_reader.py -> build/lib.linux-x86_64-3.7/mayavi/tests\n",
      "  \u001b[31m   \u001b[0m copying mayavi/tests/test_streamline.py -> build/lib.linux-x86_64-3.7/mayavi/tests\n",
      "  \u001b[31m   \u001b[0m copying mayavi/tests/test_mayavi_traits.py -> build/lib.linux-x86_64-3.7/mayavi/tests\n",
      "  \u001b[31m   \u001b[0m copying mayavi/tests/test_pylab_luts.py -> build/lib.linux-x86_64-3.7/mayavi/tests\n",
      "  \u001b[31m   \u001b[0m copying mayavi/tests/test_builtin_image.py -> build/lib.linux-x86_64-3.7/mayavi/tests\n",
      "  \u001b[31m   \u001b[0m copying mayavi/tests/test_preferences_mirror.py -> build/lib.linux-x86_64-3.7/mayavi/tests\n",
      "  \u001b[31m   \u001b[0m copying mayavi/tests/test_vtk_data_source.py -> build/lib.linux-x86_64-3.7/mayavi/tests\n",
      "  \u001b[31m   \u001b[0m copying mayavi/tests/test_grid_plane.py -> build/lib.linux-x86_64-3.7/mayavi/tests\n",
      "  \u001b[31m   \u001b[0m copying mayavi/tests/test_poly_data_reader.py -> build/lib.linux-x86_64-3.7/mayavi/tests\n",
      "  \u001b[31m   \u001b[0m copying mayavi/tests/test_script_recording.py -> build/lib.linux-x86_64-3.7/mayavi/tests\n",
      "  \u001b[31m   \u001b[0m copying mayavi/tests/datasets.py -> build/lib.linux-x86_64-3.7/mayavi/tests\n",
      "  \u001b[31m   \u001b[0m copying mayavi/tests/test_volume.py -> build/lib.linux-x86_64-3.7/mayavi/tests\n",
      "  \u001b[31m   \u001b[0m copying mayavi/tests/test_mouse_pick_dispatcher.py -> build/lib.linux-x86_64-3.7/mayavi/tests\n",
      "  \u001b[31m   \u001b[0m copying mayavi/tests/test_ipw_multiple_scalars.py -> build/lib.linux-x86_64-3.7/mayavi/tests\n",
      "  \u001b[31m   \u001b[0m copying mayavi/tests/test_garbage_collection.py -> build/lib.linux-x86_64-3.7/mayavi/tests\n",
      "  \u001b[31m   \u001b[0m copying mayavi/tests/test_text3d.py -> build/lib.linux-x86_64-3.7/mayavi/tests\n",
      "  \u001b[31m   \u001b[0m copying mayavi/tests/test_image_data_probe.py -> build/lib.linux-x86_64-3.7/mayavi/tests\n",
      "  \u001b[31m   \u001b[0m copying mayavi/tests/test_dataset_manager.py -> build/lib.linux-x86_64-3.7/mayavi/tests\n",
      "  \u001b[31m   \u001b[0m copying mayavi/tests/data_reader_test_base.py -> build/lib.linux-x86_64-3.7/mayavi/tests\n",
      "  \u001b[31m   \u001b[0m copying mayavi/tests/test_set_active_attribute.py -> build/lib.linux-x86_64-3.7/mayavi/tests\n",
      "  \u001b[31m   \u001b[0m copying mayavi/tests/test_csv_sniff.py -> build/lib.linux-x86_64-3.7/mayavi/tests\n",
      "  \u001b[31m   \u001b[0m copying mayavi/tests/test_mlab_source.py -> build/lib.linux-x86_64-3.7/mayavi/tests\n",
      "  \u001b[31m   \u001b[0m creating build/lib.linux-x86_64-3.7/mayavi/filters\n",
      "  \u001b[31m   \u001b[0m copying mayavi/filters/__init__.py -> build/lib.linux-x86_64-3.7/mayavi/filters\n",
      "  \u001b[31m   \u001b[0m copying mayavi/filters/extract_tensor_components.py -> build/lib.linux-x86_64-3.7/mayavi/filters\n",
      "  \u001b[31m   \u001b[0m copying mayavi/filters/stripper.py -> build/lib.linux-x86_64-3.7/mayavi/filters\n",
      "  \u001b[31m   \u001b[0m copying mayavi/filters/optional.py -> build/lib.linux-x86_64-3.7/mayavi/filters\n",
      "  \u001b[31m   \u001b[0m copying mayavi/filters/point_to_cell_data.py -> build/lib.linux-x86_64-3.7/mayavi/filters\n",
      "  \u001b[31m   \u001b[0m copying mayavi/filters/tube.py -> build/lib.linux-x86_64-3.7/mayavi/filters\n",
      "  \u001b[31m   \u001b[0m copying mayavi/filters/delaunay2d.py -> build/lib.linux-x86_64-3.7/mayavi/filters\n",
      "  \u001b[31m   \u001b[0m copying mayavi/filters/user_defined.py -> build/lib.linux-x86_64-3.7/mayavi/filters\n",
      "  \u001b[31m   \u001b[0m copying mayavi/filters/warp_vector.py -> build/lib.linux-x86_64-3.7/mayavi/filters\n",
      "  \u001b[31m   \u001b[0m copying mayavi/filters/api.py -> build/lib.linux-x86_64-3.7/mayavi/filters\n",
      "  \u001b[31m   \u001b[0m copying mayavi/filters/triangle_filter.py -> build/lib.linux-x86_64-3.7/mayavi/filters\n",
      "  \u001b[31m   \u001b[0m copying mayavi/filters/quadric_decimation.py -> build/lib.linux-x86_64-3.7/mayavi/filters\n",
      "  \u001b[31m   \u001b[0m copying mayavi/filters/poly_data_filter_base.py -> build/lib.linux-x86_64-3.7/mayavi/filters\n",
      "  \u001b[31m   \u001b[0m copying mayavi/filters/select_output.py -> build/lib.linux-x86_64-3.7/mayavi/filters\n",
      "  \u001b[31m   \u001b[0m copying mayavi/filters/delaunay3d.py -> build/lib.linux-x86_64-3.7/mayavi/filters\n",
      "  \u001b[31m   \u001b[0m copying mayavi/filters/gaussian_splatter.py -> build/lib.linux-x86_64-3.7/mayavi/filters\n",
      "  \u001b[31m   \u001b[0m copying mayavi/filters/cut_plane.py -> build/lib.linux-x86_64-3.7/mayavi/filters\n",
      "  \u001b[31m   \u001b[0m copying mayavi/filters/greedy_terrain_decimation.py -> build/lib.linux-x86_64-3.7/mayavi/filters\n",
      "  \u001b[31m   \u001b[0m copying mayavi/filters/contour.py -> build/lib.linux-x86_64-3.7/mayavi/filters\n",
      "  \u001b[31m   \u001b[0m copying mayavi/filters/threshold.py -> build/lib.linux-x86_64-3.7/mayavi/filters\n",
      "  \u001b[31m   \u001b[0m copying mayavi/filters/warp_scalar.py -> build/lib.linux-x86_64-3.7/mayavi/filters\n",
      "  \u001b[31m   \u001b[0m copying mayavi/filters/cell_derivatives.py -> build/lib.linux-x86_64-3.7/mayavi/filters\n",
      "  \u001b[31m   \u001b[0m copying mayavi/filters/vorticity.py -> build/lib.linux-x86_64-3.7/mayavi/filters\n",
      "  \u001b[31m   \u001b[0m copying mayavi/filters/collection.py -> build/lib.linux-x86_64-3.7/mayavi/filters\n",
      "  \u001b[31m   \u001b[0m copying mayavi/filters/mask_points.py -> build/lib.linux-x86_64-3.7/mayavi/filters\n",
      "  \u001b[31m   \u001b[0m copying mayavi/filters/extract_grid.py -> build/lib.linux-x86_64-3.7/mayavi/filters\n",
      "  \u001b[31m   \u001b[0m copying mayavi/filters/wrapper.py -> build/lib.linux-x86_64-3.7/mayavi/filters\n",
      "  \u001b[31m   \u001b[0m copying mayavi/filters/data_set_clipper.py -> build/lib.linux-x86_64-3.7/mayavi/filters\n",
      "  \u001b[31m   \u001b[0m copying mayavi/filters/image_data_probe.py -> build/lib.linux-x86_64-3.7/mayavi/filters\n",
      "  \u001b[31m   \u001b[0m copying mayavi/filters/image_change_information.py -> build/lib.linux-x86_64-3.7/mayavi/filters\n",
      "  \u001b[31m   \u001b[0m copying mayavi/filters/extract_edges.py -> build/lib.linux-x86_64-3.7/mayavi/filters\n",
      "  \u001b[31m   \u001b[0m copying mayavi/filters/decimatepro.py -> build/lib.linux-x86_64-3.7/mayavi/filters\n",
      "  \u001b[31m   \u001b[0m copying mayavi/filters/extract_vector_components.py -> build/lib.linux-x86_64-3.7/mayavi/filters\n",
      "  \u001b[31m   \u001b[0m copying mayavi/filters/filter_base.py -> build/lib.linux-x86_64-3.7/mayavi/filters\n",
      "  \u001b[31m   \u001b[0m copying mayavi/filters/elevation_filter.py -> build/lib.linux-x86_64-3.7/mayavi/filters\n",
      "  \u001b[31m   \u001b[0m copying mayavi/filters/extract_vector_norm.py -> build/lib.linux-x86_64-3.7/mayavi/filters\n",
      "  \u001b[31m   \u001b[0m copying mayavi/filters/cell_to_point_data.py -> build/lib.linux-x86_64-3.7/mayavi/filters\n",
      "  \u001b[31m   \u001b[0m copying mayavi/filters/transform_data.py -> build/lib.linux-x86_64-3.7/mayavi/filters\n",
      "  \u001b[31m   \u001b[0m copying mayavi/filters/extract_unstructured_grid.py -> build/lib.linux-x86_64-3.7/mayavi/filters\n",
      "  \u001b[31m   \u001b[0m copying mayavi/filters/metadata.py -> build/lib.linux-x86_64-3.7/mayavi/filters\n",
      "  \u001b[31m   \u001b[0m copying mayavi/filters/poly_data_normals.py -> build/lib.linux-x86_64-3.7/mayavi/filters\n",
      "  \u001b[31m   \u001b[0m copying mayavi/filters/set_active_attribute.py -> build/lib.linux-x86_64-3.7/mayavi/filters\n",
      "  \u001b[31m   \u001b[0m creating build/lib.linux-x86_64-3.7/mayavi/core\n",
      "  \u001b[31m   \u001b[0m copying mayavi/core/registry.py -> build/lib.linux-x86_64-3.7/mayavi/core\n",
      "  \u001b[31m   \u001b[0m copying mayavi/core/__init__.py -> build/lib.linux-x86_64-3.7/mayavi/core\n",
      "  \u001b[31m   \u001b[0m copying mayavi/core/base.py -> build/lib.linux-x86_64-3.7/mayavi/core\n",
      "  \u001b[31m   \u001b[0m copying mayavi/core/module_manager.py -> build/lib.linux-x86_64-3.7/mayavi/core\n",
      "  \u001b[31m   \u001b[0m copying mayavi/core/null_engine.py -> build/lib.linux-x86_64-3.7/mayavi/core\n",
      "  \u001b[31m   \u001b[0m copying mayavi/core/off_screen_engine.py -> build/lib.linux-x86_64-3.7/mayavi/core\n",
      "  \u001b[31m   \u001b[0m copying mayavi/core/file_data_source.py -> build/lib.linux-x86_64-3.7/mayavi/core\n",
      "  \u001b[31m   \u001b[0m copying mayavi/core/api.py -> build/lib.linux-x86_64-3.7/mayavi/core\n",
      "  \u001b[31m   \u001b[0m copying mayavi/core/engine.py -> build/lib.linux-x86_64-3.7/mayavi/core\n",
      "  \u001b[31m   \u001b[0m copying mayavi/core/customize.py -> build/lib.linux-x86_64-3.7/mayavi/core\n",
      "  \u001b[31m   \u001b[0m copying mayavi/core/common.py -> build/lib.linux-x86_64-3.7/mayavi/core\n",
      "  \u001b[31m   \u001b[0m copying mayavi/core/module.py -> build/lib.linux-x86_64-3.7/mayavi/core\n",
      "  \u001b[31m   \u001b[0m copying mayavi/core/lut_manager.py -> build/lib.linux-x86_64-3.7/mayavi/core\n",
      "  \u001b[31m   \u001b[0m copying mayavi/core/adder_node.py -> build/lib.linux-x86_64-3.7/mayavi/core\n",
      "  \u001b[31m   \u001b[0m copying mayavi/core/utils.py -> build/lib.linux-x86_64-3.7/mayavi/core\n",
      "  \u001b[31m   \u001b[0m copying mayavi/core/pipeline_base.py -> build/lib.linux-x86_64-3.7/mayavi/core\n",
      "  \u001b[31m   \u001b[0m copying mayavi/core/component.py -> build/lib.linux-x86_64-3.7/mayavi/core\n",
      "  \u001b[31m   \u001b[0m copying mayavi/core/traits_menu.py -> build/lib.linux-x86_64-3.7/mayavi/core\n",
      "  \u001b[31m   \u001b[0m copying mayavi/core/trait_defs.py -> build/lib.linux-x86_64-3.7/mayavi/core\n",
      "  \u001b[31m   \u001b[0m copying mayavi/core/scene.py -> build/lib.linux-x86_64-3.7/mayavi/core\n",
      "  \u001b[31m   \u001b[0m copying mayavi/core/pipeline_info.py -> build/lib.linux-x86_64-3.7/mayavi/core\n",
      "  \u001b[31m   \u001b[0m copying mayavi/core/dataset_manager.py -> build/lib.linux-x86_64-3.7/mayavi/core\n",
      "  \u001b[31m   \u001b[0m copying mayavi/core/mouse_pick_dispatcher.py -> build/lib.linux-x86_64-3.7/mayavi/core\n",
      "  \u001b[31m   \u001b[0m copying mayavi/core/source.py -> build/lib.linux-x86_64-3.7/mayavi/core\n",
      "  \u001b[31m   \u001b[0m copying mayavi/core/filter.py -> build/lib.linux-x86_64-3.7/mayavi/core\n",
      "  \u001b[31m   \u001b[0m copying mayavi/core/metadata.py -> build/lib.linux-x86_64-3.7/mayavi/core\n",
      "  \u001b[31m   \u001b[0m creating build/lib.linux-x86_64-3.7/mayavi/preferences\n",
      "  \u001b[31m   \u001b[0m copying mayavi/preferences/__init__.py -> build/lib.linux-x86_64-3.7/mayavi/preferences\n",
      "  \u001b[31m   \u001b[0m copying mayavi/preferences/api.py -> build/lib.linux-x86_64-3.7/mayavi/preferences\n",
      "  \u001b[31m   \u001b[0m copying mayavi/preferences/bindings.py -> build/lib.linux-x86_64-3.7/mayavi/preferences\n",
      "  \u001b[31m   \u001b[0m copying mayavi/preferences/contrib_finder.py -> build/lib.linux-x86_64-3.7/mayavi/preferences\n",
      "  \u001b[31m   \u001b[0m copying mayavi/preferences/mayavi_preferences_page.py -> build/lib.linux-x86_64-3.7/mayavi/preferences\n",
      "  \u001b[31m   \u001b[0m copying mayavi/preferences/preferences_helpers.py -> build/lib.linux-x86_64-3.7/mayavi/preferences\n",
      "  \u001b[31m   \u001b[0m copying mayavi/preferences/preference_manager.py -> build/lib.linux-x86_64-3.7/mayavi/preferences\n",
      "  \u001b[31m   \u001b[0m copying mayavi/preferences/preference_manager_view.py -> build/lib.linux-x86_64-3.7/mayavi/preferences\n",
      "  \u001b[31m   \u001b[0m creating build/lib.linux-x86_64-3.7/mayavi/tools\n",
      "  \u001b[31m   \u001b[0m copying mayavi/tools/__init__.py -> build/lib.linux-x86_64-3.7/mayavi/tools\n",
      "  \u001b[31m   \u001b[0m copying mayavi/tools/animator.py -> build/lib.linux-x86_64-3.7/mayavi/tools\n",
      "  \u001b[31m   \u001b[0m copying mayavi/tools/camera.py -> build/lib.linux-x86_64-3.7/mayavi/tools\n",
      "  \u001b[31m   \u001b[0m copying mayavi/tools/figure.py -> build/lib.linux-x86_64-3.7/mayavi/tools\n",
      "  \u001b[31m   \u001b[0m copying mayavi/tools/helper_functions.py -> build/lib.linux-x86_64-3.7/mayavi/tools\n",
      "  \u001b[31m   \u001b[0m copying mayavi/tools/sources.py -> build/lib.linux-x86_64-3.7/mayavi/tools\n",
      "  \u001b[31m   \u001b[0m copying mayavi/tools/show.py -> build/lib.linux-x86_64-3.7/mayavi/tools\n",
      "  \u001b[31m   \u001b[0m copying mayavi/tools/filters.py -> build/lib.linux-x86_64-3.7/mayavi/tools\n",
      "  \u001b[31m   \u001b[0m copying mayavi/tools/server.py -> build/lib.linux-x86_64-3.7/mayavi/tools\n",
      "  \u001b[31m   \u001b[0m copying mayavi/tools/decorations.py -> build/lib.linux-x86_64-3.7/mayavi/tools\n",
      "  \u001b[31m   \u001b[0m copying mayavi/tools/engine_manager.py -> build/lib.linux-x86_64-3.7/mayavi/tools\n",
      "  \u001b[31m   \u001b[0m copying mayavi/tools/pipe_base.py -> build/lib.linux-x86_64-3.7/mayavi/tools\n",
      "  \u001b[31m   \u001b[0m copying mayavi/tools/mlab_scene_model.py -> build/lib.linux-x86_64-3.7/mayavi/tools\n",
      "  \u001b[31m   \u001b[0m copying mayavi/tools/tools.py -> build/lib.linux-x86_64-3.7/mayavi/tools\n",
      "  \u001b[31m   \u001b[0m copying mayavi/tools/notebook.py -> build/lib.linux-x86_64-3.7/mayavi/tools\n",
      "  \u001b[31m   \u001b[0m copying mayavi/tools/mlab.py -> build/lib.linux-x86_64-3.7/mayavi/tools\n",
      "  \u001b[31m   \u001b[0m copying mayavi/tools/pipeline.py -> build/lib.linux-x86_64-3.7/mayavi/tools\n",
      "  \u001b[31m   \u001b[0m copying mayavi/tools/auto_doc.py -> build/lib.linux-x86_64-3.7/mayavi/tools\n",
      "  \u001b[31m   \u001b[0m copying mayavi/tools/probe_data.py -> build/lib.linux-x86_64-3.7/mayavi/tools\n",
      "  \u001b[31m   \u001b[0m copying mayavi/tools/preferences_mirror.py -> build/lib.linux-x86_64-3.7/mayavi/tools\n",
      "  \u001b[31m   \u001b[0m copying mayavi/tools/modules.py -> build/lib.linux-x86_64-3.7/mayavi/tools\n",
      "  \u001b[31m   \u001b[0m creating build/lib.linux-x86_64-3.7/mayavi/modules/ui\n",
      "  \u001b[31m   \u001b[0m copying mayavi/modules/ui/__init__.py -> build/lib.linux-x86_64-3.7/mayavi/modules/ui\n",
      "  \u001b[31m   \u001b[0m copying mayavi/modules/ui/iso_surface.py -> build/lib.linux-x86_64-3.7/mayavi/modules/ui\n",
      "  \u001b[31m   \u001b[0m copying mayavi/modules/ui/surface.py -> build/lib.linux-x86_64-3.7/mayavi/modules/ui\n",
      "  \u001b[31m   \u001b[0m creating build/lib.linux-x86_64-3.7/mayavi/sources/ui\n",
      "  \u001b[31m   \u001b[0m copying mayavi/sources/ui/__init__.py -> build/lib.linux-x86_64-3.7/mayavi/sources/ui\n",
      "  \u001b[31m   \u001b[0m copying mayavi/sources/ui/parametric_surface.py -> build/lib.linux-x86_64-3.7/mayavi/sources/ui\n",
      "  \u001b[31m   \u001b[0m creating build/lib.linux-x86_64-3.7/mayavi/components/ui\n",
      "  \u001b[31m   \u001b[0m copying mayavi/components/ui/__init__.py -> build/lib.linux-x86_64-3.7/mayavi/components/ui\n",
      "  \u001b[31m   \u001b[0m copying mayavi/components/ui/contour.py -> build/lib.linux-x86_64-3.7/mayavi/components/ui\n",
      "  \u001b[31m   \u001b[0m copying mayavi/components/ui/actor.py -> build/lib.linux-x86_64-3.7/mayavi/components/ui\n",
      "  \u001b[31m   \u001b[0m creating build/lib.linux-x86_64-3.7/mayavi/core/lut\n",
      "  \u001b[31m   \u001b[0m copying mayavi/core/lut/__init__.py -> build/lib.linux-x86_64-3.7/mayavi/core/lut\n",
      "  \u001b[31m   \u001b[0m creating build/lib.linux-x86_64-3.7/mayavi/core/ui\n",
      "  \u001b[31m   \u001b[0m copying mayavi/core/ui/__init__.py -> build/lib.linux-x86_64-3.7/mayavi/core/ui\n",
      "  \u001b[31m   \u001b[0m copying mayavi/core/ui/engine_rich_view.py -> build/lib.linux-x86_64-3.7/mayavi/core/ui\n",
      "  \u001b[31m   \u001b[0m copying mayavi/core/ui/module_manager.py -> build/lib.linux-x86_64-3.7/mayavi/core/ui\n",
      "  \u001b[31m   \u001b[0m copying mayavi/core/ui/api.py -> build/lib.linux-x86_64-3.7/mayavi/core/ui\n",
      "  \u001b[31m   \u001b[0m copying mayavi/core/ui/mayavi_scene.py -> build/lib.linux-x86_64-3.7/mayavi/core/ui\n",
      "  \u001b[31m   \u001b[0m copying mayavi/core/ui/lut_manager.py -> build/lib.linux-x86_64-3.7/mayavi/core/ui\n",
      "  \u001b[31m   \u001b[0m copying mayavi/core/ui/engine_view.py -> build/lib.linux-x86_64-3.7/mayavi/core/ui\n",
      "  \u001b[31m   \u001b[0m creating build/lib.linux-x86_64-3.7/mayavi/tools/remote\n",
      "  \u001b[31m   \u001b[0m copying mayavi/tools/remote/__init__.py -> build/lib.linux-x86_64-3.7/mayavi/tools/remote\n",
      "  \u001b[31m   \u001b[0m copying mayavi/tools/remote/ipy_remote.py -> build/lib.linux-x86_64-3.7/mayavi/tools/remote\n",
      "  \u001b[31m   \u001b[0m copying mayavi/tools/remote/remote_widget.py -> build/lib.linux-x86_64-3.7/mayavi/tools/remote\n",
      "  \u001b[31m   \u001b[0m copying mayavi/tools/remote/bridge.py -> build/lib.linux-x86_64-3.7/mayavi/tools/remote\n",
      "  \u001b[31m   \u001b[0m copying mayavi/tools/remote/remote_scene.py -> build/lib.linux-x86_64-3.7/mayavi/tools/remote\n",
      "  \u001b[31m   \u001b[0m creating build/lib.linux-x86_64-3.7/mayavi/tools/data_wizards\n",
      "  \u001b[31m   \u001b[0m copying mayavi/tools/data_wizards/__init__.py -> build/lib.linux-x86_64-3.7/mayavi/tools/data_wizards\n",
      "  \u001b[31m   \u001b[0m copying mayavi/tools/data_wizards/preview_window.py -> build/lib.linux-x86_64-3.7/mayavi/tools/data_wizards\n",
      "  \u001b[31m   \u001b[0m copying mayavi/tools/data_wizards/csv_source_factory.py -> build/lib.linux-x86_64-3.7/mayavi/tools/data_wizards\n",
      "  \u001b[31m   \u001b[0m copying mayavi/tools/data_wizards/loadtxt.py -> build/lib.linux-x86_64-3.7/mayavi/tools/data_wizards\n",
      "  \u001b[31m   \u001b[0m copying mayavi/tools/data_wizards/csv_loader.py -> build/lib.linux-x86_64-3.7/mayavi/tools/data_wizards\n",
      "  \u001b[31m   \u001b[0m copying mayavi/tools/data_wizards/data_source_wizard.py -> build/lib.linux-x86_64-3.7/mayavi/tools/data_wizards\n",
      "  \u001b[31m   \u001b[0m copying mayavi/tools/data_wizards/data_source_factory.py -> build/lib.linux-x86_64-3.7/mayavi/tools/data_wizards\n",
      "  \u001b[31m   \u001b[0m copying mayavi/tools/data_wizards/csv_sniff.py -> build/lib.linux-x86_64-3.7/mayavi/tools/data_wizards\n",
      "  \u001b[31m   \u001b[0m running build_ext\n",
      "  \u001b[31m   \u001b[0m customize UnixCCompiler\n",
      "  \u001b[31m   \u001b[0m customize UnixCCompiler using build_ext\n",
      "  \u001b[31m   \u001b[0m CCompilerOpt.cc_test_flags[1013] : testing flags (-march=native)\n",
      "  \u001b[31m   \u001b[0m C compiler: gcc -pthread -B /dagher/dagher11/filip/Software/miniconda/envs/brainsmash/compiler_compat -Wl,--sysroot=/ -Wsign-compare -DNDEBUG -g -fwrapv -O3 -Wall -Wstrict-prototypes -fPIC\n",
      "  \u001b[31m   \u001b[0m \n",
      "  \u001b[31m   \u001b[0m creating /tmp/tmprkpyeny5/dagher\n",
      "  \u001b[31m   \u001b[0m creating /tmp/tmprkpyeny5/dagher/dagher11\n",
      "  \u001b[31m   \u001b[0m creating /tmp/tmprkpyeny5/dagher/dagher11/filip\n",
      "  \u001b[31m   \u001b[0m creating /tmp/tmprkpyeny5/dagher/dagher11/filip/Software\n",
      "  \u001b[31m   \u001b[0m creating /tmp/tmprkpyeny5/dagher/dagher11/filip/Software/miniconda\n",
      "  \u001b[31m   \u001b[0m creating /tmp/tmprkpyeny5/dagher/dagher11/filip/Software/miniconda/envs\n",
      "  \u001b[31m   \u001b[0m creating /tmp/tmprkpyeny5/dagher/dagher11/filip/Software/miniconda/envs/brainsmash\n",
      "  \u001b[31m   \u001b[0m creating /tmp/tmprkpyeny5/dagher/dagher11/filip/Software/miniconda/envs/brainsmash/lib\n",
      "  \u001b[31m   \u001b[0m creating /tmp/tmprkpyeny5/dagher/dagher11/filip/Software/miniconda/envs/brainsmash/lib/python3.7\n",
      "  \u001b[31m   \u001b[0m creating /tmp/tmprkpyeny5/dagher/dagher11/filip/Software/miniconda/envs/brainsmash/lib/python3.7/site-packages\n",
      "  \u001b[31m   \u001b[0m creating /tmp/tmprkpyeny5/dagher/dagher11/filip/Software/miniconda/envs/brainsmash/lib/python3.7/site-packages/numpy\n",
      "  \u001b[31m   \u001b[0m creating /tmp/tmprkpyeny5/dagher/dagher11/filip/Software/miniconda/envs/brainsmash/lib/python3.7/site-packages/numpy/distutils\n",
      "  \u001b[31m   \u001b[0m creating /tmp/tmprkpyeny5/dagher/dagher11/filip/Software/miniconda/envs/brainsmash/lib/python3.7/site-packages/numpy/distutils/checks\n",
      "  \u001b[31m   \u001b[0m compile options: '-I/dagher/dagher11/filip/Software/miniconda/envs/brainsmash/include/python3.7m -c'\n",
      "  \u001b[31m   \u001b[0m extra options: '-march=native'\n",
      "  \u001b[31m   \u001b[0m CCompilerOpt.cc_test_flags[1013] : testing flags (-O3)\n",
      "  \u001b[31m   \u001b[0m C compiler: gcc -pthread -B /dagher/dagher11/filip/Software/miniconda/envs/brainsmash/compiler_compat -Wl,--sysroot=/ -Wsign-compare -DNDEBUG -g -fwrapv -O3 -Wall -Wstrict-prototypes -fPIC\n",
      "  \u001b[31m   \u001b[0m \n",
      "  \u001b[31m   \u001b[0m compile options: '-I/dagher/dagher11/filip/Software/miniconda/envs/brainsmash/include/python3.7m -c'\n",
      "  \u001b[31m   \u001b[0m extra options: '-O3'\n",
      "  \u001b[31m   \u001b[0m CCompilerOpt.cc_test_flags[1013] : testing flags (-Werror)\n",
      "  \u001b[31m   \u001b[0m C compiler: gcc -pthread -B /dagher/dagher11/filip/Software/miniconda/envs/brainsmash/compiler_compat -Wl,--sysroot=/ -Wsign-compare -DNDEBUG -g -fwrapv -O3 -Wall -Wstrict-prototypes -fPIC\n",
      "  \u001b[31m   \u001b[0m \n",
      "  \u001b[31m   \u001b[0m compile options: '-I/dagher/dagher11/filip/Software/miniconda/envs/brainsmash/include/python3.7m -c'\n",
      "  \u001b[31m   \u001b[0m extra options: '-Werror'\n",
      "  \u001b[31m   \u001b[0m CCompilerOpt.__init__[1701] : check requested baseline\n",
      "  \u001b[31m   \u001b[0m CCompilerOpt.cc_test_flags[1013] : testing flags (-msse)\n",
      "  \u001b[31m   \u001b[0m C compiler: gcc -pthread -B /dagher/dagher11/filip/Software/miniconda/envs/brainsmash/compiler_compat -Wl,--sysroot=/ -Wsign-compare -DNDEBUG -g -fwrapv -O3 -Wall -Wstrict-prototypes -fPIC\n",
      "  \u001b[31m   \u001b[0m \n",
      "  \u001b[31m   \u001b[0m compile options: '-I/dagher/dagher11/filip/Software/miniconda/envs/brainsmash/include/python3.7m -c'\n",
      "  \u001b[31m   \u001b[0m extra options: '-msse'\n",
      "  \u001b[31m   \u001b[0m CCompilerOpt.cc_test_flags[1013] : testing flags (-msse2)\n",
      "  \u001b[31m   \u001b[0m C compiler: gcc -pthread -B /dagher/dagher11/filip/Software/miniconda/envs/brainsmash/compiler_compat -Wl,--sysroot=/ -Wsign-compare -DNDEBUG -g -fwrapv -O3 -Wall -Wstrict-prototypes -fPIC\n",
      "  \u001b[31m   \u001b[0m \n",
      "  \u001b[31m   \u001b[0m compile options: '-I/dagher/dagher11/filip/Software/miniconda/envs/brainsmash/include/python3.7m -c'\n",
      "  \u001b[31m   \u001b[0m extra options: '-msse2'\n",
      "  \u001b[31m   \u001b[0m CCompilerOpt.feature_test[1468] : testing feature 'SSE' with flags (-msse -msse2)\n",
      "  \u001b[31m   \u001b[0m C compiler: gcc -pthread -B /dagher/dagher11/filip/Software/miniconda/envs/brainsmash/compiler_compat -Wl,--sysroot=/ -Wsign-compare -DNDEBUG -g -fwrapv -O3 -Wall -Wstrict-prototypes -fPIC\n",
      "  \u001b[31m   \u001b[0m \n",
      "  \u001b[31m   \u001b[0m compile options: '-I/dagher/dagher11/filip/Software/miniconda/envs/brainsmash/include/python3.7m -c'\n",
      "  \u001b[31m   \u001b[0m extra options: '-msse -msse2 -Werror'\n",
      "  \u001b[31m   \u001b[0m CCompilerOpt.feature_test[1468] : testing feature 'SSE2' with flags (-msse -msse2)\n",
      "  \u001b[31m   \u001b[0m C compiler: gcc -pthread -B /dagher/dagher11/filip/Software/miniconda/envs/brainsmash/compiler_compat -Wl,--sysroot=/ -Wsign-compare -DNDEBUG -g -fwrapv -O3 -Wall -Wstrict-prototypes -fPIC\n",
      "  \u001b[31m   \u001b[0m \n",
      "  \u001b[31m   \u001b[0m compile options: '-I/dagher/dagher11/filip/Software/miniconda/envs/brainsmash/include/python3.7m -c'\n",
      "  \u001b[31m   \u001b[0m extra options: '-msse -msse2 -Werror'\n",
      "  \u001b[31m   \u001b[0m CCompilerOpt.cc_test_flags[1013] : testing flags (-msse3)\n",
      "  \u001b[31m   \u001b[0m C compiler: gcc -pthread -B /dagher/dagher11/filip/Software/miniconda/envs/brainsmash/compiler_compat -Wl,--sysroot=/ -Wsign-compare -DNDEBUG -g -fwrapv -O3 -Wall -Wstrict-prototypes -fPIC\n",
      "  \u001b[31m   \u001b[0m \n",
      "  \u001b[31m   \u001b[0m compile options: '-I/dagher/dagher11/filip/Software/miniconda/envs/brainsmash/include/python3.7m -c'\n",
      "  \u001b[31m   \u001b[0m extra options: '-msse3'\n",
      "  \u001b[31m   \u001b[0m CCompilerOpt.feature_test[1468] : testing feature 'SSE3' with flags (-msse -msse2 -msse3)\n",
      "  \u001b[31m   \u001b[0m C compiler: gcc -pthread -B /dagher/dagher11/filip/Software/miniconda/envs/brainsmash/compiler_compat -Wl,--sysroot=/ -Wsign-compare -DNDEBUG -g -fwrapv -O3 -Wall -Wstrict-prototypes -fPIC\n",
      "  \u001b[31m   \u001b[0m \n",
      "  \u001b[31m   \u001b[0m compile options: '-I/dagher/dagher11/filip/Software/miniconda/envs/brainsmash/include/python3.7m -c'\n",
      "  \u001b[31m   \u001b[0m extra options: '-msse -msse2 -msse3 -Werror'\n",
      "  \u001b[31m   \u001b[0m CCompilerOpt.__init__[1710] : check requested dispatch-able features\n",
      "  \u001b[31m   \u001b[0m CCompilerOpt.cc_test_flags[1013] : testing flags (-mssse3)\n",
      "  \u001b[31m   \u001b[0m C compiler: gcc -pthread -B /dagher/dagher11/filip/Software/miniconda/envs/brainsmash/compiler_compat -Wl,--sysroot=/ -Wsign-compare -DNDEBUG -g -fwrapv -O3 -Wall -Wstrict-prototypes -fPIC\n",
      "  \u001b[31m   \u001b[0m \n",
      "  \u001b[31m   \u001b[0m compile options: '-I/dagher/dagher11/filip/Software/miniconda/envs/brainsmash/include/python3.7m -c'\n",
      "  \u001b[31m   \u001b[0m extra options: '-mssse3'\n",
      "  \u001b[31m   \u001b[0m CCompilerOpt.cc_test_flags[1013] : testing flags (-msse4.1)\n",
      "  \u001b[31m   \u001b[0m C compiler: gcc -pthread -B /dagher/dagher11/filip/Software/miniconda/envs/brainsmash/compiler_compat -Wl,--sysroot=/ -Wsign-compare -DNDEBUG -g -fwrapv -O3 -Wall -Wstrict-prototypes -fPIC\n",
      "  \u001b[31m   \u001b[0m \n",
      "  \u001b[31m   \u001b[0m compile options: '-I/dagher/dagher11/filip/Software/miniconda/envs/brainsmash/include/python3.7m -c'\n",
      "  \u001b[31m   \u001b[0m extra options: '-msse4.1'\n",
      "  \u001b[31m   \u001b[0m CCompilerOpt.cc_test_flags[1013] : testing flags (-mpopcnt)\n",
      "  \u001b[31m   \u001b[0m C compiler: gcc -pthread -B /dagher/dagher11/filip/Software/miniconda/envs/brainsmash/compiler_compat -Wl,--sysroot=/ -Wsign-compare -DNDEBUG -g -fwrapv -O3 -Wall -Wstrict-prototypes -fPIC\n",
      "  \u001b[31m   \u001b[0m \n",
      "  \u001b[31m   \u001b[0m compile options: '-I/dagher/dagher11/filip/Software/miniconda/envs/brainsmash/include/python3.7m -c'\n",
      "  \u001b[31m   \u001b[0m extra options: '-mpopcnt'\n",
      "  \u001b[31m   \u001b[0m CCompilerOpt.cc_test_flags[1013] : testing flags (-msse4.2)\n",
      "  \u001b[31m   \u001b[0m C compiler: gcc -pthread -B /dagher/dagher11/filip/Software/miniconda/envs/brainsmash/compiler_compat -Wl,--sysroot=/ -Wsign-compare -DNDEBUG -g -fwrapv -O3 -Wall -Wstrict-prototypes -fPIC\n",
      "  \u001b[31m   \u001b[0m \n",
      "  \u001b[31m   \u001b[0m compile options: '-I/dagher/dagher11/filip/Software/miniconda/envs/brainsmash/include/python3.7m -c'\n",
      "  \u001b[31m   \u001b[0m extra options: '-msse4.2'\n",
      "  \u001b[31m   \u001b[0m CCompilerOpt.cc_test_flags[1013] : testing flags (-mavx)\n",
      "  \u001b[31m   \u001b[0m C compiler: gcc -pthread -B /dagher/dagher11/filip/Software/miniconda/envs/brainsmash/compiler_compat -Wl,--sysroot=/ -Wsign-compare -DNDEBUG -g -fwrapv -O3 -Wall -Wstrict-prototypes -fPIC\n",
      "  \u001b[31m   \u001b[0m \n",
      "  \u001b[31m   \u001b[0m compile options: '-I/dagher/dagher11/filip/Software/miniconda/envs/brainsmash/include/python3.7m -c'\n",
      "  \u001b[31m   \u001b[0m extra options: '-mavx'\n",
      "  \u001b[31m   \u001b[0m CCompilerOpt.cc_test_flags[1013] : testing flags (-mf16c)\n",
      "  \u001b[31m   \u001b[0m C compiler: gcc -pthread -B /dagher/dagher11/filip/Software/miniconda/envs/brainsmash/compiler_compat -Wl,--sysroot=/ -Wsign-compare -DNDEBUG -g -fwrapv -O3 -Wall -Wstrict-prototypes -fPIC\n",
      "  \u001b[31m   \u001b[0m \n",
      "  \u001b[31m   \u001b[0m compile options: '-I/dagher/dagher11/filip/Software/miniconda/envs/brainsmash/include/python3.7m -c'\n",
      "  \u001b[31m   \u001b[0m extra options: '-mf16c'\n",
      "  \u001b[31m   \u001b[0m CCompilerOpt.cc_test_flags[1013] : testing flags (-mfma)\n",
      "  \u001b[31m   \u001b[0m C compiler: gcc -pthread -B /dagher/dagher11/filip/Software/miniconda/envs/brainsmash/compiler_compat -Wl,--sysroot=/ -Wsign-compare -DNDEBUG -g -fwrapv -O3 -Wall -Wstrict-prototypes -fPIC\n",
      "  \u001b[31m   \u001b[0m \n",
      "  \u001b[31m   \u001b[0m compile options: '-I/dagher/dagher11/filip/Software/miniconda/envs/brainsmash/include/python3.7m -c'\n",
      "  \u001b[31m   \u001b[0m extra options: '-mfma'\n",
      "  \u001b[31m   \u001b[0m CCompilerOpt.cc_test_flags[1013] : testing flags (-mavx2)\n",
      "  \u001b[31m   \u001b[0m C compiler: gcc -pthread -B /dagher/dagher11/filip/Software/miniconda/envs/brainsmash/compiler_compat -Wl,--sysroot=/ -Wsign-compare -DNDEBUG -g -fwrapv -O3 -Wall -Wstrict-prototypes -fPIC\n",
      "  \u001b[31m   \u001b[0m \n",
      "  \u001b[31m   \u001b[0m compile options: '-I/dagher/dagher11/filip/Software/miniconda/envs/brainsmash/include/python3.7m -c'\n",
      "  \u001b[31m   \u001b[0m extra options: '-mavx2'\n",
      "  \u001b[31m   \u001b[0m CCompilerOpt.cc_test_flags[1013] : testing flags (-mavx512f)\n",
      "  \u001b[31m   \u001b[0m C compiler: gcc -pthread -B /dagher/dagher11/filip/Software/miniconda/envs/brainsmash/compiler_compat -Wl,--sysroot=/ -Wsign-compare -DNDEBUG -g -fwrapv -O3 -Wall -Wstrict-prototypes -fPIC\n",
      "  \u001b[31m   \u001b[0m \n",
      "  \u001b[31m   \u001b[0m compile options: '-I/dagher/dagher11/filip/Software/miniconda/envs/brainsmash/include/python3.7m -c'\n",
      "  \u001b[31m   \u001b[0m extra options: '-mavx512f'\n",
      "  \u001b[31m   \u001b[0m CCompilerOpt.feature_test[1468] : testing feature 'AVX512F' with flags (-msse -msse2 -msse3 -mssse3 -msse4.1 -mpopcnt -msse4.2 -mavx -mf16c -mfma -mavx2 -mavx512f)\n",
      "  \u001b[31m   \u001b[0m C compiler: gcc -pthread -B /dagher/dagher11/filip/Software/miniconda/envs/brainsmash/compiler_compat -Wl,--sysroot=/ -Wsign-compare -DNDEBUG -g -fwrapv -O3 -Wall -Wstrict-prototypes -fPIC\n",
      "  \u001b[31m   \u001b[0m \n",
      "  \u001b[31m   \u001b[0m compile options: '-I/dagher/dagher11/filip/Software/miniconda/envs/brainsmash/include/python3.7m -c'\n",
      "  \u001b[31m   \u001b[0m extra options: '-msse -msse2 -msse3 -mssse3 -msse4.1 -mpopcnt -msse4.2 -mavx -mf16c -mfma -mavx2 -mavx512f -Werror'\n",
      "  \u001b[31m   \u001b[0m CCompilerOpt.feature_test[1468] : testing feature 'AVX' with flags (-msse -msse2 -msse3 -mssse3 -msse4.1 -mpopcnt -msse4.2 -mavx)\n",
      "  \u001b[31m   \u001b[0m C compiler: gcc -pthread -B /dagher/dagher11/filip/Software/miniconda/envs/brainsmash/compiler_compat -Wl,--sysroot=/ -Wsign-compare -DNDEBUG -g -fwrapv -O3 -Wall -Wstrict-prototypes -fPIC\n",
      "  \u001b[31m   \u001b[0m \n",
      "  \u001b[31m   \u001b[0m compile options: '-I/dagher/dagher11/filip/Software/miniconda/envs/brainsmash/include/python3.7m -c'\n",
      "  \u001b[31m   \u001b[0m extra options: '-msse -msse2 -msse3 -mssse3 -msse4.1 -mpopcnt -msse4.2 -mavx -Werror'\n",
      "  \u001b[31m   \u001b[0m CCompilerOpt.feature_test[1468] : testing feature 'FMA3' with flags (-msse -msse2 -msse3 -mssse3 -msse4.1 -mpopcnt -msse4.2 -mavx -mf16c -mfma)\n",
      "  \u001b[31m   \u001b[0m C compiler: gcc -pthread -B /dagher/dagher11/filip/Software/miniconda/envs/brainsmash/compiler_compat -Wl,--sysroot=/ -Wsign-compare -DNDEBUG -g -fwrapv -O3 -Wall -Wstrict-prototypes -fPIC\n",
      "  \u001b[31m   \u001b[0m \n",
      "  \u001b[31m   \u001b[0m compile options: '-I/dagher/dagher11/filip/Software/miniconda/envs/brainsmash/include/python3.7m -c'\n",
      "  \u001b[31m   \u001b[0m extra options: '-msse -msse2 -msse3 -mssse3 -msse4.1 -mpopcnt -msse4.2 -mavx -mf16c -mfma -Werror'\n",
      "  \u001b[31m   \u001b[0m CCompilerOpt.feature_test[1468] : testing feature 'POPCNT' with flags (-msse -msse2 -msse3 -mssse3 -msse4.1 -mpopcnt)\n",
      "  \u001b[31m   \u001b[0m C compiler: gcc -pthread -B /dagher/dagher11/filip/Software/miniconda/envs/brainsmash/compiler_compat -Wl,--sysroot=/ -Wsign-compare -DNDEBUG -g -fwrapv -O3 -Wall -Wstrict-prototypes -fPIC\n",
      "  \u001b[31m   \u001b[0m \n",
      "  \u001b[31m   \u001b[0m compile options: '-I/dagher/dagher11/filip/Software/miniconda/envs/brainsmash/include/python3.7m -c'\n",
      "  \u001b[31m   \u001b[0m extra options: '-msse -msse2 -msse3 -mssse3 -msse4.1 -mpopcnt -Werror'\n",
      "  \u001b[31m   \u001b[0m CCompilerOpt.feature_test[1468] : testing feature 'SSE42' with flags (-msse -msse2 -msse3 -mssse3 -msse4.1 -mpopcnt -msse4.2)\n",
      "  \u001b[31m   \u001b[0m C compiler: gcc -pthread -B /dagher/dagher11/filip/Software/miniconda/envs/brainsmash/compiler_compat -Wl,--sysroot=/ -Wsign-compare -DNDEBUG -g -fwrapv -O3 -Wall -Wstrict-prototypes -fPIC\n",
      "  \u001b[31m   \u001b[0m \n",
      "  \u001b[31m   \u001b[0m compile options: '-I/dagher/dagher11/filip/Software/miniconda/envs/brainsmash/include/python3.7m -c'\n",
      "  \u001b[31m   \u001b[0m extra options: '-msse -msse2 -msse3 -mssse3 -msse4.1 -mpopcnt -msse4.2 -Werror'\n",
      "  \u001b[31m   \u001b[0m CCompilerOpt.feature_test[1468] : testing feature 'F16C' with flags (-msse -msse2 -msse3 -mssse3 -msse4.1 -mpopcnt -msse4.2 -mavx -mf16c)\n",
      "  \u001b[31m   \u001b[0m C compiler: gcc -pthread -B /dagher/dagher11/filip/Software/miniconda/envs/brainsmash/compiler_compat -Wl,--sysroot=/ -Wsign-compare -DNDEBUG -g -fwrapv -O3 -Wall -Wstrict-prototypes -fPIC\n",
      "  \u001b[31m   \u001b[0m \n",
      "  \u001b[31m   \u001b[0m compile options: '-I/dagher/dagher11/filip/Software/miniconda/envs/brainsmash/include/python3.7m -c'\n",
      "  \u001b[31m   \u001b[0m extra options: '-msse -msse2 -msse3 -mssse3 -msse4.1 -mpopcnt -msse4.2 -mavx -mf16c -Werror'\n",
      "  \u001b[31m   \u001b[0m CCompilerOpt.feature_test[1468] : testing feature 'SSE41' with flags (-msse -msse2 -msse3 -mssse3 -msse4.1)\n",
      "  \u001b[31m   \u001b[0m C compiler: gcc -pthread -B /dagher/dagher11/filip/Software/miniconda/envs/brainsmash/compiler_compat -Wl,--sysroot=/ -Wsign-compare -DNDEBUG -g -fwrapv -O3 -Wall -Wstrict-prototypes -fPIC\n",
      "  \u001b[31m   \u001b[0m \n",
      "  \u001b[31m   \u001b[0m compile options: '-I/dagher/dagher11/filip/Software/miniconda/envs/brainsmash/include/python3.7m -c'\n",
      "  \u001b[31m   \u001b[0m extra options: '-msse -msse2 -msse3 -mssse3 -msse4.1 -Werror'\n",
      "  \u001b[31m   \u001b[0m CCompilerOpt.feature_test[1468] : testing feature 'SSSE3' with flags (-msse -msse2 -msse3 -mssse3)\n",
      "  \u001b[31m   \u001b[0m C compiler: gcc -pthread -B /dagher/dagher11/filip/Software/miniconda/envs/brainsmash/compiler_compat -Wl,--sysroot=/ -Wsign-compare -DNDEBUG -g -fwrapv -O3 -Wall -Wstrict-prototypes -fPIC\n",
      "  \u001b[31m   \u001b[0m \n",
      "  \u001b[31m   \u001b[0m compile options: '-I/dagher/dagher11/filip/Software/miniconda/envs/brainsmash/include/python3.7m -c'\n",
      "  \u001b[31m   \u001b[0m extra options: '-msse -msse2 -msse3 -mssse3 -Werror'\n",
      "  \u001b[31m   \u001b[0m CCompilerOpt.cc_test_flags[1013] : testing flags (-mavx512cd)\n",
      "  \u001b[31m   \u001b[0m C compiler: gcc -pthread -B /dagher/dagher11/filip/Software/miniconda/envs/brainsmash/compiler_compat -Wl,--sysroot=/ -Wsign-compare -DNDEBUG -g -fwrapv -O3 -Wall -Wstrict-prototypes -fPIC\n",
      "  \u001b[31m   \u001b[0m \n",
      "  \u001b[31m   \u001b[0m compile options: '-I/dagher/dagher11/filip/Software/miniconda/envs/brainsmash/include/python3.7m -c'\n",
      "  \u001b[31m   \u001b[0m extra options: '-mavx512cd'\n",
      "  \u001b[31m   \u001b[0m CCompilerOpt.feature_test[1468] : testing feature 'AVX512CD' with flags (-msse -msse2 -msse3 -mssse3 -msse4.1 -mpopcnt -msse4.2 -mavx -mf16c -mfma -mavx2 -mavx512f -mavx512cd)\n",
      "  \u001b[31m   \u001b[0m C compiler: gcc -pthread -B /dagher/dagher11/filip/Software/miniconda/envs/brainsmash/compiler_compat -Wl,--sysroot=/ -Wsign-compare -DNDEBUG -g -fwrapv -O3 -Wall -Wstrict-prototypes -fPIC\n",
      "  \u001b[31m   \u001b[0m \n",
      "  \u001b[31m   \u001b[0m compile options: '-I/dagher/dagher11/filip/Software/miniconda/envs/brainsmash/include/python3.7m -c'\n",
      "  \u001b[31m   \u001b[0m extra options: '-msse -msse2 -msse3 -mssse3 -msse4.1 -mpopcnt -msse4.2 -mavx -mf16c -mfma -mavx2 -mavx512f -mavx512cd -Werror'\n",
      "  \u001b[31m   \u001b[0m CCompilerOpt.feature_test[1468] : testing feature 'AVX2' with flags (-msse -msse2 -msse3 -mssse3 -msse4.1 -mpopcnt -msse4.2 -mavx -mf16c -mavx2)\n",
      "  \u001b[31m   \u001b[0m C compiler: gcc -pthread -B /dagher/dagher11/filip/Software/miniconda/envs/brainsmash/compiler_compat -Wl,--sysroot=/ -Wsign-compare -DNDEBUG -g -fwrapv -O3 -Wall -Wstrict-prototypes -fPIC\n",
      "  \u001b[31m   \u001b[0m \n",
      "  \u001b[31m   \u001b[0m compile options: '-I/dagher/dagher11/filip/Software/miniconda/envs/brainsmash/include/python3.7m -c'\n",
      "  \u001b[31m   \u001b[0m extra options: '-msse -msse2 -msse3 -mssse3 -msse4.1 -mpopcnt -msse4.2 -mavx -mf16c -mavx2 -Werror'\n",
      "  \u001b[31m   \u001b[0m CCompilerOpt.cc_test_flags[1013] : testing flags (-mavx512er -mavx512pf)\n",
      "  \u001b[31m   \u001b[0m C compiler: gcc -pthread -B /dagher/dagher11/filip/Software/miniconda/envs/brainsmash/compiler_compat -Wl,--sysroot=/ -Wsign-compare -DNDEBUG -g -fwrapv -O3 -Wall -Wstrict-prototypes -fPIC\n",
      "  \u001b[31m   \u001b[0m \n",
      "  \u001b[31m   \u001b[0m compile options: '-I/dagher/dagher11/filip/Software/miniconda/envs/brainsmash/include/python3.7m -c'\n",
      "  \u001b[31m   \u001b[0m extra options: '-mavx512er -mavx512pf'\n",
      "  \u001b[31m   \u001b[0m CCompilerOpt.feature_test[1468] : testing feature 'AVX512_KNL' with flags (-msse -msse2 -msse3 -mssse3 -msse4.1 -mpopcnt -msse4.2 -mavx -mf16c -mfma -mavx2 -mavx512f -mavx512cd -mavx512er -mavx512pf)\n",
      "  \u001b[31m   \u001b[0m C compiler: gcc -pthread -B /dagher/dagher11/filip/Software/miniconda/envs/brainsmash/compiler_compat -Wl,--sysroot=/ -Wsign-compare -DNDEBUG -g -fwrapv -O3 -Wall -Wstrict-prototypes -fPIC\n",
      "  \u001b[31m   \u001b[0m \n",
      "  \u001b[31m   \u001b[0m compile options: '-I/dagher/dagher11/filip/Software/miniconda/envs/brainsmash/include/python3.7m -c'\n",
      "  \u001b[31m   \u001b[0m extra options: '-msse -msse2 -msse3 -mssse3 -msse4.1 -mpopcnt -msse4.2 -mavx -mf16c -mfma -mavx2 -mavx512f -mavx512cd -mavx512er -mavx512pf -Werror'\n",
      "  \u001b[31m   \u001b[0m CCompilerOpt.cc_test_flags[1013] : testing flags (-mavx512vl -mavx512bw -mavx512dq)\n",
      "  \u001b[31m   \u001b[0m C compiler: gcc -pthread -B /dagher/dagher11/filip/Software/miniconda/envs/brainsmash/compiler_compat -Wl,--sysroot=/ -Wsign-compare -DNDEBUG -g -fwrapv -O3 -Wall -Wstrict-prototypes -fPIC\n",
      "  \u001b[31m   \u001b[0m \n",
      "  \u001b[31m   \u001b[0m compile options: '-I/dagher/dagher11/filip/Software/miniconda/envs/brainsmash/include/python3.7m -c'\n",
      "  \u001b[31m   \u001b[0m extra options: '-mavx512vl -mavx512bw -mavx512dq'\n",
      "  \u001b[31m   \u001b[0m CCompilerOpt.feature_test[1468] : testing feature 'AVX512_SKX' with flags (-msse -msse2 -msse3 -mssse3 -msse4.1 -mpopcnt -msse4.2 -mavx -mf16c -mfma -mavx2 -mavx512f -mavx512cd -mavx512vl -mavx512bw -mavx512dq)\n",
      "  \u001b[31m   \u001b[0m C compiler: gcc -pthread -B /dagher/dagher11/filip/Software/miniconda/envs/brainsmash/compiler_compat -Wl,--sysroot=/ -Wsign-compare -DNDEBUG -g -fwrapv -O3 -Wall -Wstrict-prototypes -fPIC\n",
      "  \u001b[31m   \u001b[0m \n",
      "  \u001b[31m   \u001b[0m compile options: '-I/dagher/dagher11/filip/Software/miniconda/envs/brainsmash/include/python3.7m -c'\n",
      "  \u001b[31m   \u001b[0m extra options: '-msse -msse2 -msse3 -mssse3 -msse4.1 -mpopcnt -msse4.2 -mavx -mf16c -mfma -mavx2 -mavx512f -mavx512cd -mavx512vl -mavx512bw -mavx512dq -Werror'\n",
      "  \u001b[31m   \u001b[0m CCompilerOpt.cc_test_flags[1013] : testing flags (-mavx512vnni)\n",
      "  \u001b[31m   \u001b[0m C compiler: gcc -pthread -B /dagher/dagher11/filip/Software/miniconda/envs/brainsmash/compiler_compat -Wl,--sysroot=/ -Wsign-compare -DNDEBUG -g -fwrapv -O3 -Wall -Wstrict-prototypes -fPIC\n",
      "  \u001b[31m   \u001b[0m \n",
      "  \u001b[31m   \u001b[0m compile options: '-I/dagher/dagher11/filip/Software/miniconda/envs/brainsmash/include/python3.7m -c'\n",
      "  \u001b[31m   \u001b[0m extra options: '-mavx512vnni'\n",
      "  \u001b[31m   \u001b[0m Traceback (most recent call last):\n",
      "  \u001b[31m   \u001b[0m   File \"<string>\", line 36, in <module>\n",
      "  \u001b[31m   \u001b[0m   File \"<pip-setuptools-caller>\", line 34, in <module>\n",
      "  \u001b[31m   \u001b[0m   File \"/tmp/pip-install-3u4n327n/mayavi_dfecf62cb5eb46c2af96edbc344c32bb/setup.py\", line 474, in <module>\n",
      "  \u001b[31m   \u001b[0m     **config\n",
      "  \u001b[31m   \u001b[0m   File \"/dagher/dagher11/filip/Software/miniconda/envs/brainsmash/lib/python3.7/site-packages/numpy/distutils/core.py\", line 169, in setup\n",
      "  \u001b[31m   \u001b[0m     return old_setup(**new_attr)\n",
      "  \u001b[31m   \u001b[0m   File \"/dagher/dagher11/filip/Software/miniconda/envs/brainsmash/lib/python3.7/site-packages/setuptools/__init__.py\", line 153, in setup\n",
      "  \u001b[31m   \u001b[0m     return distutils.core.setup(**attrs)\n",
      "  \u001b[31m   \u001b[0m   File \"/dagher/dagher11/filip/Software/miniconda/envs/brainsmash/lib/python3.7/distutils/core.py\", line 148, in setup\n",
      "  \u001b[31m   \u001b[0m     dist.run_commands()\n",
      "  \u001b[31m   \u001b[0m   File \"/dagher/dagher11/filip/Software/miniconda/envs/brainsmash/lib/python3.7/distutils/dist.py\", line 966, in run_commands\n",
      "  \u001b[31m   \u001b[0m     self.run_command(cmd)\n",
      "  \u001b[31m   \u001b[0m   File \"/dagher/dagher11/filip/Software/miniconda/envs/brainsmash/lib/python3.7/distutils/dist.py\", line 985, in run_command\n",
      "  \u001b[31m   \u001b[0m     cmd_obj.run()\n",
      "  \u001b[31m   \u001b[0m   File \"/dagher/dagher11/filip/Software/miniconda/envs/brainsmash/lib/python3.7/site-packages/wheel/bdist_wheel.py\", line 299, in run\n",
      "  \u001b[31m   \u001b[0m     self.run_command('build')\n",
      "  \u001b[31m   \u001b[0m   File \"/dagher/dagher11/filip/Software/miniconda/envs/brainsmash/lib/python3.7/distutils/cmd.py\", line 313, in run_command\n",
      "  \u001b[31m   \u001b[0m     self.distribution.run_command(command)\n",
      "  \u001b[31m   \u001b[0m   File \"/dagher/dagher11/filip/Software/miniconda/envs/brainsmash/lib/python3.7/distutils/dist.py\", line 985, in run_command\n",
      "  \u001b[31m   \u001b[0m     cmd_obj.run()\n",
      "  \u001b[31m   \u001b[0m   File \"/tmp/pip-install-3u4n327n/mayavi_dfecf62cb5eb46c2af96edbc344c32bb/setup.py\", line 269, in run\n",
      "  \u001b[31m   \u001b[0m     build.build.run(self)\n",
      "  \u001b[31m   \u001b[0m   File \"/dagher/dagher11/filip/Software/miniconda/envs/brainsmash/lib/python3.7/site-packages/numpy/distutils/command/build.py\", line 61, in run\n",
      "  \u001b[31m   \u001b[0m     old_build.run(self)\n",
      "  \u001b[31m   \u001b[0m   File \"/dagher/dagher11/filip/Software/miniconda/envs/brainsmash/lib/python3.7/distutils/command/build.py\", line 135, in run\n",
      "  \u001b[31m   \u001b[0m     self.run_command(cmd_name)\n",
      "  \u001b[31m   \u001b[0m   File \"/dagher/dagher11/filip/Software/miniconda/envs/brainsmash/lib/python3.7/distutils/cmd.py\", line 313, in run_command\n",
      "  \u001b[31m   \u001b[0m     self.distribution.run_command(command)\n",
      "  \u001b[31m   \u001b[0m   File \"/dagher/dagher11/filip/Software/miniconda/envs/brainsmash/lib/python3.7/distutils/dist.py\", line 985, in run_command\n",
      "  \u001b[31m   \u001b[0m     cmd_obj.run()\n",
      "  \u001b[31m   \u001b[0m   File \"/dagher/dagher11/filip/Software/miniconda/envs/brainsmash/lib/python3.7/site-packages/numpy/distutils/command/build_ext.py\", line 166, in run\n",
      "  \u001b[31m   \u001b[0m     cache_path=opt_cache_path\n",
      "  \u001b[31m   \u001b[0m   File \"/dagher/dagher11/filip/Software/miniconda/envs/brainsmash/lib/python3.7/site-packages/numpy/distutils/ccompiler_opt.py\", line 2569, in new_ccompiler_opt\n",
      "  \u001b[31m   \u001b[0m     opt = CCompilerOpt(compiler, **kwargs)\n",
      "  \u001b[31m   \u001b[0m   File \"/dagher/dagher11/filip/Software/miniconda/envs/brainsmash/lib/python3.7/site-packages/numpy/distutils/ccompiler_opt.py\", line 2137, in __init__\n",
      "  \u001b[31m   \u001b[0m     _Parse.__init__(self, cpu_baseline, cpu_dispatch)\n",
      "  \u001b[31m   \u001b[0m   File \"/dagher/dagher11/filip/Software/miniconda/envs/brainsmash/lib/python3.7/site-packages/numpy/distutils/ccompiler_opt.py\", line 1719, in __init__\n",
      "  \u001b[31m   \u001b[0m     self.feature_names(cpu_dispatch)\n",
      "  \u001b[31m   \u001b[0m   File \"/dagher/dagher11/filip/Software/miniconda/envs/brainsmash/lib/python3.7/site-packages/numpy/distutils/ccompiler_opt.py\", line 1210, in feature_names\n",
      "  \u001b[31m   \u001b[0m     f, force_flags=force_flags, macros=macros\n",
      "  \u001b[31m   \u001b[0m   File \"/dagher/dagher11/filip/Software/miniconda/envs/brainsmash/lib/python3.7/site-packages/numpy/distutils/ccompiler_opt.py\", line 853, in cache_wrap_me\n",
      "  \u001b[31m   \u001b[0m     ccb = cb(self, *args, **kwargs)\n",
      "  \u001b[31m   \u001b[0m   File \"/dagher/dagher11/filip/Software/miniconda/envs/brainsmash/lib/python3.7/site-packages/numpy/distutils/ccompiler_opt.py\", line 1510, in feature_is_supported\n",
      "  \u001b[31m   \u001b[0m     if not self.feature_test(name, force_flags, macros=macros):\n",
      "  \u001b[31m   \u001b[0m   File \"/dagher/dagher11/filip/Software/miniconda/envs/brainsmash/lib/python3.7/site-packages/numpy/distutils/ccompiler_opt.py\", line 853, in cache_wrap_me\n",
      "  \u001b[31m   \u001b[0m     ccb = cb(self, *args, **kwargs)\n",
      "  \u001b[31m   \u001b[0m   File \"/dagher/dagher11/filip/Software/miniconda/envs/brainsmash/lib/python3.7/site-packages/numpy/distutils/ccompiler_opt.py\", line 1464, in feature_test\n",
      "  \u001b[31m   \u001b[0m     force_flags = self.feature_flags(name)\n",
      "  \u001b[31m   \u001b[0m   File \"/dagher/dagher11/filip/Software/miniconda/envs/brainsmash/lib/python3.7/site-packages/numpy/distutils/ccompiler_opt.py\", line 853, in cache_wrap_me\n",
      "  \u001b[31m   \u001b[0m     ccb = cb(self, *args, **kwargs)\n",
      "  \u001b[31m   \u001b[0m   File \"/dagher/dagher11/filip/Software/miniconda/envs/brainsmash/lib/python3.7/site-packages/numpy/distutils/ccompiler_opt.py\", line 1440, in feature_flags\n",
      "  \u001b[31m   \u001b[0m     if not f or not self.cc_test_flags(f):\n",
      "  \u001b[31m   \u001b[0m   File \"/dagher/dagher11/filip/Software/miniconda/envs/brainsmash/lib/python3.7/site-packages/numpy/distutils/ccompiler_opt.py\", line 853, in cache_wrap_me\n",
      "  \u001b[31m   \u001b[0m     ccb = cb(self, *args, **kwargs)\n",
      "  \u001b[31m   \u001b[0m   File \"/dagher/dagher11/filip/Software/miniconda/envs/brainsmash/lib/python3.7/site-packages/numpy/distutils/ccompiler_opt.py\", line 1015, in cc_test_flags\n",
      "  \u001b[31m   \u001b[0m     test = self.dist_test(test_path, flags)\n",
      "  \u001b[31m   \u001b[0m   File \"/dagher/dagher11/filip/Software/miniconda/envs/brainsmash/lib/python3.7/site-packages/numpy/distutils/ccompiler_opt.py\", line 577, in dist_test\n",
      "  \u001b[31m   \u001b[0m     [source], flags, macros=macros, output_dir=self.conf_tmp_path\n",
      "  \u001b[31m   \u001b[0m   File \"/dagher/dagher11/filip/Software/miniconda/envs/brainsmash/lib/python3.7/site-packages/numpy/distutils/ccompiler_opt.py\", line 558, in dist_compile\n",
      "  \u001b[31m   \u001b[0m     return ccompiler.compile(sources, extra_postargs=flags, **kwargs)\n",
      "  \u001b[31m   \u001b[0m   File \"/dagher/dagher11/filip/Software/miniconda/envs/brainsmash/lib/python3.7/site-packages/numpy/distutils/ccompiler.py\", line 89, in <lambda>\n",
      "  \u001b[31m   \u001b[0m     m = lambda self, *args, **kw: func(self, *args, **kw)\n",
      "  \u001b[31m   \u001b[0m   File \"/dagher/dagher11/filip/Software/miniconda/envs/brainsmash/lib/python3.7/site-packages/numpy/distutils/ccompiler.py\", line 366, in CCompiler_compile\n",
      "  \u001b[31m   \u001b[0m     single_compile(o)\n",
      "  \u001b[31m   \u001b[0m   File \"/dagher/dagher11/filip/Software/miniconda/envs/brainsmash/lib/python3.7/site-packages/numpy/distutils/ccompiler.py\", line 326, in single_compile\n",
      "  \u001b[31m   \u001b[0m     self._compile(obj, src, ext, cc_args, extra_postargs, pp_opts)\n",
      "  \u001b[31m   \u001b[0m   File \"/dagher/dagher11/filip/Software/miniconda/envs/brainsmash/lib/python3.7/site-packages/numpy/distutils/ccompiler.py\", line 89, in <lambda>\n",
      "  \u001b[31m   \u001b[0m     m = lambda self, *args, **kw: func(self, *args, **kw)\n",
      "  \u001b[31m   \u001b[0m   File \"/dagher/dagher11/filip/Software/miniconda/envs/brainsmash/lib/python3.7/site-packages/numpy/distutils/unixccompiler.py\", line 54, in UnixCCompiler__compile\n",
      "  \u001b[31m   \u001b[0m     extra_postargs, display = display)\n",
      "  \u001b[31m   \u001b[0m   File \"/dagher/dagher11/filip/Software/miniconda/envs/brainsmash/lib/python3.7/site-packages/numpy/distutils/ccompiler_opt.py\", line 702, in _dist_test_spawn\n",
      "  \u001b[31m   \u001b[0m     universal_newlines=True)\n",
      "  \u001b[31m   \u001b[0m   File \"/dagher/dagher11/filip/Software/miniconda/envs/brainsmash/lib/python3.7/subprocess.py\", line 411, in check_output\n",
      "  \u001b[31m   \u001b[0m     **kwargs).stdout\n",
      "  \u001b[31m   \u001b[0m   File \"/dagher/dagher11/filip/Software/miniconda/envs/brainsmash/lib/python3.7/subprocess.py\", line 490, in run\n",
      "  \u001b[31m   \u001b[0m     stdout, stderr = process.communicate(input, timeout=timeout)\n",
      "  \u001b[31m   \u001b[0m   File \"/dagher/dagher11/filip/Software/miniconda/envs/brainsmash/lib/python3.7/subprocess.py\", line 951, in communicate\n",
      "  \u001b[31m   \u001b[0m     stdout = self.stdout.read()\n",
      "  \u001b[31m   \u001b[0m   File \"/dagher/dagher11/filip/Software/miniconda/envs/brainsmash/lib/python3.7/encodings/ascii.py\", line 26, in decode\n",
      "  \u001b[31m   \u001b[0m     return codecs.ascii_decode(input, self.errors)[0]\n",
      "  \u001b[31m   \u001b[0m UnicodeDecodeError: 'ascii' codec can't decode byte 0xe2 in position 45: ordinal not in range(128)\n",
      "  \u001b[31m   \u001b[0m CCompilerOpt.cache_flush[809] : write cache to path -> /tmp/pip-install-3u4n327n/mayavi_dfecf62cb5eb46c2af96edbc344c32bb/build/temp.linux-x86_64-3.7/ccompiler_opt_cache_ext.py\n",
      "  \u001b[31m   \u001b[0m \u001b[31m[end of output]\u001b[0m\n",
      "  \n",
      "  \u001b[1;35mnote\u001b[0m: This error originates from a subprocess, and is likely not a problem with pip.\n",
      "\u001b[31m  ERROR: Failed building wheel for mayavi\u001b[0m\u001b[31m\n",
      "\u001b[0m\u001b[?25h  Running setup.py clean for mayavi\n"
     ]
    },
    {
     "name": "stdout",
     "output_type": "stream",
     "text": [
      "Failed to build mayavi\n",
      "Installing collected packages: mayavi\n",
      "  Running setup.py install for mayavi ... \u001b[?25lerror\n",
      "  \u001b[1;31merror\u001b[0m: \u001b[1msubprocess-exited-with-error\u001b[0m\n",
      "  \n",
      "  \u001b[31m×\u001b[0m \u001b[32mRunning setup.py install for mayavi\u001b[0m did not run successfully.\n",
      "  \u001b[31m│\u001b[0m exit code: \u001b[1;36m1\u001b[0m\n",
      "  \u001b[31m╰─>\u001b[0m \u001b[31m[846 lines of output]\u001b[0m\n",
      "  \u001b[31m   \u001b[0m running install\n",
      "  \u001b[31m   \u001b[0m running build\n",
      "  \u001b[31m   \u001b[0m ----------------------------------------------------------------------\n",
      "  \u001b[31m   \u001b[0m Deleting possibly old TVTK classes\n",
      "  \u001b[31m   \u001b[0m Building TVTK classes... vtkContextDevice2D: Ignoring method: Get/SetViewportRect\n",
      "  \u001b[31m   \u001b[0m default: [-1973625808, 32739, -1973625808, 32739], range: None\n",
      "  \u001b[31m   \u001b[0m vtkContextDevice2D: Ignoring method: Get/SetViewportSize\n",
      "  \u001b[31m   \u001b[0m default: [-1973625808, 32739], range: None\n",
      "  \u001b[31m   \u001b[0m vtkEventDataForDevice: Ignoring method: Get/SetAction\n",
      "  \u001b[31m   \u001b[0m default: -1, range: None\n",
      "  \u001b[31m   \u001b[0m vtkEventDataForDevice: Ignoring method: Get/SetDevice\n",
      "  \u001b[31m   \u001b[0m default: -1, range: None\n",
      "  \u001b[31m   \u001b[0m vtkFXAAOptions: Ignoring method: Get/SetDebugOptionValue\n",
      "  \u001b[31m   \u001b[0m default: 0, range: None\n",
      "  \u001b[31m   \u001b[0m vtkIncrementalForceLayout: Ignoring method: Get/SetGravityPoint\n",
      "  \u001b[31m   \u001b[0m default: [200.0, 200.0], range: None\n",
      "  \u001b[31m   \u001b[0m vtkOpenGLBufferObject: Ignoring method: Get/SetType\n",
      "  \u001b[31m   \u001b[0m default: 0, range: None\n",
      "  \u001b[31m   \u001b[0m vtkOpenGLFXAAFilter: Ignoring method: Get/SetDebugOptionValue\n",
      "  \u001b[31m   \u001b[0m default: 0, range: None\n",
      "  \u001b[31m   \u001b[0m vtkRenderWidget: Ignoring method: Get/SetPosition\n",
      "  \u001b[31m   \u001b[0m default: [0, 0], range: None\n",
      "  \u001b[31m   \u001b[0m vtkRenderWidget: Ignoring method: Get/SetSize\n",
      "  \u001b[31m   \u001b[0m default: [300, 300], range: None\n",
      "  \u001b[31m   \u001b[0m vtkShader: Ignoring method: Get/SetType\n",
      "  \u001b[31m   \u001b[0m default: 3, range: None\n",
      "  \u001b[31m   \u001b[0m vtkVolumeTexture: Ignoring method: Get/SetPartitions\n",
      "  \u001b[31m   \u001b[0m default: [1, 1, 1], range: None\n",
      "  \u001b[31m   \u001b[0m vtkChartMatrix: Ignoring method: Get/SetFillStrategy\n",
      "  \u001b[31m   \u001b[0m default: 0, range: None\n",
      "  \u001b[31m   \u001b[0m vtkChartMatrix: Ignoring method: Get/SetGutter\n",
      "  \u001b[31m   \u001b[0m default: [15.0, 15.0], range: None\n",
      "  \u001b[31m   \u001b[0m vtkChartMatrix: Ignoring method: Get/SetRect\n",
      "  \u001b[31m   \u001b[0m default: [0, 0, 100, 100], range: None\n",
      "  \u001b[31m   \u001b[0m vtkChartMatrix: Ignoring method: Get/SetSize\n",
      "  \u001b[31m   \u001b[0m default: [0, 0], range: None\n",
      "  \u001b[31m   \u001b[0m vtkContextArea: Ignoring method: Get/SetDrawAreaBounds\n",
      "  \u001b[31m   \u001b[0m default: [0.0, 0.0, 300.0, 300.0], range: None\n",
      "  \u001b[31m   \u001b[0m vtkContextArea: Ignoring method: Get/SetDrawAreaResizeBehavior\n",
      "  \u001b[31m   \u001b[0m default: 0, range: None\n",
      "  \u001b[31m   \u001b[0m vtkContextArea: Ignoring method: Get/SetFixedMargins\n",
      "  \u001b[31m   \u001b[0m default: [0, 0, 0, 0], range: None\n",
      "  \u001b[31m   \u001b[0m vtkContextArea: Ignoring method: Get/SetFixedRect\n",
      "  \u001b[31m   \u001b[0m default: [0, 0, 300, 300], range: None\n",
      "  \u001b[31m   \u001b[0m vtkContextArea: Ignoring method: Get/SetGeometry\n",
      "  \u001b[31m   \u001b[0m default: [0, 0, 300, 300], range: None\n",
      "  \u001b[31m   \u001b[0m vtkImplicitProjectOnPlaneDistance: Ignoring method: Get/SetNorm\n",
      "  \u001b[31m   \u001b[0m default: 2, range: None\n",
      "  \u001b[31m   \u001b[0m vtkOpenGLVertexBufferObject: Ignoring method: Get/SetCoordShiftAndScaleMethod\n",
      "  \u001b[31m   \u001b[0m default: 0, range: None\n",
      "  \u001b[31m   \u001b[0m vtkSimple3DCirclesStrategy: Ignoring method: Get/SetMarkedValue\n",
      "  \u001b[31m   \u001b[0m default: (invalid), range: None\n",
      "  \u001b[31m   \u001b[0m vtkArrayNorm: Ignoring method: Get/SetWindow\n",
      "  \u001b[31m   \u001b[0m default: [0, 9223372036854775807), range: None\n",
      "  \u001b[31m   \u001b[0m vtkChart: Ignoring method: Get/SetSize\n",
      "  \u001b[31m   \u001b[0m default: [0.0, 0.0, 0.0, 0.0], range: None\n",
      "  \u001b[31m   \u001b[0m vtkChartXYZ: Ignoring method: Get/SetAxisColor\n",
      "  \u001b[31m   \u001b[0m default: [0, 0, 0, 255], range: None\n",
      "  \u001b[31m   \u001b[0m vtkEuclideanClusterExtraction: Radius not updatable (VTK 9.1 bug - value not properly initialized)\n",
      "  \u001b[31m   \u001b[0m Warning: We cannot determine the trait type of vtkHigherOrderHexahedron.Order\n",
      "  \u001b[31m   \u001b[0m Warning: We cannot determine the trait type of vtkHigherOrderQuadrilateral.Order\n",
      "  \u001b[31m   \u001b[0m Warning: We cannot determine the trait type of vtkHigherOrderWedge.Order\n",
      "  \u001b[31m   \u001b[0m vtkLightingMapPass: Ignoring method: Get/SetRenderType\n",
      "  \u001b[31m   \u001b[0m default: 0, range: None\n",
      "  \u001b[31m   \u001b[0m vtkPlot: Ignoring method: Get/SetShiftScale\n",
      "  \u001b[31m   \u001b[0m default: [0.0, 0.0, 1.0, 1.0], range: None\n",
      "  \u001b[31m   \u001b[0m vtkScatterPlotMatrix: Ignoring method: Get/SetActivePlot\n",
      "  \u001b[31m   \u001b[0m default: [0, -2], range: None\n",
      "  \u001b[31m   \u001b[0m vtkScatterPlotMatrix: Ignoring method: Get/SetScatterPlotSelectedActiveColor\n",
      "  \u001b[31m   \u001b[0m default: [0, 204, 0, 102], range: None\n",
      "  \u001b[31m   \u001b[0m vtkScatterPlotMatrix: Ignoring method: Get/SetScatterPlotSelectedRowColumnColor\n",
      "  \u001b[31m   \u001b[0m default: [204, 0, 0, 102], range: None\n",
      "  \u001b[31m   \u001b[0m vtkScatterPlotMatrix: Ignoring method: Get/SetSize\n",
      "  \u001b[31m   \u001b[0m default: [0, 0], range: None\n",
      "  \u001b[31m   \u001b[0m vtkSparseArray_I10vtkVariantE: Ignoring method: Get/SetExtents\n",
      "  \u001b[31m   \u001b[0m default: , range: None\n",
      "  \u001b[31m   \u001b[0m vtkSparseArray_I10vtkVariantE: Ignoring method: Get/SetNullValue\n",
      "  \u001b[31m   \u001b[0m default: (invalid), range: None\n",
      "  \u001b[31m   \u001b[0m vtkSparseArray_I12vtkStdStringE: Ignoring method: Get/SetExtents\n",
      "  \u001b[31m   \u001b[0m default: , range: None\n",
      "  \u001b[31m   \u001b[0m vtkSparseArray_I16vtkUnicodeStringE: Ignoring method: Get/SetExtents\n",
      "  \u001b[31m   \u001b[0m default: , range: None\n",
      "  \u001b[31m   \u001b[0m vtkSparseArray_IaE: Ignoring method: Get/SetExtents\n",
      "  \u001b[31m   \u001b[0m default: , range: None\n",
      "  \u001b[31m   \u001b[0m vtkSparseArray_IcE: Ignoring method: Get/SetExtents\n",
      "  \u001b[31m   \u001b[0m default: , range: None\n",
      "  \u001b[31m   \u001b[0m vtkSparseArray_IdE: Ignoring method: Get/SetExtents\n",
      "  \u001b[31m   \u001b[0m default: , range: None\n",
      "  \u001b[31m   \u001b[0m vtkSparseArray_IfE: Ignoring method: Get/SetExtents\n",
      "  \u001b[31m   \u001b[0m default: , range: None\n",
      "  \u001b[31m   \u001b[0m vtkSparseArray_IhE: Ignoring method: Get/SetExtents\n",
      "  \u001b[31m   \u001b[0m default: , range: None\n",
      "  \u001b[31m   \u001b[0m vtkSparseArray_IiE: Ignoring method: Get/SetExtents\n",
      "  \u001b[31m   \u001b[0m default: , range: None\n",
      "  \u001b[31m   \u001b[0m vtkSparseArray_IjE: Ignoring method: Get/SetExtents\n",
      "  \u001b[31m   \u001b[0m default: , range: None\n",
      "  \u001b[31m   \u001b[0m vtkSparseArray_IlE: Ignoring method: Get/SetExtents\n",
      "  \u001b[31m   \u001b[0m default: , range: None\n",
      "  \u001b[31m   \u001b[0m vtkSparseArray_ImE: Ignoring method: Get/SetExtents\n",
      "  \u001b[31m   \u001b[0m default: , range: None\n",
      "  \u001b[31m   \u001b[0m vtkSparseArray_IsE: Ignoring method: Get/SetExtents\n",
      "  \u001b[31m   \u001b[0m default: , range: None\n",
      "  \u001b[31m   \u001b[0m vtkSparseArray_ItE: Ignoring method: Get/SetExtents\n",
      "  \u001b[31m   \u001b[0m default: , range: None\n",
      "  \u001b[31m   \u001b[0m vtkSparseArray_IxE: Ignoring method: Get/SetExtents\n",
      "  \u001b[31m   \u001b[0m default: , range: None\n",
      "  \u001b[31m   \u001b[0m vtkSparseArray_IyE: Ignoring method: Get/SetExtents\n",
      "  \u001b[31m   \u001b[0m default: , range: None\n",
      "  \u001b[31m   \u001b[0m vtkThresholdTable: Ignoring method: Get/SetMaxValue\n",
      "  \u001b[31m   \u001b[0m default: 2147483647, range: None\n",
      "  \u001b[31m   \u001b[0m vtkThresholdTable: Ignoring method: Get/SetMinValue\n",
      "  \u001b[31m   \u001b[0m default: 0, range: None\n",
      "  \u001b[31m   \u001b[0m vtkTransferAttributes: Ignoring method: Get/SetDefaultValue\n",
      "  \u001b[31m   \u001b[0m default: 1, range: None\n",
      "  \u001b[31m   \u001b[0m Bad to call vtkUniformHyperTreeGrid::GetXCoordinates\n",
      "  \u001b[31m   \u001b[0m Bad to call vtkUniformHyperTreeGrid::GetYCoordinates\n",
      "  \u001b[31m   \u001b[0m Bad to call vtkUniformHyperTreeGrid::GetZCoordinates\n",
      "  \u001b[31m   \u001b[0m vtkColorLegend: Ignoring method: Get/SetPosition\n",
      "  \u001b[31m   \u001b[0m default: [0.0, 0.0, 0.0, 0.0], range: None\n",
      "  \u001b[31m   \u001b[0m Warning: We cannot determine the trait type of vtkImageMask.MaskedOutputValue\n",
      "  \u001b[31m   \u001b[0m vtkMolecule: Ignoring method: Get/SetLatticeOrigin\n",
      "  \u001b[31m   \u001b[0m default: [0.0, 0.0, 0.0], range: None\n",
      "  \u001b[31m   \u001b[0m vtkPOpenFOAMReader: Ignoring method: Get/SetCaseType\n",
      "  \u001b[31m   \u001b[0m default: 1, range: None\n",
      "  \u001b[31m   \u001b[0m vtkPlotHistogram2D: Ignoring method: Get/SetPosition\n",
      "  \u001b[31m   \u001b[0m default: [0.0, 0.0, 0.0, 0.0], range: None\n",
      "  \u001b[31m   \u001b[0m \u001b[0m\u001b[33m2022-02-28 14:12:04.059 (   7.428s) [        8F6BD240] vtkDataObjectTypes.cxx:280   WARN| 'NewDataObject' cannot create 'vtkCompositeDataSet'.\u001b[0m\n",
      "  \u001b[31m   \u001b[0m Warning: We cannot determine the trait type of vtkGraphMapper.IconSize\n",
      "  \u001b[31m   \u001b[0m vtkOpenGLFluidMapper: Ignoring method: Get/SetDisplayMode\n",
      "  \u001b[31m   \u001b[0m default: 4, range: None\n",
      "  \u001b[31m   \u001b[0m vtkOpenGLFluidMapper: Ignoring method: Get/SetSurfaceFilterMethod\n",
      "  \u001b[31m   \u001b[0m default: 1, range: None\n",
      "  \u001b[31m   \u001b[0m vtkSmartVolumeMapper: VectorComponent not updatable (VTK 8.x bug - value not properly initialized)\n",
      "  \u001b[31m   \u001b[0m Done.\n",
      "  \u001b[31m   \u001b[0m ----------------------------------------------------------------------\n",
      "  \u001b[31m   \u001b[0m running config_cc\n",
      "  \u001b[31m   \u001b[0m unifing config_cc, config, build_clib, build_ext, build commands --compiler options\n",
      "  \u001b[31m   \u001b[0m running config_fc\n",
      "  \u001b[31m   \u001b[0m unifing config_fc, config, build_clib, build_ext, build commands --fcompiler options\n",
      "  \u001b[31m   \u001b[0m running build_src\n",
      "  \u001b[31m   \u001b[0m build_src\n",
      "  \u001b[31m   \u001b[0m building extension \"tvtk.array_ext\" sources\n",
      "  \u001b[31m   \u001b[0m building data_files sources\n",
      "  \u001b[31m   \u001b[0m build_src: building npy-pkg config files\n",
      "  \u001b[31m   \u001b[0m running build_py\n",
      "  \u001b[31m   \u001b[0m creating build\n",
      "  \u001b[31m   \u001b[0m creating build/lib.linux-x86_64-3.7\n",
      "  \u001b[31m   \u001b[0m creating build/lib.linux-x86_64-3.7/tvtk\n",
      "  \u001b[31m   \u001b[0m copying tvtk/__init__.py -> build/lib.linux-x86_64-3.7/tvtk\n",
      "  \u001b[31m   \u001b[0m copying tvtk/code_gen.py -> build/lib.linux-x86_64-3.7/tvtk\n",
      "  \u001b[31m   \u001b[0m copying tvtk/misc.py -> build/lib.linux-x86_64-3.7/tvtk\n",
      "  \u001b[31m   \u001b[0m copying tvtk/vtk_parser.py -> build/lib.linux-x86_64-3.7/tvtk\n",
      "  \u001b[31m   \u001b[0m copying tvtk/api.py -> build/lib.linux-x86_64-3.7/tvtk\n",
      "  \u001b[31m   \u001b[0m copying tvtk/array_handler.py -> build/lib.linux-x86_64-3.7/tvtk\n",
      "  \u001b[31m   \u001b[0m copying tvtk/tvtk_base.py -> build/lib.linux-x86_64-3.7/tvtk\n",
      "  \u001b[31m   \u001b[0m copying tvtk/setup.py -> build/lib.linux-x86_64-3.7/tvtk\n",
      "  \u001b[31m   \u001b[0m copying tvtk/common.py -> build/lib.linux-x86_64-3.7/tvtk\n",
      "  \u001b[31m   \u001b[0m copying tvtk/tvtk_access.py -> build/lib.linux-x86_64-3.7/tvtk\n",
      "  \u001b[31m   \u001b[0m copying tvtk/indenter.py -> build/lib.linux-x86_64-3.7/tvtk\n",
      "  \u001b[31m   \u001b[0m copying tvtk/special_gen.py -> build/lib.linux-x86_64-3.7/tvtk\n",
      "  \u001b[31m   \u001b[0m copying tvtk/wrapper_gen.py -> build/lib.linux-x86_64-3.7/tvtk\n",
      "  \u001b[31m   \u001b[0m copying tvtk/version.py -> build/lib.linux-x86_64-3.7/tvtk\n",
      "  \u001b[31m   \u001b[0m copying tvtk/class_tree.py -> build/lib.linux-x86_64-3.7/tvtk\n",
      "  \u001b[31m   \u001b[0m copying tvtk/vtk_module.py -> build/lib.linux-x86_64-3.7/tvtk\n",
      "  \u001b[31m   \u001b[0m copying tvtk/value_column.py -> build/lib.linux-x86_64-3.7/tvtk\n",
      "  \u001b[31m   \u001b[0m copying tvtk/tvtk_base_handler.py -> build/lib.linux-x86_64-3.7/tvtk\n",
      "  \u001b[31m   \u001b[0m copying tvtk/messenger.py -> build/lib.linux-x86_64-3.7/tvtk\n",
      "  \u001b[31m   \u001b[0m creating build/lib.linux-x86_64-3.7/tvtk/custom\n",
      "  \u001b[31m   \u001b[0m copying tvtk/custom/__init__.py -> build/lib.linux-x86_64-3.7/tvtk/custom\n",
      "  \u001b[31m   \u001b[0m creating build/lib.linux-x86_64-3.7/tvtk/pipeline\n",
      "  \u001b[31m   \u001b[0m copying tvtk/pipeline/__init__.py -> build/lib.linux-x86_64-3.7/tvtk/pipeline\n",
      "  \u001b[31m   \u001b[0m copying tvtk/pipeline/browser.py -> build/lib.linux-x86_64-3.7/tvtk/pipeline\n",
      "  \u001b[31m   \u001b[0m creating build/lib.linux-x86_64-3.7/tvtk/pyface\n",
      "  \u001b[31m   \u001b[0m copying tvtk/pyface/__init__.py -> build/lib.linux-x86_64-3.7/tvtk/pyface\n",
      "  \u001b[31m   \u001b[0m copying tvtk/pyface/movie_maker.py -> build/lib.linux-x86_64-3.7/tvtk/pyface\n",
      "  \u001b[31m   \u001b[0m copying tvtk/pyface/scene_model.py -> build/lib.linux-x86_64-3.7/tvtk/pyface\n",
      "  \u001b[31m   \u001b[0m copying tvtk/pyface/actor_model.py -> build/lib.linux-x86_64-3.7/tvtk/pyface\n",
      "  \u001b[31m   \u001b[0m copying tvtk/pyface/api.py -> build/lib.linux-x86_64-3.7/tvtk/pyface\n",
      "  \u001b[31m   \u001b[0m copying tvtk/pyface/decorated_scene.py -> build/lib.linux-x86_64-3.7/tvtk/pyface\n",
      "  \u001b[31m   \u001b[0m copying tvtk/pyface/actor_editor.py -> build/lib.linux-x86_64-3.7/tvtk/pyface\n",
      "  \u001b[31m   \u001b[0m copying tvtk/pyface/light_manager.py -> build/lib.linux-x86_64-3.7/tvtk/pyface\n",
      "  \u001b[31m   \u001b[0m copying tvtk/pyface/utils.py -> build/lib.linux-x86_64-3.7/tvtk/pyface\n",
      "  \u001b[31m   \u001b[0m copying tvtk/pyface/actors.py -> build/lib.linux-x86_64-3.7/tvtk/pyface\n",
      "  \u001b[31m   \u001b[0m copying tvtk/pyface/picker.py -> build/lib.linux-x86_64-3.7/tvtk/pyface\n",
      "  \u001b[31m   \u001b[0m copying tvtk/pyface/scene.py -> build/lib.linux-x86_64-3.7/tvtk/pyface\n",
      "  \u001b[31m   \u001b[0m copying tvtk/pyface/tvtk_scene.py -> build/lib.linux-x86_64-3.7/tvtk/pyface\n",
      "  \u001b[31m   \u001b[0m copying tvtk/pyface/toolkit.py -> build/lib.linux-x86_64-3.7/tvtk/pyface\n",
      "  \u001b[31m   \u001b[0m copying tvtk/pyface/scene_editor.py -> build/lib.linux-x86_64-3.7/tvtk/pyface\n",
      "  \u001b[31m   \u001b[0m creating build/lib.linux-x86_64-3.7/tvtk/pyface/ui\n",
      "  \u001b[31m   \u001b[0m copying tvtk/pyface/ui/__init__.py -> build/lib.linux-x86_64-3.7/tvtk/pyface/ui\n",
      "  \u001b[31m   \u001b[0m creating build/lib.linux-x86_64-3.7/tvtk/pyface/ui/null\n",
      "  \u001b[31m   \u001b[0m copying tvtk/pyface/ui/null/__init__.py -> build/lib.linux-x86_64-3.7/tvtk/pyface/ui/null\n",
      "  \u001b[31m   \u001b[0m copying tvtk/pyface/ui/null/init.py -> build/lib.linux-x86_64-3.7/tvtk/pyface/ui/null\n",
      "  \u001b[31m   \u001b[0m creating build/lib.linux-x86_64-3.7/tvtk/pyface/ui/qt4\n",
      "  \u001b[31m   \u001b[0m copying tvtk/pyface/ui/qt4/__init__.py -> build/lib.linux-x86_64-3.7/tvtk/pyface/ui/qt4\n",
      "  \u001b[31m   \u001b[0m copying tvtk/pyface/ui/qt4/init.py -> build/lib.linux-x86_64-3.7/tvtk/pyface/ui/qt4\n",
      "  \u001b[31m   \u001b[0m copying tvtk/pyface/ui/qt4/QVTKRenderWindowInteractor.py -> build/lib.linux-x86_64-3.7/tvtk/pyface/ui/qt4\n",
      "  \u001b[31m   \u001b[0m copying tvtk/pyface/ui/qt4/decorated_scene.py -> build/lib.linux-x86_64-3.7/tvtk/pyface/ui/qt4\n",
      "  \u001b[31m   \u001b[0m copying tvtk/pyface/ui/qt4/actor_editor.py -> build/lib.linux-x86_64-3.7/tvtk/pyface/ui/qt4\n",
      "  \u001b[31m   \u001b[0m copying tvtk/pyface/ui/qt4/scene.py -> build/lib.linux-x86_64-3.7/tvtk/pyface/ui/qt4\n",
      "  \u001b[31m   \u001b[0m copying tvtk/pyface/ui/qt4/scene_editor.py -> build/lib.linux-x86_64-3.7/tvtk/pyface/ui/qt4\n",
      "  \u001b[31m   \u001b[0m creating build/lib.linux-x86_64-3.7/tvtk/pyface/ui/wx\n",
      "  \u001b[31m   \u001b[0m copying tvtk/pyface/ui/wx/__init__.py -> build/lib.linux-x86_64-3.7/tvtk/pyface/ui/wx\n",
      "  \u001b[31m   \u001b[0m copying tvtk/pyface/ui/wx/init.py -> build/lib.linux-x86_64-3.7/tvtk/pyface/ui/wx\n",
      "  \u001b[31m   \u001b[0m copying tvtk/pyface/ui/wx/decorated_scene.py -> build/lib.linux-x86_64-3.7/tvtk/pyface/ui/wx\n",
      "  \u001b[31m   \u001b[0m copying tvtk/pyface/ui/wx/actor_editor.py -> build/lib.linux-x86_64-3.7/tvtk/pyface/ui/wx\n",
      "  \u001b[31m   \u001b[0m copying tvtk/pyface/ui/wx/wxVTKRenderWindowInteractor.py -> build/lib.linux-x86_64-3.7/tvtk/pyface/ui/wx\n",
      "  \u001b[31m   \u001b[0m copying tvtk/pyface/ui/wx/scene.py -> build/lib.linux-x86_64-3.7/tvtk/pyface/ui/wx\n",
      "  \u001b[31m   \u001b[0m copying tvtk/pyface/ui/wx/scene_editor.py -> build/lib.linux-x86_64-3.7/tvtk/pyface/ui/wx\n",
      "  \u001b[31m   \u001b[0m creating build/lib.linux-x86_64-3.7/tvtk/view\n",
      "  \u001b[31m   \u001b[0m copying tvtk/view/__init__.py -> build/lib.linux-x86_64-3.7/tvtk/view\n",
      "  \u001b[31m   \u001b[0m copying tvtk/view/parametric_function_source_view.py -> build/lib.linux-x86_64-3.7/tvtk/view\n",
      "  \u001b[31m   \u001b[0m creating build/lib.linux-x86_64-3.7/tvtk/plugins\n",
      "  \u001b[31m   \u001b[0m copying tvtk/plugins/__init__.py -> build/lib.linux-x86_64-3.7/tvtk/plugins\n",
      "  \u001b[31m   \u001b[0m creating build/lib.linux-x86_64-3.7/tvtk/plugins/browser\n",
      "  \u001b[31m   \u001b[0m copying tvtk/plugins/browser/__init__.py -> build/lib.linux-x86_64-3.7/tvtk/plugins/browser\n",
      "  \u001b[31m   \u001b[0m copying tvtk/plugins/browser/browser_view.py -> build/lib.linux-x86_64-3.7/tvtk/plugins/browser\n",
      "  \u001b[31m   \u001b[0m copying tvtk/plugins/browser/browser_plugin.py -> build/lib.linux-x86_64-3.7/tvtk/plugins/browser\n",
      "  \u001b[31m   \u001b[0m creating build/lib.linux-x86_64-3.7/tvtk/plugins/scene\n",
      "  \u001b[31m   \u001b[0m copying tvtk/plugins/scene/__init__.py -> build/lib.linux-x86_64-3.7/tvtk/plugins/scene\n",
      "  \u001b[31m   \u001b[0m copying tvtk/plugins/scene/scene_plugin.py -> build/lib.linux-x86_64-3.7/tvtk/plugins/scene\n",
      "  \u001b[31m   \u001b[0m copying tvtk/plugins/scene/scene_manager.py -> build/lib.linux-x86_64-3.7/tvtk/plugins/scene\n",
      "  \u001b[31m   \u001b[0m copying tvtk/plugins/scene/i_scene_manager.py -> build/lib.linux-x86_64-3.7/tvtk/plugins/scene\n",
      "  \u001b[31m   \u001b[0m copying tvtk/plugins/scene/scene_editor.py -> build/lib.linux-x86_64-3.7/tvtk/plugins/scene\n",
      "  \u001b[31m   \u001b[0m creating build/lib.linux-x86_64-3.7/tvtk/plugins/scene/ui\n",
      "  \u001b[31m   \u001b[0m copying tvtk/plugins/scene/ui/__init__.py -> build/lib.linux-x86_64-3.7/tvtk/plugins/scene/ui\n",
      "  \u001b[31m   \u001b[0m copying tvtk/plugins/scene/ui/actions.py -> build/lib.linux-x86_64-3.7/tvtk/plugins/scene/ui\n",
      "  \u001b[31m   \u001b[0m copying tvtk/plugins/scene/ui/scene_preferences_page.py -> build/lib.linux-x86_64-3.7/tvtk/plugins/scene/ui\n",
      "  \u001b[31m   \u001b[0m copying tvtk/plugins/scene/ui/scene_ui_action_set.py -> build/lib.linux-x86_64-3.7/tvtk/plugins/scene/ui\n",
      "  \u001b[31m   \u001b[0m copying tvtk/plugins/scene/ui/scene_ui_plugin.py -> build/lib.linux-x86_64-3.7/tvtk/plugins/scene/ui\n",
      "  \u001b[31m   \u001b[0m creating build/lib.linux-x86_64-3.7/tvtk/tools\n",
      "  \u001b[31m   \u001b[0m copying tvtk/tools/__init__.py -> build/lib.linux-x86_64-3.7/tvtk/tools\n",
      "  \u001b[31m   \u001b[0m copying tvtk/tools/ivtk.py -> build/lib.linux-x86_64-3.7/tvtk/tools\n",
      "  \u001b[31m   \u001b[0m copying tvtk/tools/mlab.py -> build/lib.linux-x86_64-3.7/tvtk/tools\n",
      "  \u001b[31m   \u001b[0m copying tvtk/tools/tvtk_doc.py -> build/lib.linux-x86_64-3.7/tvtk/tools\n",
      "  \u001b[31m   \u001b[0m copying tvtk/tools/visual.py -> build/lib.linux-x86_64-3.7/tvtk/tools\n",
      "  \u001b[31m   \u001b[0m creating build/lib.linux-x86_64-3.7/tvtk/util\n",
      "  \u001b[31m   \u001b[0m copying tvtk/util/__init__.py -> build/lib.linux-x86_64-3.7/tvtk/util\n",
      "  \u001b[31m   \u001b[0m copying tvtk/util/qt_gradient_editor.py -> build/lib.linux-x86_64-3.7/tvtk/util\n",
      "  \u001b[31m   \u001b[0m copying tvtk/util/ctf.py -> build/lib.linux-x86_64-3.7/tvtk/util\n",
      "  \u001b[31m   \u001b[0m copying tvtk/util/wx_gradient_editor.py -> build/lib.linux-x86_64-3.7/tvtk/util\n",
      "  \u001b[31m   \u001b[0m copying tvtk/util/tk_gradient_editor.py -> build/lib.linux-x86_64-3.7/tvtk/util\n",
      "  \u001b[31m   \u001b[0m copying tvtk/util/gradient_editor.py -> build/lib.linux-x86_64-3.7/tvtk/util\n",
      "  \u001b[31m   \u001b[0m copying tvtk/util/traitsui_gradient_editor.py -> build/lib.linux-x86_64-3.7/tvtk/util\n",
      "  \u001b[31m   \u001b[0m creating build/lib.linux-x86_64-3.7/tvtk/tests\n",
      "  \u001b[31m   \u001b[0m copying tvtk/tests/test_wrapper_gen.py -> build/lib.linux-x86_64-3.7/tvtk/tests\n",
      "  \u001b[31m   \u001b[0m copying tvtk/tests/__init__.py -> build/lib.linux-x86_64-3.7/tvtk/tests\n",
      "  \u001b[31m   \u001b[0m copying tvtk/tests/test_tvtk_base.py -> build/lib.linux-x86_64-3.7/tvtk/tests\n",
      "  \u001b[31m   \u001b[0m copying tvtk/tests/test_array_handler.py -> build/lib.linux-x86_64-3.7/tvtk/tests\n",
      "  \u001b[31m   \u001b[0m copying tvtk/tests/test_misc.py -> build/lib.linux-x86_64-3.7/tvtk/tests\n",
      "  \u001b[31m   \u001b[0m copying tvtk/tests/test_ctf_util.py -> build/lib.linux-x86_64-3.7/tvtk/tests\n",
      "  \u001b[31m   \u001b[0m copying tvtk/tests/test_messenger.py -> build/lib.linux-x86_64-3.7/tvtk/tests\n",
      "  \u001b[31m   \u001b[0m copying tvtk/tests/test_tvtk_scene.py -> build/lib.linux-x86_64-3.7/tvtk/tests\n",
      "  \u001b[31m   \u001b[0m copying tvtk/tests/test_indenter.py -> build/lib.linux-x86_64-3.7/tvtk/tests\n",
      "  \u001b[31m   \u001b[0m copying tvtk/tests/test_tvtk.py -> build/lib.linux-x86_64-3.7/tvtk/tests\n",
      "  \u001b[31m   \u001b[0m copying tvtk/tests/test_pyface_utils.py -> build/lib.linux-x86_64-3.7/tvtk/tests\n",
      "  \u001b[31m   \u001b[0m copying tvtk/tests/test_visual.py -> build/lib.linux-x86_64-3.7/tvtk/tests\n",
      "  \u001b[31m   \u001b[0m copying tvtk/tests/common.py -> build/lib.linux-x86_64-3.7/tvtk/tests\n",
      "  \u001b[31m   \u001b[0m copying tvtk/tests/test_movie_maker.py -> build/lib.linux-x86_64-3.7/tvtk/tests\n",
      "  \u001b[31m   \u001b[0m copying tvtk/tests/test_class_tree.py -> build/lib.linux-x86_64-3.7/tvtk/tests\n",
      "  \u001b[31m   \u001b[0m copying tvtk/tests/test_browser.py -> build/lib.linux-x86_64-3.7/tvtk/tests\n",
      "  \u001b[31m   \u001b[0m copying tvtk/tests/test_array_ext.py -> build/lib.linux-x86_64-3.7/tvtk/tests\n",
      "  \u001b[31m   \u001b[0m copying tvtk/tests/test_garbage_collection.py -> build/lib.linux-x86_64-3.7/tvtk/tests\n",
      "  \u001b[31m   \u001b[0m copying tvtk/tests/test_vtk_parser.py -> build/lib.linux-x86_64-3.7/tvtk/tests\n",
      "  \u001b[31m   \u001b[0m creating build/lib.linux-x86_64-3.7/mayavi\n",
      "  \u001b[31m   \u001b[0m copying mayavi/__init__.py -> build/lib.linux-x86_64-3.7/mayavi\n",
      "  \u001b[31m   \u001b[0m copying mayavi/__version__.py -> build/lib.linux-x86_64-3.7/mayavi\n",
      "  \u001b[31m   \u001b[0m copying mayavi/api.py -> build/lib.linux-x86_64-3.7/mayavi\n",
      "  \u001b[31m   \u001b[0m copying mayavi/mlab.py -> build/lib.linux-x86_64-3.7/mayavi\n",
      "  \u001b[31m   \u001b[0m copying mayavi/version.py -> build/lib.linux-x86_64-3.7/mayavi\n",
      "  \u001b[31m   \u001b[0m creating build/lib.linux-x86_64-3.7/mayavi/action\n",
      "  \u001b[31m   \u001b[0m copying mayavi/action/__init__.py -> build/lib.linux-x86_64-3.7/mayavi/action\n",
      "  \u001b[31m   \u001b[0m copying mayavi/action/sources.py -> build/lib.linux-x86_64-3.7/mayavi/action\n",
      "  \u001b[31m   \u001b[0m copying mayavi/action/filters.py -> build/lib.linux-x86_64-3.7/mayavi/action\n",
      "  \u001b[31m   \u001b[0m copying mayavi/action/help.py -> build/lib.linux-x86_64-3.7/mayavi/action\n",
      "  \u001b[31m   \u001b[0m copying mayavi/action/modules.py -> build/lib.linux-x86_64-3.7/mayavi/action\n",
      "  \u001b[31m   \u001b[0m copying mayavi/action/save_load.py -> build/lib.linux-x86_64-3.7/mayavi/action\n",
      "  \u001b[31m   \u001b[0m creating build/lib.linux-x86_64-3.7/mayavi/modules\n",
      "  \u001b[31m   \u001b[0m copying mayavi/modules/__init__.py -> build/lib.linux-x86_64-3.7/mayavi/modules\n",
      "  \u001b[31m   \u001b[0m copying mayavi/modules/grid_plane.py -> build/lib.linux-x86_64-3.7/mayavi/modules\n",
      "  \u001b[31m   \u001b[0m copying mayavi/modules/image_plane_widget.py -> build/lib.linux-x86_64-3.7/mayavi/modules\n",
      "  \u001b[31m   \u001b[0m copying mayavi/modules/outline.py -> build/lib.linux-x86_64-3.7/mayavi/modules\n",
      "  \u001b[31m   \u001b[0m copying mayavi/modules/text.py -> build/lib.linux-x86_64-3.7/mayavi/modules\n",
      "  \u001b[31m   \u001b[0m copying mayavi/modules/vector_cut_plane.py -> build/lib.linux-x86_64-3.7/mayavi/modules\n",
      "  \u001b[31m   \u001b[0m copying mayavi/modules/streamline.py -> build/lib.linux-x86_64-3.7/mayavi/modules\n",
      "  \u001b[31m   \u001b[0m copying mayavi/modules/skeleton_module.py -> build/lib.linux-x86_64-3.7/mayavi/modules\n",
      "  \u001b[31m   \u001b[0m copying mayavi/modules/vectors.py -> build/lib.linux-x86_64-3.7/mayavi/modules\n",
      "  \u001b[31m   \u001b[0m copying mayavi/modules/volume.py -> build/lib.linux-x86_64-3.7/mayavi/modules\n",
      "  \u001b[31m   \u001b[0m copying mayavi/modules/iso_surface.py -> build/lib.linux-x86_64-3.7/mayavi/modules\n",
      "  \u001b[31m   \u001b[0m copying mayavi/modules/axes.py -> build/lib.linux-x86_64-3.7/mayavi/modules\n",
      "  \u001b[31m   \u001b[0m copying mayavi/modules/text3d.py -> build/lib.linux-x86_64-3.7/mayavi/modules\n",
      "  \u001b[31m   \u001b[0m copying mayavi/modules/glyph.py -> build/lib.linux-x86_64-3.7/mayavi/modules\n",
      "  \u001b[31m   \u001b[0m copying mayavi/modules/scalar_cut_plane.py -> build/lib.linux-x86_64-3.7/mayavi/modules\n",
      "  \u001b[31m   \u001b[0m copying mayavi/modules/orientation_axes.py -> build/lib.linux-x86_64-3.7/mayavi/modules\n",
      "  \u001b[31m   \u001b[0m copying mayavi/modules/api.py -> build/lib.linux-x86_64-3.7/mayavi/modules\n",
      "  \u001b[31m   \u001b[0m copying mayavi/modules/custom_grid_plane.py -> build/lib.linux-x86_64-3.7/mayavi/modules\n",
      "  \u001b[31m   \u001b[0m copying mayavi/modules/structured_grid_outline.py -> build/lib.linux-x86_64-3.7/mayavi/modules\n",
      "  \u001b[31m   \u001b[0m copying mayavi/modules/generic_module.py -> build/lib.linux-x86_64-3.7/mayavi/modules\n",
      "  \u001b[31m   \u001b[0m copying mayavi/modules/hyper_streamline.py -> build/lib.linux-x86_64-3.7/mayavi/modules\n",
      "  \u001b[31m   \u001b[0m copying mayavi/modules/tensor_glyph.py -> build/lib.linux-x86_64-3.7/mayavi/modules\n",
      "  \u001b[31m   \u001b[0m copying mayavi/modules/warp_vector_cut_plane.py -> build/lib.linux-x86_64-3.7/mayavi/modules\n",
      "  \u001b[31m   \u001b[0m copying mayavi/modules/contour_grid_plane.py -> build/lib.linux-x86_64-3.7/mayavi/modules\n",
      "  \u001b[31m   \u001b[0m copying mayavi/modules/slice_unstructured_grid.py -> build/lib.linux-x86_64-3.7/mayavi/modules\n",
      "  \u001b[31m   \u001b[0m copying mayavi/modules/surface.py -> build/lib.linux-x86_64-3.7/mayavi/modules\n",
      "  \u001b[31m   \u001b[0m copying mayavi/modules/image_actor.py -> build/lib.linux-x86_64-3.7/mayavi/modules\n",
      "  \u001b[31m   \u001b[0m copying mayavi/modules/labels.py -> build/lib.linux-x86_64-3.7/mayavi/modules\n",
      "  \u001b[31m   \u001b[0m copying mayavi/modules/metadata.py -> build/lib.linux-x86_64-3.7/mayavi/modules\n",
      "  \u001b[31m   \u001b[0m creating build/lib.linux-x86_64-3.7/mayavi/plugins\n",
      "  \u001b[31m   \u001b[0m copying mayavi/plugins/__init__.py -> build/lib.linux-x86_64-3.7/mayavi/plugins\n",
      "  \u001b[31m   \u001b[0m copying mayavi/plugins/script.py -> build/lib.linux-x86_64-3.7/mayavi/plugins\n",
      "  \u001b[31m   \u001b[0m copying mayavi/plugins/mayavi_ui_action_set.py -> build/lib.linux-x86_64-3.7/mayavi/plugins\n",
      "  \u001b[31m   \u001b[0m copying mayavi/plugins/mayavi_plugin.py -> build/lib.linux-x86_64-3.7/mayavi/plugins\n",
      "  \u001b[31m   \u001b[0m copying mayavi/plugins/mayavi_workbench_application.py -> build/lib.linux-x86_64-3.7/mayavi/plugins\n",
      "  \u001b[31m   \u001b[0m copying mayavi/plugins/envisage_engine.py -> build/lib.linux-x86_64-3.7/mayavi/plugins\n",
      "  \u001b[31m   \u001b[0m copying mayavi/plugins/app.py -> build/lib.linux-x86_64-3.7/mayavi/plugins\n",
      "  \u001b[31m   \u001b[0m copying mayavi/plugins/mayavi_ui_plugin.py -> build/lib.linux-x86_64-3.7/mayavi/plugins\n",
      "  \u001b[31m   \u001b[0m creating build/lib.linux-x86_64-3.7/mayavi/sources\n",
      "  \u001b[31m   \u001b[0m copying mayavi/sources/__init__.py -> build/lib.linux-x86_64-3.7/mayavi/sources\n",
      "  \u001b[31m   \u001b[0m copying mayavi/sources/chaco_reader.py -> build/lib.linux-x86_64-3.7/mayavi/sources\n",
      "  \u001b[31m   \u001b[0m copying mayavi/sources/image_reader.py -> build/lib.linux-x86_64-3.7/mayavi/sources\n",
      "  \u001b[31m   \u001b[0m copying mayavi/sources/three_ds_importer.py -> build/lib.linux-x86_64-3.7/mayavi/sources\n",
      "  \u001b[31m   \u001b[0m copying mayavi/sources/poly_data_reader.py -> build/lib.linux-x86_64-3.7/mayavi/sources\n",
      "  \u001b[31m   \u001b[0m copying mayavi/sources/parametric_surface.py -> build/lib.linux-x86_64-3.7/mayavi/sources\n",
      "  \u001b[31m   \u001b[0m copying mayavi/sources/builtin_surface.py -> build/lib.linux-x86_64-3.7/mayavi/sources\n",
      "  \u001b[31m   \u001b[0m copying mayavi/sources/unstructured_grid_reader.py -> build/lib.linux-x86_64-3.7/mayavi/sources\n",
      "  \u001b[31m   \u001b[0m copying mayavi/sources/vtk_xml_file_reader.py -> build/lib.linux-x86_64-3.7/mayavi/sources\n",
      "  \u001b[31m   \u001b[0m copying mayavi/sources/api.py -> build/lib.linux-x86_64-3.7/mayavi/sources\n",
      "  \u001b[31m   \u001b[0m copying mayavi/sources/vtk_object_source.py -> build/lib.linux-x86_64-3.7/mayavi/sources\n",
      "  \u001b[31m   \u001b[0m copying mayavi/sources/vtk_data_source.py -> build/lib.linux-x86_64-3.7/mayavi/sources\n",
      "  \u001b[31m   \u001b[0m copying mayavi/sources/vtk_file_reader.py -> build/lib.linux-x86_64-3.7/mayavi/sources\n",
      "  \u001b[31m   \u001b[0m copying mayavi/sources/utils.py -> build/lib.linux-x86_64-3.7/mayavi/sources\n",
      "  \u001b[31m   \u001b[0m copying mayavi/sources/plot3d_reader.py -> build/lib.linux-x86_64-3.7/mayavi/sources\n",
      "  \u001b[31m   \u001b[0m copying mayavi/sources/array_source.py -> build/lib.linux-x86_64-3.7/mayavi/sources\n",
      "  \u001b[31m   \u001b[0m copying mayavi/sources/volume_reader.py -> build/lib.linux-x86_64-3.7/mayavi/sources\n",
      "  \u001b[31m   \u001b[0m copying mayavi/sources/vrml_importer.py -> build/lib.linux-x86_64-3.7/mayavi/sources\n",
      "  \u001b[31m   \u001b[0m copying mayavi/sources/point_load.py -> build/lib.linux-x86_64-3.7/mayavi/sources\n",
      "  \u001b[31m   \u001b[0m copying mayavi/sources/builtin_image.py -> build/lib.linux-x86_64-3.7/mayavi/sources\n",
      "  \u001b[31m   \u001b[0m copying mayavi/sources/metadata.py -> build/lib.linux-x86_64-3.7/mayavi/sources\n",
      "  \u001b[31m   \u001b[0m creating build/lib.linux-x86_64-3.7/mayavi/scripts\n",
      "  \u001b[31m   \u001b[0m copying mayavi/scripts/__init__.py -> build/lib.linux-x86_64-3.7/mayavi/scripts\n",
      "  \u001b[31m   \u001b[0m copying mayavi/scripts/mayavi2.py -> build/lib.linux-x86_64-3.7/mayavi/scripts\n",
      "  \u001b[31m   \u001b[0m copying mayavi/scripts/util.py -> build/lib.linux-x86_64-3.7/mayavi/scripts\n",
      "  \u001b[31m   \u001b[0m creating build/lib.linux-x86_64-3.7/mayavi/components\n",
      "  \u001b[31m   \u001b[0m copying mayavi/components/__init__.py -> build/lib.linux-x86_64-3.7/mayavi/components\n",
      "  \u001b[31m   \u001b[0m copying mayavi/components/grid_plane.py -> build/lib.linux-x86_64-3.7/mayavi/components\n",
      "  \u001b[31m   \u001b[0m copying mayavi/components/source_widget.py -> build/lib.linux-x86_64-3.7/mayavi/components\n",
      "  \u001b[31m   \u001b[0m copying mayavi/components/optional.py -> build/lib.linux-x86_64-3.7/mayavi/components\n",
      "  \u001b[31m   \u001b[0m copying mayavi/components/glyph.py -> build/lib.linux-x86_64-3.7/mayavi/components\n",
      "  \u001b[31m   \u001b[0m copying mayavi/components/custom_grid_plane.py -> build/lib.linux-x86_64-3.7/mayavi/components\n",
      "  \u001b[31m   \u001b[0m copying mayavi/components/glyph_source.py -> build/lib.linux-x86_64-3.7/mayavi/components\n",
      "  \u001b[31m   \u001b[0m copying mayavi/components/common.py -> build/lib.linux-x86_64-3.7/mayavi/components\n",
      "  \u001b[31m   \u001b[0m copying mayavi/components/contour.py -> build/lib.linux-x86_64-3.7/mayavi/components\n",
      "  \u001b[31m   \u001b[0m copying mayavi/components/actor2d.py -> build/lib.linux-x86_64-3.7/mayavi/components\n",
      "  \u001b[31m   \u001b[0m copying mayavi/components/implicit_plane.py -> build/lib.linux-x86_64-3.7/mayavi/components\n",
      "  \u001b[31m   \u001b[0m copying mayavi/components/implicit_widgets.py -> build/lib.linux-x86_64-3.7/mayavi/components\n",
      "  \u001b[31m   \u001b[0m copying mayavi/components/actor.py -> build/lib.linux-x86_64-3.7/mayavi/components\n",
      "  \u001b[31m   \u001b[0m copying mayavi/components/cutter.py -> build/lib.linux-x86_64-3.7/mayavi/components\n",
      "  \u001b[31m   \u001b[0m copying mayavi/components/poly_data_normals.py -> build/lib.linux-x86_64-3.7/mayavi/components\n",
      "  \u001b[31m   \u001b[0m creating build/lib.linux-x86_64-3.7/mayavi/tests\n",
      "  \u001b[31m   \u001b[0m copying mayavi/tests/__init__.py -> build/lib.linux-x86_64-3.7/mayavi/tests\n",
      "  \u001b[31m   \u001b[0m copying mayavi/tests/test_sources.py -> build/lib.linux-x86_64-3.7/mayavi/tests\n",
      "  \u001b[31m   \u001b[0m copying mayavi/tests/test_mlab_scene_model.py -> build/lib.linux-x86_64-3.7/mayavi/tests\n",
      "  \u001b[31m   \u001b[0m copying mayavi/tests/test_mlab_source_integration.py -> build/lib.linux-x86_64-3.7/mayavi/tests\n",
      "  \u001b[31m   \u001b[0m copying mayavi/tests/test_glyph.py -> build/lib.linux-x86_64-3.7/mayavi/tests\n",
      "  \u001b[31m   \u001b[0m copying mayavi/tests/runtests.py -> build/lib.linux-x86_64-3.7/mayavi/tests\n",
      "  \u001b[31m   \u001b[0m copying mayavi/tests/test_extract_grid_filter.py -> build/lib.linux-x86_64-3.7/mayavi/tests\n",
      "  \u001b[31m   \u001b[0m copying mayavi/tests/test_mlab_null_engine.py -> build/lib.linux-x86_64-3.7/mayavi/tests\n",
      "  \u001b[31m   \u001b[0m copying mayavi/tests/test_no_ui_toolkit.py -> build/lib.linux-x86_64-3.7/mayavi/tests\n",
      "  \u001b[31m   \u001b[0m copying mayavi/tests/test_core_common.py -> build/lib.linux-x86_64-3.7/mayavi/tests\n",
      "  \u001b[31m   \u001b[0m copying mayavi/tests/test_registry.py -> build/lib.linux-x86_64-3.7/mayavi/tests\n",
      "  \u001b[31m   \u001b[0m copying mayavi/tests/test_pipeline_info.py -> build/lib.linux-x86_64-3.7/mayavi/tests\n",
      "  \u001b[31m   \u001b[0m copying mayavi/tests/test_vtk_xml_reader.py -> build/lib.linux-x86_64-3.7/mayavi/tests\n",
      "  \u001b[31m   \u001b[0m copying mayavi/tests/test_image_data_reader.py -> build/lib.linux-x86_64-3.7/mayavi/tests\n",
      "  \u001b[31m   \u001b[0m copying mayavi/tests/test_recorder.py -> build/lib.linux-x86_64-3.7/mayavi/tests\n",
      "  \u001b[31m   \u001b[0m copying mayavi/tests/test_engine_manager.py -> build/lib.linux-x86_64-3.7/mayavi/tests\n",
      "  \u001b[31m   \u001b[0m copying mayavi/tests/test_mlab_integration.py -> build/lib.linux-x86_64-3.7/mayavi/tests\n",
      "  \u001b[31m   \u001b[0m copying mayavi/tests/test_customize.py -> build/lib.linux-x86_64-3.7/mayavi/tests\n",
      "  \u001b[31m   \u001b[0m copying mayavi/tests/test_contour.py -> build/lib.linux-x86_64-3.7/mayavi/tests\n",
      "  \u001b[31m   \u001b[0m copying mayavi/tests/test_optional_collection.py -> build/lib.linux-x86_64-3.7/mayavi/tests\n",
      "  \u001b[31m   \u001b[0m copying mayavi/tests/test_vtk_object_source.py -> build/lib.linux-x86_64-3.7/mayavi/tests\n",
      "  \u001b[31m   \u001b[0m copying mayavi/tests/test_cut_plane.py -> build/lib.linux-x86_64-3.7/mayavi/tests\n",
      "  \u001b[31m   \u001b[0m copying mayavi/tests/test_file_timestep.py -> build/lib.linux-x86_64-3.7/mayavi/tests\n",
      "  \u001b[31m   \u001b[0m copying mayavi/tests/common.py -> build/lib.linux-x86_64-3.7/mayavi/tests\n",
      "  \u001b[31m   \u001b[0m copying mayavi/tests/test_builtin_surface.py -> build/lib.linux-x86_64-3.7/mayavi/tests\n",
      "  \u001b[31m   \u001b[0m copying mayavi/tests/test_vtk_file_reader.py -> build/lib.linux-x86_64-3.7/mayavi/tests\n",
      "  \u001b[31m   \u001b[0m copying mayavi/tests/test_plot3d_mb_reader.py -> build/lib.linux-x86_64-3.7/mayavi/tests\n",
      "  \u001b[31m   \u001b[0m copying mayavi/tests/test_core_utils.py -> build/lib.linux-x86_64-3.7/mayavi/tests\n",
      "  \u001b[31m   \u001b[0m copying mayavi/tests/test_user_defined.py -> build/lib.linux-x86_64-3.7/mayavi/tests\n",
      "  \u001b[31m   \u001b[0m copying mayavi/tests/test_threshold_filter.py -> build/lib.linux-x86_64-3.7/mayavi/tests\n",
      "  \u001b[31m   \u001b[0m copying mayavi/tests/test_composite_data.py -> build/lib.linux-x86_64-3.7/mayavi/tests\n",
      "  \u001b[31m   \u001b[0m copying mayavi/tests/test_image_plane_widget.py -> build/lib.linux-x86_64-3.7/mayavi/tests\n",
      "  \u001b[31m   \u001b[0m copying mayavi/tests/test_array_source.py -> build/lib.linux-x86_64-3.7/mayavi/tests\n",
      "  \u001b[31m   \u001b[0m copying mayavi/tests/test_unstructured_data_reader.py -> build/lib.linux-x86_64-3.7/mayavi/tests\n",
      "  \u001b[31m   \u001b[0m copying mayavi/tests/test_streamline.py -> build/lib.linux-x86_64-3.7/mayavi/tests\n",
      "  \u001b[31m   \u001b[0m copying mayavi/tests/test_mayavi_traits.py -> build/lib.linux-x86_64-3.7/mayavi/tests\n",
      "  \u001b[31m   \u001b[0m copying mayavi/tests/test_pylab_luts.py -> build/lib.linux-x86_64-3.7/mayavi/tests\n",
      "  \u001b[31m   \u001b[0m copying mayavi/tests/test_builtin_image.py -> build/lib.linux-x86_64-3.7/mayavi/tests\n",
      "  \u001b[31m   \u001b[0m copying mayavi/tests/test_preferences_mirror.py -> build/lib.linux-x86_64-3.7/mayavi/tests\n",
      "  \u001b[31m   \u001b[0m copying mayavi/tests/test_vtk_data_source.py -> build/lib.linux-x86_64-3.7/mayavi/tests\n",
      "  \u001b[31m   \u001b[0m copying mayavi/tests/test_grid_plane.py -> build/lib.linux-x86_64-3.7/mayavi/tests\n",
      "  \u001b[31m   \u001b[0m copying mayavi/tests/test_poly_data_reader.py -> build/lib.linux-x86_64-3.7/mayavi/tests\n",
      "  \u001b[31m   \u001b[0m copying mayavi/tests/test_script_recording.py -> build/lib.linux-x86_64-3.7/mayavi/tests\n",
      "  \u001b[31m   \u001b[0m copying mayavi/tests/datasets.py -> build/lib.linux-x86_64-3.7/mayavi/tests\n",
      "  \u001b[31m   \u001b[0m copying mayavi/tests/test_volume.py -> build/lib.linux-x86_64-3.7/mayavi/tests\n",
      "  \u001b[31m   \u001b[0m copying mayavi/tests/test_mouse_pick_dispatcher.py -> build/lib.linux-x86_64-3.7/mayavi/tests\n",
      "  \u001b[31m   \u001b[0m copying mayavi/tests/test_ipw_multiple_scalars.py -> build/lib.linux-x86_64-3.7/mayavi/tests\n",
      "  \u001b[31m   \u001b[0m copying mayavi/tests/test_garbage_collection.py -> build/lib.linux-x86_64-3.7/mayavi/tests\n",
      "  \u001b[31m   \u001b[0m copying mayavi/tests/test_text3d.py -> build/lib.linux-x86_64-3.7/mayavi/tests\n",
      "  \u001b[31m   \u001b[0m copying mayavi/tests/test_image_data_probe.py -> build/lib.linux-x86_64-3.7/mayavi/tests\n",
      "  \u001b[31m   \u001b[0m copying mayavi/tests/test_dataset_manager.py -> build/lib.linux-x86_64-3.7/mayavi/tests\n",
      "  \u001b[31m   \u001b[0m copying mayavi/tests/data_reader_test_base.py -> build/lib.linux-x86_64-3.7/mayavi/tests\n",
      "  \u001b[31m   \u001b[0m copying mayavi/tests/test_set_active_attribute.py -> build/lib.linux-x86_64-3.7/mayavi/tests\n",
      "  \u001b[31m   \u001b[0m copying mayavi/tests/test_csv_sniff.py -> build/lib.linux-x86_64-3.7/mayavi/tests\n",
      "  \u001b[31m   \u001b[0m copying mayavi/tests/test_mlab_source.py -> build/lib.linux-x86_64-3.7/mayavi/tests\n",
      "  \u001b[31m   \u001b[0m creating build/lib.linux-x86_64-3.7/mayavi/filters\n",
      "  \u001b[31m   \u001b[0m copying mayavi/filters/__init__.py -> build/lib.linux-x86_64-3.7/mayavi/filters\n",
      "  \u001b[31m   \u001b[0m copying mayavi/filters/extract_tensor_components.py -> build/lib.linux-x86_64-3.7/mayavi/filters\n",
      "  \u001b[31m   \u001b[0m copying mayavi/filters/stripper.py -> build/lib.linux-x86_64-3.7/mayavi/filters\n",
      "  \u001b[31m   \u001b[0m copying mayavi/filters/optional.py -> build/lib.linux-x86_64-3.7/mayavi/filters\n",
      "  \u001b[31m   \u001b[0m copying mayavi/filters/point_to_cell_data.py -> build/lib.linux-x86_64-3.7/mayavi/filters\n",
      "  \u001b[31m   \u001b[0m copying mayavi/filters/tube.py -> build/lib.linux-x86_64-3.7/mayavi/filters\n",
      "  \u001b[31m   \u001b[0m copying mayavi/filters/delaunay2d.py -> build/lib.linux-x86_64-3.7/mayavi/filters\n",
      "  \u001b[31m   \u001b[0m copying mayavi/filters/user_defined.py -> build/lib.linux-x86_64-3.7/mayavi/filters\n",
      "  \u001b[31m   \u001b[0m copying mayavi/filters/warp_vector.py -> build/lib.linux-x86_64-3.7/mayavi/filters\n",
      "  \u001b[31m   \u001b[0m copying mayavi/filters/api.py -> build/lib.linux-x86_64-3.7/mayavi/filters\n",
      "  \u001b[31m   \u001b[0m copying mayavi/filters/triangle_filter.py -> build/lib.linux-x86_64-3.7/mayavi/filters\n",
      "  \u001b[31m   \u001b[0m copying mayavi/filters/quadric_decimation.py -> build/lib.linux-x86_64-3.7/mayavi/filters\n",
      "  \u001b[31m   \u001b[0m copying mayavi/filters/poly_data_filter_base.py -> build/lib.linux-x86_64-3.7/mayavi/filters\n",
      "  \u001b[31m   \u001b[0m copying mayavi/filters/select_output.py -> build/lib.linux-x86_64-3.7/mayavi/filters\n",
      "  \u001b[31m   \u001b[0m copying mayavi/filters/delaunay3d.py -> build/lib.linux-x86_64-3.7/mayavi/filters\n",
      "  \u001b[31m   \u001b[0m copying mayavi/filters/gaussian_splatter.py -> build/lib.linux-x86_64-3.7/mayavi/filters\n",
      "  \u001b[31m   \u001b[0m copying mayavi/filters/cut_plane.py -> build/lib.linux-x86_64-3.7/mayavi/filters\n",
      "  \u001b[31m   \u001b[0m copying mayavi/filters/greedy_terrain_decimation.py -> build/lib.linux-x86_64-3.7/mayavi/filters\n",
      "  \u001b[31m   \u001b[0m copying mayavi/filters/contour.py -> build/lib.linux-x86_64-3.7/mayavi/filters\n",
      "  \u001b[31m   \u001b[0m copying mayavi/filters/threshold.py -> build/lib.linux-x86_64-3.7/mayavi/filters\n",
      "  \u001b[31m   \u001b[0m copying mayavi/filters/warp_scalar.py -> build/lib.linux-x86_64-3.7/mayavi/filters\n",
      "  \u001b[31m   \u001b[0m copying mayavi/filters/cell_derivatives.py -> build/lib.linux-x86_64-3.7/mayavi/filters\n",
      "  \u001b[31m   \u001b[0m copying mayavi/filters/vorticity.py -> build/lib.linux-x86_64-3.7/mayavi/filters\n",
      "  \u001b[31m   \u001b[0m copying mayavi/filters/collection.py -> build/lib.linux-x86_64-3.7/mayavi/filters\n",
      "  \u001b[31m   \u001b[0m copying mayavi/filters/mask_points.py -> build/lib.linux-x86_64-3.7/mayavi/filters\n",
      "  \u001b[31m   \u001b[0m copying mayavi/filters/extract_grid.py -> build/lib.linux-x86_64-3.7/mayavi/filters\n",
      "  \u001b[31m   \u001b[0m copying mayavi/filters/wrapper.py -> build/lib.linux-x86_64-3.7/mayavi/filters\n",
      "  \u001b[31m   \u001b[0m copying mayavi/filters/data_set_clipper.py -> build/lib.linux-x86_64-3.7/mayavi/filters\n",
      "  \u001b[31m   \u001b[0m copying mayavi/filters/image_data_probe.py -> build/lib.linux-x86_64-3.7/mayavi/filters\n",
      "  \u001b[31m   \u001b[0m copying mayavi/filters/image_change_information.py -> build/lib.linux-x86_64-3.7/mayavi/filters\n",
      "  \u001b[31m   \u001b[0m copying mayavi/filters/extract_edges.py -> build/lib.linux-x86_64-3.7/mayavi/filters\n",
      "  \u001b[31m   \u001b[0m copying mayavi/filters/decimatepro.py -> build/lib.linux-x86_64-3.7/mayavi/filters\n",
      "  \u001b[31m   \u001b[0m copying mayavi/filters/extract_vector_components.py -> build/lib.linux-x86_64-3.7/mayavi/filters\n",
      "  \u001b[31m   \u001b[0m copying mayavi/filters/filter_base.py -> build/lib.linux-x86_64-3.7/mayavi/filters\n",
      "  \u001b[31m   \u001b[0m copying mayavi/filters/elevation_filter.py -> build/lib.linux-x86_64-3.7/mayavi/filters\n",
      "  \u001b[31m   \u001b[0m copying mayavi/filters/extract_vector_norm.py -> build/lib.linux-x86_64-3.7/mayavi/filters\n",
      "  \u001b[31m   \u001b[0m copying mayavi/filters/cell_to_point_data.py -> build/lib.linux-x86_64-3.7/mayavi/filters\n",
      "  \u001b[31m   \u001b[0m copying mayavi/filters/transform_data.py -> build/lib.linux-x86_64-3.7/mayavi/filters\n",
      "  \u001b[31m   \u001b[0m copying mayavi/filters/extract_unstructured_grid.py -> build/lib.linux-x86_64-3.7/mayavi/filters\n",
      "  \u001b[31m   \u001b[0m copying mayavi/filters/metadata.py -> build/lib.linux-x86_64-3.7/mayavi/filters\n",
      "  \u001b[31m   \u001b[0m copying mayavi/filters/poly_data_normals.py -> build/lib.linux-x86_64-3.7/mayavi/filters\n",
      "  \u001b[31m   \u001b[0m copying mayavi/filters/set_active_attribute.py -> build/lib.linux-x86_64-3.7/mayavi/filters\n",
      "  \u001b[31m   \u001b[0m creating build/lib.linux-x86_64-3.7/mayavi/core\n",
      "  \u001b[31m   \u001b[0m copying mayavi/core/registry.py -> build/lib.linux-x86_64-3.7/mayavi/core\n",
      "  \u001b[31m   \u001b[0m copying mayavi/core/__init__.py -> build/lib.linux-x86_64-3.7/mayavi/core\n",
      "  \u001b[31m   \u001b[0m copying mayavi/core/base.py -> build/lib.linux-x86_64-3.7/mayavi/core\n",
      "  \u001b[31m   \u001b[0m copying mayavi/core/module_manager.py -> build/lib.linux-x86_64-3.7/mayavi/core\n",
      "  \u001b[31m   \u001b[0m copying mayavi/core/null_engine.py -> build/lib.linux-x86_64-3.7/mayavi/core\n",
      "  \u001b[31m   \u001b[0m copying mayavi/core/off_screen_engine.py -> build/lib.linux-x86_64-3.7/mayavi/core\n",
      "  \u001b[31m   \u001b[0m copying mayavi/core/file_data_source.py -> build/lib.linux-x86_64-3.7/mayavi/core\n",
      "  \u001b[31m   \u001b[0m copying mayavi/core/api.py -> build/lib.linux-x86_64-3.7/mayavi/core\n",
      "  \u001b[31m   \u001b[0m copying mayavi/core/engine.py -> build/lib.linux-x86_64-3.7/mayavi/core\n",
      "  \u001b[31m   \u001b[0m copying mayavi/core/customize.py -> build/lib.linux-x86_64-3.7/mayavi/core\n",
      "  \u001b[31m   \u001b[0m copying mayavi/core/common.py -> build/lib.linux-x86_64-3.7/mayavi/core\n",
      "  \u001b[31m   \u001b[0m copying mayavi/core/module.py -> build/lib.linux-x86_64-3.7/mayavi/core\n",
      "  \u001b[31m   \u001b[0m copying mayavi/core/lut_manager.py -> build/lib.linux-x86_64-3.7/mayavi/core\n",
      "  \u001b[31m   \u001b[0m copying mayavi/core/adder_node.py -> build/lib.linux-x86_64-3.7/mayavi/core\n",
      "  \u001b[31m   \u001b[0m copying mayavi/core/utils.py -> build/lib.linux-x86_64-3.7/mayavi/core\n",
      "  \u001b[31m   \u001b[0m copying mayavi/core/pipeline_base.py -> build/lib.linux-x86_64-3.7/mayavi/core\n",
      "  \u001b[31m   \u001b[0m copying mayavi/core/component.py -> build/lib.linux-x86_64-3.7/mayavi/core\n",
      "  \u001b[31m   \u001b[0m copying mayavi/core/traits_menu.py -> build/lib.linux-x86_64-3.7/mayavi/core\n",
      "  \u001b[31m   \u001b[0m copying mayavi/core/trait_defs.py -> build/lib.linux-x86_64-3.7/mayavi/core\n",
      "  \u001b[31m   \u001b[0m copying mayavi/core/scene.py -> build/lib.linux-x86_64-3.7/mayavi/core\n",
      "  \u001b[31m   \u001b[0m copying mayavi/core/pipeline_info.py -> build/lib.linux-x86_64-3.7/mayavi/core\n",
      "  \u001b[31m   \u001b[0m copying mayavi/core/dataset_manager.py -> build/lib.linux-x86_64-3.7/mayavi/core\n",
      "  \u001b[31m   \u001b[0m copying mayavi/core/mouse_pick_dispatcher.py -> build/lib.linux-x86_64-3.7/mayavi/core\n",
      "  \u001b[31m   \u001b[0m copying mayavi/core/source.py -> build/lib.linux-x86_64-3.7/mayavi/core\n",
      "  \u001b[31m   \u001b[0m copying mayavi/core/filter.py -> build/lib.linux-x86_64-3.7/mayavi/core\n",
      "  \u001b[31m   \u001b[0m copying mayavi/core/metadata.py -> build/lib.linux-x86_64-3.7/mayavi/core\n",
      "  \u001b[31m   \u001b[0m creating build/lib.linux-x86_64-3.7/mayavi/preferences\n",
      "  \u001b[31m   \u001b[0m copying mayavi/preferences/__init__.py -> build/lib.linux-x86_64-3.7/mayavi/preferences\n",
      "  \u001b[31m   \u001b[0m copying mayavi/preferences/api.py -> build/lib.linux-x86_64-3.7/mayavi/preferences\n",
      "  \u001b[31m   \u001b[0m copying mayavi/preferences/bindings.py -> build/lib.linux-x86_64-3.7/mayavi/preferences\n",
      "  \u001b[31m   \u001b[0m copying mayavi/preferences/contrib_finder.py -> build/lib.linux-x86_64-3.7/mayavi/preferences\n",
      "  \u001b[31m   \u001b[0m copying mayavi/preferences/mayavi_preferences_page.py -> build/lib.linux-x86_64-3.7/mayavi/preferences\n",
      "  \u001b[31m   \u001b[0m copying mayavi/preferences/preferences_helpers.py -> build/lib.linux-x86_64-3.7/mayavi/preferences\n",
      "  \u001b[31m   \u001b[0m copying mayavi/preferences/preference_manager.py -> build/lib.linux-x86_64-3.7/mayavi/preferences\n",
      "  \u001b[31m   \u001b[0m copying mayavi/preferences/preference_manager_view.py -> build/lib.linux-x86_64-3.7/mayavi/preferences\n",
      "  \u001b[31m   \u001b[0m creating build/lib.linux-x86_64-3.7/mayavi/tools\n",
      "  \u001b[31m   \u001b[0m copying mayavi/tools/__init__.py -> build/lib.linux-x86_64-3.7/mayavi/tools\n",
      "  \u001b[31m   \u001b[0m copying mayavi/tools/animator.py -> build/lib.linux-x86_64-3.7/mayavi/tools\n",
      "  \u001b[31m   \u001b[0m copying mayavi/tools/camera.py -> build/lib.linux-x86_64-3.7/mayavi/tools\n",
      "  \u001b[31m   \u001b[0m copying mayavi/tools/figure.py -> build/lib.linux-x86_64-3.7/mayavi/tools\n",
      "  \u001b[31m   \u001b[0m copying mayavi/tools/helper_functions.py -> build/lib.linux-x86_64-3.7/mayavi/tools\n",
      "  \u001b[31m   \u001b[0m copying mayavi/tools/sources.py -> build/lib.linux-x86_64-3.7/mayavi/tools\n",
      "  \u001b[31m   \u001b[0m copying mayavi/tools/show.py -> build/lib.linux-x86_64-3.7/mayavi/tools\n",
      "  \u001b[31m   \u001b[0m copying mayavi/tools/filters.py -> build/lib.linux-x86_64-3.7/mayavi/tools\n",
      "  \u001b[31m   \u001b[0m copying mayavi/tools/server.py -> build/lib.linux-x86_64-3.7/mayavi/tools\n",
      "  \u001b[31m   \u001b[0m copying mayavi/tools/decorations.py -> build/lib.linux-x86_64-3.7/mayavi/tools\n",
      "  \u001b[31m   \u001b[0m copying mayavi/tools/engine_manager.py -> build/lib.linux-x86_64-3.7/mayavi/tools\n",
      "  \u001b[31m   \u001b[0m copying mayavi/tools/pipe_base.py -> build/lib.linux-x86_64-3.7/mayavi/tools\n",
      "  \u001b[31m   \u001b[0m copying mayavi/tools/mlab_scene_model.py -> build/lib.linux-x86_64-3.7/mayavi/tools\n",
      "  \u001b[31m   \u001b[0m copying mayavi/tools/tools.py -> build/lib.linux-x86_64-3.7/mayavi/tools\n",
      "  \u001b[31m   \u001b[0m copying mayavi/tools/notebook.py -> build/lib.linux-x86_64-3.7/mayavi/tools\n",
      "  \u001b[31m   \u001b[0m copying mayavi/tools/mlab.py -> build/lib.linux-x86_64-3.7/mayavi/tools\n",
      "  \u001b[31m   \u001b[0m copying mayavi/tools/pipeline.py -> build/lib.linux-x86_64-3.7/mayavi/tools\n",
      "  \u001b[31m   \u001b[0m copying mayavi/tools/auto_doc.py -> build/lib.linux-x86_64-3.7/mayavi/tools\n",
      "  \u001b[31m   \u001b[0m copying mayavi/tools/probe_data.py -> build/lib.linux-x86_64-3.7/mayavi/tools\n",
      "  \u001b[31m   \u001b[0m copying mayavi/tools/preferences_mirror.py -> build/lib.linux-x86_64-3.7/mayavi/tools\n",
      "  \u001b[31m   \u001b[0m copying mayavi/tools/modules.py -> build/lib.linux-x86_64-3.7/mayavi/tools\n",
      "  \u001b[31m   \u001b[0m creating build/lib.linux-x86_64-3.7/mayavi/modules/ui\n",
      "  \u001b[31m   \u001b[0m copying mayavi/modules/ui/__init__.py -> build/lib.linux-x86_64-3.7/mayavi/modules/ui\n",
      "  \u001b[31m   \u001b[0m copying mayavi/modules/ui/iso_surface.py -> build/lib.linux-x86_64-3.7/mayavi/modules/ui\n",
      "  \u001b[31m   \u001b[0m copying mayavi/modules/ui/surface.py -> build/lib.linux-x86_64-3.7/mayavi/modules/ui\n",
      "  \u001b[31m   \u001b[0m creating build/lib.linux-x86_64-3.7/mayavi/sources/ui\n",
      "  \u001b[31m   \u001b[0m copying mayavi/sources/ui/__init__.py -> build/lib.linux-x86_64-3.7/mayavi/sources/ui\n",
      "  \u001b[31m   \u001b[0m copying mayavi/sources/ui/parametric_surface.py -> build/lib.linux-x86_64-3.7/mayavi/sources/ui\n",
      "  \u001b[31m   \u001b[0m creating build/lib.linux-x86_64-3.7/mayavi/components/ui\n",
      "  \u001b[31m   \u001b[0m copying mayavi/components/ui/__init__.py -> build/lib.linux-x86_64-3.7/mayavi/components/ui\n",
      "  \u001b[31m   \u001b[0m copying mayavi/components/ui/contour.py -> build/lib.linux-x86_64-3.7/mayavi/components/ui\n",
      "  \u001b[31m   \u001b[0m copying mayavi/components/ui/actor.py -> build/lib.linux-x86_64-3.7/mayavi/components/ui\n",
      "  \u001b[31m   \u001b[0m creating build/lib.linux-x86_64-3.7/mayavi/core/lut\n",
      "  \u001b[31m   \u001b[0m copying mayavi/core/lut/__init__.py -> build/lib.linux-x86_64-3.7/mayavi/core/lut\n",
      "  \u001b[31m   \u001b[0m creating build/lib.linux-x86_64-3.7/mayavi/core/ui\n",
      "  \u001b[31m   \u001b[0m copying mayavi/core/ui/__init__.py -> build/lib.linux-x86_64-3.7/mayavi/core/ui\n",
      "  \u001b[31m   \u001b[0m copying mayavi/core/ui/engine_rich_view.py -> build/lib.linux-x86_64-3.7/mayavi/core/ui\n",
      "  \u001b[31m   \u001b[0m copying mayavi/core/ui/module_manager.py -> build/lib.linux-x86_64-3.7/mayavi/core/ui\n",
      "  \u001b[31m   \u001b[0m copying mayavi/core/ui/api.py -> build/lib.linux-x86_64-3.7/mayavi/core/ui\n",
      "  \u001b[31m   \u001b[0m copying mayavi/core/ui/mayavi_scene.py -> build/lib.linux-x86_64-3.7/mayavi/core/ui\n",
      "  \u001b[31m   \u001b[0m copying mayavi/core/ui/lut_manager.py -> build/lib.linux-x86_64-3.7/mayavi/core/ui\n",
      "  \u001b[31m   \u001b[0m copying mayavi/core/ui/engine_view.py -> build/lib.linux-x86_64-3.7/mayavi/core/ui\n",
      "  \u001b[31m   \u001b[0m creating build/lib.linux-x86_64-3.7/mayavi/tools/remote\n",
      "  \u001b[31m   \u001b[0m copying mayavi/tools/remote/__init__.py -> build/lib.linux-x86_64-3.7/mayavi/tools/remote\n",
      "  \u001b[31m   \u001b[0m copying mayavi/tools/remote/ipy_remote.py -> build/lib.linux-x86_64-3.7/mayavi/tools/remote\n",
      "  \u001b[31m   \u001b[0m copying mayavi/tools/remote/remote_widget.py -> build/lib.linux-x86_64-3.7/mayavi/tools/remote\n",
      "  \u001b[31m   \u001b[0m copying mayavi/tools/remote/bridge.py -> build/lib.linux-x86_64-3.7/mayavi/tools/remote\n",
      "  \u001b[31m   \u001b[0m copying mayavi/tools/remote/remote_scene.py -> build/lib.linux-x86_64-3.7/mayavi/tools/remote\n",
      "  \u001b[31m   \u001b[0m creating build/lib.linux-x86_64-3.7/mayavi/tools/data_wizards\n",
      "  \u001b[31m   \u001b[0m copying mayavi/tools/data_wizards/__init__.py -> build/lib.linux-x86_64-3.7/mayavi/tools/data_wizards\n",
      "  \u001b[31m   \u001b[0m copying mayavi/tools/data_wizards/preview_window.py -> build/lib.linux-x86_64-3.7/mayavi/tools/data_wizards\n",
      "  \u001b[31m   \u001b[0m copying mayavi/tools/data_wizards/csv_source_factory.py -> build/lib.linux-x86_64-3.7/mayavi/tools/data_wizards\n",
      "  \u001b[31m   \u001b[0m copying mayavi/tools/data_wizards/loadtxt.py -> build/lib.linux-x86_64-3.7/mayavi/tools/data_wizards\n",
      "  \u001b[31m   \u001b[0m copying mayavi/tools/data_wizards/csv_loader.py -> build/lib.linux-x86_64-3.7/mayavi/tools/data_wizards\n",
      "  \u001b[31m   \u001b[0m copying mayavi/tools/data_wizards/data_source_wizard.py -> build/lib.linux-x86_64-3.7/mayavi/tools/data_wizards\n",
      "  \u001b[31m   \u001b[0m copying mayavi/tools/data_wizards/data_source_factory.py -> build/lib.linux-x86_64-3.7/mayavi/tools/data_wizards\n",
      "  \u001b[31m   \u001b[0m copying mayavi/tools/data_wizards/csv_sniff.py -> build/lib.linux-x86_64-3.7/mayavi/tools/data_wizards\n",
      "  \u001b[31m   \u001b[0m running build_ext\n",
      "  \u001b[31m   \u001b[0m customize UnixCCompiler\n",
      "  \u001b[31m   \u001b[0m customize UnixCCompiler using build_ext\n",
      "  \u001b[31m   \u001b[0m CCompilerOpt.cc_test_flags[1013] : testing flags (-march=native)\n",
      "  \u001b[31m   \u001b[0m C compiler: gcc -pthread -B /dagher/dagher11/filip/Software/miniconda/envs/brainsmash/compiler_compat -Wl,--sysroot=/ -Wsign-compare -DNDEBUG -g -fwrapv -O3 -Wall -Wstrict-prototypes -fPIC\n",
      "  \u001b[31m   \u001b[0m \n",
      "  \u001b[31m   \u001b[0m creating /tmp/tmplrt76u1e/dagher\n",
      "  \u001b[31m   \u001b[0m creating /tmp/tmplrt76u1e/dagher/dagher11\n",
      "  \u001b[31m   \u001b[0m creating /tmp/tmplrt76u1e/dagher/dagher11/filip\n",
      "  \u001b[31m   \u001b[0m creating /tmp/tmplrt76u1e/dagher/dagher11/filip/Software\n",
      "  \u001b[31m   \u001b[0m creating /tmp/tmplrt76u1e/dagher/dagher11/filip/Software/miniconda\n",
      "  \u001b[31m   \u001b[0m creating /tmp/tmplrt76u1e/dagher/dagher11/filip/Software/miniconda/envs\n",
      "  \u001b[31m   \u001b[0m creating /tmp/tmplrt76u1e/dagher/dagher11/filip/Software/miniconda/envs/brainsmash\n",
      "  \u001b[31m   \u001b[0m creating /tmp/tmplrt76u1e/dagher/dagher11/filip/Software/miniconda/envs/brainsmash/lib\n",
      "  \u001b[31m   \u001b[0m creating /tmp/tmplrt76u1e/dagher/dagher11/filip/Software/miniconda/envs/brainsmash/lib/python3.7\n",
      "  \u001b[31m   \u001b[0m creating /tmp/tmplrt76u1e/dagher/dagher11/filip/Software/miniconda/envs/brainsmash/lib/python3.7/site-packages\n",
      "  \u001b[31m   \u001b[0m creating /tmp/tmplrt76u1e/dagher/dagher11/filip/Software/miniconda/envs/brainsmash/lib/python3.7/site-packages/numpy\n",
      "  \u001b[31m   \u001b[0m creating /tmp/tmplrt76u1e/dagher/dagher11/filip/Software/miniconda/envs/brainsmash/lib/python3.7/site-packages/numpy/distutils\n",
      "  \u001b[31m   \u001b[0m creating /tmp/tmplrt76u1e/dagher/dagher11/filip/Software/miniconda/envs/brainsmash/lib/python3.7/site-packages/numpy/distutils/checks\n",
      "  \u001b[31m   \u001b[0m compile options: '-I/dagher/dagher11/filip/Software/miniconda/envs/brainsmash/include/python3.7m -c'\n",
      "  \u001b[31m   \u001b[0m extra options: '-march=native'\n",
      "  \u001b[31m   \u001b[0m CCompilerOpt.cc_test_flags[1013] : testing flags (-O3)\n",
      "  \u001b[31m   \u001b[0m C compiler: gcc -pthread -B /dagher/dagher11/filip/Software/miniconda/envs/brainsmash/compiler_compat -Wl,--sysroot=/ -Wsign-compare -DNDEBUG -g -fwrapv -O3 -Wall -Wstrict-prototypes -fPIC\n",
      "  \u001b[31m   \u001b[0m \n",
      "  \u001b[31m   \u001b[0m compile options: '-I/dagher/dagher11/filip/Software/miniconda/envs/brainsmash/include/python3.7m -c'\n",
      "  \u001b[31m   \u001b[0m extra options: '-O3'\n",
      "  \u001b[31m   \u001b[0m CCompilerOpt.cc_test_flags[1013] : testing flags (-Werror)\n",
      "  \u001b[31m   \u001b[0m C compiler: gcc -pthread -B /dagher/dagher11/filip/Software/miniconda/envs/brainsmash/compiler_compat -Wl,--sysroot=/ -Wsign-compare -DNDEBUG -g -fwrapv -O3 -Wall -Wstrict-prototypes -fPIC\n",
      "  \u001b[31m   \u001b[0m \n",
      "  \u001b[31m   \u001b[0m compile options: '-I/dagher/dagher11/filip/Software/miniconda/envs/brainsmash/include/python3.7m -c'\n",
      "  \u001b[31m   \u001b[0m extra options: '-Werror'\n",
      "  \u001b[31m   \u001b[0m CCompilerOpt.__init__[1701] : check requested baseline\n",
      "  \u001b[31m   \u001b[0m CCompilerOpt.cc_test_flags[1013] : testing flags (-msse)\n",
      "  \u001b[31m   \u001b[0m C compiler: gcc -pthread -B /dagher/dagher11/filip/Software/miniconda/envs/brainsmash/compiler_compat -Wl,--sysroot=/ -Wsign-compare -DNDEBUG -g -fwrapv -O3 -Wall -Wstrict-prototypes -fPIC\n",
      "  \u001b[31m   \u001b[0m \n",
      "  \u001b[31m   \u001b[0m compile options: '-I/dagher/dagher11/filip/Software/miniconda/envs/brainsmash/include/python3.7m -c'\n",
      "  \u001b[31m   \u001b[0m extra options: '-msse'\n",
      "  \u001b[31m   \u001b[0m CCompilerOpt.cc_test_flags[1013] : testing flags (-msse2)\n",
      "  \u001b[31m   \u001b[0m C compiler: gcc -pthread -B /dagher/dagher11/filip/Software/miniconda/envs/brainsmash/compiler_compat -Wl,--sysroot=/ -Wsign-compare -DNDEBUG -g -fwrapv -O3 -Wall -Wstrict-prototypes -fPIC\n",
      "  \u001b[31m   \u001b[0m \n",
      "  \u001b[31m   \u001b[0m compile options: '-I/dagher/dagher11/filip/Software/miniconda/envs/brainsmash/include/python3.7m -c'\n",
      "  \u001b[31m   \u001b[0m extra options: '-msse2'\n",
      "  \u001b[31m   \u001b[0m CCompilerOpt.feature_test[1468] : testing feature 'SSE2' with flags (-msse -msse2)\n",
      "  \u001b[31m   \u001b[0m C compiler: gcc -pthread -B /dagher/dagher11/filip/Software/miniconda/envs/brainsmash/compiler_compat -Wl,--sysroot=/ -Wsign-compare -DNDEBUG -g -fwrapv -O3 -Wall -Wstrict-prototypes -fPIC\n",
      "  \u001b[31m   \u001b[0m \n",
      "  \u001b[31m   \u001b[0m compile options: '-I/dagher/dagher11/filip/Software/miniconda/envs/brainsmash/include/python3.7m -c'\n",
      "  \u001b[31m   \u001b[0m extra options: '-msse -msse2 -Werror'\n",
      "  \u001b[31m   \u001b[0m CCompilerOpt.feature_test[1468] : testing feature 'SSE' with flags (-msse -msse2)\n",
      "  \u001b[31m   \u001b[0m C compiler: gcc -pthread -B /dagher/dagher11/filip/Software/miniconda/envs/brainsmash/compiler_compat -Wl,--sysroot=/ -Wsign-compare -DNDEBUG -g -fwrapv -O3 -Wall -Wstrict-prototypes -fPIC\n",
      "  \u001b[31m   \u001b[0m \n",
      "  \u001b[31m   \u001b[0m compile options: '-I/dagher/dagher11/filip/Software/miniconda/envs/brainsmash/include/python3.7m -c'\n",
      "  \u001b[31m   \u001b[0m extra options: '-msse -msse2 -Werror'\n",
      "  \u001b[31m   \u001b[0m CCompilerOpt.cc_test_flags[1013] : testing flags (-msse3)\n",
      "  \u001b[31m   \u001b[0m C compiler: gcc -pthread -B /dagher/dagher11/filip/Software/miniconda/envs/brainsmash/compiler_compat -Wl,--sysroot=/ -Wsign-compare -DNDEBUG -g -fwrapv -O3 -Wall -Wstrict-prototypes -fPIC\n",
      "  \u001b[31m   \u001b[0m \n",
      "  \u001b[31m   \u001b[0m compile options: '-I/dagher/dagher11/filip/Software/miniconda/envs/brainsmash/include/python3.7m -c'\n",
      "  \u001b[31m   \u001b[0m extra options: '-msse3'\n",
      "  \u001b[31m   \u001b[0m CCompilerOpt.feature_test[1468] : testing feature 'SSE3' with flags (-msse -msse2 -msse3)\n",
      "  \u001b[31m   \u001b[0m C compiler: gcc -pthread -B /dagher/dagher11/filip/Software/miniconda/envs/brainsmash/compiler_compat -Wl,--sysroot=/ -Wsign-compare -DNDEBUG -g -fwrapv -O3 -Wall -Wstrict-prototypes -fPIC\n",
      "  \u001b[31m   \u001b[0m \n",
      "  \u001b[31m   \u001b[0m compile options: '-I/dagher/dagher11/filip/Software/miniconda/envs/brainsmash/include/python3.7m -c'\n",
      "  \u001b[31m   \u001b[0m extra options: '-msse -msse2 -msse3 -Werror'\n",
      "  \u001b[31m   \u001b[0m CCompilerOpt.__init__[1710] : check requested dispatch-able features\n",
      "  \u001b[31m   \u001b[0m CCompilerOpt.cc_test_flags[1013] : testing flags (-mssse3)\n",
      "  \u001b[31m   \u001b[0m C compiler: gcc -pthread -B /dagher/dagher11/filip/Software/miniconda/envs/brainsmash/compiler_compat -Wl,--sysroot=/ -Wsign-compare -DNDEBUG -g -fwrapv -O3 -Wall -Wstrict-prototypes -fPIC\n",
      "  \u001b[31m   \u001b[0m \n",
      "  \u001b[31m   \u001b[0m compile options: '-I/dagher/dagher11/filip/Software/miniconda/envs/brainsmash/include/python3.7m -c'\n",
      "  \u001b[31m   \u001b[0m extra options: '-mssse3'\n",
      "  \u001b[31m   \u001b[0m CCompilerOpt.cc_test_flags[1013] : testing flags (-msse4.1)\n",
      "  \u001b[31m   \u001b[0m C compiler: gcc -pthread -B /dagher/dagher11/filip/Software/miniconda/envs/brainsmash/compiler_compat -Wl,--sysroot=/ -Wsign-compare -DNDEBUG -g -fwrapv -O3 -Wall -Wstrict-prototypes -fPIC\n",
      "  \u001b[31m   \u001b[0m \n",
      "  \u001b[31m   \u001b[0m compile options: '-I/dagher/dagher11/filip/Software/miniconda/envs/brainsmash/include/python3.7m -c'\n",
      "  \u001b[31m   \u001b[0m extra options: '-msse4.1'\n",
      "  \u001b[31m   \u001b[0m CCompilerOpt.cc_test_flags[1013] : testing flags (-mpopcnt)\n",
      "  \u001b[31m   \u001b[0m C compiler: gcc -pthread -B /dagher/dagher11/filip/Software/miniconda/envs/brainsmash/compiler_compat -Wl,--sysroot=/ -Wsign-compare -DNDEBUG -g -fwrapv -O3 -Wall -Wstrict-prototypes -fPIC\n",
      "  \u001b[31m   \u001b[0m \n",
      "  \u001b[31m   \u001b[0m compile options: '-I/dagher/dagher11/filip/Software/miniconda/envs/brainsmash/include/python3.7m -c'\n",
      "  \u001b[31m   \u001b[0m extra options: '-mpopcnt'\n",
      "  \u001b[31m   \u001b[0m CCompilerOpt.cc_test_flags[1013] : testing flags (-msse4.2)\n",
      "  \u001b[31m   \u001b[0m C compiler: gcc -pthread -B /dagher/dagher11/filip/Software/miniconda/envs/brainsmash/compiler_compat -Wl,--sysroot=/ -Wsign-compare -DNDEBUG -g -fwrapv -O3 -Wall -Wstrict-prototypes -fPIC\n",
      "  \u001b[31m   \u001b[0m \n",
      "  \u001b[31m   \u001b[0m compile options: '-I/dagher/dagher11/filip/Software/miniconda/envs/brainsmash/include/python3.7m -c'\n",
      "  \u001b[31m   \u001b[0m extra options: '-msse4.2'\n",
      "  \u001b[31m   \u001b[0m CCompilerOpt.cc_test_flags[1013] : testing flags (-mavx)\n",
      "  \u001b[31m   \u001b[0m C compiler: gcc -pthread -B /dagher/dagher11/filip/Software/miniconda/envs/brainsmash/compiler_compat -Wl,--sysroot=/ -Wsign-compare -DNDEBUG -g -fwrapv -O3 -Wall -Wstrict-prototypes -fPIC\n",
      "  \u001b[31m   \u001b[0m \n",
      "  \u001b[31m   \u001b[0m compile options: '-I/dagher/dagher11/filip/Software/miniconda/envs/brainsmash/include/python3.7m -c'\n",
      "  \u001b[31m   \u001b[0m extra options: '-mavx'\n",
      "  \u001b[31m   \u001b[0m CCompilerOpt.cc_test_flags[1013] : testing flags (-mf16c)\n",
      "  \u001b[31m   \u001b[0m C compiler: gcc -pthread -B /dagher/dagher11/filip/Software/miniconda/envs/brainsmash/compiler_compat -Wl,--sysroot=/ -Wsign-compare -DNDEBUG -g -fwrapv -O3 -Wall -Wstrict-prototypes -fPIC\n",
      "  \u001b[31m   \u001b[0m \n",
      "  \u001b[31m   \u001b[0m compile options: '-I/dagher/dagher11/filip/Software/miniconda/envs/brainsmash/include/python3.7m -c'\n",
      "  \u001b[31m   \u001b[0m extra options: '-mf16c'\n",
      "  \u001b[31m   \u001b[0m CCompilerOpt.cc_test_flags[1013] : testing flags (-mfma)\n",
      "  \u001b[31m   \u001b[0m C compiler: gcc -pthread -B /dagher/dagher11/filip/Software/miniconda/envs/brainsmash/compiler_compat -Wl,--sysroot=/ -Wsign-compare -DNDEBUG -g -fwrapv -O3 -Wall -Wstrict-prototypes -fPIC\n",
      "  \u001b[31m   \u001b[0m \n",
      "  \u001b[31m   \u001b[0m compile options: '-I/dagher/dagher11/filip/Software/miniconda/envs/brainsmash/include/python3.7m -c'\n",
      "  \u001b[31m   \u001b[0m extra options: '-mfma'\n",
      "  \u001b[31m   \u001b[0m CCompilerOpt.feature_test[1468] : testing feature 'FMA3' with flags (-msse -msse2 -msse3 -mssse3 -msse4.1 -mpopcnt -msse4.2 -mavx -mf16c -mfma)\n",
      "  \u001b[31m   \u001b[0m C compiler: gcc -pthread -B /dagher/dagher11/filip/Software/miniconda/envs/brainsmash/compiler_compat -Wl,--sysroot=/ -Wsign-compare -DNDEBUG -g -fwrapv -O3 -Wall -Wstrict-prototypes -fPIC\n",
      "  \u001b[31m   \u001b[0m \n",
      "  \u001b[31m   \u001b[0m compile options: '-I/dagher/dagher11/filip/Software/miniconda/envs/brainsmash/include/python3.7m -c'\n",
      "  \u001b[31m   \u001b[0m extra options: '-msse -msse2 -msse3 -mssse3 -msse4.1 -mpopcnt -msse4.2 -mavx -mf16c -mfma -Werror'\n",
      "  \u001b[31m   \u001b[0m CCompilerOpt.feature_test[1468] : testing feature 'SSE41' with flags (-msse -msse2 -msse3 -mssse3 -msse4.1)\n",
      "  \u001b[31m   \u001b[0m C compiler: gcc -pthread -B /dagher/dagher11/filip/Software/miniconda/envs/brainsmash/compiler_compat -Wl,--sysroot=/ -Wsign-compare -DNDEBUG -g -fwrapv -O3 -Wall -Wstrict-prototypes -fPIC\n",
      "  \u001b[31m   \u001b[0m \n",
      "  \u001b[31m   \u001b[0m compile options: '-I/dagher/dagher11/filip/Software/miniconda/envs/brainsmash/include/python3.7m -c'\n",
      "  \u001b[31m   \u001b[0m extra options: '-msse -msse2 -msse3 -mssse3 -msse4.1 -Werror'\n",
      "  \u001b[31m   \u001b[0m CCompilerOpt.feature_test[1468] : testing feature 'F16C' with flags (-msse -msse2 -msse3 -mssse3 -msse4.1 -mpopcnt -msse4.2 -mavx -mf16c)\n",
      "  \u001b[31m   \u001b[0m C compiler: gcc -pthread -B /dagher/dagher11/filip/Software/miniconda/envs/brainsmash/compiler_compat -Wl,--sysroot=/ -Wsign-compare -DNDEBUG -g -fwrapv -O3 -Wall -Wstrict-prototypes -fPIC\n",
      "  \u001b[31m   \u001b[0m \n",
      "  \u001b[31m   \u001b[0m compile options: '-I/dagher/dagher11/filip/Software/miniconda/envs/brainsmash/include/python3.7m -c'\n",
      "  \u001b[31m   \u001b[0m extra options: '-msse -msse2 -msse3 -mssse3 -msse4.1 -mpopcnt -msse4.2 -mavx -mf16c -Werror'\n",
      "  \u001b[31m   \u001b[0m CCompilerOpt.cc_test_flags[1013] : testing flags (-mavx2)\n",
      "  \u001b[31m   \u001b[0m C compiler: gcc -pthread -B /dagher/dagher11/filip/Software/miniconda/envs/brainsmash/compiler_compat -Wl,--sysroot=/ -Wsign-compare -DNDEBUG -g -fwrapv -O3 -Wall -Wstrict-prototypes -fPIC\n",
      "  \u001b[31m   \u001b[0m \n",
      "  \u001b[31m   \u001b[0m compile options: '-I/dagher/dagher11/filip/Software/miniconda/envs/brainsmash/include/python3.7m -c'\n",
      "  \u001b[31m   \u001b[0m extra options: '-mavx2'\n",
      "  \u001b[31m   \u001b[0m CCompilerOpt.cc_test_flags[1013] : testing flags (-mavx512f)\n",
      "  \u001b[31m   \u001b[0m C compiler: gcc -pthread -B /dagher/dagher11/filip/Software/miniconda/envs/brainsmash/compiler_compat -Wl,--sysroot=/ -Wsign-compare -DNDEBUG -g -fwrapv -O3 -Wall -Wstrict-prototypes -fPIC\n",
      "  \u001b[31m   \u001b[0m \n",
      "  \u001b[31m   \u001b[0m compile options: '-I/dagher/dagher11/filip/Software/miniconda/envs/brainsmash/include/python3.7m -c'\n",
      "  \u001b[31m   \u001b[0m extra options: '-mavx512f'\n",
      "  \u001b[31m   \u001b[0m CCompilerOpt.cc_test_flags[1013] : testing flags (-mavx512cd)\n",
      "  \u001b[31m   \u001b[0m C compiler: gcc -pthread -B /dagher/dagher11/filip/Software/miniconda/envs/brainsmash/compiler_compat -Wl,--sysroot=/ -Wsign-compare -DNDEBUG -g -fwrapv -O3 -Wall -Wstrict-prototypes -fPIC\n",
      "  \u001b[31m   \u001b[0m \n",
      "  \u001b[31m   \u001b[0m compile options: '-I/dagher/dagher11/filip/Software/miniconda/envs/brainsmash/include/python3.7m -c'\n",
      "  \u001b[31m   \u001b[0m extra options: '-mavx512cd'\n",
      "  \u001b[31m   \u001b[0m CCompilerOpt.feature_test[1468] : testing feature 'AVX512CD' with flags (-msse -msse2 -msse3 -mssse3 -msse4.1 -mpopcnt -msse4.2 -mavx -mf16c -mfma -mavx2 -mavx512f -mavx512cd)\n",
      "  \u001b[31m   \u001b[0m C compiler: gcc -pthread -B /dagher/dagher11/filip/Software/miniconda/envs/brainsmash/compiler_compat -Wl,--sysroot=/ -Wsign-compare -DNDEBUG -g -fwrapv -O3 -Wall -Wstrict-prototypes -fPIC\n",
      "  \u001b[31m   \u001b[0m \n",
      "  \u001b[31m   \u001b[0m compile options: '-I/dagher/dagher11/filip/Software/miniconda/envs/brainsmash/include/python3.7m -c'\n",
      "  \u001b[31m   \u001b[0m extra options: '-msse -msse2 -msse3 -mssse3 -msse4.1 -mpopcnt -msse4.2 -mavx -mf16c -mfma -mavx2 -mavx512f -mavx512cd -Werror'\n",
      "  \u001b[31m   \u001b[0m CCompilerOpt.feature_test[1468] : testing feature 'SSE42' with flags (-msse -msse2 -msse3 -mssse3 -msse4.1 -mpopcnt -msse4.2)\n",
      "  \u001b[31m   \u001b[0m C compiler: gcc -pthread -B /dagher/dagher11/filip/Software/miniconda/envs/brainsmash/compiler_compat -Wl,--sysroot=/ -Wsign-compare -DNDEBUG -g -fwrapv -O3 -Wall -Wstrict-prototypes -fPIC\n",
      "  \u001b[31m   \u001b[0m \n",
      "  \u001b[31m   \u001b[0m compile options: '-I/dagher/dagher11/filip/Software/miniconda/envs/brainsmash/include/python3.7m -c'\n",
      "  \u001b[31m   \u001b[0m extra options: '-msse -msse2 -msse3 -mssse3 -msse4.1 -mpopcnt -msse4.2 -Werror'\n",
      "  \u001b[31m   \u001b[0m CCompilerOpt.feature_test[1468] : testing feature 'AVX2' with flags (-msse -msse2 -msse3 -mssse3 -msse4.1 -mpopcnt -msse4.2 -mavx -mf16c -mavx2)\n",
      "  \u001b[31m   \u001b[0m C compiler: gcc -pthread -B /dagher/dagher11/filip/Software/miniconda/envs/brainsmash/compiler_compat -Wl,--sysroot=/ -Wsign-compare -DNDEBUG -g -fwrapv -O3 -Wall -Wstrict-prototypes -fPIC\n",
      "  \u001b[31m   \u001b[0m \n",
      "  \u001b[31m   \u001b[0m compile options: '-I/dagher/dagher11/filip/Software/miniconda/envs/brainsmash/include/python3.7m -c'\n",
      "  \u001b[31m   \u001b[0m extra options: '-msse -msse2 -msse3 -mssse3 -msse4.1 -mpopcnt -msse4.2 -mavx -mf16c -mavx2 -Werror'\n",
      "  \u001b[31m   \u001b[0m CCompilerOpt.feature_test[1468] : testing feature 'POPCNT' with flags (-msse -msse2 -msse3 -mssse3 -msse4.1 -mpopcnt)\n",
      "  \u001b[31m   \u001b[0m C compiler: gcc -pthread -B /dagher/dagher11/filip/Software/miniconda/envs/brainsmash/compiler_compat -Wl,--sysroot=/ -Wsign-compare -DNDEBUG -g -fwrapv -O3 -Wall -Wstrict-prototypes -fPIC\n",
      "  \u001b[31m   \u001b[0m \n",
      "  \u001b[31m   \u001b[0m compile options: '-I/dagher/dagher11/filip/Software/miniconda/envs/brainsmash/include/python3.7m -c'\n",
      "  \u001b[31m   \u001b[0m extra options: '-msse -msse2 -msse3 -mssse3 -msse4.1 -mpopcnt -Werror'\n",
      "  \u001b[31m   \u001b[0m CCompilerOpt.feature_test[1468] : testing feature 'SSSE3' with flags (-msse -msse2 -msse3 -mssse3)\n",
      "  \u001b[31m   \u001b[0m C compiler: gcc -pthread -B /dagher/dagher11/filip/Software/miniconda/envs/brainsmash/compiler_compat -Wl,--sysroot=/ -Wsign-compare -DNDEBUG -g -fwrapv -O3 -Wall -Wstrict-prototypes -fPIC\n",
      "  \u001b[31m   \u001b[0m \n",
      "  \u001b[31m   \u001b[0m compile options: '-I/dagher/dagher11/filip/Software/miniconda/envs/brainsmash/include/python3.7m -c'\n",
      "  \u001b[31m   \u001b[0m extra options: '-msse -msse2 -msse3 -mssse3 -Werror'\n",
      "  \u001b[31m   \u001b[0m CCompilerOpt.feature_test[1468] : testing feature 'AVX' with flags (-msse -msse2 -msse3 -mssse3 -msse4.1 -mpopcnt -msse4.2 -mavx)\n",
      "  \u001b[31m   \u001b[0m C compiler: gcc -pthread -B /dagher/dagher11/filip/Software/miniconda/envs/brainsmash/compiler_compat -Wl,--sysroot=/ -Wsign-compare -DNDEBUG -g -fwrapv -O3 -Wall -Wstrict-prototypes -fPIC\n",
      "  \u001b[31m   \u001b[0m \n",
      "  \u001b[31m   \u001b[0m compile options: '-I/dagher/dagher11/filip/Software/miniconda/envs/brainsmash/include/python3.7m -c'\n",
      "  \u001b[31m   \u001b[0m extra options: '-msse -msse2 -msse3 -mssse3 -msse4.1 -mpopcnt -msse4.2 -mavx -Werror'\n",
      "  \u001b[31m   \u001b[0m CCompilerOpt.feature_test[1468] : testing feature 'AVX512F' with flags (-msse -msse2 -msse3 -mssse3 -msse4.1 -mpopcnt -msse4.2 -mavx -mf16c -mfma -mavx2 -mavx512f)\n",
      "  \u001b[31m   \u001b[0m C compiler: gcc -pthread -B /dagher/dagher11/filip/Software/miniconda/envs/brainsmash/compiler_compat -Wl,--sysroot=/ -Wsign-compare -DNDEBUG -g -fwrapv -O3 -Wall -Wstrict-prototypes -fPIC\n",
      "  \u001b[31m   \u001b[0m \n",
      "  \u001b[31m   \u001b[0m compile options: '-I/dagher/dagher11/filip/Software/miniconda/envs/brainsmash/include/python3.7m -c'\n",
      "  \u001b[31m   \u001b[0m extra options: '-msse -msse2 -msse3 -mssse3 -msse4.1 -mpopcnt -msse4.2 -mavx -mf16c -mfma -mavx2 -mavx512f -Werror'\n",
      "  \u001b[31m   \u001b[0m CCompilerOpt.cc_test_flags[1013] : testing flags (-mavx512vl -mavx512bw -mavx512dq)\n",
      "  \u001b[31m   \u001b[0m C compiler: gcc -pthread -B /dagher/dagher11/filip/Software/miniconda/envs/brainsmash/compiler_compat -Wl,--sysroot=/ -Wsign-compare -DNDEBUG -g -fwrapv -O3 -Wall -Wstrict-prototypes -fPIC\n",
      "  \u001b[31m   \u001b[0m \n",
      "  \u001b[31m   \u001b[0m compile options: '-I/dagher/dagher11/filip/Software/miniconda/envs/brainsmash/include/python3.7m -c'\n",
      "  \u001b[31m   \u001b[0m extra options: '-mavx512vl -mavx512bw -mavx512dq'\n",
      "  \u001b[31m   \u001b[0m CCompilerOpt.feature_test[1468] : testing feature 'AVX512_SKX' with flags (-msse -msse2 -msse3 -mssse3 -msse4.1 -mpopcnt -msse4.2 -mavx -mf16c -mfma -mavx2 -mavx512f -mavx512cd -mavx512vl -mavx512bw -mavx512dq)\n",
      "  \u001b[31m   \u001b[0m C compiler: gcc -pthread -B /dagher/dagher11/filip/Software/miniconda/envs/brainsmash/compiler_compat -Wl,--sysroot=/ -Wsign-compare -DNDEBUG -g -fwrapv -O3 -Wall -Wstrict-prototypes -fPIC\n",
      "  \u001b[31m   \u001b[0m \n",
      "  \u001b[31m   \u001b[0m compile options: '-I/dagher/dagher11/filip/Software/miniconda/envs/brainsmash/include/python3.7m -c'\n",
      "  \u001b[31m   \u001b[0m extra options: '-msse -msse2 -msse3 -mssse3 -msse4.1 -mpopcnt -msse4.2 -mavx -mf16c -mfma -mavx2 -mavx512f -mavx512cd -mavx512vl -mavx512bw -mavx512dq -Werror'\n",
      "  \u001b[31m   \u001b[0m CCompilerOpt.cc_test_flags[1013] : testing flags (-mavx512er -mavx512pf)\n",
      "  \u001b[31m   \u001b[0m C compiler: gcc -pthread -B /dagher/dagher11/filip/Software/miniconda/envs/brainsmash/compiler_compat -Wl,--sysroot=/ -Wsign-compare -DNDEBUG -g -fwrapv -O3 -Wall -Wstrict-prototypes -fPIC\n",
      "  \u001b[31m   \u001b[0m \n",
      "  \u001b[31m   \u001b[0m compile options: '-I/dagher/dagher11/filip/Software/miniconda/envs/brainsmash/include/python3.7m -c'\n",
      "  \u001b[31m   \u001b[0m extra options: '-mavx512er -mavx512pf'\n",
      "  \u001b[31m   \u001b[0m CCompilerOpt.feature_test[1468] : testing feature 'AVX512_KNL' with flags (-msse -msse2 -msse3 -mssse3 -msse4.1 -mpopcnt -msse4.2 -mavx -mf16c -mfma -mavx2 -mavx512f -mavx512cd -mavx512er -mavx512pf)\n",
      "  \u001b[31m   \u001b[0m C compiler: gcc -pthread -B /dagher/dagher11/filip/Software/miniconda/envs/brainsmash/compiler_compat -Wl,--sysroot=/ -Wsign-compare -DNDEBUG -g -fwrapv -O3 -Wall -Wstrict-prototypes -fPIC\n",
      "  \u001b[31m   \u001b[0m \n",
      "  \u001b[31m   \u001b[0m compile options: '-I/dagher/dagher11/filip/Software/miniconda/envs/brainsmash/include/python3.7m -c'\n",
      "  \u001b[31m   \u001b[0m extra options: '-msse -msse2 -msse3 -mssse3 -msse4.1 -mpopcnt -msse4.2 -mavx -mf16c -mfma -mavx2 -mavx512f -mavx512cd -mavx512er -mavx512pf -Werror'\n",
      "  \u001b[31m   \u001b[0m CCompilerOpt.cc_test_flags[1013] : testing flags (-mavx5124fmaps -mavx5124vnniw -mavx512vpopcntdq)\n",
      "  \u001b[31m   \u001b[0m C compiler: gcc -pthread -B /dagher/dagher11/filip/Software/miniconda/envs/brainsmash/compiler_compat -Wl,--sysroot=/ -Wsign-compare -DNDEBUG -g -fwrapv -O3 -Wall -Wstrict-prototypes -fPIC\n",
      "  \u001b[31m   \u001b[0m \n",
      "  \u001b[31m   \u001b[0m compile options: '-I/dagher/dagher11/filip/Software/miniconda/envs/brainsmash/include/python3.7m -c'\n",
      "  \u001b[31m   \u001b[0m extra options: '-mavx5124fmaps -mavx5124vnniw -mavx512vpopcntdq'\n",
      "  \u001b[31m   \u001b[0m CCompilerOpt.feature_test[1468] : testing feature 'AVX512_KNM' with flags (-msse -msse2 -msse3 -mssse3 -msse4.1 -mpopcnt -msse4.2 -mavx -mf16c -mfma -mavx2 -mavx512f -mavx512cd -mavx512er -mavx512pf -mavx5124fmaps -mavx5124vnniw -mavx512vpopcntdq)\n",
      "  \u001b[31m   \u001b[0m C compiler: gcc -pthread -B /dagher/dagher11/filip/Software/miniconda/envs/brainsmash/compiler_compat -Wl,--sysroot=/ -Wsign-compare -DNDEBUG -g -fwrapv -O3 -Wall -Wstrict-prototypes -fPIC\n",
      "  \u001b[31m   \u001b[0m \n",
      "  \u001b[31m   \u001b[0m compile options: '-I/dagher/dagher11/filip/Software/miniconda/envs/brainsmash/include/python3.7m -c'\n",
      "  \u001b[31m   \u001b[0m extra options: '-msse -msse2 -msse3 -mssse3 -msse4.1 -mpopcnt -msse4.2 -mavx -mf16c -mfma -mavx2 -mavx512f -mavx512cd -mavx512er -mavx512pf -mavx5124fmaps -mavx5124vnniw -mavx512vpopcntdq -Werror'\n",
      "  \u001b[31m   \u001b[0m CCompilerOpt.cc_test_flags[1013] : testing flags (-mavx512ifma -mavx512vbmi)\n",
      "  \u001b[31m   \u001b[0m C compiler: gcc -pthread -B /dagher/dagher11/filip/Software/miniconda/envs/brainsmash/compiler_compat -Wl,--sysroot=/ -Wsign-compare -DNDEBUG -g -fwrapv -O3 -Wall -Wstrict-prototypes -fPIC\n",
      "  \u001b[31m   \u001b[0m \n",
      "  \u001b[31m   \u001b[0m compile options: '-I/dagher/dagher11/filip/Software/miniconda/envs/brainsmash/include/python3.7m -c'\n",
      "  \u001b[31m   \u001b[0m extra options: '-mavx512ifma -mavx512vbmi'\n",
      "  \u001b[31m   \u001b[0m CCompilerOpt.feature_test[1468] : testing feature 'AVX512_CNL' with flags (-msse -msse2 -msse3 -mssse3 -msse4.1 -mpopcnt -msse4.2 -mavx -mf16c -mfma -mavx2 -mavx512f -mavx512cd -mavx512vl -mavx512bw -mavx512dq -mavx512ifma -mavx512vbmi)\n",
      "  \u001b[31m   \u001b[0m C compiler: gcc -pthread -B /dagher/dagher11/filip/Software/miniconda/envs/brainsmash/compiler_compat -Wl,--sysroot=/ -Wsign-compare -DNDEBUG -g -fwrapv -O3 -Wall -Wstrict-prototypes -fPIC\n",
      "  \u001b[31m   \u001b[0m \n",
      "  \u001b[31m   \u001b[0m compile options: '-I/dagher/dagher11/filip/Software/miniconda/envs/brainsmash/include/python3.7m -c'\n",
      "  \u001b[31m   \u001b[0m extra options: '-msse -msse2 -msse3 -mssse3 -msse4.1 -mpopcnt -msse4.2 -mavx -mf16c -mfma -mavx2 -mavx512f -mavx512cd -mavx512vl -mavx512bw -mavx512dq -mavx512ifma -mavx512vbmi -Werror'\n",
      "  \u001b[31m   \u001b[0m CCompilerOpt.cc_test_flags[1013] : testing flags (-mavx512vnni)\n",
      "  \u001b[31m   \u001b[0m C compiler: gcc -pthread -B /dagher/dagher11/filip/Software/miniconda/envs/brainsmash/compiler_compat -Wl,--sysroot=/ -Wsign-compare -DNDEBUG -g -fwrapv -O3 -Wall -Wstrict-prototypes -fPIC\n",
      "  \u001b[31m   \u001b[0m \n",
      "  \u001b[31m   \u001b[0m compile options: '-I/dagher/dagher11/filip/Software/miniconda/envs/brainsmash/include/python3.7m -c'\n",
      "  \u001b[31m   \u001b[0m extra options: '-mavx512vnni'\n",
      "  \u001b[31m   \u001b[0m Traceback (most recent call last):\n",
      "  \u001b[31m   \u001b[0m   File \"<string>\", line 36, in <module>\n",
      "  \u001b[31m   \u001b[0m   File \"<pip-setuptools-caller>\", line 34, in <module>\n",
      "  \u001b[31m   \u001b[0m   File \"/tmp/pip-install-3u4n327n/mayavi_dfecf62cb5eb46c2af96edbc344c32bb/setup.py\", line 474, in <module>\n",
      "  \u001b[31m   \u001b[0m     **config\n",
      "  \u001b[31m   \u001b[0m   File \"/dagher/dagher11/filip/Software/miniconda/envs/brainsmash/lib/python3.7/site-packages/numpy/distutils/core.py\", line 169, in setup\n",
      "  \u001b[31m   \u001b[0m     return old_setup(**new_attr)\n",
      "  \u001b[31m   \u001b[0m   File \"/dagher/dagher11/filip/Software/miniconda/envs/brainsmash/lib/python3.7/site-packages/setuptools/__init__.py\", line 153, in setup\n",
      "  \u001b[31m   \u001b[0m     return distutils.core.setup(**attrs)\n",
      "  \u001b[31m   \u001b[0m   File \"/dagher/dagher11/filip/Software/miniconda/envs/brainsmash/lib/python3.7/distutils/core.py\", line 148, in setup\n",
      "  \u001b[31m   \u001b[0m     dist.run_commands()\n",
      "  \u001b[31m   \u001b[0m   File \"/dagher/dagher11/filip/Software/miniconda/envs/brainsmash/lib/python3.7/distutils/dist.py\", line 966, in run_commands\n",
      "  \u001b[31m   \u001b[0m     self.run_command(cmd)\n",
      "  \u001b[31m   \u001b[0m   File \"/dagher/dagher11/filip/Software/miniconda/envs/brainsmash/lib/python3.7/distutils/dist.py\", line 985, in run_command\n",
      "  \u001b[31m   \u001b[0m     cmd_obj.run()\n",
      "  \u001b[31m   \u001b[0m   File \"/dagher/dagher11/filip/Software/miniconda/envs/brainsmash/lib/python3.7/site-packages/numpy/distutils/command/install.py\", line 60, in run\n",
      "  \u001b[31m   \u001b[0m     r = self.setuptools_run()\n",
      "  \u001b[31m   \u001b[0m   File \"/dagher/dagher11/filip/Software/miniconda/envs/brainsmash/lib/python3.7/site-packages/numpy/distutils/command/install.py\", line 34, in setuptools_run\n",
      "  \u001b[31m   \u001b[0m     return distutils_install.run(self)\n",
      "  \u001b[31m   \u001b[0m   File \"/dagher/dagher11/filip/Software/miniconda/envs/brainsmash/lib/python3.7/distutils/command/install.py\", line 545, in run\n",
      "  \u001b[31m   \u001b[0m     self.run_command('build')\n",
      "  \u001b[31m   \u001b[0m   File \"/dagher/dagher11/filip/Software/miniconda/envs/brainsmash/lib/python3.7/distutils/cmd.py\", line 313, in run_command\n",
      "  \u001b[31m   \u001b[0m     self.distribution.run_command(command)\n",
      "  \u001b[31m   \u001b[0m   File \"/dagher/dagher11/filip/Software/miniconda/envs/brainsmash/lib/python3.7/distutils/dist.py\", line 985, in run_command\n",
      "  \u001b[31m   \u001b[0m     cmd_obj.run()\n",
      "  \u001b[31m   \u001b[0m   File \"/tmp/pip-install-3u4n327n/mayavi_dfecf62cb5eb46c2af96edbc344c32bb/setup.py\", line 269, in run\n",
      "  \u001b[31m   \u001b[0m     build.build.run(self)\n",
      "  \u001b[31m   \u001b[0m   File \"/dagher/dagher11/filip/Software/miniconda/envs/brainsmash/lib/python3.7/site-packages/numpy/distutils/command/build.py\", line 61, in run\n",
      "  \u001b[31m   \u001b[0m     old_build.run(self)\n",
      "  \u001b[31m   \u001b[0m   File \"/dagher/dagher11/filip/Software/miniconda/envs/brainsmash/lib/python3.7/distutils/command/build.py\", line 135, in run\n",
      "  \u001b[31m   \u001b[0m     self.run_command(cmd_name)\n",
      "  \u001b[31m   \u001b[0m   File \"/dagher/dagher11/filip/Software/miniconda/envs/brainsmash/lib/python3.7/distutils/cmd.py\", line 313, in run_command\n",
      "  \u001b[31m   \u001b[0m     self.distribution.run_command(command)\n",
      "  \u001b[31m   \u001b[0m   File \"/dagher/dagher11/filip/Software/miniconda/envs/brainsmash/lib/python3.7/distutils/dist.py\", line 985, in run_command\n",
      "  \u001b[31m   \u001b[0m     cmd_obj.run()\n",
      "  \u001b[31m   \u001b[0m   File \"/dagher/dagher11/filip/Software/miniconda/envs/brainsmash/lib/python3.7/site-packages/numpy/distutils/command/build_ext.py\", line 166, in run\n",
      "  \u001b[31m   \u001b[0m     cache_path=opt_cache_path\n",
      "  \u001b[31m   \u001b[0m   File \"/dagher/dagher11/filip/Software/miniconda/envs/brainsmash/lib/python3.7/site-packages/numpy/distutils/ccompiler_opt.py\", line 2569, in new_ccompiler_opt\n",
      "  \u001b[31m   \u001b[0m     opt = CCompilerOpt(compiler, **kwargs)\n",
      "  \u001b[31m   \u001b[0m   File \"/dagher/dagher11/filip/Software/miniconda/envs/brainsmash/lib/python3.7/site-packages/numpy/distutils/ccompiler_opt.py\", line 2137, in __init__\n",
      "  \u001b[31m   \u001b[0m     _Parse.__init__(self, cpu_baseline, cpu_dispatch)\n",
      "  \u001b[31m   \u001b[0m   File \"/dagher/dagher11/filip/Software/miniconda/envs/brainsmash/lib/python3.7/site-packages/numpy/distutils/ccompiler_opt.py\", line 1719, in __init__\n",
      "  \u001b[31m   \u001b[0m     self.feature_names(cpu_dispatch)\n",
      "  \u001b[31m   \u001b[0m   File \"/dagher/dagher11/filip/Software/miniconda/envs/brainsmash/lib/python3.7/site-packages/numpy/distutils/ccompiler_opt.py\", line 1210, in feature_names\n",
      "  \u001b[31m   \u001b[0m     f, force_flags=force_flags, macros=macros\n",
      "  \u001b[31m   \u001b[0m   File \"/dagher/dagher11/filip/Software/miniconda/envs/brainsmash/lib/python3.7/site-packages/numpy/distutils/ccompiler_opt.py\", line 853, in cache_wrap_me\n",
      "  \u001b[31m   \u001b[0m     ccb = cb(self, *args, **kwargs)\n",
      "  \u001b[31m   \u001b[0m   File \"/dagher/dagher11/filip/Software/miniconda/envs/brainsmash/lib/python3.7/site-packages/numpy/distutils/ccompiler_opt.py\", line 1508, in feature_is_supported\n",
      "  \u001b[31m   \u001b[0m     if not self.feature_test(impl, force_flags, macros=macros):\n",
      "  \u001b[31m   \u001b[0m   File \"/dagher/dagher11/filip/Software/miniconda/envs/brainsmash/lib/python3.7/site-packages/numpy/distutils/ccompiler_opt.py\", line 853, in cache_wrap_me\n",
      "  \u001b[31m   \u001b[0m     ccb = cb(self, *args, **kwargs)\n",
      "  \u001b[31m   \u001b[0m   File \"/dagher/dagher11/filip/Software/miniconda/envs/brainsmash/lib/python3.7/site-packages/numpy/distutils/ccompiler_opt.py\", line 1464, in feature_test\n",
      "  \u001b[31m   \u001b[0m     force_flags = self.feature_flags(name)\n",
      "  \u001b[31m   \u001b[0m   File \"/dagher/dagher11/filip/Software/miniconda/envs/brainsmash/lib/python3.7/site-packages/numpy/distutils/ccompiler_opt.py\", line 853, in cache_wrap_me\n",
      "  \u001b[31m   \u001b[0m     ccb = cb(self, *args, **kwargs)\n",
      "  \u001b[31m   \u001b[0m   File \"/dagher/dagher11/filip/Software/miniconda/envs/brainsmash/lib/python3.7/site-packages/numpy/distutils/ccompiler_opt.py\", line 1440, in feature_flags\n",
      "  \u001b[31m   \u001b[0m     if not f or not self.cc_test_flags(f):\n",
      "  \u001b[31m   \u001b[0m   File \"/dagher/dagher11/filip/Software/miniconda/envs/brainsmash/lib/python3.7/site-packages/numpy/distutils/ccompiler_opt.py\", line 853, in cache_wrap_me\n",
      "  \u001b[31m   \u001b[0m     ccb = cb(self, *args, **kwargs)\n",
      "  \u001b[31m   \u001b[0m   File \"/dagher/dagher11/filip/Software/miniconda/envs/brainsmash/lib/python3.7/site-packages/numpy/distutils/ccompiler_opt.py\", line 1015, in cc_test_flags\n",
      "  \u001b[31m   \u001b[0m     test = self.dist_test(test_path, flags)\n",
      "  \u001b[31m   \u001b[0m   File \"/dagher/dagher11/filip/Software/miniconda/envs/brainsmash/lib/python3.7/site-packages/numpy/distutils/ccompiler_opt.py\", line 577, in dist_test\n",
      "  \u001b[31m   \u001b[0m     [source], flags, macros=macros, output_dir=self.conf_tmp_path\n",
      "  \u001b[31m   \u001b[0m   File \"/dagher/dagher11/filip/Software/miniconda/envs/brainsmash/lib/python3.7/site-packages/numpy/distutils/ccompiler_opt.py\", line 558, in dist_compile\n",
      "  \u001b[31m   \u001b[0m     return ccompiler.compile(sources, extra_postargs=flags, **kwargs)\n",
      "  \u001b[31m   \u001b[0m   File \"/dagher/dagher11/filip/Software/miniconda/envs/brainsmash/lib/python3.7/site-packages/numpy/distutils/ccompiler.py\", line 89, in <lambda>\n",
      "  \u001b[31m   \u001b[0m     m = lambda self, *args, **kw: func(self, *args, **kw)\n",
      "  \u001b[31m   \u001b[0m   File \"/dagher/dagher11/filip/Software/miniconda/envs/brainsmash/lib/python3.7/site-packages/numpy/distutils/ccompiler.py\", line 366, in CCompiler_compile\n",
      "  \u001b[31m   \u001b[0m     single_compile(o)\n",
      "  \u001b[31m   \u001b[0m   File \"/dagher/dagher11/filip/Software/miniconda/envs/brainsmash/lib/python3.7/site-packages/numpy/distutils/ccompiler.py\", line 326, in single_compile\n",
      "  \u001b[31m   \u001b[0m     self._compile(obj, src, ext, cc_args, extra_postargs, pp_opts)\n",
      "  \u001b[31m   \u001b[0m   File \"/dagher/dagher11/filip/Software/miniconda/envs/brainsmash/lib/python3.7/site-packages/numpy/distutils/ccompiler.py\", line 89, in <lambda>\n",
      "  \u001b[31m   \u001b[0m     m = lambda self, *args, **kw: func(self, *args, **kw)\n",
      "  \u001b[31m   \u001b[0m   File \"/dagher/dagher11/filip/Software/miniconda/envs/brainsmash/lib/python3.7/site-packages/numpy/distutils/unixccompiler.py\", line 54, in UnixCCompiler__compile\n",
      "  \u001b[31m   \u001b[0m     extra_postargs, display = display)\n",
      "  \u001b[31m   \u001b[0m   File \"/dagher/dagher11/filip/Software/miniconda/envs/brainsmash/lib/python3.7/site-packages/numpy/distutils/ccompiler_opt.py\", line 702, in _dist_test_spawn\n",
      "  \u001b[31m   \u001b[0m     universal_newlines=True)\n",
      "  \u001b[31m   \u001b[0m   File \"/dagher/dagher11/filip/Software/miniconda/envs/brainsmash/lib/python3.7/subprocess.py\", line 411, in check_output\n",
      "  \u001b[31m   \u001b[0m     **kwargs).stdout\n",
      "  \u001b[31m   \u001b[0m   File \"/dagher/dagher11/filip/Software/miniconda/envs/brainsmash/lib/python3.7/subprocess.py\", line 490, in run\n",
      "  \u001b[31m   \u001b[0m     stdout, stderr = process.communicate(input, timeout=timeout)\n",
      "  \u001b[31m   \u001b[0m   File \"/dagher/dagher11/filip/Software/miniconda/envs/brainsmash/lib/python3.7/subprocess.py\", line 951, in communicate\n",
      "  \u001b[31m   \u001b[0m     stdout = self.stdout.read()\n",
      "  \u001b[31m   \u001b[0m   File \"/dagher/dagher11/filip/Software/miniconda/envs/brainsmash/lib/python3.7/encodings/ascii.py\", line 26, in decode\n",
      "  \u001b[31m   \u001b[0m     return codecs.ascii_decode(input, self.errors)[0]\n",
      "  \u001b[31m   \u001b[0m UnicodeDecodeError: 'ascii' codec can't decode byte 0xe2 in position 45: ordinal not in range(128)\n",
      "  \u001b[31m   \u001b[0m CCompilerOpt.cache_flush[809] : write cache to path -> /tmp/pip-install-3u4n327n/mayavi_dfecf62cb5eb46c2af96edbc344c32bb/build/temp.linux-x86_64-3.7/ccompiler_opt_cache_ext.py\n",
      "  \u001b[31m   \u001b[0m \u001b[31m[end of output]\u001b[0m\n",
      "  \n",
      "  \u001b[1;35mnote\u001b[0m: This error originates from a subprocess, and is likely not a problem with pip.\n",
      "\u001b[1;31merror\u001b[0m: \u001b[1mlegacy-install-failure\u001b[0m\n",
      "\n",
      "\u001b[31m×\u001b[0m Encountered error while trying to install package.\n",
      "\u001b[31m╰─>\u001b[0m mayavi\n",
      "\n",
      "\u001b[1;35mnote\u001b[0m: This is an issue with the package mentioned above, not pip.\n",
      "\u001b[1;36mhint\u001b[0m: See above for output from the failure.\n"
     ]
    },
    {
     "name": "stdout",
     "output_type": "stream",
     "text": [
      "\u001b[?25hNote: you may need to restart the kernel to use updated packages.\n"
     ]
    }
   ],
   "source": [
    "pip install mayavi"
   ]
  },
  {
   "cell_type": "code",
   "execution_count": 260,
   "id": "6e005083",
   "metadata": {},
   "outputs": [],
   "source": [
    "reordered_parc_dict = {k: parc_dict[k] for k in order}"
   ]
  }
 ],
 "metadata": {
  "kernelspec": {
   "display_name": "Python py3",
   "language": "python",
   "name": "py3"
  },
  "language_info": {
   "codemirror_mode": {
    "name": "ipython",
    "version": 3
   },
   "file_extension": ".py",
   "mimetype": "text/x-python",
   "name": "python",
   "nbconvert_exporter": "python",
   "pygments_lexer": "ipython3",
   "version": "3.10.8"
  }
 },
 "nbformat": 4,
 "nbformat_minor": 5
}
