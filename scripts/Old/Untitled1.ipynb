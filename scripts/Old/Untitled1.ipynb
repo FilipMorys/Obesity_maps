{
 "cells": [
  {
   "cell_type": "code",
   "execution_count": null,
   "id": "b35fb00f",
   "metadata": {},
   "outputs": [],
   "source": []
  }
 ],
 "metadata": {
  "kernelspec": {
   "display_name": "R4",
   "language": "R",
   "name": "r4"
  },
  "language_info": {
   "codemirror_mode": "r",
   "file_extension": ".r",
   "mimetype": "text/x-r-source",
   "name": "R",
   "pygments_lexer": "r",
   "version": "4.2.2"
  }
 },
 "nbformat": 4,
 "nbformat_minor": 5
}
