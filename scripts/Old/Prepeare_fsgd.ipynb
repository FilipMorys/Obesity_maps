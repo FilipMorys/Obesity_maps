{
 "cells": [
  {
   "cell_type": "markdown",
   "metadata": {},
   "source": [
    "# Read in data"
   ]
  },
  {
   "cell_type": "code",
   "execution_count": 12,
   "metadata": {},
   "outputs": [],
   "source": [
    "HCP=read.table('/dagher/dagher11/filip/HCP_beh//RESTRICTED_uku_7_10_2017_9_43_31.csv',sep=',',header=T)\n",
    "HCP_u=read.table('/dagher/dagher11/filip/HCP_beh//unrestricted_uku_7_10_2017_9_42_13.csv',sep=',',header=T)\n",
    "QC=read.table('/dagher/dagher11/filip/HCP_QC/HCP/QC_sbatch/HCP.csv',sep=',',header=T)\n",
    "QC=QC[, 1:2]\n",
    "colnames(QC)=c('Subject','QC')"
   ]
  },
  {
   "cell_type": "markdown",
   "metadata": {},
   "source": [
    "# Merge datasets"
   ]
  },
  {
   "cell_type": "code",
   "execution_count": 13,
   "metadata": {},
   "outputs": [],
   "source": [
    "All_data=merge(HCP,HCP_u, by='Subject')\n",
    "All_data=merge(All_data,QC, by='Subject', all.x=T)"
   ]
  },
  {
   "cell_type": "markdown",
   "metadata": {},
   "source": [
    "# Create initial FSGD"
   ]
  },
  {
   "cell_type": "code",
   "execution_count": 14,
   "metadata": {},
   "outputs": [],
   "source": [
    "FSGD=data.frame('Variables'='Input', 'Subject'=All_data$Subject, 'Class'='main', 'BMI'=All_data$BMI, \n",
    "                'Sex'=All_data$Gender, 'Age'=All_data$Age_in_Yrs, 'QC'=All_data$QC, 'FID'=All_data$Family_ID,\n",
    "                'Zyg'=All_data$ZygositySR, 'Ethnicity'=All_data$Ethnicity, 'Edu'=All_data$SSAGA_Educ,\n",
    "                'Income'=All_data$SSAGA_Income, 'Hypothyroid'=All_data$Hypothyroidism, \n",
    "                'Hyperthyroid'=All_data$Hyperthyroidism, 'Endocrine'=All_data$OtherEndocrn_Prob)\n",
    "\n",
    "FSGD[is.na(FSGD)] <- 0 # This is fine because I exclude participants who have 0 in QC and \n",
    "                        # leave participants who have 1 in diseases\n"
   ]
  },
  {
   "cell_type": "markdown",
   "metadata": {},
   "source": [
    "# Exclude participants who did not pass CT QC"
   ]
  },
  {
   "cell_type": "code",
   "execution_count": 17,
   "metadata": {},
   "outputs": [],
   "source": [
    "FSGD=FSGD[FSGD$QC==1,]\n",
    "FSGD$QC=NULL"
   ]
  },
  {
   "cell_type": "markdown",
   "metadata": {},
   "source": [
    "## Exclude one of each twin pair"
   ]
  },
  {
   "cell_type": "code",
   "execution_count": 18,
   "metadata": {},
   "outputs": [],
   "source": [
    "FSGD_nt=FSGD[FSGD$Zyg=='NotTwin',]\n",
    "FSGD_t=FSGD[(FSGD$Zyg=='MZ' | FSGD$Zyg=='NotMZ'),]\n",
    "FSGD_t=FSGD_t[!duplicated(FSGD_t$FID),]\n",
    "FSGD=rbind(FSGD_nt,FSGD_t)"
   ]
  },
  {
   "cell_type": "markdown",
   "metadata": {},
   "source": [
    "# Exclude people with endocrine issues"
   ]
  },
  {
   "cell_type": "code",
   "execution_count": 19,
   "metadata": {},
   "outputs": [],
   "source": [
    "FSGD=FSGD[FSGD$Hypothyroid==0,]\n",
    "FSGD=FSGD[FSGD$Hyperthyroid==0,]\n",
    "FSGD=FSGD[FSGD$Endocrine==0,]"
   ]
  },
  {
   "cell_type": "markdown",
   "metadata": {},
   "source": [
    "# Remove unnecessary columns"
   ]
  },
  {
   "cell_type": "code",
   "execution_count": 20,
   "metadata": {},
   "outputs": [],
   "source": [
    "FSGD$FID=NULL\n",
    "FSGD$Zyg=NULL\n",
    "FSGD$Hypothyroid=NULL\n",
    "FSGD$Hyperthyroid=NULL\n",
    "FSGD$Endocrine=NULL\n",
    "FSGD$Ethnicity=NULL\n",
    "#FSGD$Sex=as.numeric(FSGD$Sex)"
   ]
  },
  {
   "cell_type": "code",
   "execution_count": 21,
   "metadata": {},
   "outputs": [
    {
     "data": {
      "text/html": [
       "814"
      ],
      "text/latex": [
       "814"
      ],
      "text/markdown": [
       "814"
      ],
      "text/plain": [
       "[1] 814"
      ]
     },
     "metadata": {},
     "output_type": "display_data"
    }
   ],
   "source": [
    "length(FSGD$Age)"
   ]
  },
  {
   "cell_type": "code",
   "execution_count": 9,
   "metadata": {},
   "outputs": [],
   "source": [
    "library(psych)"
   ]
  },
  {
   "cell_type": "code",
   "execution_count": 23,
   "metadata": {},
   "outputs": [
    {
     "data": {
      "text/plain": [
       "\n",
       "  F   M \n",
       "421 393 "
      ]
     },
     "metadata": {},
     "output_type": "display_data"
    }
   ],
   "source": [
    "table(FSGD$Sex)"
   ]
  },
  {
   "cell_type": "code",
   "execution_count": 10,
   "metadata": {},
   "outputs": [
    {
     "data": {
      "text/html": [
       "<table class=\"dataframe\">\n",
       "<caption>A psych: 1 × 13</caption>\n",
       "<thead>\n",
       "\t<tr><th></th><th scope=col>vars</th><th scope=col>n</th><th scope=col>mean</th><th scope=col>sd</th><th scope=col>median</th><th scope=col>trimmed</th><th scope=col>mad</th><th scope=col>min</th><th scope=col>max</th><th scope=col>range</th><th scope=col>skew</th><th scope=col>kurtosis</th><th scope=col>se</th></tr>\n",
       "\t<tr><th></th><th scope=col>&lt;dbl&gt;</th><th scope=col>&lt;dbl&gt;</th><th scope=col>&lt;dbl&gt;</th><th scope=col>&lt;dbl&gt;</th><th scope=col>&lt;dbl&gt;</th><th scope=col>&lt;dbl&gt;</th><th scope=col>&lt;dbl&gt;</th><th scope=col>&lt;dbl&gt;</th><th scope=col>&lt;dbl&gt;</th><th scope=col>&lt;dbl&gt;</th><th scope=col>&lt;dbl&gt;</th><th scope=col>&lt;dbl&gt;</th><th scope=col>&lt;dbl&gt;</th></tr>\n",
       "</thead>\n",
       "<tbody>\n",
       "\t<tr><th scope=row>X1</th><td>1</td><td>814</td><td>28.7457</td><td>3.741717</td><td>29</td><td>28.77607</td><td>4.4478</td><td>22</td><td>37</td><td>15</td><td>-0.04502654</td><td>-0.9682246</td><td>0.1311471</td></tr>\n",
       "</tbody>\n",
       "</table>\n"
      ],
      "text/latex": [
       "A psych: 1 × 13\n",
       "\\begin{tabular}{r|lllllllllllll}\n",
       "  & vars & n & mean & sd & median & trimmed & mad & min & max & range & skew & kurtosis & se\\\\\n",
       "  & <dbl> & <dbl> & <dbl> & <dbl> & <dbl> & <dbl> & <dbl> & <dbl> & <dbl> & <dbl> & <dbl> & <dbl> & <dbl>\\\\\n",
       "\\hline\n",
       "\tX1 & 1 & 814 & 28.7457 & 3.741717 & 29 & 28.77607 & 4.4478 & 22 & 37 & 15 & -0.04502654 & -0.9682246 & 0.1311471\\\\\n",
       "\\end{tabular}\n"
      ],
      "text/markdown": [
       "\n",
       "A psych: 1 × 13\n",
       "\n",
       "| <!--/--> | vars &lt;dbl&gt; | n &lt;dbl&gt; | mean &lt;dbl&gt; | sd &lt;dbl&gt; | median &lt;dbl&gt; | trimmed &lt;dbl&gt; | mad &lt;dbl&gt; | min &lt;dbl&gt; | max &lt;dbl&gt; | range &lt;dbl&gt; | skew &lt;dbl&gt; | kurtosis &lt;dbl&gt; | se &lt;dbl&gt; |\n",
       "|---|---|---|---|---|---|---|---|---|---|---|---|---|---|\n",
       "| X1 | 1 | 814 | 28.7457 | 3.741717 | 29 | 28.77607 | 4.4478 | 22 | 37 | 15 | -0.04502654 | -0.9682246 | 0.1311471 |\n",
       "\n"
      ],
      "text/plain": [
       "   vars n   mean    sd       median trimmed  mad    min max range skew       \n",
       "X1 1    814 28.7457 3.741717 29     28.77607 4.4478 22  37  15    -0.04502654\n",
       "   kurtosis   se       \n",
       "X1 -0.9682246 0.1311471"
      ]
     },
     "metadata": {},
     "output_type": "display_data"
    },
    {
     "data": {
      "text/html": [
       "<table class=\"dataframe\">\n",
       "<caption>A psych: 1 × 13</caption>\n",
       "<thead>\n",
       "\t<tr><th></th><th scope=col>vars</th><th scope=col>n</th><th scope=col>mean</th><th scope=col>sd</th><th scope=col>median</th><th scope=col>trimmed</th><th scope=col>mad</th><th scope=col>min</th><th scope=col>max</th><th scope=col>range</th><th scope=col>skew</th><th scope=col>kurtosis</th><th scope=col>se</th></tr>\n",
       "\t<tr><th></th><th scope=col>&lt;dbl&gt;</th><th scope=col>&lt;dbl&gt;</th><th scope=col>&lt;dbl&gt;</th><th scope=col>&lt;dbl&gt;</th><th scope=col>&lt;dbl&gt;</th><th scope=col>&lt;dbl&gt;</th><th scope=col>&lt;dbl&gt;</th><th scope=col>&lt;dbl&gt;</th><th scope=col>&lt;dbl&gt;</th><th scope=col>&lt;dbl&gt;</th><th scope=col>&lt;dbl&gt;</th><th scope=col>&lt;dbl&gt;</th><th scope=col>&lt;dbl&gt;</th></tr>\n",
       "</thead>\n",
       "<tbody>\n",
       "\t<tr><th scope=row>X1</th><td>1</td><td>814</td><td>26.59362</td><td>5.279214</td><td>25.525</td><td>26.05305</td><td>4.751733</td><td>16.65</td><td>47.76</td><td>31.11</td><td>0.9445723</td><td>0.7396266</td><td>0.1850364</td></tr>\n",
       "</tbody>\n",
       "</table>\n"
      ],
      "text/latex": [
       "A psych: 1 × 13\n",
       "\\begin{tabular}{r|lllllllllllll}\n",
       "  & vars & n & mean & sd & median & trimmed & mad & min & max & range & skew & kurtosis & se\\\\\n",
       "  & <dbl> & <dbl> & <dbl> & <dbl> & <dbl> & <dbl> & <dbl> & <dbl> & <dbl> & <dbl> & <dbl> & <dbl> & <dbl>\\\\\n",
       "\\hline\n",
       "\tX1 & 1 & 814 & 26.59362 & 5.279214 & 25.525 & 26.05305 & 4.751733 & 16.65 & 47.76 & 31.11 & 0.9445723 & 0.7396266 & 0.1850364\\\\\n",
       "\\end{tabular}\n"
      ],
      "text/markdown": [
       "\n",
       "A psych: 1 × 13\n",
       "\n",
       "| <!--/--> | vars &lt;dbl&gt; | n &lt;dbl&gt; | mean &lt;dbl&gt; | sd &lt;dbl&gt; | median &lt;dbl&gt; | trimmed &lt;dbl&gt; | mad &lt;dbl&gt; | min &lt;dbl&gt; | max &lt;dbl&gt; | range &lt;dbl&gt; | skew &lt;dbl&gt; | kurtosis &lt;dbl&gt; | se &lt;dbl&gt; |\n",
       "|---|---|---|---|---|---|---|---|---|---|---|---|---|---|\n",
       "| X1 | 1 | 814 | 26.59362 | 5.279214 | 25.525 | 26.05305 | 4.751733 | 16.65 | 47.76 | 31.11 | 0.9445723 | 0.7396266 | 0.1850364 |\n",
       "\n"
      ],
      "text/plain": [
       "   vars n   mean     sd       median trimmed  mad      min   max   range\n",
       "X1 1    814 26.59362 5.279214 25.525 26.05305 4.751733 16.65 47.76 31.11\n",
       "   skew      kurtosis  se       \n",
       "X1 0.9445723 0.7396266 0.1850364"
      ]
     },
     "metadata": {},
     "output_type": "display_data"
    },
    {
     "data": {
      "text/plain": [
       "< table of extent 0 >"
      ]
     },
     "metadata": {},
     "output_type": "display_data"
    }
   ],
   "source": [
    "describe(FSGD$Age)\n",
    "describe(FSGD$BMI)\n",
    "table(FSGD$Sex)"
   ]
  },
  {
   "cell_type": "markdown",
   "metadata": {},
   "source": [
    "# Save FSGD"
   ]
  },
  {
   "cell_type": "code",
   "execution_count": 246,
   "metadata": {},
   "outputs": [],
   "source": [
    "write.table(FSGD, '/dagher/dagher11/filip/Obesity_maps/data/analysis_noethn.fsgd', sep='\\t', quote=F, row.names=F)"
   ]
  },
  {
   "cell_type": "markdown",
   "metadata": {},
   "source": [
    "# HCPA"
   ]
  },
  {
   "cell_type": "code",
   "execution_count": 1,
   "metadata": {},
   "outputs": [
    {
     "name": "stderr",
     "output_type": "stream",
     "text": [
      "\n",
      "Attaching package: ‘dplyr’\n",
      "\n",
      "\n",
      "The following objects are masked from ‘package:stats’:\n",
      "\n",
      "    filter, lag\n",
      "\n",
      "\n",
      "The following objects are masked from ‘package:base’:\n",
      "\n",
      "    intersect, setdiff, setequal, union\n",
      "\n",
      "\n"
     ]
    }
   ],
   "source": [
    "library(purrr)\n",
    "library(dplyr)"
   ]
  },
  {
   "cell_type": "code",
   "execution_count": 18,
   "metadata": {},
   "outputs": [],
   "source": [
    "data_list=list()\n",
    "\n",
    "files=c('asr01.txt','edinburgh_hand01.txt','fmriresults01.txt','ssaga_cover_demo01.txt','vitals01.txt',\n",
    "        'ndar_subject01.txt')\n",
    "\n",
    "for (i in 1:length(files)){\n",
    "    data = readLines(paste(\"/dagher/dagher12/filip/HCP_A/Package_1211418/\",files[i],sep=''))\n",
    "    skip_second = data[-2]\n",
    "    data = read.csv(textConnection(skip_second), header = TRUE, stringsAsFactors = FALSE, sep='\\t')\n",
    "    drops <- c(\"dataset_id\", \"interview_date\",'collection_id', 'dataset_id','dayscons',\n",
    "               'collection_title','comqother','comments_misc','nih_pin','interview_language','wcst_ni',\n",
    "              'version_form','visit','dode','respondent','nih_tlbx_fctsc','asr01_id')\n",
    "    data = data[ , !(names(data) %in% drops)]    \n",
    "    data_list[[i]]=data\n",
    "}"
   ]
  },
  {
   "cell_type": "code",
   "execution_count": 19,
   "metadata": {},
   "outputs": [],
   "source": [
    "dataset = data_list %>% reduce(full_join, by=c('subjectkey','sex','interview_age','src_subject_id'))"
   ]
  },
  {
   "cell_type": "markdown",
   "metadata": {},
   "source": [
    "### Exclude HCA9481794 who failed FS QC"
   ]
  },
  {
   "cell_type": "code",
   "execution_count": 4,
   "metadata": {},
   "outputs": [],
   "source": [
    "dataset<-dataset[!(dataset$src_subject_id==\"HCA9481794\"),]"
   ]
  },
  {
   "cell_type": "markdown",
   "metadata": {},
   "source": [
    "## Calculate and extract data pertinent to further analysis"
   ]
  },
  {
   "cell_type": "code",
   "execution_count": 21,
   "metadata": {},
   "outputs": [],
   "source": [
    "dataset$BMI=((dataset$weight_std/(dataset$vtl007^2)))*703\n",
    "dataset$age_yrs=dataset$interview_age/12\n",
    "dataset$subject_MRI=paste(dataset$src_subject_id,'V1','MR',sep='_')"
   ]
  },
  {
   "cell_type": "code",
   "execution_count": 22,
   "metadata": {},
   "outputs": [],
   "source": [
    "dataset=dataset[dataset$age_yrs<50,]"
   ]
  },
  {
   "cell_type": "code",
   "execution_count": 23,
   "metadata": {},
   "outputs": [
    {
     "data": {
      "image/png": "[encoded data removed]",
      "text/plain": [
       "Plot with title “Histogram of dataset$BMI”"
      ]
     },
     "metadata": {
      "image/png": {
       "height": 420,
       "width": 420
      }
     },
     "output_type": "display_data"
    }
   ],
   "source": [
    "hist(dataset$BMI)"
   ]
  },
  {
   "cell_type": "code",
   "execution_count": 19,
   "metadata": {},
   "outputs": [
    {
     "data": {
      "image/png": "[encoded data removed]",
      "text/plain": [
       "Plot with title “Histogram of dataset$age_yrs”"
      ]
     },
     "metadata": {
      "image/png": {
       "height": 420,
       "width": 420
      }
     },
     "output_type": "display_data"
    }
   ],
   "source": [
    "hist(dataset$age_yrs)"
   ]
  },
  {
   "cell_type": "code",
   "execution_count": 24,
   "metadata": {
    "scrolled": true
   },
   "outputs": [
    {
     "data": {
      "text/plain": [
       "\n",
       "  F   M \n",
       "131  99 "
      ]
     },
     "metadata": {},
     "output_type": "display_data"
    },
    {
     "data": {
      "text/html": [
       "<style>\n",
       ".list-inline {list-style: none; margin:0; padding: 0}\n",
       ".list-inline>li {display: inline-block}\n",
       ".list-inline>li:not(:last-child)::after {content: \"\\00b7\"; padding: 0 .5ex}\n",
       "</style>\n",
       "<ol class=list-inline><li>7</li><li>7</li><li>6</li><li>&lt;NA&gt;</li><li>6</li><li>9</li><li>6</li><li>4</li><li>7</li><li>7</li><li>7</li><li>6</li><li>9</li><li>9</li><li>10</li><li>&lt;NA&gt;</li><li>9</li><li>10</li><li>7</li><li>9</li><li>7</li><li>9</li><li>&lt;NA&gt;</li><li>7</li><li>7</li><li>5</li><li>5</li><li>8</li><li>9</li><li>7</li><li>7</li><li>10</li><li>9</li><li>9</li><li>9</li><li>7</li><li>4</li><li>9</li><li>9</li><li>9</li><li>7</li><li>9</li><li>9</li><li>9</li><li>5</li><li>5</li><li>5</li><li>9</li><li>9</li><li>7</li><li>5</li><li>7</li><li>9</li><li>9</li><li>5</li><li>9</li><li>4</li><li>7</li><li>9</li><li>7</li><li>9</li><li>9</li><li>5</li><li>9</li><li>1</li><li>9</li><li>9</li><li>7</li><li>7</li><li>9</li><li>7</li><li>9</li><li>7</li><li>7</li><li>7</li><li>6</li><li>9</li><li>5</li><li>7</li><li>9</li><li>7</li><li>9</li><li>7</li><li>9</li><li>7</li><li>10</li><li>7</li><li>5</li><li>9</li><li>9</li><li>7</li><li>10</li><li>7</li><li>4</li><li>7</li><li>4</li><li>7</li><li>5</li><li>8</li><li>9</li><li>5</li><li>7</li><li>7</li><li>4</li><li>9</li><li>9</li><li>7</li><li>9</li><li>4</li><li>9</li><li>2</li><li>7</li><li>9</li><li>4</li><li>9</li><li>7</li><li>9</li><li>9</li><li>7</li><li>10</li><li>7</li><li>10</li><li>9</li><li>9</li><li>7</li><li>6</li><li>5</li><li>10</li><li>9</li><li>7</li><li>9</li><li>7</li><li>7</li><li>7</li><li>5</li><li>9</li><li>7</li><li>9</li><li>7</li><li>4</li><li>7</li><li>5</li><li>9</li><li>6</li><li>10</li><li>9</li><li>7</li><li>9</li><li>9</li><li>7</li><li>9</li><li>3</li><li>9</li><li>&lt;NA&gt;</li><li>7</li><li>4</li><li>4</li><li>9</li><li>1</li><li>9</li><li>5</li><li>5</li><li>9</li><li>7</li><li>7</li><li>9</li><li>7</li><li>5</li><li>5</li><li>9</li><li>4</li><li>7</li><li>6</li><li>9</li><li>5</li><li>9</li><li>7</li><li>5</li><li>7</li><li>7</li><li>5</li><li>7</li><li>9</li><li>9</li><li>7</li><li>2</li><li>9</li><li>7</li><li>9</li><li>6</li><li>9</li><li>7</li><li>9</li><li>9</li><li>9</li><li>7</li><li>5</li><li>9</li><li>9</li><li>7</li><li>9</li><li>5</li><li>6</li><li>7</li><li>5</li><li>5</li><li>5</li><li>7</li><li>9</li><li>10</li><li>9</li><li>7</li><li>7</li><li>5</li><li>7</li><li>9</li><li>5</li><li>5</li><li>10</li><li>7</li><li>5</li><li>7</li><li>4</li><li>9</li><li>5</li><li>4</li><li>9</li><li>4</li><li>9</li><li>7</li></ol>\n"
      ],
      "text/latex": [
       "\\begin{enumerate*}\n",
       "\\item 7\n",
       "\\item 7\n",
       "\\item 6\n",
       "\\item <NA>\n",
       "\\item 6\n",
       "\\item 9\n",
       "\\item 6\n",
       "\\item 4\n",
       "\\item 7\n",
       "\\item 7\n",
       "\\item 7\n",
       "\\item 6\n",
       "\\item 9\n",
       "\\item 9\n",
       "\\item 10\n",
       "\\item <NA>\n",
       "\\item 9\n",
       "\\item 10\n",
       "\\item 7\n",
       "\\item 9\n",
       "\\item 7\n",
       "\\item 9\n",
       "\\item <NA>\n",
       "\\item 7\n",
       "\\item 7\n",
       "\\item 5\n",
       "\\item 5\n",
       "\\item 8\n",
       "\\item 9\n",
       "\\item 7\n",
       "\\item 7\n",
       "\\item 10\n",
       "\\item 9\n",
       "\\item 9\n",
       "\\item 9\n",
       "\\item 7\n",
       "\\item 4\n",
       "\\item 9\n",
       "\\item 9\n",
       "\\item 9\n",
       "\\item 7\n",
       "\\item 9\n",
       "\\item 9\n",
       "\\item 9\n",
       "\\item 5\n",
       "\\item 5\n",
       "\\item 5\n",
       "\\item 9\n",
       "\\item 9\n",
       "\\item 7\n",
       "\\item 5\n",
       "\\item 7\n",
       "\\item 9\n",
       "\\item 9\n",
       "\\item 5\n",
       "\\item 9\n",
       "\\item 4\n",
       "\\item 7\n",
       "\\item 9\n",
       "\\item 7\n",
       "\\item 9\n",
       "\\item 9\n",
       "\\item 5\n",
       "\\item 9\n",
       "\\item 1\n",
       "\\item 9\n",
       "\\item 9\n",
       "\\item 7\n",
       "\\item 7\n",
       "\\item 9\n",
       "\\item 7\n",
       "\\item 9\n",
       "\\item 7\n",
       "\\item 7\n",
       "\\item 7\n",
       "\\item 6\n",
       "\\item 9\n",
       "\\item 5\n",
       "\\item 7\n",
       "\\item 9\n",
       "\\item 7\n",
       "\\item 9\n",
       "\\item 7\n",
       "\\item 9\n",
       "\\item 7\n",
       "\\item 10\n",
       "\\item 7\n",
       "\\item 5\n",
       "\\item 9\n",
       "\\item 9\n",
       "\\item 7\n",
       "\\item 10\n",
       "\\item 7\n",
       "\\item 4\n",
       "\\item 7\n",
       "\\item 4\n",
       "\\item 7\n",
       "\\item 5\n",
       "\\item 8\n",
       "\\item 9\n",
       "\\item 5\n",
       "\\item 7\n",
       "\\item 7\n",
       "\\item 4\n",
       "\\item 9\n",
       "\\item 9\n",
       "\\item 7\n",
       "\\item 9\n",
       "\\item 4\n",
       "\\item 9\n",
       "\\item 2\n",
       "\\item 7\n",
       "\\item 9\n",
       "\\item 4\n",
       "\\item 9\n",
       "\\item 7\n",
       "\\item 9\n",
       "\\item 9\n",
       "\\item 7\n",
       "\\item 10\n",
       "\\item 7\n",
       "\\item 10\n",
       "\\item 9\n",
       "\\item 9\n",
       "\\item 7\n",
       "\\item 6\n",
       "\\item 5\n",
       "\\item 10\n",
       "\\item 9\n",
       "\\item 7\n",
       "\\item 9\n",
       "\\item 7\n",
       "\\item 7\n",
       "\\item 7\n",
       "\\item 5\n",
       "\\item 9\n",
       "\\item 7\n",
       "\\item 9\n",
       "\\item 7\n",
       "\\item 4\n",
       "\\item 7\n",
       "\\item 5\n",
       "\\item 9\n",
       "\\item 6\n",
       "\\item 10\n",
       "\\item 9\n",
       "\\item 7\n",
       "\\item 9\n",
       "\\item 9\n",
       "\\item 7\n",
       "\\item 9\n",
       "\\item 3\n",
       "\\item 9\n",
       "\\item <NA>\n",
       "\\item 7\n",
       "\\item 4\n",
       "\\item 4\n",
       "\\item 9\n",
       "\\item 1\n",
       "\\item 9\n",
       "\\item 5\n",
       "\\item 5\n",
       "\\item 9\n",
       "\\item 7\n",
       "\\item 7\n",
       "\\item 9\n",
       "\\item 7\n",
       "\\item 5\n",
       "\\item 5\n",
       "\\item 9\n",
       "\\item 4\n",
       "\\item 7\n",
       "\\item 6\n",
       "\\item 9\n",
       "\\item 5\n",
       "\\item 9\n",
       "\\item 7\n",
       "\\item 5\n",
       "\\item 7\n",
       "\\item 7\n",
       "\\item 5\n",
       "\\item 7\n",
       "\\item 9\n",
       "\\item 9\n",
       "\\item 7\n",
       "\\item 2\n",
       "\\item 9\n",
       "\\item 7\n",
       "\\item 9\n",
       "\\item 6\n",
       "\\item 9\n",
       "\\item 7\n",
       "\\item 9\n",
       "\\item 9\n",
       "\\item 9\n",
       "\\item 7\n",
       "\\item 5\n",
       "\\item 9\n",
       "\\item 9\n",
       "\\item 7\n",
       "\\item 9\n",
       "\\item 5\n",
       "\\item 6\n",
       "\\item 7\n",
       "\\item 5\n",
       "\\item 5\n",
       "\\item 5\n",
       "\\item 7\n",
       "\\item 9\n",
       "\\item 10\n",
       "\\item 9\n",
       "\\item 7\n",
       "\\item 7\n",
       "\\item 5\n",
       "\\item 7\n",
       "\\item 9\n",
       "\\item 5\n",
       "\\item 5\n",
       "\\item 10\n",
       "\\item 7\n",
       "\\item 5\n",
       "\\item 7\n",
       "\\item 4\n",
       "\\item 9\n",
       "\\item 5\n",
       "\\item 4\n",
       "\\item 9\n",
       "\\item 4\n",
       "\\item 9\n",
       "\\item 7\n",
       "\\end{enumerate*}\n"
      ],
      "text/markdown": [
       "1. 7\n",
       "2. 7\n",
       "3. 6\n",
       "4. &lt;NA&gt;\n",
       "5. 6\n",
       "6. 9\n",
       "7. 6\n",
       "8. 4\n",
       "9. 7\n",
       "10. 7\n",
       "11. 7\n",
       "12. 6\n",
       "13. 9\n",
       "14. 9\n",
       "15. 10\n",
       "16. &lt;NA&gt;\n",
       "17. 9\n",
       "18. 10\n",
       "19. 7\n",
       "20. 9\n",
       "21. 7\n",
       "22. 9\n",
       "23. &lt;NA&gt;\n",
       "24. 7\n",
       "25. 7\n",
       "26. 5\n",
       "27. 5\n",
       "28. 8\n",
       "29. 9\n",
       "30. 7\n",
       "31. 7\n",
       "32. 10\n",
       "33. 9\n",
       "34. 9\n",
       "35. 9\n",
       "36. 7\n",
       "37. 4\n",
       "38. 9\n",
       "39. 9\n",
       "40. 9\n",
       "41. 7\n",
       "42. 9\n",
       "43. 9\n",
       "44. 9\n",
       "45. 5\n",
       "46. 5\n",
       "47. 5\n",
       "48. 9\n",
       "49. 9\n",
       "50. 7\n",
       "51. 5\n",
       "52. 7\n",
       "53. 9\n",
       "54. 9\n",
       "55. 5\n",
       "56. 9\n",
       "57. 4\n",
       "58. 7\n",
       "59. 9\n",
       "60. 7\n",
       "61. 9\n",
       "62. 9\n",
       "63. 5\n",
       "64. 9\n",
       "65. 1\n",
       "66. 9\n",
       "67. 9\n",
       "68. 7\n",
       "69. 7\n",
       "70. 9\n",
       "71. 7\n",
       "72. 9\n",
       "73. 7\n",
       "74. 7\n",
       "75. 7\n",
       "76. 6\n",
       "77. 9\n",
       "78. 5\n",
       "79. 7\n",
       "80. 9\n",
       "81. 7\n",
       "82. 9\n",
       "83. 7\n",
       "84. 9\n",
       "85. 7\n",
       "86. 10\n",
       "87. 7\n",
       "88. 5\n",
       "89. 9\n",
       "90. 9\n",
       "91. 7\n",
       "92. 10\n",
       "93. 7\n",
       "94. 4\n",
       "95. 7\n",
       "96. 4\n",
       "97. 7\n",
       "98. 5\n",
       "99. 8\n",
       "100. 9\n",
       "101. 5\n",
       "102. 7\n",
       "103. 7\n",
       "104. 4\n",
       "105. 9\n",
       "106. 9\n",
       "107. 7\n",
       "108. 9\n",
       "109. 4\n",
       "110. 9\n",
       "111. 2\n",
       "112. 7\n",
       "113. 9\n",
       "114. 4\n",
       "115. 9\n",
       "116. 7\n",
       "117. 9\n",
       "118. 9\n",
       "119. 7\n",
       "120. 10\n",
       "121. 7\n",
       "122. 10\n",
       "123. 9\n",
       "124. 9\n",
       "125. 7\n",
       "126. 6\n",
       "127. 5\n",
       "128. 10\n",
       "129. 9\n",
       "130. 7\n",
       "131. 9\n",
       "132. 7\n",
       "133. 7\n",
       "134. 7\n",
       "135. 5\n",
       "136. 9\n",
       "137. 7\n",
       "138. 9\n",
       "139. 7\n",
       "140. 4\n",
       "141. 7\n",
       "142. 5\n",
       "143. 9\n",
       "144. 6\n",
       "145. 10\n",
       "146. 9\n",
       "147. 7\n",
       "148. 9\n",
       "149. 9\n",
       "150. 7\n",
       "151. 9\n",
       "152. 3\n",
       "153. 9\n",
       "154. &lt;NA&gt;\n",
       "155. 7\n",
       "156. 4\n",
       "157. 4\n",
       "158. 9\n",
       "159. 1\n",
       "160. 9\n",
       "161. 5\n",
       "162. 5\n",
       "163. 9\n",
       "164. 7\n",
       "165. 7\n",
       "166. 9\n",
       "167. 7\n",
       "168. 5\n",
       "169. 5\n",
       "170. 9\n",
       "171. 4\n",
       "172. 7\n",
       "173. 6\n",
       "174. 9\n",
       "175. 5\n",
       "176. 9\n",
       "177. 7\n",
       "178. 5\n",
       "179. 7\n",
       "180. 7\n",
       "181. 5\n",
       "182. 7\n",
       "183. 9\n",
       "184. 9\n",
       "185. 7\n",
       "186. 2\n",
       "187. 9\n",
       "188. 7\n",
       "189. 9\n",
       "190. 6\n",
       "191. 9\n",
       "192. 7\n",
       "193. 9\n",
       "194. 9\n",
       "195. 9\n",
       "196. 7\n",
       "197. 5\n",
       "198. 9\n",
       "199. 9\n",
       "200. 7\n",
       "201. 9\n",
       "202. 5\n",
       "203. 6\n",
       "204. 7\n",
       "205. 5\n",
       "206. 5\n",
       "207. 5\n",
       "208. 7\n",
       "209. 9\n",
       "210. 10\n",
       "211. 9\n",
       "212. 7\n",
       "213. 7\n",
       "214. 5\n",
       "215. 7\n",
       "216. 9\n",
       "217. 5\n",
       "218. 5\n",
       "219. 10\n",
       "220. 7\n",
       "221. 5\n",
       "222. 7\n",
       "223. 4\n",
       "224. 9\n",
       "225. 5\n",
       "226. 4\n",
       "227. 9\n",
       "228. 4\n",
       "229. 9\n",
       "230. 7\n",
       "\n",
       "\n"
      ],
      "text/plain": [
       "  [1]  7  7  6 NA  6  9  6  4  7  7  7  6  9  9 10 NA  9 10  7  9  7  9 NA  7  7\n",
       " [26]  5  5  8  9  7  7 10  9  9  9  7  4  9  9  9  7  9  9  9  5  5  5  9  9  7\n",
       " [51]  5  7  9  9  5  9  4  7  9  7  9  9  5  9  1  9  9  7  7  9  7  9  7  7  7\n",
       " [76]  6  9  5  7  9  7  9  7  9  7 10  7  5  9  9  7 10  7  4  7  4  7  5  8  9\n",
       "[101]  5  7  7  4  9  9  7  9  4  9  2  7  9  4  9  7  9  9  7 10  7 10  9  9  7\n",
       "[126]  6  5 10  9  7  9  7  7  7  5  9  7  9  7  4  7  5  9  6 10  9  7  9  9  7\n",
       "[151]  9  3  9 NA  7  4  4  9  1  9  5  5  9  7  7  9  7  5  5  9  4  7  6  9  5\n",
       "[176]  9  7  5  7  7  5  7  9  9  7  2  9  7  9  6  9  7  9  9  9  7  5  9  9  7\n",
       "[201]  9  5  6  7  5  5  5  7  9 10  9  7  7  5  7  9  5  5 10  7  5  7  4  9  5\n",
       "[226]  4  9  4  9  7"
      ]
     },
     "metadata": {},
     "output_type": "display_data"
    }
   ],
   "source": [
    "table(dataset$sex)\n",
    "as.numeric(as.factor(dataset$bkgrnd_education))"
   ]
  },
  {
   "cell_type": "code",
   "execution_count": 25,
   "metadata": {},
   "outputs": [
    {
     "data": {
      "text/html": [
       "0"
      ],
      "text/latex": [
       "0"
      ],
      "text/markdown": [
       "0"
      ],
      "text/plain": [
       "[1] 0"
      ]
     },
     "metadata": {},
     "output_type": "display_data"
    }
   ],
   "source": [
    "min(as.numeric(dataset$annual_fam_inc),na.rm=T)"
   ]
  },
  {
   "cell_type": "code",
   "execution_count": 28,
   "metadata": {},
   "outputs": [],
   "source": [
    "FSGD=data.frame('Variables'='Input', 'Subject'=dataset$subject_MRI, 'Class'='main', 'BMI'=dataset$BMI, \n",
    "                'Sex'=as.numeric(as.factor(dataset$sex)), 'Age'=dataset$age_yrs,\n",
    "                'Income'=as.numeric((dataset$annual_fam_inc)), \n",
    "                'Edu'=as.numeric(as.factor(dataset$bkgrnd_education)), 'Site'=dataset$site)\n",
    "\n",
    "\n"
   ]
  },
  {
   "cell_type": "code",
   "execution_count": 29,
   "metadata": {},
   "outputs": [],
   "source": [
    "write.table(FSGD, '/dagher/dagher11/filip/Obesity_maps/data_old/analysis_HCPA.fsgd', sep='\\t', \n",
    "            quote=F, row.names=F)"
   ]
  },
  {
   "cell_type": "code",
   "execution_count": 30,
   "metadata": {},
   "outputs": [
    {
     "data": {
      "text/html": [
       "<style>\n",
       ".list-inline {list-style: none; margin:0; padding: 0}\n",
       ".list-inline>li {display: inline-block}\n",
       ".list-inline>li:not(:last-child)::after {content: \"\\00b7\"; padding: 0 .5ex}\n",
       "</style>\n",
       "<ol class=list-inline><li>'UCLA'</li><li>'MGH'</li><li>'WashU'</li><li>'UMinn'</li></ol>\n"
      ],
      "text/latex": [
       "\\begin{enumerate*}\n",
       "\\item 'UCLA'\n",
       "\\item 'MGH'\n",
       "\\item 'WashU'\n",
       "\\item 'UMinn'\n",
       "\\end{enumerate*}\n"
      ],
      "text/markdown": [
       "1. 'UCLA'\n",
       "2. 'MGH'\n",
       "3. 'WashU'\n",
       "4. 'UMinn'\n",
       "\n",
       "\n"
      ],
      "text/plain": [
       "[1] \"UCLA\"  \"MGH\"   \"WashU\" \"UMinn\""
      ]
     },
     "metadata": {},
     "output_type": "display_data"
    }
   ],
   "source": [
    "unique(FSGD$Site)"
   ]
  },
  {
   "cell_type": "code",
   "execution_count": 31,
   "metadata": {},
   "outputs": [
    {
     "data": {
      "text/plain": [
       "\n",
       "  F   M \n",
       "131  99 "
      ]
     },
     "metadata": {},
     "output_type": "display_data"
    }
   ],
   "source": [
    "table(dataset$sex)"
   ]
  },
  {
   "cell_type": "code",
   "execution_count": null,
   "metadata": {},
   "outputs": [],
   "source": []
  }
 ],
 "metadata": {
  "kernelspec": {
   "display_name": "R4",
   "language": "R",
   "name": "r4"
  },
  "language_info": {
   "codemirror_mode": "r",
   "file_extension": ".r",
   "mimetype": "text/x-r-source",
   "name": "R",
   "pygments_lexer": "r",
   "version": "4.2.2"
  }
 },
 "nbformat": 4,
 "nbformat_minor": 2
}
