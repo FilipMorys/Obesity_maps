{
 "cells": [
  {
   "cell_type": "code",
   "execution_count": 1,
   "metadata": {},
   "outputs": [],
   "source": [
    "import nibabel as nib\n",
    "import numpy as np\n",
    "from nibabel import processing \n",
    "import matplotlib.pyplot as plt"
   ]
  },
  {
   "cell_type": "markdown",
   "metadata": {},
   "source": [
    "# Cammoun parcelation"
   ]
  },
  {
   "cell_type": "markdown",
   "metadata": {},
   "source": [
    "## Parcellate BMI map"
   ]
  },
  {
   "cell_type": "code",
   "execution_count": 2,
   "metadata": {},
   "outputs": [
    {
     "name": "stderr",
     "output_type": "stream",
     "text": [
      "/dagher/dagher12/filip/software/miniconda3py/envs/py3/lib/python3.10/site-packages/nilearn/input_data/__init__.py:27: FutureWarning: The import path 'nilearn.input_data' is deprecated in version 0.9. Importing from 'nilearn.input_data' will be possible at least until release 0.13.0. Please import from 'nilearn.maskers' instead.\n",
      "  warnings.warn(message, FutureWarning)\n"
     ]
    }
   ],
   "source": [
    "from netneurotools import datasets as nntdatasets\n",
    "from neuromaps import datasets as nmdatasets\n",
    "from neuromaps.parcellate import Parcellater\n",
    "import pandas as pd\n",
    "import neuromaps\n",
    "\n",
    "cammoun = nntdatasets.fetch_cammoun2012(version=\"MNI152NLin2009aSym\")\n",
    "info = pd.read_csv(cammoun['info'])\n",
    "labels = info.query('scale==\"scale125\"')['label']  # or might be \"labels\"\n",
    "\n",
    "BMI = neuromaps.images.load_nifti('/dagher/dagher9/filip/DBM/HCP_DBM_Slvl/beta_0003.nii')\n",
    "parc = Parcellater(cammoun['scale125'], 'mni152')  # assuming mymap is in mni152 space\n",
    "BMI_parc = parc.fit_transform(BMI, 'mni152')\n",
    "#BMI_parc=np.delete(BMI_parc, -1)\n",
    "\n",
    "np.savetxt('/dagher/dagher9/filip/BMI_vals_125.txt',BMI_parc, delimiter='\\t',fmt='%f')"
   ]
  },
  {
   "cell_type": "markdown",
   "metadata": {},
   "source": [
    "## Transform to surface space for further plotting in MATLAB"
   ]
  },
  {
   "cell_type": "code",
   "execution_count": 6,
   "metadata": {},
   "outputs": [],
   "source": [
    "from neuromaps.datasets import fetch_annotation\n",
    "from neuromaps import transforms\n",
    "\n",
    "fsavg = transforms.mni152_to_fsaverage(BMI, '164k')\n",
    "fsavg_lh, fsavg_rh = fsavg\n",
    "\n",
    "np.savetxt(('/dagher/dagher11/filip/Obesity_maps/data/BMI_DBM_LH.csv'), fsavg_lh.agg_data())\n",
    "np.savetxt(('/dagher/dagher11/filip/Obesity_maps/data/BMI_DBM_RH.csv'), fsavg_rh.agg_data())"
   ]
  },
  {
   "cell_type": "code",
   "execution_count": 11,
   "metadata": {},
   "outputs": [],
   "source": [
    "BMIDBM_10k = transforms.mni152_to_fsaverage(BMI, '10k')"
   ]
  },
  {
   "cell_type": "markdown",
   "metadata": {},
   "source": [
    "# Correlations"
   ]
  },
  {
   "cell_type": "markdown",
   "metadata": {},
   "source": [
    "## Run correlations with neuromaps"
   ]
  },
  {
   "cell_type": "code",
   "execution_count": 8,
   "metadata": {},
   "outputs": [],
   "source": [
    "import nibabel as nib\n",
    "from neuromaps.datasets import available_annotations\n",
    "from neuromaps import datasets\n",
    "from neuromaps.resampling import resample_images\n",
    "from neuromaps import parcellate\n",
    "from neuromaps import datasets, images, nulls, resampling, plotting\n",
    "from neuromaps.datasets import fetch_annotation\n",
    "from neuromaps import transforms\n",
    "from neuromaps.stats import compare_images"
   ]
  },
  {
   "cell_type": "code",
   "execution_count": 14,
   "metadata": {
    "scrolled": true
   },
   "outputs": [
    {
     "name": "stdout",
     "output_type": "stream",
     "text": [
      "('abagen', 'genepc1', 'fsaverage', '10k')\n",
      "(-0.168299600481987, 0.3726273726273726)\n",
      "('hcps1200', 'megalpha', 'fsLR', '4k')\n",
      "(-0.288351446390152, 0.2627372627372627)\n",
      "('hcps1200', 'megbeta', 'fsLR', '4k')\n",
      "(0.22695554792881012, 0.35064935064935066)\n",
      "('hcps1200', 'megdelta', 'fsLR', '4k')\n",
      "(0.10867272317409515, 0.7072927072927073)\n",
      "('hcps1200', 'meggamma1', 'fsLR', '4k')\n",
      "(0.26927852630615234, 0.1968031968031968)\n",
      "('hcps1200', 'meggamma2', 'fsLR', '4k')\n",
      "(0.027480393648147583, 0.916083916083916)\n",
      "('hcps1200', 'megtheta', 'fsLR', '4k')\n",
      "(0.37139663100242615, 0.014985014985014986)\n",
      "('hcps1200', 'megtimescale', 'fsLR', '4k')\n",
      "(0.09316320717334747, 0.7292707292707292)\n",
      "('hcps1200', 'myelinmap', 'fsLR', '32k')\n",
      "(-0.06291040033102036, 0.5944055944055944)\n",
      "('hcps1200', 'thickness', 'fsLR', '32k')\n",
      "(0.009287900291383266, 0.965034965034965)\n",
      "('hill2010', 'devexp', 'fsLR', '164k')\n",
      "('hill2010', 'evoexp', 'fsLR', '164k')\n",
      "('margulies2016', 'fcgradient01', 'fsLR', '32k')\n",
      "(0.2164190411567688, 0.07792207792207792)\n",
      "('margulies2016', 'fcgradient02', 'fsLR', '32k')\n",
      "(-0.20662876963615417, 0.22777222777222778)\n",
      "('margulies2016', 'fcgradient03', 'fsLR', '32k')\n",
      "(0.03709699213504791, 0.6493506493506493)\n",
      "('margulies2016', 'fcgradient04', 'fsLR', '32k')\n",
      "(-0.15591977536678314, 0.19480519480519481)\n",
      "('margulies2016', 'fcgradient05', 'fsLR', '32k')\n",
      "(0.0033665441442281008, 0.981018981018981)\n",
      "('margulies2016', 'fcgradient06', 'fsLR', '32k')\n",
      "(0.049088459461927414, 0.7512487512487512)\n",
      "('margulies2016', 'fcgradient07', 'fsLR', '32k')\n",
      "(0.020300205796957016, 0.8161838161838162)\n",
      "('margulies2016', 'fcgradient08', 'fsLR', '32k')\n",
      "(0.0183549914509058, 0.8511488511488512)\n",
      "('margulies2016', 'fcgradient09', 'fsLR', '32k')\n",
      "(-0.0090840058401227, 0.922077922077922)\n",
      "('margulies2016', 'fcgradient10', 'fsLR', '32k')\n",
      "(0.05911284312605858, 0.6073926073926074)\n",
      "('mueller2013', 'intersubjvar', 'fsLR', '164k')\n",
      "(0.19471634924411774, 0.0939060939060939)\n",
      "('raichle', 'cbf', 'fsLR', '164k')\n",
      "(0.18849444389343262, 0.053946053946053944)\n",
      "('raichle', 'cbv', 'fsLR', '164k')\n",
      "(-0.11052980273962021, 0.34765234765234765)\n",
      "('raichle', 'cmr02', 'fsLR', '164k')\n",
      "(0.09537943452596664, 0.44955044955044954)\n",
      "('raichle', 'cmruglu', 'fsLR', '164k')\n",
      "(0.2826434373855591, 0.005994005994005994)\n",
      "('reardon2018', 'scalinghcp', 'civet', '41k')\n",
      "(0.12290541082620621, 0.18581418581418582)\n",
      "('reardon2018', 'scalingnih', 'civet', '41k')\n",
      "(0.09346704185009003, 0.2077922077922078)\n",
      "('reardon2018', 'scalingpnc', 'civet', '41k')\n",
      "(0.09457043558359146, 0.2907092907092907)\n",
      "('sydnor2021', 'SAaxis', 'fsLR', '32k')\n",
      "(0.19331634044647217, 0.22377622377622378)\n",
      "('xu2020', 'FChomology', 'fsLR', '32k')\n",
      "(-0.20556959509849548, 0.04495504495504495)\n",
      "('xu2020', 'evoexp', 'fsLR', '32k')\n",
      "(0.06953491270542145, 0.42957042957042957)\n"
     ]
    }
   ],
   "source": [
    "for annotation in available_annotations():\n",
    "    if annotation[2]!='MNI152':\n",
    "        try:\n",
    "            print(annotation)\n",
    "            brain_map=datasets.fetch_annotation(source=annotation[0], desc=annotation[1])\n",
    "            BMI_res, brain_map_res = resample_images(src=BMIDBM_10k, trg=brain_map, src_space='fsaverage', \n",
    "                                                     trg_space=annotation[2], method='linear', \n",
    "                                                     resampling='transform_to_src')\n",
    "            rotated = nulls.alexander_bloch(BMI_res, atlas='fsaverage', density='10k', n_perm=1000, seed=1234)\n",
    "            corr = compare_images(BMI_res, brain_map_res, metric='pearsonr', nulls=rotated)\n",
    "            print(corr)\n",
    "        except:\n",
    "            pass"
   ]
  },
  {
   "cell_type": "markdown",
   "metadata": {},
   "source": [
    "# Same using brainsmash - different because we are including subcortical structures"
   ]
  },
  {
   "cell_type": "markdown",
   "metadata": {},
   "source": [
    "## Run brainsmash on BMI map - create surrogate maps"
   ]
  },
  {
   "cell_type": "code",
   "execution_count": 211,
   "metadata": {},
   "outputs": [],
   "source": [
    "import pandas as pd\n",
    "from brainsmash.mapgen.base import Base\n",
    "\n",
    "brain_map_file = \"/dagher/dagher9/filip/BMI_vals_125.txt\" \n",
    "dist_mat_file = \"/dagher/dagher11/filip/Downloads/Euc_dist125.txt\"\n",
    "base = Base(x=brain_map_file, D=dist_mat_file)\n",
    "\n",
    "surrogates = base(n=1000)\n",
    "spin1000=pd.DataFrame(data=surrogates)\n",
    "spin1000.to_csv(\"/dagher/dagher9/filip/BMI_1000spin_smash.csv\",sep=',',index=False)"
   ]
  },
  {
   "cell_type": "markdown",
   "metadata": {},
   "source": [
    "## Parcellate all other maps and calculate corrs based on surrogate maps"
   ]
  },
  {
   "cell_type": "code",
   "execution_count": 212,
   "metadata": {},
   "outputs": [
    {
     "name": "stdout",
     "output_type": "stream",
     "text": [
      "('aghourian2017', 'feobv', 'MNI152', '1mm')\n",
      "-0.03114170003300519\n",
      "0.8041958041958042\n",
      "('alarkurtti2015', 'raclopride', 'MNI152', '3mm')\n",
      "-0.03603109639730396\n",
      "0.7182817182817183\n",
      "('bedard2019', 'feobv', 'MNI152', '1mm')\n",
      "-0.09287589548568777\n",
      "0.47952047952047955\n",
      "('beliveau2017', 'az10419369', 'MNI152', '1mm')\n",
      "-0.051857481134645486\n",
      "0.6063936063936064\n",
      "('beliveau2017', 'cimbi36', 'MNI152', '1mm')\n",
      "-0.022605833480744054\n",
      "0.8411588411588412\n",
      "('beliveau2017', 'cumi101', 'MNI152', '1mm')\n",
      "-0.24565984719429343\n",
      "0.15684315684315683\n",
      "('beliveau2017', 'dasb', 'MNI152', '1mm')\n",
      "-0.3216692064322344\n",
      "0.03296703296703297\n",
      "('beliveau2017', 'sb207145', 'MNI152', '1mm')\n",
      "-0.14879312656467167\n",
      "0.27472527472527475\n",
      "('ding2010', 'mrb', 'MNI152', '1mm')\n",
      "0.1807770943789401\n",
      "0.2887112887112887\n",
      "('dubois2015', 'abp688', 'MNI152', '1mm')\n",
      "0.1598532746318848\n",
      "0.24575424575424576\n",
      "('dukart2018', 'flumazenil', 'MNI152', '3mm')\n",
      "-0.08912409254622046\n",
      "0.4035964035964036\n",
      "('dukart2018', 'fpcit', 'MNI152', '3mm')\n",
      "-0.16560989717605196\n",
      "0.34465534465534464\n",
      "('fazio2016', 'madam', 'MNI152', '3mm')\n",
      "-0.16215010313973047\n",
      "0.26673326673326675\n",
      "('gallezot2010', 'p943', 'MNI152', '1mm')\n",
      "0.1835579649385025\n",
      "0.18081918081918083\n",
      "('gallezot2017', 'gsk189254', 'MNI152', '1mm')\n",
      "0.16986402622583247\n",
      "0.3126873126873127\n",
      "('hesse2017', 'methylreboxetine', 'MNI152', '3mm')\n",
      "-0.07570019684902597\n",
      "0.5614385614385614\n",
      "('hillmer2016', 'flubatine', 'MNI152', '1mm')\n",
      "0.24663414774083783\n",
      "0.06893106893106893\n",
      "('jaworska2020', 'fallypride', 'MNI152', '1mm')\n",
      "-0.09477138456876381\n",
      "0.45254745254745254\n",
      "('kaller2017', 'sch23390', 'MNI152', '3mm')\n",
      "-0.08080118860725644\n",
      "0.6313686313686314\n",
      "('kantonen2020', 'carfentanil', 'MNI152', '3mm')\n",
      "0.2307542746404052\n",
      "0.34265734265734266\n",
      "('laurikainen2018', 'fmpepd2', 'MNI152', '1mm')\n",
      "0.45789684770551775\n",
      "0.000999000999000999\n",
      "('naganawa2020', 'lsn3172176', 'MNI152', '1mm')\n",
      "0.07368119838937087\n",
      "0.4955044955044955\n",
      "('neurosynth', 'cogpc1', 'MNI152', '2mm')\n",
      "0.08971296060682585\n",
      "0.6543456543456544\n",
      "('norgaard2020', 'flumazenil', 'MNI152', '1mm')\n",
      "-0.1398959518142695\n",
      "0.32167832167832167\n",
      "('normandin2015', 'omar', 'MNI152', '1mm')\n",
      "0.14704493759583406\n",
      "0.46053946053946054\n",
      "('radnakrishnan2018', 'gsk215083', 'MNI152', '1mm')\n",
      "0.11241333894939673\n",
      "0.3036963036963037\n",
      "('rosaneto', 'abp688', 'MNI152', '1mm')\n",
      "0.17692683165535067\n",
      "0.17282717282717283\n",
      "('sandiego2015', 'flb457', 'MNI152', '1mm')\n",
      "-0.14192720979938891\n",
      "0.35064935064935066\n",
      "('sasaki2012', 'fepe2i', 'MNI152', '1mm')\n",
      "-0.049458340361067304\n",
      "0.6593406593406593\n",
      "('satterthwaite2014', 'meancbf', 'MNI152', '1mm')\n",
      "0.2053356400201537\n",
      "0.08491508491508491\n",
      "('savli2012', 'altanserin', 'MNI152', '3mm')\n",
      "0.06102208766958948\n",
      "0.5454545454545454\n",
      "('savli2012', 'dasb', 'MNI152', '3mm')\n",
      "-0.25067303077279735\n",
      "0.12187812187812187\n",
      "('savli2012', 'p943', 'MNI152', '3mm')\n",
      "0.30938623892657935\n",
      "0.017982017982017984\n",
      "('savli2012', 'way100635', 'MNI152', '3mm')\n",
      "-0.0877376059007232\n",
      "0.6113886113886113\n",
      "('smart2019', 'abp688', 'MNI152', '1mm')\n",
      "0.18616930150902533\n",
      "0.0919080919080919\n",
      "('smith2017', 'flb457', 'MNI152', '1mm')\n",
      "-0.09386822582669085\n",
      "0.5604395604395604\n",
      "('tuominen', 'feobv', 'MNI152', '2mm')\n",
      "-0.07107120278628483\n",
      "0.5484515484515484\n",
      "('turtonen2020', 'carfentanil', 'MNI152', '1mm')\n",
      "0.31966850460249707\n",
      "0.2017982017982018\n"
     ]
    }
   ],
   "source": [
    "from neuromaps.datasets import available_annotations\n",
    "from neuromaps import datasets, images, nulls, resampling, plotting\n",
    "from neuromaps.datasets import fetch_annotation\n",
    "\n",
    "for annotation in available_annotations():\n",
    "    if annotation[2]=='MNI152':\n",
    "        print(annotation)\n",
    "        brain_map=datasets.fetch_annotation(source=annotation[0], desc=annotation[1])\n",
    "        brain_map_parc=parc.fit_transform(brain_map, annotation[2])\n",
    "        main_corr=np.corrcoef(BMI_parc, brain_map_parc)[1,0]\n",
    "        print(main_corr)\n",
    "        corrs=list()\n",
    "        for spin in range(1000):\n",
    "            corrs.append(np.corrcoef(surrogates[spin], brain_map_parc)[1,0])\n",
    "        print(sum(i > abs(main_corr) for i in np.absolute(corrs))/1001)\n",
    "        "
   ]
  },
  {
   "cell_type": "code",
   "execution_count": 224,
   "metadata": {},
   "outputs": [
    {
     "name": "stderr",
     "output_type": "stream",
     "text": [
      "/dagher/dagher11/filip/Software/miniconda/envs/brainsmash/lib/python3.7/site-packages/seaborn/distributions.py:2619: FutureWarning: `distplot` is a deprecated function and will be removed in a future version. Please adapt your code to use either `displot` (a figure-level function with similar flexibility) or `histplot` (an axes-level function for histograms).\n",
      "  warnings.warn(msg, FutureWarning)\n"
     ]
    },
    {
     "data": {
      "text/plain": [
       "<AxesSubplot:ylabel='Density'>"
      ]
     },
     "execution_count": 224,
     "metadata": {},
     "output_type": "execute_result"
    },
    {
     "data": {
      "image/png": "[encoded data removed]",
      "text/plain": [
       "<Figure size 432x288 with 1 Axes>"
      ]
     },
     "metadata": {
      "needs_background": "light"
     },
     "output_type": "display_data"
    }
   ],
   "source": [
    "# Import the libraries\n",
    "import matplotlib.pyplot as plt\n",
    "import seaborn as sns\n",
    "\n",
    "# matplotlib histogram\n",
    "#plt.hist(corrs, color = 'blue', edgecolor = 'black',\n",
    "#         bins = int(180/5))\n",
    "\n",
    "sns.distplot(corrs, hist = True, kde = True,\n",
    "                 kde_kws = {'shade': False, 'linewidth': 3})"
   ]
  },
  {
   "cell_type": "markdown",
   "metadata": {},
   "source": [
    "#################################################################################################################"
   ]
  },
  {
   "cell_type": "markdown",
   "metadata": {},
   "source": [
    "# Voxelwise - did not work"
   ]
  },
  {
   "cell_type": "code",
   "execution_count": 28,
   "metadata": {},
   "outputs": [],
   "source": [
    "def show_slices(slices):\n",
    "\n",
    "   \"\"\" Function to display row of image slices \"\"\"\n",
    "\n",
    "   fig, axes = plt.subplots(1, len(slices))\n",
    "\n",
    "   for i, slice in enumerate(slices):\n",
    "\n",
    "       axes[i].imshow(slice.T, cmap=\"gray\", origin=\"lower\")"
   ]
  },
  {
   "cell_type": "markdown",
   "metadata": {},
   "source": [
    "## Load and mask correlation image"
   ]
  },
  {
   "cell_type": "code",
   "execution_count": 100,
   "metadata": {},
   "outputs": [],
   "source": [
    "corr_img = nib.load('/home/bic/fmorys/neuromaps-data/annotations/rosaneto/abp688/MNI152/source-rosaneto_desc-abp688_space-MNI152_res-1mm_feature.nii.gz')\n",
    "\n",
    "corr_img_data = corr_img.get_fdata()"
   ]
  },
  {
   "cell_type": "markdown",
   "metadata": {},
   "source": [
    "### Create GM mask for multiplying"
   ]
  },
  {
   "cell_type": "code",
   "execution_count": 110,
   "metadata": {},
   "outputs": [],
   "source": [
    "GM_mask = nib.load('/dagher/dagher11/filip/Software/spm12/toolbox/cat12/templates_MNI152NLin2009cAsym/vol0000.nii')\n",
    "\n",
    "GM_mask=processing.resample_from_to(GM_mask, corr_img)\n",
    "GM_mask_data = GM_mask.get_fdata()\n",
    "GM_mask_data[GM_mask_data<=0.8]=0 # threshold at 0.3 - looks like a good GM mask\n",
    "GM_mask_data[GM_mask_data>0.8]=1\n",
    "\n",
    "corr_img_data_masked=np.multiply(GM_mask_data,corr_img_data)"
   ]
  },
  {
   "cell_type": "markdown",
   "metadata": {},
   "source": [
    "### Load and reslice mask to fit correlation image"
   ]
  },
  {
   "cell_type": "code",
   "execution_count": 106,
   "metadata": {},
   "outputs": [],
   "source": [
    "#mask = nib.load('/dagher/dagher9/filip/HCP_DBM_Slvl/rbrainmask_T1_ero.nii')\n",
    "\n",
    "#mask_res=processing.resample_from_to(mask, corr_img)\n",
    "#mask_res_data = mask_res.get_fdata()\n",
    "\n",
    "#corr_img_data_masked=np.multiply(mask_res_data,corr_img_data)"
   ]
  },
  {
   "cell_type": "code",
   "execution_count": 111,
   "metadata": {},
   "outputs": [],
   "source": [
    "corr_img_nonzero = np.argwhere(corr_img_data_masked != 0) # coordinates of non-zero voxels\n",
    "\n",
    "corr_img_vals=list() # Values of non-zero voxels\n",
    "\n",
    "for nonzer in corr_img_nonzero:\n",
    "    corr_img_vals.append(corr_img_data_masked[nonzer[0], nonzer[1], nonzer[2]])\n",
    "    \n",
    "np.savetxt('/dagher/dagher9/filip/img_coords.txt',corr_img_nonzero, delimiter='\\t',fmt='%i')\n",
    "np.savetxt('/dagher/dagher9/filip/img_vals.txt',corr_img_vals, delimiter='\\t',fmt='%f')"
   ]
  },
  {
   "cell_type": "markdown",
   "metadata": {},
   "source": [
    "# Load BMI images, reslice it, mask it, get voxel coords and values"
   ]
  },
  {
   "cell_type": "code",
   "execution_count": 68,
   "metadata": {},
   "outputs": [],
   "source": [
    "BMI_img = nib.load('/dagher/dagher9/filip/HCP_DBM_Slvl/beta_0003.nii')\n",
    "\n",
    "BMI_img_data = BMI_img.get_fdata()"
   ]
  },
  {
   "cell_type": "markdown",
   "metadata": {},
   "source": [
    "### Because there are some zeros within the brain, I am setting them first to 100,  then masking the brain and removing all voxels that are zero, and then setting voxesl = 100 back to zero"
   ]
  },
  {
   "cell_type": "code",
   "execution_count": 69,
   "metadata": {},
   "outputs": [],
   "source": [
    "BMI_res=processing.resample_from_to(BMI_img, corr_img)\n",
    "BMI_res_data = BMI_res.get_fdata()\n",
    "\n",
    "for zer_coord in np.argwhere(BMI_res_data == 0):\n",
    "    BMI_res_data[zer_coord[0], zer_coord[1], zer_coord[2]]=100\n",
    "\n",
    "BMI_masked=np.multiply(BMI_res_data, GM_mask_data)\n",
    "\n",
    "for hundred_coord in np.argwhere(BMI_masked == 100):\n",
    "    BMI_masked[hundred_coord[0], hundred_coord[1], hundred_coord[2]]=0"
   ]
  },
  {
   "cell_type": "code",
   "execution_count": 70,
   "metadata": {},
   "outputs": [],
   "source": [
    "BMI_nonzero = np.argwhere(BMI_masked != 0) # coordinates of non-zero voxels\n",
    "\n",
    "BMI_vals=list() # Values of non-zero voxels\n",
    "\n",
    "for nonzer in BMI_nonzero:\n",
    "    BMI_vals.append(BMI_masked[nonzer[0], nonzer[1], nonzer[2]])\n",
    "    \n",
    "np.savetxt('/dagher/dagher11/filip/Obesity_maps/data/BMI_coords.txt',BMI_nonzero, delimiter='\\t',fmt='%f')\n",
    "np.savetxt('/dagher/dagher11/filip/Obesity_maps/data/BMI_vals.txt',BMI_vals, delimiter='\\t',fmt='%f')"
   ]
  },
  {
   "cell_type": "markdown",
   "metadata": {},
   "source": [
    "# Brainsmash"
   ]
  },
  {
   "cell_type": "code",
   "execution_count": 112,
   "metadata": {
    "scrolled": true
   },
   "outputs": [
    {
     "name": "stdout",
     "output_type": "stream",
     "text": [
      "loading voxels coordinates from /dagher/dagher9/filip/img_coords.txt\n",
      "file contains 98167 voxels\n",
      "saving memory-mapped distance matrix files to /dagher/dagher9/filip/\n",
      "/dagher/dagher9/filip/distmat.npy\n",
      "/dagher/dagher9/filip/index.npy\n",
      "98167\n"
     ]
    },
    {
     "ename": "KeyboardInterrupt",
     "evalue": "",
     "output_type": "error",
     "traceback": [
      "\u001b[0;31m---------------------------------------------------------------------------\u001b[0m",
      "\u001b[0;31mKeyboardInterrupt\u001b[0m                         Traceback (most recent call last)",
      "\u001b[0;32m/tmp/ipykernel_11041/4151306717.py\u001b[0m in \u001b[0;36m<module>\u001b[0;34m\u001b[0m\n\u001b[1;32m      5\u001b[0m \u001b[0moutput_dir\u001b[0m \u001b[0;34m=\u001b[0m \u001b[0;34m\"/dagher/dagher9/filip/\"\u001b[0m\u001b[0;34m\u001b[0m\u001b[0;34m\u001b[0m\u001b[0m\n\u001b[1;32m      6\u001b[0m \u001b[0;34m\u001b[0m\u001b[0m\n\u001b[0;32m----> 7\u001b[0;31m \u001b[0mfilenames\u001b[0m \u001b[0;34m=\u001b[0m \u001b[0mvolume\u001b[0m\u001b[0;34m(\u001b[0m\u001b[0mcoord_file\u001b[0m\u001b[0;34m,\u001b[0m \u001b[0moutput_dir\u001b[0m\u001b[0;34m)\u001b[0m\u001b[0;34m\u001b[0m\u001b[0;34m\u001b[0m\u001b[0m\n\u001b[0m",
      "\u001b[0;32m/dagher/dagher11/filip/Software/miniconda/envs/brainsmash/lib/python3.7/site-packages/brainsmash/workbench/geo.py\u001b[0m in \u001b[0;36mvolume\u001b[0;34m(coord_file, outdir, chunk_size)\u001b[0m\n\u001b[1;32m    485\u001b[0m         \u001b[0mfpi\u001b[0m\u001b[0;34m[\u001b[0m\u001b[0mi\u001b[0m\u001b[0;34m:\u001b[0m\u001b[0mj\u001b[0m\u001b[0;34m]\u001b[0m \u001b[0;34m=\u001b[0m \u001b[0msort_idx\u001b[0m  \u001b[0;31m# indices used to sort each row\u001b[0m\u001b[0;34m\u001b[0m\u001b[0;34m\u001b[0m\u001b[0m\n\u001b[1;32m    486\u001b[0m         \u001b[0mi\u001b[0m \u001b[0;34m+=\u001b[0m \u001b[0mchunk_size\u001b[0m\u001b[0;34m\u001b[0m\u001b[0;34m\u001b[0m\u001b[0m\n\u001b[0;32m--> 487\u001b[0;31m \u001b[0;34m\u001b[0m\u001b[0m\n\u001b[0m\u001b[1;32m    488\u001b[0m     \u001b[0;32mdel\u001b[0m \u001b[0mfpd\u001b[0m  \u001b[0;31m# Flush memory changes to disk\u001b[0m\u001b[0;34m\u001b[0m\u001b[0;34m\u001b[0m\u001b[0m\n\u001b[1;32m    489\u001b[0m     \u001b[0;32mdel\u001b[0m \u001b[0mfpi\u001b[0m\u001b[0;34m\u001b[0m\u001b[0;34m\u001b[0m\u001b[0m\n",
      "\u001b[0;31mKeyboardInterrupt\u001b[0m: "
     ]
    }
   ],
   "source": [
    "from brainsmash.workbench.geo import volume\n",
    "#reload(brainsmash.workbench.geo)\n",
    "\n",
    "coord_file = \"/dagher/dagher9/filip/img_coords.txt\"\n",
    "output_dir = \"/dagher/dagher9/filip/\"\n",
    "\n",
    "filenames = volume(coord_file, output_dir)"
   ]
  },
  {
   "cell_type": "code",
   "execution_count": null,
   "metadata": {},
   "outputs": [],
   "source": [
    "from brainsmash.mapgen.eval import sampled_fit\n",
    "\n",
    "brain_map = \"/some_path_to/brain_map.txt\"\n",
    "\n",
    "# These are three of the key parameters affecting the variogram fit\n",
    "kwargs = {'ns': 500,\n",
    "          'knn': 1500,\n",
    "          'pv': 70\n",
    "          }\n",
    "\n",
    "# Running this command will generate a matplotlib figure\n",
    "sampled_fit(brain_map, filenames['D'], filenames['index'], nsurr=10, **kwargs)"
   ]
  },
  {
   "cell_type": "code",
   "execution_count": null,
   "metadata": {},
   "outputs": [],
   "source": [
    "from brainsmash.mapgen.sampled import Sampled\n",
    "\n",
    "gen = Sampled(x=brain_map, D=filenames['D'], index=filenames['index'], **kwargs)\n",
    "surrogate_maps = gen(n=1000)"
   ]
  },
  {
   "cell_type": "markdown",
   "metadata": {},
   "source": [
    "## Sanity check plots"
   ]
  },
  {
   "cell_type": "code",
   "execution_count": 113,
   "metadata": {},
   "outputs": [
    {
     "data": {
      "image/png": "[encoded data removed]",
      "text/plain": [
       "<Figure size 432x288 with 3 Axes>"
      ]
     },
     "metadata": {
      "needs_background": "light"
     },
     "output_type": "display_data"
    }
   ],
   "source": [
    "show_slices([corr_img_data_masked[51, :, :],\n",
    "\n",
    "             corr_img_data_masked[:, 82, :],\n",
    "\n",
    "             corr_img_data_masked[:, :, 54]])"
   ]
  },
  {
   "cell_type": "code",
   "execution_count": 114,
   "metadata": {},
   "outputs": [
    {
     "data": {
      "image/png": "[encoded data removed]",
      "text/plain": [
       "<Figure size 432x288 with 3 Axes>"
      ]
     },
     "metadata": {
      "needs_background": "light"
     },
     "output_type": "display_data"
    }
   ],
   "source": [
    "show_slices([GM_mask_data[51, :, :],\n",
    "\n",
    "             GM_mask_data[:, 82, :],\n",
    "\n",
    "             GM_mask_data[:, :, 54]])"
   ]
  },
  {
   "cell_type": "code",
   "execution_count": null,
   "metadata": {},
   "outputs": [],
   "source": []
  }
 ],
 "metadata": {
  "kernelspec": {
   "display_name": "Python 3 (ipykernel)",
   "language": "python",
   "name": "python3"
  },
  "language_info": {
   "codemirror_mode": {
    "name": "ipython",
    "version": 3
   },
   "file_extension": ".py",
   "mimetype": "text/x-python",
   "name": "python",
   "nbconvert_exporter": "python",
   "pygments_lexer": "ipython3",
   "version": "3.11.4"
  }
 },
 "nbformat": 4,
 "nbformat_minor": 4
}
